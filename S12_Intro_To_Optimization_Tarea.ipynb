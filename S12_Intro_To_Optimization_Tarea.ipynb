{
 "cells": [
  {
   "cell_type": "markdown",
   "id": "e94c1246",
   "metadata": {
    "id": "e94c1246"
   },
   "source": [
    "# Introduction to Optimization for Decision Making\n"
   ]
  },
  {
   "cell_type": "markdown",
   "id": "wHfFlOtTRPeW",
   "metadata": {
    "id": "wHfFlOtTRPeW"
   },
   "source": [
    "**Integrantes**:\n",
    "\n",
    "- **Joel B. Huamani Ccallocunto - 20196510**\n",
    "- **Luis E. Valverde Ramos - 20191930**\n"
   ]
  },
  {
   "cell_type": "code",
   "execution_count": 1,
   "id": "4e38af10",
   "metadata": {
    "colab": {
     "base_uri": "https://localhost:8080/",
     "height": 590
    },
    "id": "4e38af10",
    "outputId": "b5a98927-4fd6-4b53-c5d4-15a9cedbad8d",
    "scrolled": true
   },
   "outputs": [
    {
     "data": {
      "text/html": [
       "<iframe src=\"https://docs.google.com/presentation/d/e/2PACX-1vQHq0p2eTmxRWJjDmo1mUmdarYgIrEew4ieiVbIGQy-D_CyBw5rbbRUlRxwLKKaVQpRV9Hs8MGnz0X2/embed?start=false&loop=false&delayms=3000\" frameborder=\"0\" width=\"960\" height=\"569\" allowfullscreen=\"true\" mozallowfullscreen=\"true\" webkitallowfullscreen=\"true\"></iframe>\n"
      ],
      "text/plain": [
       "<IPython.core.display.HTML object>"
      ]
     },
     "metadata": {},
     "output_type": "display_data"
    }
   ],
   "source": [
    "%%html\n",
    "<iframe src=\"https://docs.google.com/presentation/d/e/2PACX-1vQHq0p2eTmxRWJjDmo1mUmdarYgIrEew4ieiVbIGQy-D_CyBw5rbbRUlRxwLKKaVQpRV9Hs8MGnz0X2/embed?start=false&loop=false&delayms=3000\" frameborder=\"0\" width=\"960\" height=\"569\" allowfullscreen=\"true\" mozallowfullscreen=\"true\" webkitallowfullscreen=\"true\"></iframe>"
   ]
  },
  {
   "cell_type": "markdown",
   "id": "869a5ade-2e6f-4ccd-8fd6-b4f276cff22f",
   "metadata": {
    "id": "869a5ade-2e6f-4ccd-8fd6-b4f276cff22f"
   },
   "source": [
    "# Part 1: Maximization/Minimization"
   ]
  },
  {
   "cell_type": "markdown",
   "id": "9c025230-ed6e-40b1-ae5c-03bed5c5c0b7",
   "metadata": {
    "id": "9c025230-ed6e-40b1-ae5c-03bed5c5c0b7"
   },
   "source": [
    "<div class=\"alert-success\">\n",
    "\n",
    "## <strong>Exercise 1.1: The diet problem</strong>"
   ]
  },
  {
   "cell_type": "code",
   "execution_count": 2,
   "id": "a7e1cb7a",
   "metadata": {
    "colab": {
     "base_uri": "https://localhost:8080/",
     "height": 590
    },
    "id": "a7e1cb7a",
    "outputId": "4c9e6c4d-98d3-4317-c412-aebb87376f0a"
   },
   "outputs": [
    {
     "data": {
      "text/html": [
       "<iframe src=\"https://docs.google.com/presentation/d/e/2PACX-1vTSq9X74urGAB_5n_MIJ9ZGIboKSvBdokVTBXVLh_qqZnmLRTJioOF431Rzys3Qi9UaFwWXjeq6Wmd5/embed?start=false&loop=false&delayms=3000\" frameborder=\"0\" width=\"960\" height=\"569\" allowfullscreen=\"true\" mozallowfullscreen=\"true\" webkitallowfullscreen=\"true\"></iframe>\n"
      ],
      "text/plain": [
       "<IPython.core.display.HTML object>"
      ]
     },
     "metadata": {},
     "output_type": "display_data"
    }
   ],
   "source": [
    "%%html\n",
    "<iframe src=\"https://docs.google.com/presentation/d/e/2PACX-1vTSq9X74urGAB_5n_MIJ9ZGIboKSvBdokVTBXVLh_qqZnmLRTJioOF431Rzys3Qi9UaFwWXjeq6Wmd5/embed?start=false&loop=false&delayms=3000\" frameborder=\"0\" width=\"960\" height=\"569\" allowfullscreen=\"true\" mozallowfullscreen=\"true\" webkitallowfullscreen=\"true\"></iframe>"
   ]
  },
  {
   "cell_type": "markdown",
   "id": "1f02e23b",
   "metadata": {
    "id": "1f02e23b"
   },
   "source": [
    "Please, go to your _environment_ in Anacoda Navigator to install **glpk** and **pulp**  before runing the codes below.\n",
    "Then, call the library:"
   ]
  },
  {
   "cell_type": "code",
   "execution_count": 3,
   "id": "2d2e3d99-7100-4941-aad8-57b178798e94",
   "metadata": {
    "colab": {
     "base_uri": "https://localhost:8080/"
    },
    "id": "2d2e3d99-7100-4941-aad8-57b178798e94",
    "outputId": "d9129f0d-2d80-409e-8083-ef86ae477b2b"
   },
   "outputs": [
    {
     "name": "stdout",
     "output_type": "stream",
     "text": [
      "\u001b[33mWARNING: Package(s) not found: glpk\u001b[0m\u001b[33m\n",
      "\u001b[0mName: PuLP\n",
      "Version: 2.9.0\n",
      "Summary: PuLP is an LP modeler written in python. PuLP can generate MPS or LP files and call GLPK, COIN CLP/CBC, CPLEX, and GUROBI to solve linear problems.\n",
      "Home-page: https://github.com/coin-or/pulp\n",
      "Author: J.S. Roy and S.A. Mitchell and F. Peschiera\n",
      "Author-email: pulp@stuartmitchell.com\n",
      "License: \n",
      "Location: /usr/local/lib/python3.10/dist-packages\n",
      "Requires: \n",
      "Required-by: \n",
      "Requirement already satisfied: pulp in /usr/local/lib/python3.10/dist-packages (2.9.0)\n"
     ]
    }
   ],
   "source": [
    "#!pip show glpk pulp\n",
    "#!pip install glpk pulp\n",
    "#!pip install pulp"
   ]
  },
  {
   "cell_type": "code",
   "execution_count": 4,
   "id": "a105dc9b-d105-49d3-8093-96d03eca9530",
   "metadata": {
    "id": "a105dc9b-d105-49d3-8093-96d03eca9530"
   },
   "outputs": [],
   "source": [
    "import pulp as pp"
   ]
  },
  {
   "cell_type": "markdown",
   "id": "dd461c8a-8a20-4a93-aa9e-2b46c1deaf52",
   "metadata": {
    "id": "dd461c8a-8a20-4a93-aa9e-2b46c1deaf52"
   },
   "source": [
    "1. **Initialize the MODEL**: just write the name and declare if it is maximization or minimization problem type."
   ]
  },
  {
   "cell_type": "code",
   "execution_count": 5,
   "id": "4436e0c7",
   "metadata": {
    "id": "4436e0c7"
   },
   "outputs": [],
   "source": [
    "model = pp.LpProblem(name='diet-problem', # just the name\n",
    "                     sense=pp.LpMinimize) # type of problem"
   ]
  },
  {
   "cell_type": "markdown",
   "id": "c001fd3a-190b-45d8-9fa3-c3e21578fa03",
   "metadata": {
    "id": "c001fd3a-190b-45d8-9fa3-c3e21578fa03"
   },
   "source": [
    "2. **Declare the VARIABLES**: The refinery model consists of these _variables_:"
   ]
  },
  {
   "cell_type": "code",
   "execution_count": 6,
   "id": "8533e838-9e02-4ca8-85ef-de557cb1dd7c",
   "metadata": {
    "id": "8533e838-9e02-4ca8-85ef-de557cb1dd7c"
   },
   "outputs": [],
   "source": [
    "VegaVita = pp.LpVariable(name=\"VegaVita\", lowBound=0, cat='Continuous')\n",
    "\n",
    "HappyHealth = pp.LpVariable(name=\"HappyHealth\", lowBound=0, cat='Continuous')"
   ]
  },
  {
   "cell_type": "code",
   "execution_count": 7,
   "id": "exhE0OYSUKx_",
   "metadata": {
    "id": "exhE0OYSUKx_"
   },
   "outputs": [],
   "source": [
    "VegaVitaCost = 0.2\n",
    "HappyHealthCost = 0.3\n",
    "# Función objetivo: minimizar el costo\n",
    "model += VegaVitaCost * VegaVita + HappyHealthCost * HappyHealth, \"TotalCost\""
   ]
  },
  {
   "cell_type": "markdown",
   "id": "611438aa-54e1-4cdd-aa77-44702feb498a",
   "metadata": {
    "id": "611438aa-54e1-4cdd-aa77-44702feb498a"
   },
   "source": [
    "3. **Create function to OPTIMIZE**: The function is just the linear combination of the variables and their _given coefficients__:"
   ]
  },
  {
   "cell_type": "code",
   "execution_count": 8,
   "id": "e676c256-353d-4fbd-a206-6914f29ff8ba",
   "metadata": {
    "id": "e676c256-353d-4fbd-a206-6914f29ff8ba"
   },
   "outputs": [],
   "source": [
    "# Restricciones de requerimientos nutricionales\n",
    "model += 20 * VegaVita + 30 * HappyHealth >= 60, \"Vitamin_C_Requirement\"\n",
    "model += 500 * VegaVita + 250 * HappyHealth >= 1000, \"Calcium_Requirement\"\n",
    "model += 9 * VegaVita + 2 * HappyHealth >= 18, \"Iron_Requirement\"\n",
    "model += 2 * VegaVita + 10 * HappyHealth >= 20, \"Niacin_Requirement\"\n",
    "model += 60 * VegaVita + 90 * HappyHealth >= 360, \"Magnesium_Requirement\""
   ]
  },
  {
   "cell_type": "code",
   "execution_count": 9,
   "id": "je3bXUthPf-c",
   "metadata": {
    "id": "je3bXUthPf-c"
   },
   "outputs": [],
   "source": [
    "#solverToUse = pp.COIN_CMD(msg=False)\n",
    "model.solve();"
   ]
  },
  {
   "cell_type": "code",
   "execution_count": 10,
   "id": "nvH33U8gPhZO",
   "metadata": {
    "id": "nvH33U8gPhZO"
   },
   "outputs": [],
   "source": [
    "import pandas as pd\n",
    "\n",
    "Results = {\n",
    "    \"Model Status\": pp.LpStatus[model.status],\n",
    "    \"Optimal Solution\": pp.value(model.objective),\n",
    "    \"VegaVita\": VegaVita.varValue,\n",
    "    \"HappyHealth\": HappyHealth.varValue\n",
    "}"
   ]
  },
  {
   "cell_type": "code",
   "execution_count": 11,
   "id": "8I7YiFNEPi8U",
   "metadata": {
    "colab": {
     "base_uri": "https://localhost:8080/",
     "height": 112
    },
    "id": "8I7YiFNEPi8U",
    "outputId": "1258059b-03e9-4aec-bc4d-a58ce83f8db1"
   },
   "outputs": [
    {
     "data": {
      "text/html": [
       "<style type=\"text/css\">\n",
       "</style>\n",
       "<table id=\"T_0a4a8\" class=\"dataframe\">\n",
       "  <thead>\n",
       "    <tr>\n",
       "      <th class=\"blank level0\" >&nbsp;</th>\n",
       "      <th id=\"T_0a4a8_level0_col0\" class=\"col_heading level0 col0\" >Optimal Solution</th>\n",
       "      <th id=\"T_0a4a8_level0_col1\" class=\"col_heading level0 col1\" >VegaVita</th>\n",
       "      <th id=\"T_0a4a8_level0_col2\" class=\"col_heading level0 col2\" >HappyHealth</th>\n",
       "    </tr>\n",
       "    <tr>\n",
       "      <th class=\"index_name level0\" >Model Status</th>\n",
       "      <th class=\"blank col0\" >&nbsp;</th>\n",
       "      <th class=\"blank col1\" >&nbsp;</th>\n",
       "      <th class=\"blank col2\" >&nbsp;</th>\n",
       "    </tr>\n",
       "  </thead>\n",
       "  <tbody>\n",
       "    <tr>\n",
       "      <th id=\"T_0a4a8_level0_row0\" class=\"row_heading level0 row0\" >Optimal</th>\n",
       "      <td id=\"T_0a4a8_row0_col0\" class=\"data row0 col0\" >1.20</td>\n",
       "      <td id=\"T_0a4a8_row0_col1\" class=\"data row0 col1\" >1.30</td>\n",
       "      <td id=\"T_0a4a8_row0_col2\" class=\"data row0 col2\" >3.13</td>\n",
       "    </tr>\n",
       "  </tbody>\n",
       "</table>\n"
      ],
      "text/plain": [
       "<pandas.io.formats.style.Styler at 0x7a868817cc70>"
      ]
     },
     "execution_count": 11,
     "metadata": {},
     "output_type": "execute_result"
    }
   ],
   "source": [
    "df_results = pd.DataFrame.from_dict(Results, orient='index').T.set_index('Model Status')\n",
    "df_results.style.format('{:.2f}')"
   ]
  },
  {
   "cell_type": "markdown",
   "id": "xGnv4-FZU6AI",
   "metadata": {
    "id": "xGnv4-FZU6AI"
   },
   "source": [
    "### Interpretación de los resultados:\n",
    "\n",
    "El problema planteado es un **problema de dieta** en el que se busca minimizar el costo total de dos alimentos, **VegaVita** y **HappyHealth**, mientras se cumplen ciertos requisitos nutricionales relacionados con vitaminas, calcio, hierro, niacina y magnesio.\n",
    "\n",
    "Con los resultados obtenidos del modelo de optimización, tenemos lo siguiente:\n",
    "\n",
    "- **Solución Óptima**: El costo total de la dieta óptima, es decir, la mínima cantidad de dinero necesario para satisfacer todos los requerimientos nutricionales, es **3.13 unidades** (el valor exacto depende de las unidades del problema, pero aquí se asume que es el costo mínimo basado en las variables de las decisiones, VegaVita y HappyHealth).\n",
    "  \n",
    "- **VegaVita**: Para alcanzar la solución óptima, se debe consumir **1.20 unidades** de **VegaVita**.\n",
    "  \n",
    "- **HappyHealth**: Para alcanzar la solución óptima, se debe consumir **1.30 unidades** de **HappyHealth**.\n",
    "\n",
    "### Conclusiones:\n",
    "\n",
    "- Para **satisfacer todos los requerimientos nutricionales** de la dieta de manera óptima, el modelo sugiere consumir **1.20 unidades de VegaVita** y **1.30 unidades de HappyHealth**.\n",
    "- El costo total mínimo de esta combinación es **3.13 unidades**.\n",
    "\n",
    "Este tipo de análisis es útil para la planificación de dietas balanceadas donde el objetivo es optimizar costos manteniendo la nutrición necesaria."
   ]
  },
  {
   "cell_type": "markdown",
   "id": "133cfdf8-a6f4-418b-83dd-785735310f65",
   "metadata": {
    "id": "133cfdf8-a6f4-418b-83dd-785735310f65"
   },
   "source": [
    "<div class=\"alert-success\">\n",
    "\n",
    "## <strong>Exercise 1.2: The scheduling problem</strong>"
   ]
  },
  {
   "cell_type": "code",
   "execution_count": 53,
   "id": "13f944ca-ef56-46e8-88f7-2b08141c2208",
   "metadata": {
    "colab": {
     "base_uri": "https://localhost:8080/",
     "height": 590
    },
    "id": "13f944ca-ef56-46e8-88f7-2b08141c2208",
    "outputId": "92712fbd-45c1-427e-8d12-a0d64f347831"
   },
   "outputs": [
    {
     "data": {
      "text/html": [
       "<iframe src=\"https://docs.google.com/presentation/d/e/2PACX-1vQtBRpIr6Hx1_T0zJ3_DRqsE82YUjx7ZkeEKLdA64fbjtjkmc6Ibf6ebzp6CY69D482IGpG2h9GcsC5/embed?start=false&loop=false&delayms=3000\" frameborder=\"0\" width=\"960\" height=\"569\" allowfullscreen=\"true\" mozallowfullscreen=\"true\" webkitallowfullscreen=\"true\"></iframe>\n"
      ],
      "text/plain": [
       "<IPython.core.display.HTML object>"
      ]
     },
     "metadata": {},
     "output_type": "display_data"
    }
   ],
   "source": [
    "%%html\n",
    "<iframe src=\"https://docs.google.com/presentation/d/e/2PACX-1vQtBRpIr6Hx1_T0zJ3_DRqsE82YUjx7ZkeEKLdA64fbjtjkmc6Ibf6ebzp6CY69D482IGpG2h9GcsC5/embed?start=false&loop=false&delayms=3000\" frameborder=\"0\" width=\"960\" height=\"569\" allowfullscreen=\"true\" mozallowfullscreen=\"true\" webkitallowfullscreen=\"true\"></iframe>"
   ]
  },
  {
   "cell_type": "code",
   "execution_count": 71,
   "id": "pc0jUNk-6-GZ",
   "metadata": {
    "id": "pc0jUNk-6-GZ"
   },
   "outputs": [],
   "source": [
    "# Importar la biblioteca PuLP\n",
    "import pulp as pp\n",
    "import pandas as pd"
   ]
  },
  {
   "cell_type": "code",
   "execution_count": 72,
   "id": "8g7Piqiw6-CY",
   "metadata": {
    "id": "8g7Piqiw6-CY"
   },
   "outputs": [],
   "source": [
    "# Crear el modelo de optimización\n",
    "model = pp.LpProblem(name='scheduling-problem', sense=pp.LpMinimize)"
   ]
  },
  {
   "cell_type": "code",
   "execution_count": 73,
   "id": "gWwf77_h6-AH",
   "metadata": {
    "id": "gWwf77_h6-AH"
   },
   "outputs": [],
   "source": [
    "# Variables de decisión: cantidad de conductores en cada turno\n",
    "DR_0_8 = pp.LpVariable(name=\"DR_0_8\", lowBound=0, cat=\"Integer\")\n",
    "DR_4_12 = pp.LpVariable(name=\"DR_4_12\", lowBound=0, cat=\"Integer\")\n",
    "DR_8_16 = pp.LpVariable(name=\"DR_8_16\", lowBound=0, cat=\"Integer\")\n",
    "DR_12_20 = pp.LpVariable(name=\"DR_12_20\", lowBound=0, cat=\"Integer\")\n",
    "DR_16_0 = pp.LpVariable(name=\"DR_16_0\", lowBound=0, cat=\"Integer\")\n",
    "DR_20_4 = pp.LpVariable(name=\"DR_20_4\", lowBound=0, cat=\"Integer\")"
   ]
  },
  {
   "cell_type": "code",
   "execution_count": 75,
   "id": "Mnx0HL28699-",
   "metadata": {
    "id": "Mnx0HL28699-"
   },
   "outputs": [],
   "source": [
    "# Función objetivo: minimizar el número total de conductores\n",
    "model += (\n",
    "    DR_0_8 + DR_4_12 + DR_8_16 + DR_12_20 + DR_16_0 + DR_20_4,\n",
    "    \"Total Drivers\"\n",
    ")"
   ]
  },
  {
   "cell_type": "code",
   "execution_count": 76,
   "id": "Qb7fmVde697c",
   "metadata": {
    "id": "Qb7fmVde697c"
   },
   "outputs": [],
   "source": [
    "# Restricciones de demanda por cada franja horaria\n",
    "model += (DR_0_8 + DR_20_4 >= 4, \"Demand_0_4\")\n",
    "model += (DR_0_8 + DR_4_12 >= 8, \"Demand_4_8\")\n",
    "model += (DR_4_12 + DR_8_16 >= 10, \"Demand_8_12\")\n",
    "model += (DR_8_16 + DR_12_20 >= 7, \"Demand_12_16\")\n",
    "model += (DR_12_20 + DR_16_0 >= 12, \"Demand_16_20\")\n",
    "model += (DR_16_0 + DR_20_4 >= 4, \"Demand_20_0\")"
   ]
  },
  {
   "cell_type": "code",
   "execution_count": 77,
   "id": "7IELUBeG695m",
   "metadata": {
    "colab": {
     "base_uri": "https://localhost:8080/"
    },
    "id": "7IELUBeG695m",
    "outputId": "0650a8eb-4d88-4688-fb25-82781857dcde"
   },
   "outputs": [
    {
     "data": {
      "text/plain": [
       "1"
      ]
     },
     "execution_count": 77,
     "metadata": {},
     "output_type": "execute_result"
    }
   ],
   "source": [
    "# Resolver el modelo\n",
    "solver = pp.PULP_CBC_CMD()  # Solver por defecto de PuLP\n",
    "model.solve(solver)"
   ]
  },
  {
   "cell_type": "code",
   "execution_count": 78,
   "id": "jP4EttDE693h",
   "metadata": {
    "id": "jP4EttDE693h"
   },
   "outputs": [],
   "source": [
    "# Extraer resultados\n",
    "results = {\n",
    "    \"Model Status\": pp.LpStatus[model.status],\n",
    "    \"Objective Value\": pp.value(model.objective),\n",
    "    \"DR_0_8\": DR_0_8.varValue,\n",
    "    \"DR_4_12\": DR_4_12.varValue,\n",
    "    \"DR_8_16\": DR_8_16.varValue,\n",
    "    \"DR_12_20\": DR_12_20.varValue,\n",
    "    \"DR_16_0\": DR_16_0.varValue,\n",
    "    \"DR_20_4\": DR_20_4.varValue,\n",
    "}"
   ]
  },
  {
   "cell_type": "code",
   "execution_count": 79,
   "id": "JpLO9Msw691X",
   "metadata": {
    "colab": {
     "base_uri": "https://localhost:8080/"
    },
    "id": "JpLO9Msw691X",
    "outputId": "805dc190-1df7-465f-d983-0d315a56fb40"
   },
   "outputs": [
    {
     "name": "stdout",
     "output_type": "stream",
     "text": [
      "                   Value\n",
      "Model Status     Optimal\n",
      "Objective Value     26.0\n",
      "DR_0_8               0.0\n",
      "DR_4_12             10.0\n",
      "DR_8_16              0.0\n",
      "DR_12_20            12.0\n",
      "DR_16_0              0.0\n",
      "DR_20_4              4.0\n"
     ]
    }
   ],
   "source": [
    "# Crear el DataFrame sin formateo adicional\n",
    "results_df = pd.DataFrame.from_dict(results, orient=\"index\", columns=[\"Value\"])\n",
    "print(results_df)"
   ]
  },
  {
   "cell_type": "markdown",
   "id": "pF6ugOLY8tnz",
   "metadata": {
    "id": "pF6ugOLY8tnz"
   },
   "source": [
    "Los resultados indican la solución óptima del problema de programación para los conductores de autobuses, interpretada de la siguiente manera:\n",
    "\n",
    "### Estado del modelo\n",
    "- **Model Status**: *Optimal*  \n",
    "  Esto significa que se encontró una solución que satisface todas las restricciones y minimiza el número total de conductores contratados.\n",
    "\n",
    "### Valor objetivo\n",
    "- **Objective Value**: *26.0*  \n",
    "  El número total mínimo de conductores necesarios para cubrir la demanda de transporte es **26**.\n",
    "\n",
    "### Asignación de conductores por turno\n",
    "1. **DR_0_8**: *0.0*  \n",
    "   Ningún conductor debe ser asignado al turno de 0:00 a 8:00.\n",
    "\n",
    "2. **DR_4_12**: *10.0*  \n",
    "   Se necesitan **10 conductores** para cubrir el turno de 4:00 a 12:00.\n",
    "\n",
    "3. **DR_8_16**: *0.0*  \n",
    "   Ningún conductor debe ser asignado al turno de 8:00 a 16:00.\n",
    "\n",
    "4. **DR_12_20**: *12.0*  \n",
    "   Se necesitan **12 conductores** para cubrir el turno de 12:00 a 20:00.\n",
    "\n",
    "5. **DR_16_0**: *0.0*  \n",
    "   Ningún conductor debe ser asignado al turno de 16:00 a 0:00.\n",
    "\n",
    "6. **DR_20_4**: *4.0*  \n",
    "   Se necesitan **4 conductores** para cubrir el turno de 20:00 a 4:00.\n",
    "\n",
    "### Conclusión\n",
    "- La demanda histórica de transporte se satisface con la contratación mínima de **26 conductores**.\n",
    "- No se asignan conductores a los turnos de 0:00-8:00, 8:00-16:00 y 16:00-0:00, lo que optimiza la programación al enfocarse en los turnos con mayor demanda: 4:00-12:00, 12:00-20:00 y 20:00-4:00.\n",
    "  \n",
    "Esta solución reduce costos y asegura que haya suficientes conductores para los periodos de mayor demanda, respetando las restricciones del problema."
   ]
  },
  {
   "cell_type": "markdown",
   "id": "2478f1d7-aa1c-4e6c-b404-d7faf01ab371",
   "metadata": {
    "id": "2478f1d7-aa1c-4e6c-b404-d7faf01ab371"
   },
   "source": [
    "# Part 2: Multicriteria Decision-Making"
   ]
  },
  {
   "cell_type": "code",
   "execution_count": 54,
   "id": "4bf5038e-daec-4f81-a2dd-afe31322f7e3",
   "metadata": {
    "colab": {
     "base_uri": "https://localhost:8080/",
     "height": 590
    },
    "id": "4bf5038e-daec-4f81-a2dd-afe31322f7e3",
    "outputId": "f9e474d5-5251-4673-cf8b-d9bc9545c092"
   },
   "outputs": [
    {
     "data": {
      "text/html": [
       "<iframe src=\"https://docs.google.com/presentation/d/e/2PACX-1vR7GL_wF1eKRO0JgEUyIx5cxXUhTQ8ZM4F3AE1MLr7GYG33dwEobrLo6O2MaV2d7Cv47TaTgHghkhrV/embed?start=false&loop=false&delayms=3000\" frameborder=\"0\" width=\"960\" height=\"569\" allowfullscreen=\"true\" mozallowfullscreen=\"true\" webkitallowfullscreen=\"true\"></iframe>\n"
      ],
      "text/plain": [
       "<IPython.core.display.HTML object>"
      ]
     },
     "metadata": {},
     "output_type": "display_data"
    }
   ],
   "source": [
    "%%html\n",
    "<iframe src=\"https://docs.google.com/presentation/d/e/2PACX-1vR7GL_wF1eKRO0JgEUyIx5cxXUhTQ8ZM4F3AE1MLr7GYG33dwEobrLo6O2MaV2d7Cv47TaTgHghkhrV/embed?start=false&loop=false&delayms=3000\" frameborder=\"0\" width=\"960\" height=\"569\" allowfullscreen=\"true\" mozallowfullscreen=\"true\" webkitallowfullscreen=\"true\"></iframe>"
   ]
  },
  {
   "cell_type": "markdown",
   "id": "a0717b92-b145-4499-baad-fa95a1a755cf",
   "metadata": {
    "id": "a0717b92-b145-4499-baad-fa95a1a755cf"
   },
   "source": [
    "1. Prepare data file with the comparissons:"
   ]
  },
  {
   "cell_type": "code",
   "execution_count": 12,
   "id": "227c2b77-cc4e-4437-b7bc-c522b22168d8",
   "metadata": {
    "colab": {
     "base_uri": "https://localhost:8080/",
     "height": 325
    },
    "id": "227c2b77-cc4e-4437-b7bc-c522b22168d8",
    "outputId": "89be93a9-b603-4131-d6fd-43262eb3962e"
   },
   "outputs": [
    {
     "data": {
      "text/html": [
       "\n",
       "<iframe src=\"https://docs.google.com/spreadsheets/d/e/2PACX-1vSeUfh-DtfAAvEecirNS7Qs2qN4npmNfRiw9JvKmRpq88snVc8HJBlru2cyPy8lsQflSxlnx6U-IePw/pubhtml?widget=true&amp;headers=false\" width=\"600\" height=\"300\" ></iframe>\n"
      ],
      "text/plain": [
       "<IPython.core.display.HTML object>"
      ]
     },
     "metadata": {},
     "output_type": "display_data"
    }
   ],
   "source": [
    "%%html\n",
    "\n",
    "<iframe src=\"https://docs.google.com/spreadsheets/d/e/2PACX-1vSeUfh-DtfAAvEecirNS7Qs2qN4npmNfRiw9JvKmRpq88snVc8HJBlru2cyPy8lsQflSxlnx6U-IePw/pubhtml?widget=true&amp;headers=false\" width=\"600\" height=\"300\" ></iframe>"
   ]
  },
  {
   "cell_type": "markdown",
   "id": "b50bc5f6-7d5d-4a90-bf30-ec0cd2e9aaac",
   "metadata": {
    "id": "b50bc5f6-7d5d-4a90-bf30-ec0cd2e9aaac"
   },
   "source": [
    "<div class=\"alert-success\">\n",
    "\n",
    "## <strong>Exercise 2.1: Choosing a country for a Master Program</strong>\n",
    "\n",
    "- Make a group of 4 people from this course.\n",
    "- If you have the criteria: cost of living, language difficulty, possibilities to get a job in that country after studies are finished.\n",
    "- If you have the alternatives: Brazil, Spain, USA, Germany.\n",
    "- Create an AHP model and get the ranking.\n",
    "\n",
    "You can follow this [example](https://en.wikipedia.org/wiki/Analytic_hierarchy_process_%E2%80%93_leader_example).\n",
    "If you have a better idea, you can use it instead."
   ]
  },
  {
   "cell_type": "markdown",
   "id": "52def875-21cf-4270-a9b2-d61aed9fc025",
   "metadata": {
    "id": "52def875-21cf-4270-a9b2-d61aed9fc025"
   },
   "source": [
    "2. Get the data (Excel)"
   ]
  },
  {
   "cell_type": "code",
   "execution_count": 92,
   "id": "fvNPduxnHYDb",
   "metadata": {
    "id": "fvNPduxnHYDb"
   },
   "outputs": [],
   "source": [
    "# the link to the data\n",
    "linkGithub = 'https://github.com/luccemhu/5-TAREA-1INT46-PUCP/raw/refs/heads/main/comparissons.xlsx'  # the link to the data"
   ]
  },
  {
   "cell_type": "markdown",
   "id": "7c73c2ca-2022-42e9-bf24-1559b215d7a9",
   "metadata": {
    "id": "7c73c2ca-2022-42e9-bf24-1559b215d7a9"
   },
   "source": [
    "3. Open each sheet:"
   ]
  },
  {
   "cell_type": "code",
   "execution_count": 93,
   "id": "eb165cc5-95fb-499a-a6f5-9306914d7249",
   "metadata": {
    "id": "eb165cc5-95fb-499a-a6f5-9306914d7249"
   },
   "outputs": [],
   "source": [
    "# opening the comparisons\n",
    "import pandas as pd\n",
    "\n",
    "# Load comparison data for each criterion from the Google Sheets repository\n",
    "pairwise_costo_vida = pd.read_excel(linkGithub, sheet_name='Costo', index_col=0)\n",
    "pairwise_idioma = pd.read_excel(linkGithub, sheet_name='Idioma', index_col=0)\n",
    "pairwise_empleo = pd.read_excel(linkGithub, sheet_name='Empleo', index_col=0)\n",
    "pairwise_criteria = pd.read_excel(linkGithub, sheet_name='Criteria', index_col=0)"
   ]
  },
  {
   "cell_type": "markdown",
   "id": "5f775058-f007-4d9a-8655-98021ef0a1e0",
   "metadata": {
    "id": "5f775058-f007-4d9a-8655-98021ef0a1e0"
   },
   "source": [
    "You may want to check the structure:"
   ]
  },
  {
   "cell_type": "code",
   "execution_count": 94,
   "id": "bb707240-1275-4408-9471-7842c7b43c85",
   "metadata": {
    "colab": {
     "base_uri": "https://localhost:8080/",
     "height": 143
    },
    "id": "bb707240-1275-4408-9471-7842c7b43c85",
    "outputId": "4269d56d-80a8-4388-be16-a09b25989a3c"
   },
   "outputs": [
    {
     "data": {
      "application/vnd.google.colaboratory.intrinsic+json": {
       "summary": "{\n  \"name\": \"pairwise_criteria\",\n  \"rows\": 3,\n  \"fields\": [\n    {\n      \"column\": \"Costo\",\n      \"properties\": {\n        \"dtype\": \"number\",\n        \"std\": 191.91164633757901,\n        \"min\": 0.2,\n        \"max\": 333.0,\n        \"num_unique_values\": 3,\n        \"samples\": [\n          1.0,\n          333.0,\n          0.2\n        ],\n        \"semantic_type\": \"\",\n        \"description\": \"\"\n      }\n    },\n    {\n      \"column\": \"Idioma\",\n      \"properties\": {\n        \"dtype\": \"number\",\n        \"std\": 1.3228756555322954,\n        \"min\": 0.5,\n        \"max\": 3.0,\n        \"num_unique_values\": 3,\n        \"samples\": [\n          3.0,\n          1.0,\n          0.5\n        ],\n        \"semantic_type\": \"\",\n        \"description\": \"\"\n      }\n    },\n    {\n      \"column\": \"Empleo\",\n      \"properties\": {\n        \"dtype\": \"number\",\n        \"std\": 2,\n        \"min\": 1,\n        \"max\": 5,\n        \"num_unique_values\": 3,\n        \"samples\": [\n          5,\n          2,\n          1\n        ],\n        \"semantic_type\": \"\",\n        \"description\": \"\"\n      }\n    }\n  ]\n}",
       "type": "dataframe",
       "variable_name": "pairwise_criteria"
      },
      "text/html": [
       "\n",
       "  <div id=\"df-73d4665d-6ceb-48f7-a89a-8ed9edadfb0d\" class=\"colab-df-container\">\n",
       "    <div>\n",
       "<style scoped>\n",
       "    .dataframe tbody tr th:only-of-type {\n",
       "        vertical-align: middle;\n",
       "    }\n",
       "\n",
       "    .dataframe tbody tr th {\n",
       "        vertical-align: top;\n",
       "    }\n",
       "\n",
       "    .dataframe thead th {\n",
       "        text-align: right;\n",
       "    }\n",
       "</style>\n",
       "<table border=\"1\" class=\"dataframe\">\n",
       "  <thead>\n",
       "    <tr style=\"text-align: right;\">\n",
       "      <th></th>\n",
       "      <th>Costo</th>\n",
       "      <th>Idioma</th>\n",
       "      <th>Empleo</th>\n",
       "    </tr>\n",
       "  </thead>\n",
       "  <tbody>\n",
       "    <tr>\n",
       "      <th>Costo</th>\n",
       "      <td>1.0</td>\n",
       "      <td>3.0</td>\n",
       "      <td>5</td>\n",
       "    </tr>\n",
       "    <tr>\n",
       "      <th>Idioma</th>\n",
       "      <td>333.0</td>\n",
       "      <td>1.0</td>\n",
       "      <td>2</td>\n",
       "    </tr>\n",
       "    <tr>\n",
       "      <th>Empleo</th>\n",
       "      <td>0.2</td>\n",
       "      <td>0.5</td>\n",
       "      <td>1</td>\n",
       "    </tr>\n",
       "  </tbody>\n",
       "</table>\n",
       "</div>\n",
       "    <div class=\"colab-df-buttons\">\n",
       "\n",
       "  <div class=\"colab-df-container\">\n",
       "    <button class=\"colab-df-convert\" onclick=\"convertToInteractive('df-73d4665d-6ceb-48f7-a89a-8ed9edadfb0d')\"\n",
       "            title=\"Convert this dataframe to an interactive table.\"\n",
       "            style=\"display:none;\">\n",
       "\n",
       "  <svg xmlns=\"http://www.w3.org/2000/svg\" height=\"24px\" viewBox=\"0 -960 960 960\">\n",
       "    <path d=\"M120-120v-720h720v720H120Zm60-500h600v-160H180v160Zm220 220h160v-160H400v160Zm0 220h160v-160H400v160ZM180-400h160v-160H180v160Zm440 0h160v-160H620v160ZM180-180h160v-160H180v160Zm440 0h160v-160H620v160Z\"/>\n",
       "  </svg>\n",
       "    </button>\n",
       "\n",
       "  <style>\n",
       "    .colab-df-container {\n",
       "      display:flex;\n",
       "      gap: 12px;\n",
       "    }\n",
       "\n",
       "    .colab-df-convert {\n",
       "      background-color: #E8F0FE;\n",
       "      border: none;\n",
       "      border-radius: 50%;\n",
       "      cursor: pointer;\n",
       "      display: none;\n",
       "      fill: #1967D2;\n",
       "      height: 32px;\n",
       "      padding: 0 0 0 0;\n",
       "      width: 32px;\n",
       "    }\n",
       "\n",
       "    .colab-df-convert:hover {\n",
       "      background-color: #E2EBFA;\n",
       "      box-shadow: 0px 1px 2px rgba(60, 64, 67, 0.3), 0px 1px 3px 1px rgba(60, 64, 67, 0.15);\n",
       "      fill: #174EA6;\n",
       "    }\n",
       "\n",
       "    .colab-df-buttons div {\n",
       "      margin-bottom: 4px;\n",
       "    }\n",
       "\n",
       "    [theme=dark] .colab-df-convert {\n",
       "      background-color: #3B4455;\n",
       "      fill: #D2E3FC;\n",
       "    }\n",
       "\n",
       "    [theme=dark] .colab-df-convert:hover {\n",
       "      background-color: #434B5C;\n",
       "      box-shadow: 0px 1px 3px 1px rgba(0, 0, 0, 0.15);\n",
       "      filter: drop-shadow(0px 1px 2px rgba(0, 0, 0, 0.3));\n",
       "      fill: #FFFFFF;\n",
       "    }\n",
       "  </style>\n",
       "\n",
       "    <script>\n",
       "      const buttonEl =\n",
       "        document.querySelector('#df-73d4665d-6ceb-48f7-a89a-8ed9edadfb0d button.colab-df-convert');\n",
       "      buttonEl.style.display =\n",
       "        google.colab.kernel.accessAllowed ? 'block' : 'none';\n",
       "\n",
       "      async function convertToInteractive(key) {\n",
       "        const element = document.querySelector('#df-73d4665d-6ceb-48f7-a89a-8ed9edadfb0d');\n",
       "        const dataTable =\n",
       "          await google.colab.kernel.invokeFunction('convertToInteractive',\n",
       "                                                    [key], {});\n",
       "        if (!dataTable) return;\n",
       "\n",
       "        const docLinkHtml = 'Like what you see? Visit the ' +\n",
       "          '<a target=\"_blank\" href=https://colab.research.google.com/notebooks/data_table.ipynb>data table notebook</a>'\n",
       "          + ' to learn more about interactive tables.';\n",
       "        element.innerHTML = '';\n",
       "        dataTable['output_type'] = 'display_data';\n",
       "        await google.colab.output.renderOutput(dataTable, element);\n",
       "        const docLink = document.createElement('div');\n",
       "        docLink.innerHTML = docLinkHtml;\n",
       "        element.appendChild(docLink);\n",
       "      }\n",
       "    </script>\n",
       "  </div>\n",
       "\n",
       "\n",
       "<div id=\"df-7f3a4552-dfe2-43ca-8bb2-e175a1a5b675\">\n",
       "  <button class=\"colab-df-quickchart\" onclick=\"quickchart('df-7f3a4552-dfe2-43ca-8bb2-e175a1a5b675')\"\n",
       "            title=\"Suggest charts\"\n",
       "            style=\"display:none;\">\n",
       "\n",
       "<svg xmlns=\"http://www.w3.org/2000/svg\" height=\"24px\"viewBox=\"0 0 24 24\"\n",
       "     width=\"24px\">\n",
       "    <g>\n",
       "        <path d=\"M19 3H5c-1.1 0-2 .9-2 2v14c0 1.1.9 2 2 2h14c1.1 0 2-.9 2-2V5c0-1.1-.9-2-2-2zM9 17H7v-7h2v7zm4 0h-2V7h2v10zm4 0h-2v-4h2v4z\"/>\n",
       "    </g>\n",
       "</svg>\n",
       "  </button>\n",
       "\n",
       "<style>\n",
       "  .colab-df-quickchart {\n",
       "      --bg-color: #E8F0FE;\n",
       "      --fill-color: #1967D2;\n",
       "      --hover-bg-color: #E2EBFA;\n",
       "      --hover-fill-color: #174EA6;\n",
       "      --disabled-fill-color: #AAA;\n",
       "      --disabled-bg-color: #DDD;\n",
       "  }\n",
       "\n",
       "  [theme=dark] .colab-df-quickchart {\n",
       "      --bg-color: #3B4455;\n",
       "      --fill-color: #D2E3FC;\n",
       "      --hover-bg-color: #434B5C;\n",
       "      --hover-fill-color: #FFFFFF;\n",
       "      --disabled-bg-color: #3B4455;\n",
       "      --disabled-fill-color: #666;\n",
       "  }\n",
       "\n",
       "  .colab-df-quickchart {\n",
       "    background-color: var(--bg-color);\n",
       "    border: none;\n",
       "    border-radius: 50%;\n",
       "    cursor: pointer;\n",
       "    display: none;\n",
       "    fill: var(--fill-color);\n",
       "    height: 32px;\n",
       "    padding: 0;\n",
       "    width: 32px;\n",
       "  }\n",
       "\n",
       "  .colab-df-quickchart:hover {\n",
       "    background-color: var(--hover-bg-color);\n",
       "    box-shadow: 0 1px 2px rgba(60, 64, 67, 0.3), 0 1px 3px 1px rgba(60, 64, 67, 0.15);\n",
       "    fill: var(--button-hover-fill-color);\n",
       "  }\n",
       "\n",
       "  .colab-df-quickchart-complete:disabled,\n",
       "  .colab-df-quickchart-complete:disabled:hover {\n",
       "    background-color: var(--disabled-bg-color);\n",
       "    fill: var(--disabled-fill-color);\n",
       "    box-shadow: none;\n",
       "  }\n",
       "\n",
       "  .colab-df-spinner {\n",
       "    border: 2px solid var(--fill-color);\n",
       "    border-color: transparent;\n",
       "    border-bottom-color: var(--fill-color);\n",
       "    animation:\n",
       "      spin 1s steps(1) infinite;\n",
       "  }\n",
       "\n",
       "  @keyframes spin {\n",
       "    0% {\n",
       "      border-color: transparent;\n",
       "      border-bottom-color: var(--fill-color);\n",
       "      border-left-color: var(--fill-color);\n",
       "    }\n",
       "    20% {\n",
       "      border-color: transparent;\n",
       "      border-left-color: var(--fill-color);\n",
       "      border-top-color: var(--fill-color);\n",
       "    }\n",
       "    30% {\n",
       "      border-color: transparent;\n",
       "      border-left-color: var(--fill-color);\n",
       "      border-top-color: var(--fill-color);\n",
       "      border-right-color: var(--fill-color);\n",
       "    }\n",
       "    40% {\n",
       "      border-color: transparent;\n",
       "      border-right-color: var(--fill-color);\n",
       "      border-top-color: var(--fill-color);\n",
       "    }\n",
       "    60% {\n",
       "      border-color: transparent;\n",
       "      border-right-color: var(--fill-color);\n",
       "    }\n",
       "    80% {\n",
       "      border-color: transparent;\n",
       "      border-right-color: var(--fill-color);\n",
       "      border-bottom-color: var(--fill-color);\n",
       "    }\n",
       "    90% {\n",
       "      border-color: transparent;\n",
       "      border-bottom-color: var(--fill-color);\n",
       "    }\n",
       "  }\n",
       "</style>\n",
       "\n",
       "  <script>\n",
       "    async function quickchart(key) {\n",
       "      const quickchartButtonEl =\n",
       "        document.querySelector('#' + key + ' button');\n",
       "      quickchartButtonEl.disabled = true;  // To prevent multiple clicks.\n",
       "      quickchartButtonEl.classList.add('colab-df-spinner');\n",
       "      try {\n",
       "        const charts = await google.colab.kernel.invokeFunction(\n",
       "            'suggestCharts', [key], {});\n",
       "      } catch (error) {\n",
       "        console.error('Error during call to suggestCharts:', error);\n",
       "      }\n",
       "      quickchartButtonEl.classList.remove('colab-df-spinner');\n",
       "      quickchartButtonEl.classList.add('colab-df-quickchart-complete');\n",
       "    }\n",
       "    (() => {\n",
       "      let quickchartButtonEl =\n",
       "        document.querySelector('#df-7f3a4552-dfe2-43ca-8bb2-e175a1a5b675 button');\n",
       "      quickchartButtonEl.style.display =\n",
       "        google.colab.kernel.accessAllowed ? 'block' : 'none';\n",
       "    })();\n",
       "  </script>\n",
       "</div>\n",
       "\n",
       "  <div id=\"id_9a216e62-6ce6-420f-8e66-4547f704bf90\">\n",
       "    <style>\n",
       "      .colab-df-generate {\n",
       "        background-color: #E8F0FE;\n",
       "        border: none;\n",
       "        border-radius: 50%;\n",
       "        cursor: pointer;\n",
       "        display: none;\n",
       "        fill: #1967D2;\n",
       "        height: 32px;\n",
       "        padding: 0 0 0 0;\n",
       "        width: 32px;\n",
       "      }\n",
       "\n",
       "      .colab-df-generate:hover {\n",
       "        background-color: #E2EBFA;\n",
       "        box-shadow: 0px 1px 2px rgba(60, 64, 67, 0.3), 0px 1px 3px 1px rgba(60, 64, 67, 0.15);\n",
       "        fill: #174EA6;\n",
       "      }\n",
       "\n",
       "      [theme=dark] .colab-df-generate {\n",
       "        background-color: #3B4455;\n",
       "        fill: #D2E3FC;\n",
       "      }\n",
       "\n",
       "      [theme=dark] .colab-df-generate:hover {\n",
       "        background-color: #434B5C;\n",
       "        box-shadow: 0px 1px 3px 1px rgba(0, 0, 0, 0.15);\n",
       "        filter: drop-shadow(0px 1px 2px rgba(0, 0, 0, 0.3));\n",
       "        fill: #FFFFFF;\n",
       "      }\n",
       "    </style>\n",
       "    <button class=\"colab-df-generate\" onclick=\"generateWithVariable('pairwise_criteria')\"\n",
       "            title=\"Generate code using this dataframe.\"\n",
       "            style=\"display:none;\">\n",
       "\n",
       "  <svg xmlns=\"http://www.w3.org/2000/svg\" height=\"24px\"viewBox=\"0 0 24 24\"\n",
       "       width=\"24px\">\n",
       "    <path d=\"M7,19H8.4L18.45,9,17,7.55,7,17.6ZM5,21V16.75L18.45,3.32a2,2,0,0,1,2.83,0l1.4,1.43a1.91,1.91,0,0,1,.58,1.4,1.91,1.91,0,0,1-.58,1.4L9.25,21ZM18.45,9,17,7.55Zm-12,3A5.31,5.31,0,0,0,4.9,8.1,5.31,5.31,0,0,0,1,6.5,5.31,5.31,0,0,0,4.9,4.9,5.31,5.31,0,0,0,6.5,1,5.31,5.31,0,0,0,8.1,4.9,5.31,5.31,0,0,0,12,6.5,5.46,5.46,0,0,0,6.5,12Z\"/>\n",
       "  </svg>\n",
       "    </button>\n",
       "    <script>\n",
       "      (() => {\n",
       "      const buttonEl =\n",
       "        document.querySelector('#id_9a216e62-6ce6-420f-8e66-4547f704bf90 button.colab-df-generate');\n",
       "      buttonEl.style.display =\n",
       "        google.colab.kernel.accessAllowed ? 'block' : 'none';\n",
       "\n",
       "      buttonEl.onclick = () => {\n",
       "        google.colab.notebook.generateWithVariable('pairwise_criteria');\n",
       "      }\n",
       "      })();\n",
       "    </script>\n",
       "  </div>\n",
       "\n",
       "    </div>\n",
       "  </div>\n"
      ],
      "text/plain": [
       "        Costo  Idioma  Empleo\n",
       "Costo     1.0     3.0       5\n",
       "Idioma  333.0     1.0       2\n",
       "Empleo    0.2     0.5       1"
      ]
     },
     "execution_count": 94,
     "metadata": {},
     "output_type": "execute_result"
    }
   ],
   "source": [
    "pairwise_criteria"
   ]
  },
  {
   "cell_type": "markdown",
   "id": "cc2b0d2d-68f7-4f44-a016-7ade98c2edc0",
   "metadata": {
    "id": "cc2b0d2d-68f7-4f44-a016-7ade98c2edc0"
   },
   "source": [
    "4. Transform all matrices into pairwise comparissons:"
   ]
  },
  {
   "cell_type": "code",
   "execution_count": 95,
   "id": "7489673e-1160-4fb9-af4e-17bd6c3d47b5",
   "metadata": {
    "colab": {
     "base_uri": "https://localhost:8080/"
    },
    "id": "7489673e-1160-4fb9-af4e-17bd6c3d47b5",
    "outputId": "aef8af68-09ec-4f32-eb7d-e87d7ee6a53e"
   },
   "outputs": [
    {
     "data": {
      "text/plain": [
       "OutMultiEdgeDataView([('Brasil', 'Brasil', {'weight': 1.0}), ('Brasil', 'España', {'weight': 3.0}), ('Brasil', 'USA', {'weight': 5.0}), ('Brasil', 'Alemania', {'weight': 7.0}), ('España', 'Brasil', {'weight': 333.0}), ('España', 'España', {'weight': 1.0}), ('España', 'USA', {'weight': 3.0}), ('España', 'Alemania', {'weight': 5.0}), ('USA', 'Brasil', {'weight': 0.2}), ('USA', 'España', {'weight': 333.0}), ('USA', 'USA', {'weight': 1.0}), ('USA', 'Alemania', {'weight': 2.0}), ('Alemania', 'Brasil', {'weight': 142.0}), ('Alemania', 'España', {'weight': 0.2}), ('Alemania', 'USA', {'weight': 0.5}), ('Alemania', 'Alemania', {'weight': 1.0})])"
      ]
     },
     "execution_count": 95,
     "metadata": {},
     "output_type": "execute_result"
    }
   ],
   "source": [
    "import networkx as nx\n",
    "\n",
    "G_costo_vida = nx.from_pandas_adjacency(pairwise_costo_vida, create_using=nx.MultiDiGraph())\n",
    "\n",
    "# pairwise\n",
    "G_costo_vida.edges(data=True)"
   ]
  },
  {
   "cell_type": "code",
   "execution_count": 96,
   "id": "5c159762-70a2-4d13-aca5-77ad593cc8d7",
   "metadata": {
    "colab": {
     "base_uri": "https://localhost:8080/"
    },
    "id": "5c159762-70a2-4d13-aca5-77ad593cc8d7",
    "outputId": "d41f5221-3f89-4577-8e84-9dfd52534b68"
   },
   "outputs": [
    {
     "data": {
      "text/plain": [
       "{('Brasil', 'España'): 3.0,\n",
       " ('Brasil', 'USA'): 5.0,\n",
       " ('Brasil', 'Alemania'): 7.0,\n",
       " ('España', 'Brasil'): 333.0,\n",
       " ('España', 'USA'): 3.0,\n",
       " ('España', 'Alemania'): 5.0,\n",
       " ('USA', 'Brasil'): 0.2,\n",
       " ('USA', 'España'): 333.0,\n",
       " ('USA', 'Alemania'): 2.0,\n",
       " ('Alemania', 'Brasil'): 142.0,\n",
       " ('Alemania', 'España'): 0.2,\n",
       " ('Alemania', 'USA'): 0.5}"
      ]
     },
     "execution_count": 96,
     "metadata": {},
     "output_type": "execute_result"
    }
   ],
   "source": [
    "# Extract pairwise comparisons for each criterion\n",
    "costo_vida_comparisons = {(e[0], e[1]): e[2]['weight'] for e in G_costo_vida.edges(data=True) if e[0] != e[1]}\n",
    "costo_vida_comparisons"
   ]
  },
  {
   "cell_type": "code",
   "execution_count": 97,
   "id": "91910bf0-55d1-4001-adcd-aeb255486e32",
   "metadata": {
    "id": "91910bf0-55d1-4001-adcd-aeb255486e32"
   },
   "outputs": [],
   "source": [
    "# the remaining comparissons:\n",
    "\n",
    "G_idioma = nx.from_pandas_adjacency(pairwise_idioma, create_using=nx.MultiDiGraph())\n",
    "idioma_comparisons = {(e[0], e[1]): e[2]['weight'] for e in G_idioma.edges(data=True) if e[0] != e[1]}\n",
    "\n",
    "G_empleo = nx.from_pandas_adjacency(pairwise_empleo, create_using=nx.MultiDiGraph())\n",
    "empleo_comparisons = {(e[0], e[1]): e[2]['weight'] for e in G_empleo.edges(data=True) if e[0] != e[1]}\n"
   ]
  },
  {
   "cell_type": "code",
   "execution_count": 98,
   "id": "1a060b13-70ec-4121-bf45-a073435eca58",
   "metadata": {
    "colab": {
     "base_uri": "https://localhost:8080/"
    },
    "id": "1a060b13-70ec-4121-bf45-a073435eca58",
    "outputId": "6805eac3-9dd5-4939-f483-31ccf7b31b6f"
   },
   "outputs": [
    {
     "data": {
      "text/plain": [
       "[{('Brasil', 'España'): 3.0,\n",
       "  ('Brasil', 'USA'): 5.0,\n",
       "  ('Brasil', 'Alemania'): 7.0,\n",
       "  ('España', 'Brasil'): 333.0,\n",
       "  ('España', 'USA'): 3.0,\n",
       "  ('España', 'Alemania'): 5.0,\n",
       "  ('USA', 'Brasil'): 0.2,\n",
       "  ('USA', 'España'): 333.0,\n",
       "  ('USA', 'Alemania'): 2.0,\n",
       "  ('Alemania', 'Brasil'): 142.0,\n",
       "  ('Alemania', 'España'): 0.2,\n",
       "  ('Alemania', 'USA'): 0.5},\n",
       " {('Brasil', 'España'): 5.0,\n",
       "  ('Brasil', 'USA'): 7.0,\n",
       "  ('Brasil', 'Alemania'): 9.0,\n",
       "  ('España', 'Brasil'): 0.2,\n",
       "  ('España', 'USA'): 3.0,\n",
       "  ('España', 'Alemania'): 5.0,\n",
       "  ('USA', 'Brasil'): 142.0,\n",
       "  ('USA', 'España'): 333.0,\n",
       "  ('USA', 'Alemania'): 2.0,\n",
       "  ('Alemania', 'Brasil'): 111.0,\n",
       "  ('Alemania', 'España'): 0.2,\n",
       "  ('Alemania', 'USA'): 0.5},\n",
       " {('Brasil', 'España'): 0.25,\n",
       "  ('Brasil', 'USA'): 0.2,\n",
       "  ('Brasil', 'Alemania'): 142.0,\n",
       "  ('España', 'Brasil'): 4.0,\n",
       "  ('España', 'USA'): 333.0,\n",
       "  ('España', 'Alemania'): 0.2,\n",
       "  ('USA', 'Brasil'): 5.0,\n",
       "  ('USA', 'España'): 3.0,\n",
       "  ('USA', 'Alemania'): 333.0,\n",
       "  ('Alemania', 'Brasil'): 7.0,\n",
       "  ('Alemania', 'España'): 5.0,\n",
       "  ('Alemania', 'USA'): 3.0}]"
      ]
     },
     "execution_count": 98,
     "metadata": {},
     "output_type": "execute_result"
    }
   ],
   "source": [
    "# take a look\n",
    "[costo_vida_comparisons, idioma_comparisons, empleo_comparisons]\n"
   ]
  },
  {
   "cell_type": "code",
   "execution_count": 99,
   "id": "c84996bc-4941-42cb-8855-54c72a6737a9",
   "metadata": {
    "colab": {
     "base_uri": "https://localhost:8080/"
    },
    "id": "c84996bc-4941-42cb-8855-54c72a6737a9",
    "outputId": "58dc7870-e7d1-423e-a394-4aee0685c3dd"
   },
   "outputs": [
    {
     "data": {
      "text/plain": [
       "{('Costo', 'Idioma'): 3.0,\n",
       " ('Costo', 'Empleo'): 5.0,\n",
       " ('Idioma', 'Costo'): 333.0,\n",
       " ('Idioma', 'Empleo'): 2.0,\n",
       " ('Empleo', 'Costo'): 0.2,\n",
       " ('Empleo', 'Idioma'): 0.5}"
      ]
     },
     "execution_count": 99,
     "metadata": {},
     "output_type": "execute_result"
    }
   ],
   "source": [
    "# now the criteria\n",
    "\n",
    "G_CRIT = nx.from_pandas_adjacency(pairwise_criteria, create_using=nx.MultiDiGraph())\n",
    "criteria_comparisons = {(e[0], e[1]): e[2]['weight'] for e in G_CRIT.edges(data=True) if e[0] != e[1]}\n",
    "criteria_comparisons"
   ]
  },
  {
   "cell_type": "markdown",
   "id": "537c0ad5-e1b0-4d49-a60c-e7a3a0d95c2d",
   "metadata": {
    "id": "537c0ad5-e1b0-4d49-a60c-e7a3a0d95c2d"
   },
   "source": [
    "5. Apply the Algorithm"
   ]
  },
  {
   "cell_type": "code",
   "execution_count": 100,
   "id": "69e67f1d-408e-446b-9991-0566a0aaee5b",
   "metadata": {
    "colab": {
     "base_uri": "https://localhost:8080/"
    },
    "id": "69e67f1d-408e-446b-9991-0566a0aaee5b",
    "outputId": "8209c7ba-b953-4530-d680-f5acc3b39525"
   },
   "outputs": [
    {
     "name": "stdout",
     "output_type": "stream",
     "text": [
      "Requirement already satisfied: ahpy in /usr/local/lib/python3.10/dist-packages (2.0)\n",
      "Requirement already satisfied: numpy in /usr/local/lib/python3.10/dist-packages (from ahpy) (1.26.4)\n",
      "Requirement already satisfied: scipy in /usr/local/lib/python3.10/dist-packages (from ahpy) (1.13.1)\n"
     ]
    }
   ],
   "source": [
    "## install\n",
    "#!pip install ahpy"
   ]
  },
  {
   "cell_type": "code",
   "execution_count": 101,
   "id": "16ec39e8-0c5e-4803-8a05-00b354bc2133",
   "metadata": {
    "colab": {
     "base_uri": "https://localhost:8080/"
    },
    "id": "16ec39e8-0c5e-4803-8a05-00b354bc2133",
    "outputId": "571e04f6-037f-41bb-e1f9-2d5255eef4fb"
   },
   "outputs": [
    {
     "name": "stderr",
     "output_type": "stream",
     "text": [
      "/usr/local/lib/python3.10/dist-packages/numpy/linalg/linalg.py:667: RuntimeWarning: overflow encountered in matmul\n",
      "  return fmatmul(a, a)\n",
      "/usr/local/lib/python3.10/dist-packages/ahpy/ahpy.py:253: RuntimeWarning: invalid value encountered in divide\n",
      "  principal_eigenvector = np.divide(row_sum, total_sum)\n"
     ]
    }
   ],
   "source": [
    "# input each comparisson\n",
    "\n",
    "import ahpy\n",
    "\n",
    "# Creating comparison models for each criterion\n",
    "costo_vida = ahpy.Compare('costo_vida', costo_vida_comparisons, precision=3, random_index='saaty')\n",
    "idioma = ahpy.Compare('idioma', idioma_comparisons, precision=3, random_index='saaty')\n",
    "empleo = ahpy.Compare('empleo', empleo_comparisons, precision=3, random_index='saaty')\n",
    "\n",
    "# Create the parent criteria model (for ranking the 3 criteria)\n",
    "criteria = ahpy.Compare('criteria', criteria_comparisons, precision=3, random_index='saaty')"
   ]
  },
  {
   "cell_type": "markdown",
   "id": "e6ab4dfb-efc1-4940-adf9-21e2940fcb33",
   "metadata": {
    "id": "e6ab4dfb-efc1-4940-adf9-21e2940fcb33"
   },
   "source": [
    "6. Create hierarchy:"
   ]
  },
  {
   "cell_type": "code",
   "execution_count": 102,
   "id": "7cdf93ec-edf1-4127-8734-885d6da1c855",
   "metadata": {
    "id": "7cdf93ec-edf1-4127-8734-885d6da1c855"
   },
   "outputs": [],
   "source": [
    "criteria.add_children([costo_vida, idioma, empleo])"
   ]
  },
  {
   "cell_type": "markdown",
   "id": "ebc25b0c-6a21-439e-a4da-6c8d5e50797d",
   "metadata": {
    "id": "ebc25b0c-6a21-439e-a4da-6c8d5e50797d"
   },
   "source": [
    "7. See result:"
   ]
  },
  {
   "cell_type": "code",
   "execution_count": 103,
   "id": "ba46787a-e341-4867-9321-412f8be5a92a",
   "metadata": {
    "colab": {
     "base_uri": "https://localhost:8080/"
    },
    "id": "ba46787a-e341-4867-9321-412f8be5a92a",
    "outputId": "a1d15eff-6de3-4df7-d45b-9c47f4c19cca"
   },
   "outputs": [
    {
     "name": "stdout",
     "output_type": "stream",
     "text": [
      "{}\n"
     ]
    }
   ],
   "source": [
    "print(criteria.target_weights)"
   ]
  },
  {
   "cell_type": "markdown",
   "id": "2dc9dcde-7d2b-4bb8-8d93-c16b73f4347b",
   "metadata": {
    "id": "2dc9dcde-7d2b-4bb8-8d93-c16b73f4347b"
   },
   "source": [
    "8. Assess consistency"
   ]
  },
  {
   "cell_type": "code",
   "execution_count": 106,
   "id": "c07344a5-0ed2-4d7a-9f44-a284a3ee122b",
   "metadata": {
    "colab": {
     "base_uri": "https://localhost:8080/"
    },
    "id": "c07344a5-0ed2-4d7a-9f44-a284a3ee122b",
    "outputId": "3923999b-0108-4d6b-ac49-f90cef6d34e7"
   },
   "outputs": [
    {
     "data": {
      "text/plain": [
       "[('costo_vida', 29.957),\n",
       " ('idioma', 4.773),\n",
       " ('empleo', 0.067),\n",
       " ('criteria', 7.225)]"
      ]
     },
     "execution_count": 106,
     "metadata": {},
     "output_type": "execute_result"
    }
   ],
   "source": [
    "## We should review comparissons if greater than 0.1!\n",
    "[(val.name, val.consistency_ratio) for val in [costo_vida, idioma, empleo, criteria]]\n"
   ]
  },
  {
   "cell_type": "markdown",
   "id": "ULPwKg7UVzbE",
   "metadata": {
    "id": "ULPwKg7UVzbE"
   },
   "source": [
    "### Interpretación de los resultados\n",
    "\n",
    "1. **Costo de vida (29.957)**:\n",
    "   - Este valor es significativamente alto, lo que indica que las comparaciones realizadas para este criterio no son del todo consistentes. El índice de consistencia en AHP debe ser inferior a 10 para considerarse razonable, por lo que un valor de 29.957 es un claro indicativo de que las comparaciones realizadas para el criterio de \"Costo de vida\" pueden no ser lo suficientemente consistentes. Esto sugiere que puede haber ambigüedad o inconsistencias en las percepciones de la importancia relativa de este criterio en comparación con los demás, lo que podría deberse a diferencias subjetivas en las evaluaciones o a posibles errores en la asignación de los pesos de las alternativas.\n",
    "\n",
    "2. **Idioma (4.773)**:\n",
    "   - Aunque el valor es más bajo que el de \"Costo de vida\", sigue siendo algo elevado. Un índice de consistencia de 4.773 también sugiere que las comparaciones para este criterio tienen cierto grado de inconsistencia, aunque en menor medida que las de \"Costo de vida\". Sin embargo, aún está dentro del rango tolerable si consideramos que los valores generalmente aceptados en AHP deberían estar por debajo de 10. Esta inconsistencia podría reflejar las dificultades inherentes al evaluar un criterio como la \"dificultad del idioma\", que depende de muchos factores subjetivos y contextuales, como las habilidades previas de los participantes o el nivel de familiaridad con los idiomas de los países evaluados.\n",
    "\n",
    "3. **Empleo (0.067)**:\n",
    "   - Este valor es extremadamente bajo y está muy por debajo de 10, lo cual indica una alta consistencia en las comparaciones realizadas para el criterio de \"Posibilidades de conseguir empleo\". Esto sugiere que las evaluaciones para este criterio son mucho más consistentes que las de los otros dos. Es posible que el factor \"empleo\" sea más claro o menos ambiguo para los participantes, dado que tiene una relación más directa con datos objetivos, como tasas de desempleo o políticas laborales de los países evaluados.\n",
    "\n",
    "4. **Criteria (7.225)**:\n",
    "   - El valor para el índice de consistencia general de las comparaciones de los criterios también es relativamente bajo, lo que indica que el proceso de comparación entre los tres criterios (\"Costo de vida\", \"Idioma\" y \"Empleo\") fue relativamente consistente. Este valor sugiere que las percepciones de la importancia relativa de los tres criterios no son totalmente incoherentes, aunque podría mejorarse la consistencia.\n",
    "\n",
    "### Conclusión:\n",
    "El análisis de consistencia de las comparaciones en este modelo AHP revela que las comparaciones para el criterio de \"Costo de vida\" son las más inconsistentes, lo que podría señalar la necesidad de una revisión más profunda o más precisa de este criterio. En contraste, las comparaciones para el criterio de \"Empleo\" muestran una alta consistencia, lo cual es un buen indicador de que este criterio está siendo evaluado de manera clara y coherente. En general, el índice de consistencia para el modelo completo está dentro de un rango aceptable, pero se debe tener en cuenta que las inconsistencias en algunos de los criterios pueden afectar la precisión del modelo AHP y, por lo tanto, las decisiones derivadas del mismo.\n",
    "\n",
    "Es recomendable revisar las comparaciones y, si es posible, ajustar o clarificar las percepciones de los participantes para mejorar la consistencia en futuros análisis.\n",
    "\n",
    "Nota: Los resultados reflejan los **índices de consistencia** de las comparaciones realizadas en el proceso AHP para los diferentes criterios. En AHP, el **índice de consistencia** (o **ratio de consistencia**) mide cuán coherentes son las comparaciones entre los elementos. Un valor cercano a 0 indica que las comparaciones son consistentes, mientras que un valor más alto sugiere que las comparaciones pueden ser inconsistentes."
   ]
  },
  {
   "cell_type": "markdown",
   "id": "60f6a0b9-872e-40c1-b681-64d6a9dc26e2",
   "metadata": {
    "id": "60f6a0b9-872e-40c1-b681-64d6a9dc26e2"
   },
   "source": [
    "# Part 3: Benchmarking"
   ]
  },
  {
   "cell_type": "markdown",
   "id": "e58be274-861d-47a3-badf-007a73bd433c",
   "metadata": {
    "id": "e58be274-861d-47a3-badf-007a73bd433c"
   },
   "source": [
    "<div class=\"alert-success\">\n",
    "\n",
    "<strong>Exercise: Efficiency in Public sector</strong>\n",
    "\n",
    "- Make a group of 2 people from this course.\n",
    "- Find a set of municipalities (homogenity required).\n",
    "- Find a set of common input and out variables for them.\n",
    "- Compute efficiency."
   ]
  },
  {
   "cell_type": "code",
   "execution_count": 16,
   "id": "NMS7dnAOWz0p",
   "metadata": {
    "colab": {
     "base_uri": "https://localhost:8080/"
    },
    "id": "NMS7dnAOWz0p",
    "outputId": "69b765bb-8dc4-4a78-f5b8-dda499a583a1"
   },
   "outputs": [
    {
     "name": "stdout",
     "output_type": "stream",
     "text": [
      "                    Distrito  Ingresos_Total  Gastos_Total  Personal_Limpieza  \\\n",
      "0                CHACHAPOYAS     31477166.86   29581273.12                 24   \n",
      "1                   ASUNCION      1265551.60     976582.75                  0   \n",
      "2                     BALSAS      1376502.78    1303334.70                  1   \n",
      "3                      CHETO      2083770.19    2132187.20                  0   \n",
      "4                  CHILIQUIN      1347598.51    1380533.45                  0   \n",
      "...                      ...             ...           ...                ...   \n",
      "1869                 IRAZOLA      9149578.11    8705528.29                  0   \n",
      "1870                CURIMANA     13139854.58   12214407.65                  2   \n",
      "1871                 NESHUYA      9829463.30    9497257.41                  0   \n",
      "1872  ALEXANDER VON HUMBOLDT      4534922.58    3911376.27                  0   \n",
      "1873                   PURUS      8185867.56    7116701.83                  7   \n",
      "\n",
      "      Residuos_Solidos  Personal_Vigilancia  \n",
      "0              26000.0                    8  \n",
      "1                 25.0                    0  \n",
      "2                 10.0                    0  \n",
      "3                140.0                    0  \n",
      "4                500.0                    0  \n",
      "...                ...                  ...  \n",
      "1869            5000.0                    0  \n",
      "1870            6000.0                    2  \n",
      "1871            3900.0                    0  \n",
      "1872            5000.0                    0  \n",
      "1873             350.0                   10  \n",
      "\n",
      "[1874 rows x 6 columns]\n"
     ]
    }
   ],
   "source": [
    "import pandas as pd\n",
    "\n",
    "# Specify the encoding when reading the CSV file\n",
    "renamu = pd.read_csv(\"https://github.com/luccemhu/5-TAREA-1INT46-PUCP/raw/refs/heads/main/renamu_data.csv\", encoding='latin-1')\n",
    "# or 'ISO-8859-1' or the correct encoding\n",
    "\n",
    "print(renamu)"
   ]
  },
  {
   "cell_type": "code",
   "execution_count": 17,
   "id": "OgAVvvjdWzyy",
   "metadata": {
    "colab": {
     "base_uri": "https://localhost:8080/"
    },
    "id": "OgAVvvjdWzyy",
    "outputId": "1ef44e4b-8c44-4c3f-f877-1a88ddf774e7"
   },
   "outputs": [
    {
     "name": "stdout",
     "output_type": "stream",
     "text": [
      "<class 'pandas.core.frame.DataFrame'>\n",
      "RangeIndex: 1874 entries, 0 to 1873\n",
      "Data columns (total 6 columns):\n",
      " #   Column               Non-Null Count  Dtype  \n",
      "---  ------               --------------  -----  \n",
      " 0   Distrito             1874 non-null   object \n",
      " 1   Ingresos_Total       1874 non-null   float64\n",
      " 2   Gastos_Total         1874 non-null   float64\n",
      " 3   Personal_Limpieza    1874 non-null   int64  \n",
      " 4   Residuos_Solidos     1874 non-null   float64\n",
      " 5   Personal_Vigilancia  1874 non-null   int64  \n",
      "dtypes: float64(3), int64(2), object(1)\n",
      "memory usage: 88.0+ KB\n"
     ]
    }
   ],
   "source": [
    "renamu.info()"
   ]
  },
  {
   "cell_type": "markdown",
   "id": "PS_XuxGRXjgE",
   "metadata": {
    "id": "PS_XuxGRXjgE"
   },
   "source": [
    "The first three variables (Aircraft,Fuel,Employee) represent **inputs** and the last two ones represent **outputs**. If that is so, there should be a way to compute some measure of efficiency: the ratio **output/input**.\n",
    "\n",
    "Let's compute some ratios:"
   ]
  },
  {
   "cell_type": "code",
   "execution_count": 18,
   "id": "0FymdCgJWzwH",
   "metadata": {
    "id": "0FymdCgJWzwH"
   },
   "outputs": [],
   "source": [
    "# ratio passenger employee:\n",
    "renamu['rate_GastosByIngresos']=(renamu.Gastos_Total/renamu.Ingresos_Total)\n",
    "renamu['rate_ResiduosByPersonal']=(renamu.Residuos_Solidos/renamu.Personal_Limpieza)"
   ]
  },
  {
   "cell_type": "code",
   "execution_count": 21,
   "id": "1ubwYcXhWzuC",
   "metadata": {
    "colab": {
     "base_uri": "https://localhost:8080/"
    },
    "id": "1ubwYcXhWzuC",
    "outputId": "29340949-5d78-4aff-e411-9e231a6d4078"
   },
   "outputs": [
    {
     "name": "stdout",
     "output_type": "stream",
     "text": [
      "<class 'pandas.core.frame.DataFrame'>\n",
      "Index: 864 entries, 0 to 1873\n",
      "Data columns (total 8 columns):\n",
      " #   Column                   Non-Null Count  Dtype  \n",
      "---  ------                   --------------  -----  \n",
      " 0   Distrito                 864 non-null    object \n",
      " 1   Ingresos_Total           864 non-null    float64\n",
      " 2   Gastos_Total             864 non-null    float64\n",
      " 3   Personal_Limpieza        864 non-null    int64  \n",
      " 4   Residuos_Solidos         864 non-null    float64\n",
      " 5   Personal_Vigilancia      864 non-null    int64  \n",
      " 6   rate_GastosByIngresos    864 non-null    float64\n",
      " 7   rate_ResiduosByPersonal  864 non-null    float64\n",
      "dtypes: float64(5), int64(2), object(1)\n",
      "memory usage: 60.8+ KB\n"
     ]
    }
   ],
   "source": [
    "import numpy as np\n",
    "\n",
    "# Reemplazar los valores inf por NaN\n",
    "renamu['rate_GastosByIngresos'] = renamu['rate_GastosByIngresos'].replace([np.inf, -np.inf], np.nan)\n",
    "renamu['rate_ResiduosByPersonal'] = renamu['rate_ResiduosByPersonal'].replace([np.inf, -np.inf], np.nan)\n",
    "renamu = renamu.dropna(subset=['rate_GastosByIngresos', 'rate_ResiduosByPersonal'])\n",
    "renamu.info()\n"
   ]
  },
  {
   "cell_type": "markdown",
   "id": "6kCuFxtKYIFF",
   "metadata": {
    "id": "6kCuFxtKYIFF"
   },
   "source": [
    "Let me plot those ratios:"
   ]
  },
  {
   "cell_type": "code",
   "execution_count": 24,
   "id": "dWAC-c12WzrZ",
   "metadata": {
    "colab": {
     "base_uri": "https://localhost:8080/",
     "height": 723
    },
    "id": "dWAC-c12WzrZ",
    "outputId": "b5a5e0a5-5630-40dc-ea7a-a0bac0fb024d"
   },
   "outputs": [
    {
     "name": "stderr",
     "output_type": "stream",
     "text": [
      "/usr/local/lib/python3.10/dist-packages/altair/utils/core.py:384: FutureWarning: the convert_dtype parameter is deprecated and will be removed in a future version.  Do ``ser.astype(object).apply()`` instead if you want ``convert_dtype=False``.\n",
      "  col = df[col_name].apply(to_list_if_array, convert_dtype=False)\n"
     ]
    },
    {
     "data": {
      "text/html": [
       "\n",
       "<div id=\"altair-viz-98edbec01029433aa54ae0da08e80b1d\"></div>\n",
       "<script type=\"text/javascript\">\n",
       "  var VEGA_DEBUG = (typeof VEGA_DEBUG == \"undefined\") ? {} : VEGA_DEBUG;\n",
       "  (function(spec, embedOpt){\n",
       "    let outputDiv = document.currentScript.previousElementSibling;\n",
       "    if (outputDiv.id !== \"altair-viz-98edbec01029433aa54ae0da08e80b1d\") {\n",
       "      outputDiv = document.getElementById(\"altair-viz-98edbec01029433aa54ae0da08e80b1d\");\n",
       "    }\n",
       "    const paths = {\n",
       "      \"vega\": \"https://cdn.jsdelivr.net/npm//vega@5?noext\",\n",
       "      \"vega-lib\": \"https://cdn.jsdelivr.net/npm//vega-lib?noext\",\n",
       "      \"vega-lite\": \"https://cdn.jsdelivr.net/npm//vega-lite@4.17.0?noext\",\n",
       "      \"vega-embed\": \"https://cdn.jsdelivr.net/npm//vega-embed@6?noext\",\n",
       "    };\n",
       "\n",
       "    function maybeLoadScript(lib, version) {\n",
       "      var key = `${lib.replace(\"-\", \"\")}_version`;\n",
       "      return (VEGA_DEBUG[key] == version) ?\n",
       "        Promise.resolve(paths[lib]) :\n",
       "        new Promise(function(resolve, reject) {\n",
       "          var s = document.createElement('script');\n",
       "          document.getElementsByTagName(\"head\")[0].appendChild(s);\n",
       "          s.async = true;\n",
       "          s.onload = () => {\n",
       "            VEGA_DEBUG[key] = version;\n",
       "            return resolve(paths[lib]);\n",
       "          };\n",
       "          s.onerror = () => reject(`Error loading script: ${paths[lib]}`);\n",
       "          s.src = paths[lib];\n",
       "        });\n",
       "    }\n",
       "\n",
       "    function showError(err) {\n",
       "      outputDiv.innerHTML = `<div class=\"error\" style=\"color:red;\">${err}</div>`;\n",
       "      throw err;\n",
       "    }\n",
       "\n",
       "    function displayChart(vegaEmbed) {\n",
       "      vegaEmbed(outputDiv, spec, embedOpt)\n",
       "        .catch(err => showError(`Javascript Error: ${err.message}<br>This usually means there's a typo in your chart specification. See the javascript console for the full traceback.`));\n",
       "    }\n",
       "\n",
       "    if(typeof define === \"function\" && define.amd) {\n",
       "      requirejs.config({paths});\n",
       "      require([\"vega-embed\"], displayChart, err => showError(`Error loading script: ${err.message}`));\n",
       "    } else {\n",
       "      maybeLoadScript(\"vega\", \"5\")\n",
       "        .then(() => maybeLoadScript(\"vega-lite\", \"4.17.0\"))\n",
       "        .then(() => maybeLoadScript(\"vega-embed\", \"6\"))\n",
       "        .catch(showError)\n",
       "        .then(() => displayChart(vegaEmbed));\n",
       "    }\n",
       "  })({\"config\": {\"view\": {\"continuousWidth\": 400, \"continuousHeight\": 300}}, \"layer\": [{\"mark\": \"point\", \"encoding\": {\"x\": {\"field\": \"rate_GastosByIngresos\", \"type\": \"quantitative\"}, \"y\": {\"field\": \"rate_ResiduosByPersonal\", \"scale\": {\"type\": \"log\"}, \"type\": \"quantitative\"}}, \"height\": 600, \"width\": 800}, {\"mark\": {\"type\": \"text\", \"align\": \"right\", \"baseline\": \"middle\", \"dx\": -7, \"fontSize\": 8}, \"encoding\": {\"text\": {\"field\": \"Distrito\", \"type\": \"nominal\"}, \"x\": {\"field\": \"rate_GastosByIngresos\", \"type\": \"quantitative\"}, \"y\": {\"field\": \"rate_ResiduosByPersonal\", \"scale\": {\"type\": \"log\"}, \"type\": \"quantitative\"}}, \"height\": 600, \"selection\": {\"selector003\": {\"type\": \"interval\", \"bind\": \"scales\", \"encodings\": [\"x\", \"y\"]}}, \"width\": 800}], \"data\": {\"name\": \"data-12f8910c5110b39cbca8da28fc55947d\"}, \"$schema\": \"https://vega.github.io/schema/vega-lite/v4.17.0.json\", \"datasets\": {\"data-12f8910c5110b39cbca8da28fc55947d\": [{\"Distrito\": \"CHACHAPOYAS\", \"Ingresos_Total\": 31477166.86, \"Gastos_Total\": 29581273.12, \"Personal_Limpieza\": 24, \"Residuos_Solidos\": 26000.0, \"Personal_Vigilancia\": 8, \"rate_GastosByIngresos\": 0.939769238177238, \"rate_ResiduosByPersonal\": 1083.3333333333333}, {\"Distrito\": \"BALSAS\", \"Ingresos_Total\": 1376502.78, \"Gastos_Total\": 1303334.7, \"Personal_Limpieza\": 1, \"Residuos_Solidos\": 10.0, \"Personal_Vigilancia\": 0, \"rate_GastosByIngresos\": 0.9468449457108978, \"rate_ResiduosByPersonal\": 10.0}, {\"Distrito\": \"MARISCAL CASTILLA\", \"Ingresos_Total\": 2926378.5, \"Gastos_Total\": 2907461.07, \"Personal_Limpieza\": 1, \"Residuos_Solidos\": 120.0, \"Personal_Vigilancia\": 0, \"rate_GastosByIngresos\": 0.9935355491437624, \"rate_ResiduosByPersonal\": 120.0}, {\"Distrito\": \"MONTEVIDEO\", \"Ingresos_Total\": 1265823.27, \"Gastos_Total\": 1782608.69, \"Personal_Limpieza\": 1, \"Residuos_Solidos\": 1500.0, \"Personal_Vigilancia\": 0, \"rate_GastosByIngresos\": 1.4082603253138173, \"rate_ResiduosByPersonal\": 1500.0}, {\"Distrito\": \"SOLOCO\", \"Ingresos_Total\": 978915.46, \"Gastos_Total\": 639362.41, \"Personal_Limpieza\": 1, \"Residuos_Solidos\": 75.0, \"Personal_Vigilancia\": 0, \"rate_GastosByIngresos\": 0.6531334278855909, \"rate_ResiduosByPersonal\": 75.0}, {\"Distrito\": \"BAGUA\", \"Ingresos_Total\": 32315207.08, \"Gastos_Total\": 31841783.04, \"Personal_Limpieza\": 17, \"Residuos_Solidos\": 1981.0, \"Personal_Vigilancia\": 15, \"rate_GastosByIngresos\": 0.9853498063983318, \"rate_ResiduosByPersonal\": 116.52941176470588}, {\"Distrito\": \"ARAMANGO\", \"Ingresos_Total\": 8126313.0, \"Gastos_Total\": 7860632.36, \"Personal_Limpieza\": 1, \"Residuos_Solidos\": 1200.0, \"Personal_Vigilancia\": 0, \"rate_GastosByIngresos\": 0.9673061276374662, \"rate_ResiduosByPersonal\": 1200.0}, {\"Distrito\": \"EL PARCO\", \"Ingresos_Total\": 6537269.92, \"Gastos_Total\": 5213409.52, \"Personal_Limpieza\": 1, \"Residuos_Solidos\": 500.0, \"Personal_Vigilancia\": 0, \"rate_GastosByIngresos\": 0.7974903260534176, \"rate_ResiduosByPersonal\": 500.0}, {\"Distrito\": \"LA PECA\", \"Ingresos_Total\": 4608508.69, \"Gastos_Total\": 4715843.68, \"Personal_Limpieza\": 6, \"Residuos_Solidos\": 1800.0, \"Personal_Vigilancia\": 2, \"rate_GastosByIngresos\": 1.023290612477938, \"rate_ResiduosByPersonal\": 300.0}, {\"Distrito\": \"JAZAN\", \"Ingresos_Total\": 5193462.75, \"Gastos_Total\": 4080136.31, \"Personal_Limpieza\": 7, \"Residuos_Solidos\": 4100.0, \"Personal_Vigilancia\": 5, \"rate_GastosByIngresos\": 0.7856292624800284, \"rate_ResiduosByPersonal\": 585.7142857142857}, {\"Distrito\": \"SAN CARLOS\", \"Ingresos_Total\": 2636448.86, \"Gastos_Total\": 4912706.54, \"Personal_Limpieza\": 1, \"Residuos_Solidos\": 300.0, \"Personal_Vigilancia\": 0, \"rate_GastosByIngresos\": 1.863380175711051, \"rate_ResiduosByPersonal\": 300.0}, {\"Distrito\": \"NIEVA\", \"Ingresos_Total\": 33031309.2, \"Gastos_Total\": 32133660.62, \"Personal_Limpieza\": 20, \"Residuos_Solidos\": 4500.0, \"Personal_Vigilancia\": 0, \"rate_GastosByIngresos\": 0.9728243111841296, \"rate_ResiduosByPersonal\": 225.0}, {\"Distrito\": \"EL CENEPA\", \"Ingresos_Total\": 9845890.63, \"Gastos_Total\": 8274214.83, \"Personal_Limpieza\": 2, \"Residuos_Solidos\": 13798.4666666667, \"Personal_Vigilancia\": 0, \"rate_GastosByIngresos\": 0.8403724092555759, \"rate_ResiduosByPersonal\": 6899.23333333335}, {\"Distrito\": \"RIO SANTIAGO\", \"Ingresos_Total\": 13577972.64, \"Gastos_Total\": 11304341.09, \"Personal_Limpieza\": 10, \"Residuos_Solidos\": 1000.0, \"Personal_Vigilancia\": 4, \"rate_GastosByIngresos\": 0.8325499976850741, \"rate_ResiduosByPersonal\": 100.0}, {\"Distrito\": \"CAMPORREDONDO\", \"Ingresos_Total\": 10640722.51, \"Gastos_Total\": 9294845.58, \"Personal_Limpieza\": 2, \"Residuos_Solidos\": 15000.0, \"Personal_Vigilancia\": 0, \"rate_GastosByIngresos\": 0.8735163962094525, \"rate_ResiduosByPersonal\": 7500.0}, {\"Distrito\": \"CONILA\", \"Ingresos_Total\": 1361044.71, \"Gastos_Total\": 1370113.28, \"Personal_Limpieza\": 1, \"Residuos_Solidos\": 1500.0, \"Personal_Vigilancia\": 0, \"rate_GastosByIngresos\": 1.006662947905657, \"rate_ResiduosByPersonal\": 1500.0}, {\"Distrito\": \"TINGO\", \"Ingresos_Total\": 1370513.04, \"Gastos_Total\": 829081.96, \"Personal_Limpieza\": 1, \"Residuos_Solidos\": 800.0, \"Personal_Vigilancia\": 0, \"rate_GastosByIngresos\": 0.6049427738389122, \"rate_ResiduosByPersonal\": 800.0}, {\"Distrito\": \"SAN NICOLAS\", \"Ingresos_Total\": 10717632.27, \"Gastos_Total\": 11803551.74, \"Personal_Limpieza\": 6, \"Residuos_Solidos\": 5000.0, \"Personal_Vigilancia\": 0, \"rate_GastosByIngresos\": 1.1013208367896354, \"rate_ResiduosByPersonal\": 833.3333333333334}, {\"Distrito\": \"COCHAMAL\", \"Ingresos_Total\": 997764.38, \"Gastos_Total\": 1102997.58, \"Personal_Limpieza\": 1, \"Residuos_Solidos\": 350.0, \"Personal_Vigilancia\": 0, \"rate_GastosByIngresos\": 1.1054689885802498, \"rate_ResiduosByPersonal\": 350.0}, {\"Distrito\": \"MILPUC\", \"Ingresos_Total\": 762738.95, \"Gastos_Total\": 735010.36, \"Personal_Limpieza\": 3, \"Residuos_Solidos\": 300.0, \"Personal_Vigilancia\": 0, \"rate_GastosByIngresos\": 0.9636460285658678, \"rate_ResiduosByPersonal\": 100.0}, {\"Distrito\": \"TOTORA\", \"Ingresos_Total\": 1039540.54, \"Gastos_Total\": 2517967.29, \"Personal_Limpieza\": 1, \"Residuos_Solidos\": 80.0, \"Personal_Vigilancia\": 0, \"rate_GastosByIngresos\": 2.422192490924885, \"rate_ResiduosByPersonal\": 80.0}, {\"Distrito\": \"BAGUA GRANDE\", \"Ingresos_Total\": 67888992.71, \"Gastos_Total\": 63770896.52, \"Personal_Limpieza\": 17, \"Residuos_Solidos\": 30558.0, \"Personal_Vigilancia\": 0, \"rate_GastosByIngresos\": 0.9393407380841372, \"rate_ResiduosByPersonal\": 1797.5294117647059}, {\"Distrito\": \"CAJARURO\", \"Ingresos_Total\": 19448849.44, \"Gastos_Total\": 14740410.24, \"Personal_Limpieza\": 1, \"Residuos_Solidos\": 1200.0, \"Personal_Vigilancia\": 0, \"rate_GastosByIngresos\": 0.7579065427738741, \"rate_ResiduosByPersonal\": 1200.0}, {\"Distrito\": \"JAMALCA\", \"Ingresos_Total\": 17160690.04, \"Gastos_Total\": 9679745.25, \"Personal_Limpieza\": 1, \"Residuos_Solidos\": 1120.0, \"Personal_Vigilancia\": 0, \"rate_GastosByIngresos\": 0.5640650362798582, \"rate_ResiduosByPersonal\": 1120.0}, {\"Distrito\": \"HUARAZ\", \"Ingresos_Total\": 97036398.85, \"Gastos_Total\": 63312650.72, \"Personal_Limpieza\": 126, \"Residuos_Solidos\": 53705.0, \"Personal_Vigilancia\": 16, \"rate_GastosByIngresos\": 0.6524629053667731, \"rate_ResiduosByPersonal\": 426.23015873015873}, {\"Distrito\": \"COCHABAMBA\", \"Ingresos_Total\": 7019187.45, \"Gastos_Total\": 6970582.72, \"Personal_Limpieza\": 2, \"Residuos_Solidos\": 1000.0, \"Personal_Vigilancia\": 0, \"rate_GastosByIngresos\": 0.9930754477856265, \"rate_ResiduosByPersonal\": 500.0}, {\"Distrito\": \"INDEPENDENCIA\", \"Ingresos_Total\": 68992278.39, \"Gastos_Total\": 39772530.07, \"Personal_Limpieza\": 50, \"Residuos_Solidos\": 65946.0, \"Personal_Vigilancia\": 7, \"rate_GastosByIngresos\": 0.5764779914235268, \"rate_ResiduosByPersonal\": 1318.92}, {\"Distrito\": \"JANGAS\", \"Ingresos_Total\": 9169202.32, \"Gastos_Total\": 4758180.18, \"Personal_Limpieza\": 3, \"Residuos_Solidos\": 1829.0, \"Personal_Vigilancia\": 0, \"rate_GastosByIngresos\": 0.5189306565546478, \"rate_ResiduosByPersonal\": 609.6666666666666}, {\"Distrito\": \"PARIACOTO\", \"Ingresos_Total\": 11596178.08, \"Gastos_Total\": 9955179.76, \"Personal_Limpieza\": 6, \"Residuos_Solidos\": 1000.0, \"Personal_Vigilancia\": 0, \"rate_GastosByIngresos\": 0.858488002798936, \"rate_ResiduosByPersonal\": 166.66666666666666}, {\"Distrito\": \"CORIS\", \"Ingresos_Total\": 10482500.81, \"Gastos_Total\": 8342608.65, \"Personal_Limpieza\": 2, \"Residuos_Solidos\": 170.0, \"Personal_Vigilancia\": 1, \"rate_GastosByIngresos\": 0.7958605299645095, \"rate_ResiduosByPersonal\": 85.0}, {\"Distrito\": \"HUACLLAN\", \"Ingresos_Total\": 1552143.48, \"Gastos_Total\": 1145384.93, \"Personal_Limpieza\": 3, \"Residuos_Solidos\": 119.0, \"Personal_Vigilancia\": 2, \"rate_GastosByIngresos\": 0.7379375326822234, \"rate_ResiduosByPersonal\": 39.666666666666664}, {\"Distrito\": \"LLAMELLIN\", \"Ingresos_Total\": 26360466.67, \"Gastos_Total\": 22693849.6, \"Personal_Limpieza\": 1, \"Residuos_Solidos\": 2500.0, \"Personal_Vigilancia\": 0, \"rate_GastosByIngresos\": 0.8609046980881845, \"rate_ResiduosByPersonal\": 2500.0}, {\"Distrito\": \"ACZO\", \"Ingresos_Total\": 1795530.85, \"Gastos_Total\": 1533851.44, \"Personal_Limpieza\": 1, \"Residuos_Solidos\": 400.0, \"Personal_Vigilancia\": 1, \"rate_GastosByIngresos\": 0.8542606995585734, \"rate_ResiduosByPersonal\": 400.0}, {\"Distrito\": \"CHINGAS\", \"Ingresos_Total\": 8682689.23, \"Gastos_Total\": 7562358.1, \"Personal_Limpieza\": 1, \"Residuos_Solidos\": 3800.0, \"Personal_Vigilancia\": 0, \"rate_GastosByIngresos\": 0.8709695694130007, \"rate_ResiduosByPersonal\": 3800.0}, {\"Distrito\": \"CHACAS\", \"Ingresos_Total\": 13009725.69, \"Gastos_Total\": 12231869.77, \"Personal_Limpieza\": 7, \"Residuos_Solidos\": 800.0, \"Personal_Vigilancia\": 6, \"rate_GastosByIngresos\": 0.9402096601777005, \"rate_ResiduosByPersonal\": 114.28571428571429}, {\"Distrito\": \"CAJACAY\", \"Ingresos_Total\": 2994468.29, \"Gastos_Total\": 1883480.07, \"Personal_Limpieza\": 1, \"Residuos_Solidos\": 500.0, \"Personal_Vigilancia\": 0, \"rate_GastosByIngresos\": 0.628986480267587, \"rate_ResiduosByPersonal\": 500.0}, {\"Distrito\": \"HUAYLLACAYAN\", \"Ingresos_Total\": 2877425.09, \"Gastos_Total\": 2241702.39, \"Personal_Limpieza\": 1, \"Residuos_Solidos\": 100.0, \"Personal_Vigilancia\": 0, \"rate_GastosByIngresos\": 0.779065421299986, \"rate_ResiduosByPersonal\": 100.0}, {\"Distrito\": \"CARHUAZ\", \"Ingresos_Total\": 40505472.37, \"Gastos_Total\": 28174323.88, \"Personal_Limpieza\": 40, \"Residuos_Solidos\": 7806.0, \"Personal_Vigilancia\": 9, \"rate_GastosByIngresos\": 0.6955683326598371, \"rate_ResiduosByPersonal\": 195.15}, {\"Distrito\": \"ACOPAMPA\", \"Ingresos_Total\": 6426804.22, \"Gastos_Total\": 5861398.96, \"Personal_Limpieza\": 1, \"Residuos_Solidos\": 1500.0, \"Personal_Vigilancia\": 0, \"rate_GastosByIngresos\": 0.9120238861111597, \"rate_ResiduosByPersonal\": 1500.0}, {\"Distrito\": \"SAN MIGUEL DE ACO\", \"Ingresos_Total\": 4549038.14, \"Gastos_Total\": 3899579.11, \"Personal_Limpieza\": 1, \"Residuos_Solidos\": 1000.0, \"Personal_Vigilancia\": 0, \"rate_GastosByIngresos\": 0.8572315707161778, \"rate_ResiduosByPersonal\": 1000.0}, {\"Distrito\": \"TINCO\", \"Ingresos_Total\": 4069954.22, \"Gastos_Total\": 2231905.23, \"Personal_Limpieza\": 1, \"Residuos_Solidos\": 200.0, \"Personal_Vigilancia\": 0, \"rate_GastosByIngresos\": 0.5483858317207312, \"rate_ResiduosByPersonal\": 200.0}, {\"Distrito\": \"YUNGAR\", \"Ingresos_Total\": 3842767.73, \"Gastos_Total\": 2633946.97, \"Personal_Limpieza\": 1, \"Residuos_Solidos\": 7500.0, \"Personal_Vigilancia\": 0, \"rate_GastosByIngresos\": 0.6854296577534755, \"rate_ResiduosByPersonal\": 7500.0}, {\"Distrito\": \"CASMA\", \"Ingresos_Total\": 56530655.82, \"Gastos_Total\": 45672014.37, \"Personal_Limpieza\": 49, \"Residuos_Solidos\": 35000.0, \"Personal_Vigilancia\": 0, \"rate_GastosByIngresos\": 0.807915876925696, \"rate_ResiduosByPersonal\": 714.2857142857143}, {\"Distrito\": \"BUENA VISTA ALTA\", \"Ingresos_Total\": 11777457.35, \"Gastos_Total\": 9249781.98, \"Personal_Limpieza\": 1, \"Residuos_Solidos\": 2000.0, \"Personal_Vigilancia\": 2, \"rate_GastosByIngresos\": 0.7853802145163362, \"rate_ResiduosByPersonal\": 2000.0}, {\"Distrito\": \"COMANDANTE NOEL\", \"Ingresos_Total\": 9614757.56, \"Gastos_Total\": 8424356.95, \"Personal_Limpieza\": 3, \"Residuos_Solidos\": 1157.0, \"Personal_Vigilancia\": 1, \"rate_GastosByIngresos\": 0.8761902624614903, \"rate_ResiduosByPersonal\": 385.6666666666667}, {\"Distrito\": \"YAUTAN\", \"Ingresos_Total\": 25086357.27, \"Gastos_Total\": 20407395.89, \"Personal_Limpieza\": 1, \"Residuos_Solidos\": 3500.0, \"Personal_Vigilancia\": 0, \"rate_GastosByIngresos\": 0.8134858190194307, \"rate_ResiduosByPersonal\": 3500.0}, {\"Distrito\": \"CORONGO\", \"Ingresos_Total\": 10289915.09, \"Gastos_Total\": 6807471.06, \"Personal_Limpieza\": 3, \"Residuos_Solidos\": 3000.0, \"Personal_Vigilancia\": 0, \"rate_GastosByIngresos\": 0.661567272466191, \"rate_ResiduosByPersonal\": 1000.0}, {\"Distrito\": \"BAMBAS\", \"Ingresos_Total\": 1618339.26, \"Gastos_Total\": 871661.07, \"Personal_Limpieza\": 1, \"Residuos_Solidos\": 244.0, \"Personal_Vigilancia\": 0, \"rate_GastosByIngresos\": 0.5386145485959476, \"rate_ResiduosByPersonal\": 244.0}, {\"Distrito\": \"LA PAMPA\", \"Ingresos_Total\": 4157632.68, \"Gastos_Total\": 3543377.03, \"Personal_Limpieza\": 4, \"Residuos_Solidos\": 1800.0, \"Personal_Vigilancia\": 0, \"rate_GastosByIngresos\": 0.8522583168650675, \"rate_ResiduosByPersonal\": 450.0}, {\"Distrito\": \"YANAC\", \"Ingresos_Total\": 3229941.3, \"Gastos_Total\": 3074335.14, \"Personal_Limpieza\": 2, \"Residuos_Solidos\": 500.0, \"Personal_Vigilancia\": 0, \"rate_GastosByIngresos\": 0.9518238427429008, \"rate_ResiduosByPersonal\": 250.0}, {\"Distrito\": \"YUPAN\", \"Ingresos_Total\": 1423594.82, \"Gastos_Total\": 1247443.55, \"Personal_Limpieza\": 1, \"Residuos_Solidos\": 80.0, \"Personal_Vigilancia\": 0, \"rate_GastosByIngresos\": 0.8762630577708902, \"rate_ResiduosByPersonal\": 80.0}, {\"Distrito\": \"ANRA\", \"Ingresos_Total\": 15133933.28, \"Gastos_Total\": 9549322.24, \"Personal_Limpieza\": 4, \"Residuos_Solidos\": 400.0, \"Personal_Vigilancia\": 4, \"rate_GastosByIngresos\": 0.630987467918849, \"rate_ResiduosByPersonal\": 100.0}, {\"Distrito\": \"SAN MARCOS\", \"Ingresos_Total\": 861832296.65, \"Gastos_Total\": 285987261.18, \"Personal_Limpieza\": 11, \"Residuos_Solidos\": 1604.0, \"Personal_Vigilancia\": 0, \"rate_GastosByIngresos\": 0.33183632394800205, \"rate_ResiduosByPersonal\": 145.8181818181818}, {\"Distrito\": \"UCO\", \"Ingresos_Total\": 14632633.69, \"Gastos_Total\": 4794157.76, \"Personal_Limpieza\": 2, \"Residuos_Solidos\": 350.0, \"Personal_Vigilancia\": 0, \"rate_GastosByIngresos\": 0.3276346460635003, \"rate_ResiduosByPersonal\": 175.0}, {\"Distrito\": \"HUARMEY\", \"Ingresos_Total\": 55724834.26, \"Gastos_Total\": 41549783.6, \"Personal_Limpieza\": 25, \"Residuos_Solidos\": 25479.0, \"Personal_Vigilancia\": 0, \"rate_GastosByIngresos\": 0.7456241755002396, \"rate_ResiduosByPersonal\": 1019.16}, {\"Distrito\": \"CULEBRAS\", \"Ingresos_Total\": 4606185.44, \"Gastos_Total\": 3852433.93, \"Personal_Limpieza\": 3, \"Residuos_Solidos\": 1391.0, \"Personal_Vigilancia\": 1, \"rate_GastosByIngresos\": 0.8363610150267853, \"rate_ResiduosByPersonal\": 463.6666666666667}, {\"Distrito\": \"CARAZ\", \"Ingresos_Total\": 54875247.19, \"Gastos_Total\": 28388161.7, \"Personal_Limpieza\": 51, \"Residuos_Solidos\": 27143.0, \"Personal_Vigilancia\": 11, \"rate_GastosByIngresos\": 0.517321800878798, \"rate_ResiduosByPersonal\": 532.2156862745098}, {\"Distrito\": \"SANTA CRUZ\", \"Ingresos_Total\": 11959434.84, \"Gastos_Total\": 10203251.81, \"Personal_Limpieza\": 2, \"Residuos_Solidos\": 1000.0, \"Personal_Vigilancia\": 0, \"rate_GastosByIngresos\": 0.8531550149739351, \"rate_ResiduosByPersonal\": 500.0}, {\"Distrito\": \"SANTO TORIBIO\", \"Ingresos_Total\": 4724655.95, \"Gastos_Total\": 3677713.36, \"Personal_Limpieza\": 1, \"Residuos_Solidos\": 4150.0, \"Personal_Vigilancia\": 0, \"rate_GastosByIngresos\": 0.7784087135487611, \"rate_ResiduosByPersonal\": 4150.0}, {\"Distrito\": \"YURACMARCA\", \"Ingresos_Total\": 19105626.99, \"Gastos_Total\": 5798060.75, \"Personal_Limpieza\": 1, \"Residuos_Solidos\": 1250.0, \"Personal_Vigilancia\": 0, \"rate_GastosByIngresos\": 0.30347398455097757, \"rate_ResiduosByPersonal\": 1250.0}, {\"Distrito\": \"LLUMPA\", \"Ingresos_Total\": 12656148.36, \"Gastos_Total\": 8309335.86, \"Personal_Limpieza\": 3, \"Residuos_Solidos\": 800.0, \"Personal_Vigilancia\": 4, \"rate_GastosByIngresos\": 0.6565453899277774, \"rate_ResiduosByPersonal\": 266.6666666666667}, {\"Distrito\": \"CABANA\", \"Ingresos_Total\": 16032231.13, \"Gastos_Total\": 14679115.95, \"Personal_Limpieza\": 4, \"Residuos_Solidos\": 2019.0, \"Personal_Vigilancia\": 1, \"rate_GastosByIngresos\": 0.9156003198164969, \"rate_ResiduosByPersonal\": 504.75}, {\"Distrito\": \"CONCHUCOS\", \"Ingresos_Total\": 27926597.37, \"Gastos_Total\": 8142238.59, \"Personal_Limpieza\": 1, \"Residuos_Solidos\": 2650.0, \"Personal_Vigilancia\": 0, \"rate_GastosByIngresos\": 0.2915585626893005, \"rate_ResiduosByPersonal\": 2650.0}, {\"Distrito\": \"LACABAMBA\", \"Ingresos_Total\": 4591057.88, \"Gastos_Total\": 4522678.02, \"Personal_Limpieza\": 2, \"Residuos_Solidos\": 600.0, \"Personal_Vigilancia\": 0, \"rate_GastosByIngresos\": 0.9851058597414153, \"rate_ResiduosByPersonal\": 300.0}, {\"Distrito\": \"LLAPO\", \"Ingresos_Total\": 6351895.84, \"Gastos_Total\": 6169718.19, \"Personal_Limpieza\": 2, \"Residuos_Solidos\": 200.0, \"Personal_Vigilancia\": 0, \"rate_GastosByIngresos\": 0.9713191691757969, \"rate_ResiduosByPersonal\": 100.0}, {\"Distrito\": \"PAMPAS\", \"Ingresos_Total\": 22194511.37, \"Gastos_Total\": 14263663.4, \"Personal_Limpieza\": 2, \"Residuos_Solidos\": 3000.0, \"Personal_Vigilancia\": 0, \"rate_GastosByIngresos\": 0.642666250327096, \"rate_ResiduosByPersonal\": 1500.0}, {\"Distrito\": \"COTAPARACO\", \"Ingresos_Total\": 1331480.43, \"Gastos_Total\": 906313.31, \"Personal_Limpieza\": 3, \"Residuos_Solidos\": 170.0, \"Personal_Vigilancia\": 0, \"rate_GastosByIngresos\": 0.6806809094445346, \"rate_ResiduosByPersonal\": 56.666666666666664}, {\"Distrito\": \"LLACLLIN\", \"Ingresos_Total\": 3279565.54, \"Gastos_Total\": 1878130.83, \"Personal_Limpieza\": 1, \"Residuos_Solidos\": 60.0, \"Personal_Vigilancia\": 0, \"rate_GastosByIngresos\": 0.5726767180264981, \"rate_ResiduosByPersonal\": 60.0}, {\"Distrito\": \"MARCA\", \"Ingresos_Total\": 6762796.25, \"Gastos_Total\": 5258376.95, \"Personal_Limpieza\": 1, \"Residuos_Solidos\": 600.0, \"Personal_Vigilancia\": 0, \"rate_GastosByIngresos\": 0.7775447840824719, \"rate_ResiduosByPersonal\": 600.0}, {\"Distrito\": \"CHIMBOTE\", \"Ingresos_Total\": 366431327.99, \"Gastos_Total\": 184186577.28, \"Personal_Limpieza\": 392, \"Residuos_Solidos\": 320000.0, \"Personal_Vigilancia\": 283, \"rate_GastosByIngresos\": 0.5026496459522873, \"rate_ResiduosByPersonal\": 816.3265306122449}, {\"Distrito\": \"CACERES DEL PERU\", \"Ingresos_Total\": 14566282.35, \"Gastos_Total\": 9169153.09, \"Personal_Limpieza\": 12, \"Residuos_Solidos\": 300.0, \"Personal_Vigilancia\": 0, \"rate_GastosByIngresos\": 0.6294779182280509, \"rate_ResiduosByPersonal\": 25.0}, {\"Distrito\": \"COISHCO\", \"Ingresos_Total\": 29545380.4, \"Gastos_Total\": 28188471.41, \"Personal_Limpieza\": 21, \"Residuos_Solidos\": 12000.0, \"Personal_Vigilancia\": 11, \"rate_GastosByIngresos\": 0.9540737343155007, \"rate_ResiduosByPersonal\": 571.4285714285714}, {\"Distrito\": \"MACATE\", \"Ingresos_Total\": 16887315.4, \"Gastos_Total\": 16597752.71, \"Personal_Limpieza\": 5, \"Residuos_Solidos\": 350.0, \"Personal_Vigilancia\": 0, \"rate_GastosByIngresos\": 0.9828532432099896, \"rate_ResiduosByPersonal\": 70.0}, {\"Distrito\": \"MORO\", \"Ingresos_Total\": 26552949.87, \"Gastos_Total\": 20718666.35, \"Personal_Limpieza\": 25, \"Residuos_Solidos\": 6917.0, \"Personal_Vigilancia\": 3, \"rate_GastosByIngresos\": 0.7802773873123725, \"rate_ResiduosByPersonal\": 276.68}, {\"Distrito\": \"NEPE\\u00d1A\", \"Ingresos_Total\": 19328443.63, \"Gastos_Total\": 17078186.26, \"Personal_Limpieza\": 46, \"Residuos_Solidos\": 13000.0, \"Personal_Vigilancia\": 31, \"rate_GastosByIngresos\": 0.8835779324462868, \"rate_ResiduosByPersonal\": 282.60869565217394}, {\"Distrito\": \"SAMANCO\", \"Ingresos_Total\": 14658605.18, \"Gastos_Total\": 9659961.79, \"Personal_Limpieza\": 12, \"Residuos_Solidos\": 1736.0, \"Personal_Vigilancia\": 0, \"rate_GastosByIngresos\": 0.6589959734490918, \"rate_ResiduosByPersonal\": 144.66666666666666}, {\"Distrito\": \"SANTA\", \"Ingresos_Total\": 29024649.42, \"Gastos_Total\": 26305655.76, \"Personal_Limpieza\": 40, \"Residuos_Solidos\": 15000.0, \"Personal_Vigilancia\": 31, \"rate_GastosByIngresos\": 0.9063212230178938, \"rate_ResiduosByPersonal\": 375.0}, {\"Distrito\": \"NUEVO CHIMBOTE\", \"Ingresos_Total\": 257473316.41, \"Gastos_Total\": 160727707.1, \"Personal_Limpieza\": 282, \"Residuos_Solidos\": 170000.0, \"Personal_Vigilancia\": 105, \"rate_GastosByIngresos\": 0.6242499585629196, \"rate_ResiduosByPersonal\": 602.8368794326241}, {\"Distrito\": \"ALFONSO UGARTE\", \"Ingresos_Total\": 1663005.69, \"Gastos_Total\": 2393301.83, \"Personal_Limpieza\": 2, \"Residuos_Solidos\": 550.0, \"Personal_Vigilancia\": 0, \"rate_GastosByIngresos\": 1.4391422978234067, \"rate_ResiduosByPersonal\": 275.0}, {\"Distrito\": \"CASHAPAMPA\", \"Ingresos_Total\": 6998360.21, \"Gastos_Total\": 6521439.51, \"Personal_Limpieza\": 5, \"Residuos_Solidos\": 25.0, \"Personal_Vigilancia\": 1, \"rate_GastosByIngresos\": 0.9318525074890365, \"rate_ResiduosByPersonal\": 5.0}, {\"Distrito\": \"SAN JUAN\", \"Ingresos_Total\": 24678092.6, \"Gastos_Total\": 23597642.7, \"Personal_Limpieza\": 6, \"Residuos_Solidos\": 1100.0, \"Personal_Vigilancia\": 4, \"rate_GastosByIngresos\": 0.9562182573218806, \"rate_ResiduosByPersonal\": 183.33333333333334}, {\"Distrito\": \"CASCAPARA\", \"Ingresos_Total\": 2638267.65, \"Gastos_Total\": 2233935.79, \"Personal_Limpieza\": 1, \"Residuos_Solidos\": 60.0, \"Personal_Vigilancia\": 0, \"rate_GastosByIngresos\": 0.8467434265056466, \"rate_ResiduosByPersonal\": 60.0}, {\"Distrito\": \"MANCOS\", \"Ingresos_Total\": 9324319.69, \"Gastos_Total\": 6251705.74, \"Personal_Limpieza\": 8, \"Residuos_Solidos\": 851.0, \"Personal_Vigilancia\": 0, \"rate_GastosByIngresos\": 0.6704731227421055, \"rate_ResiduosByPersonal\": 106.375}, {\"Distrito\": \"QUILLO\", \"Ingresos_Total\": 32480968.12, \"Gastos_Total\": 24754315.0, \"Personal_Limpieza\": 1, \"Residuos_Solidos\": 3070.0, \"Personal_Vigilancia\": 0, \"rate_GastosByIngresos\": 0.7621175239772995, \"rate_ResiduosByPersonal\": 3070.0}, {\"Distrito\": \"SHUPLUY\", \"Ingresos_Total\": 6588637.4, \"Gastos_Total\": 5941462.69, \"Personal_Limpieza\": 1, \"Residuos_Solidos\": 350.0, \"Personal_Vigilancia\": 0, \"rate_GastosByIngresos\": 0.9017741194863751, \"rate_ResiduosByPersonal\": 350.0}, {\"Distrito\": \"YANAMA\", \"Ingresos_Total\": 13826634.63, \"Gastos_Total\": 12380082.92, \"Personal_Limpieza\": 1, \"Residuos_Solidos\": 1500.0, \"Personal_Vigilancia\": 0, \"rate_GastosByIngresos\": 0.8953793349784929, \"rate_ResiduosByPersonal\": 1500.0}, {\"Distrito\": \"ABANCAY\", \"Ingresos_Total\": 76419523.22, \"Gastos_Total\": 48399933.9, \"Personal_Limpieza\": 19, \"Residuos_Solidos\": 89310.0, \"Personal_Vigilancia\": 1, \"rate_GastosByIngresos\": 0.6333451435003601, \"rate_ResiduosByPersonal\": 4700.526315789473}, {\"Distrito\": \"CHACOCHE\", \"Ingresos_Total\": 2393526.79, \"Gastos_Total\": 2156578.51, \"Personal_Limpieza\": 1, \"Residuos_Solidos\": 800.0, \"Personal_Vigilancia\": 1, \"rate_GastosByIngresos\": 0.9010045423389641, \"rate_ResiduosByPersonal\": 800.0}, {\"Distrito\": \"TAMBURCO\", \"Ingresos_Total\": 10469405.5, \"Gastos_Total\": 8018100.75, \"Personal_Limpieza\": 19, \"Residuos_Solidos\": 6000.0, \"Personal_Vigilancia\": 0, \"rate_GastosByIngresos\": 0.7658601770654504, \"rate_ResiduosByPersonal\": 315.7894736842105}, {\"Distrito\": \"ANDAHUAYLAS\", \"Ingresos_Total\": 82205285.02, \"Gastos_Total\": 60195896.91, \"Personal_Limpieza\": 56, \"Residuos_Solidos\": 38000.0, \"Personal_Vigilancia\": 4, \"rate_GastosByIngresos\": 0.732263100789137, \"rate_ResiduosByPersonal\": 678.5714285714286}, {\"Distrito\": \"HUANCARAMA\", \"Ingresos_Total\": 5286093.45, \"Gastos_Total\": 5042841.86, \"Personal_Limpieza\": 1, \"Residuos_Solidos\": 1800.0, \"Personal_Vigilancia\": 0, \"rate_GastosByIngresos\": 0.9539827299118218, \"rate_ResiduosByPersonal\": 1800.0}, {\"Distrito\": \"HUAYANA\", \"Ingresos_Total\": 3728468.56, \"Gastos_Total\": 3340413.79, \"Personal_Limpieza\": 1, \"Residuos_Solidos\": 100.0, \"Personal_Vigilancia\": 0, \"rate_GastosByIngresos\": 0.8959211365859017, \"rate_ResiduosByPersonal\": 100.0}, {\"Distrito\": \"SAN ANTONIO DE CACHI\", \"Ingresos_Total\": 5072185.91, \"Gastos_Total\": 4011869.13, \"Personal_Limpieza\": 1, \"Residuos_Solidos\": 40.0, \"Personal_Vigilancia\": 0, \"rate_GastosByIngresos\": 0.7909546694829251, \"rate_ResiduosByPersonal\": 40.0}, {\"Distrito\": \"SAN JERONIMO\", \"Ingresos_Total\": 24811708.85, \"Gastos_Total\": 19426539.24, \"Personal_Limpieza\": 7, \"Residuos_Solidos\": 10000.0, \"Personal_Vigilancia\": 0, \"rate_GastosByIngresos\": 0.782958536126785, \"rate_ResiduosByPersonal\": 1428.5714285714287}, {\"Distrito\": \"TALAVERA\", \"Ingresos_Total\": 17828193.5, \"Gastos_Total\": 12170688.97, \"Personal_Limpieza\": 12, \"Residuos_Solidos\": 8000.0, \"Personal_Vigilancia\": 1, \"rate_GastosByIngresos\": 0.6826652947198493, \"rate_ResiduosByPersonal\": 666.6666666666666}, {\"Distrito\": \"TUMAY HUARACA\", \"Ingresos_Total\": 5546225.86, \"Gastos_Total\": 6377018.04, \"Personal_Limpieza\": 1, \"Residuos_Solidos\": 430.0, \"Personal_Vigilancia\": 0, \"rate_GastosByIngresos\": 1.149794148484245, \"rate_ResiduosByPersonal\": 430.0}, {\"Distrito\": \"JOS\\u00c9 MAR\\u00cdA ARGUEDAS\", \"Ingresos_Total\": 7980277.89, \"Gastos_Total\": 7374424.07, \"Personal_Limpieza\": 1, \"Residuos_Solidos\": 996.0, \"Personal_Vigilancia\": 0, \"rate_GastosByIngresos\": 0.9240811124185051, \"rate_ResiduosByPersonal\": 996.0}, {\"Distrito\": \"ANTABAMBA\", \"Ingresos_Total\": 26500602.37, \"Gastos_Total\": 26920978.38, \"Personal_Limpieza\": 8, \"Residuos_Solidos\": 4500.0, \"Personal_Vigilancia\": 2, \"rate_GastosByIngresos\": 1.0158628850820344, \"rate_ResiduosByPersonal\": 562.5}, {\"Distrito\": \"HUAQUIRCA\", \"Ingresos_Total\": 6568338.92, \"Gastos_Total\": 5576426.77, \"Personal_Limpieza\": 3, \"Residuos_Solidos\": 48.0, \"Personal_Vigilancia\": 0, \"rate_GastosByIngresos\": 0.848985845267558, \"rate_ResiduosByPersonal\": 16.0}, {\"Distrito\": \"PACHACONAS\", \"Ingresos_Total\": 2467915.62, \"Gastos_Total\": 2357654.05, \"Personal_Limpieza\": 1, \"Residuos_Solidos\": 800.0, \"Personal_Vigilancia\": 0, \"rate_GastosByIngresos\": 0.9553219854413012, \"rate_ResiduosByPersonal\": 800.0}, {\"Distrito\": \"CHALHUANCA\", \"Ingresos_Total\": 10382784.3, \"Gastos_Total\": 10480390.02, \"Personal_Limpieza\": 2, \"Residuos_Solidos\": 2800.0, \"Personal_Vigilancia\": 0, \"rate_GastosByIngresos\": 1.0094007269321774, \"rate_ResiduosByPersonal\": 1400.0}, {\"Distrito\": \"TAPAIRIHUA\", \"Ingresos_Total\": 4204464.93, \"Gastos_Total\": 3364647.31, \"Personal_Limpieza\": 1, \"Residuos_Solidos\": 100.0, \"Personal_Vigilancia\": 0, \"rate_GastosByIngresos\": 0.8002557676227307, \"rate_ResiduosByPersonal\": 100.0}, {\"Distrito\": \"HAQUIRA\", \"Ingresos_Total\": 28518517.95, \"Gastos_Total\": 20661126.65, \"Personal_Limpieza\": 8, \"Residuos_Solidos\": 514.0, \"Personal_Vigilancia\": 0, \"rate_GastosByIngresos\": 0.7244810787932267, \"rate_ResiduosByPersonal\": 64.25}, {\"Distrito\": \"CHINCHEROS\", \"Ingresos_Total\": 31143056.7, \"Gastos_Total\": 28902013.12, \"Personal_Limpieza\": 5, \"Residuos_Solidos\": 1150.0, \"Personal_Vigilancia\": 2, \"rate_GastosByIngresos\": 0.9280403461488095, \"rate_ResiduosByPersonal\": 230.0}, {\"Distrito\": \"ANCO-HUALLO\", \"Ingresos_Total\": 10347436.01, \"Gastos_Total\": 7247481.49, \"Personal_Limpieza\": 6, \"Residuos_Solidos\": 5000.0, \"Personal_Vigilancia\": 0, \"rate_GastosByIngresos\": 0.7004132698183267, \"rate_ResiduosByPersonal\": 833.3333333333334}, {\"Distrito\": \"OCOBAMBA\", \"Ingresos_Total\": 20068119.1, \"Gastos_Total\": 19832150.95, \"Personal_Limpieza\": 1, \"Residuos_Solidos\": 2000.0, \"Personal_Vigilancia\": 0, \"rate_GastosByIngresos\": 0.9882416409418259, \"rate_ResiduosByPersonal\": 2000.0}, {\"Distrito\": \"MAMARA\", \"Ingresos_Total\": 2448612.47, \"Gastos_Total\": 1723558.46, \"Personal_Limpieza\": 5, \"Residuos_Solidos\": 200.0, \"Personal_Vigilancia\": 0, \"rate_GastosByIngresos\": 0.703891890250808, \"rate_ResiduosByPersonal\": 40.0}, {\"Distrito\": \"PROGRESO\", \"Ingresos_Total\": 8689394.39, \"Gastos_Total\": 6988345.53, \"Personal_Limpieza\": 1, \"Residuos_Solidos\": 5240.0, \"Personal_Vigilancia\": 0, \"rate_GastosByIngresos\": 0.8042385022876145, \"rate_ResiduosByPersonal\": 5240.0}, {\"Distrito\": \"VIRUNDO\", \"Ingresos_Total\": 2787222.74, \"Gastos_Total\": 2486373.09, \"Personal_Limpieza\": 1, \"Residuos_Solidos\": 250.0, \"Personal_Vigilancia\": 0, \"rate_GastosByIngresos\": 0.8920611382497545, \"rate_ResiduosByPersonal\": 250.0}, {\"Distrito\": \"AREQUIPA\", \"Ingresos_Total\": 303656953.76, \"Gastos_Total\": 187097399.42, \"Personal_Limpieza\": 173, \"Residuos_Solidos\": 80000.0, \"Personal_Vigilancia\": 109, \"rate_GastosByIngresos\": 0.6161472579609533, \"rate_ResiduosByPersonal\": 462.42774566473986}, {\"Distrito\": \"ALTO SELVA ALEGRE\", \"Ingresos_Total\": 104763615.36, \"Gastos_Total\": 54703628.05, \"Personal_Limpieza\": 58, \"Residuos_Solidos\": 52000.0, \"Personal_Vigilancia\": 36, \"rate_GastosByIngresos\": 0.5221624689260819, \"rate_ResiduosByPersonal\": 896.551724137931}, {\"Distrito\": \"CAYMA\", \"Ingresos_Total\": 115223500.29, \"Gastos_Total\": 61528153.78, \"Personal_Limpieza\": 88, \"Residuos_Solidos\": 53059.0, \"Personal_Vigilancia\": 33, \"rate_GastosByIngresos\": 0.53398962559845, \"rate_ResiduosByPersonal\": 602.9431818181819}, {\"Distrito\": \"CERRO COLORADO\", \"Ingresos_Total\": 300211116.77, \"Gastos_Total\": 152731991.5, \"Personal_Limpieza\": 177, \"Residuos_Solidos\": 156000.0, \"Personal_Vigilancia\": 26, \"rate_GastosByIngresos\": 0.5087486204483633, \"rate_ResiduosByPersonal\": 881.3559322033898}, {\"Distrito\": \"CHARACATO\", \"Ingresos_Total\": 26065156.8, \"Gastos_Total\": 12282114.79, \"Personal_Limpieza\": 13, \"Residuos_Solidos\": 10500.0, \"Personal_Vigilancia\": 8, \"rate_GastosByIngresos\": 0.4712081682163523, \"rate_ResiduosByPersonal\": 807.6923076923077}, {\"Distrito\": \"CHIGUATA\", \"Ingresos_Total\": 8552902.8, \"Gastos_Total\": 4377525.07, \"Personal_Limpieza\": 1, \"Residuos_Solidos\": 6000.0, \"Personal_Vigilancia\": 0, \"rate_GastosByIngresos\": 0.5118174697367074, \"rate_ResiduosByPersonal\": 6000.0}, {\"Distrito\": \"JACOBO HUNTER\", \"Ingresos_Total\": 51800557.18, \"Gastos_Total\": 28137475.14, \"Personal_Limpieza\": 114, \"Residuos_Solidos\": 38000.0, \"Personal_Vigilancia\": 2, \"rate_GastosByIngresos\": 0.5431886580336587, \"rate_ResiduosByPersonal\": 333.3333333333333}, {\"Distrito\": \"LA JOYA\", \"Ingresos_Total\": 119700497.87, \"Gastos_Total\": 75059252.87, \"Personal_Limpieza\": 14, \"Residuos_Solidos\": 17063.0, \"Personal_Vigilancia\": 27, \"rate_GastosByIngresos\": 0.6270588193502558, \"rate_ResiduosByPersonal\": 1218.7857142857142}, {\"Distrito\": \"MARIANO MELGAR\", \"Ingresos_Total\": 59353000.67, \"Gastos_Total\": 33133549.61, \"Personal_Limpieza\": 49, \"Residuos_Solidos\": 52000.0, \"Personal_Vigilancia\": 6, \"rate_GastosByIngresos\": 0.5582455686481806, \"rate_ResiduosByPersonal\": 1061.2244897959183}, {\"Distrito\": \"MIRAFLORES\", \"Ingresos_Total\": 57192756.55, \"Gastos_Total\": 31818703.12, \"Personal_Limpieza\": 53, \"Residuos_Solidos\": 54340.0, \"Personal_Vigilancia\": 43, \"rate_GastosByIngresos\": 0.5563414851701182, \"rate_ResiduosByPersonal\": 1025.2830188679245}, {\"Distrito\": \"MOLLEBAYA\", \"Ingresos_Total\": 13447892.52, \"Gastos_Total\": 9377392.72, \"Personal_Limpieza\": 3, \"Residuos_Solidos\": 2000.0, \"Personal_Vigilancia\": 0, \"rate_GastosByIngresos\": 0.6973131816791172, \"rate_ResiduosByPersonal\": 666.6666666666666}, {\"Distrito\": \"PAUCARPATA\", \"Ingresos_Total\": 127524280.33, \"Gastos_Total\": 72459003.32, \"Personal_Limpieza\": 93, \"Residuos_Solidos\": 61447.0, \"Personal_Vigilancia\": 20, \"rate_GastosByIngresos\": 0.5681977042528273, \"rate_ResiduosByPersonal\": 660.7204301075269}, {\"Distrito\": \"POLOBAYA\", \"Ingresos_Total\": 5360548.2, \"Gastos_Total\": 3755119.02, \"Personal_Limpieza\": 2, \"Residuos_Solidos\": 2500.0, \"Personal_Vigilancia\": 0, \"rate_GastosByIngresos\": 0.7005102612452957, \"rate_ResiduosByPersonal\": 1250.0}, {\"Distrito\": \"SABANDIA\", \"Ingresos_Total\": 11510643.46, \"Gastos_Total\": 4097824.95, \"Personal_Limpieza\": 10, \"Residuos_Solidos\": 3800.0, \"Personal_Vigilancia\": 1, \"rate_GastosByIngresos\": 0.35600311696215114, \"rate_ResiduosByPersonal\": 380.0}, {\"Distrito\": \"SACHACA\", \"Ingresos_Total\": 40211753.91, \"Gastos_Total\": 24051925.58, \"Personal_Limpieza\": 94, \"Residuos_Solidos\": 27630.0, \"Personal_Vigilancia\": 19, \"rate_GastosByIngresos\": 0.5981317212333452, \"rate_ResiduosByPersonal\": 293.93617021276594}, {\"Distrito\": \"SAN JUAN DE TARUCANI\", \"Ingresos_Total\": 12809596.4, \"Gastos_Total\": 4873842.13, \"Personal_Limpieza\": 2, \"Residuos_Solidos\": 250.0, \"Personal_Vigilancia\": 0, \"rate_GastosByIngresos\": 0.3804836606717757, \"rate_ResiduosByPersonal\": 125.0}, {\"Distrito\": \"SANTA RITA DE SIGUAS\", \"Ingresos_Total\": 15828283.42, \"Gastos_Total\": 7565243.89, \"Personal_Limpieza\": 2, \"Residuos_Solidos\": 12000.0, \"Personal_Vigilancia\": 1, \"rate_GastosByIngresos\": 0.4779573178757245, \"rate_ResiduosByPersonal\": 6000.0}, {\"Distrito\": \"SOCABAYA\", \"Ingresos_Total\": 98424822.43, \"Gastos_Total\": 47153894.4, \"Personal_Limpieza\": 59, \"Residuos_Solidos\": 50645.0, \"Personal_Vigilancia\": 8, \"rate_GastosByIngresos\": 0.47908538959809627, \"rate_ResiduosByPersonal\": 858.3898305084746}, {\"Distrito\": \"TIABAYA\", \"Ingresos_Total\": 71571722.77, \"Gastos_Total\": 24384199.72, \"Personal_Limpieza\": 30, \"Residuos_Solidos\": 6000.0, \"Personal_Vigilancia\": 3, \"rate_GastosByIngresos\": 0.3406960008264728, \"rate_ResiduosByPersonal\": 200.0}, {\"Distrito\": \"UCHUMAYO\", \"Ingresos_Total\": 86617654.38, \"Gastos_Total\": 36271633.9, \"Personal_Limpieza\": 42, \"Residuos_Solidos\": 8360.0, \"Personal_Vigilancia\": 0, \"rate_GastosByIngresos\": 0.41875567007244097, \"rate_ResiduosByPersonal\": 199.04761904761904}, {\"Distrito\": \"VITOR\", \"Ingresos_Total\": 17269584.22, \"Gastos_Total\": 12419618.52, \"Personal_Limpieza\": 4, \"Residuos_Solidos\": 1000.0, \"Personal_Vigilancia\": 1, \"rate_GastosByIngresos\": 0.719161408971084, \"rate_ResiduosByPersonal\": 250.0}, {\"Distrito\": \"YANAHUARA\", \"Ingresos_Total\": 25038288.57, \"Gastos_Total\": 22449912.51, \"Personal_Limpieza\": 103, \"Residuos_Solidos\": 24476.0, \"Personal_Vigilancia\": 0, \"rate_GastosByIngresos\": 0.8966232834658955, \"rate_ResiduosByPersonal\": 237.63106796116506}, {\"Distrito\": \"YARABAMBA\", \"Ingresos_Total\": 363948108.36, \"Gastos_Total\": 79280941.76, \"Personal_Limpieza\": 3, \"Residuos_Solidos\": 569.0, \"Personal_Vigilancia\": 1, \"rate_GastosByIngresos\": 0.2178358396125502, \"rate_ResiduosByPersonal\": 189.66666666666666}, {\"Distrito\": \"YURA\", \"Ingresos_Total\": 103759896.86, \"Gastos_Total\": 63307323.54, \"Personal_Limpieza\": 64, \"Residuos_Solidos\": 17000.0, \"Personal_Vigilancia\": 17, \"rate_GastosByIngresos\": 0.6101328688232853, \"rate_ResiduosByPersonal\": 265.625}, {\"Distrito\": \"JOSE LUIS BUSTAMANTE Y RIVERO\", \"Ingresos_Total\": 57297809.46, \"Gastos_Total\": 39851844.35, \"Personal_Limpieza\": 156, \"Residuos_Solidos\": 100000.0, \"Personal_Vigilancia\": 15, \"rate_GastosByIngresos\": 0.6955212550982574, \"rate_ResiduosByPersonal\": 641.025641025641}, {\"Distrito\": \"CAMANA\", \"Ingresos_Total\": 50911133.17, \"Gastos_Total\": 54127540.62, \"Personal_Limpieza\": 51, \"Residuos_Solidos\": 14940.0, \"Personal_Vigilancia\": 32, \"rate_GastosByIngresos\": 1.0631768976592983, \"rate_ResiduosByPersonal\": 292.94117647058823}, {\"Distrito\": \"OCO\\u00d1A\", \"Ingresos_Total\": 8793879.07, \"Gastos_Total\": 4868774.66, \"Personal_Limpieza\": 8, \"Residuos_Solidos\": 2500.0, \"Personal_Vigilancia\": 0, \"rate_GastosByIngresos\": 0.553654948088796, \"rate_ResiduosByPersonal\": 312.5}, {\"Distrito\": \"SAMUEL PASTOR\", \"Ingresos_Total\": 31637904.85, \"Gastos_Total\": 13646239.33, \"Personal_Limpieza\": 12, \"Residuos_Solidos\": 12000.0, \"Personal_Vigilancia\": 0, \"rate_GastosByIngresos\": 0.43132563280339975, \"rate_ResiduosByPersonal\": 1000.0}, {\"Distrito\": \"CARAVELI\", \"Ingresos_Total\": 25720934.9, \"Gastos_Total\": 27014723.35, \"Personal_Limpieza\": 18, \"Residuos_Solidos\": 3282.0, \"Personal_Vigilancia\": 1, \"rate_GastosByIngresos\": 1.0503009884761227, \"rate_ResiduosByPersonal\": 182.33333333333334}, {\"Distrito\": \"ACARI\", \"Ingresos_Total\": 8410990.89, \"Gastos_Total\": 5518371.92, \"Personal_Limpieza\": 5, \"Residuos_Solidos\": 3042.0, \"Personal_Vigilancia\": 5, \"rate_GastosByIngresos\": 0.6560905834009291, \"rate_ResiduosByPersonal\": 608.4}, {\"Distrito\": \"ATICO\", \"Ingresos_Total\": 13444595.7, \"Gastos_Total\": 6837501.77, \"Personal_Limpieza\": 1, \"Residuos_Solidos\": 2850.0, \"Personal_Vigilancia\": 0, \"rate_GastosByIngresos\": 0.5085687902091396, \"rate_ResiduosByPersonal\": 2850.0}, {\"Distrito\": \"BELLA UNION\", \"Ingresos_Total\": 12074531.18, \"Gastos_Total\": 8342270.42, \"Personal_Limpieza\": 4, \"Residuos_Solidos\": 2400.0, \"Personal_Vigilancia\": 3, \"rate_GastosByIngresos\": 0.6908980808975806, \"rate_ResiduosByPersonal\": 600.0}, {\"Distrito\": \"CHALA\", \"Ingresos_Total\": 18399422.61, \"Gastos_Total\": 5273723.0, \"Personal_Limpieza\": 16, \"Residuos_Solidos\": 11330.0, \"Personal_Vigilancia\": 2, \"rate_GastosByIngresos\": 0.28662437467650514, \"rate_ResiduosByPersonal\": 708.125}, {\"Distrito\": \"CHAPARRA\", \"Ingresos_Total\": 13784801.81, \"Gastos_Total\": 12134132.68, \"Personal_Limpieza\": 1, \"Residuos_Solidos\": 4000.0, \"Personal_Vigilancia\": 0, \"rate_GastosByIngresos\": 0.8802544169476165, \"rate_ResiduosByPersonal\": 4000.0}, {\"Distrito\": \"HUANUHUANU\", \"Ingresos_Total\": 10667214.87, \"Gastos_Total\": 3528653.87, \"Personal_Limpieza\": 4, \"Residuos_Solidos\": 2000.0, \"Personal_Vigilancia\": 0, \"rate_GastosByIngresos\": 0.3307942994495995, \"rate_ResiduosByPersonal\": 500.0}, {\"Distrito\": \"YAUCA\", \"Ingresos_Total\": 6019222.33, \"Gastos_Total\": 3663583.39, \"Personal_Limpieza\": 4, \"Residuos_Solidos\": 2000.0, \"Personal_Vigilancia\": 0, \"rate_GastosByIngresos\": 0.608647295139869, \"rate_ResiduosByPersonal\": 500.0}, {\"Distrito\": \"CHILCAYMARCA\", \"Ingresos_Total\": 4885299.78, \"Gastos_Total\": 3601568.7, \"Personal_Limpieza\": 1, \"Residuos_Solidos\": 50.0, \"Personal_Vigilancia\": 0, \"rate_GastosByIngresos\": 0.7372257307001946, \"rate_ResiduosByPersonal\": 50.0}, {\"Distrito\": \"MACHAGUAY\", \"Ingresos_Total\": 4237419.48, \"Gastos_Total\": 1155297.95, \"Personal_Limpieza\": 1, \"Residuos_Solidos\": 100.0, \"Personal_Vigilancia\": 0, \"rate_GastosByIngresos\": 0.27264186504376947, \"rate_ResiduosByPersonal\": 100.0}, {\"Distrito\": \"URACA\", \"Ingresos_Total\": 18503784.55, \"Gastos_Total\": 12193620.74, \"Personal_Limpieza\": 1, \"Residuos_Solidos\": 2508.0, \"Personal_Vigilancia\": 2, \"rate_GastosByIngresos\": 0.6589798269133003, \"rate_ResiduosByPersonal\": 2508.0}, {\"Distrito\": \"CHIVAY\", \"Ingresos_Total\": 42097037.39, \"Gastos_Total\": 31728282.25, \"Personal_Limpieza\": 39, \"Residuos_Solidos\": 6046.0, \"Personal_Vigilancia\": 0, \"rate_GastosByIngresos\": 0.7536939465848715, \"rate_ResiduosByPersonal\": 155.02564102564102}, {\"Distrito\": \"HUAMBO\", \"Ingresos_Total\": 3933696.72, \"Gastos_Total\": 3811757.3, \"Personal_Limpieza\": 1, \"Residuos_Solidos\": 200.0, \"Personal_Vigilancia\": 0, \"rate_GastosByIngresos\": 0.9690013164004162, \"rate_ResiduosByPersonal\": 200.0}, {\"Distrito\": \"LLUTA\", \"Ingresos_Total\": 11362280.47, \"Gastos_Total\": 3285007.13, \"Personal_Limpieza\": 1, \"Residuos_Solidos\": 402.0, \"Personal_Vigilancia\": 0, \"rate_GastosByIngresos\": 0.2891151242634305, \"rate_ResiduosByPersonal\": 402.0}, {\"Distrito\": \"MADRIGAL\", \"Ingresos_Total\": 4172360.41, \"Gastos_Total\": 3273344.38, \"Personal_Limpieza\": 1, \"Residuos_Solidos\": 280.0, \"Personal_Vigilancia\": 0, \"rate_GastosByIngresos\": 0.7845305914020979, \"rate_ResiduosByPersonal\": 280.0}, {\"Distrito\": \"SAN ANTONIO DE CHUCA\", \"Ingresos_Total\": 3628912.73, \"Gastos_Total\": 2862543.02, \"Personal_Limpieza\": 1, \"Residuos_Solidos\": 1000.0, \"Personal_Vigilancia\": 3, \"rate_GastosByIngresos\": 0.7888156130996294, \"rate_ResiduosByPersonal\": 1000.0}, {\"Distrito\": \"TUTI\", \"Ingresos_Total\": 1488056.14, \"Gastos_Total\": 1420089.91, \"Personal_Limpieza\": 2, \"Residuos_Solidos\": 250.0, \"Personal_Vigilancia\": 0, \"rate_GastosByIngresos\": 0.9543254933916674, \"rate_ResiduosByPersonal\": 125.0}, {\"Distrito\": \"MAJES\", \"Ingresos_Total\": 129950698.44, \"Gastos_Total\": 94569562.36, \"Personal_Limpieza\": 88, \"Residuos_Solidos\": 45134.0, \"Personal_Vigilancia\": 1, \"rate_GastosByIngresos\": 0.7277341599180711, \"rate_ResiduosByPersonal\": 512.8863636363636}, {\"Distrito\": \"CHUQUIBAMBA\", \"Ingresos_Total\": 51193750.17, \"Gastos_Total\": 45865382.79, \"Personal_Limpieza\": 4, \"Residuos_Solidos\": 2000.0, \"Personal_Vigilancia\": 2, \"rate_GastosByIngresos\": 0.8959176195862582, \"rate_ResiduosByPersonal\": 500.0}, {\"Distrito\": \"CHICHAS\", \"Ingresos_Total\": 8883497.26, \"Gastos_Total\": 6826135.38, \"Personal_Limpieza\": 1, \"Residuos_Solidos\": 80.0, \"Personal_Vigilancia\": 0, \"rate_GastosByIngresos\": 0.7684063134387684, \"rate_ResiduosByPersonal\": 80.0}, {\"Distrito\": \"MOLLENDO\", \"Ingresos_Total\": 57822326.6, \"Gastos_Total\": 42852409.81, \"Personal_Limpieza\": 11, \"Residuos_Solidos\": 27000.0, \"Personal_Vigilancia\": 40, \"rate_GastosByIngresos\": 0.741104904104637, \"rate_ResiduosByPersonal\": 2454.5454545454545}, {\"Distrito\": \"COCACHACRA\", \"Ingresos_Total\": 34171562.45, \"Gastos_Total\": 15741288.02, \"Personal_Limpieza\": 12, \"Residuos_Solidos\": 13550.0, \"Personal_Vigilancia\": 4, \"rate_GastosByIngresos\": 0.46065461721373524, \"rate_ResiduosByPersonal\": 1129.1666666666667}, {\"Distrito\": \"DEAN VALDIVIA\", \"Ingresos_Total\": 18295839.19, \"Gastos_Total\": 10165789.23, \"Personal_Limpieza\": 11, \"Residuos_Solidos\": 2000.0, \"Personal_Vigilancia\": 6, \"rate_GastosByIngresos\": 0.5556339408337355, \"rate_ResiduosByPersonal\": 181.8181818181818}, {\"Distrito\": \"ISLAY\", \"Ingresos_Total\": 33706396.45, \"Gastos_Total\": 17078305.64, \"Personal_Limpieza\": 31, \"Residuos_Solidos\": 3591.0, \"Personal_Vigilancia\": 5, \"rate_GastosByIngresos\": 0.5066784776395163, \"rate_ResiduosByPersonal\": 115.83870967741936}, {\"Distrito\": \"MEJIA\", \"Ingresos_Total\": 12547672.0, \"Gastos_Total\": 7790417.15, \"Personal_Limpieza\": 18, \"Residuos_Solidos\": 1800.0, \"Personal_Vigilancia\": 11, \"rate_GastosByIngresos\": 0.6208655398387845, \"rate_ResiduosByPersonal\": 100.0}, {\"Distrito\": \"PUNTA DE BOMBON\", \"Ingresos_Total\": 20201278.39, \"Gastos_Total\": 9726576.44, \"Personal_Limpieza\": 22, \"Residuos_Solidos\": 2200.0, \"Personal_Vigilancia\": 7, \"rate_GastosByIngresos\": 0.4814832136967545, \"rate_ResiduosByPersonal\": 100.0}, {\"Distrito\": \"COTAHUASI\", \"Ingresos_Total\": 15790600.32, \"Gastos_Total\": 8967737.62, \"Personal_Limpieza\": 1, \"Residuos_Solidos\": 1666.0, \"Personal_Vigilancia\": 1, \"rate_GastosByIngresos\": 0.5679161930684595, \"rate_ResiduosByPersonal\": 1666.0}, {\"Distrito\": \"AYACUCHO\", \"Ingresos_Total\": 92230072.65, \"Gastos_Total\": 80349698.16, \"Personal_Limpieza\": 171, \"Residuos_Solidos\": 89811.0, \"Personal_Vigilancia\": 0, \"rate_GastosByIngresos\": 0.8711876273253699, \"rate_ResiduosByPersonal\": 525.2105263157895}, {\"Distrito\": \"ACOCRO\", \"Ingresos_Total\": 27440457.06, \"Gastos_Total\": 19586721.47, \"Personal_Limpieza\": 1, \"Residuos_Solidos\": 1500.0, \"Personal_Vigilancia\": 1, \"rate_GastosByIngresos\": 0.7137899134541602, \"rate_ResiduosByPersonal\": 1500.0}, {\"Distrito\": \"CARMEN ALTO\", \"Ingresos_Total\": 21474828.22, \"Gastos_Total\": 28532542.15, \"Personal_Limpieza\": 14, \"Residuos_Solidos\": 22000.0, \"Personal_Vigilancia\": 2, \"rate_GastosByIngresos\": 1.3286505418202597, \"rate_ResiduosByPersonal\": 1571.4285714285713}, {\"Distrito\": \"OCROS\", \"Ingresos_Total\": 32753695.08, \"Gastos_Total\": 26516076.86, \"Personal_Limpieza\": 1, \"Residuos_Solidos\": 500.0, \"Personal_Vigilancia\": 1, \"rate_GastosByIngresos\": 0.8095598617265994, \"rate_ResiduosByPersonal\": 500.0}, {\"Distrito\": \"QUINUA\", \"Ingresos_Total\": 15204946.88, \"Gastos_Total\": 14452523.3, \"Personal_Limpieza\": 8, \"Residuos_Solidos\": 1900.0, \"Personal_Vigilancia\": 0, \"rate_GastosByIngresos\": 0.950514553852884, \"rate_ResiduosByPersonal\": 237.5}, {\"Distrito\": \"SAN JUAN BAUTISTA\", \"Ingresos_Total\": 35825106.15, \"Gastos_Total\": 28990848.86, \"Personal_Limpieza\": 59, \"Residuos_Solidos\": 39000.0, \"Personal_Vigilancia\": 0, \"rate_GastosByIngresos\": 0.8092327413801675, \"rate_ResiduosByPersonal\": 661.0169491525423}, {\"Distrito\": \"JESUS NAZARENO\", \"Ingresos_Total\": 12640159.9, \"Gastos_Total\": 12322237.82, \"Personal_Limpieza\": 29, \"Residuos_Solidos\": 16000.0, \"Personal_Vigilancia\": 0, \"rate_GastosByIngresos\": 0.9748482548863958, \"rate_ResiduosByPersonal\": 551.7241379310345}, {\"Distrito\": \"ANDR\\u00c9S AVELINO C\\u00c1CERES DORREGARAY\", \"Ingresos_Total\": 17083010.62, \"Gastos_Total\": 15192560.86, \"Personal_Limpieza\": 24, \"Residuos_Solidos\": 21000.0, \"Personal_Vigilancia\": 1, \"rate_GastosByIngresos\": 0.8893374357686841, \"rate_ResiduosByPersonal\": 875.0}, {\"Distrito\": \"CANGALLO\", \"Ingresos_Total\": 12070516.05, \"Gastos_Total\": 13804205.91, \"Personal_Limpieza\": 16, \"Residuos_Solidos\": 2800.0, \"Personal_Vigilancia\": 0, \"rate_GastosByIngresos\": 1.1436301358465946, \"rate_ResiduosByPersonal\": 175.0}, {\"Distrito\": \"CHUSCHI\", \"Ingresos_Total\": 5847384.06, \"Gastos_Total\": 5913420.83, \"Personal_Limpieza\": 1, \"Residuos_Solidos\": 1000.0, \"Personal_Vigilancia\": 0, \"rate_GastosByIngresos\": 1.0112933868072282, \"rate_ResiduosByPersonal\": 1000.0}, {\"Distrito\": \"LOS MOROCHUCOS\", \"Ingresos_Total\": 9948056.6, \"Gastos_Total\": 9400674.2, \"Personal_Limpieza\": 2, \"Residuos_Solidos\": 700.0, \"Personal_Vigilancia\": 0, \"rate_GastosByIngresos\": 0.9449759463572011, \"rate_ResiduosByPersonal\": 350.0}, {\"Distrito\": \"MARIA PARADO DE BELLIDO\", \"Ingresos_Total\": 6956760.36, \"Gastos_Total\": 7320049.76, \"Personal_Limpieza\": 1, \"Residuos_Solidos\": 200.0, \"Personal_Vigilancia\": 0, \"rate_GastosByIngresos\": 1.0522210599762558, \"rate_ResiduosByPersonal\": 200.0}, {\"Distrito\": \"PARAS\", \"Ingresos_Total\": 9386309.2, \"Gastos_Total\": 12409861.24, \"Personal_Limpieza\": 5, \"Residuos_Solidos\": 215.0, \"Personal_Vigilancia\": 0, \"rate_GastosByIngresos\": 1.3221236351344574, \"rate_ResiduosByPersonal\": 43.0}, {\"Distrito\": \"SANCOS\", \"Ingresos_Total\": 23658822.87, \"Gastos_Total\": 20885933.59, \"Personal_Limpieza\": 4, \"Residuos_Solidos\": 2178.0, \"Personal_Vigilancia\": 2, \"rate_GastosByIngresos\": 0.8827968198064454, \"rate_ResiduosByPersonal\": 544.5}, {\"Distrito\": \"HUANTA\", \"Ingresos_Total\": 50980792.78, \"Gastos_Total\": 52080869.26, \"Personal_Limpieza\": 40, \"Residuos_Solidos\": 18000.0, \"Personal_Vigilancia\": 10, \"rate_GastosByIngresos\": 1.0215782536914875, \"rate_ResiduosByPersonal\": 450.0}, {\"Distrito\": \"SIVIA\", \"Ingresos_Total\": 14813322.81, \"Gastos_Total\": 12825323.65, \"Personal_Limpieza\": 2, \"Residuos_Solidos\": 7500.0, \"Personal_Vigilancia\": 0, \"rate_GastosByIngresos\": 0.8657965410260307, \"rate_ResiduosByPersonal\": 3750.0}, {\"Distrito\": \"LLOCHEGUA\", \"Ingresos_Total\": 41326368.64, \"Gastos_Total\": 31148237.91, \"Personal_Limpieza\": 15, \"Residuos_Solidos\": 7000.0, \"Personal_Vigilancia\": 1, \"rate_GastosByIngresos\": 0.7537134022429317, \"rate_ResiduosByPersonal\": 466.6666666666667}, {\"Distrito\": \"CANAYRE\", \"Ingresos_Total\": 14328408.38, \"Gastos_Total\": 17838649.97, \"Personal_Limpieza\": 2, \"Residuos_Solidos\": 2000.0, \"Personal_Vigilancia\": 0, \"rate_GastosByIngresos\": 1.2449847531495328, \"rate_ResiduosByPersonal\": 1000.0}, {\"Distrito\": \"SAN MIGUEL\", \"Ingresos_Total\": 39423151.84, \"Gastos_Total\": 37311573.92, \"Personal_Limpieza\": 1, \"Residuos_Solidos\": 2800.0, \"Personal_Vigilancia\": 0, \"rate_GastosByIngresos\": 0.9464381252780117, \"rate_ResiduosByPersonal\": 2800.0}, {\"Distrito\": \"SANTA ROSA\", \"Ingresos_Total\": 27445175.06, \"Gastos_Total\": 26652563.82, \"Personal_Limpieza\": 11, \"Residuos_Solidos\": 5600.0, \"Personal_Vigilancia\": 2, \"rate_GastosByIngresos\": 0.9711201973291403, \"rate_ResiduosByPersonal\": 509.09090909090907}, {\"Distrito\": \"TAMBO\", \"Ingresos_Total\": 28561876.26, \"Gastos_Total\": 19556132.61, \"Personal_Limpieza\": 10, \"Residuos_Solidos\": 5000.0, \"Personal_Vigilancia\": 4, \"rate_GastosByIngresos\": 0.6846935555626554, \"rate_ResiduosByPersonal\": 500.0}, {\"Distrito\": \"SAMUGARI\", \"Ingresos_Total\": 17724530.2, \"Gastos_Total\": 13715906.96, \"Personal_Limpieza\": 5, \"Residuos_Solidos\": 4000.0, \"Personal_Vigilancia\": 0, \"rate_GastosByIngresos\": 0.7738375463401564, \"rate_ResiduosByPersonal\": 800.0}, {\"Distrito\": \"ANCHIHUAY\", \"Ingresos_Total\": 26719234.49, \"Gastos_Total\": 22771893.05, \"Personal_Limpieza\": 2, \"Residuos_Solidos\": 500.0, \"Personal_Vigilancia\": 0, \"rate_GastosByIngresos\": 0.8522659232068441, \"rate_ResiduosByPersonal\": 250.0}, {\"Distrito\": \"PUQUIO\", \"Ingresos_Total\": 44729412.45, \"Gastos_Total\": 41218687.78, \"Personal_Limpieza\": 1, \"Residuos_Solidos\": 12000.0, \"Personal_Vigilancia\": 0, \"rate_GastosByIngresos\": 0.9215119430883559, \"rate_ResiduosByPersonal\": 12000.0}, {\"Distrito\": \"CABANA\", \"Ingresos_Total\": 4692756.13, \"Gastos_Total\": 4798504.53, \"Personal_Limpieza\": 8, \"Residuos_Solidos\": 1600.0, \"Personal_Vigilancia\": 0, \"rate_GastosByIngresos\": 1.0225343906801312, \"rate_ResiduosByPersonal\": 200.0}, {\"Distrito\": \"CHIPAO\", \"Ingresos_Total\": 8395088.19, \"Gastos_Total\": 5480745.37, \"Personal_Limpieza\": 1, \"Residuos_Solidos\": 1700.0, \"Personal_Vigilancia\": 0, \"rate_GastosByIngresos\": 0.6528514347864165, \"rate_ResiduosByPersonal\": 1700.0}, {\"Distrito\": \"LARAMATE\", \"Ingresos_Total\": 3960627.96, \"Gastos_Total\": 2760187.87, \"Personal_Limpieza\": 5, \"Residuos_Solidos\": 350.0, \"Personal_Vigilancia\": 0, \"rate_GastosByIngresos\": 0.6969066263926491, \"rate_ResiduosByPersonal\": 70.0}, {\"Distrito\": \"LLAUTA\", \"Ingresos_Total\": 2280315.78, \"Gastos_Total\": 2582747.55, \"Personal_Limpieza\": 1, \"Residuos_Solidos\": 250.0, \"Personal_Vigilancia\": 0, \"rate_GastosByIngresos\": 1.1326271442984095, \"rate_ResiduosByPersonal\": 250.0}, {\"Distrito\": \"LUCANAS\", \"Ingresos_Total\": 7209930.79, \"Gastos_Total\": 8101021.1, \"Personal_Limpieza\": 2, \"Residuos_Solidos\": 1000.0, \"Personal_Vigilancia\": 1, \"rate_GastosByIngresos\": 1.1235920754240694, \"rate_ResiduosByPersonal\": 500.0}, {\"Distrito\": \"OCA\\u00d1A\", \"Ingresos_Total\": 3675615.36, \"Gastos_Total\": 3032947.04, \"Personal_Limpieza\": 1, \"Residuos_Solidos\": 410.0, \"Personal_Vigilancia\": 0, \"rate_GastosByIngresos\": 0.8251535438136813, \"rate_ResiduosByPersonal\": 410.0}, {\"Distrito\": \"OTOCA\", \"Ingresos_Total\": 3635093.38, \"Gastos_Total\": 2485110.25, \"Personal_Limpieza\": 2, \"Residuos_Solidos\": 450.0, \"Personal_Vigilancia\": 0, \"rate_GastosByIngresos\": 0.6836441296591946, \"rate_ResiduosByPersonal\": 225.0}, {\"Distrito\": \"SAISA\", \"Ingresos_Total\": 3241591.16, \"Gastos_Total\": 2482254.68, \"Personal_Limpieza\": 1, \"Residuos_Solidos\": 500.0, \"Personal_Vigilancia\": 0, \"rate_GastosByIngresos\": 0.7657519278279374, \"rate_ResiduosByPersonal\": 500.0}, {\"Distrito\": \"SAN JUAN\", \"Ingresos_Total\": 2736545.48, \"Gastos_Total\": 3058582.43, \"Personal_Limpieza\": 2, \"Residuos_Solidos\": 750.0, \"Personal_Vigilancia\": 0, \"rate_GastosByIngresos\": 1.1176801015563609, \"rate_ResiduosByPersonal\": 375.0}, {\"Distrito\": \"SANTA ANA DE HUAYCAHUACHO\", \"Ingresos_Total\": 1469684.13, \"Gastos_Total\": 1199207.84, \"Personal_Limpieza\": 1, \"Residuos_Solidos\": 170.0, \"Personal_Vigilancia\": 0, \"rate_GastosByIngresos\": 0.8159629783850222, \"rate_ResiduosByPersonal\": 170.0}, {\"Distrito\": \"LAMPA\", \"Ingresos_Total\": 3785496.07, \"Gastos_Total\": 3413862.11, \"Personal_Limpieza\": 2, \"Residuos_Solidos\": 583.0, \"Personal_Vigilancia\": 0, \"rate_GastosByIngresos\": 0.9018268799840545, \"rate_ResiduosByPersonal\": 291.5}, {\"Distrito\": \"SANTIAGO DE PAUCARAY\", \"Ingresos_Total\": 2210822.16, \"Gastos_Total\": 2226402.66, \"Personal_Limpieza\": 2, \"Residuos_Solidos\": 506.0, \"Personal_Vigilancia\": 1, \"rate_GastosByIngresos\": 1.0070473782477374, \"rate_ResiduosByPersonal\": 253.0}, {\"Distrito\": \"HUANCAPI\", \"Ingresos_Total\": 20051937.46, \"Gastos_Total\": 16382310.38, \"Personal_Limpieza\": 6, \"Residuos_Solidos\": 1650.0, \"Personal_Vigilancia\": 0, \"rate_GastosByIngresos\": 0.816993889626863, \"rate_ResiduosByPersonal\": 275.0}, {\"Distrito\": \"CANARIA\", \"Ingresos_Total\": 3312370.64, \"Gastos_Total\": 2087001.18, \"Personal_Limpieza\": 2, \"Residuos_Solidos\": 710.0, \"Personal_Vigilancia\": 0, \"rate_GastosByIngresos\": 0.6300626973314798, \"rate_ResiduosByPersonal\": 355.0}, {\"Distrito\": \"CAYARA\", \"Ingresos_Total\": 1951984.16, \"Gastos_Total\": 1954426.63, \"Personal_Limpieza\": 2, \"Residuos_Solidos\": 443.0, \"Personal_Vigilancia\": 0, \"rate_GastosByIngresos\": 1.0012512755226457, \"rate_ResiduosByPersonal\": 221.5}, {\"Distrito\": \"HUANCARAYLLA\", \"Ingresos_Total\": 1854134.49, \"Gastos_Total\": 2023139.93, \"Personal_Limpieza\": 2, \"Residuos_Solidos\": 350.0, \"Personal_Vigilancia\": 0, \"rate_GastosByIngresos\": 1.0911505831489063, \"rate_ResiduosByPersonal\": 175.0}, {\"Distrito\": \"VILCAS HUAMAN\", \"Ingresos_Total\": 18642114.24, \"Gastos_Total\": 15742594.45, \"Personal_Limpieza\": 16, \"Residuos_Solidos\": 3450.0, \"Personal_Vigilancia\": 0, \"rate_GastosByIngresos\": 0.8444640048509863, \"rate_ResiduosByPersonal\": 215.625}, {\"Distrito\": \"VISCHONGO\", \"Ingresos_Total\": 4380094.05, \"Gastos_Total\": 8632808.42, \"Personal_Limpieza\": 1, \"Residuos_Solidos\": 400.0, \"Personal_Vigilancia\": 0, \"rate_GastosByIngresos\": 1.9709185057339123, \"rate_ResiduosByPersonal\": 400.0}, {\"Distrito\": \"CAJAMARCA\", \"Ingresos_Total\": 217923061.14, \"Gastos_Total\": 173423333.63, \"Personal_Limpieza\": 518, \"Residuos_Solidos\": 165000.0, \"Personal_Vigilancia\": 106, \"rate_GastosByIngresos\": 0.7958007414304258, \"rate_ResiduosByPersonal\": 318.5328185328185}, {\"Distrito\": \"ASUNCION\", \"Ingresos_Total\": 16908487.14, \"Gastos_Total\": 11839247.2, \"Personal_Limpieza\": 9, \"Residuos_Solidos\": 750.0, \"Personal_Vigilancia\": 5, \"rate_GastosByIngresos\": 0.7001955350571949, \"rate_ResiduosByPersonal\": 83.33333333333333}, {\"Distrito\": \"COSPAN\", \"Ingresos_Total\": 7395366.58, \"Gastos_Total\": 5977851.69, \"Personal_Limpieza\": 10, \"Residuos_Solidos\": 700.0, \"Personal_Vigilancia\": 4, \"rate_GastosByIngresos\": 0.8083239181363204, \"rate_ResiduosByPersonal\": 70.0}, {\"Distrito\": \"ENCA\\u00d1ADA\", \"Ingresos_Total\": 71578587.61, \"Gastos_Total\": 58214790.44, \"Personal_Limpieza\": 14, \"Residuos_Solidos\": 500.0, \"Personal_Vigilancia\": 11, \"rate_GastosByIngresos\": 0.8132989541116205, \"rate_ResiduosByPersonal\": 35.714285714285715}, {\"Distrito\": \"LLACANORA\", \"Ingresos_Total\": 9407938.51, \"Gastos_Total\": 8551507.0, \"Personal_Limpieza\": 2, \"Residuos_Solidos\": 500.0, \"Personal_Vigilancia\": 0, \"rate_GastosByIngresos\": 0.9089671441740748, \"rate_ResiduosByPersonal\": 250.0}, {\"Distrito\": \"LOS BA\\u00d1OS DEL INCA\", \"Ingresos_Total\": 62121854.34, \"Gastos_Total\": 63257150.13, \"Personal_Limpieza\": 51, \"Residuos_Solidos\": 17800.0, \"Personal_Vigilancia\": 25, \"rate_GastosByIngresos\": 1.0182753042719297, \"rate_ResiduosByPersonal\": 349.01960784313724}, {\"Distrito\": \"MAGDALENA\", \"Ingresos_Total\": 7759341.97, \"Gastos_Total\": 5130757.86, \"Personal_Limpieza\": 1, \"Residuos_Solidos\": 3400.0, \"Personal_Vigilancia\": 0, \"rate_GastosByIngresos\": 0.6612362078945724, \"rate_ResiduosByPersonal\": 3400.0}, {\"Distrito\": \"MATARA\", \"Ingresos_Total\": 8538298.25, \"Gastos_Total\": 8234340.52, \"Personal_Limpieza\": 8, \"Residuos_Solidos\": 800.0, \"Personal_Vigilancia\": 0, \"rate_GastosByIngresos\": 0.9644006661397662, \"rate_ResiduosByPersonal\": 100.0}, {\"Distrito\": \"NAMORA\", \"Ingresos_Total\": 19779671.27, \"Gastos_Total\": 15069631.02, \"Personal_Limpieza\": 3, \"Residuos_Solidos\": 3600.0, \"Personal_Vigilancia\": 0, \"rate_GastosByIngresos\": 0.7618746952006347, \"rate_ResiduosByPersonal\": 1200.0}, {\"Distrito\": \"SAN JUAN\", \"Ingresos_Total\": 4110197.08, \"Gastos_Total\": 3649527.43, \"Personal_Limpieza\": 10, \"Residuos_Solidos\": 676.0, \"Personal_Vigilancia\": 0, \"rate_GastosByIngresos\": 0.8879203013788332, \"rate_ResiduosByPersonal\": 67.6}, {\"Distrito\": \"CAJABAMBA\", \"Ingresos_Total\": 68377406.1, \"Gastos_Total\": 55790215.82, \"Personal_Limpieza\": 75, \"Residuos_Solidos\": 16000.0, \"Personal_Vigilancia\": 10, \"rate_GastosByIngresos\": 0.8159159436145971, \"rate_ResiduosByPersonal\": 213.33333333333334}, {\"Distrito\": \"CACHACHI\", \"Ingresos_Total\": 55584474.31, \"Gastos_Total\": 32562099.21, \"Personal_Limpieza\": 13, \"Residuos_Solidos\": 558.0, \"Personal_Vigilancia\": 8, \"rate_GastosByIngresos\": 0.5858128481776766, \"rate_ResiduosByPersonal\": 42.92307692307692}, {\"Distrito\": \"SITACOCHA\", \"Ingresos_Total\": 10802984.0, \"Gastos_Total\": 5366115.39, \"Personal_Limpieza\": 3, \"Residuos_Solidos\": 3000.0, \"Personal_Vigilancia\": 0, \"rate_GastosByIngresos\": 0.49672529275244687, \"rate_ResiduosByPersonal\": 1000.0}, {\"Distrito\": \"CORTEGANA\", \"Ingresos_Total\": 7791704.84, \"Gastos_Total\": 6672543.56, \"Personal_Limpieza\": 2, \"Residuos_Solidos\": 200.0, \"Personal_Vigilancia\": 0, \"rate_GastosByIngresos\": 0.8563650314043466, \"rate_ResiduosByPersonal\": 100.0}, {\"Distrito\": \"CHOTA\", \"Ingresos_Total\": 85572398.09, \"Gastos_Total\": 62058107.58, \"Personal_Limpieza\": 56, \"Residuos_Solidos\": 135000.0, \"Personal_Vigilancia\": 19, \"rate_GastosByIngresos\": 0.7252117384244735, \"rate_ResiduosByPersonal\": 2410.714285714286}, {\"Distrito\": \"ANGUIA\", \"Ingresos_Total\": 17776014.23, \"Gastos_Total\": 14370262.74, \"Personal_Limpieza\": 4, \"Residuos_Solidos\": 400.0, \"Personal_Vigilancia\": 1, \"rate_GastosByIngresos\": 0.8084074727926227, \"rate_ResiduosByPersonal\": 100.0}, {\"Distrito\": \"CHIMBAN\", \"Ingresos_Total\": 2473364.51, \"Gastos_Total\": 2363499.2, \"Personal_Limpieza\": 2, \"Residuos_Solidos\": 200.0, \"Personal_Vigilancia\": 0, \"rate_GastosByIngresos\": 0.9555806232539499, \"rate_ResiduosByPersonal\": 100.0}, {\"Distrito\": \"COCHABAMBA\", \"Ingresos_Total\": 10700324.75, \"Gastos_Total\": 9349516.51, \"Personal_Limpieza\": 2, \"Residuos_Solidos\": 350.0, \"Personal_Vigilancia\": 2, \"rate_GastosByIngresos\": 0.8737600706931815, \"rate_ResiduosByPersonal\": 175.0}, {\"Distrito\": \"CONCHAN\", \"Ingresos_Total\": 10255695.33, \"Gastos_Total\": 10243767.76, \"Personal_Limpieza\": 8, \"Residuos_Solidos\": 4000.0, \"Personal_Vigilancia\": 0, \"rate_GastosByIngresos\": 0.9988369808563726, \"rate_ResiduosByPersonal\": 500.0}, {\"Distrito\": \"HUAMBOS\", \"Ingresos_Total\": 10130106.14, \"Gastos_Total\": 14167770.41, \"Personal_Limpieza\": 1, \"Residuos_Solidos\": 1200.0, \"Personal_Vigilancia\": 0, \"rate_GastosByIngresos\": 1.3985806480404754, \"rate_ResiduosByPersonal\": 1200.0}, {\"Distrito\": \"LAJAS\", \"Ingresos_Total\": 8614422.38, \"Gastos_Total\": 8239528.5, \"Personal_Limpieza\": 14, \"Residuos_Solidos\": 3200.0, \"Personal_Vigilancia\": 0, \"rate_GastosByIngresos\": 0.9564806711973646, \"rate_ResiduosByPersonal\": 228.57142857142858}, {\"Distrito\": \"LLAMA\", \"Ingresos_Total\": 20594746.99, \"Gastos_Total\": 19201506.19, \"Personal_Limpieza\": 2, \"Residuos_Solidos\": 500.0, \"Personal_Vigilancia\": 0, \"rate_GastosByIngresos\": 0.9323497005971232, \"rate_ResiduosByPersonal\": 250.0}, {\"Distrito\": \"QUEROCOTO\", \"Ingresos_Total\": 19244760.18, \"Gastos_Total\": 16396909.75, \"Personal_Limpieza\": 22, \"Residuos_Solidos\": 2000.0, \"Personal_Vigilancia\": 14, \"rate_GastosByIngresos\": 0.8520194378436781, \"rate_ResiduosByPersonal\": 90.9090909090909}, {\"Distrito\": \"SAN JUAN DE LICUPIS\", \"Ingresos_Total\": 2737479.15, \"Gastos_Total\": 2287446.55, \"Personal_Limpieza\": 7, \"Residuos_Solidos\": 20.0, \"Personal_Vigilancia\": 2, \"rate_GastosByIngresos\": 0.8356032775628629, \"rate_ResiduosByPersonal\": 2.857142857142857}, {\"Distrito\": \"TACABAMBA\", \"Ingresos_Total\": 30455171.52, \"Gastos_Total\": 24000703.16, \"Personal_Limpieza\": 23, \"Residuos_Solidos\": 2000.0, \"Personal_Vigilancia\": 5, \"rate_GastosByIngresos\": 0.788066589749418, \"rate_ResiduosByPersonal\": 86.95652173913044}, {\"Distrito\": \"CHALAMARCA\", \"Ingresos_Total\": 9693585.81, \"Gastos_Total\": 9551225.6, \"Personal_Limpieza\": 9, \"Residuos_Solidos\": 690.0, \"Personal_Vigilancia\": 1, \"rate_GastosByIngresos\": 0.9853139784605671, \"rate_ResiduosByPersonal\": 76.66666666666667}, {\"Distrito\": \"CONTUMAZA\", \"Ingresos_Total\": 24470747.25, \"Gastos_Total\": 21510852.83, \"Personal_Limpieza\": 3, \"Residuos_Solidos\": 2610.0, \"Personal_Vigilancia\": 0, \"rate_GastosByIngresos\": 0.8790435621045449, \"rate_ResiduosByPersonal\": 870.0}, {\"Distrito\": \"CHILETE\", \"Ingresos_Total\": 8789759.55, \"Gastos_Total\": 6120487.71, \"Personal_Limpieza\": 10, \"Residuos_Solidos\": 4320.0, \"Personal_Vigilancia\": 0, \"rate_GastosByIngresos\": 0.6963202662352691, \"rate_ResiduosByPersonal\": 432.0}, {\"Distrito\": \"CUPISNIQUE\", \"Ingresos_Total\": 1601823.95, \"Gastos_Total\": 2513416.42, \"Personal_Limpieza\": 1, \"Residuos_Solidos\": 50.0, \"Personal_Vigilancia\": 0, \"rate_GastosByIngresos\": 1.569096541476983, \"rate_ResiduosByPersonal\": 50.0}, {\"Distrito\": \"SAN BENITO\", \"Ingresos_Total\": 5568777.48, \"Gastos_Total\": 5133172.62, \"Personal_Limpieza\": 1, \"Residuos_Solidos\": 900.0, \"Personal_Vigilancia\": 0, \"rate_GastosByIngresos\": 0.9217772910545529, \"rate_ResiduosByPersonal\": 900.0}, {\"Distrito\": \"TANTARICA\", \"Ingresos_Total\": 4770689.28, \"Gastos_Total\": 3483611.22, \"Personal_Limpieza\": 7, \"Residuos_Solidos\": 1042.0, \"Personal_Vigilancia\": 1, \"rate_GastosByIngresos\": 0.7302112997809826, \"rate_ResiduosByPersonal\": 148.85714285714286}, {\"Distrito\": \"YONAN\", \"Ingresos_Total\": 11860318.14, \"Gastos_Total\": 6343662.97, \"Personal_Limpieza\": 12, \"Residuos_Solidos\": 3486.0, \"Personal_Vigilancia\": 0, \"rate_GastosByIngresos\": 0.5348644863585421, \"rate_ResiduosByPersonal\": 290.5}, {\"Distrito\": \"CUTERVO\", \"Ingresos_Total\": 86215178.68, \"Gastos_Total\": 61463431.05, \"Personal_Limpieza\": 70, \"Residuos_Solidos\": 29394.0, \"Personal_Vigilancia\": 17, \"rate_GastosByIngresos\": 0.7129073092585045, \"rate_ResiduosByPersonal\": 419.9142857142857}, {\"Distrito\": \"PIMPINGOS\", \"Ingresos_Total\": 15906174.43, \"Gastos_Total\": 15728753.74, \"Personal_Limpieza\": 8, \"Residuos_Solidos\": 1000.0, \"Personal_Vigilancia\": 0, \"rate_GastosByIngresos\": 0.9888457975372523, \"rate_ResiduosByPersonal\": 125.0}, {\"Distrito\": \"SAN ANDRES DE CUTERVO\", \"Ingresos_Total\": 5650760.28, \"Gastos_Total\": 4726129.98, \"Personal_Limpieza\": 1, \"Residuos_Solidos\": 2000.0, \"Personal_Vigilancia\": 0, \"rate_GastosByIngresos\": 0.836370637899366, \"rate_ResiduosByPersonal\": 2000.0}, {\"Distrito\": \"SAN JUAN DE CUTERVO\", \"Ingresos_Total\": 10574636.66, \"Gastos_Total\": 8584466.31, \"Personal_Limpieza\": 1, \"Residuos_Solidos\": 290.0, \"Personal_Vigilancia\": 0, \"rate_GastosByIngresos\": 0.8117977558956622, \"rate_ResiduosByPersonal\": 290.0}, {\"Distrito\": \"SAN LUIS DE LUCMA\", \"Ingresos_Total\": 4477587.38, \"Gastos_Total\": 3491821.78, \"Personal_Limpieza\": 1, \"Residuos_Solidos\": 250.0, \"Personal_Vigilancia\": 1, \"rate_GastosByIngresos\": 0.7798444750842584, \"rate_ResiduosByPersonal\": 250.0}, {\"Distrito\": \"SANTA CRUZ\", \"Ingresos_Total\": 6002666.16, \"Gastos_Total\": 8730341.77, \"Personal_Limpieza\": 1, \"Residuos_Solidos\": 500.0, \"Personal_Vigilancia\": 0, \"rate_GastosByIngresos\": 1.4544106797370187, \"rate_ResiduosByPersonal\": 500.0}, {\"Distrito\": \"SANTO DOMINGO DE LA CAPILLA\", \"Ingresos_Total\": 7969469.2, \"Gastos_Total\": 7501718.6, \"Personal_Limpieza\": 1, \"Residuos_Solidos\": 1500.0, \"Personal_Vigilancia\": 0, \"rate_GastosByIngresos\": 0.9413071826665695, \"rate_ResiduosByPersonal\": 1500.0}, {\"Distrito\": \"SOCOTA\", \"Ingresos_Total\": 8338335.16, \"Gastos_Total\": 9120066.7, \"Personal_Limpieza\": 5, \"Residuos_Solidos\": 978.0, \"Personal_Vigilancia\": 0, \"rate_GastosByIngresos\": 1.093751513341663, \"rate_ResiduosByPersonal\": 195.6}, {\"Distrito\": \"TORIBIO CASANOVA\", \"Ingresos_Total\": 2234083.3, \"Gastos_Total\": 2431923.55, \"Personal_Limpieza\": 1, \"Residuos_Solidos\": 200.0, \"Personal_Vigilancia\": 0, \"rate_GastosByIngresos\": 1.0885554491186609, \"rate_ResiduosByPersonal\": 200.0}, {\"Distrito\": \"BAMBAMARCA\", \"Ingresos_Total\": 129634723.23, \"Gastos_Total\": 79417618.76, \"Personal_Limpieza\": 25, \"Residuos_Solidos\": 16687.0, \"Personal_Vigilancia\": 35, \"rate_GastosByIngresos\": 0.6126261296450334, \"rate_ResiduosByPersonal\": 667.48}, {\"Distrito\": \"HUALGAYOC\", \"Ingresos_Total\": 43965243.56, \"Gastos_Total\": 26761082.27, \"Personal_Limpieza\": 25, \"Residuos_Solidos\": 1550.0, \"Personal_Vigilancia\": 13, \"rate_GastosByIngresos\": 0.6086872288897652, \"rate_ResiduosByPersonal\": 62.0}, {\"Distrito\": \"JAEN\", \"Ingresos_Total\": 99514118.17, \"Gastos_Total\": 86335660.11, \"Personal_Limpieza\": 178, \"Residuos_Solidos\": 120000.0, \"Personal_Vigilancia\": 26, \"rate_GastosByIngresos\": 0.8675719756920597, \"rate_ResiduosByPersonal\": 674.1573033707865}, {\"Distrito\": \"BELLAVISTA\", \"Ingresos_Total\": 14937998.43, \"Gastos_Total\": 11884413.21, \"Personal_Limpieza\": 24, \"Residuos_Solidos\": 10000.0, \"Personal_Vigilancia\": 0, \"rate_GastosByIngresos\": 0.7955827057882481, \"rate_ResiduosByPersonal\": 416.6666666666667}, {\"Distrito\": \"CHONTALI\", \"Ingresos_Total\": 12235472.35, \"Gastos_Total\": 11225782.76, \"Personal_Limpieza\": 5, \"Residuos_Solidos\": 1000.0, \"Personal_Vigilancia\": 2, \"rate_GastosByIngresos\": 0.9174784952213144, \"rate_ResiduosByPersonal\": 200.0}, {\"Distrito\": \"PUCARA\", \"Ingresos_Total\": 5299759.78, \"Gastos_Total\": 4855527.28, \"Personal_Limpieza\": 6, \"Residuos_Solidos\": 4000.0, \"Personal_Vigilancia\": 1, \"rate_GastosByIngresos\": 0.9161787480111032, \"rate_ResiduosByPersonal\": 666.6666666666666}, {\"Distrito\": \"SAN FELIPE\", \"Ingresos_Total\": 5128360.24, \"Gastos_Total\": 5133059.95, \"Personal_Limpieza\": 1, \"Residuos_Solidos\": 1500.0, \"Personal_Vigilancia\": 1, \"rate_GastosByIngresos\": 1.0009164157313566, \"rate_ResiduosByPersonal\": 1500.0}, {\"Distrito\": \"SAN JOSE DEL ALTO\", \"Ingresos_Total\": 8807099.02, \"Gastos_Total\": 7212461.41, \"Personal_Limpieza\": 2, \"Residuos_Solidos\": 383.0, \"Personal_Vigilancia\": 5, \"rate_GastosByIngresos\": 0.8189372452406014, \"rate_ResiduosByPersonal\": 191.5}, {\"Distrito\": \"SANTA ROSA\", \"Ingresos_Total\": 23086708.29, \"Gastos_Total\": 16644346.44, \"Personal_Limpieza\": 7, \"Residuos_Solidos\": 300.0, \"Personal_Vigilancia\": 0, \"rate_GastosByIngresos\": 0.7209493112194558, \"rate_ResiduosByPersonal\": 42.857142857142854}, {\"Distrito\": \"SAN IGNACIO\", \"Ingresos_Total\": 69609980.2, \"Gastos_Total\": 67417286.47, \"Personal_Limpieza\": 1, \"Residuos_Solidos\": 5100.0, \"Personal_Vigilancia\": 2, \"rate_GastosByIngresos\": 0.9685002965997108, \"rate_ResiduosByPersonal\": 5100.0}, {\"Distrito\": \"CHIRINOS\", \"Ingresos_Total\": 14522813.77, \"Gastos_Total\": 15305865.76, \"Personal_Limpieza\": 2, \"Residuos_Solidos\": 8000.0, \"Personal_Vigilancia\": 6, \"rate_GastosByIngresos\": 1.053918751724102, \"rate_ResiduosByPersonal\": 4000.0}, {\"Distrito\": \"LA COIPA\", \"Ingresos_Total\": 34276089.81, \"Gastos_Total\": 28043325.29, \"Personal_Limpieza\": 4, \"Residuos_Solidos\": 1400.0, \"Personal_Vigilancia\": 1, \"rate_GastosByIngresos\": 0.8181599898194454, \"rate_ResiduosByPersonal\": 350.0}, {\"Distrito\": \"NAMBALLE\", \"Ingresos_Total\": 20377582.93, \"Gastos_Total\": 17981519.28, \"Personal_Limpieza\": 1, \"Residuos_Solidos\": 1953.0, \"Personal_Vigilancia\": 2, \"rate_GastosByIngresos\": 0.8824166900347882, \"rate_ResiduosByPersonal\": 1953.0}, {\"Distrito\": \"PEDRO GALVEZ\", \"Ingresos_Total\": 30789246.21, \"Gastos_Total\": 31457065.07, \"Personal_Limpieza\": 19, \"Residuos_Solidos\": 10000.0, \"Personal_Vigilancia\": 0, \"rate_GastosByIngresos\": 1.021690003563098, \"rate_ResiduosByPersonal\": 526.3157894736842}, {\"Distrito\": \"CHANCAY\", \"Ingresos_Total\": 17897060.6, \"Gastos_Total\": 17978075.86, \"Personal_Limpieza\": 3, \"Residuos_Solidos\": 225.0, \"Personal_Vigilancia\": 0, \"rate_GastosByIngresos\": 1.0045267355243799, \"rate_ResiduosByPersonal\": 75.0}, {\"Distrito\": \"GREGORIO PITA\", \"Ingresos_Total\": 19940175.67, \"Gastos_Total\": 23456819.81, \"Personal_Limpieza\": 5, \"Residuos_Solidos\": 150.0, \"Personal_Vigilancia\": 0, \"rate_GastosByIngresos\": 1.1763597371557157, \"rate_ResiduosByPersonal\": 30.0}, {\"Distrito\": \"JOSE MANUEL QUIROZ\", \"Ingresos_Total\": 2961686.28, \"Gastos_Total\": 2445463.66, \"Personal_Limpieza\": 1, \"Residuos_Solidos\": 500.0, \"Personal_Vigilancia\": 0, \"rate_GastosByIngresos\": 0.8256997631768076, \"rate_ResiduosByPersonal\": 500.0}, {\"Distrito\": \"JOSE SABOGAL\", \"Ingresos_Total\": 9071015.99, \"Gastos_Total\": 8594356.82, \"Personal_Limpieza\": 1, \"Residuos_Solidos\": 1154.0, \"Personal_Vigilancia\": 0, \"rate_GastosByIngresos\": 0.9474525047111068, \"rate_ResiduosByPersonal\": 1154.0}, {\"Distrito\": \"BOLIVAR\", \"Ingresos_Total\": 10882539.68, \"Gastos_Total\": 10867860.64, \"Personal_Limpieza\": 1, \"Residuos_Solidos\": 332.0, \"Personal_Vigilancia\": 0, \"rate_GastosByIngresos\": 0.9986511383894169, \"rate_ResiduosByPersonal\": 332.0}, {\"Distrito\": \"LA FLORIDA\", \"Ingresos_Total\": 5803922.97, \"Gastos_Total\": 5536857.51, \"Personal_Limpieza\": 1, \"Residuos_Solidos\": 1000.0, \"Personal_Vigilancia\": 0, \"rate_GastosByIngresos\": 0.9539853541509011, \"rate_ResiduosByPersonal\": 1000.0}, {\"Distrito\": \"LLAPA\", \"Ingresos_Total\": 5548935.63, \"Gastos_Total\": 12001933.17, \"Personal_Limpieza\": 6, \"Residuos_Solidos\": 200.0, \"Personal_Vigilancia\": 4, \"rate_GastosByIngresos\": 2.162925283384482, \"rate_ResiduosByPersonal\": 33.333333333333336}, {\"Distrito\": \"NIEPOS\", \"Ingresos_Total\": 10019602.94, \"Gastos_Total\": 9534690.35, \"Personal_Limpieza\": 1, \"Residuos_Solidos\": 400.0, \"Personal_Vigilancia\": 0, \"rate_GastosByIngresos\": 0.9516036121487266, \"rate_ResiduosByPersonal\": 400.0}, {\"Distrito\": \"TUMBADEN\", \"Ingresos_Total\": 4516048.71, \"Gastos_Total\": 3422765.1, \"Personal_Limpieza\": 2, \"Residuos_Solidos\": 60.0, \"Personal_Vigilancia\": 0, \"rate_GastosByIngresos\": 0.7579114663712296, \"rate_ResiduosByPersonal\": 30.0}, {\"Distrito\": \"SANTA CRUZ\", \"Ingresos_Total\": 37340837.81, \"Gastos_Total\": 37077460.52, \"Personal_Limpieza\": 7, \"Residuos_Solidos\": 4500.0, \"Personal_Vigilancia\": 13, \"rate_GastosByIngresos\": 0.9929466689703073, \"rate_ResiduosByPersonal\": 642.8571428571429}, {\"Distrito\": \"ANDABAMBA\", \"Ingresos_Total\": 3633381.59, \"Gastos_Total\": 3607450.85, \"Personal_Limpieza\": 1, \"Residuos_Solidos\": 30.0, \"Personal_Vigilancia\": 0, \"rate_GastosByIngresos\": 0.9928631938711399, \"rate_ResiduosByPersonal\": 30.0}, {\"Distrito\": \"CATACHE\", \"Ingresos_Total\": 26928119.54, \"Gastos_Total\": 25354193.32, \"Personal_Limpieza\": 4, \"Residuos_Solidos\": 1440.0, \"Personal_Vigilancia\": 0, \"rate_GastosByIngresos\": 0.9415508306229096, \"rate_ResiduosByPersonal\": 360.0}, {\"Distrito\": \"CHANCAYBA\\u00d1OS\", \"Ingresos_Total\": 5451423.13, \"Gastos_Total\": 5051051.82, \"Personal_Limpieza\": 2, \"Residuos_Solidos\": 1000.0, \"Personal_Vigilancia\": 0, \"rate_GastosByIngresos\": 0.9265565522153846, \"rate_ResiduosByPersonal\": 500.0}, {\"Distrito\": \"LA ESPERANZA\", \"Ingresos_Total\": 8901924.2, \"Gastos_Total\": 8487739.56, \"Personal_Limpieza\": 5, \"Residuos_Solidos\": 1000.0, \"Personal_Vigilancia\": 1, \"rate_GastosByIngresos\": 0.9534724593588431, \"rate_ResiduosByPersonal\": 200.0}, {\"Distrito\": \"NINABAMBA\", \"Ingresos_Total\": 8669872.68, \"Gastos_Total\": 6859991.5, \"Personal_Limpieza\": 5, \"Residuos_Solidos\": 500.0, \"Personal_Vigilancia\": 0, \"rate_GastosByIngresos\": 0.7912447798483703, \"rate_ResiduosByPersonal\": 100.0}, {\"Distrito\": \"SAUCEPAMPA\", \"Ingresos_Total\": 4585699.44, \"Gastos_Total\": 4693587.92, \"Personal_Limpieza\": 8, \"Residuos_Solidos\": 110.0, \"Personal_Vigilancia\": 0, \"rate_GastosByIngresos\": 1.0235271590324724, \"rate_ResiduosByPersonal\": 13.75}, {\"Distrito\": \"SEXI\", \"Ingresos_Total\": 2293425.67, \"Gastos_Total\": 1106524.16, \"Personal_Limpieza\": 8, \"Residuos_Solidos\": 50.0, \"Personal_Vigilancia\": 0, \"rate_GastosByIngresos\": 0.4824765740064294, \"rate_ResiduosByPersonal\": 6.25}, {\"Distrito\": \"BELLAVISTA\", \"Ingresos_Total\": 58101922.42, \"Gastos_Total\": 49520541.1, \"Personal_Limpieza\": 58, \"Residuos_Solidos\": 90000.0, \"Personal_Vigilancia\": 5, \"rate_GastosByIngresos\": 0.8523046921241613, \"rate_ResiduosByPersonal\": 1551.7241379310344}, {\"Distrito\": \"CARMEN DE LA LEGUA REYNOSO\", \"Ingresos_Total\": 39200249.96, \"Gastos_Total\": 34522151.3, \"Personal_Limpieza\": 100, \"Residuos_Solidos\": 52000.0, \"Personal_Vigilancia\": 0, \"rate_GastosByIngresos\": 0.8806615094349259, \"rate_ResiduosByPersonal\": 520.0}, {\"Distrito\": \"LA PERLA\", \"Ingresos_Total\": 39468563.91, \"Gastos_Total\": 32257315.07, \"Personal_Limpieza\": 121, \"Residuos_Solidos\": 56769.0, \"Personal_Vigilancia\": 7, \"rate_GastosByIngresos\": 0.8172913294630183, \"rate_ResiduosByPersonal\": 469.1652892561983}, {\"Distrito\": \"LA PUNTA\", \"Ingresos_Total\": 30106901.08, \"Gastos_Total\": 24957552.87, \"Personal_Limpieza\": 36, \"Residuos_Solidos\": 5844.0, \"Personal_Vigilancia\": 0, \"rate_GastosByIngresos\": 0.828964522243018, \"rate_ResiduosByPersonal\": 162.33333333333334}, {\"Distrito\": \"VENTANILLA\", \"Ingresos_Total\": 219854430.59, \"Gastos_Total\": 192055831.16, \"Personal_Limpieza\": 297, \"Residuos_Solidos\": 321830.0, \"Personal_Vigilancia\": 73, \"rate_GastosByIngresos\": 0.8735590665359808, \"rate_ResiduosByPersonal\": 1083.6026936026935}, {\"Distrito\": \"MI PER\\u00da\", \"Ingresos_Total\": 37586789.18, \"Gastos_Total\": 35919675.87, \"Personal_Limpieza\": 45, \"Residuos_Solidos\": 36250.0, \"Personal_Vigilancia\": 33, \"rate_GastosByIngresos\": 0.9556462963086223, \"rate_ResiduosByPersonal\": 805.5555555555555}, {\"Distrito\": \"CUSCO\", \"Ingresos_Total\": 164647914.2, \"Gastos_Total\": 164828773.05, \"Personal_Limpieza\": 309, \"Residuos_Solidos\": 135068.0, \"Personal_Vigilancia\": 9, \"rate_GastosByIngresos\": 1.0010984581910969, \"rate_ResiduosByPersonal\": 437.1132686084142}, {\"Distrito\": \"CCORCA\", \"Ingresos_Total\": 6067259.19, \"Gastos_Total\": 4691489.28, \"Personal_Limpieza\": 3, \"Residuos_Solidos\": 372.0, \"Personal_Vigilancia\": 0, \"rate_GastosByIngresos\": 0.7732468867874425, \"rate_ResiduosByPersonal\": 124.0}, {\"Distrito\": \"POROY\", \"Ingresos_Total\": 14142705.84, \"Gastos_Total\": 10271196.45, \"Personal_Limpieza\": 13, \"Residuos_Solidos\": 5500.0, \"Personal_Vigilancia\": 0, \"rate_GastosByIngresos\": 0.7262539832335224, \"rate_ResiduosByPersonal\": 423.0769230769231}, {\"Distrito\": \"SAN JERONIMO\", \"Ingresos_Total\": 67348570.35, \"Gastos_Total\": 57181348.73, \"Personal_Limpieza\": 65, \"Residuos_Solidos\": 66000.0, \"Personal_Vigilancia\": 20, \"rate_GastosByIngresos\": 0.8490358211441975, \"rate_ResiduosByPersonal\": 1015.3846153846154}, {\"Distrito\": \"SAN SEBASTIAN\", \"Ingresos_Total\": 88012283.69, \"Gastos_Total\": 65538986.16, \"Personal_Limpieza\": 97, \"Residuos_Solidos\": 90000.0, \"Personal_Vigilancia\": 18, \"rate_GastosByIngresos\": 0.7446572616027525, \"rate_ResiduosByPersonal\": 927.8350515463917}, {\"Distrito\": \"SANTIAGO\", \"Ingresos_Total\": 81760930.27, \"Gastos_Total\": 57511219.6, \"Personal_Limpieza\": 127, \"Residuos_Solidos\": 80816.0, \"Personal_Vigilancia\": 6, \"rate_GastosByIngresos\": 0.7034071091177667, \"rate_ResiduosByPersonal\": 636.3464566929134}, {\"Distrito\": \"SAYLLA\", \"Ingresos_Total\": 11188050.47, \"Gastos_Total\": 7563272.35, \"Personal_Limpieza\": 1, \"Residuos_Solidos\": 13900.0, \"Personal_Vigilancia\": 1, \"rate_GastosByIngresos\": 0.6760134279229792, \"rate_ResiduosByPersonal\": 13900.0}, {\"Distrito\": \"WANCHAQ\", \"Ingresos_Total\": 51375198.02, \"Gastos_Total\": 37732827.37, \"Personal_Limpieza\": 143, \"Residuos_Solidos\": 80947.0, \"Personal_Vigilancia\": 0, \"rate_GastosByIngresos\": 0.7344560960195399, \"rate_ResiduosByPersonal\": 566.0629370629371}, {\"Distrito\": \"POMACANCHI\", \"Ingresos_Total\": 20271801.81, \"Gastos_Total\": 15984995.17, \"Personal_Limpieza\": 3, \"Residuos_Solidos\": 4173.0, \"Personal_Vigilancia\": 2, \"rate_GastosByIngresos\": 0.788533516646491, \"rate_ResiduosByPersonal\": 1391.0}, {\"Distrito\": \"SANGARARA\", \"Ingresos_Total\": 9746537.47, \"Gastos_Total\": 6823275.72, \"Personal_Limpieza\": 1, \"Residuos_Solidos\": 2000.0, \"Personal_Vigilancia\": 0, \"rate_GastosByIngresos\": 0.700071768153783, \"rate_ResiduosByPersonal\": 2000.0}, {\"Distrito\": \"CACHIMAYO\", \"Ingresos_Total\": 5946923.63, \"Gastos_Total\": 3001174.32, \"Personal_Limpieza\": 9, \"Residuos_Solidos\": 642.0, \"Personal_Vigilancia\": 8, \"rate_GastosByIngresos\": 0.5046599732440149, \"rate_ResiduosByPersonal\": 71.33333333333333}, {\"Distrito\": \"HUAROCONDO\", \"Ingresos_Total\": 14634928.65, \"Gastos_Total\": 8510601.84, \"Personal_Limpieza\": 20, \"Residuos_Solidos\": 1300.0, \"Personal_Vigilancia\": 6, \"rate_GastosByIngresos\": 0.5815267052907702, \"rate_ResiduosByPersonal\": 65.0}, {\"Distrito\": \"LIMATAMBO\", \"Ingresos_Total\": 16543658.47, \"Gastos_Total\": 10035440.17, \"Personal_Limpieza\": 9, \"Residuos_Solidos\": 2000.0, \"Personal_Vigilancia\": 0, \"rate_GastosByIngresos\": 0.6066034419290088, \"rate_ResiduosByPersonal\": 222.22222222222223}, {\"Distrito\": \"COYA\", \"Ingresos_Total\": 9262760.52, \"Gastos_Total\": 4577220.62, \"Personal_Limpieza\": 4, \"Residuos_Solidos\": 526.0, \"Personal_Vigilancia\": 0, \"rate_GastosByIngresos\": 0.494152969853527, \"rate_ResiduosByPersonal\": 131.5}, {\"Distrito\": \"LARES\", \"Ingresos_Total\": 26819989.88, \"Gastos_Total\": 16702158.54, \"Personal_Limpieza\": 22, \"Residuos_Solidos\": 1500.0, \"Personal_Vigilancia\": 7, \"rate_GastosByIngresos\": 0.6227503669736657, \"rate_ResiduosByPersonal\": 68.18181818181819}, {\"Distrito\": \"PISAC\", \"Ingresos_Total\": 18598564.79, \"Gastos_Total\": 13488102.3, \"Personal_Limpieza\": 40, \"Residuos_Solidos\": 3860.0, \"Personal_Vigilancia\": 4, \"rate_GastosByIngresos\": 0.7252227498356341, \"rate_ResiduosByPersonal\": 96.5}, {\"Distrito\": \"SAN SALVADOR\", \"Ingresos_Total\": 13371679.5, \"Gastos_Total\": 11379933.49, \"Personal_Limpieza\": 5, \"Residuos_Solidos\": 533.0, \"Personal_Vigilancia\": 5, \"rate_GastosByIngresos\": 0.8510474312519979, \"rate_ResiduosByPersonal\": 106.6}, {\"Distrito\": \"TARAY\", \"Ingresos_Total\": 9460150.71, \"Gastos_Total\": 8804797.36, \"Personal_Limpieza\": 5, \"Residuos_Solidos\": 2500.0, \"Personal_Vigilancia\": 1, \"rate_GastosByIngresos\": 0.9307248509997573, \"rate_ResiduosByPersonal\": 500.0}, {\"Distrito\": \"YANAOCA\", \"Ingresos_Total\": 23370086.38, \"Gastos_Total\": 20892400.88, \"Personal_Limpieza\": 25, \"Residuos_Solidos\": 5000.0, \"Personal_Vigilancia\": 3, \"rate_GastosByIngresos\": 0.893980473169308, \"rate_ResiduosByPersonal\": 200.0}, {\"Distrito\": \"SICUANI\", \"Ingresos_Total\": 75405235.3, \"Gastos_Total\": 49903887.54, \"Personal_Limpieza\": 65, \"Residuos_Solidos\": 39000.0, \"Personal_Vigilancia\": 29, \"rate_GastosByIngresos\": 0.6618093205525745, \"rate_ResiduosByPersonal\": 600.0}, {\"Distrito\": \"TINTA\", \"Ingresos_Total\": 6987604.66, \"Gastos_Total\": 4887492.94, \"Personal_Limpieza\": 2, \"Residuos_Solidos\": 1550.0, \"Personal_Vigilancia\": 0, \"rate_GastosByIngresos\": 0.6994518404823435, \"rate_ResiduosByPersonal\": 775.0}, {\"Distrito\": \"SANTO TOMAS\", \"Ingresos_Total\": 91495139.16, \"Gastos_Total\": 61516712.14, \"Personal_Limpieza\": 40, \"Residuos_Solidos\": 7320.0, \"Personal_Vigilancia\": 8, \"rate_GastosByIngresos\": 0.6723495117311542, \"rate_ResiduosByPersonal\": 183.0}, {\"Distrito\": \"CHAMACA\", \"Ingresos_Total\": 25023544.68, \"Gastos_Total\": 19291562.9, \"Personal_Limpieza\": 105, \"Residuos_Solidos\": 1600.0, \"Personal_Vigilancia\": 0, \"rate_GastosByIngresos\": 0.7709364579119251, \"rate_ResiduosByPersonal\": 15.238095238095237}, {\"Distrito\": \"COLQUEMARCA\", \"Ingresos_Total\": 43592340.25, \"Gastos_Total\": 30048813.9, \"Personal_Limpieza\": 2, \"Residuos_Solidos\": 2300.0, \"Personal_Vigilancia\": 0, \"rate_GastosByIngresos\": 0.6893140796679297, \"rate_ResiduosByPersonal\": 1150.0}, {\"Distrito\": \"ESPINAR\", \"Ingresos_Total\": 230837030.06, \"Gastos_Total\": 157407087.35, \"Personal_Limpieza\": 16, \"Residuos_Solidos\": 30000.0, \"Personal_Vigilancia\": 0, \"rate_GastosByIngresos\": 0.6818970392622283, \"rate_ResiduosByPersonal\": 1875.0}, {\"Distrito\": \"COPORAQUE\", \"Ingresos_Total\": 43018935.42, \"Gastos_Total\": 37354787.34, \"Personal_Limpieza\": 22, \"Residuos_Solidos\": 827.0, \"Personal_Vigilancia\": 7, \"rate_GastosByIngresos\": 0.8683336064758435, \"rate_ResiduosByPersonal\": 37.59090909090909}, {\"Distrito\": \"PALLPATA\", \"Ingresos_Total\": 38875076.35, \"Gastos_Total\": 22939217.13, \"Personal_Limpieza\": 12, \"Residuos_Solidos\": 800.0, \"Personal_Vigilancia\": 1, \"rate_GastosByIngresos\": 0.5900751659874232, \"rate_ResiduosByPersonal\": 66.66666666666667}, {\"Distrito\": \"PICHIGUA\", \"Ingresos_Total\": 25537269.36, \"Gastos_Total\": 19201414.13, \"Personal_Limpieza\": 3, \"Residuos_Solidos\": 85.0, \"Personal_Vigilancia\": 0, \"rate_GastosByIngresos\": 0.7518977013288628, \"rate_ResiduosByPersonal\": 28.333333333333332}, {\"Distrito\": \"SANTA ANA\", \"Ingresos_Total\": 123680868.52, \"Gastos_Total\": 103721340.18, \"Personal_Limpieza\": 47, \"Residuos_Solidos\": 42000.0, \"Personal_Vigilancia\": 4, \"rate_GastosByIngresos\": 0.838620729472219, \"rate_ResiduosByPersonal\": 893.6170212765958}, {\"Distrito\": \"ECHARATE\", \"Ingresos_Total\": 156827591.65, \"Gastos_Total\": 128843878.13, \"Personal_Limpieza\": 48, \"Residuos_Solidos\": 1724.0, \"Personal_Vigilancia\": 10, \"rate_GastosByIngresos\": 0.8215638381895664, \"rate_ResiduosByPersonal\": 35.916666666666664}, {\"Distrito\": \"HUAYOPATA\", \"Ingresos_Total\": 21722803.18, \"Gastos_Total\": 18435325.51, \"Personal_Limpieza\": 4, \"Residuos_Solidos\": 2360.0, \"Personal_Vigilancia\": 0, \"rate_GastosByIngresos\": 0.8486623644858712, \"rate_ResiduosByPersonal\": 590.0}, {\"Distrito\": \"MARANURA\", \"Ingresos_Total\": 20265394.69, \"Gastos_Total\": 10268248.83, \"Personal_Limpieza\": 5, \"Residuos_Solidos\": 2090.0, \"Personal_Vigilancia\": 4, \"rate_GastosByIngresos\": 0.5066888154449263, \"rate_ResiduosByPersonal\": 418.0}, {\"Distrito\": \"OCOBAMBA\", \"Ingresos_Total\": 25483232.03, \"Gastos_Total\": 15033421.48, \"Personal_Limpieza\": 13, \"Residuos_Solidos\": 980.0, \"Personal_Vigilancia\": 14, \"rate_GastosByIngresos\": 0.5899338616978406, \"rate_ResiduosByPersonal\": 75.38461538461539}, {\"Distrito\": \"QUELLOUNO\", \"Ingresos_Total\": 88896966.05, \"Gastos_Total\": 67213830.97, \"Personal_Limpieza\": 21, \"Residuos_Solidos\": 3000.0, \"Personal_Vigilancia\": 5, \"rate_GastosByIngresos\": 0.7560868942613368, \"rate_ResiduosByPersonal\": 142.85714285714286}, {\"Distrito\": \"SANTA TERESA\", \"Ingresos_Total\": 32985262.28, \"Gastos_Total\": 24094065.29, \"Personal_Limpieza\": 20, \"Residuos_Solidos\": 4000.0, \"Personal_Vigilancia\": 0, \"rate_GastosByIngresos\": 0.7304494075406818, \"rate_ResiduosByPersonal\": 200.0}, {\"Distrito\": \"VILCABAMBA\", \"Ingresos_Total\": 80703313.65, \"Gastos_Total\": 55196813.36, \"Personal_Limpieza\": 94, \"Residuos_Solidos\": 5208.0, \"Personal_Vigilancia\": 11, \"rate_GastosByIngresos\": 0.6839472986125644, \"rate_ResiduosByPersonal\": 55.40425531914894}, {\"Distrito\": \"INKAWASI\", \"Ingresos_Total\": 31550342.72, \"Gastos_Total\": 21209047.0, \"Personal_Limpieza\": 2, \"Residuos_Solidos\": 500.0, \"Personal_Vigilancia\": 0, \"rate_GastosByIngresos\": 0.6722287357771054, \"rate_ResiduosByPersonal\": 250.0}, {\"Distrito\": \"PAUCARTAMBO\", \"Ingresos_Total\": 66174026.26, \"Gastos_Total\": 64757222.17, \"Personal_Limpieza\": 29, \"Residuos_Solidos\": 2000.0, \"Personal_Vigilancia\": 10, \"rate_GastosByIngresos\": 0.9785897251523834, \"rate_ResiduosByPersonal\": 68.96551724137932}, {\"Distrito\": \"CHALLABAMBA\", \"Ingresos_Total\": 26081592.02, \"Gastos_Total\": 17209366.01, \"Personal_Limpieza\": 9, \"Residuos_Solidos\": 750.0, \"Personal_Vigilancia\": 5, \"rate_GastosByIngresos\": 0.6598280502510522, \"rate_ResiduosByPersonal\": 83.33333333333333}, {\"Distrito\": \"COLQUEPATA\", \"Ingresos_Total\": 17133486.28, \"Gastos_Total\": 13058020.75, \"Personal_Limpieza\": 12, \"Residuos_Solidos\": 2400.0, \"Personal_Vigilancia\": 0, \"rate_GastosByIngresos\": 0.7621344854516088, \"rate_ResiduosByPersonal\": 200.0}, {\"Distrito\": \"KOS\\u00d1IPATA\", \"Ingresos_Total\": 18878572.53, \"Gastos_Total\": 11133682.53, \"Personal_Limpieza\": 1, \"Residuos_Solidos\": 2500.0, \"Personal_Vigilancia\": 0, \"rate_GastosByIngresos\": 0.5897523508362419, \"rate_ResiduosByPersonal\": 2500.0}, {\"Distrito\": \"URCOS\", \"Ingresos_Total\": 36949540.33, \"Gastos_Total\": 36693769.72, \"Personal_Limpieza\": 40, \"Residuos_Solidos\": 3890.0, \"Personal_Vigilancia\": 11, \"rate_GastosByIngresos\": 0.9930778405437338, \"rate_ResiduosByPersonal\": 97.25}, {\"Distrito\": \"ANDAHUAYLILLAS\", \"Ingresos_Total\": 9290062.9, \"Gastos_Total\": 7653126.18, \"Personal_Limpieza\": 11, \"Residuos_Solidos\": 4244.0, \"Personal_Vigilancia\": 1, \"rate_GastosByIngresos\": 0.8237970250987213, \"rate_ResiduosByPersonal\": 385.8181818181818}, {\"Distrito\": \"CAMANTI\", \"Ingresos_Total\": 7064845.96, \"Gastos_Total\": 6296836.91, \"Personal_Limpieza\": 9, \"Residuos_Solidos\": 1197.0, \"Personal_Vigilancia\": 0, \"rate_GastosByIngresos\": 0.891291465610384, \"rate_ResiduosByPersonal\": 133.0}, {\"Distrito\": \"CCARHUAYO\", \"Ingresos_Total\": 10037798.71, \"Gastos_Total\": 7843603.95, \"Personal_Limpieza\": 3, \"Residuos_Solidos\": 107.0, \"Personal_Vigilancia\": 3, \"rate_GastosByIngresos\": 0.7814067781799541, \"rate_ResiduosByPersonal\": 35.666666666666664}, {\"Distrito\": \"MARCAPATA\", \"Ingresos_Total\": 16972464.39, \"Gastos_Total\": 11157838.19, \"Personal_Limpieza\": 8, \"Residuos_Solidos\": 1852.0, \"Personal_Vigilancia\": 2, \"rate_GastosByIngresos\": 0.6574082545475295, \"rate_ResiduosByPersonal\": 231.5}, {\"Distrito\": \"OROPESA\", \"Ingresos_Total\": 11869247.52, \"Gastos_Total\": 9346964.15, \"Personal_Limpieza\": 56, \"Residuos_Solidos\": 7870.0, \"Personal_Vigilancia\": 16, \"rate_GastosByIngresos\": 0.7874942479925636, \"rate_ResiduosByPersonal\": 140.53571428571428}, {\"Distrito\": \"QUIQUIJANA\", \"Ingresos_Total\": 24425477.85, \"Gastos_Total\": 19022802.08, \"Personal_Limpieza\": 8, \"Residuos_Solidos\": 1800.0, \"Personal_Vigilancia\": 1, \"rate_GastosByIngresos\": 0.7788098229570561, \"rate_ResiduosByPersonal\": 225.0}, {\"Distrito\": \"URUBAMBA\", \"Ingresos_Total\": 42324297.86, \"Gastos_Total\": 32889841.25, \"Personal_Limpieza\": 34, \"Residuos_Solidos\": 17450.0, \"Personal_Vigilancia\": 17, \"rate_GastosByIngresos\": 0.7770912433985975, \"rate_ResiduosByPersonal\": 513.2352941176471}, {\"Distrito\": \"MARAS\", \"Ingresos_Total\": 15410083.35, \"Gastos_Total\": 11404356.79, \"Personal_Limpieza\": 30, \"Residuos_Solidos\": 1430.0, \"Personal_Vigilancia\": 0, \"rate_GastosByIngresos\": 0.740058086058308, \"rate_ResiduosByPersonal\": 47.666666666666664}, {\"Distrito\": \"HUANCAVELICA\", \"Ingresos_Total\": 70879637.63, \"Gastos_Total\": 60508427.05, \"Personal_Limpieza\": 15, \"Residuos_Solidos\": 8000.0, \"Personal_Vigilancia\": 16, \"rate_GastosByIngresos\": 0.853678560912812, \"rate_ResiduosByPersonal\": 533.3333333333334}, {\"Distrito\": \"ACORIA\", \"Ingresos_Total\": 39256280.44, \"Gastos_Total\": 28349765.67, \"Personal_Limpieza\": 7, \"Residuos_Solidos\": 348.0, \"Personal_Vigilancia\": 5, \"rate_GastosByIngresos\": 0.7221714679089449, \"rate_ResiduosByPersonal\": 49.714285714285715}, {\"Distrito\": \"CUENCA\", \"Ingresos_Total\": 4770979.58, \"Gastos_Total\": 4163628.31, \"Personal_Limpieza\": 1, \"Residuos_Solidos\": 60.0, \"Personal_Vigilancia\": 0, \"rate_GastosByIngresos\": 0.8726988326367978, \"rate_ResiduosByPersonal\": 60.0}, {\"Distrito\": \"HUACHOCOLPA\", \"Ingresos_Total\": 4220848.56, \"Gastos_Total\": 3913052.74, \"Personal_Limpieza\": 2, \"Residuos_Solidos\": 220.0, \"Personal_Vigilancia\": 0, \"rate_GastosByIngresos\": 0.9270772652407128, \"rate_ResiduosByPersonal\": 110.0}, {\"Distrito\": \"HUAYLLAHUARA\", \"Ingresos_Total\": 4826032.63, \"Gastos_Total\": 2772835.39, \"Personal_Limpieza\": 1, \"Residuos_Solidos\": 152.0, \"Personal_Vigilancia\": 0, \"rate_GastosByIngresos\": 0.5745579449179978, \"rate_ResiduosByPersonal\": 152.0}, {\"Distrito\": \"IZCUCHACA\", \"Ingresos_Total\": 1759702.59, \"Gastos_Total\": 1090868.35, \"Personal_Limpieza\": 3, \"Residuos_Solidos\": 600.0, \"Personal_Vigilancia\": 0, \"rate_GastosByIngresos\": 0.6199163177909512, \"rate_ResiduosByPersonal\": 200.0}, {\"Distrito\": \"LARIA\", \"Ingresos_Total\": 6334709.01, \"Gastos_Total\": 6137704.2, \"Personal_Limpieza\": 2, \"Residuos_Solidos\": 186.0, \"Personal_Vigilancia\": 0, \"rate_GastosByIngresos\": 0.9689007325057857, \"rate_ResiduosByPersonal\": 93.0}, {\"Distrito\": \"MARISCAL CACERES\", \"Ingresos_Total\": 1206730.76, \"Gastos_Total\": 1029500.28, \"Personal_Limpieza\": 4, \"Residuos_Solidos\": 120.0, \"Personal_Vigilancia\": 0, \"rate_GastosByIngresos\": 0.853131712661406, \"rate_ResiduosByPersonal\": 30.0}, {\"Distrito\": \"NUEVO OCCORO\", \"Ingresos_Total\": 3215651.21, \"Gastos_Total\": 3065447.72, \"Personal_Limpieza\": 1, \"Residuos_Solidos\": 158.0, \"Personal_Vigilancia\": 2, \"rate_GastosByIngresos\": 0.9532898687728014, \"rate_ResiduosByPersonal\": 158.0}, {\"Distrito\": \"YAULI\", \"Ingresos_Total\": 29200486.5, \"Gastos_Total\": 19050245.42, \"Personal_Limpieza\": 3, \"Residuos_Solidos\": 1540.0, \"Personal_Vigilancia\": 2, \"rate_GastosByIngresos\": 0.6523947955456154, \"rate_ResiduosByPersonal\": 513.3333333333334}, {\"Distrito\": \"ASCENSION\", \"Ingresos_Total\": 17217661.39, \"Gastos_Total\": 12362534.7, \"Personal_Limpieza\": 2, \"Residuos_Solidos\": 7500.0, \"Personal_Vigilancia\": 0, \"rate_GastosByIngresos\": 0.718014741954453, \"rate_ResiduosByPersonal\": 3750.0}, {\"Distrito\": \"ACOBAMBA\", \"Ingresos_Total\": 36758389.59, \"Gastos_Total\": 36696763.8, \"Personal_Limpieza\": 36, \"Residuos_Solidos\": 6500.0, \"Personal_Vigilancia\": 4, \"rate_GastosByIngresos\": 0.9983234904823803, \"rate_ResiduosByPersonal\": 180.55555555555554}, {\"Distrito\": \"ANDABAMBA\", \"Ingresos_Total\": 5753633.75, \"Gastos_Total\": 4918617.55, \"Personal_Limpieza\": 6, \"Residuos_Solidos\": 150.0, \"Personal_Vigilancia\": 0, \"rate_GastosByIngresos\": 0.8548715062024933, \"rate_ResiduosByPersonal\": 25.0}, {\"Distrito\": \"ANTA\", \"Ingresos_Total\": 7616245.31, \"Gastos_Total\": 6334536.69, \"Personal_Limpieza\": 19, \"Residuos_Solidos\": 41.0, \"Personal_Vigilancia\": 3, \"rate_GastosByIngresos\": 0.8317138474627206, \"rate_ResiduosByPersonal\": 2.1578947368421053}, {\"Distrito\": \"PAUCARA\", \"Ingresos_Total\": 22803187.29, \"Gastos_Total\": 19334077.1, \"Personal_Limpieza\": 10, \"Residuos_Solidos\": 3794.0, \"Personal_Vigilancia\": 0, \"rate_GastosByIngresos\": 0.8478673114472325, \"rate_ResiduosByPersonal\": 379.4}, {\"Distrito\": \"CALLANMARCA\", \"Ingresos_Total\": 1554332.2, \"Gastos_Total\": 1335425.76, \"Personal_Limpieza\": 4, \"Residuos_Solidos\": 60.0, \"Personal_Vigilancia\": 0, \"rate_GastosByIngresos\": 0.859163671704157, \"rate_ResiduosByPersonal\": 15.0}, {\"Distrito\": \"SANTO TOMAS DE PATA\", \"Ingresos_Total\": 2613617.55, \"Gastos_Total\": 2428013.85, \"Personal_Limpieza\": 1, \"Residuos_Solidos\": 265.0, \"Personal_Vigilancia\": 1, \"rate_GastosByIngresos\": 0.9289858992567601, \"rate_ResiduosByPersonal\": 265.0}, {\"Distrito\": \"CASTROVIRREYNA\", \"Ingresos_Total\": 34586798.49, \"Gastos_Total\": 28984489.15, \"Personal_Limpieza\": 2, \"Residuos_Solidos\": 1100.0, \"Personal_Vigilancia\": 1, \"rate_GastosByIngresos\": 0.8380217428444617, \"rate_ResiduosByPersonal\": 550.0}, {\"Distrito\": \"ARMA\", \"Ingresos_Total\": 1222659.41, \"Gastos_Total\": 1006810.21, \"Personal_Limpieza\": 2, \"Residuos_Solidos\": 20.0, \"Personal_Vigilancia\": 0, \"rate_GastosByIngresos\": 0.8234592575539905, \"rate_ResiduosByPersonal\": 10.0}, {\"Distrito\": \"TICRAPO\", \"Ingresos_Total\": 4891384.35, \"Gastos_Total\": 4004189.11, \"Personal_Limpieza\": 1, \"Residuos_Solidos\": 100.0, \"Personal_Vigilancia\": 0, \"rate_GastosByIngresos\": 0.8186208286821706, \"rate_ResiduosByPersonal\": 100.0}, {\"Distrito\": \"CHURCAMPA\", \"Ingresos_Total\": 34633246.28, \"Gastos_Total\": 31049515.43, \"Personal_Limpieza\": 4, \"Residuos_Solidos\": 4800.0, \"Personal_Vigilancia\": 0, \"rate_GastosByIngresos\": 0.896523391973523, \"rate_ResiduosByPersonal\": 1200.0}, {\"Distrito\": \"PAUCARBAMBA\", \"Ingresos_Total\": 7674940.52, \"Gastos_Total\": 9956121.37, \"Personal_Limpieza\": 1, \"Residuos_Solidos\": 1500.0, \"Personal_Vigilancia\": 0, \"rate_GastosByIngresos\": 1.2972245640282825, \"rate_ResiduosByPersonal\": 1500.0}, {\"Distrito\": \"PACHAMARCA\", \"Ingresos_Total\": 8441087.3, \"Gastos_Total\": 7935011.13, \"Personal_Limpieza\": 1, \"Residuos_Solidos\": 160.0, \"Personal_Vigilancia\": 0, \"rate_GastosByIngresos\": 0.9400460921663492, \"rate_ResiduosByPersonal\": 160.0}, {\"Distrito\": \"HUAYTARA\", \"Ingresos_Total\": 22919521.91, \"Gastos_Total\": 22076334.03, \"Personal_Limpieza\": 4, \"Residuos_Solidos\": 1450.0, \"Personal_Vigilancia\": 1, \"rate_GastosByIngresos\": 0.9632109306943218, \"rate_ResiduosByPersonal\": 362.5}, {\"Distrito\": \"SANTIAGO DE CHOCORVOS\", \"Ingresos_Total\": 4403434.9, \"Gastos_Total\": 2911133.36, \"Personal_Limpieza\": 1, \"Residuos_Solidos\": 75.0, \"Personal_Vigilancia\": 0, \"rate_GastosByIngresos\": 0.6611051204594849, \"rate_ResiduosByPersonal\": 75.0}, {\"Distrito\": \"ACRAQUIA\", \"Ingresos_Total\": 5511612.54, \"Gastos_Total\": 5524828.16, \"Personal_Limpieza\": 12, \"Residuos_Solidos\": 400.0, \"Personal_Vigilancia\": 1, \"rate_GastosByIngresos\": 1.0023977774025459, \"rate_ResiduosByPersonal\": 33.333333333333336}, {\"Distrito\": \"DANIEL HERNANDEZ\", \"Ingresos_Total\": 12301531.9, \"Gastos_Total\": 10894328.97, \"Personal_Limpieza\": 4, \"Residuos_Solidos\": 3892.0, \"Personal_Vigilancia\": 0, \"rate_GastosByIngresos\": 0.8856075047043531, \"rate_ResiduosByPersonal\": 973.0}, {\"Distrito\": \"TINTAY PUNCU\", \"Ingresos_Total\": 10201693.24, \"Gastos_Total\": 10594353.75, \"Personal_Limpieza\": 6, \"Residuos_Solidos\": 500.0, \"Personal_Vigilancia\": 5, \"rate_GastosByIngresos\": 1.038489738983761, \"rate_ResiduosByPersonal\": 83.33333333333333}, {\"Distrito\": \"ANDAYMARCA\", \"Ingresos_Total\": 7740112.38, \"Gastos_Total\": 7685976.21, \"Personal_Limpieza\": 3, \"Residuos_Solidos\": 500.0, \"Personal_Vigilancia\": 2, \"rate_GastosByIngresos\": 0.993005764342662, \"rate_ResiduosByPersonal\": 166.66666666666666}, {\"Distrito\": \"HUANUCO\", \"Ingresos_Total\": 69918638.16, \"Gastos_Total\": 64962034.39, \"Personal_Limpieza\": 132, \"Residuos_Solidos\": 60000.0, \"Personal_Vigilancia\": 0, \"rate_GastosByIngresos\": 0.9291089772278254, \"rate_ResiduosByPersonal\": 454.54545454545456}, {\"Distrito\": \"AMARILIS\", \"Ingresos_Total\": 32550011.46, \"Gastos_Total\": 30661966.56, \"Personal_Limpieza\": 49, \"Residuos_Solidos\": 61630.0, \"Personal_Vigilancia\": 7, \"rate_GastosByIngresos\": 0.9419955688089333, \"rate_ResiduosByPersonal\": 1257.7551020408164}, {\"Distrito\": \"CHINCHAO\", \"Ingresos_Total\": 8920879.25, \"Gastos_Total\": 9812004.53, \"Personal_Limpieza\": 5, \"Residuos_Solidos\": 1000.0, \"Personal_Vigilancia\": 1, \"rate_GastosByIngresos\": 1.0998920907936287, \"rate_ResiduosByPersonal\": 200.0}, {\"Distrito\": \"SAN PEDRO DE CHAULAN\", \"Ingresos_Total\": 7158419.82, \"Gastos_Total\": 6159555.5, \"Personal_Limpieza\": 3, \"Residuos_Solidos\": 267.0, \"Personal_Vigilancia\": 0, \"rate_GastosByIngresos\": 0.860463014866876, \"rate_ResiduosByPersonal\": 89.0}, {\"Distrito\": \"SANTA MARIA DEL VALLE\", \"Ingresos_Total\": 27806409.92, \"Gastos_Total\": 26239392.55, \"Personal_Limpieza\": 15, \"Residuos_Solidos\": 530.0, \"Personal_Vigilancia\": 4, \"rate_GastosByIngresos\": 0.943645462520751, \"rate_ResiduosByPersonal\": 35.333333333333336}, {\"Distrito\": \"PILLCO MARCA\", \"Ingresos_Total\": 13256983.21, \"Gastos_Total\": 10181209.47, \"Personal_Limpieza\": 42, \"Residuos_Solidos\": 30710.0, \"Personal_Vigilancia\": 0, \"rate_GastosByIngresos\": 0.7679884109923377, \"rate_ResiduosByPersonal\": 731.1904761904761}, {\"Distrito\": \"AMBO\", \"Ingresos_Total\": 45418727.22, \"Gastos_Total\": 43958613.27, \"Personal_Limpieza\": 21, \"Residuos_Solidos\": 11000.0, \"Personal_Vigilancia\": 7, \"rate_GastosByIngresos\": 0.967852160565234, \"rate_ResiduosByPersonal\": 523.8095238095239}, {\"Distrito\": \"CAYNA\", \"Ingresos_Total\": 5237065.5, \"Gastos_Total\": 6168105.1, \"Personal_Limpieza\": 2, \"Residuos_Solidos\": 100.0, \"Personal_Vigilancia\": 2, \"rate_GastosByIngresos\": 1.1777788725384473, \"rate_ResiduosByPersonal\": 50.0}, {\"Distrito\": \"HUACAR\", \"Ingresos_Total\": 9772452.37, \"Gastos_Total\": 11055897.5, \"Personal_Limpieza\": 2, \"Residuos_Solidos\": 3000.0, \"Personal_Vigilancia\": 0, \"rate_GastosByIngresos\": 1.1313329634575646, \"rate_ResiduosByPersonal\": 1500.0}, {\"Distrito\": \"SAN FRANCISCO\", \"Ingresos_Total\": 2703482.38, \"Gastos_Total\": 2434558.1, \"Personal_Limpieza\": 7, \"Residuos_Solidos\": 209.0, \"Personal_Vigilancia\": 0, \"rate_GastosByIngresos\": 0.9005267125136581, \"rate_ResiduosByPersonal\": 29.857142857142858}, {\"Distrito\": \"TOMAY KICHWA\", \"Ingresos_Total\": 2305174.84, \"Gastos_Total\": 3248171.35, \"Personal_Limpieza\": 2, \"Residuos_Solidos\": 3000.0, \"Personal_Vigilancia\": 0, \"rate_GastosByIngresos\": 1.4090780853742098, \"rate_ResiduosByPersonal\": 1500.0}, {\"Distrito\": \"HUACAYBAMBA\", \"Ingresos_Total\": 11643476.09, \"Gastos_Total\": 13921558.13, \"Personal_Limpieza\": 4, \"Residuos_Solidos\": 1378.0, \"Personal_Vigilancia\": 0, \"rate_GastosByIngresos\": 1.1956530869639979, \"rate_ResiduosByPersonal\": 344.5}, {\"Distrito\": \"CANCHABAMBA\", \"Ingresos_Total\": 2193535.63, \"Gastos_Total\": 1959914.98, \"Personal_Limpieza\": 1, \"Residuos_Solidos\": 100.0, \"Personal_Vigilancia\": 0, \"rate_GastosByIngresos\": 0.893495848982403, \"rate_ResiduosByPersonal\": 100.0}, {\"Distrito\": \"COCHABAMBA\", \"Ingresos_Total\": 3132806.47, \"Gastos_Total\": 2398149.57, \"Personal_Limpieza\": 4, \"Residuos_Solidos\": 100.0, \"Personal_Vigilancia\": 2, \"rate_GastosByIngresos\": 0.765495600499063, \"rate_ResiduosByPersonal\": 25.0}, {\"Distrito\": \"LLATA\", \"Ingresos_Total\": 29709113.24, \"Gastos_Total\": 24083829.89, \"Personal_Limpieza\": 3, \"Residuos_Solidos\": 6000.0, \"Personal_Vigilancia\": 0, \"rate_GastosByIngresos\": 0.8106546195250895, \"rate_ResiduosByPersonal\": 2000.0}, {\"Distrito\": \"RUPA-RUPA\", \"Ingresos_Total\": 53828712.27, \"Gastos_Total\": 45158457.08, \"Personal_Limpieza\": 190, \"Residuos_Solidos\": 46045.0, \"Personal_Vigilancia\": 25, \"rate_GastosByIngresos\": 0.8389288016679504, \"rate_ResiduosByPersonal\": 242.3421052631579}, {\"Distrito\": \"DANIEL ALOMIA ROBLES\", \"Ingresos_Total\": 6987958.5, \"Gastos_Total\": 6573468.85, \"Personal_Limpieza\": 3, \"Residuos_Solidos\": 860.0, \"Personal_Vigilancia\": 2, \"rate_GastosByIngresos\": 0.9406851586196454, \"rate_ResiduosByPersonal\": 286.6666666666667}, {\"Distrito\": \"JOSE CRESPO Y CASTILLO\", \"Ingresos_Total\": 14330483.19, \"Gastos_Total\": 9643292.21, \"Personal_Limpieza\": 8, \"Residuos_Solidos\": 12720.0, \"Personal_Vigilancia\": 3, \"rate_GastosByIngresos\": 0.6729216371942864, \"rate_ResiduosByPersonal\": 1590.0}, {\"Distrito\": \"MARIANO DAMASO BERAUN\", \"Ingresos_Total\": 13682218.81, \"Gastos_Total\": 13434688.26, \"Personal_Limpieza\": 9, \"Residuos_Solidos\": 2142.0, \"Personal_Vigilancia\": 6, \"rate_GastosByIngresos\": 0.9819085958617263, \"rate_ResiduosByPersonal\": 238.0}, {\"Distrito\": \"CASTILLO GRANDE\", \"Ingresos_Total\": 9046966.09, \"Gastos_Total\": 7007022.03, \"Personal_Limpieza\": 8, \"Residuos_Solidos\": 11000.0, \"Personal_Vigilancia\": 0, \"rate_GastosByIngresos\": 0.774516225693071, \"rate_ResiduosByPersonal\": 1375.0}, {\"Distrito\": \"HUACRACHUCO\", \"Ingresos_Total\": 16454306.91, \"Gastos_Total\": 10355857.92, \"Personal_Limpieza\": 5, \"Residuos_Solidos\": 4719.0, \"Personal_Vigilancia\": 0, \"rate_GastosByIngresos\": 0.6293706551508587, \"rate_ResiduosByPersonal\": 943.8}, {\"Distrito\": \"CHAGLLA\", \"Ingresos_Total\": 19360689.4, \"Gastos_Total\": 14402373.05, \"Personal_Limpieza\": 6, \"Residuos_Solidos\": 6000.0, \"Personal_Vigilancia\": 0, \"rate_GastosByIngresos\": 0.7438977379596825, \"rate_ResiduosByPersonal\": 1000.0}, {\"Distrito\": \"UMARI\", \"Ingresos_Total\": 12471363.28, \"Gastos_Total\": 10486006.84, \"Personal_Limpieza\": 5, \"Residuos_Solidos\": 1963.0, \"Personal_Vigilancia\": 0, \"rate_GastosByIngresos\": 0.8408067830736786, \"rate_ResiduosByPersonal\": 392.6}, {\"Distrito\": \"PUERTO INCA\", \"Ingresos_Total\": 17596167.63, \"Gastos_Total\": 15807113.61, \"Personal_Limpieza\": 51, \"Residuos_Solidos\": 2267.0, \"Personal_Vigilancia\": 3, \"rate_GastosByIngresos\": 0.8983270643006486, \"rate_ResiduosByPersonal\": 44.450980392156865}, {\"Distrito\": \"CODO DEL POZUZO\", \"Ingresos_Total\": 11783277.18, \"Gastos_Total\": 13234636.61, \"Personal_Limpieza\": 1, \"Residuos_Solidos\": 8000.0, \"Personal_Vigilancia\": 0, \"rate_GastosByIngresos\": 1.12317111851221, \"rate_ResiduosByPersonal\": 8000.0}, {\"Distrito\": \"YUYAPICHIS\", \"Ingresos_Total\": 8427977.17, \"Gastos_Total\": 4879391.05, \"Personal_Limpieza\": 2, \"Residuos_Solidos\": 3830.0, \"Personal_Vigilancia\": 0, \"rate_GastosByIngresos\": 0.5789516216736501, \"rate_ResiduosByPersonal\": 1915.0}, {\"Distrito\": \"JESUS\", \"Ingresos_Total\": 12982530.8, \"Gastos_Total\": 10104861.52, \"Personal_Limpieza\": 1, \"Residuos_Solidos\": 800.0, \"Personal_Vigilancia\": 0, \"rate_GastosByIngresos\": 0.778342965302266, \"rate_ResiduosByPersonal\": 800.0}, {\"Distrito\": \"CHAVINILLO\", \"Ingresos_Total\": 16713454.37, \"Gastos_Total\": 14976224.97, \"Personal_Limpieza\": 2, \"Residuos_Solidos\": 598.0, \"Personal_Vigilancia\": 0, \"rate_GastosByIngresos\": 0.8960580283679562, \"rate_ResiduosByPersonal\": 299.0}, {\"Distrito\": \"JACAS CHICO\", \"Ingresos_Total\": 3066989.39, \"Gastos_Total\": 3011597.43, \"Personal_Limpieza\": 1, \"Residuos_Solidos\": 320.0, \"Personal_Vigilancia\": 0, \"rate_GastosByIngresos\": 0.9819393049807714, \"rate_ResiduosByPersonal\": 320.0}, {\"Distrito\": \"PAMPAMARCA\", \"Ingresos_Total\": 5120108.31, \"Gastos_Total\": 5281061.64, \"Personal_Limpieza\": 3, \"Residuos_Solidos\": 250.0, \"Personal_Vigilancia\": 1, \"rate_GastosByIngresos\": 1.031435532269043, \"rate_ResiduosByPersonal\": 83.33333333333333}, {\"Distrito\": \"ICA\", \"Ingresos_Total\": 127098858.5, \"Gastos_Total\": 111542832.8, \"Personal_Limpieza\": 207, \"Residuos_Solidos\": 140000.0, \"Personal_Vigilancia\": 41, \"rate_GastosByIngresos\": 0.8776068811034994, \"rate_ResiduosByPersonal\": 676.328502415459}, {\"Distrito\": \"LA TINGUI\\u00d1A\", \"Ingresos_Total\": 28026254.05, \"Gastos_Total\": 23049211.6, \"Personal_Limpieza\": 26, \"Residuos_Solidos\": 45600.0, \"Personal_Vigilancia\": 0, \"rate_GastosByIngresos\": 0.8224149955566395, \"rate_ResiduosByPersonal\": 1753.8461538461538}, {\"Distrito\": \"LOS AQUIJES\", \"Ingresos_Total\": 14353036.71, \"Gastos_Total\": 9568466.22, \"Personal_Limpieza\": 30, \"Residuos_Solidos\": 35000.0, \"Personal_Vigilancia\": 0, \"rate_GastosByIngresos\": 0.6666509961152326, \"rate_ResiduosByPersonal\": 1166.6666666666667}, {\"Distrito\": \"OCUCAJE\", \"Ingresos_Total\": 9025823.93, \"Gastos_Total\": 3666869.27, \"Personal_Limpieza\": 2, \"Residuos_Solidos\": 1000.0, \"Personal_Vigilancia\": 0, \"rate_GastosByIngresos\": 0.40626421459564194, \"rate_ResiduosByPersonal\": 500.0}, {\"Distrito\": \"PACHACUTEC\", \"Ingresos_Total\": 5831811.05, \"Gastos_Total\": 2571277.09, \"Personal_Limpieza\": 2, \"Residuos_Solidos\": 3500.0, \"Personal_Vigilancia\": 0, \"rate_GastosByIngresos\": 0.44090541822338364, \"rate_ResiduosByPersonal\": 1750.0}, {\"Distrito\": \"PARCONA\", \"Ingresos_Total\": 34579723.34, \"Gastos_Total\": 27904631.82, \"Personal_Limpieza\": 47, \"Residuos_Solidos\": 50000.0, \"Personal_Vigilancia\": 7, \"rate_GastosByIngresos\": 0.8069651554360874, \"rate_ResiduosByPersonal\": 1063.8297872340424}, {\"Distrito\": \"PUEBLO NUEVO\", \"Ingresos_Total\": 6766026.13, \"Gastos_Total\": 4878277.07, \"Personal_Limpieza\": 7, \"Residuos_Solidos\": 4000.0, \"Personal_Vigilancia\": 0, \"rate_GastosByIngresos\": 0.7209958957105004, \"rate_ResiduosByPersonal\": 571.4285714285714}, {\"Distrito\": \"SALAS\", \"Ingresos_Total\": 28331126.46, \"Gastos_Total\": 23826189.14, \"Personal_Limpieza\": 17, \"Residuos_Solidos\": 20000.0, \"Personal_Vigilancia\": 0, \"rate_GastosByIngresos\": 0.8409898269890396, \"rate_ResiduosByPersonal\": 1176.4705882352941}, {\"Distrito\": \"SAN JOSE DE LOS MOLINOS\", \"Ingresos_Total\": 8528115.86, \"Gastos_Total\": 7108865.24, \"Personal_Limpieza\": 2, \"Residuos_Solidos\": 2600.0, \"Personal_Vigilancia\": 0, \"rate_GastosByIngresos\": 0.8335798148971209, \"rate_ResiduosByPersonal\": 1300.0}, {\"Distrito\": \"SAN JUAN BAUTISTA\", \"Ingresos_Total\": 8777853.43, \"Gastos_Total\": 6214274.28, \"Personal_Limpieza\": 18, \"Residuos_Solidos\": 7000.0, \"Personal_Vigilancia\": 0, \"rate_GastosByIngresos\": 0.7079491961852, \"rate_ResiduosByPersonal\": 388.8888888888889}, {\"Distrito\": \"SANTIAGO\", \"Ingresos_Total\": 21172942.32, \"Gastos_Total\": 16627134.18, \"Personal_Limpieza\": 5, \"Residuos_Solidos\": 14000.0, \"Personal_Vigilancia\": 17, \"rate_GastosByIngresos\": 0.7853010662714544, \"rate_ResiduosByPersonal\": 2800.0}, {\"Distrito\": \"SUBTANJALLA\", \"Ingresos_Total\": 20214773.87, \"Gastos_Total\": 14071213.74, \"Personal_Limpieza\": 32, \"Residuos_Solidos\": 29000.0, \"Personal_Vigilancia\": 6, \"rate_GastosByIngresos\": 0.6960856366977505, \"rate_ResiduosByPersonal\": 906.25}, {\"Distrito\": \"TATE\", \"Ingresos_Total\": 5117194.58, \"Gastos_Total\": 4499937.38, \"Personal_Limpieza\": 1, \"Residuos_Solidos\": 1057.0, \"Personal_Vigilancia\": 0, \"rate_GastosByIngresos\": 0.8793758591059869, \"rate_ResiduosByPersonal\": 1057.0}, {\"Distrito\": \"YAUCA DEL ROSARIO\", \"Ingresos_Total\": 4849593.13, \"Gastos_Total\": 2918051.56, \"Personal_Limpieza\": 1, \"Residuos_Solidos\": 200.0, \"Personal_Vigilancia\": 0, \"rate_GastosByIngresos\": 0.601710593399822, \"rate_ResiduosByPersonal\": 200.0}, {\"Distrito\": \"CHINCHA ALTA\", \"Ingresos_Total\": 75442172.5, \"Gastos_Total\": 51789811.59, \"Personal_Limpieza\": 89, \"Residuos_Solidos\": 45000.0, \"Personal_Vigilancia\": 10, \"rate_GastosByIngresos\": 0.6864835658066448, \"rate_ResiduosByPersonal\": 505.6179775280899}, {\"Distrito\": \"ALTO LARAN\", \"Ingresos_Total\": 16937268.87, \"Gastos_Total\": 7539535.53, \"Personal_Limpieza\": 8, \"Residuos_Solidos\": 4800.0, \"Personal_Vigilancia\": 0, \"rate_GastosByIngresos\": 0.44514470354511176, \"rate_ResiduosByPersonal\": 600.0}, {\"Distrito\": \"CHINCHA BAJA\", \"Ingresos_Total\": 18264753.87, \"Gastos_Total\": 14446051.66, \"Personal_Limpieza\": 18, \"Residuos_Solidos\": 6000.0, \"Personal_Vigilancia\": 5, \"rate_GastosByIngresos\": 0.790925065994333, \"rate_ResiduosByPersonal\": 333.3333333333333}, {\"Distrito\": \"EL CARMEN\", \"Ingresos_Total\": 14332463.76, \"Gastos_Total\": 10674036.01, \"Personal_Limpieza\": 19, \"Residuos_Solidos\": 3000.0, \"Personal_Vigilancia\": 0, \"rate_GastosByIngresos\": 0.7447453688869471, \"rate_ResiduosByPersonal\": 157.89473684210526}, {\"Distrito\": \"GROCIO PRADO\", \"Ingresos_Total\": 20754651.07, \"Gastos_Total\": 17174168.6, \"Personal_Limpieza\": 6, \"Residuos_Solidos\": 20000.0, \"Personal_Vigilancia\": 0, \"rate_GastosByIngresos\": 0.8274852967691931, \"rate_ResiduosByPersonal\": 3333.3333333333335}, {\"Distrito\": \"PUEBLO NUEVO\", \"Ingresos_Total\": 46036671.74, \"Gastos_Total\": 27968036.67, \"Personal_Limpieza\": 25, \"Residuos_Solidos\": 36200.0, \"Personal_Vigilancia\": 3, \"rate_GastosByIngresos\": 0.6075164779060112, \"rate_ResiduosByPersonal\": 1448.0}, {\"Distrito\": \"SUNAMPE\", \"Ingresos_Total\": 19893866.48, \"Gastos_Total\": 18279581.42, \"Personal_Limpieza\": 48, \"Residuos_Solidos\": 20000.0, \"Personal_Vigilancia\": 0, \"rate_GastosByIngresos\": 0.9188551375056782, \"rate_ResiduosByPersonal\": 416.6666666666667}, {\"Distrito\": \"TAMBO DE MORA\", \"Ingresos_Total\": 4763824.24, \"Gastos_Total\": 4098037.87, \"Personal_Limpieza\": 9, \"Residuos_Solidos\": 4300.0, \"Personal_Vigilancia\": 3, \"rate_GastosByIngresos\": 0.8602411977315099, \"rate_ResiduosByPersonal\": 477.77777777777777}, {\"Distrito\": \"NASCA\", \"Ingresos_Total\": 96989859.38, \"Gastos_Total\": 50858354.1, \"Personal_Limpieza\": 79, \"Residuos_Solidos\": 15000.0, \"Personal_Vigilancia\": 8, \"rate_GastosByIngresos\": 0.5243677475677149, \"rate_ResiduosByPersonal\": 189.873417721519}, {\"Distrito\": \"CHANGUILLO\", \"Ingresos_Total\": 8234283.33, \"Gastos_Total\": 5288199.53, \"Personal_Limpieza\": 1, \"Residuos_Solidos\": 200.0, \"Personal_Vigilancia\": 0, \"rate_GastosByIngresos\": 0.6422173391500241, \"rate_ResiduosByPersonal\": 200.0}, {\"Distrito\": \"EL INGENIO\", \"Ingresos_Total\": 16612821.07, \"Gastos_Total\": 7967886.98, \"Personal_Limpieza\": 1, \"Residuos_Solidos\": 1784.0, \"Personal_Vigilancia\": 0, \"rate_GastosByIngresos\": 0.4796227531992554, \"rate_ResiduosByPersonal\": 1784.0}, {\"Distrito\": \"MARCONA\", \"Ingresos_Total\": 146144413.45, \"Gastos_Total\": 68585138.67, \"Personal_Limpieza\": 2, \"Residuos_Solidos\": 29460.0, \"Personal_Vigilancia\": 0, \"rate_GastosByIngresos\": 0.46929702648856203, \"rate_ResiduosByPersonal\": 14730.0}, {\"Distrito\": \"VISTA ALEGRE\", \"Ingresos_Total\": 58293057.18, \"Gastos_Total\": 38380354.8, \"Personal_Limpieza\": 18, \"Residuos_Solidos\": 10000.0, \"Personal_Vigilancia\": 9, \"rate_GastosByIngresos\": 0.6584035330569018, \"rate_ResiduosByPersonal\": 555.5555555555555}, {\"Distrito\": \"PALPA\", \"Ingresos_Total\": 14277994.86, \"Gastos_Total\": 12634496.74, \"Personal_Limpieza\": 18, \"Residuos_Solidos\": 3800.0, \"Personal_Vigilancia\": 0, \"rate_GastosByIngresos\": 0.8848929323679559, \"rate_ResiduosByPersonal\": 211.11111111111111}, {\"Distrito\": \"LLIPATA\", \"Ingresos_Total\": 3754290.7, \"Gastos_Total\": 3138489.44, \"Personal_Limpieza\": 3, \"Residuos_Solidos\": 1400.0, \"Personal_Vigilancia\": 0, \"rate_GastosByIngresos\": 0.8359740070208201, \"rate_ResiduosByPersonal\": 466.6666666666667}, {\"Distrito\": \"RIO GRANDE\", \"Ingresos_Total\": 2622405.62, \"Gastos_Total\": 2512380.81, \"Personal_Limpieza\": 1, \"Residuos_Solidos\": 2400.0, \"Personal_Vigilancia\": 0, \"rate_GastosByIngresos\": 0.9580443203900699, \"rate_ResiduosByPersonal\": 2400.0}, {\"Distrito\": \"TIBILLO\", \"Ingresos_Total\": 1316842.98, \"Gastos_Total\": 679668.15, \"Personal_Limpieza\": 2, \"Residuos_Solidos\": 100.0, \"Personal_Vigilancia\": 0, \"rate_GastosByIngresos\": 0.5161345432391643, \"rate_ResiduosByPersonal\": 50.0}, {\"Distrito\": \"PISCO\", \"Ingresos_Total\": 71895854.56, \"Gastos_Total\": 54721102.05, \"Personal_Limpieza\": 45, \"Residuos_Solidos\": 41000.0, \"Personal_Vigilancia\": 0, \"rate_GastosByIngresos\": 0.7611162338203105, \"rate_ResiduosByPersonal\": 911.1111111111111}, {\"Distrito\": \"HUMAY\", \"Ingresos_Total\": 14148052.79, \"Gastos_Total\": 9072770.17, \"Personal_Limpieza\": 17, \"Residuos_Solidos\": 2776.0, \"Personal_Vigilancia\": 6, \"rate_GastosByIngresos\": 0.64127341795139, \"rate_ResiduosByPersonal\": 163.2941176470588}, {\"Distrito\": \"INDEPENDENCIA\", \"Ingresos_Total\": 19341950.91, \"Gastos_Total\": 13558985.27, \"Personal_Limpieza\": 42, \"Residuos_Solidos\": 8000.0, \"Personal_Vigilancia\": 2, \"rate_GastosByIngresos\": 0.7010143564675193, \"rate_ResiduosByPersonal\": 190.47619047619048}, {\"Distrito\": \"PARACAS\", \"Ingresos_Total\": 45252340.68, \"Gastos_Total\": 36322185.34, \"Personal_Limpieza\": 3, \"Residuos_Solidos\": 15170.0, \"Personal_Vigilancia\": 0, \"rate_GastosByIngresos\": 0.8026587087914587, \"rate_ResiduosByPersonal\": 5056.666666666667}, {\"Distrito\": \"SAN ANDRES\", \"Ingresos_Total\": 17913873.77, \"Gastos_Total\": 14693163.92, \"Personal_Limpieza\": 33, \"Residuos_Solidos\": 13736.0, \"Personal_Vigilancia\": 0, \"rate_GastosByIngresos\": 0.8202114243210948, \"rate_ResiduosByPersonal\": 416.24242424242425}, {\"Distrito\": \"SAN CLEMENTE\", \"Ingresos_Total\": 22432480.07, \"Gastos_Total\": 15015503.59, \"Personal_Limpieza\": 37, \"Residuos_Solidos\": 17000.0, \"Personal_Vigilancia\": 10, \"rate_GastosByIngresos\": 0.6693644012228916, \"rate_ResiduosByPersonal\": 459.4594594594595}, {\"Distrito\": \"TUPAC AMARU INCA\", \"Ingresos_Total\": 16041161.81, \"Gastos_Total\": 9619576.83, \"Personal_Limpieza\": 15, \"Residuos_Solidos\": 11339.0, \"Personal_Vigilancia\": 3, \"rate_GastosByIngresos\": 0.5996808051648224, \"rate_ResiduosByPersonal\": 755.9333333333333}, {\"Distrito\": \"HUANCAYO\", \"Ingresos_Total\": 143200460.18, \"Gastos_Total\": 108813048.81, \"Personal_Limpieza\": 57, \"Residuos_Solidos\": 145000.0, \"Personal_Vigilancia\": 40, \"rate_GastosByIngresos\": 0.7598652174247503, \"rate_ResiduosByPersonal\": 2543.8596491228072}, {\"Distrito\": \"CHILCA\", \"Ingresos_Total\": 28263222.35, \"Gastos_Total\": 22795705.7, \"Personal_Limpieza\": 68, \"Residuos_Solidos\": 68000.0, \"Personal_Vigilancia\": 13, \"rate_GastosByIngresos\": 0.8065501313936342, \"rate_ResiduosByPersonal\": 1000.0}, {\"Distrito\": \"CHUPURO\", \"Ingresos_Total\": 3102706.01, \"Gastos_Total\": 3079368.36, \"Personal_Limpieza\": 1, \"Residuos_Solidos\": 472.0, \"Personal_Vigilancia\": 0, \"rate_GastosByIngresos\": 0.992478291554281, \"rate_ResiduosByPersonal\": 472.0}, {\"Distrito\": \"EL TAMBO\", \"Ingresos_Total\": 56571812.81, \"Gastos_Total\": 49500351.08, \"Personal_Limpieza\": 190, \"Residuos_Solidos\": 147000.0, \"Personal_Vigilancia\": 3, \"rate_GastosByIngresos\": 0.8750002628738458, \"rate_ResiduosByPersonal\": 773.6842105263158}, {\"Distrito\": \"HUALHUAS\", \"Ingresos_Total\": 4548104.41, \"Gastos_Total\": 4829405.92, \"Personal_Limpieza\": 1, \"Residuos_Solidos\": 1300.0, \"Personal_Vigilancia\": 0, \"rate_GastosByIngresos\": 1.0618502753326193, \"rate_ResiduosByPersonal\": 1300.0}, {\"Distrito\": \"HUANCAN\", \"Ingresos_Total\": 7610054.12, \"Gastos_Total\": 5557537.95, \"Personal_Limpieza\": 23, \"Residuos_Solidos\": 10000.0, \"Personal_Vigilancia\": 0, \"rate_GastosByIngresos\": 0.7302888865657634, \"rate_ResiduosByPersonal\": 434.7826086956522}, {\"Distrito\": \"HUAYUCACHI\", \"Ingresos_Total\": 8289034.4, \"Gastos_Total\": 6113441.75, \"Personal_Limpieza\": 2, \"Residuos_Solidos\": 4000.0, \"Personal_Vigilancia\": 0, \"rate_GastosByIngresos\": 0.7375336444495875, \"rate_ResiduosByPersonal\": 2000.0}, {\"Distrito\": \"PUCARA\", \"Ingresos_Total\": 6866746.51, \"Gastos_Total\": 8815413.05, \"Personal_Limpieza\": 3, \"Residuos_Solidos\": 150.0, \"Personal_Vigilancia\": 0, \"rate_GastosByIngresos\": 1.2837830895842988, \"rate_ResiduosByPersonal\": 50.0}, {\"Distrito\": \"QUILCAS\", \"Ingresos_Total\": 2105271.36, \"Gastos_Total\": 1539099.55, \"Personal_Limpieza\": 4, \"Residuos_Solidos\": 1450.0, \"Personal_Vigilancia\": 0, \"rate_GastosByIngresos\": 0.7310694380034696, \"rate_ResiduosByPersonal\": 362.5}, {\"Distrito\": \"SAN AGUSTIN\", \"Ingresos_Total\": 8280481.01, \"Gastos_Total\": 5797591.71, \"Personal_Limpieza\": 8, \"Residuos_Solidos\": 6450.0, \"Personal_Vigilancia\": 2, \"rate_GastosByIngresos\": 0.7001515616059604, \"rate_ResiduosByPersonal\": 806.25}, {\"Distrito\": \"SAN JERONIMO DE TUNAN\", \"Ingresos_Total\": 5611147.91, \"Gastos_Total\": 4286716.61, \"Personal_Limpieza\": 9, \"Residuos_Solidos\": 6000.0, \"Personal_Vigilancia\": 1, \"rate_GastosByIngresos\": 0.7639642865874837, \"rate_ResiduosByPersonal\": 666.6666666666666}, {\"Distrito\": \"SA\\u00d1O\", \"Ingresos_Total\": 2554687.83, \"Gastos_Total\": 2682153.04, \"Personal_Limpieza\": 2, \"Residuos_Solidos\": 1605.0, \"Personal_Vigilancia\": 0, \"rate_GastosByIngresos\": 1.0498946323316536, \"rate_ResiduosByPersonal\": 802.5}, {\"Distrito\": \"SAPALLANGA\", \"Ingresos_Total\": 6850931.02, \"Gastos_Total\": 6315252.24, \"Personal_Limpieza\": 12, \"Residuos_Solidos\": 13940.0, \"Personal_Vigilancia\": 2, \"rate_GastosByIngresos\": 0.9218093455566571, \"rate_ResiduosByPersonal\": 1161.6666666666667}, {\"Distrito\": \"SICAYA\", \"Ingresos_Total\": 6513171.43, \"Gastos_Total\": 5915111.67, \"Personal_Limpieza\": 12, \"Residuos_Solidos\": 7200.0, \"Personal_Vigilancia\": 3, \"rate_GastosByIngresos\": 0.9081768741345719, \"rate_ResiduosByPersonal\": 600.0}, {\"Distrito\": \"VIQUES\", \"Ingresos_Total\": 6334754.84, \"Gastos_Total\": 3854978.16, \"Personal_Limpieza\": 3, \"Residuos_Solidos\": 150.0, \"Personal_Vigilancia\": 1, \"rate_GastosByIngresos\": 0.6085441753259705, \"rate_ResiduosByPersonal\": 50.0}, {\"Distrito\": \"CONCEPCION\", \"Ingresos_Total\": 26066317.49, \"Gastos_Total\": 28693770.29, \"Personal_Limpieza\": 48, \"Residuos_Solidos\": 15700.0, \"Personal_Vigilancia\": 5, \"rate_GastosByIngresos\": 1.1007987722472876, \"rate_ResiduosByPersonal\": 327.0833333333333}, {\"Distrito\": \"ANDAMARCA\", \"Ingresos_Total\": 5740156.86, \"Gastos_Total\": 4780045.98, \"Personal_Limpieza\": 2, \"Residuos_Solidos\": 100.0, \"Personal_Vigilancia\": 2, \"rate_GastosByIngresos\": 0.8327378670275571, \"rate_ResiduosByPersonal\": 50.0}, {\"Distrito\": \"COMAS\", \"Ingresos_Total\": 6244647.07, \"Gastos_Total\": 6268778.44, \"Personal_Limpieza\": 4, \"Residuos_Solidos\": 600.0, \"Personal_Vigilancia\": 1, \"rate_GastosByIngresos\": 1.0038643288771163, \"rate_ResiduosByPersonal\": 150.0}, {\"Distrito\": \"MARISCAL CASTILLA\", \"Ingresos_Total\": 1311471.77, \"Gastos_Total\": 934620.11, \"Personal_Limpieza\": 1, \"Residuos_Solidos\": 300.0, \"Personal_Vigilancia\": 0, \"rate_GastosByIngresos\": 0.7126498117454713, \"rate_ResiduosByPersonal\": 300.0}, {\"Distrito\": \"MATAHUASI\", \"Ingresos_Total\": 2848906.33, \"Gastos_Total\": 2620649.87, \"Personal_Limpieza\": 5, \"Residuos_Solidos\": 3100.0, \"Personal_Vigilancia\": 0, \"rate_GastosByIngresos\": 0.9198792681962275, \"rate_ResiduosByPersonal\": 620.0}, {\"Distrito\": \"MITO\", \"Ingresos_Total\": 4946719.31, \"Gastos_Total\": 5880525.03, \"Personal_Limpieza\": 1, \"Residuos_Solidos\": 232.0, \"Personal_Vigilancia\": 0, \"rate_GastosByIngresos\": 1.1887727322858754, \"rate_ResiduosByPersonal\": 232.0}, {\"Distrito\": \"ORCOTUNA\", \"Ingresos_Total\": 3351840.8, \"Gastos_Total\": 2930390.16, \"Personal_Limpieza\": 4, \"Residuos_Solidos\": 1850.0, \"Personal_Vigilancia\": 1, \"rate_GastosByIngresos\": 0.874262930387386, \"rate_ResiduosByPersonal\": 462.5}, {\"Distrito\": \"CHANCHAMAYO\", \"Ingresos_Total\": 58691498.57, \"Gastos_Total\": 60631983.83, \"Personal_Limpieza\": 30, \"Residuos_Solidos\": 35000.0, \"Personal_Vigilancia\": 4, \"rate_GastosByIngresos\": 1.0330624589127781, \"rate_ResiduosByPersonal\": 1166.6666666666667}, {\"Distrito\": \"PERENE\", \"Ingresos_Total\": 44273818.59, \"Gastos_Total\": 42587981.13, \"Personal_Limpieza\": 24, \"Residuos_Solidos\": 41440.0, \"Personal_Vigilancia\": 7, \"rate_GastosByIngresos\": 0.9619224744174026, \"rate_ResiduosByPersonal\": 1726.6666666666667}, {\"Distrito\": \"PICHANAQUI\", \"Ingresos_Total\": 39876033.02, \"Gastos_Total\": 34786032.82, \"Personal_Limpieza\": 31, \"Residuos_Solidos\": 37942.0, \"Personal_Vigilancia\": 10, \"rate_GastosByIngresos\": 0.8723543990083695, \"rate_ResiduosByPersonal\": 1223.9354838709678}, {\"Distrito\": \"SAN RAMON\", \"Ingresos_Total\": 20119723.46, \"Gastos_Total\": 21374167.59, \"Personal_Limpieza\": 32, \"Residuos_Solidos\": 30000.0, \"Personal_Vigilancia\": 0, \"rate_GastosByIngresos\": 1.0623489747507693, \"rate_ResiduosByPersonal\": 937.5}, {\"Distrito\": \"VITOC\", \"Ingresos_Total\": 3384045.98, \"Gastos_Total\": 2400594.44, \"Personal_Limpieza\": 1, \"Residuos_Solidos\": 500.0, \"Personal_Vigilancia\": 0, \"rate_GastosByIngresos\": 0.7093858813348629, \"rate_ResiduosByPersonal\": 500.0}, {\"Distrito\": \"JAUJA\", \"Ingresos_Total\": 69403431.79, \"Gastos_Total\": 64627950.26, \"Personal_Limpieza\": 34, \"Residuos_Solidos\": 18200.0, \"Personal_Vigilancia\": 6, \"rate_GastosByIngresos\": 0.9311924294399505, \"rate_ResiduosByPersonal\": 535.2941176470588}, {\"Distrito\": \"ACOLLA\", \"Ingresos_Total\": 5926398.86, \"Gastos_Total\": 5259675.96, \"Personal_Limpieza\": 3, \"Residuos_Solidos\": 3270.0, \"Personal_Vigilancia\": 3, \"rate_GastosByIngresos\": 0.8874994890235922, \"rate_ResiduosByPersonal\": 1090.0}, {\"Distrito\": \"APATA\", \"Ingresos_Total\": 2919891.38, \"Gastos_Total\": 2351654.73, \"Personal_Limpieza\": 4, \"Residuos_Solidos\": 2500.0, \"Personal_Vigilancia\": 0, \"rate_GastosByIngresos\": 0.8053911683522967, \"rate_ResiduosByPersonal\": 625.0}, {\"Distrito\": \"CANCHAYLLO\", \"Ingresos_Total\": 1734742.04, \"Gastos_Total\": 1529396.84, \"Personal_Limpieza\": 3, \"Residuos_Solidos\": 1600.0, \"Personal_Vigilancia\": 2, \"rate_GastosByIngresos\": 0.8816278182778116, \"rate_ResiduosByPersonal\": 533.3333333333334}, {\"Distrito\": \"CURICACA\", \"Ingresos_Total\": 2791133.82, \"Gastos_Total\": 2573740.55, \"Personal_Limpieza\": 1, \"Residuos_Solidos\": 200.0, \"Personal_Vigilancia\": 0, \"rate_GastosByIngresos\": 0.9221129175382927, \"rate_ResiduosByPersonal\": 200.0}, {\"Distrito\": \"JANJAILLO\", \"Ingresos_Total\": 5126169.91, \"Gastos_Total\": 4769398.19, \"Personal_Limpieza\": 1, \"Residuos_Solidos\": 13798.4666666667, \"Personal_Vigilancia\": 0, \"rate_GastosByIngresos\": 0.9304018933699372, \"rate_ResiduosByPersonal\": 13798.4666666667}, {\"Distrito\": \"MUQUI\", \"Ingresos_Total\": 5432634.37, \"Gastos_Total\": 4796754.38, \"Personal_Limpieza\": 1, \"Residuos_Solidos\": 500.0, \"Personal_Vigilancia\": 0, \"rate_GastosByIngresos\": 0.8829518155111918, \"rate_ResiduosByPersonal\": 500.0}, {\"Distrito\": \"SAN LORENZO\", \"Ingresos_Total\": 2098312.28, \"Gastos_Total\": 2536675.4, \"Personal_Limpieza\": 1, \"Residuos_Solidos\": 500.0, \"Personal_Vigilancia\": 0, \"rate_GastosByIngresos\": 1.208912240650853, \"rate_ResiduosByPersonal\": 500.0}, {\"Distrito\": \"SAUSA\", \"Ingresos_Total\": 1679063.34, \"Gastos_Total\": 1396082.58, \"Personal_Limpieza\": 2, \"Residuos_Solidos\": 350.0, \"Personal_Vigilancia\": 0, \"rate_GastosByIngresos\": 0.8314651072067358, \"rate_ResiduosByPersonal\": 175.0}, {\"Distrito\": \"YAUYOS\", \"Ingresos_Total\": 6642554.61, \"Gastos_Total\": 8950527.57, \"Personal_Limpieza\": 11, \"Residuos_Solidos\": 12000.0, \"Personal_Vigilancia\": 0, \"rate_GastosByIngresos\": 1.3474526135660931, \"rate_ResiduosByPersonal\": 1090.909090909091}, {\"Distrito\": \"JUNIN\", \"Ingresos_Total\": 28947111.18, \"Gastos_Total\": 26141336.93, \"Personal_Limpieza\": 8, \"Residuos_Solidos\": 3530.0, \"Personal_Vigilancia\": 0, \"rate_GastosByIngresos\": 0.9030723918337471, \"rate_ResiduosByPersonal\": 441.25}, {\"Distrito\": \"CARHUAMAYO\", \"Ingresos_Total\": 4006119.43, \"Gastos_Total\": 2977486.02, \"Personal_Limpieza\": 12, \"Residuos_Solidos\": 1800.0, \"Personal_Vigilancia\": 0, \"rate_GastosByIngresos\": 0.7432344621837697, \"rate_ResiduosByPersonal\": 150.0}, {\"Distrito\": \"ONDORES\", \"Ingresos_Total\": 1473503.99, \"Gastos_Total\": 1448219.93, \"Personal_Limpieza\": 1, \"Residuos_Solidos\": 175.0, \"Personal_Vigilancia\": 0, \"rate_GastosByIngresos\": 0.98284086085169, \"rate_ResiduosByPersonal\": 175.0}, {\"Distrito\": \"ULCUMAYO\", \"Ingresos_Total\": 11951179.35, \"Gastos_Total\": 8632243.25, \"Personal_Limpieza\": 1, \"Residuos_Solidos\": 517.0, \"Personal_Vigilancia\": 0, \"rate_GastosByIngresos\": 0.7222921685967335, \"rate_ResiduosByPersonal\": 517.0}, {\"Distrito\": \"SATIPO\", \"Ingresos_Total\": 91233462.72, \"Gastos_Total\": 65273475.3, \"Personal_Limpieza\": 75, \"Residuos_Solidos\": 20336.0, \"Personal_Vigilancia\": 15, \"rate_GastosByIngresos\": 0.7154554190311456, \"rate_ResiduosByPersonal\": 271.14666666666665}, {\"Distrito\": \"COVIRIALI\", \"Ingresos_Total\": 7658199.07, \"Gastos_Total\": 6738317.94, \"Personal_Limpieza\": 1, \"Residuos_Solidos\": 2600.0, \"Personal_Vigilancia\": 4, \"rate_GastosByIngresos\": 0.8798828390863441, \"rate_ResiduosByPersonal\": 2600.0}, {\"Distrito\": \"MAZAMARI\", \"Ingresos_Total\": 47667657.71, \"Gastos_Total\": 35274660.92, \"Personal_Limpieza\": 28, \"Residuos_Solidos\": 6135.0, \"Personal_Vigilancia\": 6, \"rate_GastosByIngresos\": 0.7400124657813819, \"rate_ResiduosByPersonal\": 219.10714285714286}, {\"Distrito\": \"PAMPA HERMOSA\", \"Ingresos_Total\": 7596005.22, \"Gastos_Total\": 6337880.03, \"Personal_Limpieza\": 4, \"Residuos_Solidos\": 390.0, \"Personal_Vigilancia\": 4, \"rate_GastosByIngresos\": 0.834370151999448, \"rate_ResiduosByPersonal\": 97.5}, {\"Distrito\": \"PANGOA\", \"Ingresos_Total\": 56984659.57, \"Gastos_Total\": 44922639.09, \"Personal_Limpieza\": 26, \"Residuos_Solidos\": 16130.0, \"Personal_Vigilancia\": 2, \"rate_GastosByIngresos\": 0.7883286384262241, \"rate_ResiduosByPersonal\": 620.3846153846154}, {\"Distrito\": \"RIO NEGRO\", \"Ingresos_Total\": 29502210.96, \"Gastos_Total\": 19671581.61, \"Personal_Limpieza\": 5, \"Residuos_Solidos\": 3150.0, \"Personal_Vigilancia\": 2, \"rate_GastosByIngresos\": 0.6667833009760296, \"rate_ResiduosByPersonal\": 630.0}, {\"Distrito\": \"RIO TAMBO\", \"Ingresos_Total\": 57836764.12, \"Gastos_Total\": 31899276.41, \"Personal_Limpieza\": 2, \"Residuos_Solidos\": 4500.0, \"Personal_Vigilancia\": 0, \"rate_GastosByIngresos\": 0.551539784345736, \"rate_ResiduosByPersonal\": 2250.0}, {\"Distrito\": \"VIZCAT\\u00c1N DEL ENE\", \"Ingresos_Total\": 4987448.45, \"Gastos_Total\": 4150502.38, \"Personal_Limpieza\": 2, \"Residuos_Solidos\": 500.0, \"Personal_Vigilancia\": 3, \"rate_GastosByIngresos\": 0.8321895296982968, \"rate_ResiduosByPersonal\": 250.0}, {\"Distrito\": \"TARMA\", \"Ingresos_Total\": 39009062.79, \"Gastos_Total\": 34106986.81, \"Personal_Limpieza\": 89, \"Residuos_Solidos\": 37800.0, \"Personal_Vigilancia\": 12, \"rate_GastosByIngresos\": 0.8743349460511354, \"rate_ResiduosByPersonal\": 424.7191011235955}, {\"Distrito\": \"ACOBAMBA\", \"Ingresos_Total\": 5624954.52, \"Gastos_Total\": 4414364.65, \"Personal_Limpieza\": 3, \"Residuos_Solidos\": 5000.0, \"Personal_Vigilancia\": 7, \"rate_GastosByIngresos\": 0.7847822830041301, \"rate_ResiduosByPersonal\": 1666.6666666666667}, {\"Distrito\": \"HUASAHUASI\", \"Ingresos_Total\": 10278951.07, \"Gastos_Total\": 7326985.69, \"Personal_Limpieza\": 4, \"Residuos_Solidos\": 3500.0, \"Personal_Vigilancia\": 3, \"rate_GastosByIngresos\": 0.7128145313761086, \"rate_ResiduosByPersonal\": 875.0}, {\"Distrito\": \"LA UNION\", \"Ingresos_Total\": 7973072.92, \"Gastos_Total\": 5902464.04, \"Personal_Limpieza\": 5, \"Residuos_Solidos\": 2075.0, \"Personal_Vigilancia\": 0, \"rate_GastosByIngresos\": 0.7402997688876023, \"rate_ResiduosByPersonal\": 415.0}, {\"Distrito\": \"PALCA\", \"Ingresos_Total\": 3942783.99, \"Gastos_Total\": 3552161.12, \"Personal_Limpieza\": 2, \"Residuos_Solidos\": 1150.0, \"Personal_Vigilancia\": 1, \"rate_GastosByIngresos\": 0.9009271441218366, \"rate_ResiduosByPersonal\": 575.0}, {\"Distrito\": \"PALCAMAYO\", \"Ingresos_Total\": 4666235.03, \"Gastos_Total\": 4051893.72, \"Personal_Limpieza\": 1, \"Residuos_Solidos\": 1700.0, \"Personal_Vigilancia\": 1, \"rate_GastosByIngresos\": 0.868343256168989, \"rate_ResiduosByPersonal\": 1700.0}, {\"Distrito\": \"SAN PEDRO DE CAJAS\", \"Ingresos_Total\": 2933963.38, \"Gastos_Total\": 2634314.27, \"Personal_Limpieza\": 3, \"Residuos_Solidos\": 1000.0, \"Personal_Vigilancia\": 0, \"rate_GastosByIngresos\": 0.8978688309327161, \"rate_ResiduosByPersonal\": 333.3333333333333}, {\"Distrito\": \"TAPO\", \"Ingresos_Total\": 3683633.06, \"Gastos_Total\": 3357233.38, \"Personal_Limpieza\": 4, \"Residuos_Solidos\": 1600.0, \"Personal_Vigilancia\": 1, \"rate_GastosByIngresos\": 0.9113919126352937, \"rate_ResiduosByPersonal\": 400.0}, {\"Distrito\": \"LA OROYA\", \"Ingresos_Total\": 29399040.92, \"Gastos_Total\": 25934729.0, \"Personal_Limpieza\": 32, \"Residuos_Solidos\": 8500.0, \"Personal_Vigilancia\": 0, \"rate_GastosByIngresos\": 0.8821624171541171, \"rate_ResiduosByPersonal\": 265.625}, {\"Distrito\": \"MOROCOCHA\", \"Ingresos_Total\": 20096890.91, \"Gastos_Total\": 13013248.76, \"Personal_Limpieza\": 18, \"Residuos_Solidos\": 2098.0, \"Personal_Vigilancia\": 0, \"rate_GastosByIngresos\": 0.6475254713914352, \"rate_ResiduosByPersonal\": 116.55555555555556}, {\"Distrito\": \"PACCHA\", \"Ingresos_Total\": 3903829.22, \"Gastos_Total\": 2521669.68, \"Personal_Limpieza\": 2, \"Residuos_Solidos\": 561.0, \"Personal_Vigilancia\": 0, \"rate_GastosByIngresos\": 0.6459477446095861, \"rate_ResiduosByPersonal\": 280.5}, {\"Distrito\": \"SANTA ROSA DE SACCO\", \"Ingresos_Total\": 6955154.52, \"Gastos_Total\": 5892865.47, \"Personal_Limpieza\": 25, \"Residuos_Solidos\": 3200.0, \"Personal_Vigilancia\": 0, \"rate_GastosByIngresos\": 0.8472659310522407, \"rate_ResiduosByPersonal\": 128.0}, {\"Distrito\": \"YAULI\", \"Ingresos_Total\": 12506249.2, \"Gastos_Total\": 7652190.74, \"Personal_Limpieza\": 6, \"Residuos_Solidos\": 5200.0, \"Personal_Vigilancia\": 0, \"rate_GastosByIngresos\": 0.6118693636778004, \"rate_ResiduosByPersonal\": 866.6666666666666}, {\"Distrito\": \"CHUPACA\", \"Ingresos_Total\": 27960522.83, \"Gastos_Total\": 21044000.24, \"Personal_Limpieza\": 14, \"Residuos_Solidos\": 18000.0, \"Personal_Vigilancia\": 0, \"rate_GastosByIngresos\": 0.7526325730011394, \"rate_ResiduosByPersonal\": 1285.7142857142858}, {\"Distrito\": \"AHUAC\", \"Ingresos_Total\": 5646956.38, \"Gastos_Total\": 4800330.59, \"Personal_Limpieza\": 6, \"Residuos_Solidos\": 1500.0, \"Personal_Vigilancia\": 0, \"rate_GastosByIngresos\": 0.850073963206353, \"rate_ResiduosByPersonal\": 250.0}, {\"Distrito\": \"CHONGOS BAJO\", \"Ingresos_Total\": 2016117.86, \"Gastos_Total\": 1744798.13, \"Personal_Limpieza\": 6, \"Residuos_Solidos\": 820.0, \"Personal_Vigilancia\": 0, \"rate_GastosByIngresos\": 0.8654246681788731, \"rate_ResiduosByPersonal\": 136.66666666666666}, {\"Distrito\": \"HUACHAC\", \"Ingresos_Total\": 2020051.53, \"Gastos_Total\": 2021274.51, \"Personal_Limpieza\": 1, \"Residuos_Solidos\": 590.0, \"Personal_Vigilancia\": 0, \"rate_GastosByIngresos\": 1.000605420199355, \"rate_ResiduosByPersonal\": 590.0}, {\"Distrito\": \"HUAMANCACA CHICO\", \"Ingresos_Total\": 7915911.35, \"Gastos_Total\": 7145783.75, \"Personal_Limpieza\": 3, \"Residuos_Solidos\": 3600.0, \"Personal_Vigilancia\": 1, \"rate_GastosByIngresos\": 0.902711442062827, \"rate_ResiduosByPersonal\": 1200.0}, {\"Distrito\": \"TRES DE DICIEMBRE\", \"Ingresos_Total\": 1657608.94, \"Gastos_Total\": 2552630.34, \"Personal_Limpieza\": 5, \"Residuos_Solidos\": 2000.0, \"Personal_Vigilancia\": 0, \"rate_GastosByIngresos\": 1.539947256799906, \"rate_ResiduosByPersonal\": 400.0}, {\"Distrito\": \"EL PORVENIR\", \"Ingresos_Total\": 68160994.41, \"Gastos_Total\": 45418763.72, \"Personal_Limpieza\": 53, \"Residuos_Solidos\": 115236.0, \"Personal_Vigilancia\": 81, \"rate_GastosByIngresos\": 0.6663453799807907, \"rate_ResiduosByPersonal\": 2174.264150943396}, {\"Distrito\": \"FLORENCIA DE MORA\", \"Ingresos_Total\": 29897261.36, \"Gastos_Total\": 12890159.76, \"Personal_Limpieza\": 31, \"Residuos_Solidos\": 21000.0, \"Personal_Vigilancia\": 19, \"rate_GastosByIngresos\": 0.4311485123933773, \"rate_ResiduosByPersonal\": 677.4193548387096}, {\"Distrito\": \"HUANCHACO\", \"Ingresos_Total\": 67139976.32, \"Gastos_Total\": 57692029.32, \"Personal_Limpieza\": 109, \"Residuos_Solidos\": 41897.0, \"Personal_Vigilancia\": 0, \"rate_GastosByIngresos\": 0.8592798580242336, \"rate_ResiduosByPersonal\": 384.3761467889908}, {\"Distrito\": \"LA ESPERANZA\", \"Ingresos_Total\": 75459364.12, \"Gastos_Total\": 60933489.12, \"Personal_Limpieza\": 69, \"Residuos_Solidos\": 130480.0, \"Personal_Vigilancia\": 156, \"rate_GastosByIngresos\": 0.807500696972478, \"rate_ResiduosByPersonal\": 1891.0144927536232}, {\"Distrito\": \"LAREDO\", \"Ingresos_Total\": 39473873.66, \"Gastos_Total\": 36934000.78, \"Personal_Limpieza\": 10, \"Residuos_Solidos\": 22500.0, \"Personal_Vigilancia\": 9, \"rate_GastosByIngresos\": 0.9356568625142629, \"rate_ResiduosByPersonal\": 2250.0}, {\"Distrito\": \"MOCHE\", \"Ingresos_Total\": 29061053.93, \"Gastos_Total\": 25134054.3, \"Personal_Limpieza\": 74, \"Residuos_Solidos\": 30000.0, \"Personal_Vigilancia\": 8, \"rate_GastosByIngresos\": 0.8648707084244416, \"rate_ResiduosByPersonal\": 405.4054054054054}, {\"Distrito\": \"SALAVERRY\", \"Ingresos_Total\": 19290397.82, \"Gastos_Total\": 14000111.85, \"Personal_Limpieza\": 24, \"Residuos_Solidos\": 40000.0, \"Personal_Vigilancia\": 0, \"rate_GastosByIngresos\": 0.7257554758919949, \"rate_ResiduosByPersonal\": 1666.6666666666667}, {\"Distrito\": \"VICTOR LARCO HERRERA\", \"Ingresos_Total\": 44470663.95, \"Gastos_Total\": 34218571.79, \"Personal_Limpieza\": 88, \"Residuos_Solidos\": 57000.0, \"Personal_Vigilancia\": 47, \"rate_GastosByIngresos\": 0.7694639285906141, \"rate_ResiduosByPersonal\": 647.7272727272727}, {\"Distrito\": \"ASCOPE\", \"Ingresos_Total\": 58253277.6, \"Gastos_Total\": 60447924.45, \"Personal_Limpieza\": 47, \"Residuos_Solidos\": 3346.0, \"Personal_Vigilancia\": 13, \"rate_GastosByIngresos\": 1.0376742209265835, \"rate_ResiduosByPersonal\": 71.19148936170212}, {\"Distrito\": \"CHICAMA\", \"Ingresos_Total\": 40323825.34, \"Gastos_Total\": 39242489.54, \"Personal_Limpieza\": 18, \"Residuos_Solidos\": 9000.0, \"Personal_Vigilancia\": 7, \"rate_GastosByIngresos\": 0.9731836999371348, \"rate_ResiduosByPersonal\": 500.0}, {\"Distrito\": \"CHOCOPE\", \"Ingresos_Total\": 13191698.52, \"Gastos_Total\": 11367333.38, \"Personal_Limpieza\": 15, \"Residuos_Solidos\": 6000.0, \"Personal_Vigilancia\": 0, \"rate_GastosByIngresos\": 0.8617035450564557, \"rate_ResiduosByPersonal\": 400.0}, {\"Distrito\": \"MAGDALENA DE CAO\", \"Ingresos_Total\": 5679237.47, \"Gastos_Total\": 5435590.31, \"Personal_Limpieza\": 5, \"Residuos_Solidos\": 2037.0, \"Personal_Vigilancia\": 0, \"rate_GastosByIngresos\": 0.9570986138038704, \"rate_ResiduosByPersonal\": 407.4}, {\"Distrito\": \"PAIJAN\", \"Ingresos_Total\": 27384520.36, \"Gastos_Total\": 20832283.47, \"Personal_Limpieza\": 21, \"Residuos_Solidos\": 22000.0, \"Personal_Vigilancia\": 26, \"rate_GastosByIngresos\": 0.76073209229654, \"rate_ResiduosByPersonal\": 1047.6190476190477}, {\"Distrito\": \"RAZURI\", \"Ingresos_Total\": 18412471.94, \"Gastos_Total\": 12340820.86, \"Personal_Limpieza\": 38, \"Residuos_Solidos\": 7000.0, \"Personal_Vigilancia\": 0, \"rate_GastosByIngresos\": 0.6702424802174606, \"rate_ResiduosByPersonal\": 184.21052631578948}, {\"Distrito\": \"SANTIAGO DE CAO\", \"Ingresos_Total\": 37786067.02, \"Gastos_Total\": 33803996.24, \"Personal_Limpieza\": 34, \"Residuos_Solidos\": 10000.0, \"Personal_Vigilancia\": 15, \"rate_GastosByIngresos\": 0.8946153676726316, \"rate_ResiduosByPersonal\": 294.11764705882354}, {\"Distrito\": \"CASA GRANDE\", \"Ingresos_Total\": 37488457.52, \"Gastos_Total\": 36751437.71, \"Personal_Limpieza\": 52, \"Residuos_Solidos\": 23400.0, \"Personal_Vigilancia\": 43, \"rate_GastosByIngresos\": 0.9803400870892913, \"rate_ResiduosByPersonal\": 450.0}, {\"Distrito\": \"LONGOTEA\", \"Ingresos_Total\": 1222129.12, \"Gastos_Total\": 1779783.49, \"Personal_Limpieza\": 4, \"Residuos_Solidos\": 1000.0, \"Personal_Vigilancia\": 2, \"rate_GastosByIngresos\": 1.4562974246125482, \"rate_ResiduosByPersonal\": 250.0}, {\"Distrito\": \"CHEPEN\", \"Ingresos_Total\": 46133168.96, \"Gastos_Total\": 41051640.44, \"Personal_Limpieza\": 89, \"Residuos_Solidos\": 55000.0, \"Personal_Vigilancia\": 0, \"rate_GastosByIngresos\": 0.88985086794263, \"rate_ResiduosByPersonal\": 617.9775280898876}, {\"Distrito\": \"PACANGA\", \"Ingresos_Total\": 36526143.64, \"Gastos_Total\": 34873236.58, \"Personal_Limpieza\": 18, \"Residuos_Solidos\": 10000.0, \"Personal_Vigilancia\": 2, \"rate_GastosByIngresos\": 0.9547472879619875, \"rate_ResiduosByPersonal\": 555.5555555555555}, {\"Distrito\": \"PUEBLO NUEVO\", \"Ingresos_Total\": 11766072.34, \"Gastos_Total\": 11640609.43, \"Personal_Limpieza\": 21, \"Residuos_Solidos\": 12000.0, \"Personal_Vigilancia\": 7, \"rate_GastosByIngresos\": 0.9893368911583625, \"rate_ResiduosByPersonal\": 571.4285714285714}, {\"Distrito\": \"JULCAN\", \"Ingresos_Total\": 39010562.35, \"Gastos_Total\": 32867464.86, \"Personal_Limpieza\": 5, \"Residuos_Solidos\": 4150.0, \"Personal_Vigilancia\": 0, \"rate_GastosByIngresos\": 0.8425273279865959, \"rate_ResiduosByPersonal\": 830.0}, {\"Distrito\": \"CALAMARCA\", \"Ingresos_Total\": 9744769.45, \"Gastos_Total\": 7283973.6, \"Personal_Limpieza\": 7, \"Residuos_Solidos\": 100.0, \"Personal_Vigilancia\": 0, \"rate_GastosByIngresos\": 0.7474752109194334, \"rate_ResiduosByPersonal\": 14.285714285714286}, {\"Distrito\": \"CARABAMBA\", \"Ingresos_Total\": 10555095.03, \"Gastos_Total\": 9792955.17, \"Personal_Limpieza\": 4, \"Residuos_Solidos\": 190.0, \"Personal_Vigilancia\": 0, \"rate_GastosByIngresos\": 0.9277941261699849, \"rate_ResiduosByPersonal\": 47.5}, {\"Distrito\": \"HUASO\", \"Ingresos_Total\": 9898447.56, \"Gastos_Total\": 10723838.85, \"Personal_Limpieza\": 3, \"Residuos_Solidos\": 20.0, \"Personal_Vigilancia\": 0, \"rate_GastosByIngresos\": 1.083385933500869, \"rate_ResiduosByPersonal\": 6.666666666666667}, {\"Distrito\": \"OTUZCO\", \"Ingresos_Total\": 61404374.41, \"Gastos_Total\": 50177051.8, \"Personal_Limpieza\": 59, \"Residuos_Solidos\": 12000.0, \"Personal_Vigilancia\": 5, \"rate_GastosByIngresos\": 0.8171576094068703, \"rate_ResiduosByPersonal\": 203.38983050847457}, {\"Distrito\": \"CHARAT\", \"Ingresos_Total\": 11848163.59, \"Gastos_Total\": 8634498.79, \"Personal_Limpieza\": 1, \"Residuos_Solidos\": 50.0, \"Personal_Vigilancia\": 0, \"rate_GastosByIngresos\": 0.7287626242169398, \"rate_ResiduosByPersonal\": 50.0}, {\"Distrito\": \"USQUIL\", \"Ingresos_Total\": 26567507.07, \"Gastos_Total\": 27795525.83, \"Personal_Limpieza\": 8, \"Residuos_Solidos\": 2700.0, \"Personal_Vigilancia\": 3, \"rate_GastosByIngresos\": 1.0462225814700798, \"rate_ResiduosByPersonal\": 337.5}, {\"Distrito\": \"SAN PEDRO DE LLOC\", \"Ingresos_Total\": 21847095.33, \"Gastos_Total\": 23940888.64, \"Personal_Limpieza\": 71, \"Residuos_Solidos\": 20000.0, \"Personal_Vigilancia\": 38, \"rate_GastosByIngresos\": 1.095838521248399, \"rate_ResiduosByPersonal\": 281.6901408450704}, {\"Distrito\": \"GUADALUPE\", \"Ingresos_Total\": 40681890.98, \"Gastos_Total\": 36830098.36, \"Personal_Limpieza\": 91, \"Residuos_Solidos\": 25000.0, \"Personal_Vigilancia\": 0, \"rate_GastosByIngresos\": 0.9053192335161211, \"rate_ResiduosByPersonal\": 274.72527472527474}, {\"Distrito\": \"JEQUETEPEQUE\", \"Ingresos_Total\": 2646077.48, \"Gastos_Total\": 2712102.74, \"Personal_Limpieza\": 10, \"Residuos_Solidos\": 9734.0, \"Personal_Vigilancia\": 0, \"rate_GastosByIngresos\": 1.024952126496311, \"rate_ResiduosByPersonal\": 973.4}, {\"Distrito\": \"PACASMAYO\", \"Ingresos_Total\": 24970923.43, \"Gastos_Total\": 21183314.26, \"Personal_Limpieza\": 36, \"Residuos_Solidos\": 28500.0, \"Personal_Vigilancia\": 37, \"rate_GastosByIngresos\": 0.848319218926058, \"rate_ResiduosByPersonal\": 791.6666666666666}, {\"Distrito\": \"SAN JOSE\", \"Ingresos_Total\": 16943031.31, \"Gastos_Total\": 26013466.41, \"Personal_Limpieza\": 23, \"Residuos_Solidos\": 17000.0, \"Personal_Vigilancia\": 1, \"rate_GastosByIngresos\": 1.5353490136470747, \"rate_ResiduosByPersonal\": 739.1304347826087}, {\"Distrito\": \"TAYABAMBA\", \"Ingresos_Total\": 63627767.3, \"Gastos_Total\": 52113904.53, \"Personal_Limpieza\": 8, \"Residuos_Solidos\": 3420.0, \"Personal_Vigilancia\": 0, \"rate_GastosByIngresos\": 0.8190434261866675, \"rate_ResiduosByPersonal\": 427.5}, {\"Distrito\": \"BULDIBUYO\", \"Ingresos_Total\": 7346777.68, \"Gastos_Total\": 4525078.24, \"Personal_Limpieza\": 5, \"Residuos_Solidos\": 1000.0, \"Personal_Vigilancia\": 0, \"rate_GastosByIngresos\": 0.6159269324725232, \"rate_ResiduosByPersonal\": 200.0}, {\"Distrito\": \"CHILLIA\", \"Ingresos_Total\": 37120050.48, \"Gastos_Total\": 30445112.46, \"Personal_Limpieza\": 1, \"Residuos_Solidos\": 2200.0, \"Personal_Vigilancia\": 0, \"rate_GastosByIngresos\": 0.8201797159840502, \"rate_ResiduosByPersonal\": 2200.0}, {\"Distrito\": \"HUAYO\", \"Ingresos_Total\": 8015935.3, \"Gastos_Total\": 4726617.21, \"Personal_Limpieza\": 4, \"Residuos_Solidos\": 150.0, \"Personal_Vigilancia\": 0, \"rate_GastosByIngresos\": 0.5896526148358507, \"rate_ResiduosByPersonal\": 37.5}, {\"Distrito\": \"PARCOY\", \"Ingresos_Total\": 56437256.92, \"Gastos_Total\": 39803790.07, \"Personal_Limpieza\": 30, \"Residuos_Solidos\": 14000.0, \"Personal_Vigilancia\": 0, \"rate_GastosByIngresos\": 0.7052750654841713, \"rate_ResiduosByPersonal\": 466.6666666666667}, {\"Distrito\": \"TAURIJA\", \"Ingresos_Total\": 4443492.36, \"Gastos_Total\": 4185647.62, \"Personal_Limpieza\": 2, \"Residuos_Solidos\": 120.0, \"Personal_Vigilancia\": 0, \"rate_GastosByIngresos\": 0.9419725029076003, \"rate_ResiduosByPersonal\": 60.0}, {\"Distrito\": \"URPAY\", \"Ingresos_Total\": 3614444.47, \"Gastos_Total\": 3272456.02, \"Personal_Limpieza\": 1, \"Residuos_Solidos\": 1000.0, \"Personal_Vigilancia\": 0, \"rate_GastosByIngresos\": 0.9053828457350735, \"rate_ResiduosByPersonal\": 1000.0}, {\"Distrito\": \"HUAMACHUCO\", \"Ingresos_Total\": 223822573.18, \"Gastos_Total\": 117657556.05, \"Personal_Limpieza\": 44, \"Residuos_Solidos\": 50000.0, \"Personal_Vigilancia\": 43, \"rate_GastosByIngresos\": 0.5256733240904116, \"rate_ResiduosByPersonal\": 1136.3636363636363}, {\"Distrito\": \"CHUGAY\", \"Ingresos_Total\": 35023456.07, \"Gastos_Total\": 26542562.85, \"Personal_Limpieza\": 9, \"Residuos_Solidos\": 1000.0, \"Personal_Vigilancia\": 0, \"rate_GastosByIngresos\": 0.7578510469369564, \"rate_ResiduosByPersonal\": 111.11111111111111}, {\"Distrito\": \"MARCABAL\", \"Ingresos_Total\": 40044440.87, \"Gastos_Total\": 31527783.82, \"Personal_Limpieza\": 1, \"Residuos_Solidos\": 2000.0, \"Personal_Vigilancia\": 0, \"rate_GastosByIngresos\": 0.7873198660046618, \"rate_ResiduosByPersonal\": 2000.0}, {\"Distrito\": \"SANAGORAN\", \"Ingresos_Total\": 30570277.51, \"Gastos_Total\": 24038070.5, \"Personal_Limpieza\": 1, \"Residuos_Solidos\": 3200.0, \"Personal_Vigilancia\": 0, \"rate_GastosByIngresos\": 0.7863216319229285, \"rate_ResiduosByPersonal\": 3200.0}, {\"Distrito\": \"SARIN\", \"Ingresos_Total\": 17558723.93, \"Gastos_Total\": 12443046.61, \"Personal_Limpieza\": 1, \"Residuos_Solidos\": 1000.0, \"Personal_Vigilancia\": 2, \"rate_GastosByIngresos\": 0.7086532403838529, \"rate_ResiduosByPersonal\": 1000.0}, {\"Distrito\": \"SANTIAGO DE CHUCO\", \"Ingresos_Total\": 61237838.01, \"Gastos_Total\": 52679737.02, \"Personal_Limpieza\": 8, \"Residuos_Solidos\": 8000.0, \"Personal_Vigilancia\": 1, \"rate_GastosByIngresos\": 0.8602481526437548, \"rate_ResiduosByPersonal\": 1000.0}, {\"Distrito\": \"ANGASMARCA\", \"Ingresos_Total\": 10335432.45, \"Gastos_Total\": 8240268.72, \"Personal_Limpieza\": 3, \"Residuos_Solidos\": 1248.0, \"Personal_Vigilancia\": 1, \"rate_GastosByIngresos\": 0.7972833995930185, \"rate_ResiduosByPersonal\": 416.0}, {\"Distrito\": \"CACHICADAN\", \"Ingresos_Total\": 18412339.26, \"Gastos_Total\": 17350385.37, \"Personal_Limpieza\": 11, \"Residuos_Solidos\": 836.0, \"Personal_Vigilancia\": 0, \"rate_GastosByIngresos\": 0.9423237930279154, \"rate_ResiduosByPersonal\": 76.0}, {\"Distrito\": \"SANTA CRUZ DE CHUCA\", \"Ingresos_Total\": 3220809.94, \"Gastos_Total\": 2148914.05, \"Personal_Limpieza\": 1, \"Residuos_Solidos\": 2000.0, \"Personal_Vigilancia\": 2, \"rate_GastosByIngresos\": 0.6671967890163677, \"rate_ResiduosByPersonal\": 2000.0}, {\"Distrito\": \"CASCAS\", \"Ingresos_Total\": 51811965.7, \"Gastos_Total\": 36859446.99, \"Personal_Limpieza\": 10, \"Residuos_Solidos\": 8000.0, \"Personal_Vigilancia\": 0, \"rate_GastosByIngresos\": 0.7114080018392354, \"rate_ResiduosByPersonal\": 800.0}, {\"Distrito\": \"LUCMA\", \"Ingresos_Total\": 9503416.69, \"Gastos_Total\": 5996719.26, \"Personal_Limpieza\": 3, \"Residuos_Solidos\": 800.0, \"Personal_Vigilancia\": 0, \"rate_GastosByIngresos\": 0.6310066637728373, \"rate_ResiduosByPersonal\": 266.6666666666667}, {\"Distrito\": \"MARMOT\", \"Ingresos_Total\": 2014074.43, \"Gastos_Total\": 1298772.84, \"Personal_Limpieza\": 5, \"Residuos_Solidos\": 1500.0, \"Personal_Vigilancia\": 0, \"rate_GastosByIngresos\": 0.6448484825856213, \"rate_ResiduosByPersonal\": 300.0}, {\"Distrito\": \"SAYAPULLO\", \"Ingresos_Total\": 15990241.06, \"Gastos_Total\": 10410964.04, \"Personal_Limpieza\": 2, \"Residuos_Solidos\": 2000.0, \"Personal_Vigilancia\": 3, \"rate_GastosByIngresos\": 0.6510823696112558, \"rate_ResiduosByPersonal\": 1000.0}, {\"Distrito\": \"VIRU\", \"Ingresos_Total\": 121521073.26, \"Gastos_Total\": 99774760.47, \"Personal_Limpieza\": 41, \"Residuos_Solidos\": 13000.0, \"Personal_Vigilancia\": 19, \"rate_GastosByIngresos\": 0.8210490394248514, \"rate_ResiduosByPersonal\": 317.0731707317073}, {\"Distrito\": \"CHAO\", \"Ingresos_Total\": 61439500.44, \"Gastos_Total\": 57362700.29, \"Personal_Limpieza\": 41, \"Residuos_Solidos\": 25000.0, \"Personal_Vigilancia\": 7, \"rate_GastosByIngresos\": 0.9336452913711224, \"rate_ResiduosByPersonal\": 609.7560975609756}, {\"Distrito\": \"CHICLAYO\", \"Ingresos_Total\": 198701817.09, \"Gastos_Total\": 142440805.15, \"Personal_Limpieza\": 894, \"Residuos_Solidos\": 266568.0, \"Personal_Vigilancia\": 4, \"rate_GastosByIngresos\": 0.7168570838256747, \"rate_ResiduosByPersonal\": 298.1744966442953}, {\"Distrito\": \"CHONGOYAPE\", \"Ingresos_Total\": 15055228.77, \"Gastos_Total\": 15166616.41, \"Personal_Limpieza\": 18, \"Residuos_Solidos\": 7307.0, \"Personal_Vigilancia\": 14, \"rate_GastosByIngresos\": 1.0073986016221792, \"rate_ResiduosByPersonal\": 405.94444444444446}, {\"Distrito\": \"ETEN\", \"Ingresos_Total\": 9097475.84, \"Gastos_Total\": 8413984.46, \"Personal_Limpieza\": 12, \"Residuos_Solidos\": 8431.0, \"Personal_Vigilancia\": 7, \"rate_GastosByIngresos\": 0.9248702176273107, \"rate_ResiduosByPersonal\": 702.5833333333334}, {\"Distrito\": \"ETEN PUERTO\", \"Ingresos_Total\": 2012881.38, \"Gastos_Total\": 2322433.87, \"Personal_Limpieza\": 10, \"Residuos_Solidos\": 1500.0, \"Personal_Vigilancia\": 0, \"rate_GastosByIngresos\": 1.1537857586024272, \"rate_ResiduosByPersonal\": 150.0}, {\"Distrito\": \"JOSE LEONARDO ORTIZ\", \"Ingresos_Total\": 56816042.79, \"Gastos_Total\": 41764685.42, \"Personal_Limpieza\": 168, \"Residuos_Solidos\": 182000.0, \"Personal_Vigilancia\": 0, \"rate_GastosByIngresos\": 0.7350861371033546, \"rate_ResiduosByPersonal\": 1083.3333333333333}, {\"Distrito\": \"LA VICTORIA\", \"Ingresos_Total\": 28058517.74, \"Gastos_Total\": 21271530.16, \"Personal_Limpieza\": 106, \"Residuos_Solidos\": 96000.0, \"Personal_Vigilancia\": 22, \"rate_GastosByIngresos\": 0.7581131105038909, \"rate_ResiduosByPersonal\": 905.6603773584906}, {\"Distrito\": \"LAGUNAS\", \"Ingresos_Total\": 10321860.54, \"Gastos_Total\": 9805949.14, \"Personal_Limpieza\": 14, \"Residuos_Solidos\": 1500.0, \"Personal_Vigilancia\": 0, \"rate_GastosByIngresos\": 0.9500175963431493, \"rate_ResiduosByPersonal\": 107.14285714285714}, {\"Distrito\": \"MONSEFU\", \"Ingresos_Total\": 15014914.72, \"Gastos_Total\": 14415062.15, \"Personal_Limpieza\": 23, \"Residuos_Solidos\": 25000.0, \"Personal_Vigilancia\": 3, \"rate_GastosByIngresos\": 0.9600495519830697, \"rate_ResiduosByPersonal\": 1086.9565217391305}, {\"Distrito\": \"NUEVA ARICA\", \"Ingresos_Total\": 7095009.7, \"Gastos_Total\": 5917796.09, \"Personal_Limpieza\": 5, \"Residuos_Solidos\": 5000.0, \"Personal_Vigilancia\": 0, \"rate_GastosByIngresos\": 0.8340786468551269, \"rate_ResiduosByPersonal\": 1000.0}, {\"Distrito\": \"OYOTUN\", \"Ingresos_Total\": 9168089.91, \"Gastos_Total\": 8711320.5, \"Personal_Limpieza\": 10, \"Residuos_Solidos\": 7200.0, \"Personal_Vigilancia\": 1, \"rate_GastosByIngresos\": 0.9501783452732304, \"rate_ResiduosByPersonal\": 720.0}, {\"Distrito\": \"PICSI\", \"Ingresos_Total\": 2943969.81, \"Gastos_Total\": 3090746.84, \"Personal_Limpieza\": 4, \"Residuos_Solidos\": 7200.0, \"Personal_Vigilancia\": 0, \"rate_GastosByIngresos\": 1.0498568393946948, \"rate_ResiduosByPersonal\": 1800.0}, {\"Distrito\": \"PIMENTEL\", \"Ingresos_Total\": 32046225.47, \"Gastos_Total\": 26102890.57, \"Personal_Limpieza\": 64, \"Residuos_Solidos\": 51490.0, \"Personal_Vigilancia\": 29, \"rate_GastosByIngresos\": 0.8145386917543896, \"rate_ResiduosByPersonal\": 804.53125}, {\"Distrito\": \"REQUE\", \"Ingresos_Total\": 7411333.99, \"Gastos_Total\": 6285631.07, \"Personal_Limpieza\": 35, \"Residuos_Solidos\": 12880.0, \"Personal_Vigilancia\": 0, \"rate_GastosByIngresos\": 0.8481106206360564, \"rate_ResiduosByPersonal\": 368.0}, {\"Distrito\": \"SANTA ROSA\", \"Ingresos_Total\": 8755529.19, \"Gastos_Total\": 9143615.87, \"Personal_Limpieza\": 20, \"Residuos_Solidos\": 6964.0, \"Personal_Vigilancia\": 0, \"rate_GastosByIngresos\": 1.0443247542870677, \"rate_ResiduosByPersonal\": 348.2}, {\"Distrito\": \"SA\\u00d1A\", \"Ingresos_Total\": 8794201.84, \"Gastos_Total\": 8518086.37, \"Personal_Limpieza\": 6, \"Residuos_Solidos\": 20160.0, \"Personal_Vigilancia\": 1, \"rate_GastosByIngresos\": 0.968602554839701, \"rate_ResiduosByPersonal\": 3360.0}, {\"Distrito\": \"CAYALTI\", \"Ingresos_Total\": 16944669.12, \"Gastos_Total\": 15719206.59, \"Personal_Limpieza\": 12, \"Residuos_Solidos\": 17000.0, \"Personal_Vigilancia\": 0, \"rate_GastosByIngresos\": 0.9276785801291586, \"rate_ResiduosByPersonal\": 1416.6666666666667}, {\"Distrito\": \"PATAPO\", \"Ingresos_Total\": 12852617.07, \"Gastos_Total\": 11788416.12, \"Personal_Limpieza\": 32, \"Residuos_Solidos\": 12500.0, \"Personal_Vigilancia\": 6, \"rate_GastosByIngresos\": 0.9171996688142207, \"rate_ResiduosByPersonal\": 390.625}, {\"Distrito\": \"POMALCA\", \"Ingresos_Total\": 12294959.49, \"Gastos_Total\": 15069828.95, \"Personal_Limpieza\": 37, \"Residuos_Solidos\": 12500.0, \"Personal_Vigilancia\": 10, \"rate_GastosByIngresos\": 1.2256916309693346, \"rate_ResiduosByPersonal\": 337.8378378378378}, {\"Distrito\": \"PUCALA\", \"Ingresos_Total\": 3353354.13, \"Gastos_Total\": 2786334.91, \"Personal_Limpieza\": 13, \"Residuos_Solidos\": 6000.0, \"Personal_Vigilancia\": 6, \"rate_GastosByIngresos\": 0.8309098299737285, \"rate_ResiduosByPersonal\": 461.53846153846155}, {\"Distrito\": \"TUMAN\", \"Ingresos_Total\": 14363338.01, \"Gastos_Total\": 12260463.67, \"Personal_Limpieza\": 5, \"Residuos_Solidos\": 16500.0, \"Personal_Vigilancia\": 17, \"rate_GastosByIngresos\": 0.8535943150167501, \"rate_ResiduosByPersonal\": 3300.0}, {\"Distrito\": \"FERRE\\u00d1AFE\", \"Ingresos_Total\": 40328938.95, \"Gastos_Total\": 40348235.92, \"Personal_Limpieza\": 38, \"Residuos_Solidos\": 29500.0, \"Personal_Vigilancia\": 0, \"rate_GastosByIngresos\": 1.0004784894049388, \"rate_ResiduosByPersonal\": 776.3157894736842}, {\"Distrito\": \"MANUEL ANTONIO MESONES MURO\", \"Ingresos_Total\": 5914302.99, \"Gastos_Total\": 5321630.79, \"Personal_Limpieza\": 17, \"Residuos_Solidos\": 4720.0, \"Personal_Vigilancia\": 0, \"rate_GastosByIngresos\": 0.8997900173524928, \"rate_ResiduosByPersonal\": 277.6470588235294}, {\"Distrito\": \"PITIPO\", \"Ingresos_Total\": 17299146.51, \"Gastos_Total\": 17489639.62, \"Personal_Limpieza\": 56, \"Residuos_Solidos\": 32300.0, \"Personal_Vigilancia\": 5, \"rate_GastosByIngresos\": 1.011011705686745, \"rate_ResiduosByPersonal\": 576.7857142857143}, {\"Distrito\": \"PUEBLO NUEVO\", \"Ingresos_Total\": 6553526.5, \"Gastos_Total\": 6674620.15, \"Personal_Limpieza\": 13, \"Residuos_Solidos\": 12000.0, \"Personal_Vigilancia\": 0, \"rate_GastosByIngresos\": 1.018477631852103, \"rate_ResiduosByPersonal\": 923.0769230769231}, {\"Distrito\": \"LAMBAYEQUE\", \"Ingresos_Total\": 110339979.77, \"Gastos_Total\": 86380724.57, \"Personal_Limpieza\": 84, \"Residuos_Solidos\": 50000.0, \"Personal_Vigilancia\": 61, \"rate_GastosByIngresos\": 0.7828597100530355, \"rate_ResiduosByPersonal\": 595.2380952380952}, {\"Distrito\": \"CHOCHOPE\", \"Ingresos_Total\": 2440083.82, \"Gastos_Total\": 1660239.58, \"Personal_Limpieza\": 1, \"Residuos_Solidos\": 250.0, \"Personal_Vigilancia\": 0, \"rate_GastosByIngresos\": 0.6804026838717369, \"rate_ResiduosByPersonal\": 250.0}, {\"Distrito\": \"ILLIMO\", \"Ingresos_Total\": 7751675.77, \"Gastos_Total\": 7008586.2, \"Personal_Limpieza\": 11, \"Residuos_Solidos\": 3319.0, \"Personal_Vigilancia\": 0, \"rate_GastosByIngresos\": 0.9041382028804851, \"rate_ResiduosByPersonal\": 301.72727272727275}, {\"Distrito\": \"JAYANCA\", \"Ingresos_Total\": 23820322.93, \"Gastos_Total\": 20282901.73, \"Personal_Limpieza\": 18, \"Residuos_Solidos\": 10000.0, \"Personal_Vigilancia\": 0, \"rate_GastosByIngresos\": 0.8514956656802973, \"rate_ResiduosByPersonal\": 555.5555555555555}, {\"Distrito\": \"MOCHUMI\", \"Ingresos_Total\": 21202037.61, \"Gastos_Total\": 16723088.25, \"Personal_Limpieza\": 18, \"Residuos_Solidos\": 9000.0, \"Personal_Vigilancia\": 4, \"rate_GastosByIngresos\": 0.788749107874071, \"rate_ResiduosByPersonal\": 500.0}, {\"Distrito\": \"MORROPE\", \"Ingresos_Total\": 50571862.2, \"Gastos_Total\": 46065345.83, \"Personal_Limpieza\": 74, \"Residuos_Solidos\": 5339.0, \"Personal_Vigilancia\": 6, \"rate_GastosByIngresos\": 0.9108888584688106, \"rate_ResiduosByPersonal\": 72.14864864864865}, {\"Distrito\": \"MOTUPE\", \"Ingresos_Total\": 30371725.53, \"Gastos_Total\": 21997673.84, \"Personal_Limpieza\": 77, \"Residuos_Solidos\": 18000.0, \"Personal_Vigilancia\": 9, \"rate_GastosByIngresos\": 0.7242813325924323, \"rate_ResiduosByPersonal\": 233.76623376623377}, {\"Distrito\": \"OLMOS\", \"Ingresos_Total\": 59860825.2, \"Gastos_Total\": 43017036.91, \"Personal_Limpieza\": 8, \"Residuos_Solidos\": 17000.0, \"Personal_Vigilancia\": 5, \"rate_GastosByIngresos\": 0.7186175059611439, \"rate_ResiduosByPersonal\": 2125.0}, {\"Distrito\": \"PACORA\", \"Ingresos_Total\": 11314023.25, \"Gastos_Total\": 8035525.73, \"Personal_Limpieza\": 9, \"Residuos_Solidos\": 13000.0, \"Personal_Vigilancia\": 0, \"rate_GastosByIngresos\": 0.7102270830139933, \"rate_ResiduosByPersonal\": 1444.4444444444443}, {\"Distrito\": \"SALAS\", \"Ingresos_Total\": 8386121.57, \"Gastos_Total\": 7495913.83, \"Personal_Limpieza\": 4, \"Residuos_Solidos\": 500.0, \"Personal_Vigilancia\": 0, \"rate_GastosByIngresos\": 0.8938475035725006, \"rate_ResiduosByPersonal\": 125.0}, {\"Distrito\": \"SAN JOSE\", \"Ingresos_Total\": 8497249.29, \"Gastos_Total\": 6767780.69, \"Personal_Limpieza\": 13, \"Residuos_Solidos\": 5460.0, \"Personal_Vigilancia\": 1, \"rate_GastosByIngresos\": 0.796467240047279, \"rate_ResiduosByPersonal\": 420.0}, {\"Distrito\": \"TUCUME\", \"Ingresos_Total\": 26210015.55, \"Gastos_Total\": 22559477.36, \"Personal_Limpieza\": 10, \"Residuos_Solidos\": 4000.0, \"Personal_Vigilancia\": 6, \"rate_GastosByIngresos\": 0.8607197243726931, \"rate_ResiduosByPersonal\": 400.0}, {\"Distrito\": \"ANCON\", \"Ingresos_Total\": 28611773.9, \"Gastos_Total\": 27836389.97, \"Personal_Limpieza\": 28, \"Residuos_Solidos\": 43801.0, \"Personal_Vigilancia\": 3, \"rate_GastosByIngresos\": 0.9728998302338745, \"rate_ResiduosByPersonal\": 1564.3214285714287}, {\"Distrito\": \"ATE\", \"Ingresos_Total\": 266539206.39, \"Gastos_Total\": 251835532.57, \"Personal_Limpieza\": 1001, \"Residuos_Solidos\": 706385.0, \"Personal_Vigilancia\": 626, \"rate_GastosByIngresos\": 0.9448348555578514, \"rate_ResiduosByPersonal\": 705.6793206793207}, {\"Distrito\": \"BARRANCO\", \"Ingresos_Total\": 39722637.07, \"Gastos_Total\": 35030240.41, \"Personal_Limpieza\": 53, \"Residuos_Solidos\": 45920.0, \"Personal_Vigilancia\": 1, \"rate_GastosByIngresos\": 0.881870968140132, \"rate_ResiduosByPersonal\": 866.4150943396227}, {\"Distrito\": \"BRE\\u00d1A\", \"Ingresos_Total\": 41395881.82, \"Gastos_Total\": 30094419.66, \"Personal_Limpieza\": 79, \"Residuos_Solidos\": 99510.0, \"Personal_Vigilancia\": 0, \"rate_GastosByIngresos\": 0.7269906651791673, \"rate_ResiduosByPersonal\": 1259.620253164557}, {\"Distrito\": \"CARABAYLLO\", \"Ingresos_Total\": 106580406.13, \"Gastos_Total\": 113237473.99, \"Personal_Limpieza\": 217, \"Residuos_Solidos\": 464142.0, \"Personal_Vigilancia\": 21, \"rate_GastosByIngresos\": 1.0624605225455805, \"rate_ResiduosByPersonal\": 2138.9032258064517}, {\"Distrito\": \"CHACLACAYO\", \"Ingresos_Total\": 21673340.07, \"Gastos_Total\": 20105412.65, \"Personal_Limpieza\": 54, \"Residuos_Solidos\": 37000.0, \"Personal_Vigilancia\": 8, \"rate_GastosByIngresos\": 0.9276564011390976, \"rate_ResiduosByPersonal\": 685.1851851851852}, {\"Distrito\": \"CHORRILLOS\", \"Ingresos_Total\": 171517231.38, \"Gastos_Total\": 117480820.63, \"Personal_Limpieza\": 317, \"Residuos_Solidos\": 378000.0, \"Personal_Vigilancia\": 52, \"rate_GastosByIngresos\": 0.6849505421978203, \"rate_ResiduosByPersonal\": 1192.429022082019}, {\"Distrito\": \"CIENEGUILLA\", \"Ingresos_Total\": 44456360.59, \"Gastos_Total\": 30971909.75, \"Personal_Limpieza\": 29, \"Residuos_Solidos\": 22400.0, \"Personal_Vigilancia\": 0, \"rate_GastosByIngresos\": 0.6966811799022254, \"rate_ResiduosByPersonal\": 772.4137931034483}, {\"Distrito\": \"COMAS\", \"Ingresos_Total\": 115994957.84, \"Gastos_Total\": 124059220.97, \"Personal_Limpieza\": 151, \"Residuos_Solidos\": 710040.0, \"Personal_Vigilancia\": 17, \"rate_GastosByIngresos\": 1.0695225316700714, \"rate_ResiduosByPersonal\": 4702.251655629139}, {\"Distrito\": \"EL AGUSTINO\", \"Ingresos_Total\": 53502655.24, \"Gastos_Total\": 55735911.08, \"Personal_Limpieza\": 46, \"Residuos_Solidos\": 260000.0, \"Personal_Vigilancia\": 9, \"rate_GastosByIngresos\": 1.0417410281785484, \"rate_ResiduosByPersonal\": 5652.173913043478}, {\"Distrito\": \"INDEPENDENCIA\", \"Ingresos_Total\": 62581761.12, \"Gastos_Total\": 56443467.79, \"Personal_Limpieza\": 100, \"Residuos_Solidos\": 251440.0, \"Personal_Vigilancia\": 1, \"rate_GastosByIngresos\": 0.9019156185421201, \"rate_ResiduosByPersonal\": 2514.4}, {\"Distrito\": \"JESUS MARIA\", \"Ingresos_Total\": 82514774.92, \"Gastos_Total\": 81069335.85, \"Personal_Limpieza\": 10, \"Residuos_Solidos\": 86000.0, \"Personal_Vigilancia\": 0, \"rate_GastosByIngresos\": 0.982482663602956, \"rate_ResiduosByPersonal\": 8600.0}, {\"Distrito\": \"LA MOLINA\", \"Ingresos_Total\": 149898797.58, \"Gastos_Total\": 145155226.27, \"Personal_Limpieza\": 7, \"Residuos_Solidos\": 158000.0, \"Personal_Vigilancia\": 0, \"rate_GastosByIngresos\": 0.968354840822066, \"rate_ResiduosByPersonal\": 22571.428571428572}, {\"Distrito\": \"LA VICTORIA\", \"Ingresos_Total\": 121617542.89, \"Gastos_Total\": 117548514.34, \"Personal_Limpieza\": 90, \"Residuos_Solidos\": 393944.0, \"Personal_Vigilancia\": 16, \"rate_GastosByIngresos\": 0.9665424209920083, \"rate_ResiduosByPersonal\": 4377.155555555555}, {\"Distrito\": \"LINCE\", \"Ingresos_Total\": 63524370.48, \"Gastos_Total\": 51427318.24, \"Personal_Limpieza\": 1, \"Residuos_Solidos\": 66789.0, \"Personal_Vigilancia\": 0, \"rate_GastosByIngresos\": 0.8095683255325037, \"rate_ResiduosByPersonal\": 66789.0}, {\"Distrito\": \"LOS OLIVOS\", \"Ingresos_Total\": 79817038.31, \"Gastos_Total\": 80457250.61, \"Personal_Limpieza\": 199, \"Residuos_Solidos\": 383450.0, \"Personal_Vigilancia\": 41, \"rate_GastosByIngresos\": 1.0080209979417363, \"rate_ResiduosByPersonal\": 1926.8844221105528}, {\"Distrito\": \"LURIGANCHO\", \"Ingresos_Total\": 143887819.53, \"Gastos_Total\": 113573951.36, \"Personal_Limpieza\": 212, \"Residuos_Solidos\": 160964.0, \"Personal_Vigilancia\": 3, \"rate_GastosByIngresos\": 0.7893229025985783, \"rate_ResiduosByPersonal\": 759.2641509433962}, {\"Distrito\": \"LURIN\", \"Ingresos_Total\": 84988848.37, \"Gastos_Total\": 80227824.5, \"Personal_Limpieza\": 115, \"Residuos_Solidos\": 160351.0, \"Personal_Vigilancia\": 7, \"rate_GastosByIngresos\": 0.9439806049698094, \"rate_ResiduosByPersonal\": 1394.3565217391304}, {\"Distrito\": \"MAGDALENA DEL MAR\", \"Ingresos_Total\": 68986412.73, \"Gastos_Total\": 57221489.18, \"Personal_Limpieza\": 94, \"Residuos_Solidos\": 68861.0, \"Personal_Vigilancia\": 0, \"rate_GastosByIngresos\": 0.8294602794314624, \"rate_ResiduosByPersonal\": 732.563829787234}, {\"Distrito\": \"PUEBLO LIBRE\", \"Ingresos_Total\": 52471242.44, \"Gastos_Total\": 49929286.33, \"Personal_Limpieza\": 124, \"Residuos_Solidos\": 86160.0, \"Personal_Vigilancia\": 0, \"rate_GastosByIngresos\": 0.9515552521382225, \"rate_ResiduosByPersonal\": 694.8387096774194}, {\"Distrito\": \"MIRAFLORES\", \"Ingresos_Total\": 243566204.11, \"Gastos_Total\": 215408917.29, \"Personal_Limpieza\": 72, \"Residuos_Solidos\": 179795.0, \"Personal_Vigilancia\": 0, \"rate_GastosByIngresos\": 0.8843957562877502, \"rate_ResiduosByPersonal\": 2497.152777777778}, {\"Distrito\": \"PACHACAMAC\", \"Ingresos_Total\": 72910388.16, \"Gastos_Total\": 73839242.01, \"Personal_Limpieza\": 84, \"Residuos_Solidos\": 134400.0, \"Personal_Vigilancia\": 39, \"rate_GastosByIngresos\": 1.012739664037471, \"rate_ResiduosByPersonal\": 1600.0}, {\"Distrito\": \"PUCUSANA\", \"Ingresos_Total\": 21855099.25, \"Gastos_Total\": 19641311.96, \"Personal_Limpieza\": 29, \"Residuos_Solidos\": 14654.0, \"Personal_Vigilancia\": 0, \"rate_GastosByIngresos\": 0.8987061433729248, \"rate_ResiduosByPersonal\": 505.3103448275862}, {\"Distrito\": \"PUENTE PIEDRA\", \"Ingresos_Total\": 144229985.24, \"Gastos_Total\": 119034112.35, \"Personal_Limpieza\": 360, \"Residuos_Solidos\": 371470.0, \"Personal_Vigilancia\": 4, \"rate_GastosByIngresos\": 0.8253076650595654, \"rate_ResiduosByPersonal\": 1031.861111111111}, {\"Distrito\": \"PUNTA HERMOSA\", \"Ingresos_Total\": 22245622.77, \"Gastos_Total\": 20391533.89, \"Personal_Limpieza\": 9, \"Residuos_Solidos\": 12475.0, \"Personal_Vigilancia\": 0, \"rate_GastosByIngresos\": 0.9166537660388459, \"rate_ResiduosByPersonal\": 1386.111111111111}, {\"Distrito\": \"PUNTA NEGRA\", \"Ingresos_Total\": 13923232.71, \"Gastos_Total\": 9967527.82, \"Personal_Limpieza\": 29, \"Residuos_Solidos\": 6000.0, \"Personal_Vigilancia\": 0, \"rate_GastosByIngresos\": 0.7158917779806324, \"rate_ResiduosByPersonal\": 206.89655172413794}, {\"Distrito\": \"RIMAC\", \"Ingresos_Total\": 41414840.75, \"Gastos_Total\": 39338440.2, \"Personal_Limpieza\": 63, \"Residuos_Solidos\": 229880.0, \"Personal_Vigilancia\": 0, \"rate_GastosByIngresos\": 0.9498633699321903, \"rate_ResiduosByPersonal\": 3648.8888888888887}, {\"Distrito\": \"SAN BARTOLO\", \"Ingresos_Total\": 12432416.5, \"Gastos_Total\": 10680541.59, \"Personal_Limpieza\": 20, \"Residuos_Solidos\": 8513.0, \"Personal_Vigilancia\": 0, \"rate_GastosByIngresos\": 0.8590881418749122, \"rate_ResiduosByPersonal\": 425.65}, {\"Distrito\": \"SAN BORJA\", \"Ingresos_Total\": 147380755.95, \"Gastos_Total\": 122294790.12, \"Personal_Limpieza\": 53, \"Residuos_Solidos\": 111746.0, \"Personal_Vigilancia\": 0, \"rate_GastosByIngresos\": 0.8297880502220345, \"rate_ResiduosByPersonal\": 2108.4150943396226}, {\"Distrito\": \"SAN ISIDRO\", \"Ingresos_Total\": 302181639.32, \"Gastos_Total\": 251215297.41, \"Personal_Limpieza\": 49, \"Residuos_Solidos\": 115354.0, \"Personal_Vigilancia\": 4, \"rate_GastosByIngresos\": 0.831338720563269, \"rate_ResiduosByPersonal\": 2354.1632653061224}, {\"Distrito\": \"SAN JUAN DE LURIGANCHO\", \"Ingresos_Total\": 231071549.08, \"Gastos_Total\": 187834260.39, \"Personal_Limpieza\": 280, \"Residuos_Solidos\": 1113310.0, \"Personal_Vigilancia\": 0, \"rate_GastosByIngresos\": 0.8128835468401577, \"rate_ResiduosByPersonal\": 3976.1071428571427}, {\"Distrito\": \"SAN JUAN DE MIRAFLORES\", \"Ingresos_Total\": 86073711.93, \"Gastos_Total\": 78321695.88, \"Personal_Limpieza\": 52, \"Residuos_Solidos\": 520260.0, \"Personal_Vigilancia\": 9, \"rate_GastosByIngresos\": 0.9099374724735424, \"rate_ResiduosByPersonal\": 10005.0}, {\"Distrito\": \"SAN LUIS\", \"Ingresos_Total\": 31383673.16, \"Gastos_Total\": 28717617.24, \"Personal_Limpieza\": 35, \"Residuos_Solidos\": 80980.0, \"Personal_Vigilancia\": 14, \"rate_GastosByIngresos\": 0.9150495894343553, \"rate_ResiduosByPersonal\": 2313.714285714286}, {\"Distrito\": \"SAN MARTIN DE PORRES\", \"Ingresos_Total\": 140382865.34, \"Gastos_Total\": 145227540.57, \"Personal_Limpieza\": 200, \"Residuos_Solidos\": 819848.0, \"Personal_Vigilancia\": 23, \"rate_GastosByIngresos\": 1.0345104455466587, \"rate_ResiduosByPersonal\": 4099.24}, {\"Distrito\": \"SAN MIGUEL\", \"Ingresos_Total\": 90903769.17, \"Gastos_Total\": 84022682.45, \"Personal_Limpieza\": 301, \"Residuos_Solidos\": 153303.0, \"Personal_Vigilancia\": 35, \"rate_GastosByIngresos\": 0.9243036148794709, \"rate_ResiduosByPersonal\": 509.312292358804}, {\"Distrito\": \"SANTA ANITA\", \"Ingresos_Total\": 74819295.14, \"Gastos_Total\": 63854562.21, \"Personal_Limpieza\": 128, \"Residuos_Solidos\": 263000.0, \"Personal_Vigilancia\": 0, \"rate_GastosByIngresos\": 0.8534504647566772, \"rate_ResiduosByPersonal\": 2054.6875}, {\"Distrito\": \"SANTA MARIA DEL MAR\", \"Ingresos_Total\": 9503748.98, \"Gastos_Total\": 9071760.63, \"Personal_Limpieza\": 22, \"Residuos_Solidos\": 2680.0, \"Personal_Vigilancia\": 1, \"rate_GastosByIngresos\": 0.9545454797986468, \"rate_ResiduosByPersonal\": 121.81818181818181}, {\"Distrito\": \"SANTA ROSA\", \"Ingresos_Total\": 13072294.56, \"Gastos_Total\": 12806258.48, \"Personal_Limpieza\": 12, \"Residuos_Solidos\": 19000.0, \"Personal_Vigilancia\": 0, \"rate_GastosByIngresos\": 0.9796488612784136, \"rate_ResiduosByPersonal\": 1583.3333333333333}, {\"Distrito\": \"SANTIAGO DE SURCO\", \"Ingresos_Total\": 350765931.95, \"Gastos_Total\": 254530818.44, \"Personal_Limpieza\": 367, \"Residuos_Solidos\": 467181.0, \"Personal_Vigilancia\": 52, \"rate_GastosByIngresos\": 0.7256429295313723, \"rate_ResiduosByPersonal\": 1272.9727520435968}, {\"Distrito\": \"SURQUILLO\", \"Ingresos_Total\": 56913268.81, \"Gastos_Total\": 53760359.03, \"Personal_Limpieza\": 110, \"Residuos_Solidos\": 120005.0, \"Personal_Vigilancia\": 0, \"rate_GastosByIngresos\": 0.9446014989839062, \"rate_ResiduosByPersonal\": 1090.9545454545455}, {\"Distrito\": \"VILLA EL SALVADOR\", \"Ingresos_Total\": 156726971.22, \"Gastos_Total\": 135489802.4, \"Personal_Limpieza\": 157, \"Residuos_Solidos\": 368628.0, \"Personal_Vigilancia\": 17, \"rate_GastosByIngresos\": 0.8644957619311799, \"rate_ResiduosByPersonal\": 2347.9490445859874}, {\"Distrito\": \"VILLA MARIA DEL TRIUNFO\", \"Ingresos_Total\": 127354702.96, \"Gastos_Total\": 102296624.96, \"Personal_Limpieza\": 139, \"Residuos_Solidos\": 361260.0, \"Personal_Vigilancia\": 0, \"rate_GastosByIngresos\": 0.8032418323187458, \"rate_ResiduosByPersonal\": 2598.9928057553957}, {\"Distrito\": \"BARRANCA\", \"Ingresos_Total\": 48908590.8, \"Gastos_Total\": 43886995.92, \"Personal_Limpieza\": 152, \"Residuos_Solidos\": 91000.0, \"Personal_Vigilancia\": 6, \"rate_GastosByIngresos\": 0.8973269358642001, \"rate_ResiduosByPersonal\": 598.6842105263158}, {\"Distrito\": \"PARAMONGA\", \"Ingresos_Total\": 17350990.4, \"Gastos_Total\": 16434991.73, \"Personal_Limpieza\": 19, \"Residuos_Solidos\": 28000.0, \"Personal_Vigilancia\": 2, \"rate_GastosByIngresos\": 0.9472077011811384, \"rate_ResiduosByPersonal\": 1473.6842105263158}, {\"Distrito\": \"PATIVILCA\", \"Ingresos_Total\": 13295526.58, \"Gastos_Total\": 9540314.05, \"Personal_Limpieza\": 15, \"Residuos_Solidos\": 13000.0, \"Personal_Vigilancia\": 0, \"rate_GastosByIngresos\": 0.7175581946751296, \"rate_ResiduosByPersonal\": 866.6666666666666}, {\"Distrito\": \"SUPE\", \"Ingresos_Total\": 15720139.97, \"Gastos_Total\": 11674415.07, \"Personal_Limpieza\": 43, \"Residuos_Solidos\": 20000.0, \"Personal_Vigilancia\": 8, \"rate_GastosByIngresos\": 0.7426406566531354, \"rate_ResiduosByPersonal\": 465.1162790697674}, {\"Distrito\": \"SUPE PUERTO\", \"Ingresos_Total\": 6915782.95, \"Gastos_Total\": 6259907.66, \"Personal_Limpieza\": 13, \"Residuos_Solidos\": 10200.0, \"Personal_Vigilancia\": 1, \"rate_GastosByIngresos\": 0.9051625398393973, \"rate_ResiduosByPersonal\": 784.6153846153846}, {\"Distrito\": \"CAJATAMBO\", \"Ingresos_Total\": 15373810.22, \"Gastos_Total\": 13077014.64, \"Personal_Limpieza\": 1, \"Residuos_Solidos\": 2500.0, \"Personal_Vigilancia\": 0, \"rate_GastosByIngresos\": 0.8506033607067643, \"rate_ResiduosByPersonal\": 2500.0}, {\"Distrito\": \"HUANCAPON\", \"Ingresos_Total\": 5591777.37, \"Gastos_Total\": 5466290.8, \"Personal_Limpieza\": 1, \"Residuos_Solidos\": 100.0, \"Personal_Vigilancia\": 0, \"rate_GastosByIngresos\": 0.9775587328148581, \"rate_ResiduosByPersonal\": 100.0}, {\"Distrito\": \"MANAS\", \"Ingresos_Total\": 1797059.11, \"Gastos_Total\": 1179453.59, \"Personal_Limpieza\": 1, \"Residuos_Solidos\": 300.0, \"Personal_Vigilancia\": 0, \"rate_GastosByIngresos\": 0.6563243153420814, \"rate_ResiduosByPersonal\": 300.0}, {\"Distrito\": \"HUAMANTANGA\", \"Ingresos_Total\": 1491034.06, \"Gastos_Total\": 1248055.73, \"Personal_Limpieza\": 2, \"Residuos_Solidos\": 50.0, \"Personal_Vigilancia\": 0, \"rate_GastosByIngresos\": 0.8370403892718588, \"rate_ResiduosByPersonal\": 25.0}, {\"Distrito\": \"SANTA ROSA DE QUIVES\", \"Ingresos_Total\": 5982837.36, \"Gastos_Total\": 3820778.16, \"Personal_Limpieza\": 5, \"Residuos_Solidos\": 4500.0, \"Personal_Vigilancia\": 2, \"rate_GastosByIngresos\": 0.6386231030689425, \"rate_ResiduosByPersonal\": 900.0}, {\"Distrito\": \"SAN VICENTE DE CA\\u00d1ETE\", \"Ingresos_Total\": 80970348.03, \"Gastos_Total\": 59646186.03, \"Personal_Limpieza\": 164, \"Residuos_Solidos\": 45000.0, \"Personal_Vigilancia\": 0, \"rate_GastosByIngresos\": 0.7366423324239724, \"rate_ResiduosByPersonal\": 274.390243902439}, {\"Distrito\": \"ASIA\", \"Ingresos_Total\": 37060819.63, \"Gastos_Total\": 26325723.31, \"Personal_Limpieza\": 18, \"Residuos_Solidos\": 7000.0, \"Personal_Vigilancia\": 67, \"rate_GastosByIngresos\": 0.7103383997662546, \"rate_ResiduosByPersonal\": 388.8888888888889}, {\"Distrito\": \"CALANGO\", \"Ingresos_Total\": 4952159.7, \"Gastos_Total\": 4246881.08, \"Personal_Limpieza\": 5, \"Residuos_Solidos\": 2000.0, \"Personal_Vigilancia\": 0, \"rate_GastosByIngresos\": 0.8575816082829477, \"rate_ResiduosByPersonal\": 400.0}, {\"Distrito\": \"CERRO AZUL\", \"Ingresos_Total\": 15059263.02, \"Gastos_Total\": 13095892.02, \"Personal_Limpieza\": 35, \"Residuos_Solidos\": 3990.0, \"Personal_Vigilancia\": 11, \"rate_GastosByIngresos\": 0.8696236995533929, \"rate_ResiduosByPersonal\": 114.0}, {\"Distrito\": \"CHILCA\", \"Ingresos_Total\": 40438851.19, \"Gastos_Total\": 24020316.91, \"Personal_Limpieza\": 5, \"Residuos_Solidos\": 30000.0, \"Personal_Vigilancia\": 0, \"rate_GastosByIngresos\": 0.5939910804375153, \"rate_ResiduosByPersonal\": 6000.0}, {\"Distrito\": \"IMPERIAL\", \"Ingresos_Total\": 23364462.03, \"Gastos_Total\": 19095724.08, \"Personal_Limpieza\": 91, \"Residuos_Solidos\": 40000.0, \"Personal_Vigilancia\": 45, \"rate_GastosByIngresos\": 0.8172978284490806, \"rate_ResiduosByPersonal\": 439.56043956043953}, {\"Distrito\": \"LUNAHUANA\", \"Ingresos_Total\": 7824129.84, \"Gastos_Total\": 4931640.19, \"Personal_Limpieza\": 10, \"Residuos_Solidos\": 4050.0, \"Personal_Vigilancia\": 0, \"rate_GastosByIngresos\": 0.6303116500939867, \"rate_ResiduosByPersonal\": 405.0}, {\"Distrito\": \"MALA\", \"Ingresos_Total\": 48570050.01, \"Gastos_Total\": 27551012.53, \"Personal_Limpieza\": 69, \"Residuos_Solidos\": 41564.0, \"Personal_Vigilancia\": 26, \"rate_GastosByIngresos\": 0.5672428281281896, \"rate_ResiduosByPersonal\": 602.3768115942029}, {\"Distrito\": \"NUEVO IMPERIAL\", \"Ingresos_Total\": 18375992.89, \"Gastos_Total\": 15948684.91, \"Personal_Limpieza\": 27, \"Residuos_Solidos\": 9000.0, \"Personal_Vigilancia\": 0, \"rate_GastosByIngresos\": 0.8679087440591625, \"rate_ResiduosByPersonal\": 333.3333333333333}, {\"Distrito\": \"QUILMANA\", \"Ingresos_Total\": 14165849.97, \"Gastos_Total\": 11506576.73, \"Personal_Limpieza\": 29, \"Residuos_Solidos\": 20600.0, \"Personal_Vigilancia\": 3, \"rate_GastosByIngresos\": 0.8122757726764206, \"rate_ResiduosByPersonal\": 710.3448275862069}, {\"Distrito\": \"SAN ANTONIO\", \"Ingresos_Total\": 16915646.57, \"Gastos_Total\": 8486219.72, \"Personal_Limpieza\": 20, \"Residuos_Solidos\": 4900.0, \"Personal_Vigilancia\": 0, \"rate_GastosByIngresos\": 0.5016787082233298, \"rate_ResiduosByPersonal\": 245.0}, {\"Distrito\": \"SAN LUIS\", \"Ingresos_Total\": 13942162.46, \"Gastos_Total\": 9540698.52, \"Personal_Limpieza\": 5, \"Residuos_Solidos\": 6000.0, \"Personal_Vigilancia\": 0, \"rate_GastosByIngresos\": 0.6843055047860918, \"rate_ResiduosByPersonal\": 1200.0}, {\"Distrito\": \"SANTA CRUZ DE FLORES\", \"Ingresos_Total\": 13696402.6, \"Gastos_Total\": 12954430.17, \"Personal_Limpieza\": 6, \"Residuos_Solidos\": 2500.0, \"Personal_Vigilancia\": 0, \"rate_GastosByIngresos\": 0.9458272035607365, \"rate_ResiduosByPersonal\": 416.6666666666667}, {\"Distrito\": \"ZU\\u00d1IGA\", \"Ingresos_Total\": 6550928.56, \"Gastos_Total\": 3408216.52, \"Personal_Limpieza\": 1, \"Residuos_Solidos\": 2500.0, \"Personal_Vigilancia\": 0, \"rate_GastosByIngresos\": 0.5202646447422105, \"rate_ResiduosByPersonal\": 2500.0}, {\"Distrito\": \"HUARAL\", \"Ingresos_Total\": 141555011.98, \"Gastos_Total\": 51345403.73, \"Personal_Limpieza\": 192, \"Residuos_Solidos\": 92586.0, \"Personal_Vigilancia\": 0, \"rate_GastosByIngresos\": 0.36272402518149255, \"rate_ResiduosByPersonal\": 482.21875}, {\"Distrito\": \"AUCALLAMA\", \"Ingresos_Total\": 14086884.27, \"Gastos_Total\": 12952977.92, \"Personal_Limpieza\": 13, \"Residuos_Solidos\": 18000.0, \"Personal_Vigilancia\": 3, \"rate_GastosByIngresos\": 0.9195062351427978, \"rate_ResiduosByPersonal\": 1384.6153846153845}, {\"Distrito\": \"CHANCAY\", \"Ingresos_Total\": 51446495.56, \"Gastos_Total\": 39056049.38, \"Personal_Limpieza\": 95, \"Residuos_Solidos\": 45000.0, \"Personal_Vigilancia\": 25, \"rate_GastosByIngresos\": 0.7591585968076384, \"rate_ResiduosByPersonal\": 473.6842105263158}, {\"Distrito\": \"MATUCANA\", \"Ingresos_Total\": 62012114.54, \"Gastos_Total\": 62611185.92, \"Personal_Limpieza\": 18, \"Residuos_Solidos\": 4500.0, \"Personal_Vigilancia\": 0, \"rate_GastosByIngresos\": 1.0096605539811674, \"rate_ResiduosByPersonal\": 250.0}, {\"Distrito\": \"RICARDO PALMA\", \"Ingresos_Total\": 4470925.58, \"Gastos_Total\": 4239319.47, \"Personal_Limpieza\": 1, \"Residuos_Solidos\": 5700.0, \"Personal_Vigilancia\": 0, \"rate_GastosByIngresos\": 0.9481972790967368, \"rate_ResiduosByPersonal\": 5700.0}, {\"Distrito\": \"SAN ANTONIO\", \"Ingresos_Total\": 24777227.79, \"Gastos_Total\": 26318135.53, \"Personal_Limpieza\": 30, \"Residuos_Solidos\": 50000.0, \"Personal_Vigilancia\": 0, \"rate_GastosByIngresos\": 1.0621904820450456, \"rate_ResiduosByPersonal\": 1666.6666666666667}, {\"Distrito\": \"SAN PEDRO DE HUANCAYRE\", \"Ingresos_Total\": 1257068.78, \"Gastos_Total\": 1027041.3, \"Personal_Limpieza\": 2, \"Residuos_Solidos\": 200.0, \"Personal_Vigilancia\": 0, \"rate_GastosByIngresos\": 0.8170128129345476, \"rate_ResiduosByPersonal\": 100.0}, {\"Distrito\": \"SURCO\", \"Ingresos_Total\": 4423798.31, \"Gastos_Total\": 3411276.76, \"Personal_Limpieza\": 1, \"Residuos_Solidos\": 2500.0, \"Personal_Vigilancia\": 0, \"rate_GastosByIngresos\": 0.7711194138957027, \"rate_ResiduosByPersonal\": 2500.0}, {\"Distrito\": \"HUACHO\", \"Ingresos_Total\": 65196628.11, \"Gastos_Total\": 46069023.44, \"Personal_Limpieza\": 58, \"Residuos_Solidos\": 7200.0, \"Personal_Vigilancia\": 26, \"rate_GastosByIngresos\": 0.7066166575711886, \"rate_ResiduosByPersonal\": 124.13793103448276}, {\"Distrito\": \"AMBAR\", \"Ingresos_Total\": 4899441.97, \"Gastos_Total\": 4050583.0, \"Personal_Limpieza\": 2, \"Residuos_Solidos\": 60.0, \"Personal_Vigilancia\": 1, \"rate_GastosByIngresos\": 0.8267437444513707, \"rate_ResiduosByPersonal\": 30.0}, {\"Distrito\": \"CALETA DE CARQUIN\", \"Ingresos_Total\": 4249840.65, \"Gastos_Total\": 3618090.23, \"Personal_Limpieza\": 2, \"Residuos_Solidos\": 6000.0, \"Personal_Vigilancia\": 0, \"rate_GastosByIngresos\": 0.851347268749947, \"rate_ResiduosByPersonal\": 3000.0}, {\"Distrito\": \"HUALMAY\", \"Ingresos_Total\": 11802452.34, \"Gastos_Total\": 10017217.86, \"Personal_Limpieza\": 42, \"Residuos_Solidos\": 20000.0, \"Personal_Vigilancia\": 10, \"rate_GastosByIngresos\": 0.8487403779679232, \"rate_ResiduosByPersonal\": 476.1904761904762}, {\"Distrito\": \"HUAURA\", \"Ingresos_Total\": 18342055.47, \"Gastos_Total\": 19208983.78, \"Personal_Limpieza\": 10, \"Residuos_Solidos\": 4500.0, \"Personal_Vigilancia\": 11, \"rate_GastosByIngresos\": 1.0472645124979552, \"rate_ResiduosByPersonal\": 450.0}, {\"Distrito\": \"SANTA MARIA\", \"Ingresos_Total\": 18613994.98, \"Gastos_Total\": 14989320.71, \"Personal_Limpieza\": 22, \"Residuos_Solidos\": 28000.0, \"Personal_Vigilancia\": 0, \"rate_GastosByIngresos\": 0.8052715564877626, \"rate_ResiduosByPersonal\": 1272.7272727272727}, {\"Distrito\": \"SAYAN\", \"Ingresos_Total\": 16147195.61, \"Gastos_Total\": 12884296.37, \"Personal_Limpieza\": 17, \"Residuos_Solidos\": 17400.0, \"Personal_Vigilancia\": 2, \"rate_GastosByIngresos\": 0.7979278062390426, \"rate_ResiduosByPersonal\": 1023.5294117647059}, {\"Distrito\": \"VEGUETA\", \"Ingresos_Total\": 17957232.27, \"Gastos_Total\": 16239204.38, \"Personal_Limpieza\": 6, \"Residuos_Solidos\": 9000.0, \"Personal_Vigilancia\": 2, \"rate_GastosByIngresos\": 0.9043266877563199, \"rate_ResiduosByPersonal\": 1500.0}, {\"Distrito\": \"OYON\", \"Ingresos_Total\": 20915787.5, \"Gastos_Total\": 20849373.61, \"Personal_Limpieza\": 9, \"Residuos_Solidos\": 5000.0, \"Personal_Vigilancia\": 8, \"rate_GastosByIngresos\": 0.9968247004804385, \"rate_ResiduosByPersonal\": 555.5555555555555}, {\"Distrito\": \"ANDAJES\", \"Ingresos_Total\": 2285262.14, \"Gastos_Total\": 1390076.16, \"Personal_Limpieza\": 1, \"Residuos_Solidos\": 11.0, \"Personal_Vigilancia\": 0, \"rate_GastosByIngresos\": 0.6082786458799864, \"rate_ResiduosByPersonal\": 11.0}, {\"Distrito\": \"PACHANGARA\", \"Ingresos_Total\": 5360925.98, \"Gastos_Total\": 2834220.11, \"Personal_Limpieza\": 4, \"Residuos_Solidos\": 1670.0, \"Personal_Vigilancia\": 2, \"rate_GastosByIngresos\": 0.5286810749810054, \"rate_ResiduosByPersonal\": 417.5}, {\"Distrito\": \"YAUYOS\", \"Ingresos_Total\": 38710444.99, \"Gastos_Total\": 43904623.6, \"Personal_Limpieza\": 4, \"Residuos_Solidos\": 1540.0, \"Personal_Vigilancia\": 0, \"rate_GastosByIngresos\": 1.1341802867763933, \"rate_ResiduosByPersonal\": 385.0}, {\"Distrito\": \"CACRA\", \"Ingresos_Total\": 2362680.79, \"Gastos_Total\": 2230770.11, \"Personal_Limpieza\": 4, \"Residuos_Solidos\": 129.0, \"Personal_Vigilancia\": 0, \"rate_GastosByIngresos\": 0.9441690639893846, \"rate_ResiduosByPersonal\": 32.25}, {\"Distrito\": \"CARANIA\", \"Ingresos_Total\": 3356807.81, \"Gastos_Total\": 2748328.61, \"Personal_Limpieza\": 4, \"Residuos_Solidos\": 50.0, \"Personal_Vigilancia\": 0, \"rate_GastosByIngresos\": 0.8187327858963721, \"rate_ResiduosByPersonal\": 12.5}, {\"Distrito\": \"COCHAS\", \"Ingresos_Total\": 868305.53, \"Gastos_Total\": 852874.79, \"Personal_Limpieza\": 1, \"Residuos_Solidos\": 720.0, \"Personal_Vigilancia\": 0, \"rate_GastosByIngresos\": 0.9822289050721582, \"rate_ResiduosByPersonal\": 720.0}, {\"Distrito\": \"LINCHA\", \"Ingresos_Total\": 2932283.64, \"Gastos_Total\": 2149686.59, \"Personal_Limpieza\": 1, \"Residuos_Solidos\": 20.0, \"Personal_Vigilancia\": 0, \"rate_GastosByIngresos\": 0.7331100445658114, \"rate_ResiduosByPersonal\": 20.0}, {\"Distrito\": \"MIRAFLORES\", \"Ingresos_Total\": 3621481.55, \"Gastos_Total\": 2939004.81, \"Personal_Limpieza\": 2, \"Residuos_Solidos\": 83.0, \"Personal_Vigilancia\": 0, \"rate_GastosByIngresos\": 0.8115476413237561, \"rate_ResiduosByPersonal\": 41.5}, {\"Distrito\": \"PUTINZA\", \"Ingresos_Total\": 2434799.81, \"Gastos_Total\": 2362534.63, \"Personal_Limpieza\": 1, \"Residuos_Solidos\": 300.0, \"Personal_Vigilancia\": 0, \"rate_GastosByIngresos\": 0.970319867899119, \"rate_ResiduosByPersonal\": 300.0}, {\"Distrito\": \"IQUITOS\", \"Ingresos_Total\": 110028202.22, \"Gastos_Total\": 116465235.85, \"Personal_Limpieza\": 263, \"Residuos_Solidos\": 160000.0, \"Personal_Vigilancia\": 4, \"rate_GastosByIngresos\": 1.0585034881977735, \"rate_ResiduosByPersonal\": 608.3650190114068}, {\"Distrito\": \"FERNANDO LORES\", \"Ingresos_Total\": 12516817.19, \"Gastos_Total\": 11847872.41, \"Personal_Limpieza\": 6, \"Residuos_Solidos\": 3000.0, \"Personal_Vigilancia\": 5, \"rate_GastosByIngresos\": 0.9465563194024726, \"rate_ResiduosByPersonal\": 500.0}, {\"Distrito\": \"INDIANA\", \"Ingresos_Total\": 6687600.78, \"Gastos_Total\": 7010473.79, \"Personal_Limpieza\": 11, \"Residuos_Solidos\": 3000.0, \"Personal_Vigilancia\": 0, \"rate_GastosByIngresos\": 1.0482793486964095, \"rate_ResiduosByPersonal\": 272.72727272727275}, {\"Distrito\": \"MAZAN\", \"Ingresos_Total\": 8604908.69, \"Gastos_Total\": 8488868.38, \"Personal_Limpieza\": 5, \"Residuos_Solidos\": 3500.0, \"Personal_Vigilancia\": 0, \"rate_GastosByIngresos\": 0.9865146378444606, \"rate_ResiduosByPersonal\": 700.0}, {\"Distrito\": \"PUNCHANA\", \"Ingresos_Total\": 22198853.43, \"Gastos_Total\": 22540615.75, \"Personal_Limpieza\": 25, \"Residuos_Solidos\": 50000.0, \"Personal_Vigilancia\": 4, \"rate_GastosByIngresos\": 1.015395494234767, \"rate_ResiduosByPersonal\": 2000.0}, {\"Distrito\": \"BELEN\", \"Ingresos_Total\": 32849567.19, \"Gastos_Total\": 31626929.62, \"Personal_Limpieza\": 31, \"Residuos_Solidos\": 50000.0, \"Personal_Vigilancia\": 3, \"rate_GastosByIngresos\": 0.962780709927521, \"rate_ResiduosByPersonal\": 1612.9032258064517}, {\"Distrito\": \"SAN JUAN BAUTISTA\", \"Ingresos_Total\": 62334947.03, \"Gastos_Total\": 62204838.87, \"Personal_Limpieza\": 39, \"Residuos_Solidos\": 90000.0, \"Personal_Vigilancia\": 0, \"rate_GastosByIngresos\": 0.9979127573504252, \"rate_ResiduosByPersonal\": 2307.6923076923076}, {\"Distrito\": \"YURIMAGUAS\", \"Ingresos_Total\": 80913975.45, \"Gastos_Total\": 88934363.47, \"Personal_Limpieza\": 9, \"Residuos_Solidos\": 44930.0, \"Personal_Vigilancia\": 0, \"rate_GastosByIngresos\": 1.0991224071663135, \"rate_ResiduosByPersonal\": 4992.222222222223}, {\"Distrito\": \"NAUTA\", \"Ingresos_Total\": 64665902.34, \"Gastos_Total\": 63124207.53, \"Personal_Limpieza\": 9, \"Residuos_Solidos\": 15500.0, \"Personal_Vigilancia\": 2, \"rate_GastosByIngresos\": 0.9761590768208246, \"rate_ResiduosByPersonal\": 1722.2222222222222}, {\"Distrito\": \"TIGRE\", \"Ingresos_Total\": 17628164.13, \"Gastos_Total\": 17509376.14, \"Personal_Limpieza\": 1, \"Residuos_Solidos\": 1250.0, \"Personal_Vigilancia\": 0, \"rate_GastosByIngresos\": 0.9932614656226258, \"rate_ResiduosByPersonal\": 1250.0}, {\"Distrito\": \"RAMON CASTILLA\", \"Ingresos_Total\": 31183824.26, \"Gastos_Total\": 20788199.13, \"Personal_Limpieza\": 5, \"Residuos_Solidos\": 7500.0, \"Personal_Vigilancia\": 0, \"rate_GastosByIngresos\": 0.6666340522148645, \"rate_ResiduosByPersonal\": 1500.0}, {\"Distrito\": \"CAPELO\", \"Ingresos_Total\": 2716394.08, \"Gastos_Total\": 4399361.88, \"Personal_Limpieza\": 10, \"Residuos_Solidos\": 450.0, \"Personal_Vigilancia\": 0, \"rate_GastosByIngresos\": 1.6195595154588174, \"rate_ResiduosByPersonal\": 45.0}, {\"Distrito\": \"SAQUENA\", \"Ingresos_Total\": 4799554.51, \"Gastos_Total\": 4810808.24, \"Personal_Limpieza\": 3, \"Residuos_Solidos\": 100.0, \"Personal_Vigilancia\": 0, \"rate_GastosByIngresos\": 1.002344744700066, \"rate_ResiduosByPersonal\": 33.333333333333336}, {\"Distrito\": \"CONTAMANA\", \"Ingresos_Total\": 26264635.12, \"Gastos_Total\": 34676734.02, \"Personal_Limpieza\": 17, \"Residuos_Solidos\": 18000.0, \"Personal_Vigilancia\": 0, \"rate_GastosByIngresos\": 1.320282343979504, \"rate_ResiduosByPersonal\": 1058.8235294117646}, {\"Distrito\": \"PADRE MARQUEZ\", \"Ingresos_Total\": 3887974.53, \"Gastos_Total\": 3773624.24, \"Personal_Limpieza\": 1, \"Residuos_Solidos\": 700.0, \"Personal_Vigilancia\": 0, \"rate_GastosByIngresos\": 0.9705887245099829, \"rate_ResiduosByPersonal\": 700.0}, {\"Distrito\": \"PAMPA HERMOSA\", \"Ingresos_Total\": 6660246.2, \"Gastos_Total\": 6775582.11, \"Personal_Limpieza\": 1, \"Residuos_Solidos\": 400.0, \"Personal_Vigilancia\": 0, \"rate_GastosByIngresos\": 1.0173170640448697, \"rate_ResiduosByPersonal\": 400.0}, {\"Distrito\": \"BARRANCA\", \"Ingresos_Total\": 31918306.73, \"Gastos_Total\": 31280206.48, \"Personal_Limpieza\": 3, \"Residuos_Solidos\": 15000.0, \"Personal_Vigilancia\": 0, \"rate_GastosByIngresos\": 0.9800083301599376, \"rate_ResiduosByPersonal\": 5000.0}, {\"Distrito\": \"YAGUAS\", \"Ingresos_Total\": 1197338.56, \"Gastos_Total\": 1223587.23, \"Personal_Limpieza\": 1, \"Residuos_Solidos\": 300.0, \"Personal_Vigilancia\": 0, \"rate_GastosByIngresos\": 1.0219225128772267, \"rate_ResiduosByPersonal\": 300.0}, {\"Distrito\": \"INAMBARI\", \"Ingresos_Total\": 18038297.49, \"Gastos_Total\": 14987488.3, \"Personal_Limpieza\": 10, \"Residuos_Solidos\": 25000.0, \"Personal_Vigilancia\": 0, \"rate_GastosByIngresos\": 0.830870447075657, \"rate_ResiduosByPersonal\": 2500.0}, {\"Distrito\": \"LABERINTO\", \"Ingresos_Total\": 6986698.19, \"Gastos_Total\": 5675468.61, \"Personal_Limpieza\": 6, \"Residuos_Solidos\": 8000.0, \"Personal_Vigilancia\": 0, \"rate_GastosByIngresos\": 0.8123248572728171, \"rate_ResiduosByPersonal\": 1333.3333333333333}, {\"Distrito\": \"HUEPETUHE\", \"Ingresos_Total\": 10874343.34, \"Gastos_Total\": 5890458.32, \"Personal_Limpieza\": 2, \"Residuos_Solidos\": 2181.0, \"Personal_Vigilancia\": 0, \"rate_GastosByIngresos\": 0.5416840480227103, \"rate_ResiduosByPersonal\": 1090.5}, {\"Distrito\": \"I\\u00d1APARI\", \"Ingresos_Total\": 25547170.33, \"Gastos_Total\": 22474671.34, \"Personal_Limpieza\": 12, \"Residuos_Solidos\": 1400.0, \"Personal_Vigilancia\": 1, \"rate_GastosByIngresos\": 0.8797323167179901, \"rate_ResiduosByPersonal\": 116.66666666666667}, {\"Distrito\": \"MOQUEGUA\", \"Ingresos_Total\": 265751853.31, \"Gastos_Total\": 187820369.07, \"Personal_Limpieza\": 122, \"Residuos_Solidos\": 77000.0, \"Personal_Vigilancia\": 0, \"rate_GastosByIngresos\": 0.7067509284720104, \"rate_ResiduosByPersonal\": 631.1475409836065}, {\"Distrito\": \"CARUMAS\", \"Ingresos_Total\": 14141261.95, \"Gastos_Total\": 10632285.29, \"Personal_Limpieza\": 22, \"Residuos_Solidos\": 2580.0, \"Personal_Vigilancia\": 0, \"rate_GastosByIngresos\": 0.7518625514181921, \"rate_ResiduosByPersonal\": 117.27272727272727}, {\"Distrito\": \"CUCHUMBAYA\", \"Ingresos_Total\": 3931663.42, \"Gastos_Total\": 3287975.31, \"Personal_Limpieza\": 4, \"Residuos_Solidos\": 146.0, \"Personal_Vigilancia\": 3, \"rate_GastosByIngresos\": 0.8362809729017954, \"rate_ResiduosByPersonal\": 36.5}, {\"Distrito\": \"SAMEGUA\", \"Ingresos_Total\": 26925871.17, \"Gastos_Total\": 14421571.68, \"Personal_Limpieza\": 4, \"Residuos_Solidos\": 7500.0, \"Personal_Vigilancia\": 3, \"rate_GastosByIngresos\": 0.5356027884463802, \"rate_ResiduosByPersonal\": 1875.0}, {\"Distrito\": \"SAN CRISTOBAL\", \"Ingresos_Total\": 10602185.9, \"Gastos_Total\": 8395549.3, \"Personal_Limpieza\": 7, \"Residuos_Solidos\": 2000.0, \"Personal_Vigilancia\": 0, \"rate_GastosByIngresos\": 0.7918696558603071, \"rate_ResiduosByPersonal\": 285.7142857142857}, {\"Distrito\": \"TORATA\", \"Ingresos_Total\": 91294900.45, \"Gastos_Total\": 65199126.46, \"Personal_Limpieza\": 21, \"Residuos_Solidos\": 2500.0, \"Personal_Vigilancia\": 22, \"rate_GastosByIngresos\": 0.7141595657438499, \"rate_ResiduosByPersonal\": 119.04761904761905}, {\"Distrito\": \"COALAQUE\", \"Ingresos_Total\": 2601445.7, \"Gastos_Total\": 2132342.67, \"Personal_Limpieza\": 1, \"Residuos_Solidos\": 1500.0, \"Personal_Vigilancia\": 0, \"rate_GastosByIngresos\": 0.8196760247580797, \"rate_ResiduosByPersonal\": 1500.0}, {\"Distrito\": \"ICHU\\u00d1A\", \"Ingresos_Total\": 13791127.12, \"Gastos_Total\": 12730466.93, \"Personal_Limpieza\": 1, \"Residuos_Solidos\": 1200.0, \"Personal_Vigilancia\": 3, \"rate_GastosByIngresos\": 0.9230911164279081, \"rate_ResiduosByPersonal\": 1200.0}, {\"Distrito\": \"PUQUINA\", \"Ingresos_Total\": 4548713.11, \"Gastos_Total\": 5379054.77, \"Personal_Limpieza\": 1, \"Residuos_Solidos\": 800.0, \"Personal_Vigilancia\": 0, \"rate_GastosByIngresos\": 1.182544302074043, \"rate_ResiduosByPersonal\": 800.0}, {\"Distrito\": \"ILO\", \"Ingresos_Total\": 119090712.72, \"Gastos_Total\": 84793247.18, \"Personal_Limpieza\": 19, \"Residuos_Solidos\": 57800.0, \"Personal_Vigilancia\": 0, \"rate_GastosByIngresos\": 0.712005539670936, \"rate_ResiduosByPersonal\": 3042.1052631578946}, {\"Distrito\": \"EL ALGARROBAL\", \"Ingresos_Total\": 37628419.79, \"Gastos_Total\": 13140107.58, \"Personal_Limpieza\": 1, \"Residuos_Solidos\": 1714.0, \"Personal_Vigilancia\": 1, \"rate_GastosByIngresos\": 0.34920699974470015, \"rate_ResiduosByPersonal\": 1714.0}, {\"Distrito\": \"PACOCHA\", \"Ingresos_Total\": 9058296.46, \"Gastos_Total\": 7400553.8, \"Personal_Limpieza\": 14, \"Residuos_Solidos\": 3000.0, \"Personal_Vigilancia\": 4, \"rate_GastosByIngresos\": 0.816991785671806, \"rate_ResiduosByPersonal\": 214.28571428571428}, {\"Distrito\": \"CHAUPIMARCA\", \"Ingresos_Total\": 48031693.49, \"Gastos_Total\": 41722536.5, \"Personal_Limpieza\": 70, \"Residuos_Solidos\": 28000.0, \"Personal_Vigilancia\": 32, \"rate_GastosByIngresos\": 0.8686459599573865, \"rate_ResiduosByPersonal\": 400.0}, {\"Distrito\": \"HUACHON\", \"Ingresos_Total\": 4110304.89, \"Gastos_Total\": 4096066.18, \"Personal_Limpieza\": 10, \"Residuos_Solidos\": 1500.0, \"Personal_Vigilancia\": 0, \"rate_GastosByIngresos\": 0.9965358506531616, \"rate_ResiduosByPersonal\": 150.0}, {\"Distrito\": \"HUARIACA\", \"Ingresos_Total\": 10841874.52, \"Gastos_Total\": 5143090.92, \"Personal_Limpieza\": 5, \"Residuos_Solidos\": 5420.0, \"Personal_Vigilancia\": 7, \"rate_GastosByIngresos\": 0.4743728504247622, \"rate_ResiduosByPersonal\": 1084.0}, {\"Distrito\": \"HUAYLLAY\", \"Ingresos_Total\": 17262427.55, \"Gastos_Total\": 16165419.42, \"Personal_Limpieza\": 17, \"Residuos_Solidos\": 4050.0, \"Personal_Vigilancia\": 1, \"rate_GastosByIngresos\": 0.9364511088129085, \"rate_ResiduosByPersonal\": 238.23529411764707}, {\"Distrito\": \"PALLANCHACRA\", \"Ingresos_Total\": 3140194.3, \"Gastos_Total\": 3031222.71, \"Personal_Limpieza\": 8, \"Residuos_Solidos\": 325.0, \"Personal_Vigilancia\": 1, \"rate_GastosByIngresos\": 0.9652978193100982, \"rate_ResiduosByPersonal\": 40.625}, {\"Distrito\": \"SAN FRANCISCO DE ASIS DE YARUSYACAN\", \"Ingresos_Total\": 5717740.36, \"Gastos_Total\": 4844240.4, \"Personal_Limpieza\": 5, \"Residuos_Solidos\": 1300.0, \"Personal_Vigilancia\": 2, \"rate_GastosByIngresos\": 0.8472298661704184, \"rate_ResiduosByPersonal\": 260.0}, {\"Distrito\": \"SIMON BOLIVAR\", \"Ingresos_Total\": 13122718.03, \"Gastos_Total\": 8883073.07, \"Personal_Limpieza\": 6, \"Residuos_Solidos\": 4500.0, \"Personal_Vigilancia\": 3, \"rate_GastosByIngresos\": 0.6769232600816617, \"rate_ResiduosByPersonal\": 750.0}, {\"Distrito\": \"TICLACAYAN\", \"Ingresos_Total\": 13443029.72, \"Gastos_Total\": 7722303.78, \"Personal_Limpieza\": 7, \"Residuos_Solidos\": 1850.0, \"Personal_Vigilancia\": 0, \"rate_GastosByIngresos\": 0.5744466791225691, \"rate_ResiduosByPersonal\": 264.2857142857143}, {\"Distrito\": \"YANACANCHA\", \"Ingresos_Total\": 17914376.32, \"Gastos_Total\": 17794363.82, \"Personal_Limpieza\": 67, \"Residuos_Solidos\": 29000.0, \"Personal_Vigilancia\": 16, \"rate_GastosByIngresos\": 0.9933007715224774, \"rate_ResiduosByPersonal\": 432.8358208955224}, {\"Distrito\": \"CHACAYAN\", \"Ingresos_Total\": 2747988.09, \"Gastos_Total\": 2583214.48, \"Personal_Limpieza\": 6, \"Residuos_Solidos\": 800.0, \"Personal_Vigilancia\": 0, \"rate_GastosByIngresos\": 0.9400384555524038, \"rate_ResiduosByPersonal\": 133.33333333333334}, {\"Distrito\": \"OXAPAMPA\", \"Ingresos_Total\": 34071025.37, \"Gastos_Total\": 34936967.29, \"Personal_Limpieza\": 5, \"Residuos_Solidos\": 11143.0, \"Personal_Vigilancia\": 1, \"rate_GastosByIngresos\": 1.025415786892122, \"rate_ResiduosByPersonal\": 2228.6}, {\"Distrito\": \"CHONTABAMBA\", \"Ingresos_Total\": 9144571.96, \"Gastos_Total\": 7518194.72, \"Personal_Limpieza\": 3, \"Residuos_Solidos\": 5300.0, \"Personal_Vigilancia\": 4, \"rate_GastosByIngresos\": 0.822148346897584, \"rate_ResiduosByPersonal\": 1766.6666666666667}, {\"Distrito\": \"PALCAZU\", \"Ingresos_Total\": 7892133.04, \"Gastos_Total\": 6610455.26, \"Personal_Limpieza\": 4, \"Residuos_Solidos\": 2000.0, \"Personal_Vigilancia\": 1, \"rate_GastosByIngresos\": 0.8376005861148027, \"rate_ResiduosByPersonal\": 500.0}, {\"Distrito\": \"POZUZO\", \"Ingresos_Total\": 7015354.66, \"Gastos_Total\": 6527254.36, \"Personal_Limpieza\": 5, \"Residuos_Solidos\": 1038.0, \"Personal_Vigilancia\": 0, \"rate_GastosByIngresos\": 0.9304240022556465, \"rate_ResiduosByPersonal\": 207.6}, {\"Distrito\": \"PUERTO BERMUDEZ\", \"Ingresos_Total\": 43656768.19, \"Gastos_Total\": 14501322.17, \"Personal_Limpieza\": 22, \"Residuos_Solidos\": 6000.0, \"Personal_Vigilancia\": 6, \"rate_GastosByIngresos\": 0.332166643826871, \"rate_ResiduosByPersonal\": 272.72727272727275}, {\"Distrito\": \"VILLA RICA\", \"Ingresos_Total\": 15799660.79, \"Gastos_Total\": 15262088.18, \"Personal_Limpieza\": 17, \"Residuos_Solidos\": 8000.0, \"Personal_Vigilancia\": 4, \"rate_GastosByIngresos\": 0.9659756866210544, \"rate_ResiduosByPersonal\": 470.5882352941176}, {\"Distrito\": \"CONSTITUCI\\u00d3N\", \"Ingresos_Total\": 15240588.02, \"Gastos_Total\": 13779090.5, \"Personal_Limpieza\": 2, \"Residuos_Solidos\": 8000.0, \"Personal_Vigilancia\": 1, \"rate_GastosByIngresos\": 0.9041049126134701, \"rate_ResiduosByPersonal\": 4000.0}, {\"Distrito\": \"PIURA\", \"Ingresos_Total\": 259309348.86, \"Gastos_Total\": 216467936.69, \"Personal_Limpieza\": 453, \"Residuos_Solidos\": 194428.0, \"Personal_Vigilancia\": 180, \"rate_GastosByIngresos\": 0.8347864727656622, \"rate_ResiduosByPersonal\": 429.2008830022075}, {\"Distrito\": \"CASTILLA\", \"Ingresos_Total\": 110946665.66, \"Gastos_Total\": 99926979.2, \"Personal_Limpieza\": 343, \"Residuos_Solidos\": 116811.0, \"Personal_Vigilancia\": 14, \"rate_GastosByIngresos\": 0.9006758211754626, \"rate_ResiduosByPersonal\": 340.5568513119534}, {\"Distrito\": \"CATACAOS\", \"Ingresos_Total\": 30407097.77, \"Gastos_Total\": 24732083.25, \"Personal_Limpieza\": 21, \"Residuos_Solidos\": 25000.0, \"Personal_Vigilancia\": 0, \"rate_GastosByIngresos\": 0.8133654660853876, \"rate_ResiduosByPersonal\": 1190.4761904761904}, {\"Distrito\": \"CURA MORI\", \"Ingresos_Total\": 30960438.69, \"Gastos_Total\": 31784972.64, \"Personal_Limpieza\": 21, \"Residuos_Solidos\": 6800.0, \"Personal_Vigilancia\": 6, \"rate_GastosByIngresos\": 1.0266318561650845, \"rate_ResiduosByPersonal\": 323.8095238095238}, {\"Distrito\": \"EL TALLAN\", \"Ingresos_Total\": 15819608.0, \"Gastos_Total\": 15420679.13, \"Personal_Limpieza\": 1, \"Residuos_Solidos\": 1220.0, \"Personal_Vigilancia\": 8, \"rate_GastosByIngresos\": 0.9747826324141534, \"rate_ResiduosByPersonal\": 1220.0}, {\"Distrito\": \"LA ARENA\", \"Ingresos_Total\": 54524228.41, \"Gastos_Total\": 54251539.17, \"Personal_Limpieza\": 2, \"Residuos_Solidos\": 9000.0, \"Personal_Vigilancia\": 3, \"rate_GastosByIngresos\": 0.9949987510515603, \"rate_ResiduosByPersonal\": 4500.0}, {\"Distrito\": \"LA UNION\", \"Ingresos_Total\": 26853623.51, \"Gastos_Total\": 25113046.13, \"Personal_Limpieza\": 24, \"Residuos_Solidos\": 26470.0, \"Personal_Vigilancia\": 3, \"rate_GastosByIngresos\": 0.9351827741477112, \"rate_ResiduosByPersonal\": 1102.9166666666667}, {\"Distrito\": \"LAS LOMAS\", \"Ingresos_Total\": 48671896.9, \"Gastos_Total\": 44341430.84, \"Personal_Limpieza\": 4, \"Residuos_Solidos\": 15000.0, \"Personal_Vigilancia\": 0, \"rate_GastosByIngresos\": 0.9110273826208735, \"rate_ResiduosByPersonal\": 3750.0}, {\"Distrito\": \"TAMBO GRANDE\", \"Ingresos_Total\": 121100869.88, \"Gastos_Total\": 96133187.75, \"Personal_Limpieza\": 30, \"Residuos_Solidos\": 40000.0, \"Personal_Vigilancia\": 0, \"rate_GastosByIngresos\": 0.7938273923652183, \"rate_ResiduosByPersonal\": 1333.3333333333333}, {\"Distrito\": \"VEINTIS\\u00c9IS DE OCTUBRE\", \"Ingresos_Total\": 113030838.47, \"Gastos_Total\": 83344097.19, \"Personal_Limpieza\": 169, \"Residuos_Solidos\": 104000.0, \"Personal_Vigilancia\": 3, \"rate_GastosByIngresos\": 0.7373571524210246, \"rate_ResiduosByPersonal\": 615.3846153846154}, {\"Distrito\": \"AYABACA\", \"Ingresos_Total\": 99065983.63, \"Gastos_Total\": 74761591.51, \"Personal_Limpieza\": 13, \"Residuos_Solidos\": 6000.0, \"Personal_Vigilancia\": 0, \"rate_GastosByIngresos\": 0.754664606059189, \"rate_ResiduosByPersonal\": 461.53846153846155}, {\"Distrito\": \"LAGUNAS\", \"Ingresos_Total\": 7945911.98, \"Gastos_Total\": 5681630.19, \"Personal_Limpieza\": 1, \"Residuos_Solidos\": 1000.0, \"Personal_Vigilancia\": 0, \"rate_GastosByIngresos\": 0.7150381484593289, \"rate_ResiduosByPersonal\": 1000.0}, {\"Distrito\": \"PAIMAS\", \"Ingresos_Total\": 11819389.47, \"Gastos_Total\": 11366050.2, \"Personal_Limpieza\": 2, \"Residuos_Solidos\": 2000.0, \"Personal_Vigilancia\": 0, \"rate_GastosByIngresos\": 0.9616444427057195, \"rate_ResiduosByPersonal\": 1000.0}, {\"Distrito\": \"CANCHAQUE\", \"Ingresos_Total\": 28146858.92, \"Gastos_Total\": 39771313.33, \"Personal_Limpieza\": 1, \"Residuos_Solidos\": 3455.0, \"Personal_Vigilancia\": 0, \"rate_GastosByIngresos\": 1.4129929539576487, \"rate_ResiduosByPersonal\": 3455.0}, {\"Distrito\": \"SAN MIGUEL DE EL FAIQUE\", \"Ingresos_Total\": 23245376.07, \"Gastos_Total\": 26605045.37, \"Personal_Limpieza\": 1, \"Residuos_Solidos\": 6060.0, \"Personal_Vigilancia\": 0, \"rate_GastosByIngresos\": 1.1445306494454146, \"rate_ResiduosByPersonal\": 6060.0}, {\"Distrito\": \"SONDOR\", \"Ingresos_Total\": 9582069.97, \"Gastos_Total\": 9431954.24, \"Personal_Limpieza\": 2, \"Residuos_Solidos\": 600.0, \"Personal_Vigilancia\": 0, \"rate_GastosByIngresos\": 0.9843336846349494, \"rate_ResiduosByPersonal\": 300.0}, {\"Distrito\": \"SONDORILLO\", \"Ingresos_Total\": 43513250.49, \"Gastos_Total\": 40794847.84, \"Personal_Limpieza\": 2, \"Residuos_Solidos\": 900.0, \"Personal_Vigilancia\": 0, \"rate_GastosByIngresos\": 0.9375270148888388, \"rate_ResiduosByPersonal\": 450.0}, {\"Distrito\": \"CHULUCANAS\", \"Ingresos_Total\": 135769578.92, \"Gastos_Total\": 118389768.28, \"Personal_Limpieza\": 35, \"Residuos_Solidos\": 60000.0, \"Personal_Vigilancia\": 0, \"rate_GastosByIngresos\": 0.8719903915276871, \"rate_ResiduosByPersonal\": 1714.2857142857142}, {\"Distrito\": \"BUENOS AIRES\", \"Ingresos_Total\": 12914005.46, \"Gastos_Total\": 17973439.72, \"Personal_Limpieza\": 1, \"Residuos_Solidos\": 3840.0, \"Personal_Vigilancia\": 1, \"rate_GastosByIngresos\": 1.3917788540256664, \"rate_ResiduosByPersonal\": 3840.0}, {\"Distrito\": \"LA MATANZA\", \"Ingresos_Total\": 9848142.49, \"Gastos_Total\": 8401378.73, \"Personal_Limpieza\": 3, \"Residuos_Solidos\": 5000.0, \"Personal_Vigilancia\": 0, \"rate_GastosByIngresos\": 0.8530927267280025, \"rate_ResiduosByPersonal\": 1666.6666666666667}, {\"Distrito\": \"MORROPON\", \"Ingresos_Total\": 11181433.2, \"Gastos_Total\": 10465615.33, \"Personal_Limpieza\": 3, \"Residuos_Solidos\": 9000.0, \"Personal_Vigilancia\": 0, \"rate_GastosByIngresos\": 0.9359815636156553, \"rate_ResiduosByPersonal\": 3000.0}, {\"Distrito\": \"SALITRAL\", \"Ingresos_Total\": 8015829.54, \"Gastos_Total\": 7742578.45, \"Personal_Limpieza\": 5, \"Residuos_Solidos\": 1000.0, \"Personal_Vigilancia\": 0, \"rate_GastosByIngresos\": 0.9659110652694842, \"rate_ResiduosByPersonal\": 200.0}, {\"Distrito\": \"SANTO DOMINGO\", \"Ingresos_Total\": 13707608.31, \"Gastos_Total\": 13894240.85, \"Personal_Limpieza\": 3, \"Residuos_Solidos\": 1050.0, \"Personal_Vigilancia\": 0, \"rate_GastosByIngresos\": 1.0136152518936397, \"rate_ResiduosByPersonal\": 350.0}, {\"Distrito\": \"AMOTAPE\", \"Ingresos_Total\": 2911089.61, \"Gastos_Total\": 2128610.41, \"Personal_Limpieza\": 1, \"Residuos_Solidos\": 1500.0, \"Personal_Vigilancia\": 1, \"rate_GastosByIngresos\": 0.7312074498455581, \"rate_ResiduosByPersonal\": 1500.0}, {\"Distrito\": \"ARENAL\", \"Ingresos_Total\": 3511299.83, \"Gastos_Total\": 1726446.42, \"Personal_Limpieza\": 2, \"Residuos_Solidos\": 500.0, \"Personal_Vigilancia\": 0, \"rate_GastosByIngresos\": 0.49168299592347825, \"rate_ResiduosByPersonal\": 250.0}, {\"Distrito\": \"COLAN\", \"Ingresos_Total\": 15367328.58, \"Gastos_Total\": 13592405.46, \"Personal_Limpieza\": 2, \"Residuos_Solidos\": 5000.0, \"Personal_Vigilancia\": 0, \"rate_GastosByIngresos\": 0.8845002167579085, \"rate_ResiduosByPersonal\": 2500.0}, {\"Distrito\": \"LA HUACA\", \"Ingresos_Total\": 15878094.11, \"Gastos_Total\": 12719609.12, \"Personal_Limpieza\": 6, \"Residuos_Solidos\": 6750.0, \"Personal_Vigilancia\": 0, \"rate_GastosByIngresos\": 0.8010790861851114, \"rate_ResiduosByPersonal\": 1125.0}, {\"Distrito\": \"TAMARINDO\", \"Ingresos_Total\": 8822488.58, \"Gastos_Total\": 8121151.99, \"Personal_Limpieza\": 4, \"Residuos_Solidos\": 1500.0, \"Personal_Vigilancia\": 0, \"rate_GastosByIngresos\": 0.9205058092577322, \"rate_ResiduosByPersonal\": 375.0}, {\"Distrito\": \"VICHAYAL\", \"Ingresos_Total\": 9871172.62, \"Gastos_Total\": 7699116.06, \"Personal_Limpieza\": 3, \"Residuos_Solidos\": 6500.0, \"Personal_Vigilancia\": 0, \"rate_GastosByIngresos\": 0.7799596214537681, \"rate_ResiduosByPersonal\": 2166.6666666666665}, {\"Distrito\": \"SULLANA\", \"Ingresos_Total\": 145306022.1, \"Gastos_Total\": 139586601.13, \"Personal_Limpieza\": 353, \"Residuos_Solidos\": 78676.0, \"Personal_Vigilancia\": 72, \"rate_GastosByIngresos\": 0.9606387891751391, \"rate_ResiduosByPersonal\": 222.87818696883852}, {\"Distrito\": \"BELLAVISTA\", \"Ingresos_Total\": 20997685.25, \"Gastos_Total\": 23813913.74, \"Personal_Limpieza\": 38, \"Residuos_Solidos\": 10000.0, \"Personal_Vigilancia\": 4, \"rate_GastosByIngresos\": 1.134120902207542, \"rate_ResiduosByPersonal\": 263.1578947368421}, {\"Distrito\": \"IGNACIO ESCUDERO\", \"Ingresos_Total\": 19698974.98, \"Gastos_Total\": 18884672.69, \"Personal_Limpieza\": 4, \"Residuos_Solidos\": 7000.0, \"Personal_Vigilancia\": 0, \"rate_GastosByIngresos\": 0.9586627075354558, \"rate_ResiduosByPersonal\": 1750.0}, {\"Distrito\": \"LANCONES\", \"Ingresos_Total\": 16462429.31, \"Gastos_Total\": 14289938.9, \"Personal_Limpieza\": 3, \"Residuos_Solidos\": 850.0, \"Personal_Vigilancia\": 0, \"rate_GastosByIngresos\": 0.8680334251348716, \"rate_ResiduosByPersonal\": 283.3333333333333}, {\"Distrito\": \"MARCAVELICA\", \"Ingresos_Total\": 38159332.39, \"Gastos_Total\": 35509266.34, \"Personal_Limpieza\": 13, \"Residuos_Solidos\": 15000.0, \"Personal_Vigilancia\": 3, \"rate_GastosByIngresos\": 0.9305526097019855, \"rate_ResiduosByPersonal\": 1153.8461538461538}, {\"Distrito\": \"MIGUEL CHECA\", \"Ingresos_Total\": 7027051.83, \"Gastos_Total\": 6301872.16, \"Personal_Limpieza\": 7, \"Residuos_Solidos\": 5000.0, \"Personal_Vigilancia\": 0, \"rate_GastosByIngresos\": 0.8968017189080559, \"rate_ResiduosByPersonal\": 714.2857142857143}, {\"Distrito\": \"QUERECOTILLO\", \"Ingresos_Total\": 38779238.95, \"Gastos_Total\": 34888132.88, \"Personal_Limpieza\": 6, \"Residuos_Solidos\": 6700.0, \"Personal_Vigilancia\": 0, \"rate_GastosByIngresos\": 0.8996600713330914, \"rate_ResiduosByPersonal\": 1116.6666666666667}, {\"Distrito\": \"SALITRAL\", \"Ingresos_Total\": 6430899.18, \"Gastos_Total\": 6225805.35, \"Personal_Limpieza\": 8, \"Residuos_Solidos\": 4000.0, \"Personal_Vigilancia\": 0, \"rate_GastosByIngresos\": 0.9681080632335461, \"rate_ResiduosByPersonal\": 500.0}, {\"Distrito\": \"PARI\\u00d1AS\", \"Ingresos_Total\": 162600847.91, \"Gastos_Total\": 113842145.65, \"Personal_Limpieza\": 58, \"Residuos_Solidos\": 77000.0, \"Personal_Vigilancia\": 22, \"rate_GastosByIngresos\": 0.7001325461292301, \"rate_ResiduosByPersonal\": 1327.5862068965516}, {\"Distrito\": \"EL ALTO\", \"Ingresos_Total\": 37344858.98, \"Gastos_Total\": 29056564.56, \"Personal_Limpieza\": 1, \"Residuos_Solidos\": 16000.0, \"Personal_Vigilancia\": 0, \"rate_GastosByIngresos\": 0.7780606314663342, \"rate_ResiduosByPersonal\": 16000.0}, {\"Distrito\": \"LA BREA\", \"Ingresos_Total\": 25437375.92, \"Gastos_Total\": 21241818.89, \"Personal_Limpieza\": 8, \"Residuos_Solidos\": 8400.0, \"Personal_Vigilancia\": 0, \"rate_GastosByIngresos\": 0.8350632925662247, \"rate_ResiduosByPersonal\": 1050.0}, {\"Distrito\": \"LOS ORGANOS\", \"Ingresos_Total\": 19593824.69, \"Gastos_Total\": 12619052.06, \"Personal_Limpieza\": 28, \"Residuos_Solidos\": 11000.0, \"Personal_Vigilancia\": 16, \"rate_GastosByIngresos\": 0.6440320998911622, \"rate_ResiduosByPersonal\": 392.85714285714283}, {\"Distrito\": \"MANCORA\", \"Ingresos_Total\": 22159823.4, \"Gastos_Total\": 19192883.39, \"Personal_Limpieza\": 36, \"Residuos_Solidos\": 12000.0, \"Personal_Vigilancia\": 2, \"rate_GastosByIngresos\": 0.8661117484356848, \"rate_ResiduosByPersonal\": 333.3333333333333}, {\"Distrito\": \"SECHURA\", \"Ingresos_Total\": 101154873.69, \"Gastos_Total\": 67336622.35, \"Personal_Limpieza\": 34, \"Residuos_Solidos\": 24000.0, \"Personal_Vigilancia\": 3, \"rate_GastosByIngresos\": 0.6656784778987548, \"rate_ResiduosByPersonal\": 705.8823529411765}, {\"Distrito\": \"BELLAVISTA DE LA UNION\", \"Ingresos_Total\": 3137635.56, \"Gastos_Total\": 2862507.54, \"Personal_Limpieza\": 1, \"Residuos_Solidos\": 7500.0, \"Personal_Vigilancia\": 0, \"rate_GastosByIngresos\": 0.912313583034481, \"rate_ResiduosByPersonal\": 7500.0}, {\"Distrito\": \"CRISTO NOS VALGA\", \"Ingresos_Total\": 4660793.34, \"Gastos_Total\": 3336518.41, \"Personal_Limpieza\": 2, \"Residuos_Solidos\": 1500.0, \"Personal_Vigilancia\": 0, \"rate_GastosByIngresos\": 0.7158692022161189, \"rate_ResiduosByPersonal\": 750.0}, {\"Distrito\": \"VICE\", \"Ingresos_Total\": 19377120.74, \"Gastos_Total\": 14413638.71, \"Personal_Limpieza\": 2, \"Residuos_Solidos\": 1000.0, \"Personal_Vigilancia\": 1, \"rate_GastosByIngresos\": 0.7438483200574825, \"rate_ResiduosByPersonal\": 500.0}, {\"Distrito\": \"PUNO\", \"Ingresos_Total\": 95448195.22, \"Gastos_Total\": 90131543.74, \"Personal_Limpieza\": 123, \"Residuos_Solidos\": 95000.0, \"Personal_Vigilancia\": 20, \"rate_GastosByIngresos\": 0.9442980407566055, \"rate_ResiduosByPersonal\": 772.3577235772358}, {\"Distrito\": \"ACORA\", \"Ingresos_Total\": 13651999.43, \"Gastos_Total\": 10563667.95, \"Personal_Limpieza\": 2, \"Residuos_Solidos\": 4700.0, \"Personal_Vigilancia\": 0, \"rate_GastosByIngresos\": 0.7737817456091118, \"rate_ResiduosByPersonal\": 2350.0}, {\"Distrito\": \"HUATA\", \"Ingresos_Total\": 5214004.64, \"Gastos_Total\": 5283827.02, \"Personal_Limpieza\": 3, \"Residuos_Solidos\": 600.0, \"Personal_Vigilancia\": 2, \"rate_GastosByIngresos\": 1.0133913152789216, \"rate_ResiduosByPersonal\": 200.0}, {\"Distrito\": \"PAUCARCOLLA\", \"Ingresos_Total\": 4387510.95, \"Gastos_Total\": 3288088.01, \"Personal_Limpieza\": 3, \"Residuos_Solidos\": 180.0, \"Personal_Vigilancia\": 2, \"rate_GastosByIngresos\": 0.7494198983138719, \"rate_ResiduosByPersonal\": 60.0}, {\"Distrito\": \"PLATERIA\", \"Ingresos_Total\": 4715524.17, \"Gastos_Total\": 4449081.24, \"Personal_Limpieza\": 1, \"Residuos_Solidos\": 50.0, \"Personal_Vigilancia\": 0, \"rate_GastosByIngresos\": 0.9434966463123866, \"rate_ResiduosByPersonal\": 50.0}, {\"Distrito\": \"AZANGARO\", \"Ingresos_Total\": 64926259.12, \"Gastos_Total\": 63136303.92, \"Personal_Limpieza\": 9, \"Residuos_Solidos\": 20000.0, \"Personal_Vigilancia\": 0, \"rate_GastosByIngresos\": 0.972430951293656, \"rate_ResiduosByPersonal\": 2222.222222222222}, {\"Distrito\": \"ARAPA\", \"Ingresos_Total\": 14833192.89, \"Gastos_Total\": 15811085.59, \"Personal_Limpieza\": 1, \"Residuos_Solidos\": 580.0, \"Personal_Vigilancia\": 0, \"rate_GastosByIngresos\": 1.0659259747548526, \"rate_ResiduosByPersonal\": 580.0}, {\"Distrito\": \"CRUCERO\", \"Ingresos_Total\": 7098958.79, \"Gastos_Total\": 7332572.65, \"Personal_Limpieza\": 8, \"Residuos_Solidos\": 612.0, \"Personal_Vigilancia\": 11, \"rate_GastosByIngresos\": 1.0329081865257594, \"rate_ResiduosByPersonal\": 76.5}, {\"Distrito\": \"SAN GABAN\", \"Ingresos_Total\": 11333746.15, \"Gastos_Total\": 8734538.64, \"Personal_Limpieza\": 4, \"Residuos_Solidos\": 1430.0, \"Personal_Vigilancia\": 4, \"rate_GastosByIngresos\": 0.7706665143545676, \"rate_ResiduosByPersonal\": 357.5}, {\"Distrito\": \"JULI\", \"Ingresos_Total\": 76094805.27, \"Gastos_Total\": 62308463.76, \"Personal_Limpieza\": 13, \"Residuos_Solidos\": 40400.0, \"Personal_Vigilancia\": 7, \"rate_GastosByIngresos\": 0.8188267719316289, \"rate_ResiduosByPersonal\": 3107.6923076923076}, {\"Distrito\": \"PISACOMA\", \"Ingresos_Total\": 9782404.12, \"Gastos_Total\": 7458579.85, \"Personal_Limpieza\": 7, \"Residuos_Solidos\": 550.0, \"Personal_Vigilancia\": 6, \"rate_GastosByIngresos\": 0.7624485513485412, \"rate_ResiduosByPersonal\": 78.57142857142857}, {\"Distrito\": \"PILCUYO\", \"Ingresos_Total\": 6760090.22, \"Gastos_Total\": 6921368.0, \"Personal_Limpieza\": 14, \"Residuos_Solidos\": 300.0, \"Personal_Vigilancia\": 0, \"rate_GastosByIngresos\": 1.0238573413595655, \"rate_ResiduosByPersonal\": 21.428571428571427}, {\"Distrito\": \"HUANCANE\", \"Ingresos_Total\": 33747472.29, \"Gastos_Total\": 34580486.36, \"Personal_Limpieza\": 1, \"Residuos_Solidos\": 3000.0, \"Personal_Vigilancia\": 0, \"rate_GastosByIngresos\": 1.0246837470623493, \"rate_ResiduosByPersonal\": 3000.0}, {\"Distrito\": \"COJATA\", \"Ingresos_Total\": 8461272.35, \"Gastos_Total\": 7163074.15, \"Personal_Limpieza\": 10, \"Residuos_Solidos\": 500.0, \"Personal_Vigilancia\": 0, \"rate_GastosByIngresos\": 0.8465717511149491, \"rate_ResiduosByPersonal\": 50.0}, {\"Distrito\": \"PUSI\", \"Ingresos_Total\": 7816000.17, \"Gastos_Total\": 8002690.1, \"Personal_Limpieza\": 1, \"Residuos_Solidos\": 100.0, \"Personal_Vigilancia\": 0, \"rate_GastosByIngresos\": 1.0238856097670734, \"rate_ResiduosByPersonal\": 100.0}, {\"Distrito\": \"LAMPA\", \"Ingresos_Total\": 27199866.92, \"Gastos_Total\": 28143168.63, \"Personal_Limpieza\": 11, \"Residuos_Solidos\": 1500.0, \"Personal_Vigilancia\": 0, \"rate_GastosByIngresos\": 1.0346803796053277, \"rate_ResiduosByPersonal\": 136.36363636363637}, {\"Distrito\": \"CALAPUJA\", \"Ingresos_Total\": 5086605.37, \"Gastos_Total\": 4234172.31, \"Personal_Limpieza\": 5, \"Residuos_Solidos\": 20.0, \"Personal_Vigilancia\": 1, \"rate_GastosByIngresos\": 0.8324161207732927, \"rate_ResiduosByPersonal\": 4.0}, {\"Distrito\": \"CUPI\", \"Ingresos_Total\": 3250531.21, \"Gastos_Total\": 2610972.89, \"Personal_Limpieza\": 1, \"Residuos_Solidos\": 100.0, \"Personal_Vigilancia\": 0, \"rate_GastosByIngresos\": 0.8032449840713882, \"rate_ResiduosByPersonal\": 100.0}, {\"Distrito\": \"MOHO\", \"Ingresos_Total\": 13681809.64, \"Gastos_Total\": 13322665.03, \"Personal_Limpieza\": 1, \"Residuos_Solidos\": 1830.0, \"Personal_Vigilancia\": 0, \"rate_GastosByIngresos\": 0.9737502114522913, \"rate_ResiduosByPersonal\": 1830.0}, {\"Distrito\": \"PUTINA\", \"Ingresos_Total\": 30219699.7, \"Gastos_Total\": 31126570.65, \"Personal_Limpieza\": 3, \"Residuos_Solidos\": 6000.0, \"Personal_Vigilancia\": 0, \"rate_GastosByIngresos\": 1.0300092641225023, \"rate_ResiduosByPersonal\": 2000.0}, {\"Distrito\": \"ANANEA\", \"Ingresos_Total\": 20079785.03, \"Gastos_Total\": 17394608.46, \"Personal_Limpieza\": 12, \"Residuos_Solidos\": 6500.0, \"Personal_Vigilancia\": 3, \"rate_GastosByIngresos\": 0.8662746356104789, \"rate_ResiduosByPersonal\": 541.6666666666666}, {\"Distrito\": \"JULIACA\", \"Ingresos_Total\": 123316609.56, \"Gastos_Total\": 106927765.85, \"Personal_Limpieza\": 232, \"Residuos_Solidos\": 271000.0, \"Personal_Vigilancia\": 0, \"rate_GastosByIngresos\": 0.8670994623637786, \"rate_ResiduosByPersonal\": 1168.103448275862}, {\"Distrito\": \"CARACOTO\", \"Ingresos_Total\": 12505920.08, \"Gastos_Total\": 11024584.13, \"Personal_Limpieza\": 4, \"Residuos_Solidos\": 4500.0, \"Personal_Vigilancia\": 1, \"rate_GastosByIngresos\": 0.8815492230460504, \"rate_ResiduosByPersonal\": 1125.0}, {\"Distrito\": \"LIMBANI\", \"Ingresos_Total\": 5240460.36, \"Gastos_Total\": 3323994.9, \"Personal_Limpieza\": 2, \"Residuos_Solidos\": 500.0, \"Personal_Vigilancia\": 0, \"rate_GastosByIngresos\": 0.6342944458413955, \"rate_ResiduosByPersonal\": 250.0}, {\"Distrito\": \"SAN JUAN DEL ORO\", \"Ingresos_Total\": 9304287.67, \"Gastos_Total\": 8853683.96, \"Personal_Limpieza\": 3, \"Residuos_Solidos\": 1500.0, \"Personal_Vigilancia\": 0, \"rate_GastosByIngresos\": 0.9515703161830551, \"rate_ResiduosByPersonal\": 500.0}, {\"Distrito\": \"SAN PEDRO DE PUTINA PUNCO\", \"Ingresos_Total\": 23845583.48, \"Gastos_Total\": 21171714.1, \"Personal_Limpieza\": 4, \"Residuos_Solidos\": 1890.0, \"Personal_Vigilancia\": 2, \"rate_GastosByIngresos\": 0.8878673116871871, \"rate_ResiduosByPersonal\": 472.5}, {\"Distrito\": \"ANAPIA\", \"Ingresos_Total\": 1786488.97, \"Gastos_Total\": 1908220.95, \"Personal_Limpieza\": 2, \"Residuos_Solidos\": 450.0, \"Personal_Vigilancia\": 2, \"rate_GastosByIngresos\": 1.0681403479362093, \"rate_ResiduosByPersonal\": 225.0}, {\"Distrito\": \"CUTURAPI\", \"Ingresos_Total\": 1120133.71, \"Gastos_Total\": 1210135.08, \"Personal_Limpieza\": 1, \"Residuos_Solidos\": 80.0, \"Personal_Vigilancia\": 0, \"rate_GastosByIngresos\": 1.0803487737191662, \"rate_ResiduosByPersonal\": 80.0}, {\"Distrito\": \"UNICACHI\", \"Ingresos_Total\": 1654176.85, \"Gastos_Total\": 1768173.33, \"Personal_Limpieza\": 2, \"Residuos_Solidos\": 13798.4666666667, \"Personal_Vigilancia\": 1, \"rate_GastosByIngresos\": 1.0689143243662247, \"rate_ResiduosByPersonal\": 6899.23333333335}, {\"Distrito\": \"MOYOBAMBA\", \"Ingresos_Total\": 94183379.76, \"Gastos_Total\": 65031725.57, \"Personal_Limpieza\": 62, \"Residuos_Solidos\": 66000.0, \"Personal_Vigilancia\": 8, \"rate_GastosByIngresos\": 0.6904798461863989, \"rate_ResiduosByPersonal\": 1064.516129032258}, {\"Distrito\": \"CALZADA\", \"Ingresos_Total\": 5708416.98, \"Gastos_Total\": 5418595.8, \"Personal_Limpieza\": 2, \"Residuos_Solidos\": 1524.0, \"Personal_Vigilancia\": 0, \"rate_GastosByIngresos\": 0.9492291503904817, \"rate_ResiduosByPersonal\": 762.0}, {\"Distrito\": \"BELLAVISTA\", \"Ingresos_Total\": 21212214.64, \"Gastos_Total\": 23767829.34, \"Personal_Limpieza\": 15, \"Residuos_Solidos\": 9000.0, \"Personal_Vigilancia\": 6, \"rate_GastosByIngresos\": 1.1204784480721246, \"rate_ResiduosByPersonal\": 600.0}, {\"Distrito\": \"SAN JOSE DE SISA\", \"Ingresos_Total\": 17962493.05, \"Gastos_Total\": 19522839.57, \"Personal_Limpieza\": 4, \"Residuos_Solidos\": 14706.0, \"Personal_Vigilancia\": 3, \"rate_GastosByIngresos\": 1.0868669240765552, \"rate_ResiduosByPersonal\": 3676.5}, {\"Distrito\": \"SHATOJA\", \"Ingresos_Total\": 18005190.71, \"Gastos_Total\": 17889650.15, \"Personal_Limpieza\": 2, \"Residuos_Solidos\": 700.0, \"Personal_Vigilancia\": 0, \"rate_GastosByIngresos\": 0.9935829305081544, \"rate_ResiduosByPersonal\": 350.0}, {\"Distrito\": \"SAPOSOA\", \"Ingresos_Total\": 14952162.09, \"Gastos_Total\": 19583053.11, \"Personal_Limpieza\": 1, \"Residuos_Solidos\": 6000.0, \"Personal_Vigilancia\": 0, \"rate_GastosByIngresos\": 1.3097138054099304, \"rate_ResiduosByPersonal\": 6000.0}, {\"Distrito\": \"ALTO SAPOSOA\", \"Ingresos_Total\": 3909077.09, \"Gastos_Total\": 3009663.4, \"Personal_Limpieza\": 6, \"Residuos_Solidos\": 3400.0, \"Personal_Vigilancia\": 1, \"rate_GastosByIngresos\": 0.7699166147680142, \"rate_ResiduosByPersonal\": 566.6666666666666}, {\"Distrito\": \"EL ESLABON\", \"Ingresos_Total\": 4646380.82, \"Gastos_Total\": 2837590.54, \"Personal_Limpieza\": 2, \"Residuos_Solidos\": 2000.0, \"Personal_Vigilancia\": 0, \"rate_GastosByIngresos\": 0.610709851372019, \"rate_ResiduosByPersonal\": 1000.0}, {\"Distrito\": \"TINGO DE SAPOSOA\", \"Ingresos_Total\": 986092.56, \"Gastos_Total\": 907916.56, \"Personal_Limpieza\": 3, \"Residuos_Solidos\": 6000.0, \"Personal_Vigilancia\": 0, \"rate_GastosByIngresos\": 0.9207214381578946, \"rate_ResiduosByPersonal\": 2000.0}, {\"Distrito\": \"LAMAS\", \"Ingresos_Total\": 25456828.6, \"Gastos_Total\": 30168104.66, \"Personal_Limpieza\": 3, \"Residuos_Solidos\": 15000.0, \"Personal_Vigilancia\": 0, \"rate_GastosByIngresos\": 1.185069245428317, \"rate_ResiduosByPersonal\": 5000.0}, {\"Distrito\": \"ALONSO DE ALVARADO\", \"Ingresos_Total\": 9150861.28, \"Gastos_Total\": 7986783.83, \"Personal_Limpieza\": 2, \"Residuos_Solidos\": 5000.0, \"Personal_Vigilancia\": 0, \"rate_GastosByIngresos\": 0.8727903948730824, \"rate_ResiduosByPersonal\": 2500.0}, {\"Distrito\": \"CU\\u00d1UMBUQUI\", \"Ingresos_Total\": 3356003.0, \"Gastos_Total\": 3036704.55, \"Personal_Limpieza\": 1, \"Residuos_Solidos\": 750.0, \"Personal_Vigilancia\": 0, \"rate_GastosByIngresos\": 0.9048575194956618, \"rate_ResiduosByPersonal\": 750.0}, {\"Distrito\": \"TABALOSOS\", \"Ingresos_Total\": 5948501.0, \"Gastos_Total\": 5887463.83, \"Personal_Limpieza\": 4, \"Residuos_Solidos\": 10000.0, \"Personal_Vigilancia\": 0, \"rate_GastosByIngresos\": 0.9897390670355439, \"rate_ResiduosByPersonal\": 2500.0}, {\"Distrito\": \"JUANJUI\", \"Ingresos_Total\": 20401187.07, \"Gastos_Total\": 27804676.56, \"Personal_Limpieza\": 19, \"Residuos_Solidos\": 22000.0, \"Personal_Vigilancia\": 0, \"rate_GastosByIngresos\": 1.362895034715252, \"rate_ResiduosByPersonal\": 1157.8947368421052}, {\"Distrito\": \"PICOTA\", \"Ingresos_Total\": 43558332.29, \"Gastos_Total\": 31221665.59, \"Personal_Limpieza\": 5, \"Residuos_Solidos\": 10000.0, \"Personal_Vigilancia\": 5, \"rate_GastosByIngresos\": 0.7167782591430338, \"rate_ResiduosByPersonal\": 2000.0}, {\"Distrito\": \"CASPISAPA\", \"Ingresos_Total\": 4163482.48, \"Gastos_Total\": 4142444.55, \"Personal_Limpieza\": 3, \"Residuos_Solidos\": 1602.0, \"Personal_Vigilancia\": 0, \"rate_GastosByIngresos\": 0.9949470353001221, \"rate_ResiduosByPersonal\": 534.0}, {\"Distrito\": \"SAN HILARION\", \"Ingresos_Total\": 2548796.24, \"Gastos_Total\": 2574055.48, \"Personal_Limpieza\": 2, \"Residuos_Solidos\": 2421.0, \"Personal_Vigilancia\": 0, \"rate_GastosByIngresos\": 1.0099102625794834, \"rate_ResiduosByPersonal\": 1210.5}, {\"Distrito\": \"RIOJA\", \"Ingresos_Total\": 39900670.81, \"Gastos_Total\": 29761822.98, \"Personal_Limpieza\": 26, \"Residuos_Solidos\": 18000.0, \"Personal_Vigilancia\": 16, \"rate_GastosByIngresos\": 0.745897810132581, \"rate_ResiduosByPersonal\": 692.3076923076923}, {\"Distrito\": \"NUEVA CAJAMARCA\", \"Ingresos_Total\": 102688777.38, \"Gastos_Total\": 102048342.95, \"Personal_Limpieza\": 16, \"Residuos_Solidos\": 26200.0, \"Personal_Vigilancia\": 7, \"rate_GastosByIngresos\": 0.9937633454566309, \"rate_ResiduosByPersonal\": 1637.5}, {\"Distrito\": \"PARDO MIGUEL\", \"Ingresos_Total\": 17817423.75, \"Gastos_Total\": 16307610.73, \"Personal_Limpieza\": 4, \"Residuos_Solidos\": 7325.0, \"Personal_Vigilancia\": 10, \"rate_GastosByIngresos\": 0.9152619906679831, \"rate_ResiduosByPersonal\": 1831.25}, {\"Distrito\": \"SAN FERNANDO\", \"Ingresos_Total\": 2882291.32, \"Gastos_Total\": 2672823.51, \"Personal_Limpieza\": 1, \"Residuos_Solidos\": 1500.0, \"Personal_Vigilancia\": 0, \"rate_GastosByIngresos\": 0.927325940807399, \"rate_ResiduosByPersonal\": 1500.0}, {\"Distrito\": \"TARAPOTO\", \"Ingresos_Total\": 58782630.55, \"Gastos_Total\": 57760777.89, \"Personal_Limpieza\": 97, \"Residuos_Solidos\": 150000.0, \"Personal_Vigilancia\": 22, \"rate_GastosByIngresos\": 0.9826164183120247, \"rate_ResiduosByPersonal\": 1546.3917525773195}, {\"Distrito\": \"ALBERTO LEVEAU\", \"Ingresos_Total\": 989709.5, \"Gastos_Total\": 959150.56, \"Personal_Limpieza\": 1, \"Residuos_Solidos\": 500.0, \"Personal_Vigilancia\": 0, \"rate_GastosByIngresos\": 0.9691233235611056, \"rate_ResiduosByPersonal\": 500.0}, {\"Distrito\": \"LA BANDA DE SHILCAYO\", \"Ingresos_Total\": 17826089.77, \"Gastos_Total\": 17996093.67, \"Personal_Limpieza\": 9, \"Residuos_Solidos\": 33600.0, \"Personal_Vigilancia\": 0, \"rate_GastosByIngresos\": 1.009536802641155, \"rate_ResiduosByPersonal\": 3733.3333333333335}, {\"Distrito\": \"TOCACHE\", \"Ingresos_Total\": 37995575.52, \"Gastos_Total\": 33759042.31, \"Personal_Limpieza\": 28, \"Residuos_Solidos\": 28112.0, \"Personal_Vigilancia\": 13, \"rate_GastosByIngresos\": 0.8884993015102512, \"rate_ResiduosByPersonal\": 1004.0}, {\"Distrito\": \"POLVORA\", \"Ingresos_Total\": 8649430.96, \"Gastos_Total\": 8802484.13, \"Personal_Limpieza\": 2, \"Residuos_Solidos\": 450.0, \"Personal_Vigilancia\": 0, \"rate_GastosByIngresos\": 1.0176951721688752, \"rate_ResiduosByPersonal\": 225.0}, {\"Distrito\": \"UCHIZA\", \"Ingresos_Total\": 12192878.56, \"Gastos_Total\": 13031632.13, \"Personal_Limpieza\": 6, \"Residuos_Solidos\": 7000.0, \"Personal_Vigilancia\": 0, \"rate_GastosByIngresos\": 1.0687904472986074, \"rate_ResiduosByPersonal\": 1166.6666666666667}, {\"Distrito\": \"TACNA\", \"Ingresos_Total\": 159599304.68, \"Gastos_Total\": 114102809.28, \"Personal_Limpieza\": 33, \"Residuos_Solidos\": 102235.0, \"Personal_Vigilancia\": 0, \"rate_GastosByIngresos\": 0.7149329974136075, \"rate_ResiduosByPersonal\": 3098.030303030303}, {\"Distrito\": \"ALTO DE LA ALIANZA\", \"Ingresos_Total\": 48073373.72, \"Gastos_Total\": 29601274.71, \"Personal_Limpieza\": 7, \"Residuos_Solidos\": 26580.0, \"Personal_Vigilancia\": 0, \"rate_GastosByIngresos\": 0.6157519728573775, \"rate_ResiduosByPersonal\": 3797.1428571428573}, {\"Distrito\": \"CALANA\", \"Ingresos_Total\": 7035433.61, \"Gastos_Total\": 5500879.92, \"Personal_Limpieza\": 3, \"Residuos_Solidos\": 7110.0, \"Personal_Vigilancia\": 0, \"rate_GastosByIngresos\": 0.7818821447168769, \"rate_ResiduosByPersonal\": 2370.0}, {\"Distrito\": \"CIUDAD NUEVA\", \"Ingresos_Total\": 36516044.3, \"Gastos_Total\": 27418107.94, \"Personal_Limpieza\": 15, \"Residuos_Solidos\": 12500.0, \"Personal_Vigilancia\": 0, \"rate_GastosByIngresos\": 0.7508509879861222, \"rate_ResiduosByPersonal\": 833.3333333333334}, {\"Distrito\": \"INCLAN\", \"Ingresos_Total\": 16394861.83, \"Gastos_Total\": 11966908.09, \"Personal_Limpieza\": 5, \"Residuos_Solidos\": 720.0, \"Personal_Vigilancia\": 3, \"rate_GastosByIngresos\": 0.7299182032813752, \"rate_ResiduosByPersonal\": 144.0}, {\"Distrito\": \"PACHIA\", \"Ingresos_Total\": 7166852.33, \"Gastos_Total\": 5309376.75, \"Personal_Limpieza\": 5, \"Residuos_Solidos\": 450.0, \"Personal_Vigilancia\": 0, \"rate_GastosByIngresos\": 0.7408240752743401, \"rate_ResiduosByPersonal\": 90.0}, {\"Distrito\": \"POCOLLAY\", \"Ingresos_Total\": 28114047.86, \"Gastos_Total\": 25617777.79, \"Personal_Limpieza\": 3, \"Residuos_Solidos\": 15000.0, \"Personal_Vigilancia\": 0, \"rate_GastosByIngresos\": 0.911209154852737, \"rate_ResiduosByPersonal\": 5000.0}, {\"Distrito\": \"SAMA\", \"Ingresos_Total\": 15329327.96, \"Gastos_Total\": 9672078.5, \"Personal_Limpieza\": 1, \"Residuos_Solidos\": 700.0, \"Personal_Vigilancia\": 3, \"rate_GastosByIngresos\": 0.6309525456848534, \"rate_ResiduosByPersonal\": 700.0}, {\"Distrito\": \"CORONEL GREGORIO ALBARRACIN LANCHIPA\", \"Ingresos_Total\": 200995108.97, \"Gastos_Total\": 114845565.43, \"Personal_Limpieza\": 86, \"Residuos_Solidos\": 81222.0, \"Personal_Vigilancia\": 3, \"rate_GastosByIngresos\": 0.5713848760724897, \"rate_ResiduosByPersonal\": 944.4418604651163}, {\"Distrito\": \"LA YARADA LOS PALOS\", \"Ingresos_Total\": 28938387.08, \"Gastos_Total\": 19086127.7, \"Personal_Limpieza\": 1, \"Residuos_Solidos\": 3314.0, \"Personal_Vigilancia\": 0, \"rate_GastosByIngresos\": 0.6595435898772283, \"rate_ResiduosByPersonal\": 3314.0}, {\"Distrito\": \"TICACO\", \"Ingresos_Total\": 4168899.32, \"Gastos_Total\": 3881264.93, \"Personal_Limpieza\": 3, \"Residuos_Solidos\": 1550.0, \"Personal_Vigilancia\": 0, \"rate_GastosByIngresos\": 0.9310047166118659, \"rate_ResiduosByPersonal\": 516.6666666666666}, {\"Distrito\": \"TUMBES\", \"Ingresos_Total\": 100568235.67, \"Gastos_Total\": 86276322.85, \"Personal_Limpieza\": 290, \"Residuos_Solidos\": 90000.0, \"Personal_Vigilancia\": 0, \"rate_GastosByIngresos\": 0.8578884005990038, \"rate_ResiduosByPersonal\": 310.3448275862069}, {\"Distrito\": \"CORRALES\", \"Ingresos_Total\": 21047369.27, \"Gastos_Total\": 19769265.35, \"Personal_Limpieza\": 24, \"Residuos_Solidos\": 12000.0, \"Personal_Vigilancia\": 6, \"rate_GastosByIngresos\": 0.9392748849699829, \"rate_ResiduosByPersonal\": 500.0}, {\"Distrito\": \"LA CRUZ\", \"Ingresos_Total\": 4229483.28, \"Gastos_Total\": 4120589.59, \"Personal_Limpieza\": 5, \"Residuos_Solidos\": 2500.0, \"Personal_Vigilancia\": 11, \"rate_GastosByIngresos\": 0.974253665804774, \"rate_ResiduosByPersonal\": 500.0}, {\"Distrito\": \"PAMPAS DE HOSPITAL\", \"Ingresos_Total\": 4759070.92, \"Gastos_Total\": 3781285.54, \"Personal_Limpieza\": 17, \"Residuos_Solidos\": 3000.0, \"Personal_Vigilancia\": 0, \"rate_GastosByIngresos\": 0.7945428012238994, \"rate_ResiduosByPersonal\": 176.47058823529412}, {\"Distrito\": \"SAN JACINTO\", \"Ingresos_Total\": 9767262.5, \"Gastos_Total\": 8119504.29, \"Personal_Limpieza\": 11, \"Residuos_Solidos\": 5000.0, \"Personal_Vigilancia\": 0, \"rate_GastosByIngresos\": 0.8312978472729693, \"rate_ResiduosByPersonal\": 454.54545454545456}, {\"Distrito\": \"SAN JUAN DE LA VIRGEN\", \"Ingresos_Total\": 2155227.4, \"Gastos_Total\": 1743603.06, \"Personal_Limpieza\": 1, \"Residuos_Solidos\": 4000.0, \"Personal_Vigilancia\": 0, \"rate_GastosByIngresos\": 0.8090111790523822, \"rate_ResiduosByPersonal\": 4000.0}, {\"Distrito\": \"ZORRITOS\", \"Ingresos_Total\": 35261629.93, \"Gastos_Total\": 23903296.79, \"Personal_Limpieza\": 22, \"Residuos_Solidos\": 31000.0, \"Personal_Vigilancia\": 28, \"rate_GastosByIngresos\": 0.6778840580384935, \"rate_ResiduosByPersonal\": 1409.090909090909}, {\"Distrito\": \"CANOAS DE PUNTA SAL\", \"Ingresos_Total\": 32088159.82, \"Gastos_Total\": 14119507.58, \"Personal_Limpieza\": 5, \"Residuos_Solidos\": 6500.0, \"Personal_Vigilancia\": 0, \"rate_GastosByIngresos\": 0.4400223527682492, \"rate_ResiduosByPersonal\": 1300.0}, {\"Distrito\": \"ZARUMILLA\", \"Ingresos_Total\": 42872186.82, \"Gastos_Total\": 31005497.34, \"Personal_Limpieza\": 9, \"Residuos_Solidos\": 24000.0, \"Personal_Vigilancia\": 7, \"rate_GastosByIngresos\": 0.7232077400244917, \"rate_ResiduosByPersonal\": 2666.6666666666665}, {\"Distrito\": \"PAPAYAL\", \"Ingresos_Total\": 6945220.16, \"Gastos_Total\": 5315674.31, \"Personal_Limpieza\": 2, \"Residuos_Solidos\": 2500.0, \"Personal_Vigilancia\": 0, \"rate_GastosByIngresos\": 0.765371606304846, \"rate_ResiduosByPersonal\": 1250.0}, {\"Distrito\": \"CALLERIA\", \"Ingresos_Total\": 179874340.9, \"Gastos_Total\": 144880313.36, \"Personal_Limpieza\": 116, \"Residuos_Solidos\": 191000.0, \"Personal_Vigilancia\": 87, \"rate_GastosByIngresos\": 0.8054529213844086, \"rate_ResiduosByPersonal\": 1646.551724137931}, {\"Distrito\": \"CAMPOVERDE\", \"Ingresos_Total\": 21226786.84, \"Gastos_Total\": 26029948.55, \"Personal_Limpieza\": 12, \"Residuos_Solidos\": 15000.0, \"Personal_Vigilancia\": 5, \"rate_GastosByIngresos\": 1.2262783221127405, \"rate_ResiduosByPersonal\": 1250.0}, {\"Distrito\": \"YARINACOCHA\", \"Ingresos_Total\": 42923561.73, \"Gastos_Total\": 31549472.55, \"Personal_Limpieza\": 54, \"Residuos_Solidos\": 95000.0, \"Personal_Vigilancia\": 0, \"rate_GastosByIngresos\": 0.7350152521930524, \"rate_ResiduosByPersonal\": 1759.2592592592594}, {\"Distrito\": \"NUEVA REQUENA\", \"Ingresos_Total\": 5891285.76, \"Gastos_Total\": 5298413.27, \"Personal_Limpieza\": 2, \"Residuos_Solidos\": 3400.0, \"Personal_Vigilancia\": 0, \"rate_GastosByIngresos\": 0.8993644996775711, \"rate_ResiduosByPersonal\": 1700.0}, {\"Distrito\": \"MANANTAY\", \"Ingresos_Total\": 36907723.79, \"Gastos_Total\": 36287863.64, \"Personal_Limpieza\": 10, \"Residuos_Solidos\": 64000.0, \"Personal_Vigilancia\": 0, \"rate_GastosByIngresos\": 0.9832051373981522, \"rate_ResiduosByPersonal\": 6400.0}, {\"Distrito\": \"RAIMONDI\", \"Ingresos_Total\": 85248020.04, \"Gastos_Total\": 54378995.4, \"Personal_Limpieza\": 68, \"Residuos_Solidos\": 22158.0, \"Personal_Vigilancia\": 0, \"rate_GastosByIngresos\": 0.6378915941330289, \"rate_ResiduosByPersonal\": 325.8529411764706}, {\"Distrito\": \"SEPAHUA\", \"Ingresos_Total\": 17935427.79, \"Gastos_Total\": 15304550.24, \"Personal_Limpieza\": 1, \"Residuos_Solidos\": 3500.0, \"Personal_Vigilancia\": 0, \"rate_GastosByIngresos\": 0.8533139225445818, \"rate_ResiduosByPersonal\": 3500.0}, {\"Distrito\": \"CURIMANA\", \"Ingresos_Total\": 13139854.58, \"Gastos_Total\": 12214407.65, \"Personal_Limpieza\": 2, \"Residuos_Solidos\": 6000.0, \"Personal_Vigilancia\": 2, \"rate_GastosByIngresos\": 0.9295694694058022, \"rate_ResiduosByPersonal\": 3000.0}, {\"Distrito\": \"PURUS\", \"Ingresos_Total\": 8185867.56, \"Gastos_Total\": 7116701.83, \"Personal_Limpieza\": 7, \"Residuos_Solidos\": 350.0, \"Personal_Vigilancia\": 10, \"rate_GastosByIngresos\": 0.8693888311576837, \"rate_ResiduosByPersonal\": 50.0}]}}, {\"mode\": \"vega-lite\"});\n",
       "</script>"
      ],
      "text/plain": [
       "alt.LayerChart(...)"
      ]
     },
     "execution_count": 24,
     "metadata": {},
     "output_type": "execute_result"
    }
   ],
   "source": [
    "import altair as alt\n",
    "\n",
    "# Gráfico de puntos con tamaño ajustado\n",
    "points = alt.Chart(renamu).mark_point().encode(\n",
    "    x='rate_GastosByIngresos:Q',\n",
    "    y=alt.Y('rate_ResiduosByPersonal:Q', scale=alt.Scale(type='log')),  # Escala logarítmica en el eje Y\n",
    ").properties(\n",
    "    width=800,  # Ajusta el ancho del gráfico\n",
    "    height=600  # Ajusta la altura del gráfico\n",
    ")\n",
    "\n",
    "# Texto con tamaño de fuente reducido\n",
    "text = points.mark_text(\n",
    "    align='right',\n",
    "    baseline='middle',\n",
    "    dx=-7,\n",
    "    fontSize=8  # Ajusta el tamaño de la fuente aquí\n",
    ").encode(\n",
    "    text='Distrito:N'\n",
    ").interactive()\n",
    "\n",
    "# Se combina el gráfico de puntos y el texto\n",
    "points + text\n"
   ]
  },
  {
   "cell_type": "markdown",
   "id": "nUemBq0jYmWO",
   "metadata": {
    "id": "nUemBq0jYmWO"
   },
   "source": [
    "Which one is more efficient? As you see, one airline might not be good in both ratios:"
   ]
  },
  {
   "cell_type": "code",
   "execution_count": 25,
   "id": "CVN-I5IGWzpk",
   "metadata": {
    "colab": {
     "base_uri": "https://localhost:8080/",
     "height": 206
    },
    "id": "CVN-I5IGWzpk",
    "outputId": "76c8dc03-bf54-47da-eebe-277be1291a09"
   },
   "outputs": [
    {
     "data": {
      "application/vnd.google.colaboratory.intrinsic+json": {
       "summary": "{\n  \"name\": \"renamu[['Distrito','rate_GastosByIngresos','rate_ResiduosByPersonal']]\",\n  \"rows\": 5,\n  \"fields\": [\n    {\n      \"column\": \"Distrito\",\n      \"properties\": {\n        \"dtype\": \"string\",\n        \"num_unique_values\": 5,\n        \"samples\": [\n          \"LLAPA\",\n          \"CAPELO\",\n          \"VISCHONGO\"\n        ],\n        \"semantic_type\": \"\",\n        \"description\": \"\"\n      }\n    },\n    {\n      \"column\": \"rate_GastosByIngresos\",\n      \"properties\": {\n        \"dtype\": \"number\",\n        \"std\": 0.30361694372526915,\n        \"min\": 1.6195595154588174,\n        \"max\": 2.422192490924885,\n        \"num_unique_values\": 5,\n        \"samples\": [\n          2.162925283384482,\n          1.6195595154588174,\n          1.9709185057339123\n        ],\n        \"semantic_type\": \"\",\n        \"description\": \"\"\n      }\n    },\n    {\n      \"column\": \"rate_ResiduosByPersonal\",\n      \"properties\": {\n        \"dtype\": \"number\",\n        \"std\": 167.47304924142935,\n        \"min\": 33.333333333333336,\n        \"max\": 400.0,\n        \"num_unique_values\": 5,\n        \"samples\": [\n          33.333333333333336,\n          45.0,\n          400.0\n        ],\n        \"semantic_type\": \"\",\n        \"description\": \"\"\n      }\n    }\n  ]\n}",
       "type": "dataframe"
      },
      "text/html": [
       "\n",
       "  <div id=\"df-d543c37f-6cfd-4afd-891e-98ad243d7dd4\" class=\"colab-df-container\">\n",
       "    <div>\n",
       "<style scoped>\n",
       "    .dataframe tbody tr th:only-of-type {\n",
       "        vertical-align: middle;\n",
       "    }\n",
       "\n",
       "    .dataframe tbody tr th {\n",
       "        vertical-align: top;\n",
       "    }\n",
       "\n",
       "    .dataframe thead th {\n",
       "        text-align: right;\n",
       "    }\n",
       "</style>\n",
       "<table border=\"1\" class=\"dataframe\">\n",
       "  <thead>\n",
       "    <tr style=\"text-align: right;\">\n",
       "      <th></th>\n",
       "      <th>Distrito</th>\n",
       "      <th>rate_GastosByIngresos</th>\n",
       "      <th>rate_ResiduosByPersonal</th>\n",
       "    </tr>\n",
       "  </thead>\n",
       "  <tbody>\n",
       "    <tr>\n",
       "      <th>75</th>\n",
       "      <td>TOTORA</td>\n",
       "      <td>2.422192</td>\n",
       "      <td>80.000000</td>\n",
       "    </tr>\n",
       "    <tr>\n",
       "      <th>667</th>\n",
       "      <td>LLAPA</td>\n",
       "      <td>2.162925</td>\n",
       "      <td>33.333333</td>\n",
       "    </tr>\n",
       "    <tr>\n",
       "      <th>561</th>\n",
       "      <td>VISCHONGO</td>\n",
       "      <td>1.970919</td>\n",
       "      <td>400.000000</td>\n",
       "    </tr>\n",
       "    <tr>\n",
       "      <th>35</th>\n",
       "      <td>SAN CARLOS</td>\n",
       "      <td>1.863380</td>\n",
       "      <td>300.000000</td>\n",
       "    </tr>\n",
       "    <tr>\n",
       "      <th>1479</th>\n",
       "      <td>CAPELO</td>\n",
       "      <td>1.619560</td>\n",
       "      <td>45.000000</td>\n",
       "    </tr>\n",
       "  </tbody>\n",
       "</table>\n",
       "</div>\n",
       "    <div class=\"colab-df-buttons\">\n",
       "\n",
       "  <div class=\"colab-df-container\">\n",
       "    <button class=\"colab-df-convert\" onclick=\"convertToInteractive('df-d543c37f-6cfd-4afd-891e-98ad243d7dd4')\"\n",
       "            title=\"Convert this dataframe to an interactive table.\"\n",
       "            style=\"display:none;\">\n",
       "\n",
       "  <svg xmlns=\"http://www.w3.org/2000/svg\" height=\"24px\" viewBox=\"0 -960 960 960\">\n",
       "    <path d=\"M120-120v-720h720v720H120Zm60-500h600v-160H180v160Zm220 220h160v-160H400v160Zm0 220h160v-160H400v160ZM180-400h160v-160H180v160Zm440 0h160v-160H620v160ZM180-180h160v-160H180v160Zm440 0h160v-160H620v160Z\"/>\n",
       "  </svg>\n",
       "    </button>\n",
       "\n",
       "  <style>\n",
       "    .colab-df-container {\n",
       "      display:flex;\n",
       "      gap: 12px;\n",
       "    }\n",
       "\n",
       "    .colab-df-convert {\n",
       "      background-color: #E8F0FE;\n",
       "      border: none;\n",
       "      border-radius: 50%;\n",
       "      cursor: pointer;\n",
       "      display: none;\n",
       "      fill: #1967D2;\n",
       "      height: 32px;\n",
       "      padding: 0 0 0 0;\n",
       "      width: 32px;\n",
       "    }\n",
       "\n",
       "    .colab-df-convert:hover {\n",
       "      background-color: #E2EBFA;\n",
       "      box-shadow: 0px 1px 2px rgba(60, 64, 67, 0.3), 0px 1px 3px 1px rgba(60, 64, 67, 0.15);\n",
       "      fill: #174EA6;\n",
       "    }\n",
       "\n",
       "    .colab-df-buttons div {\n",
       "      margin-bottom: 4px;\n",
       "    }\n",
       "\n",
       "    [theme=dark] .colab-df-convert {\n",
       "      background-color: #3B4455;\n",
       "      fill: #D2E3FC;\n",
       "    }\n",
       "\n",
       "    [theme=dark] .colab-df-convert:hover {\n",
       "      background-color: #434B5C;\n",
       "      box-shadow: 0px 1px 3px 1px rgba(0, 0, 0, 0.15);\n",
       "      filter: drop-shadow(0px 1px 2px rgba(0, 0, 0, 0.3));\n",
       "      fill: #FFFFFF;\n",
       "    }\n",
       "  </style>\n",
       "\n",
       "    <script>\n",
       "      const buttonEl =\n",
       "        document.querySelector('#df-d543c37f-6cfd-4afd-891e-98ad243d7dd4 button.colab-df-convert');\n",
       "      buttonEl.style.display =\n",
       "        google.colab.kernel.accessAllowed ? 'block' : 'none';\n",
       "\n",
       "      async function convertToInteractive(key) {\n",
       "        const element = document.querySelector('#df-d543c37f-6cfd-4afd-891e-98ad243d7dd4');\n",
       "        const dataTable =\n",
       "          await google.colab.kernel.invokeFunction('convertToInteractive',\n",
       "                                                    [key], {});\n",
       "        if (!dataTable) return;\n",
       "\n",
       "        const docLinkHtml = 'Like what you see? Visit the ' +\n",
       "          '<a target=\"_blank\" href=https://colab.research.google.com/notebooks/data_table.ipynb>data table notebook</a>'\n",
       "          + ' to learn more about interactive tables.';\n",
       "        element.innerHTML = '';\n",
       "        dataTable['output_type'] = 'display_data';\n",
       "        await google.colab.output.renderOutput(dataTable, element);\n",
       "        const docLink = document.createElement('div');\n",
       "        docLink.innerHTML = docLinkHtml;\n",
       "        element.appendChild(docLink);\n",
       "      }\n",
       "    </script>\n",
       "  </div>\n",
       "\n",
       "\n",
       "<div id=\"df-a21cab19-1112-4636-b301-ba4c411080ae\">\n",
       "  <button class=\"colab-df-quickchart\" onclick=\"quickchart('df-a21cab19-1112-4636-b301-ba4c411080ae')\"\n",
       "            title=\"Suggest charts\"\n",
       "            style=\"display:none;\">\n",
       "\n",
       "<svg xmlns=\"http://www.w3.org/2000/svg\" height=\"24px\"viewBox=\"0 0 24 24\"\n",
       "     width=\"24px\">\n",
       "    <g>\n",
       "        <path d=\"M19 3H5c-1.1 0-2 .9-2 2v14c0 1.1.9 2 2 2h14c1.1 0 2-.9 2-2V5c0-1.1-.9-2-2-2zM9 17H7v-7h2v7zm4 0h-2V7h2v10zm4 0h-2v-4h2v4z\"/>\n",
       "    </g>\n",
       "</svg>\n",
       "  </button>\n",
       "\n",
       "<style>\n",
       "  .colab-df-quickchart {\n",
       "      --bg-color: #E8F0FE;\n",
       "      --fill-color: #1967D2;\n",
       "      --hover-bg-color: #E2EBFA;\n",
       "      --hover-fill-color: #174EA6;\n",
       "      --disabled-fill-color: #AAA;\n",
       "      --disabled-bg-color: #DDD;\n",
       "  }\n",
       "\n",
       "  [theme=dark] .colab-df-quickchart {\n",
       "      --bg-color: #3B4455;\n",
       "      --fill-color: #D2E3FC;\n",
       "      --hover-bg-color: #434B5C;\n",
       "      --hover-fill-color: #FFFFFF;\n",
       "      --disabled-bg-color: #3B4455;\n",
       "      --disabled-fill-color: #666;\n",
       "  }\n",
       "\n",
       "  .colab-df-quickchart {\n",
       "    background-color: var(--bg-color);\n",
       "    border: none;\n",
       "    border-radius: 50%;\n",
       "    cursor: pointer;\n",
       "    display: none;\n",
       "    fill: var(--fill-color);\n",
       "    height: 32px;\n",
       "    padding: 0;\n",
       "    width: 32px;\n",
       "  }\n",
       "\n",
       "  .colab-df-quickchart:hover {\n",
       "    background-color: var(--hover-bg-color);\n",
       "    box-shadow: 0 1px 2px rgba(60, 64, 67, 0.3), 0 1px 3px 1px rgba(60, 64, 67, 0.15);\n",
       "    fill: var(--button-hover-fill-color);\n",
       "  }\n",
       "\n",
       "  .colab-df-quickchart-complete:disabled,\n",
       "  .colab-df-quickchart-complete:disabled:hover {\n",
       "    background-color: var(--disabled-bg-color);\n",
       "    fill: var(--disabled-fill-color);\n",
       "    box-shadow: none;\n",
       "  }\n",
       "\n",
       "  .colab-df-spinner {\n",
       "    border: 2px solid var(--fill-color);\n",
       "    border-color: transparent;\n",
       "    border-bottom-color: var(--fill-color);\n",
       "    animation:\n",
       "      spin 1s steps(1) infinite;\n",
       "  }\n",
       "\n",
       "  @keyframes spin {\n",
       "    0% {\n",
       "      border-color: transparent;\n",
       "      border-bottom-color: var(--fill-color);\n",
       "      border-left-color: var(--fill-color);\n",
       "    }\n",
       "    20% {\n",
       "      border-color: transparent;\n",
       "      border-left-color: var(--fill-color);\n",
       "      border-top-color: var(--fill-color);\n",
       "    }\n",
       "    30% {\n",
       "      border-color: transparent;\n",
       "      border-left-color: var(--fill-color);\n",
       "      border-top-color: var(--fill-color);\n",
       "      border-right-color: var(--fill-color);\n",
       "    }\n",
       "    40% {\n",
       "      border-color: transparent;\n",
       "      border-right-color: var(--fill-color);\n",
       "      border-top-color: var(--fill-color);\n",
       "    }\n",
       "    60% {\n",
       "      border-color: transparent;\n",
       "      border-right-color: var(--fill-color);\n",
       "    }\n",
       "    80% {\n",
       "      border-color: transparent;\n",
       "      border-right-color: var(--fill-color);\n",
       "      border-bottom-color: var(--fill-color);\n",
       "    }\n",
       "    90% {\n",
       "      border-color: transparent;\n",
       "      border-bottom-color: var(--fill-color);\n",
       "    }\n",
       "  }\n",
       "</style>\n",
       "\n",
       "  <script>\n",
       "    async function quickchart(key) {\n",
       "      const quickchartButtonEl =\n",
       "        document.querySelector('#' + key + ' button');\n",
       "      quickchartButtonEl.disabled = true;  // To prevent multiple clicks.\n",
       "      quickchartButtonEl.classList.add('colab-df-spinner');\n",
       "      try {\n",
       "        const charts = await google.colab.kernel.invokeFunction(\n",
       "            'suggestCharts', [key], {});\n",
       "      } catch (error) {\n",
       "        console.error('Error during call to suggestCharts:', error);\n",
       "      }\n",
       "      quickchartButtonEl.classList.remove('colab-df-spinner');\n",
       "      quickchartButtonEl.classList.add('colab-df-quickchart-complete');\n",
       "    }\n",
       "    (() => {\n",
       "      let quickchartButtonEl =\n",
       "        document.querySelector('#df-a21cab19-1112-4636-b301-ba4c411080ae button');\n",
       "      quickchartButtonEl.style.display =\n",
       "        google.colab.kernel.accessAllowed ? 'block' : 'none';\n",
       "    })();\n",
       "  </script>\n",
       "</div>\n",
       "\n",
       "    </div>\n",
       "  </div>\n"
      ],
      "text/plain": [
       "        Distrito  rate_GastosByIngresos  rate_ResiduosByPersonal\n",
       "75        TOTORA               2.422192                80.000000\n",
       "667        LLAPA               2.162925                33.333333\n",
       "561    VISCHONGO               1.970919               400.000000\n",
       "35    SAN CARLOS               1.863380               300.000000\n",
       "1479      CAPELO               1.619560                45.000000"
      ]
     },
     "execution_count": 25,
     "metadata": {},
     "output_type": "execute_result"
    }
   ],
   "source": [
    "renamu[['Distrito','rate_GastosByIngresos','rate_ResiduosByPersonal']].sort_values(by='rate_GastosByIngresos',ascending=False).head()"
   ]
  },
  {
   "cell_type": "code",
   "execution_count": 26,
   "id": "5ZoTvSX9WznE",
   "metadata": {
    "colab": {
     "base_uri": "https://localhost:8080/",
     "height": 206
    },
    "id": "5ZoTvSX9WznE",
    "outputId": "b1147114-24e0-4316-8823-8fd0b9e8416e"
   },
   "outputs": [
    {
     "data": {
      "application/vnd.google.colaboratory.intrinsic+json": {
       "summary": "{\n  \"name\": \"renamu[['Distrito','rate_GastosByIngresos','rate_ResiduosByPersonal']]\",\n  \"rows\": 5,\n  \"fields\": [\n    {\n      \"column\": \"Distrito\",\n      \"properties\": {\n        \"dtype\": \"string\",\n        \"num_unique_values\": 5,\n        \"samples\": [\n          \"LA MOLINA\",\n          \"SAYLLA\",\n          \"EL ALTO\"\n        ],\n        \"semantic_type\": \"\",\n        \"description\": \"\"\n      }\n    },\n    {\n      \"column\": \"rate_GastosByIngresos\",\n      \"properties\": {\n        \"dtype\": \"number\",\n        \"std\": 0.18426091770110764,\n        \"min\": 0.46929702648856203,\n        \"max\": 0.968354840822066,\n        \"num_unique_values\": 5,\n        \"samples\": [\n          0.968354840822066,\n          0.6760134279229792,\n          0.7780606314663342\n        ],\n        \"semantic_type\": \"\",\n        \"description\": \"\"\n      }\n    },\n    {\n      \"column\": \"rate_ResiduosByPersonal\",\n      \"properties\": {\n        \"dtype\": \"number\",\n        \"std\": 22614.905587930727,\n        \"min\": 13900.0,\n        \"max\": 66789.0,\n        \"num_unique_values\": 5,\n        \"samples\": [\n          22571.428571428572,\n          13900.0,\n          16000.0\n        ],\n        \"semantic_type\": \"\",\n        \"description\": \"\"\n      }\n    }\n  ]\n}",
       "type": "dataframe"
      },
      "text/html": [
       "\n",
       "  <div id=\"df-ddf855f3-33de-4ebf-9990-01e39107dc54\" class=\"colab-df-container\">\n",
       "    <div>\n",
       "<style scoped>\n",
       "    .dataframe tbody tr th:only-of-type {\n",
       "        vertical-align: middle;\n",
       "    }\n",
       "\n",
       "    .dataframe tbody tr th {\n",
       "        vertical-align: top;\n",
       "    }\n",
       "\n",
       "    .dataframe thead th {\n",
       "        text-align: right;\n",
       "    }\n",
       "</style>\n",
       "<table border=\"1\" class=\"dataframe\">\n",
       "  <thead>\n",
       "    <tr style=\"text-align: right;\">\n",
       "      <th></th>\n",
       "      <th>Distrito</th>\n",
       "      <th>rate_GastosByIngresos</th>\n",
       "      <th>rate_ResiduosByPersonal</th>\n",
       "    </tr>\n",
       "  </thead>\n",
       "  <tbody>\n",
       "    <tr>\n",
       "      <th>1295</th>\n",
       "      <td>LINCE</td>\n",
       "      <td>0.809568</td>\n",
       "      <td>66789.000000</td>\n",
       "    </tr>\n",
       "    <tr>\n",
       "      <th>1293</th>\n",
       "      <td>LA MOLINA</td>\n",
       "      <td>0.968355</td>\n",
       "      <td>22571.428571</td>\n",
       "    </tr>\n",
       "    <tr>\n",
       "      <th>1618</th>\n",
       "      <td>EL ALTO</td>\n",
       "      <td>0.778061</td>\n",
       "      <td>16000.000000</td>\n",
       "    </tr>\n",
       "    <tr>\n",
       "      <th>1020</th>\n",
       "      <td>MARCONA</td>\n",
       "      <td>0.469297</td>\n",
       "      <td>14730.000000</td>\n",
       "    </tr>\n",
       "    <tr>\n",
       "      <th>702</th>\n",
       "      <td>SAYLLA</td>\n",
       "      <td>0.676013</td>\n",
       "      <td>13900.000000</td>\n",
       "    </tr>\n",
       "  </tbody>\n",
       "</table>\n",
       "</div>\n",
       "    <div class=\"colab-df-buttons\">\n",
       "\n",
       "  <div class=\"colab-df-container\">\n",
       "    <button class=\"colab-df-convert\" onclick=\"convertToInteractive('df-ddf855f3-33de-4ebf-9990-01e39107dc54')\"\n",
       "            title=\"Convert this dataframe to an interactive table.\"\n",
       "            style=\"display:none;\">\n",
       "\n",
       "  <svg xmlns=\"http://www.w3.org/2000/svg\" height=\"24px\" viewBox=\"0 -960 960 960\">\n",
       "    <path d=\"M120-120v-720h720v720H120Zm60-500h600v-160H180v160Zm220 220h160v-160H400v160Zm0 220h160v-160H400v160ZM180-400h160v-160H180v160Zm440 0h160v-160H620v160ZM180-180h160v-160H180v160Zm440 0h160v-160H620v160Z\"/>\n",
       "  </svg>\n",
       "    </button>\n",
       "\n",
       "  <style>\n",
       "    .colab-df-container {\n",
       "      display:flex;\n",
       "      gap: 12px;\n",
       "    }\n",
       "\n",
       "    .colab-df-convert {\n",
       "      background-color: #E8F0FE;\n",
       "      border: none;\n",
       "      border-radius: 50%;\n",
       "      cursor: pointer;\n",
       "      display: none;\n",
       "      fill: #1967D2;\n",
       "      height: 32px;\n",
       "      padding: 0 0 0 0;\n",
       "      width: 32px;\n",
       "    }\n",
       "\n",
       "    .colab-df-convert:hover {\n",
       "      background-color: #E2EBFA;\n",
       "      box-shadow: 0px 1px 2px rgba(60, 64, 67, 0.3), 0px 1px 3px 1px rgba(60, 64, 67, 0.15);\n",
       "      fill: #174EA6;\n",
       "    }\n",
       "\n",
       "    .colab-df-buttons div {\n",
       "      margin-bottom: 4px;\n",
       "    }\n",
       "\n",
       "    [theme=dark] .colab-df-convert {\n",
       "      background-color: #3B4455;\n",
       "      fill: #D2E3FC;\n",
       "    }\n",
       "\n",
       "    [theme=dark] .colab-df-convert:hover {\n",
       "      background-color: #434B5C;\n",
       "      box-shadow: 0px 1px 3px 1px rgba(0, 0, 0, 0.15);\n",
       "      filter: drop-shadow(0px 1px 2px rgba(0, 0, 0, 0.3));\n",
       "      fill: #FFFFFF;\n",
       "    }\n",
       "  </style>\n",
       "\n",
       "    <script>\n",
       "      const buttonEl =\n",
       "        document.querySelector('#df-ddf855f3-33de-4ebf-9990-01e39107dc54 button.colab-df-convert');\n",
       "      buttonEl.style.display =\n",
       "        google.colab.kernel.accessAllowed ? 'block' : 'none';\n",
       "\n",
       "      async function convertToInteractive(key) {\n",
       "        const element = document.querySelector('#df-ddf855f3-33de-4ebf-9990-01e39107dc54');\n",
       "        const dataTable =\n",
       "          await google.colab.kernel.invokeFunction('convertToInteractive',\n",
       "                                                    [key], {});\n",
       "        if (!dataTable) return;\n",
       "\n",
       "        const docLinkHtml = 'Like what you see? Visit the ' +\n",
       "          '<a target=\"_blank\" href=https://colab.research.google.com/notebooks/data_table.ipynb>data table notebook</a>'\n",
       "          + ' to learn more about interactive tables.';\n",
       "        element.innerHTML = '';\n",
       "        dataTable['output_type'] = 'display_data';\n",
       "        await google.colab.output.renderOutput(dataTable, element);\n",
       "        const docLink = document.createElement('div');\n",
       "        docLink.innerHTML = docLinkHtml;\n",
       "        element.appendChild(docLink);\n",
       "      }\n",
       "    </script>\n",
       "  </div>\n",
       "\n",
       "\n",
       "<div id=\"df-f61117ba-5c9d-4b46-9fd4-3a77bc0d06aa\">\n",
       "  <button class=\"colab-df-quickchart\" onclick=\"quickchart('df-f61117ba-5c9d-4b46-9fd4-3a77bc0d06aa')\"\n",
       "            title=\"Suggest charts\"\n",
       "            style=\"display:none;\">\n",
       "\n",
       "<svg xmlns=\"http://www.w3.org/2000/svg\" height=\"24px\"viewBox=\"0 0 24 24\"\n",
       "     width=\"24px\">\n",
       "    <g>\n",
       "        <path d=\"M19 3H5c-1.1 0-2 .9-2 2v14c0 1.1.9 2 2 2h14c1.1 0 2-.9 2-2V5c0-1.1-.9-2-2-2zM9 17H7v-7h2v7zm4 0h-2V7h2v10zm4 0h-2v-4h2v4z\"/>\n",
       "    </g>\n",
       "</svg>\n",
       "  </button>\n",
       "\n",
       "<style>\n",
       "  .colab-df-quickchart {\n",
       "      --bg-color: #E8F0FE;\n",
       "      --fill-color: #1967D2;\n",
       "      --hover-bg-color: #E2EBFA;\n",
       "      --hover-fill-color: #174EA6;\n",
       "      --disabled-fill-color: #AAA;\n",
       "      --disabled-bg-color: #DDD;\n",
       "  }\n",
       "\n",
       "  [theme=dark] .colab-df-quickchart {\n",
       "      --bg-color: #3B4455;\n",
       "      --fill-color: #D2E3FC;\n",
       "      --hover-bg-color: #434B5C;\n",
       "      --hover-fill-color: #FFFFFF;\n",
       "      --disabled-bg-color: #3B4455;\n",
       "      --disabled-fill-color: #666;\n",
       "  }\n",
       "\n",
       "  .colab-df-quickchart {\n",
       "    background-color: var(--bg-color);\n",
       "    border: none;\n",
       "    border-radius: 50%;\n",
       "    cursor: pointer;\n",
       "    display: none;\n",
       "    fill: var(--fill-color);\n",
       "    height: 32px;\n",
       "    padding: 0;\n",
       "    width: 32px;\n",
       "  }\n",
       "\n",
       "  .colab-df-quickchart:hover {\n",
       "    background-color: var(--hover-bg-color);\n",
       "    box-shadow: 0 1px 2px rgba(60, 64, 67, 0.3), 0 1px 3px 1px rgba(60, 64, 67, 0.15);\n",
       "    fill: var(--button-hover-fill-color);\n",
       "  }\n",
       "\n",
       "  .colab-df-quickchart-complete:disabled,\n",
       "  .colab-df-quickchart-complete:disabled:hover {\n",
       "    background-color: var(--disabled-bg-color);\n",
       "    fill: var(--disabled-fill-color);\n",
       "    box-shadow: none;\n",
       "  }\n",
       "\n",
       "  .colab-df-spinner {\n",
       "    border: 2px solid var(--fill-color);\n",
       "    border-color: transparent;\n",
       "    border-bottom-color: var(--fill-color);\n",
       "    animation:\n",
       "      spin 1s steps(1) infinite;\n",
       "  }\n",
       "\n",
       "  @keyframes spin {\n",
       "    0% {\n",
       "      border-color: transparent;\n",
       "      border-bottom-color: var(--fill-color);\n",
       "      border-left-color: var(--fill-color);\n",
       "    }\n",
       "    20% {\n",
       "      border-color: transparent;\n",
       "      border-left-color: var(--fill-color);\n",
       "      border-top-color: var(--fill-color);\n",
       "    }\n",
       "    30% {\n",
       "      border-color: transparent;\n",
       "      border-left-color: var(--fill-color);\n",
       "      border-top-color: var(--fill-color);\n",
       "      border-right-color: var(--fill-color);\n",
       "    }\n",
       "    40% {\n",
       "      border-color: transparent;\n",
       "      border-right-color: var(--fill-color);\n",
       "      border-top-color: var(--fill-color);\n",
       "    }\n",
       "    60% {\n",
       "      border-color: transparent;\n",
       "      border-right-color: var(--fill-color);\n",
       "    }\n",
       "    80% {\n",
       "      border-color: transparent;\n",
       "      border-right-color: var(--fill-color);\n",
       "      border-bottom-color: var(--fill-color);\n",
       "    }\n",
       "    90% {\n",
       "      border-color: transparent;\n",
       "      border-bottom-color: var(--fill-color);\n",
       "    }\n",
       "  }\n",
       "</style>\n",
       "\n",
       "  <script>\n",
       "    async function quickchart(key) {\n",
       "      const quickchartButtonEl =\n",
       "        document.querySelector('#' + key + ' button');\n",
       "      quickchartButtonEl.disabled = true;  // To prevent multiple clicks.\n",
       "      quickchartButtonEl.classList.add('colab-df-spinner');\n",
       "      try {\n",
       "        const charts = await google.colab.kernel.invokeFunction(\n",
       "            'suggestCharts', [key], {});\n",
       "      } catch (error) {\n",
       "        console.error('Error during call to suggestCharts:', error);\n",
       "      }\n",
       "      quickchartButtonEl.classList.remove('colab-df-spinner');\n",
       "      quickchartButtonEl.classList.add('colab-df-quickchart-complete');\n",
       "    }\n",
       "    (() => {\n",
       "      let quickchartButtonEl =\n",
       "        document.querySelector('#df-f61117ba-5c9d-4b46-9fd4-3a77bc0d06aa button');\n",
       "      quickchartButtonEl.style.display =\n",
       "        google.colab.kernel.accessAllowed ? 'block' : 'none';\n",
       "    })();\n",
       "  </script>\n",
       "</div>\n",
       "\n",
       "    </div>\n",
       "  </div>\n"
      ],
      "text/plain": [
       "       Distrito  rate_GastosByIngresos  rate_ResiduosByPersonal\n",
       "1295      LINCE               0.809568             66789.000000\n",
       "1293  LA MOLINA               0.968355             22571.428571\n",
       "1618    EL ALTO               0.778061             16000.000000\n",
       "1020    MARCONA               0.469297             14730.000000\n",
       "702      SAYLLA               0.676013             13900.000000"
      ]
     },
     "execution_count": 26,
     "metadata": {},
     "output_type": "execute_result"
    }
   ],
   "source": [
    "renamu[['Distrito','rate_GastosByIngresos','rate_ResiduosByPersonal']].sort_values(by='rate_ResiduosByPersonal',ascending=False).head()"
   ]
  },
  {
   "cell_type": "markdown",
   "id": "wHNEuXAfYrgm",
   "metadata": {
    "id": "wHNEuXAfYrgm"
   },
   "source": [
    "Let me show you the **envelope**:"
   ]
  },
  {
   "cell_type": "code",
   "execution_count": 27,
   "id": "h0MEa7xaWzk-",
   "metadata": {
    "colab": {
     "base_uri": "https://localhost:8080/",
     "height": 175
    },
    "id": "h0MEa7xaWzk-",
    "outputId": "aceac97c-a0fc-4d32-88b6-80f1f3d66b39"
   },
   "outputs": [
    {
     "data": {
      "application/vnd.google.colaboratory.intrinsic+json": {
       "summary": "{\n  \"name\": \"envelope\",\n  \"rows\": 4,\n  \"fields\": [\n    {\n      \"column\": \"x\",\n      \"properties\": {\n        \"dtype\": \"number\",\n        \"std\": 1.2107348731764196,\n        \"min\": 0.0,\n        \"max\": 2.422192490924885,\n        \"num_unique_values\": 3,\n        \"samples\": [\n          0.0,\n          0.8095683255325037,\n          2.422192490924885\n        ],\n        \"semantic_type\": \"\",\n        \"description\": \"\"\n      }\n    },\n    {\n      \"column\": \"y\",\n      \"properties\": {\n        \"dtype\": \"number\",\n        \"std\": 38537.56695745075,\n        \"min\": 0.0,\n        \"max\": 66789.0,\n        \"num_unique_values\": 3,\n        \"samples\": [\n          66789.0,\n          80.0,\n          0.0\n        ],\n        \"semantic_type\": \"\",\n        \"description\": \"\"\n      }\n    }\n  ]\n}",
       "type": "dataframe",
       "variable_name": "envelope"
      },
      "text/html": [
       "\n",
       "  <div id=\"df-3459a5a6-6140-4cb9-add3-ae7fb80c5d2c\" class=\"colab-df-container\">\n",
       "    <div>\n",
       "<style scoped>\n",
       "    .dataframe tbody tr th:only-of-type {\n",
       "        vertical-align: middle;\n",
       "    }\n",
       "\n",
       "    .dataframe tbody tr th {\n",
       "        vertical-align: top;\n",
       "    }\n",
       "\n",
       "    .dataframe thead th {\n",
       "        text-align: right;\n",
       "    }\n",
       "</style>\n",
       "<table border=\"1\" class=\"dataframe\">\n",
       "  <thead>\n",
       "    <tr style=\"text-align: right;\">\n",
       "      <th></th>\n",
       "      <th>x</th>\n",
       "      <th>y</th>\n",
       "    </tr>\n",
       "  </thead>\n",
       "  <tbody>\n",
       "    <tr>\n",
       "      <th>0</th>\n",
       "      <td>0.000000</td>\n",
       "      <td>66789.0</td>\n",
       "    </tr>\n",
       "    <tr>\n",
       "      <th>1</th>\n",
       "      <td>0.809568</td>\n",
       "      <td>66789.0</td>\n",
       "    </tr>\n",
       "    <tr>\n",
       "      <th>2</th>\n",
       "      <td>2.422192</td>\n",
       "      <td>80.0</td>\n",
       "    </tr>\n",
       "    <tr>\n",
       "      <th>3</th>\n",
       "      <td>2.422192</td>\n",
       "      <td>0.0</td>\n",
       "    </tr>\n",
       "  </tbody>\n",
       "</table>\n",
       "</div>\n",
       "    <div class=\"colab-df-buttons\">\n",
       "\n",
       "  <div class=\"colab-df-container\">\n",
       "    <button class=\"colab-df-convert\" onclick=\"convertToInteractive('df-3459a5a6-6140-4cb9-add3-ae7fb80c5d2c')\"\n",
       "            title=\"Convert this dataframe to an interactive table.\"\n",
       "            style=\"display:none;\">\n",
       "\n",
       "  <svg xmlns=\"http://www.w3.org/2000/svg\" height=\"24px\" viewBox=\"0 -960 960 960\">\n",
       "    <path d=\"M120-120v-720h720v720H120Zm60-500h600v-160H180v160Zm220 220h160v-160H400v160Zm0 220h160v-160H400v160ZM180-400h160v-160H180v160Zm440 0h160v-160H620v160ZM180-180h160v-160H180v160Zm440 0h160v-160H620v160Z\"/>\n",
       "  </svg>\n",
       "    </button>\n",
       "\n",
       "  <style>\n",
       "    .colab-df-container {\n",
       "      display:flex;\n",
       "      gap: 12px;\n",
       "    }\n",
       "\n",
       "    .colab-df-convert {\n",
       "      background-color: #E8F0FE;\n",
       "      border: none;\n",
       "      border-radius: 50%;\n",
       "      cursor: pointer;\n",
       "      display: none;\n",
       "      fill: #1967D2;\n",
       "      height: 32px;\n",
       "      padding: 0 0 0 0;\n",
       "      width: 32px;\n",
       "    }\n",
       "\n",
       "    .colab-df-convert:hover {\n",
       "      background-color: #E2EBFA;\n",
       "      box-shadow: 0px 1px 2px rgba(60, 64, 67, 0.3), 0px 1px 3px 1px rgba(60, 64, 67, 0.15);\n",
       "      fill: #174EA6;\n",
       "    }\n",
       "\n",
       "    .colab-df-buttons div {\n",
       "      margin-bottom: 4px;\n",
       "    }\n",
       "\n",
       "    [theme=dark] .colab-df-convert {\n",
       "      background-color: #3B4455;\n",
       "      fill: #D2E3FC;\n",
       "    }\n",
       "\n",
       "    [theme=dark] .colab-df-convert:hover {\n",
       "      background-color: #434B5C;\n",
       "      box-shadow: 0px 1px 3px 1px rgba(0, 0, 0, 0.15);\n",
       "      filter: drop-shadow(0px 1px 2px rgba(0, 0, 0, 0.3));\n",
       "      fill: #FFFFFF;\n",
       "    }\n",
       "  </style>\n",
       "\n",
       "    <script>\n",
       "      const buttonEl =\n",
       "        document.querySelector('#df-3459a5a6-6140-4cb9-add3-ae7fb80c5d2c button.colab-df-convert');\n",
       "      buttonEl.style.display =\n",
       "        google.colab.kernel.accessAllowed ? 'block' : 'none';\n",
       "\n",
       "      async function convertToInteractive(key) {\n",
       "        const element = document.querySelector('#df-3459a5a6-6140-4cb9-add3-ae7fb80c5d2c');\n",
       "        const dataTable =\n",
       "          await google.colab.kernel.invokeFunction('convertToInteractive',\n",
       "                                                    [key], {});\n",
       "        if (!dataTable) return;\n",
       "\n",
       "        const docLinkHtml = 'Like what you see? Visit the ' +\n",
       "          '<a target=\"_blank\" href=https://colab.research.google.com/notebooks/data_table.ipynb>data table notebook</a>'\n",
       "          + ' to learn more about interactive tables.';\n",
       "        element.innerHTML = '';\n",
       "        dataTable['output_type'] = 'display_data';\n",
       "        await google.colab.output.renderOutput(dataTable, element);\n",
       "        const docLink = document.createElement('div');\n",
       "        docLink.innerHTML = docLinkHtml;\n",
       "        element.appendChild(docLink);\n",
       "      }\n",
       "    </script>\n",
       "  </div>\n",
       "\n",
       "\n",
       "<div id=\"df-4907c7dc-a8d1-4dc7-8b96-8578c079e088\">\n",
       "  <button class=\"colab-df-quickchart\" onclick=\"quickchart('df-4907c7dc-a8d1-4dc7-8b96-8578c079e088')\"\n",
       "            title=\"Suggest charts\"\n",
       "            style=\"display:none;\">\n",
       "\n",
       "<svg xmlns=\"http://www.w3.org/2000/svg\" height=\"24px\"viewBox=\"0 0 24 24\"\n",
       "     width=\"24px\">\n",
       "    <g>\n",
       "        <path d=\"M19 3H5c-1.1 0-2 .9-2 2v14c0 1.1.9 2 2 2h14c1.1 0 2-.9 2-2V5c0-1.1-.9-2-2-2zM9 17H7v-7h2v7zm4 0h-2V7h2v10zm4 0h-2v-4h2v4z\"/>\n",
       "    </g>\n",
       "</svg>\n",
       "  </button>\n",
       "\n",
       "<style>\n",
       "  .colab-df-quickchart {\n",
       "      --bg-color: #E8F0FE;\n",
       "      --fill-color: #1967D2;\n",
       "      --hover-bg-color: #E2EBFA;\n",
       "      --hover-fill-color: #174EA6;\n",
       "      --disabled-fill-color: #AAA;\n",
       "      --disabled-bg-color: #DDD;\n",
       "  }\n",
       "\n",
       "  [theme=dark] .colab-df-quickchart {\n",
       "      --bg-color: #3B4455;\n",
       "      --fill-color: #D2E3FC;\n",
       "      --hover-bg-color: #434B5C;\n",
       "      --hover-fill-color: #FFFFFF;\n",
       "      --disabled-bg-color: #3B4455;\n",
       "      --disabled-fill-color: #666;\n",
       "  }\n",
       "\n",
       "  .colab-df-quickchart {\n",
       "    background-color: var(--bg-color);\n",
       "    border: none;\n",
       "    border-radius: 50%;\n",
       "    cursor: pointer;\n",
       "    display: none;\n",
       "    fill: var(--fill-color);\n",
       "    height: 32px;\n",
       "    padding: 0;\n",
       "    width: 32px;\n",
       "  }\n",
       "\n",
       "  .colab-df-quickchart:hover {\n",
       "    background-color: var(--hover-bg-color);\n",
       "    box-shadow: 0 1px 2px rgba(60, 64, 67, 0.3), 0 1px 3px 1px rgba(60, 64, 67, 0.15);\n",
       "    fill: var(--button-hover-fill-color);\n",
       "  }\n",
       "\n",
       "  .colab-df-quickchart-complete:disabled,\n",
       "  .colab-df-quickchart-complete:disabled:hover {\n",
       "    background-color: var(--disabled-bg-color);\n",
       "    fill: var(--disabled-fill-color);\n",
       "    box-shadow: none;\n",
       "  }\n",
       "\n",
       "  .colab-df-spinner {\n",
       "    border: 2px solid var(--fill-color);\n",
       "    border-color: transparent;\n",
       "    border-bottom-color: var(--fill-color);\n",
       "    animation:\n",
       "      spin 1s steps(1) infinite;\n",
       "  }\n",
       "\n",
       "  @keyframes spin {\n",
       "    0% {\n",
       "      border-color: transparent;\n",
       "      border-bottom-color: var(--fill-color);\n",
       "      border-left-color: var(--fill-color);\n",
       "    }\n",
       "    20% {\n",
       "      border-color: transparent;\n",
       "      border-left-color: var(--fill-color);\n",
       "      border-top-color: var(--fill-color);\n",
       "    }\n",
       "    30% {\n",
       "      border-color: transparent;\n",
       "      border-left-color: var(--fill-color);\n",
       "      border-top-color: var(--fill-color);\n",
       "      border-right-color: var(--fill-color);\n",
       "    }\n",
       "    40% {\n",
       "      border-color: transparent;\n",
       "      border-right-color: var(--fill-color);\n",
       "      border-top-color: var(--fill-color);\n",
       "    }\n",
       "    60% {\n",
       "      border-color: transparent;\n",
       "      border-right-color: var(--fill-color);\n",
       "    }\n",
       "    80% {\n",
       "      border-color: transparent;\n",
       "      border-right-color: var(--fill-color);\n",
       "      border-bottom-color: var(--fill-color);\n",
       "    }\n",
       "    90% {\n",
       "      border-color: transparent;\n",
       "      border-bottom-color: var(--fill-color);\n",
       "    }\n",
       "  }\n",
       "</style>\n",
       "\n",
       "  <script>\n",
       "    async function quickchart(key) {\n",
       "      const quickchartButtonEl =\n",
       "        document.querySelector('#' + key + ' button');\n",
       "      quickchartButtonEl.disabled = true;  // To prevent multiple clicks.\n",
       "      quickchartButtonEl.classList.add('colab-df-spinner');\n",
       "      try {\n",
       "        const charts = await google.colab.kernel.invokeFunction(\n",
       "            'suggestCharts', [key], {});\n",
       "      } catch (error) {\n",
       "        console.error('Error during call to suggestCharts:', error);\n",
       "      }\n",
       "      quickchartButtonEl.classList.remove('colab-df-spinner');\n",
       "      quickchartButtonEl.classList.add('colab-df-quickchart-complete');\n",
       "    }\n",
       "    (() => {\n",
       "      let quickchartButtonEl =\n",
       "        document.querySelector('#df-4907c7dc-a8d1-4dc7-8b96-8578c079e088 button');\n",
       "      quickchartButtonEl.style.display =\n",
       "        google.colab.kernel.accessAllowed ? 'block' : 'none';\n",
       "    })();\n",
       "  </script>\n",
       "</div>\n",
       "\n",
       "  <div id=\"id_5bab24b7-61bc-423e-b880-1306ba226f5f\">\n",
       "    <style>\n",
       "      .colab-df-generate {\n",
       "        background-color: #E8F0FE;\n",
       "        border: none;\n",
       "        border-radius: 50%;\n",
       "        cursor: pointer;\n",
       "        display: none;\n",
       "        fill: #1967D2;\n",
       "        height: 32px;\n",
       "        padding: 0 0 0 0;\n",
       "        width: 32px;\n",
       "      }\n",
       "\n",
       "      .colab-df-generate:hover {\n",
       "        background-color: #E2EBFA;\n",
       "        box-shadow: 0px 1px 2px rgba(60, 64, 67, 0.3), 0px 1px 3px 1px rgba(60, 64, 67, 0.15);\n",
       "        fill: #174EA6;\n",
       "      }\n",
       "\n",
       "      [theme=dark] .colab-df-generate {\n",
       "        background-color: #3B4455;\n",
       "        fill: #D2E3FC;\n",
       "      }\n",
       "\n",
       "      [theme=dark] .colab-df-generate:hover {\n",
       "        background-color: #434B5C;\n",
       "        box-shadow: 0px 1px 3px 1px rgba(0, 0, 0, 0.15);\n",
       "        filter: drop-shadow(0px 1px 2px rgba(0, 0, 0, 0.3));\n",
       "        fill: #FFFFFF;\n",
       "      }\n",
       "    </style>\n",
       "    <button class=\"colab-df-generate\" onclick=\"generateWithVariable('envelope')\"\n",
       "            title=\"Generate code using this dataframe.\"\n",
       "            style=\"display:none;\">\n",
       "\n",
       "  <svg xmlns=\"http://www.w3.org/2000/svg\" height=\"24px\"viewBox=\"0 0 24 24\"\n",
       "       width=\"24px\">\n",
       "    <path d=\"M7,19H8.4L18.45,9,17,7.55,7,17.6ZM5,21V16.75L18.45,3.32a2,2,0,0,1,2.83,0l1.4,1.43a1.91,1.91,0,0,1,.58,1.4,1.91,1.91,0,0,1-.58,1.4L9.25,21ZM18.45,9,17,7.55Zm-12,3A5.31,5.31,0,0,0,4.9,8.1,5.31,5.31,0,0,0,1,6.5,5.31,5.31,0,0,0,4.9,4.9,5.31,5.31,0,0,0,6.5,1,5.31,5.31,0,0,0,8.1,4.9,5.31,5.31,0,0,0,12,6.5,5.46,5.46,0,0,0,6.5,12Z\"/>\n",
       "  </svg>\n",
       "    </button>\n",
       "    <script>\n",
       "      (() => {\n",
       "      const buttonEl =\n",
       "        document.querySelector('#id_5bab24b7-61bc-423e-b880-1306ba226f5f button.colab-df-generate');\n",
       "      buttonEl.style.display =\n",
       "        google.colab.kernel.accessAllowed ? 'block' : 'none';\n",
       "\n",
       "      buttonEl.onclick = () => {\n",
       "        google.colab.notebook.generateWithVariable('envelope');\n",
       "      }\n",
       "      })();\n",
       "    </script>\n",
       "  </div>\n",
       "\n",
       "    </div>\n",
       "  </div>\n"
      ],
      "text/plain": [
       "          x        y\n",
       "0  0.000000  66789.0\n",
       "1  0.809568  66789.0\n",
       "2  2.422192     80.0\n",
       "3  2.422192      0.0"
      ]
     },
     "execution_count": 27,
     "metadata": {},
     "output_type": "execute_result"
    }
   ],
   "source": [
    "Best_GastosByIngresos=renamu.rate_GastosByIngresos.idxmax()\n",
    "Best_ResiduosByPersonal=renamu.rate_ResiduosByPersonal.idxmax()\n",
    "\n",
    "frontier1=renamu.loc[Best_GastosByIngresos,['rate_GastosByIngresos','rate_ResiduosByPersonal']].to_list()\n",
    "frontier2=renamu.loc[Best_ResiduosByPersonal,['rate_GastosByIngresos','rate_ResiduosByPersonal']].to_list()\n",
    "\n",
    "# Fronteras paralelas\n",
    "frontier1v = [frontier1[0], 0]\n",
    "frontier2h = [0, frontier2[1]]\n",
    "\n",
    "#then\n",
    "envelope = pd.DataFrame([frontier2h, frontier2, frontier1, frontier1v], columns=['x', 'y'])\n",
    "envelope"
   ]
  },
  {
   "cell_type": "markdown",
   "id": "iFwB1IXHYvVd",
   "metadata": {
    "id": "iFwB1IXHYvVd"
   },
   "source": [
    "Updating the plot:"
   ]
  },
  {
   "cell_type": "code",
   "execution_count": 33,
   "id": "WJljNhRmWziS",
   "metadata": {
    "colab": {
     "base_uri": "https://localhost:8080/",
     "height": 718
    },
    "id": "WJljNhRmWziS",
    "outputId": "88e2d4ae-613c-4e9a-d42b-11932b6f865b"
   },
   "outputs": [
    {
     "name": "stderr",
     "output_type": "stream",
     "text": [
      "/usr/local/lib/python3.10/dist-packages/altair/utils/core.py:384: FutureWarning: the convert_dtype parameter is deprecated and will be removed in a future version.  Do ``ser.astype(object).apply()`` instead if you want ``convert_dtype=False``.\n",
      "  col = df[col_name].apply(to_list_if_array, convert_dtype=False)\n"
     ]
    },
    {
     "data": {
      "text/html": [
       "\n",
       "<div id=\"altair-viz-f1f6bb8519194f5185b551497028e86b\"></div>\n",
       "<script type=\"text/javascript\">\n",
       "  var VEGA_DEBUG = (typeof VEGA_DEBUG == \"undefined\") ? {} : VEGA_DEBUG;\n",
       "  (function(spec, embedOpt){\n",
       "    let outputDiv = document.currentScript.previousElementSibling;\n",
       "    if (outputDiv.id !== \"altair-viz-f1f6bb8519194f5185b551497028e86b\") {\n",
       "      outputDiv = document.getElementById(\"altair-viz-f1f6bb8519194f5185b551497028e86b\");\n",
       "    }\n",
       "    const paths = {\n",
       "      \"vega\": \"https://cdn.jsdelivr.net/npm//vega@5?noext\",\n",
       "      \"vega-lib\": \"https://cdn.jsdelivr.net/npm//vega-lib?noext\",\n",
       "      \"vega-lite\": \"https://cdn.jsdelivr.net/npm//vega-lite@4.17.0?noext\",\n",
       "      \"vega-embed\": \"https://cdn.jsdelivr.net/npm//vega-embed@6?noext\",\n",
       "    };\n",
       "\n",
       "    function maybeLoadScript(lib, version) {\n",
       "      var key = `${lib.replace(\"-\", \"\")}_version`;\n",
       "      return (VEGA_DEBUG[key] == version) ?\n",
       "        Promise.resolve(paths[lib]) :\n",
       "        new Promise(function(resolve, reject) {\n",
       "          var s = document.createElement('script');\n",
       "          document.getElementsByTagName(\"head\")[0].appendChild(s);\n",
       "          s.async = true;\n",
       "          s.onload = () => {\n",
       "            VEGA_DEBUG[key] = version;\n",
       "            return resolve(paths[lib]);\n",
       "          };\n",
       "          s.onerror = () => reject(`Error loading script: ${paths[lib]}`);\n",
       "          s.src = paths[lib];\n",
       "        });\n",
       "    }\n",
       "\n",
       "    function showError(err) {\n",
       "      outputDiv.innerHTML = `<div class=\"error\" style=\"color:red;\">${err}</div>`;\n",
       "      throw err;\n",
       "    }\n",
       "\n",
       "    function displayChart(vegaEmbed) {\n",
       "      vegaEmbed(outputDiv, spec, embedOpt)\n",
       "        .catch(err => showError(`Javascript Error: ${err.message}<br>This usually means there's a typo in your chart specification. See the javascript console for the full traceback.`));\n",
       "    }\n",
       "\n",
       "    if(typeof define === \"function\" && define.amd) {\n",
       "      requirejs.config({paths});\n",
       "      require([\"vega-embed\"], displayChart, err => showError(`Error loading script: ${err.message}`));\n",
       "    } else {\n",
       "      maybeLoadScript(\"vega\", \"5\")\n",
       "        .then(() => maybeLoadScript(\"vega-lite\", \"4.17.0\"))\n",
       "        .then(() => maybeLoadScript(\"vega-embed\", \"6\"))\n",
       "        .catch(showError)\n",
       "        .then(() => displayChart(vegaEmbed));\n",
       "    }\n",
       "  })({\"config\": {\"view\": {\"continuousWidth\": 400, \"continuousHeight\": 300}}, \"layer\": [{\"mark\": \"point\", \"encoding\": {\"x\": {\"field\": \"rate_GastosByIngresos\", \"type\": \"quantitative\"}, \"y\": {\"field\": \"rate_ResiduosByPersonal\", \"scale\": {\"type\": \"log\"}, \"type\": \"quantitative\"}}, \"height\": 600, \"width\": 800}, {\"mark\": {\"type\": \"text\", \"align\": \"right\", \"baseline\": \"middle\", \"dx\": -7, \"fontSize\": 8}, \"encoding\": {\"text\": {\"field\": \"Distrito\", \"type\": \"nominal\"}, \"x\": {\"field\": \"rate_GastosByIngresos\", \"type\": \"quantitative\"}, \"y\": {\"field\": \"rate_ResiduosByPersonal\", \"scale\": {\"type\": \"log\"}, \"type\": \"quantitative\"}}, \"height\": 600, \"selection\": {\"selector003\": {\"type\": \"interval\", \"bind\": \"scales\", \"encodings\": [\"x\", \"y\"]}}, \"width\": 800}, {\"data\": {\"name\": \"data-bbf30b4861847fbd84e11991a1d344c9\"}, \"mark\": {\"type\": \"line\", \"color\": \"red\"}, \"encoding\": {\"x\": {\"field\": \"y\", \"type\": \"quantitative\"}, \"y\": {\"field\": \"x\", \"type\": \"quantitative\"}}}], \"data\": {\"name\": \"data-12f8910c5110b39cbca8da28fc55947d\"}, \"$schema\": \"https://vega.github.io/schema/vega-lite/v4.17.0.json\", \"datasets\": {\"data-12f8910c5110b39cbca8da28fc55947d\": [{\"Distrito\": \"CHACHAPOYAS\", \"Ingresos_Total\": 31477166.86, \"Gastos_Total\": 29581273.12, \"Personal_Limpieza\": 24, \"Residuos_Solidos\": 26000.0, \"Personal_Vigilancia\": 8, \"rate_GastosByIngresos\": 0.939769238177238, \"rate_ResiduosByPersonal\": 1083.3333333333333}, {\"Distrito\": \"BALSAS\", \"Ingresos_Total\": 1376502.78, \"Gastos_Total\": 1303334.7, \"Personal_Limpieza\": 1, \"Residuos_Solidos\": 10.0, \"Personal_Vigilancia\": 0, \"rate_GastosByIngresos\": 0.9468449457108978, \"rate_ResiduosByPersonal\": 10.0}, {\"Distrito\": \"MARISCAL CASTILLA\", \"Ingresos_Total\": 2926378.5, \"Gastos_Total\": 2907461.07, \"Personal_Limpieza\": 1, \"Residuos_Solidos\": 120.0, \"Personal_Vigilancia\": 0, \"rate_GastosByIngresos\": 0.9935355491437624, \"rate_ResiduosByPersonal\": 120.0}, {\"Distrito\": \"MONTEVIDEO\", \"Ingresos_Total\": 1265823.27, \"Gastos_Total\": 1782608.69, \"Personal_Limpieza\": 1, \"Residuos_Solidos\": 1500.0, \"Personal_Vigilancia\": 0, \"rate_GastosByIngresos\": 1.4082603253138173, \"rate_ResiduosByPersonal\": 1500.0}, {\"Distrito\": \"SOLOCO\", \"Ingresos_Total\": 978915.46, \"Gastos_Total\": 639362.41, \"Personal_Limpieza\": 1, \"Residuos_Solidos\": 75.0, \"Personal_Vigilancia\": 0, \"rate_GastosByIngresos\": 0.6531334278855909, \"rate_ResiduosByPersonal\": 75.0}, {\"Distrito\": \"BAGUA\", \"Ingresos_Total\": 32315207.08, \"Gastos_Total\": 31841783.04, \"Personal_Limpieza\": 17, \"Residuos_Solidos\": 1981.0, \"Personal_Vigilancia\": 15, \"rate_GastosByIngresos\": 0.9853498063983318, \"rate_ResiduosByPersonal\": 116.52941176470588}, {\"Distrito\": \"ARAMANGO\", \"Ingresos_Total\": 8126313.0, \"Gastos_Total\": 7860632.36, \"Personal_Limpieza\": 1, \"Residuos_Solidos\": 1200.0, \"Personal_Vigilancia\": 0, \"rate_GastosByIngresos\": 0.9673061276374662, \"rate_ResiduosByPersonal\": 1200.0}, {\"Distrito\": \"EL PARCO\", \"Ingresos_Total\": 6537269.92, \"Gastos_Total\": 5213409.52, \"Personal_Limpieza\": 1, \"Residuos_Solidos\": 500.0, \"Personal_Vigilancia\": 0, \"rate_GastosByIngresos\": 0.7974903260534176, \"rate_ResiduosByPersonal\": 500.0}, {\"Distrito\": \"LA PECA\", \"Ingresos_Total\": 4608508.69, \"Gastos_Total\": 4715843.68, \"Personal_Limpieza\": 6, \"Residuos_Solidos\": 1800.0, \"Personal_Vigilancia\": 2, \"rate_GastosByIngresos\": 1.023290612477938, \"rate_ResiduosByPersonal\": 300.0}, {\"Distrito\": \"JAZAN\", \"Ingresos_Total\": 5193462.75, \"Gastos_Total\": 4080136.31, \"Personal_Limpieza\": 7, \"Residuos_Solidos\": 4100.0, \"Personal_Vigilancia\": 5, \"rate_GastosByIngresos\": 0.7856292624800284, \"rate_ResiduosByPersonal\": 585.7142857142857}, {\"Distrito\": \"SAN CARLOS\", \"Ingresos_Total\": 2636448.86, \"Gastos_Total\": 4912706.54, \"Personal_Limpieza\": 1, \"Residuos_Solidos\": 300.0, \"Personal_Vigilancia\": 0, \"rate_GastosByIngresos\": 1.863380175711051, \"rate_ResiduosByPersonal\": 300.0}, {\"Distrito\": \"NIEVA\", \"Ingresos_Total\": 33031309.2, \"Gastos_Total\": 32133660.62, \"Personal_Limpieza\": 20, \"Residuos_Solidos\": 4500.0, \"Personal_Vigilancia\": 0, \"rate_GastosByIngresos\": 0.9728243111841296, \"rate_ResiduosByPersonal\": 225.0}, {\"Distrito\": \"EL CENEPA\", \"Ingresos_Total\": 9845890.63, \"Gastos_Total\": 8274214.83, \"Personal_Limpieza\": 2, \"Residuos_Solidos\": 13798.4666666667, \"Personal_Vigilancia\": 0, \"rate_GastosByIngresos\": 0.8403724092555759, \"rate_ResiduosByPersonal\": 6899.23333333335}, {\"Distrito\": \"RIO SANTIAGO\", \"Ingresos_Total\": 13577972.64, \"Gastos_Total\": 11304341.09, \"Personal_Limpieza\": 10, \"Residuos_Solidos\": 1000.0, \"Personal_Vigilancia\": 4, \"rate_GastosByIngresos\": 0.8325499976850741, \"rate_ResiduosByPersonal\": 100.0}, {\"Distrito\": \"CAMPORREDONDO\", \"Ingresos_Total\": 10640722.51, \"Gastos_Total\": 9294845.58, \"Personal_Limpieza\": 2, \"Residuos_Solidos\": 15000.0, \"Personal_Vigilancia\": 0, \"rate_GastosByIngresos\": 0.8735163962094525, \"rate_ResiduosByPersonal\": 7500.0}, {\"Distrito\": \"CONILA\", \"Ingresos_Total\": 1361044.71, \"Gastos_Total\": 1370113.28, \"Personal_Limpieza\": 1, \"Residuos_Solidos\": 1500.0, \"Personal_Vigilancia\": 0, \"rate_GastosByIngresos\": 1.006662947905657, \"rate_ResiduosByPersonal\": 1500.0}, {\"Distrito\": \"TINGO\", \"Ingresos_Total\": 1370513.04, \"Gastos_Total\": 829081.96, \"Personal_Limpieza\": 1, \"Residuos_Solidos\": 800.0, \"Personal_Vigilancia\": 0, \"rate_GastosByIngresos\": 0.6049427738389122, \"rate_ResiduosByPersonal\": 800.0}, {\"Distrito\": \"SAN NICOLAS\", \"Ingresos_Total\": 10717632.27, \"Gastos_Total\": 11803551.74, \"Personal_Limpieza\": 6, \"Residuos_Solidos\": 5000.0, \"Personal_Vigilancia\": 0, \"rate_GastosByIngresos\": 1.1013208367896354, \"rate_ResiduosByPersonal\": 833.3333333333334}, {\"Distrito\": \"COCHAMAL\", \"Ingresos_Total\": 997764.38, \"Gastos_Total\": 1102997.58, \"Personal_Limpieza\": 1, \"Residuos_Solidos\": 350.0, \"Personal_Vigilancia\": 0, \"rate_GastosByIngresos\": 1.1054689885802498, \"rate_ResiduosByPersonal\": 350.0}, {\"Distrito\": \"MILPUC\", \"Ingresos_Total\": 762738.95, \"Gastos_Total\": 735010.36, \"Personal_Limpieza\": 3, \"Residuos_Solidos\": 300.0, \"Personal_Vigilancia\": 0, \"rate_GastosByIngresos\": 0.9636460285658678, \"rate_ResiduosByPersonal\": 100.0}, {\"Distrito\": \"TOTORA\", \"Ingresos_Total\": 1039540.54, \"Gastos_Total\": 2517967.29, \"Personal_Limpieza\": 1, \"Residuos_Solidos\": 80.0, \"Personal_Vigilancia\": 0, \"rate_GastosByIngresos\": 2.422192490924885, \"rate_ResiduosByPersonal\": 80.0}, {\"Distrito\": \"BAGUA GRANDE\", \"Ingresos_Total\": 67888992.71, \"Gastos_Total\": 63770896.52, \"Personal_Limpieza\": 17, \"Residuos_Solidos\": 30558.0, \"Personal_Vigilancia\": 0, \"rate_GastosByIngresos\": 0.9393407380841372, \"rate_ResiduosByPersonal\": 1797.5294117647059}, {\"Distrito\": \"CAJARURO\", \"Ingresos_Total\": 19448849.44, \"Gastos_Total\": 14740410.24, \"Personal_Limpieza\": 1, \"Residuos_Solidos\": 1200.0, \"Personal_Vigilancia\": 0, \"rate_GastosByIngresos\": 0.7579065427738741, \"rate_ResiduosByPersonal\": 1200.0}, {\"Distrito\": \"JAMALCA\", \"Ingresos_Total\": 17160690.04, \"Gastos_Total\": 9679745.25, \"Personal_Limpieza\": 1, \"Residuos_Solidos\": 1120.0, \"Personal_Vigilancia\": 0, \"rate_GastosByIngresos\": 0.5640650362798582, \"rate_ResiduosByPersonal\": 1120.0}, {\"Distrito\": \"HUARAZ\", \"Ingresos_Total\": 97036398.85, \"Gastos_Total\": 63312650.72, \"Personal_Limpieza\": 126, \"Residuos_Solidos\": 53705.0, \"Personal_Vigilancia\": 16, \"rate_GastosByIngresos\": 0.6524629053667731, \"rate_ResiduosByPersonal\": 426.23015873015873}, {\"Distrito\": \"COCHABAMBA\", \"Ingresos_Total\": 7019187.45, \"Gastos_Total\": 6970582.72, \"Personal_Limpieza\": 2, \"Residuos_Solidos\": 1000.0, \"Personal_Vigilancia\": 0, \"rate_GastosByIngresos\": 0.9930754477856265, \"rate_ResiduosByPersonal\": 500.0}, {\"Distrito\": \"INDEPENDENCIA\", \"Ingresos_Total\": 68992278.39, \"Gastos_Total\": 39772530.07, \"Personal_Limpieza\": 50, \"Residuos_Solidos\": 65946.0, \"Personal_Vigilancia\": 7, \"rate_GastosByIngresos\": 0.5764779914235268, \"rate_ResiduosByPersonal\": 1318.92}, {\"Distrito\": \"JANGAS\", \"Ingresos_Total\": 9169202.32, \"Gastos_Total\": 4758180.18, \"Personal_Limpieza\": 3, \"Residuos_Solidos\": 1829.0, \"Personal_Vigilancia\": 0, \"rate_GastosByIngresos\": 0.5189306565546478, \"rate_ResiduosByPersonal\": 609.6666666666666}, {\"Distrito\": \"PARIACOTO\", \"Ingresos_Total\": 11596178.08, \"Gastos_Total\": 9955179.76, \"Personal_Limpieza\": 6, \"Residuos_Solidos\": 1000.0, \"Personal_Vigilancia\": 0, \"rate_GastosByIngresos\": 0.858488002798936, \"rate_ResiduosByPersonal\": 166.66666666666666}, {\"Distrito\": \"CORIS\", \"Ingresos_Total\": 10482500.81, \"Gastos_Total\": 8342608.65, \"Personal_Limpieza\": 2, \"Residuos_Solidos\": 170.0, \"Personal_Vigilancia\": 1, \"rate_GastosByIngresos\": 0.7958605299645095, \"rate_ResiduosByPersonal\": 85.0}, {\"Distrito\": \"HUACLLAN\", \"Ingresos_Total\": 1552143.48, \"Gastos_Total\": 1145384.93, \"Personal_Limpieza\": 3, \"Residuos_Solidos\": 119.0, \"Personal_Vigilancia\": 2, \"rate_GastosByIngresos\": 0.7379375326822234, \"rate_ResiduosByPersonal\": 39.666666666666664}, {\"Distrito\": \"LLAMELLIN\", \"Ingresos_Total\": 26360466.67, \"Gastos_Total\": 22693849.6, \"Personal_Limpieza\": 1, \"Residuos_Solidos\": 2500.0, \"Personal_Vigilancia\": 0, \"rate_GastosByIngresos\": 0.8609046980881845, \"rate_ResiduosByPersonal\": 2500.0}, {\"Distrito\": \"ACZO\", \"Ingresos_Total\": 1795530.85, \"Gastos_Total\": 1533851.44, \"Personal_Limpieza\": 1, \"Residuos_Solidos\": 400.0, \"Personal_Vigilancia\": 1, \"rate_GastosByIngresos\": 0.8542606995585734, \"rate_ResiduosByPersonal\": 400.0}, {\"Distrito\": \"CHINGAS\", \"Ingresos_Total\": 8682689.23, \"Gastos_Total\": 7562358.1, \"Personal_Limpieza\": 1, \"Residuos_Solidos\": 3800.0, \"Personal_Vigilancia\": 0, \"rate_GastosByIngresos\": 0.8709695694130007, \"rate_ResiduosByPersonal\": 3800.0}, {\"Distrito\": \"CHACAS\", \"Ingresos_Total\": 13009725.69, \"Gastos_Total\": 12231869.77, \"Personal_Limpieza\": 7, \"Residuos_Solidos\": 800.0, \"Personal_Vigilancia\": 6, \"rate_GastosByIngresos\": 0.9402096601777005, \"rate_ResiduosByPersonal\": 114.28571428571429}, {\"Distrito\": \"CAJACAY\", \"Ingresos_Total\": 2994468.29, \"Gastos_Total\": 1883480.07, \"Personal_Limpieza\": 1, \"Residuos_Solidos\": 500.0, \"Personal_Vigilancia\": 0, \"rate_GastosByIngresos\": 0.628986480267587, \"rate_ResiduosByPersonal\": 500.0}, {\"Distrito\": \"HUAYLLACAYAN\", \"Ingresos_Total\": 2877425.09, \"Gastos_Total\": 2241702.39, \"Personal_Limpieza\": 1, \"Residuos_Solidos\": 100.0, \"Personal_Vigilancia\": 0, \"rate_GastosByIngresos\": 0.779065421299986, \"rate_ResiduosByPersonal\": 100.0}, {\"Distrito\": \"CARHUAZ\", \"Ingresos_Total\": 40505472.37, \"Gastos_Total\": 28174323.88, \"Personal_Limpieza\": 40, \"Residuos_Solidos\": 7806.0, \"Personal_Vigilancia\": 9, \"rate_GastosByIngresos\": 0.6955683326598371, \"rate_ResiduosByPersonal\": 195.15}, {\"Distrito\": \"ACOPAMPA\", \"Ingresos_Total\": 6426804.22, \"Gastos_Total\": 5861398.96, \"Personal_Limpieza\": 1, \"Residuos_Solidos\": 1500.0, \"Personal_Vigilancia\": 0, \"rate_GastosByIngresos\": 0.9120238861111597, \"rate_ResiduosByPersonal\": 1500.0}, {\"Distrito\": \"SAN MIGUEL DE ACO\", \"Ingresos_Total\": 4549038.14, \"Gastos_Total\": 3899579.11, \"Personal_Limpieza\": 1, \"Residuos_Solidos\": 1000.0, \"Personal_Vigilancia\": 0, \"rate_GastosByIngresos\": 0.8572315707161778, \"rate_ResiduosByPersonal\": 1000.0}, {\"Distrito\": \"TINCO\", \"Ingresos_Total\": 4069954.22, \"Gastos_Total\": 2231905.23, \"Personal_Limpieza\": 1, \"Residuos_Solidos\": 200.0, \"Personal_Vigilancia\": 0, \"rate_GastosByIngresos\": 0.5483858317207312, \"rate_ResiduosByPersonal\": 200.0}, {\"Distrito\": \"YUNGAR\", \"Ingresos_Total\": 3842767.73, \"Gastos_Total\": 2633946.97, \"Personal_Limpieza\": 1, \"Residuos_Solidos\": 7500.0, \"Personal_Vigilancia\": 0, \"rate_GastosByIngresos\": 0.6854296577534755, \"rate_ResiduosByPersonal\": 7500.0}, {\"Distrito\": \"CASMA\", \"Ingresos_Total\": 56530655.82, \"Gastos_Total\": 45672014.37, \"Personal_Limpieza\": 49, \"Residuos_Solidos\": 35000.0, \"Personal_Vigilancia\": 0, \"rate_GastosByIngresos\": 0.807915876925696, \"rate_ResiduosByPersonal\": 714.2857142857143}, {\"Distrito\": \"BUENA VISTA ALTA\", \"Ingresos_Total\": 11777457.35, \"Gastos_Total\": 9249781.98, \"Personal_Limpieza\": 1, \"Residuos_Solidos\": 2000.0, \"Personal_Vigilancia\": 2, \"rate_GastosByIngresos\": 0.7853802145163362, \"rate_ResiduosByPersonal\": 2000.0}, {\"Distrito\": \"COMANDANTE NOEL\", \"Ingresos_Total\": 9614757.56, \"Gastos_Total\": 8424356.95, \"Personal_Limpieza\": 3, \"Residuos_Solidos\": 1157.0, \"Personal_Vigilancia\": 1, \"rate_GastosByIngresos\": 0.8761902624614903, \"rate_ResiduosByPersonal\": 385.6666666666667}, {\"Distrito\": \"YAUTAN\", \"Ingresos_Total\": 25086357.27, \"Gastos_Total\": 20407395.89, \"Personal_Limpieza\": 1, \"Residuos_Solidos\": 3500.0, \"Personal_Vigilancia\": 0, \"rate_GastosByIngresos\": 0.8134858190194307, \"rate_ResiduosByPersonal\": 3500.0}, {\"Distrito\": \"CORONGO\", \"Ingresos_Total\": 10289915.09, \"Gastos_Total\": 6807471.06, \"Personal_Limpieza\": 3, \"Residuos_Solidos\": 3000.0, \"Personal_Vigilancia\": 0, \"rate_GastosByIngresos\": 0.661567272466191, \"rate_ResiduosByPersonal\": 1000.0}, {\"Distrito\": \"BAMBAS\", \"Ingresos_Total\": 1618339.26, \"Gastos_Total\": 871661.07, \"Personal_Limpieza\": 1, \"Residuos_Solidos\": 244.0, \"Personal_Vigilancia\": 0, \"rate_GastosByIngresos\": 0.5386145485959476, \"rate_ResiduosByPersonal\": 244.0}, {\"Distrito\": \"LA PAMPA\", \"Ingresos_Total\": 4157632.68, \"Gastos_Total\": 3543377.03, \"Personal_Limpieza\": 4, \"Residuos_Solidos\": 1800.0, \"Personal_Vigilancia\": 0, \"rate_GastosByIngresos\": 0.8522583168650675, \"rate_ResiduosByPersonal\": 450.0}, {\"Distrito\": \"YANAC\", \"Ingresos_Total\": 3229941.3, \"Gastos_Total\": 3074335.14, \"Personal_Limpieza\": 2, \"Residuos_Solidos\": 500.0, \"Personal_Vigilancia\": 0, \"rate_GastosByIngresos\": 0.9518238427429008, \"rate_ResiduosByPersonal\": 250.0}, {\"Distrito\": \"YUPAN\", \"Ingresos_Total\": 1423594.82, \"Gastos_Total\": 1247443.55, \"Personal_Limpieza\": 1, \"Residuos_Solidos\": 80.0, \"Personal_Vigilancia\": 0, \"rate_GastosByIngresos\": 0.8762630577708902, \"rate_ResiduosByPersonal\": 80.0}, {\"Distrito\": \"ANRA\", \"Ingresos_Total\": 15133933.28, \"Gastos_Total\": 9549322.24, \"Personal_Limpieza\": 4, \"Residuos_Solidos\": 400.0, \"Personal_Vigilancia\": 4, \"rate_GastosByIngresos\": 0.630987467918849, \"rate_ResiduosByPersonal\": 100.0}, {\"Distrito\": \"SAN MARCOS\", \"Ingresos_Total\": 861832296.65, \"Gastos_Total\": 285987261.18, \"Personal_Limpieza\": 11, \"Residuos_Solidos\": 1604.0, \"Personal_Vigilancia\": 0, \"rate_GastosByIngresos\": 0.33183632394800205, \"rate_ResiduosByPersonal\": 145.8181818181818}, {\"Distrito\": \"UCO\", \"Ingresos_Total\": 14632633.69, \"Gastos_Total\": 4794157.76, \"Personal_Limpieza\": 2, \"Residuos_Solidos\": 350.0, \"Personal_Vigilancia\": 0, \"rate_GastosByIngresos\": 0.3276346460635003, \"rate_ResiduosByPersonal\": 175.0}, {\"Distrito\": \"HUARMEY\", \"Ingresos_Total\": 55724834.26, \"Gastos_Total\": 41549783.6, \"Personal_Limpieza\": 25, \"Residuos_Solidos\": 25479.0, \"Personal_Vigilancia\": 0, \"rate_GastosByIngresos\": 0.7456241755002396, \"rate_ResiduosByPersonal\": 1019.16}, {\"Distrito\": \"CULEBRAS\", \"Ingresos_Total\": 4606185.44, \"Gastos_Total\": 3852433.93, \"Personal_Limpieza\": 3, \"Residuos_Solidos\": 1391.0, \"Personal_Vigilancia\": 1, \"rate_GastosByIngresos\": 0.8363610150267853, \"rate_ResiduosByPersonal\": 463.6666666666667}, {\"Distrito\": \"CARAZ\", \"Ingresos_Total\": 54875247.19, \"Gastos_Total\": 28388161.7, \"Personal_Limpieza\": 51, \"Residuos_Solidos\": 27143.0, \"Personal_Vigilancia\": 11, \"rate_GastosByIngresos\": 0.517321800878798, \"rate_ResiduosByPersonal\": 532.2156862745098}, {\"Distrito\": \"SANTA CRUZ\", \"Ingresos_Total\": 11959434.84, \"Gastos_Total\": 10203251.81, \"Personal_Limpieza\": 2, \"Residuos_Solidos\": 1000.0, \"Personal_Vigilancia\": 0, \"rate_GastosByIngresos\": 0.8531550149739351, \"rate_ResiduosByPersonal\": 500.0}, {\"Distrito\": \"SANTO TORIBIO\", \"Ingresos_Total\": 4724655.95, \"Gastos_Total\": 3677713.36, \"Personal_Limpieza\": 1, \"Residuos_Solidos\": 4150.0, \"Personal_Vigilancia\": 0, \"rate_GastosByIngresos\": 0.7784087135487611, \"rate_ResiduosByPersonal\": 4150.0}, {\"Distrito\": \"YURACMARCA\", \"Ingresos_Total\": 19105626.99, \"Gastos_Total\": 5798060.75, \"Personal_Limpieza\": 1, \"Residuos_Solidos\": 1250.0, \"Personal_Vigilancia\": 0, \"rate_GastosByIngresos\": 0.30347398455097757, \"rate_ResiduosByPersonal\": 1250.0}, {\"Distrito\": \"LLUMPA\", \"Ingresos_Total\": 12656148.36, \"Gastos_Total\": 8309335.86, \"Personal_Limpieza\": 3, \"Residuos_Solidos\": 800.0, \"Personal_Vigilancia\": 4, \"rate_GastosByIngresos\": 0.6565453899277774, \"rate_ResiduosByPersonal\": 266.6666666666667}, {\"Distrito\": \"CABANA\", \"Ingresos_Total\": 16032231.13, \"Gastos_Total\": 14679115.95, \"Personal_Limpieza\": 4, \"Residuos_Solidos\": 2019.0, \"Personal_Vigilancia\": 1, \"rate_GastosByIngresos\": 0.9156003198164969, \"rate_ResiduosByPersonal\": 504.75}, {\"Distrito\": \"CONCHUCOS\", \"Ingresos_Total\": 27926597.37, \"Gastos_Total\": 8142238.59, \"Personal_Limpieza\": 1, \"Residuos_Solidos\": 2650.0, \"Personal_Vigilancia\": 0, \"rate_GastosByIngresos\": 0.2915585626893005, \"rate_ResiduosByPersonal\": 2650.0}, {\"Distrito\": \"LACABAMBA\", \"Ingresos_Total\": 4591057.88, \"Gastos_Total\": 4522678.02, \"Personal_Limpieza\": 2, \"Residuos_Solidos\": 600.0, \"Personal_Vigilancia\": 0, \"rate_GastosByIngresos\": 0.9851058597414153, \"rate_ResiduosByPersonal\": 300.0}, {\"Distrito\": \"LLAPO\", \"Ingresos_Total\": 6351895.84, \"Gastos_Total\": 6169718.19, \"Personal_Limpieza\": 2, \"Residuos_Solidos\": 200.0, \"Personal_Vigilancia\": 0, \"rate_GastosByIngresos\": 0.9713191691757969, \"rate_ResiduosByPersonal\": 100.0}, {\"Distrito\": \"PAMPAS\", \"Ingresos_Total\": 22194511.37, \"Gastos_Total\": 14263663.4, \"Personal_Limpieza\": 2, \"Residuos_Solidos\": 3000.0, \"Personal_Vigilancia\": 0, \"rate_GastosByIngresos\": 0.642666250327096, \"rate_ResiduosByPersonal\": 1500.0}, {\"Distrito\": \"COTAPARACO\", \"Ingresos_Total\": 1331480.43, \"Gastos_Total\": 906313.31, \"Personal_Limpieza\": 3, \"Residuos_Solidos\": 170.0, \"Personal_Vigilancia\": 0, \"rate_GastosByIngresos\": 0.6806809094445346, \"rate_ResiduosByPersonal\": 56.666666666666664}, {\"Distrito\": \"LLACLLIN\", \"Ingresos_Total\": 3279565.54, \"Gastos_Total\": 1878130.83, \"Personal_Limpieza\": 1, \"Residuos_Solidos\": 60.0, \"Personal_Vigilancia\": 0, \"rate_GastosByIngresos\": 0.5726767180264981, \"rate_ResiduosByPersonal\": 60.0}, {\"Distrito\": \"MARCA\", \"Ingresos_Total\": 6762796.25, \"Gastos_Total\": 5258376.95, \"Personal_Limpieza\": 1, \"Residuos_Solidos\": 600.0, \"Personal_Vigilancia\": 0, \"rate_GastosByIngresos\": 0.7775447840824719, \"rate_ResiduosByPersonal\": 600.0}, {\"Distrito\": \"CHIMBOTE\", \"Ingresos_Total\": 366431327.99, \"Gastos_Total\": 184186577.28, \"Personal_Limpieza\": 392, \"Residuos_Solidos\": 320000.0, \"Personal_Vigilancia\": 283, \"rate_GastosByIngresos\": 0.5026496459522873, \"rate_ResiduosByPersonal\": 816.3265306122449}, {\"Distrito\": \"CACERES DEL PERU\", \"Ingresos_Total\": 14566282.35, \"Gastos_Total\": 9169153.09, \"Personal_Limpieza\": 12, \"Residuos_Solidos\": 300.0, \"Personal_Vigilancia\": 0, \"rate_GastosByIngresos\": 0.6294779182280509, \"rate_ResiduosByPersonal\": 25.0}, {\"Distrito\": \"COISHCO\", \"Ingresos_Total\": 29545380.4, \"Gastos_Total\": 28188471.41, \"Personal_Limpieza\": 21, \"Residuos_Solidos\": 12000.0, \"Personal_Vigilancia\": 11, \"rate_GastosByIngresos\": 0.9540737343155007, \"rate_ResiduosByPersonal\": 571.4285714285714}, {\"Distrito\": \"MACATE\", \"Ingresos_Total\": 16887315.4, \"Gastos_Total\": 16597752.71, \"Personal_Limpieza\": 5, \"Residuos_Solidos\": 350.0, \"Personal_Vigilancia\": 0, \"rate_GastosByIngresos\": 0.9828532432099896, \"rate_ResiduosByPersonal\": 70.0}, {\"Distrito\": \"MORO\", \"Ingresos_Total\": 26552949.87, \"Gastos_Total\": 20718666.35, \"Personal_Limpieza\": 25, \"Residuos_Solidos\": 6917.0, \"Personal_Vigilancia\": 3, \"rate_GastosByIngresos\": 0.7802773873123725, \"rate_ResiduosByPersonal\": 276.68}, {\"Distrito\": \"NEPE\\u00d1A\", \"Ingresos_Total\": 19328443.63, \"Gastos_Total\": 17078186.26, \"Personal_Limpieza\": 46, \"Residuos_Solidos\": 13000.0, \"Personal_Vigilancia\": 31, \"rate_GastosByIngresos\": 0.8835779324462868, \"rate_ResiduosByPersonal\": 282.60869565217394}, {\"Distrito\": \"SAMANCO\", \"Ingresos_Total\": 14658605.18, \"Gastos_Total\": 9659961.79, \"Personal_Limpieza\": 12, \"Residuos_Solidos\": 1736.0, \"Personal_Vigilancia\": 0, \"rate_GastosByIngresos\": 0.6589959734490918, \"rate_ResiduosByPersonal\": 144.66666666666666}, {\"Distrito\": \"SANTA\", \"Ingresos_Total\": 29024649.42, \"Gastos_Total\": 26305655.76, \"Personal_Limpieza\": 40, \"Residuos_Solidos\": 15000.0, \"Personal_Vigilancia\": 31, \"rate_GastosByIngresos\": 0.9063212230178938, \"rate_ResiduosByPersonal\": 375.0}, {\"Distrito\": \"NUEVO CHIMBOTE\", \"Ingresos_Total\": 257473316.41, \"Gastos_Total\": 160727707.1, \"Personal_Limpieza\": 282, \"Residuos_Solidos\": 170000.0, \"Personal_Vigilancia\": 105, \"rate_GastosByIngresos\": 0.6242499585629196, \"rate_ResiduosByPersonal\": 602.8368794326241}, {\"Distrito\": \"ALFONSO UGARTE\", \"Ingresos_Total\": 1663005.69, \"Gastos_Total\": 2393301.83, \"Personal_Limpieza\": 2, \"Residuos_Solidos\": 550.0, \"Personal_Vigilancia\": 0, \"rate_GastosByIngresos\": 1.4391422978234067, \"rate_ResiduosByPersonal\": 275.0}, {\"Distrito\": \"CASHAPAMPA\", \"Ingresos_Total\": 6998360.21, \"Gastos_Total\": 6521439.51, \"Personal_Limpieza\": 5, \"Residuos_Solidos\": 25.0, \"Personal_Vigilancia\": 1, \"rate_GastosByIngresos\": 0.9318525074890365, \"rate_ResiduosByPersonal\": 5.0}, {\"Distrito\": \"SAN JUAN\", \"Ingresos_Total\": 24678092.6, \"Gastos_Total\": 23597642.7, \"Personal_Limpieza\": 6, \"Residuos_Solidos\": 1100.0, \"Personal_Vigilancia\": 4, \"rate_GastosByIngresos\": 0.9562182573218806, \"rate_ResiduosByPersonal\": 183.33333333333334}, {\"Distrito\": \"CASCAPARA\", \"Ingresos_Total\": 2638267.65, \"Gastos_Total\": 2233935.79, \"Personal_Limpieza\": 1, \"Residuos_Solidos\": 60.0, \"Personal_Vigilancia\": 0, \"rate_GastosByIngresos\": 0.8467434265056466, \"rate_ResiduosByPersonal\": 60.0}, {\"Distrito\": \"MANCOS\", \"Ingresos_Total\": 9324319.69, \"Gastos_Total\": 6251705.74, \"Personal_Limpieza\": 8, \"Residuos_Solidos\": 851.0, \"Personal_Vigilancia\": 0, \"rate_GastosByIngresos\": 0.6704731227421055, \"rate_ResiduosByPersonal\": 106.375}, {\"Distrito\": \"QUILLO\", \"Ingresos_Total\": 32480968.12, \"Gastos_Total\": 24754315.0, \"Personal_Limpieza\": 1, \"Residuos_Solidos\": 3070.0, \"Personal_Vigilancia\": 0, \"rate_GastosByIngresos\": 0.7621175239772995, \"rate_ResiduosByPersonal\": 3070.0}, {\"Distrito\": \"SHUPLUY\", \"Ingresos_Total\": 6588637.4, \"Gastos_Total\": 5941462.69, \"Personal_Limpieza\": 1, \"Residuos_Solidos\": 350.0, \"Personal_Vigilancia\": 0, \"rate_GastosByIngresos\": 0.9017741194863751, \"rate_ResiduosByPersonal\": 350.0}, {\"Distrito\": \"YANAMA\", \"Ingresos_Total\": 13826634.63, \"Gastos_Total\": 12380082.92, \"Personal_Limpieza\": 1, \"Residuos_Solidos\": 1500.0, \"Personal_Vigilancia\": 0, \"rate_GastosByIngresos\": 0.8953793349784929, \"rate_ResiduosByPersonal\": 1500.0}, {\"Distrito\": \"ABANCAY\", \"Ingresos_Total\": 76419523.22, \"Gastos_Total\": 48399933.9, \"Personal_Limpieza\": 19, \"Residuos_Solidos\": 89310.0, \"Personal_Vigilancia\": 1, \"rate_GastosByIngresos\": 0.6333451435003601, \"rate_ResiduosByPersonal\": 4700.526315789473}, {\"Distrito\": \"CHACOCHE\", \"Ingresos_Total\": 2393526.79, \"Gastos_Total\": 2156578.51, \"Personal_Limpieza\": 1, \"Residuos_Solidos\": 800.0, \"Personal_Vigilancia\": 1, \"rate_GastosByIngresos\": 0.9010045423389641, \"rate_ResiduosByPersonal\": 800.0}, {\"Distrito\": \"TAMBURCO\", \"Ingresos_Total\": 10469405.5, \"Gastos_Total\": 8018100.75, \"Personal_Limpieza\": 19, \"Residuos_Solidos\": 6000.0, \"Personal_Vigilancia\": 0, \"rate_GastosByIngresos\": 0.7658601770654504, \"rate_ResiduosByPersonal\": 315.7894736842105}, {\"Distrito\": \"ANDAHUAYLAS\", \"Ingresos_Total\": 82205285.02, \"Gastos_Total\": 60195896.91, \"Personal_Limpieza\": 56, \"Residuos_Solidos\": 38000.0, \"Personal_Vigilancia\": 4, \"rate_GastosByIngresos\": 0.732263100789137, \"rate_ResiduosByPersonal\": 678.5714285714286}, {\"Distrito\": \"HUANCARAMA\", \"Ingresos_Total\": 5286093.45, \"Gastos_Total\": 5042841.86, \"Personal_Limpieza\": 1, \"Residuos_Solidos\": 1800.0, \"Personal_Vigilancia\": 0, \"rate_GastosByIngresos\": 0.9539827299118218, \"rate_ResiduosByPersonal\": 1800.0}, {\"Distrito\": \"HUAYANA\", \"Ingresos_Total\": 3728468.56, \"Gastos_Total\": 3340413.79, \"Personal_Limpieza\": 1, \"Residuos_Solidos\": 100.0, \"Personal_Vigilancia\": 0, \"rate_GastosByIngresos\": 0.8959211365859017, \"rate_ResiduosByPersonal\": 100.0}, {\"Distrito\": \"SAN ANTONIO DE CACHI\", \"Ingresos_Total\": 5072185.91, \"Gastos_Total\": 4011869.13, \"Personal_Limpieza\": 1, \"Residuos_Solidos\": 40.0, \"Personal_Vigilancia\": 0, \"rate_GastosByIngresos\": 0.7909546694829251, \"rate_ResiduosByPersonal\": 40.0}, {\"Distrito\": \"SAN JERONIMO\", \"Ingresos_Total\": 24811708.85, \"Gastos_Total\": 19426539.24, \"Personal_Limpieza\": 7, \"Residuos_Solidos\": 10000.0, \"Personal_Vigilancia\": 0, \"rate_GastosByIngresos\": 0.782958536126785, \"rate_ResiduosByPersonal\": 1428.5714285714287}, {\"Distrito\": \"TALAVERA\", \"Ingresos_Total\": 17828193.5, \"Gastos_Total\": 12170688.97, \"Personal_Limpieza\": 12, \"Residuos_Solidos\": 8000.0, \"Personal_Vigilancia\": 1, \"rate_GastosByIngresos\": 0.6826652947198493, \"rate_ResiduosByPersonal\": 666.6666666666666}, {\"Distrito\": \"TUMAY HUARACA\", \"Ingresos_Total\": 5546225.86, \"Gastos_Total\": 6377018.04, \"Personal_Limpieza\": 1, \"Residuos_Solidos\": 430.0, \"Personal_Vigilancia\": 0, \"rate_GastosByIngresos\": 1.149794148484245, \"rate_ResiduosByPersonal\": 430.0}, {\"Distrito\": \"JOS\\u00c9 MAR\\u00cdA ARGUEDAS\", \"Ingresos_Total\": 7980277.89, \"Gastos_Total\": 7374424.07, \"Personal_Limpieza\": 1, \"Residuos_Solidos\": 996.0, \"Personal_Vigilancia\": 0, \"rate_GastosByIngresos\": 0.9240811124185051, \"rate_ResiduosByPersonal\": 996.0}, {\"Distrito\": \"ANTABAMBA\", \"Ingresos_Total\": 26500602.37, \"Gastos_Total\": 26920978.38, \"Personal_Limpieza\": 8, \"Residuos_Solidos\": 4500.0, \"Personal_Vigilancia\": 2, \"rate_GastosByIngresos\": 1.0158628850820344, \"rate_ResiduosByPersonal\": 562.5}, {\"Distrito\": \"HUAQUIRCA\", \"Ingresos_Total\": 6568338.92, \"Gastos_Total\": 5576426.77, \"Personal_Limpieza\": 3, \"Residuos_Solidos\": 48.0, \"Personal_Vigilancia\": 0, \"rate_GastosByIngresos\": 0.848985845267558, \"rate_ResiduosByPersonal\": 16.0}, {\"Distrito\": \"PACHACONAS\", \"Ingresos_Total\": 2467915.62, \"Gastos_Total\": 2357654.05, \"Personal_Limpieza\": 1, \"Residuos_Solidos\": 800.0, \"Personal_Vigilancia\": 0, \"rate_GastosByIngresos\": 0.9553219854413012, \"rate_ResiduosByPersonal\": 800.0}, {\"Distrito\": \"CHALHUANCA\", \"Ingresos_Total\": 10382784.3, \"Gastos_Total\": 10480390.02, \"Personal_Limpieza\": 2, \"Residuos_Solidos\": 2800.0, \"Personal_Vigilancia\": 0, \"rate_GastosByIngresos\": 1.0094007269321774, \"rate_ResiduosByPersonal\": 1400.0}, {\"Distrito\": \"TAPAIRIHUA\", \"Ingresos_Total\": 4204464.93, \"Gastos_Total\": 3364647.31, \"Personal_Limpieza\": 1, \"Residuos_Solidos\": 100.0, \"Personal_Vigilancia\": 0, \"rate_GastosByIngresos\": 0.8002557676227307, \"rate_ResiduosByPersonal\": 100.0}, {\"Distrito\": \"HAQUIRA\", \"Ingresos_Total\": 28518517.95, \"Gastos_Total\": 20661126.65, \"Personal_Limpieza\": 8, \"Residuos_Solidos\": 514.0, \"Personal_Vigilancia\": 0, \"rate_GastosByIngresos\": 0.7244810787932267, \"rate_ResiduosByPersonal\": 64.25}, {\"Distrito\": \"CHINCHEROS\", \"Ingresos_Total\": 31143056.7, \"Gastos_Total\": 28902013.12, \"Personal_Limpieza\": 5, \"Residuos_Solidos\": 1150.0, \"Personal_Vigilancia\": 2, \"rate_GastosByIngresos\": 0.9280403461488095, \"rate_ResiduosByPersonal\": 230.0}, {\"Distrito\": \"ANCO-HUALLO\", \"Ingresos_Total\": 10347436.01, \"Gastos_Total\": 7247481.49, \"Personal_Limpieza\": 6, \"Residuos_Solidos\": 5000.0, \"Personal_Vigilancia\": 0, \"rate_GastosByIngresos\": 0.7004132698183267, \"rate_ResiduosByPersonal\": 833.3333333333334}, {\"Distrito\": \"OCOBAMBA\", \"Ingresos_Total\": 20068119.1, \"Gastos_Total\": 19832150.95, \"Personal_Limpieza\": 1, \"Residuos_Solidos\": 2000.0, \"Personal_Vigilancia\": 0, \"rate_GastosByIngresos\": 0.9882416409418259, \"rate_ResiduosByPersonal\": 2000.0}, {\"Distrito\": \"MAMARA\", \"Ingresos_Total\": 2448612.47, \"Gastos_Total\": 1723558.46, \"Personal_Limpieza\": 5, \"Residuos_Solidos\": 200.0, \"Personal_Vigilancia\": 0, \"rate_GastosByIngresos\": 0.703891890250808, \"rate_ResiduosByPersonal\": 40.0}, {\"Distrito\": \"PROGRESO\", \"Ingresos_Total\": 8689394.39, \"Gastos_Total\": 6988345.53, \"Personal_Limpieza\": 1, \"Residuos_Solidos\": 5240.0, \"Personal_Vigilancia\": 0, \"rate_GastosByIngresos\": 0.8042385022876145, \"rate_ResiduosByPersonal\": 5240.0}, {\"Distrito\": \"VIRUNDO\", \"Ingresos_Total\": 2787222.74, \"Gastos_Total\": 2486373.09, \"Personal_Limpieza\": 1, \"Residuos_Solidos\": 250.0, \"Personal_Vigilancia\": 0, \"rate_GastosByIngresos\": 0.8920611382497545, \"rate_ResiduosByPersonal\": 250.0}, {\"Distrito\": \"AREQUIPA\", \"Ingresos_Total\": 303656953.76, \"Gastos_Total\": 187097399.42, \"Personal_Limpieza\": 173, \"Residuos_Solidos\": 80000.0, \"Personal_Vigilancia\": 109, \"rate_GastosByIngresos\": 0.6161472579609533, \"rate_ResiduosByPersonal\": 462.42774566473986}, {\"Distrito\": \"ALTO SELVA ALEGRE\", \"Ingresos_Total\": 104763615.36, \"Gastos_Total\": 54703628.05, \"Personal_Limpieza\": 58, \"Residuos_Solidos\": 52000.0, \"Personal_Vigilancia\": 36, \"rate_GastosByIngresos\": 0.5221624689260819, \"rate_ResiduosByPersonal\": 896.551724137931}, {\"Distrito\": \"CAYMA\", \"Ingresos_Total\": 115223500.29, \"Gastos_Total\": 61528153.78, \"Personal_Limpieza\": 88, \"Residuos_Solidos\": 53059.0, \"Personal_Vigilancia\": 33, \"rate_GastosByIngresos\": 0.53398962559845, \"rate_ResiduosByPersonal\": 602.9431818181819}, {\"Distrito\": \"CERRO COLORADO\", \"Ingresos_Total\": 300211116.77, \"Gastos_Total\": 152731991.5, \"Personal_Limpieza\": 177, \"Residuos_Solidos\": 156000.0, \"Personal_Vigilancia\": 26, \"rate_GastosByIngresos\": 0.5087486204483633, \"rate_ResiduosByPersonal\": 881.3559322033898}, {\"Distrito\": \"CHARACATO\", \"Ingresos_Total\": 26065156.8, \"Gastos_Total\": 12282114.79, \"Personal_Limpieza\": 13, \"Residuos_Solidos\": 10500.0, \"Personal_Vigilancia\": 8, \"rate_GastosByIngresos\": 0.4712081682163523, \"rate_ResiduosByPersonal\": 807.6923076923077}, {\"Distrito\": \"CHIGUATA\", \"Ingresos_Total\": 8552902.8, \"Gastos_Total\": 4377525.07, \"Personal_Limpieza\": 1, \"Residuos_Solidos\": 6000.0, \"Personal_Vigilancia\": 0, \"rate_GastosByIngresos\": 0.5118174697367074, \"rate_ResiduosByPersonal\": 6000.0}, {\"Distrito\": \"JACOBO HUNTER\", \"Ingresos_Total\": 51800557.18, \"Gastos_Total\": 28137475.14, \"Personal_Limpieza\": 114, \"Residuos_Solidos\": 38000.0, \"Personal_Vigilancia\": 2, \"rate_GastosByIngresos\": 0.5431886580336587, \"rate_ResiduosByPersonal\": 333.3333333333333}, {\"Distrito\": \"LA JOYA\", \"Ingresos_Total\": 119700497.87, \"Gastos_Total\": 75059252.87, \"Personal_Limpieza\": 14, \"Residuos_Solidos\": 17063.0, \"Personal_Vigilancia\": 27, \"rate_GastosByIngresos\": 0.6270588193502558, \"rate_ResiduosByPersonal\": 1218.7857142857142}, {\"Distrito\": \"MARIANO MELGAR\", \"Ingresos_Total\": 59353000.67, \"Gastos_Total\": 33133549.61, \"Personal_Limpieza\": 49, \"Residuos_Solidos\": 52000.0, \"Personal_Vigilancia\": 6, \"rate_GastosByIngresos\": 0.5582455686481806, \"rate_ResiduosByPersonal\": 1061.2244897959183}, {\"Distrito\": \"MIRAFLORES\", \"Ingresos_Total\": 57192756.55, \"Gastos_Total\": 31818703.12, \"Personal_Limpieza\": 53, \"Residuos_Solidos\": 54340.0, \"Personal_Vigilancia\": 43, \"rate_GastosByIngresos\": 0.5563414851701182, \"rate_ResiduosByPersonal\": 1025.2830188679245}, {\"Distrito\": \"MOLLEBAYA\", \"Ingresos_Total\": 13447892.52, \"Gastos_Total\": 9377392.72, \"Personal_Limpieza\": 3, \"Residuos_Solidos\": 2000.0, \"Personal_Vigilancia\": 0, \"rate_GastosByIngresos\": 0.6973131816791172, \"rate_ResiduosByPersonal\": 666.6666666666666}, {\"Distrito\": \"PAUCARPATA\", \"Ingresos_Total\": 127524280.33, \"Gastos_Total\": 72459003.32, \"Personal_Limpieza\": 93, \"Residuos_Solidos\": 61447.0, \"Personal_Vigilancia\": 20, \"rate_GastosByIngresos\": 0.5681977042528273, \"rate_ResiduosByPersonal\": 660.7204301075269}, {\"Distrito\": \"POLOBAYA\", \"Ingresos_Total\": 5360548.2, \"Gastos_Total\": 3755119.02, \"Personal_Limpieza\": 2, \"Residuos_Solidos\": 2500.0, \"Personal_Vigilancia\": 0, \"rate_GastosByIngresos\": 0.7005102612452957, \"rate_ResiduosByPersonal\": 1250.0}, {\"Distrito\": \"SABANDIA\", \"Ingresos_Total\": 11510643.46, \"Gastos_Total\": 4097824.95, \"Personal_Limpieza\": 10, \"Residuos_Solidos\": 3800.0, \"Personal_Vigilancia\": 1, \"rate_GastosByIngresos\": 0.35600311696215114, \"rate_ResiduosByPersonal\": 380.0}, {\"Distrito\": \"SACHACA\", \"Ingresos_Total\": 40211753.91, \"Gastos_Total\": 24051925.58, \"Personal_Limpieza\": 94, \"Residuos_Solidos\": 27630.0, \"Personal_Vigilancia\": 19, \"rate_GastosByIngresos\": 0.5981317212333452, \"rate_ResiduosByPersonal\": 293.93617021276594}, {\"Distrito\": \"SAN JUAN DE TARUCANI\", \"Ingresos_Total\": 12809596.4, \"Gastos_Total\": 4873842.13, \"Personal_Limpieza\": 2, \"Residuos_Solidos\": 250.0, \"Personal_Vigilancia\": 0, \"rate_GastosByIngresos\": 0.3804836606717757, \"rate_ResiduosByPersonal\": 125.0}, {\"Distrito\": \"SANTA RITA DE SIGUAS\", \"Ingresos_Total\": 15828283.42, \"Gastos_Total\": 7565243.89, \"Personal_Limpieza\": 2, \"Residuos_Solidos\": 12000.0, \"Personal_Vigilancia\": 1, \"rate_GastosByIngresos\": 0.4779573178757245, \"rate_ResiduosByPersonal\": 6000.0}, {\"Distrito\": \"SOCABAYA\", \"Ingresos_Total\": 98424822.43, \"Gastos_Total\": 47153894.4, \"Personal_Limpieza\": 59, \"Residuos_Solidos\": 50645.0, \"Personal_Vigilancia\": 8, \"rate_GastosByIngresos\": 0.47908538959809627, \"rate_ResiduosByPersonal\": 858.3898305084746}, {\"Distrito\": \"TIABAYA\", \"Ingresos_Total\": 71571722.77, \"Gastos_Total\": 24384199.72, \"Personal_Limpieza\": 30, \"Residuos_Solidos\": 6000.0, \"Personal_Vigilancia\": 3, \"rate_GastosByIngresos\": 0.3406960008264728, \"rate_ResiduosByPersonal\": 200.0}, {\"Distrito\": \"UCHUMAYO\", \"Ingresos_Total\": 86617654.38, \"Gastos_Total\": 36271633.9, \"Personal_Limpieza\": 42, \"Residuos_Solidos\": 8360.0, \"Personal_Vigilancia\": 0, \"rate_GastosByIngresos\": 0.41875567007244097, \"rate_ResiduosByPersonal\": 199.04761904761904}, {\"Distrito\": \"VITOR\", \"Ingresos_Total\": 17269584.22, \"Gastos_Total\": 12419618.52, \"Personal_Limpieza\": 4, \"Residuos_Solidos\": 1000.0, \"Personal_Vigilancia\": 1, \"rate_GastosByIngresos\": 0.719161408971084, \"rate_ResiduosByPersonal\": 250.0}, {\"Distrito\": \"YANAHUARA\", \"Ingresos_Total\": 25038288.57, \"Gastos_Total\": 22449912.51, \"Personal_Limpieza\": 103, \"Residuos_Solidos\": 24476.0, \"Personal_Vigilancia\": 0, \"rate_GastosByIngresos\": 0.8966232834658955, \"rate_ResiduosByPersonal\": 237.63106796116506}, {\"Distrito\": \"YARABAMBA\", \"Ingresos_Total\": 363948108.36, \"Gastos_Total\": 79280941.76, \"Personal_Limpieza\": 3, \"Residuos_Solidos\": 569.0, \"Personal_Vigilancia\": 1, \"rate_GastosByIngresos\": 0.2178358396125502, \"rate_ResiduosByPersonal\": 189.66666666666666}, {\"Distrito\": \"YURA\", \"Ingresos_Total\": 103759896.86, \"Gastos_Total\": 63307323.54, \"Personal_Limpieza\": 64, \"Residuos_Solidos\": 17000.0, \"Personal_Vigilancia\": 17, \"rate_GastosByIngresos\": 0.6101328688232853, \"rate_ResiduosByPersonal\": 265.625}, {\"Distrito\": \"JOSE LUIS BUSTAMANTE Y RIVERO\", \"Ingresos_Total\": 57297809.46, \"Gastos_Total\": 39851844.35, \"Personal_Limpieza\": 156, \"Residuos_Solidos\": 100000.0, \"Personal_Vigilancia\": 15, \"rate_GastosByIngresos\": 0.6955212550982574, \"rate_ResiduosByPersonal\": 641.025641025641}, {\"Distrito\": \"CAMANA\", \"Ingresos_Total\": 50911133.17, \"Gastos_Total\": 54127540.62, \"Personal_Limpieza\": 51, \"Residuos_Solidos\": 14940.0, \"Personal_Vigilancia\": 32, \"rate_GastosByIngresos\": 1.0631768976592983, \"rate_ResiduosByPersonal\": 292.94117647058823}, {\"Distrito\": \"OCO\\u00d1A\", \"Ingresos_Total\": 8793879.07, \"Gastos_Total\": 4868774.66, \"Personal_Limpieza\": 8, \"Residuos_Solidos\": 2500.0, \"Personal_Vigilancia\": 0, \"rate_GastosByIngresos\": 0.553654948088796, \"rate_ResiduosByPersonal\": 312.5}, {\"Distrito\": \"SAMUEL PASTOR\", \"Ingresos_Total\": 31637904.85, \"Gastos_Total\": 13646239.33, \"Personal_Limpieza\": 12, \"Residuos_Solidos\": 12000.0, \"Personal_Vigilancia\": 0, \"rate_GastosByIngresos\": 0.43132563280339975, \"rate_ResiduosByPersonal\": 1000.0}, {\"Distrito\": \"CARAVELI\", \"Ingresos_Total\": 25720934.9, \"Gastos_Total\": 27014723.35, \"Personal_Limpieza\": 18, \"Residuos_Solidos\": 3282.0, \"Personal_Vigilancia\": 1, \"rate_GastosByIngresos\": 1.0503009884761227, \"rate_ResiduosByPersonal\": 182.33333333333334}, {\"Distrito\": \"ACARI\", \"Ingresos_Total\": 8410990.89, \"Gastos_Total\": 5518371.92, \"Personal_Limpieza\": 5, \"Residuos_Solidos\": 3042.0, \"Personal_Vigilancia\": 5, \"rate_GastosByIngresos\": 0.6560905834009291, \"rate_ResiduosByPersonal\": 608.4}, {\"Distrito\": \"ATICO\", \"Ingresos_Total\": 13444595.7, \"Gastos_Total\": 6837501.77, \"Personal_Limpieza\": 1, \"Residuos_Solidos\": 2850.0, \"Personal_Vigilancia\": 0, \"rate_GastosByIngresos\": 0.5085687902091396, \"rate_ResiduosByPersonal\": 2850.0}, {\"Distrito\": \"BELLA UNION\", \"Ingresos_Total\": 12074531.18, \"Gastos_Total\": 8342270.42, \"Personal_Limpieza\": 4, \"Residuos_Solidos\": 2400.0, \"Personal_Vigilancia\": 3, \"rate_GastosByIngresos\": 0.6908980808975806, \"rate_ResiduosByPersonal\": 600.0}, {\"Distrito\": \"CHALA\", \"Ingresos_Total\": 18399422.61, \"Gastos_Total\": 5273723.0, \"Personal_Limpieza\": 16, \"Residuos_Solidos\": 11330.0, \"Personal_Vigilancia\": 2, \"rate_GastosByIngresos\": 0.28662437467650514, \"rate_ResiduosByPersonal\": 708.125}, {\"Distrito\": \"CHAPARRA\", \"Ingresos_Total\": 13784801.81, \"Gastos_Total\": 12134132.68, \"Personal_Limpieza\": 1, \"Residuos_Solidos\": 4000.0, \"Personal_Vigilancia\": 0, \"rate_GastosByIngresos\": 0.8802544169476165, \"rate_ResiduosByPersonal\": 4000.0}, {\"Distrito\": \"HUANUHUANU\", \"Ingresos_Total\": 10667214.87, \"Gastos_Total\": 3528653.87, \"Personal_Limpieza\": 4, \"Residuos_Solidos\": 2000.0, \"Personal_Vigilancia\": 0, \"rate_GastosByIngresos\": 0.3307942994495995, \"rate_ResiduosByPersonal\": 500.0}, {\"Distrito\": \"YAUCA\", \"Ingresos_Total\": 6019222.33, \"Gastos_Total\": 3663583.39, \"Personal_Limpieza\": 4, \"Residuos_Solidos\": 2000.0, \"Personal_Vigilancia\": 0, \"rate_GastosByIngresos\": 0.608647295139869, \"rate_ResiduosByPersonal\": 500.0}, {\"Distrito\": \"CHILCAYMARCA\", \"Ingresos_Total\": 4885299.78, \"Gastos_Total\": 3601568.7, \"Personal_Limpieza\": 1, \"Residuos_Solidos\": 50.0, \"Personal_Vigilancia\": 0, \"rate_GastosByIngresos\": 0.7372257307001946, \"rate_ResiduosByPersonal\": 50.0}, {\"Distrito\": \"MACHAGUAY\", \"Ingresos_Total\": 4237419.48, \"Gastos_Total\": 1155297.95, \"Personal_Limpieza\": 1, \"Residuos_Solidos\": 100.0, \"Personal_Vigilancia\": 0, \"rate_GastosByIngresos\": 0.27264186504376947, \"rate_ResiduosByPersonal\": 100.0}, {\"Distrito\": \"URACA\", \"Ingresos_Total\": 18503784.55, \"Gastos_Total\": 12193620.74, \"Personal_Limpieza\": 1, \"Residuos_Solidos\": 2508.0, \"Personal_Vigilancia\": 2, \"rate_GastosByIngresos\": 0.6589798269133003, \"rate_ResiduosByPersonal\": 2508.0}, {\"Distrito\": \"CHIVAY\", \"Ingresos_Total\": 42097037.39, \"Gastos_Total\": 31728282.25, \"Personal_Limpieza\": 39, \"Residuos_Solidos\": 6046.0, \"Personal_Vigilancia\": 0, \"rate_GastosByIngresos\": 0.7536939465848715, \"rate_ResiduosByPersonal\": 155.02564102564102}, {\"Distrito\": \"HUAMBO\", \"Ingresos_Total\": 3933696.72, \"Gastos_Total\": 3811757.3, \"Personal_Limpieza\": 1, \"Residuos_Solidos\": 200.0, \"Personal_Vigilancia\": 0, \"rate_GastosByIngresos\": 0.9690013164004162, \"rate_ResiduosByPersonal\": 200.0}, {\"Distrito\": \"LLUTA\", \"Ingresos_Total\": 11362280.47, \"Gastos_Total\": 3285007.13, \"Personal_Limpieza\": 1, \"Residuos_Solidos\": 402.0, \"Personal_Vigilancia\": 0, \"rate_GastosByIngresos\": 0.2891151242634305, \"rate_ResiduosByPersonal\": 402.0}, {\"Distrito\": \"MADRIGAL\", \"Ingresos_Total\": 4172360.41, \"Gastos_Total\": 3273344.38, \"Personal_Limpieza\": 1, \"Residuos_Solidos\": 280.0, \"Personal_Vigilancia\": 0, \"rate_GastosByIngresos\": 0.7845305914020979, \"rate_ResiduosByPersonal\": 280.0}, {\"Distrito\": \"SAN ANTONIO DE CHUCA\", \"Ingresos_Total\": 3628912.73, \"Gastos_Total\": 2862543.02, \"Personal_Limpieza\": 1, \"Residuos_Solidos\": 1000.0, \"Personal_Vigilancia\": 3, \"rate_GastosByIngresos\": 0.7888156130996294, \"rate_ResiduosByPersonal\": 1000.0}, {\"Distrito\": \"TUTI\", \"Ingresos_Total\": 1488056.14, \"Gastos_Total\": 1420089.91, \"Personal_Limpieza\": 2, \"Residuos_Solidos\": 250.0, \"Personal_Vigilancia\": 0, \"rate_GastosByIngresos\": 0.9543254933916674, \"rate_ResiduosByPersonal\": 125.0}, {\"Distrito\": \"MAJES\", \"Ingresos_Total\": 129950698.44, \"Gastos_Total\": 94569562.36, \"Personal_Limpieza\": 88, \"Residuos_Solidos\": 45134.0, \"Personal_Vigilancia\": 1, \"rate_GastosByIngresos\": 0.7277341599180711, \"rate_ResiduosByPersonal\": 512.8863636363636}, {\"Distrito\": \"CHUQUIBAMBA\", \"Ingresos_Total\": 51193750.17, \"Gastos_Total\": 45865382.79, \"Personal_Limpieza\": 4, \"Residuos_Solidos\": 2000.0, \"Personal_Vigilancia\": 2, \"rate_GastosByIngresos\": 0.8959176195862582, \"rate_ResiduosByPersonal\": 500.0}, {\"Distrito\": \"CHICHAS\", \"Ingresos_Total\": 8883497.26, \"Gastos_Total\": 6826135.38, \"Personal_Limpieza\": 1, \"Residuos_Solidos\": 80.0, \"Personal_Vigilancia\": 0, \"rate_GastosByIngresos\": 0.7684063134387684, \"rate_ResiduosByPersonal\": 80.0}, {\"Distrito\": \"MOLLENDO\", \"Ingresos_Total\": 57822326.6, \"Gastos_Total\": 42852409.81, \"Personal_Limpieza\": 11, \"Residuos_Solidos\": 27000.0, \"Personal_Vigilancia\": 40, \"rate_GastosByIngresos\": 0.741104904104637, \"rate_ResiduosByPersonal\": 2454.5454545454545}, {\"Distrito\": \"COCACHACRA\", \"Ingresos_Total\": 34171562.45, \"Gastos_Total\": 15741288.02, \"Personal_Limpieza\": 12, \"Residuos_Solidos\": 13550.0, \"Personal_Vigilancia\": 4, \"rate_GastosByIngresos\": 0.46065461721373524, \"rate_ResiduosByPersonal\": 1129.1666666666667}, {\"Distrito\": \"DEAN VALDIVIA\", \"Ingresos_Total\": 18295839.19, \"Gastos_Total\": 10165789.23, \"Personal_Limpieza\": 11, \"Residuos_Solidos\": 2000.0, \"Personal_Vigilancia\": 6, \"rate_GastosByIngresos\": 0.5556339408337355, \"rate_ResiduosByPersonal\": 181.8181818181818}, {\"Distrito\": \"ISLAY\", \"Ingresos_Total\": 33706396.45, \"Gastos_Total\": 17078305.64, \"Personal_Limpieza\": 31, \"Residuos_Solidos\": 3591.0, \"Personal_Vigilancia\": 5, \"rate_GastosByIngresos\": 0.5066784776395163, \"rate_ResiduosByPersonal\": 115.83870967741936}, {\"Distrito\": \"MEJIA\", \"Ingresos_Total\": 12547672.0, \"Gastos_Total\": 7790417.15, \"Personal_Limpieza\": 18, \"Residuos_Solidos\": 1800.0, \"Personal_Vigilancia\": 11, \"rate_GastosByIngresos\": 0.6208655398387845, \"rate_ResiduosByPersonal\": 100.0}, {\"Distrito\": \"PUNTA DE BOMBON\", \"Ingresos_Total\": 20201278.39, \"Gastos_Total\": 9726576.44, \"Personal_Limpieza\": 22, \"Residuos_Solidos\": 2200.0, \"Personal_Vigilancia\": 7, \"rate_GastosByIngresos\": 0.4814832136967545, \"rate_ResiduosByPersonal\": 100.0}, {\"Distrito\": \"COTAHUASI\", \"Ingresos_Total\": 15790600.32, \"Gastos_Total\": 8967737.62, \"Personal_Limpieza\": 1, \"Residuos_Solidos\": 1666.0, \"Personal_Vigilancia\": 1, \"rate_GastosByIngresos\": 0.5679161930684595, \"rate_ResiduosByPersonal\": 1666.0}, {\"Distrito\": \"AYACUCHO\", \"Ingresos_Total\": 92230072.65, \"Gastos_Total\": 80349698.16, \"Personal_Limpieza\": 171, \"Residuos_Solidos\": 89811.0, \"Personal_Vigilancia\": 0, \"rate_GastosByIngresos\": 0.8711876273253699, \"rate_ResiduosByPersonal\": 525.2105263157895}, {\"Distrito\": \"ACOCRO\", \"Ingresos_Total\": 27440457.06, \"Gastos_Total\": 19586721.47, \"Personal_Limpieza\": 1, \"Residuos_Solidos\": 1500.0, \"Personal_Vigilancia\": 1, \"rate_GastosByIngresos\": 0.7137899134541602, \"rate_ResiduosByPersonal\": 1500.0}, {\"Distrito\": \"CARMEN ALTO\", \"Ingresos_Total\": 21474828.22, \"Gastos_Total\": 28532542.15, \"Personal_Limpieza\": 14, \"Residuos_Solidos\": 22000.0, \"Personal_Vigilancia\": 2, \"rate_GastosByIngresos\": 1.3286505418202597, \"rate_ResiduosByPersonal\": 1571.4285714285713}, {\"Distrito\": \"OCROS\", \"Ingresos_Total\": 32753695.08, \"Gastos_Total\": 26516076.86, \"Personal_Limpieza\": 1, \"Residuos_Solidos\": 500.0, \"Personal_Vigilancia\": 1, \"rate_GastosByIngresos\": 0.8095598617265994, \"rate_ResiduosByPersonal\": 500.0}, {\"Distrito\": \"QUINUA\", \"Ingresos_Total\": 15204946.88, \"Gastos_Total\": 14452523.3, \"Personal_Limpieza\": 8, \"Residuos_Solidos\": 1900.0, \"Personal_Vigilancia\": 0, \"rate_GastosByIngresos\": 0.950514553852884, \"rate_ResiduosByPersonal\": 237.5}, {\"Distrito\": \"SAN JUAN BAUTISTA\", \"Ingresos_Total\": 35825106.15, \"Gastos_Total\": 28990848.86, \"Personal_Limpieza\": 59, \"Residuos_Solidos\": 39000.0, \"Personal_Vigilancia\": 0, \"rate_GastosByIngresos\": 0.8092327413801675, \"rate_ResiduosByPersonal\": 661.0169491525423}, {\"Distrito\": \"JESUS NAZARENO\", \"Ingresos_Total\": 12640159.9, \"Gastos_Total\": 12322237.82, \"Personal_Limpieza\": 29, \"Residuos_Solidos\": 16000.0, \"Personal_Vigilancia\": 0, \"rate_GastosByIngresos\": 0.9748482548863958, \"rate_ResiduosByPersonal\": 551.7241379310345}, {\"Distrito\": \"ANDR\\u00c9S AVELINO C\\u00c1CERES DORREGARAY\", \"Ingresos_Total\": 17083010.62, \"Gastos_Total\": 15192560.86, \"Personal_Limpieza\": 24, \"Residuos_Solidos\": 21000.0, \"Personal_Vigilancia\": 1, \"rate_GastosByIngresos\": 0.8893374357686841, \"rate_ResiduosByPersonal\": 875.0}, {\"Distrito\": \"CANGALLO\", \"Ingresos_Total\": 12070516.05, \"Gastos_Total\": 13804205.91, \"Personal_Limpieza\": 16, \"Residuos_Solidos\": 2800.0, \"Personal_Vigilancia\": 0, \"rate_GastosByIngresos\": 1.1436301358465946, \"rate_ResiduosByPersonal\": 175.0}, {\"Distrito\": \"CHUSCHI\", \"Ingresos_Total\": 5847384.06, \"Gastos_Total\": 5913420.83, \"Personal_Limpieza\": 1, \"Residuos_Solidos\": 1000.0, \"Personal_Vigilancia\": 0, \"rate_GastosByIngresos\": 1.0112933868072282, \"rate_ResiduosByPersonal\": 1000.0}, {\"Distrito\": \"LOS MOROCHUCOS\", \"Ingresos_Total\": 9948056.6, \"Gastos_Total\": 9400674.2, \"Personal_Limpieza\": 2, \"Residuos_Solidos\": 700.0, \"Personal_Vigilancia\": 0, \"rate_GastosByIngresos\": 0.9449759463572011, \"rate_ResiduosByPersonal\": 350.0}, {\"Distrito\": \"MARIA PARADO DE BELLIDO\", \"Ingresos_Total\": 6956760.36, \"Gastos_Total\": 7320049.76, \"Personal_Limpieza\": 1, \"Residuos_Solidos\": 200.0, \"Personal_Vigilancia\": 0, \"rate_GastosByIngresos\": 1.0522210599762558, \"rate_ResiduosByPersonal\": 200.0}, {\"Distrito\": \"PARAS\", \"Ingresos_Total\": 9386309.2, \"Gastos_Total\": 12409861.24, \"Personal_Limpieza\": 5, \"Residuos_Solidos\": 215.0, \"Personal_Vigilancia\": 0, \"rate_GastosByIngresos\": 1.3221236351344574, \"rate_ResiduosByPersonal\": 43.0}, {\"Distrito\": \"SANCOS\", \"Ingresos_Total\": 23658822.87, \"Gastos_Total\": 20885933.59, \"Personal_Limpieza\": 4, \"Residuos_Solidos\": 2178.0, \"Personal_Vigilancia\": 2, \"rate_GastosByIngresos\": 0.8827968198064454, \"rate_ResiduosByPersonal\": 544.5}, {\"Distrito\": \"HUANTA\", \"Ingresos_Total\": 50980792.78, \"Gastos_Total\": 52080869.26, \"Personal_Limpieza\": 40, \"Residuos_Solidos\": 18000.0, \"Personal_Vigilancia\": 10, \"rate_GastosByIngresos\": 1.0215782536914875, \"rate_ResiduosByPersonal\": 450.0}, {\"Distrito\": \"SIVIA\", \"Ingresos_Total\": 14813322.81, \"Gastos_Total\": 12825323.65, \"Personal_Limpieza\": 2, \"Residuos_Solidos\": 7500.0, \"Personal_Vigilancia\": 0, \"rate_GastosByIngresos\": 0.8657965410260307, \"rate_ResiduosByPersonal\": 3750.0}, {\"Distrito\": \"LLOCHEGUA\", \"Ingresos_Total\": 41326368.64, \"Gastos_Total\": 31148237.91, \"Personal_Limpieza\": 15, \"Residuos_Solidos\": 7000.0, \"Personal_Vigilancia\": 1, \"rate_GastosByIngresos\": 0.7537134022429317, \"rate_ResiduosByPersonal\": 466.6666666666667}, {\"Distrito\": \"CANAYRE\", \"Ingresos_Total\": 14328408.38, \"Gastos_Total\": 17838649.97, \"Personal_Limpieza\": 2, \"Residuos_Solidos\": 2000.0, \"Personal_Vigilancia\": 0, \"rate_GastosByIngresos\": 1.2449847531495328, \"rate_ResiduosByPersonal\": 1000.0}, {\"Distrito\": \"SAN MIGUEL\", \"Ingresos_Total\": 39423151.84, \"Gastos_Total\": 37311573.92, \"Personal_Limpieza\": 1, \"Residuos_Solidos\": 2800.0, \"Personal_Vigilancia\": 0, \"rate_GastosByIngresos\": 0.9464381252780117, \"rate_ResiduosByPersonal\": 2800.0}, {\"Distrito\": \"SANTA ROSA\", \"Ingresos_Total\": 27445175.06, \"Gastos_Total\": 26652563.82, \"Personal_Limpieza\": 11, \"Residuos_Solidos\": 5600.0, \"Personal_Vigilancia\": 2, \"rate_GastosByIngresos\": 0.9711201973291403, \"rate_ResiduosByPersonal\": 509.09090909090907}, {\"Distrito\": \"TAMBO\", \"Ingresos_Total\": 28561876.26, \"Gastos_Total\": 19556132.61, \"Personal_Limpieza\": 10, \"Residuos_Solidos\": 5000.0, \"Personal_Vigilancia\": 4, \"rate_GastosByIngresos\": 0.6846935555626554, \"rate_ResiduosByPersonal\": 500.0}, {\"Distrito\": \"SAMUGARI\", \"Ingresos_Total\": 17724530.2, \"Gastos_Total\": 13715906.96, \"Personal_Limpieza\": 5, \"Residuos_Solidos\": 4000.0, \"Personal_Vigilancia\": 0, \"rate_GastosByIngresos\": 0.7738375463401564, \"rate_ResiduosByPersonal\": 800.0}, {\"Distrito\": \"ANCHIHUAY\", \"Ingresos_Total\": 26719234.49, \"Gastos_Total\": 22771893.05, \"Personal_Limpieza\": 2, \"Residuos_Solidos\": 500.0, \"Personal_Vigilancia\": 0, \"rate_GastosByIngresos\": 0.8522659232068441, \"rate_ResiduosByPersonal\": 250.0}, {\"Distrito\": \"PUQUIO\", \"Ingresos_Total\": 44729412.45, \"Gastos_Total\": 41218687.78, \"Personal_Limpieza\": 1, \"Residuos_Solidos\": 12000.0, \"Personal_Vigilancia\": 0, \"rate_GastosByIngresos\": 0.9215119430883559, \"rate_ResiduosByPersonal\": 12000.0}, {\"Distrito\": \"CABANA\", \"Ingresos_Total\": 4692756.13, \"Gastos_Total\": 4798504.53, \"Personal_Limpieza\": 8, \"Residuos_Solidos\": 1600.0, \"Personal_Vigilancia\": 0, \"rate_GastosByIngresos\": 1.0225343906801312, \"rate_ResiduosByPersonal\": 200.0}, {\"Distrito\": \"CHIPAO\", \"Ingresos_Total\": 8395088.19, \"Gastos_Total\": 5480745.37, \"Personal_Limpieza\": 1, \"Residuos_Solidos\": 1700.0, \"Personal_Vigilancia\": 0, \"rate_GastosByIngresos\": 0.6528514347864165, \"rate_ResiduosByPersonal\": 1700.0}, {\"Distrito\": \"LARAMATE\", \"Ingresos_Total\": 3960627.96, \"Gastos_Total\": 2760187.87, \"Personal_Limpieza\": 5, \"Residuos_Solidos\": 350.0, \"Personal_Vigilancia\": 0, \"rate_GastosByIngresos\": 0.6969066263926491, \"rate_ResiduosByPersonal\": 70.0}, {\"Distrito\": \"LLAUTA\", \"Ingresos_Total\": 2280315.78, \"Gastos_Total\": 2582747.55, \"Personal_Limpieza\": 1, \"Residuos_Solidos\": 250.0, \"Personal_Vigilancia\": 0, \"rate_GastosByIngresos\": 1.1326271442984095, \"rate_ResiduosByPersonal\": 250.0}, {\"Distrito\": \"LUCANAS\", \"Ingresos_Total\": 7209930.79, \"Gastos_Total\": 8101021.1, \"Personal_Limpieza\": 2, \"Residuos_Solidos\": 1000.0, \"Personal_Vigilancia\": 1, \"rate_GastosByIngresos\": 1.1235920754240694, \"rate_ResiduosByPersonal\": 500.0}, {\"Distrito\": \"OCA\\u00d1A\", \"Ingresos_Total\": 3675615.36, \"Gastos_Total\": 3032947.04, \"Personal_Limpieza\": 1, \"Residuos_Solidos\": 410.0, \"Personal_Vigilancia\": 0, \"rate_GastosByIngresos\": 0.8251535438136813, \"rate_ResiduosByPersonal\": 410.0}, {\"Distrito\": \"OTOCA\", \"Ingresos_Total\": 3635093.38, \"Gastos_Total\": 2485110.25, \"Personal_Limpieza\": 2, \"Residuos_Solidos\": 450.0, \"Personal_Vigilancia\": 0, \"rate_GastosByIngresos\": 0.6836441296591946, \"rate_ResiduosByPersonal\": 225.0}, {\"Distrito\": \"SAISA\", \"Ingresos_Total\": 3241591.16, \"Gastos_Total\": 2482254.68, \"Personal_Limpieza\": 1, \"Residuos_Solidos\": 500.0, \"Personal_Vigilancia\": 0, \"rate_GastosByIngresos\": 0.7657519278279374, \"rate_ResiduosByPersonal\": 500.0}, {\"Distrito\": \"SAN JUAN\", \"Ingresos_Total\": 2736545.48, \"Gastos_Total\": 3058582.43, \"Personal_Limpieza\": 2, \"Residuos_Solidos\": 750.0, \"Personal_Vigilancia\": 0, \"rate_GastosByIngresos\": 1.1176801015563609, \"rate_ResiduosByPersonal\": 375.0}, {\"Distrito\": \"SANTA ANA DE HUAYCAHUACHO\", \"Ingresos_Total\": 1469684.13, \"Gastos_Total\": 1199207.84, \"Personal_Limpieza\": 1, \"Residuos_Solidos\": 170.0, \"Personal_Vigilancia\": 0, \"rate_GastosByIngresos\": 0.8159629783850222, \"rate_ResiduosByPersonal\": 170.0}, {\"Distrito\": \"LAMPA\", \"Ingresos_Total\": 3785496.07, \"Gastos_Total\": 3413862.11, \"Personal_Limpieza\": 2, \"Residuos_Solidos\": 583.0, \"Personal_Vigilancia\": 0, \"rate_GastosByIngresos\": 0.9018268799840545, \"rate_ResiduosByPersonal\": 291.5}, {\"Distrito\": \"SANTIAGO DE PAUCARAY\", \"Ingresos_Total\": 2210822.16, \"Gastos_Total\": 2226402.66, \"Personal_Limpieza\": 2, \"Residuos_Solidos\": 506.0, \"Personal_Vigilancia\": 1, \"rate_GastosByIngresos\": 1.0070473782477374, \"rate_ResiduosByPersonal\": 253.0}, {\"Distrito\": \"HUANCAPI\", \"Ingresos_Total\": 20051937.46, \"Gastos_Total\": 16382310.38, \"Personal_Limpieza\": 6, \"Residuos_Solidos\": 1650.0, \"Personal_Vigilancia\": 0, \"rate_GastosByIngresos\": 0.816993889626863, \"rate_ResiduosByPersonal\": 275.0}, {\"Distrito\": \"CANARIA\", \"Ingresos_Total\": 3312370.64, \"Gastos_Total\": 2087001.18, \"Personal_Limpieza\": 2, \"Residuos_Solidos\": 710.0, \"Personal_Vigilancia\": 0, \"rate_GastosByIngresos\": 0.6300626973314798, \"rate_ResiduosByPersonal\": 355.0}, {\"Distrito\": \"CAYARA\", \"Ingresos_Total\": 1951984.16, \"Gastos_Total\": 1954426.63, \"Personal_Limpieza\": 2, \"Residuos_Solidos\": 443.0, \"Personal_Vigilancia\": 0, \"rate_GastosByIngresos\": 1.0012512755226457, \"rate_ResiduosByPersonal\": 221.5}, {\"Distrito\": \"HUANCARAYLLA\", \"Ingresos_Total\": 1854134.49, \"Gastos_Total\": 2023139.93, \"Personal_Limpieza\": 2, \"Residuos_Solidos\": 350.0, \"Personal_Vigilancia\": 0, \"rate_GastosByIngresos\": 1.0911505831489063, \"rate_ResiduosByPersonal\": 175.0}, {\"Distrito\": \"VILCAS HUAMAN\", \"Ingresos_Total\": 18642114.24, \"Gastos_Total\": 15742594.45, \"Personal_Limpieza\": 16, \"Residuos_Solidos\": 3450.0, \"Personal_Vigilancia\": 0, \"rate_GastosByIngresos\": 0.8444640048509863, \"rate_ResiduosByPersonal\": 215.625}, {\"Distrito\": \"VISCHONGO\", \"Ingresos_Total\": 4380094.05, \"Gastos_Total\": 8632808.42, \"Personal_Limpieza\": 1, \"Residuos_Solidos\": 400.0, \"Personal_Vigilancia\": 0, \"rate_GastosByIngresos\": 1.9709185057339123, \"rate_ResiduosByPersonal\": 400.0}, {\"Distrito\": \"CAJAMARCA\", \"Ingresos_Total\": 217923061.14, \"Gastos_Total\": 173423333.63, \"Personal_Limpieza\": 518, \"Residuos_Solidos\": 165000.0, \"Personal_Vigilancia\": 106, \"rate_GastosByIngresos\": 0.7958007414304258, \"rate_ResiduosByPersonal\": 318.5328185328185}, {\"Distrito\": \"ASUNCION\", \"Ingresos_Total\": 16908487.14, \"Gastos_Total\": 11839247.2, \"Personal_Limpieza\": 9, \"Residuos_Solidos\": 750.0, \"Personal_Vigilancia\": 5, \"rate_GastosByIngresos\": 0.7001955350571949, \"rate_ResiduosByPersonal\": 83.33333333333333}, {\"Distrito\": \"COSPAN\", \"Ingresos_Total\": 7395366.58, \"Gastos_Total\": 5977851.69, \"Personal_Limpieza\": 10, \"Residuos_Solidos\": 700.0, \"Personal_Vigilancia\": 4, \"rate_GastosByIngresos\": 0.8083239181363204, \"rate_ResiduosByPersonal\": 70.0}, {\"Distrito\": \"ENCA\\u00d1ADA\", \"Ingresos_Total\": 71578587.61, \"Gastos_Total\": 58214790.44, \"Personal_Limpieza\": 14, \"Residuos_Solidos\": 500.0, \"Personal_Vigilancia\": 11, \"rate_GastosByIngresos\": 0.8132989541116205, \"rate_ResiduosByPersonal\": 35.714285714285715}, {\"Distrito\": \"LLACANORA\", \"Ingresos_Total\": 9407938.51, \"Gastos_Total\": 8551507.0, \"Personal_Limpieza\": 2, \"Residuos_Solidos\": 500.0, \"Personal_Vigilancia\": 0, \"rate_GastosByIngresos\": 0.9089671441740748, \"rate_ResiduosByPersonal\": 250.0}, {\"Distrito\": \"LOS BA\\u00d1OS DEL INCA\", \"Ingresos_Total\": 62121854.34, \"Gastos_Total\": 63257150.13, \"Personal_Limpieza\": 51, \"Residuos_Solidos\": 17800.0, \"Personal_Vigilancia\": 25, \"rate_GastosByIngresos\": 1.0182753042719297, \"rate_ResiduosByPersonal\": 349.01960784313724}, {\"Distrito\": \"MAGDALENA\", \"Ingresos_Total\": 7759341.97, \"Gastos_Total\": 5130757.86, \"Personal_Limpieza\": 1, \"Residuos_Solidos\": 3400.0, \"Personal_Vigilancia\": 0, \"rate_GastosByIngresos\": 0.6612362078945724, \"rate_ResiduosByPersonal\": 3400.0}, {\"Distrito\": \"MATARA\", \"Ingresos_Total\": 8538298.25, \"Gastos_Total\": 8234340.52, \"Personal_Limpieza\": 8, \"Residuos_Solidos\": 800.0, \"Personal_Vigilancia\": 0, \"rate_GastosByIngresos\": 0.9644006661397662, \"rate_ResiduosByPersonal\": 100.0}, {\"Distrito\": \"NAMORA\", \"Ingresos_Total\": 19779671.27, \"Gastos_Total\": 15069631.02, \"Personal_Limpieza\": 3, \"Residuos_Solidos\": 3600.0, \"Personal_Vigilancia\": 0, \"rate_GastosByIngresos\": 0.7618746952006347, \"rate_ResiduosByPersonal\": 1200.0}, {\"Distrito\": \"SAN JUAN\", \"Ingresos_Total\": 4110197.08, \"Gastos_Total\": 3649527.43, \"Personal_Limpieza\": 10, \"Residuos_Solidos\": 676.0, \"Personal_Vigilancia\": 0, \"rate_GastosByIngresos\": 0.8879203013788332, \"rate_ResiduosByPersonal\": 67.6}, {\"Distrito\": \"CAJABAMBA\", \"Ingresos_Total\": 68377406.1, \"Gastos_Total\": 55790215.82, \"Personal_Limpieza\": 75, \"Residuos_Solidos\": 16000.0, \"Personal_Vigilancia\": 10, \"rate_GastosByIngresos\": 0.8159159436145971, \"rate_ResiduosByPersonal\": 213.33333333333334}, {\"Distrito\": \"CACHACHI\", \"Ingresos_Total\": 55584474.31, \"Gastos_Total\": 32562099.21, \"Personal_Limpieza\": 13, \"Residuos_Solidos\": 558.0, \"Personal_Vigilancia\": 8, \"rate_GastosByIngresos\": 0.5858128481776766, \"rate_ResiduosByPersonal\": 42.92307692307692}, {\"Distrito\": \"SITACOCHA\", \"Ingresos_Total\": 10802984.0, \"Gastos_Total\": 5366115.39, \"Personal_Limpieza\": 3, \"Residuos_Solidos\": 3000.0, \"Personal_Vigilancia\": 0, \"rate_GastosByIngresos\": 0.49672529275244687, \"rate_ResiduosByPersonal\": 1000.0}, {\"Distrito\": \"CORTEGANA\", \"Ingresos_Total\": 7791704.84, \"Gastos_Total\": 6672543.56, \"Personal_Limpieza\": 2, \"Residuos_Solidos\": 200.0, \"Personal_Vigilancia\": 0, \"rate_GastosByIngresos\": 0.8563650314043466, \"rate_ResiduosByPersonal\": 100.0}, {\"Distrito\": \"CHOTA\", \"Ingresos_Total\": 85572398.09, \"Gastos_Total\": 62058107.58, \"Personal_Limpieza\": 56, \"Residuos_Solidos\": 135000.0, \"Personal_Vigilancia\": 19, \"rate_GastosByIngresos\": 0.7252117384244735, \"rate_ResiduosByPersonal\": 2410.714285714286}, {\"Distrito\": \"ANGUIA\", \"Ingresos_Total\": 17776014.23, \"Gastos_Total\": 14370262.74, \"Personal_Limpieza\": 4, \"Residuos_Solidos\": 400.0, \"Personal_Vigilancia\": 1, \"rate_GastosByIngresos\": 0.8084074727926227, \"rate_ResiduosByPersonal\": 100.0}, {\"Distrito\": \"CHIMBAN\", \"Ingresos_Total\": 2473364.51, \"Gastos_Total\": 2363499.2, \"Personal_Limpieza\": 2, \"Residuos_Solidos\": 200.0, \"Personal_Vigilancia\": 0, \"rate_GastosByIngresos\": 0.9555806232539499, \"rate_ResiduosByPersonal\": 100.0}, {\"Distrito\": \"COCHABAMBA\", \"Ingresos_Total\": 10700324.75, \"Gastos_Total\": 9349516.51, \"Personal_Limpieza\": 2, \"Residuos_Solidos\": 350.0, \"Personal_Vigilancia\": 2, \"rate_GastosByIngresos\": 0.8737600706931815, \"rate_ResiduosByPersonal\": 175.0}, {\"Distrito\": \"CONCHAN\", \"Ingresos_Total\": 10255695.33, \"Gastos_Total\": 10243767.76, \"Personal_Limpieza\": 8, \"Residuos_Solidos\": 4000.0, \"Personal_Vigilancia\": 0, \"rate_GastosByIngresos\": 0.9988369808563726, \"rate_ResiduosByPersonal\": 500.0}, {\"Distrito\": \"HUAMBOS\", \"Ingresos_Total\": 10130106.14, \"Gastos_Total\": 14167770.41, \"Personal_Limpieza\": 1, \"Residuos_Solidos\": 1200.0, \"Personal_Vigilancia\": 0, \"rate_GastosByIngresos\": 1.3985806480404754, \"rate_ResiduosByPersonal\": 1200.0}, {\"Distrito\": \"LAJAS\", \"Ingresos_Total\": 8614422.38, \"Gastos_Total\": 8239528.5, \"Personal_Limpieza\": 14, \"Residuos_Solidos\": 3200.0, \"Personal_Vigilancia\": 0, \"rate_GastosByIngresos\": 0.9564806711973646, \"rate_ResiduosByPersonal\": 228.57142857142858}, {\"Distrito\": \"LLAMA\", \"Ingresos_Total\": 20594746.99, \"Gastos_Total\": 19201506.19, \"Personal_Limpieza\": 2, \"Residuos_Solidos\": 500.0, \"Personal_Vigilancia\": 0, \"rate_GastosByIngresos\": 0.9323497005971232, \"rate_ResiduosByPersonal\": 250.0}, {\"Distrito\": \"QUEROCOTO\", \"Ingresos_Total\": 19244760.18, \"Gastos_Total\": 16396909.75, \"Personal_Limpieza\": 22, \"Residuos_Solidos\": 2000.0, \"Personal_Vigilancia\": 14, \"rate_GastosByIngresos\": 0.8520194378436781, \"rate_ResiduosByPersonal\": 90.9090909090909}, {\"Distrito\": \"SAN JUAN DE LICUPIS\", \"Ingresos_Total\": 2737479.15, \"Gastos_Total\": 2287446.55, \"Personal_Limpieza\": 7, \"Residuos_Solidos\": 20.0, \"Personal_Vigilancia\": 2, \"rate_GastosByIngresos\": 0.8356032775628629, \"rate_ResiduosByPersonal\": 2.857142857142857}, {\"Distrito\": \"TACABAMBA\", \"Ingresos_Total\": 30455171.52, \"Gastos_Total\": 24000703.16, \"Personal_Limpieza\": 23, \"Residuos_Solidos\": 2000.0, \"Personal_Vigilancia\": 5, \"rate_GastosByIngresos\": 0.788066589749418, \"rate_ResiduosByPersonal\": 86.95652173913044}, {\"Distrito\": \"CHALAMARCA\", \"Ingresos_Total\": 9693585.81, \"Gastos_Total\": 9551225.6, \"Personal_Limpieza\": 9, \"Residuos_Solidos\": 690.0, \"Personal_Vigilancia\": 1, \"rate_GastosByIngresos\": 0.9853139784605671, \"rate_ResiduosByPersonal\": 76.66666666666667}, {\"Distrito\": \"CONTUMAZA\", \"Ingresos_Total\": 24470747.25, \"Gastos_Total\": 21510852.83, \"Personal_Limpieza\": 3, \"Residuos_Solidos\": 2610.0, \"Personal_Vigilancia\": 0, \"rate_GastosByIngresos\": 0.8790435621045449, \"rate_ResiduosByPersonal\": 870.0}, {\"Distrito\": \"CHILETE\", \"Ingresos_Total\": 8789759.55, \"Gastos_Total\": 6120487.71, \"Personal_Limpieza\": 10, \"Residuos_Solidos\": 4320.0, \"Personal_Vigilancia\": 0, \"rate_GastosByIngresos\": 0.6963202662352691, \"rate_ResiduosByPersonal\": 432.0}, {\"Distrito\": \"CUPISNIQUE\", \"Ingresos_Total\": 1601823.95, \"Gastos_Total\": 2513416.42, \"Personal_Limpieza\": 1, \"Residuos_Solidos\": 50.0, \"Personal_Vigilancia\": 0, \"rate_GastosByIngresos\": 1.569096541476983, \"rate_ResiduosByPersonal\": 50.0}, {\"Distrito\": \"SAN BENITO\", \"Ingresos_Total\": 5568777.48, \"Gastos_Total\": 5133172.62, \"Personal_Limpieza\": 1, \"Residuos_Solidos\": 900.0, \"Personal_Vigilancia\": 0, \"rate_GastosByIngresos\": 0.9217772910545529, \"rate_ResiduosByPersonal\": 900.0}, {\"Distrito\": \"TANTARICA\", \"Ingresos_Total\": 4770689.28, \"Gastos_Total\": 3483611.22, \"Personal_Limpieza\": 7, \"Residuos_Solidos\": 1042.0, \"Personal_Vigilancia\": 1, \"rate_GastosByIngresos\": 0.7302112997809826, \"rate_ResiduosByPersonal\": 148.85714285714286}, {\"Distrito\": \"YONAN\", \"Ingresos_Total\": 11860318.14, \"Gastos_Total\": 6343662.97, \"Personal_Limpieza\": 12, \"Residuos_Solidos\": 3486.0, \"Personal_Vigilancia\": 0, \"rate_GastosByIngresos\": 0.5348644863585421, \"rate_ResiduosByPersonal\": 290.5}, {\"Distrito\": \"CUTERVO\", \"Ingresos_Total\": 86215178.68, \"Gastos_Total\": 61463431.05, \"Personal_Limpieza\": 70, \"Residuos_Solidos\": 29394.0, \"Personal_Vigilancia\": 17, \"rate_GastosByIngresos\": 0.7129073092585045, \"rate_ResiduosByPersonal\": 419.9142857142857}, {\"Distrito\": \"PIMPINGOS\", \"Ingresos_Total\": 15906174.43, \"Gastos_Total\": 15728753.74, \"Personal_Limpieza\": 8, \"Residuos_Solidos\": 1000.0, \"Personal_Vigilancia\": 0, \"rate_GastosByIngresos\": 0.9888457975372523, \"rate_ResiduosByPersonal\": 125.0}, {\"Distrito\": \"SAN ANDRES DE CUTERVO\", \"Ingresos_Total\": 5650760.28, \"Gastos_Total\": 4726129.98, \"Personal_Limpieza\": 1, \"Residuos_Solidos\": 2000.0, \"Personal_Vigilancia\": 0, \"rate_GastosByIngresos\": 0.836370637899366, \"rate_ResiduosByPersonal\": 2000.0}, {\"Distrito\": \"SAN JUAN DE CUTERVO\", \"Ingresos_Total\": 10574636.66, \"Gastos_Total\": 8584466.31, \"Personal_Limpieza\": 1, \"Residuos_Solidos\": 290.0, \"Personal_Vigilancia\": 0, \"rate_GastosByIngresos\": 0.8117977558956622, \"rate_ResiduosByPersonal\": 290.0}, {\"Distrito\": \"SAN LUIS DE LUCMA\", \"Ingresos_Total\": 4477587.38, \"Gastos_Total\": 3491821.78, \"Personal_Limpieza\": 1, \"Residuos_Solidos\": 250.0, \"Personal_Vigilancia\": 1, \"rate_GastosByIngresos\": 0.7798444750842584, \"rate_ResiduosByPersonal\": 250.0}, {\"Distrito\": \"SANTA CRUZ\", \"Ingresos_Total\": 6002666.16, \"Gastos_Total\": 8730341.77, \"Personal_Limpieza\": 1, \"Residuos_Solidos\": 500.0, \"Personal_Vigilancia\": 0, \"rate_GastosByIngresos\": 1.4544106797370187, \"rate_ResiduosByPersonal\": 500.0}, {\"Distrito\": \"SANTO DOMINGO DE LA CAPILLA\", \"Ingresos_Total\": 7969469.2, \"Gastos_Total\": 7501718.6, \"Personal_Limpieza\": 1, \"Residuos_Solidos\": 1500.0, \"Personal_Vigilancia\": 0, \"rate_GastosByIngresos\": 0.9413071826665695, \"rate_ResiduosByPersonal\": 1500.0}, {\"Distrito\": \"SOCOTA\", \"Ingresos_Total\": 8338335.16, \"Gastos_Total\": 9120066.7, \"Personal_Limpieza\": 5, \"Residuos_Solidos\": 978.0, \"Personal_Vigilancia\": 0, \"rate_GastosByIngresos\": 1.093751513341663, \"rate_ResiduosByPersonal\": 195.6}, {\"Distrito\": \"TORIBIO CASANOVA\", \"Ingresos_Total\": 2234083.3, \"Gastos_Total\": 2431923.55, \"Personal_Limpieza\": 1, \"Residuos_Solidos\": 200.0, \"Personal_Vigilancia\": 0, \"rate_GastosByIngresos\": 1.0885554491186609, \"rate_ResiduosByPersonal\": 200.0}, {\"Distrito\": \"BAMBAMARCA\", \"Ingresos_Total\": 129634723.23, \"Gastos_Total\": 79417618.76, \"Personal_Limpieza\": 25, \"Residuos_Solidos\": 16687.0, \"Personal_Vigilancia\": 35, \"rate_GastosByIngresos\": 0.6126261296450334, \"rate_ResiduosByPersonal\": 667.48}, {\"Distrito\": \"HUALGAYOC\", \"Ingresos_Total\": 43965243.56, \"Gastos_Total\": 26761082.27, \"Personal_Limpieza\": 25, \"Residuos_Solidos\": 1550.0, \"Personal_Vigilancia\": 13, \"rate_GastosByIngresos\": 0.6086872288897652, \"rate_ResiduosByPersonal\": 62.0}, {\"Distrito\": \"JAEN\", \"Ingresos_Total\": 99514118.17, \"Gastos_Total\": 86335660.11, \"Personal_Limpieza\": 178, \"Residuos_Solidos\": 120000.0, \"Personal_Vigilancia\": 26, \"rate_GastosByIngresos\": 0.8675719756920597, \"rate_ResiduosByPersonal\": 674.1573033707865}, {\"Distrito\": \"BELLAVISTA\", \"Ingresos_Total\": 14937998.43, \"Gastos_Total\": 11884413.21, \"Personal_Limpieza\": 24, \"Residuos_Solidos\": 10000.0, \"Personal_Vigilancia\": 0, \"rate_GastosByIngresos\": 0.7955827057882481, \"rate_ResiduosByPersonal\": 416.6666666666667}, {\"Distrito\": \"CHONTALI\", \"Ingresos_Total\": 12235472.35, \"Gastos_Total\": 11225782.76, \"Personal_Limpieza\": 5, \"Residuos_Solidos\": 1000.0, \"Personal_Vigilancia\": 2, \"rate_GastosByIngresos\": 0.9174784952213144, \"rate_ResiduosByPersonal\": 200.0}, {\"Distrito\": \"PUCARA\", \"Ingresos_Total\": 5299759.78, \"Gastos_Total\": 4855527.28, \"Personal_Limpieza\": 6, \"Residuos_Solidos\": 4000.0, \"Personal_Vigilancia\": 1, \"rate_GastosByIngresos\": 0.9161787480111032, \"rate_ResiduosByPersonal\": 666.6666666666666}, {\"Distrito\": \"SAN FELIPE\", \"Ingresos_Total\": 5128360.24, \"Gastos_Total\": 5133059.95, \"Personal_Limpieza\": 1, \"Residuos_Solidos\": 1500.0, \"Personal_Vigilancia\": 1, \"rate_GastosByIngresos\": 1.0009164157313566, \"rate_ResiduosByPersonal\": 1500.0}, {\"Distrito\": \"SAN JOSE DEL ALTO\", \"Ingresos_Total\": 8807099.02, \"Gastos_Total\": 7212461.41, \"Personal_Limpieza\": 2, \"Residuos_Solidos\": 383.0, \"Personal_Vigilancia\": 5, \"rate_GastosByIngresos\": 0.8189372452406014, \"rate_ResiduosByPersonal\": 191.5}, {\"Distrito\": \"SANTA ROSA\", \"Ingresos_Total\": 23086708.29, \"Gastos_Total\": 16644346.44, \"Personal_Limpieza\": 7, \"Residuos_Solidos\": 300.0, \"Personal_Vigilancia\": 0, \"rate_GastosByIngresos\": 0.7209493112194558, \"rate_ResiduosByPersonal\": 42.857142857142854}, {\"Distrito\": \"SAN IGNACIO\", \"Ingresos_Total\": 69609980.2, \"Gastos_Total\": 67417286.47, \"Personal_Limpieza\": 1, \"Residuos_Solidos\": 5100.0, \"Personal_Vigilancia\": 2, \"rate_GastosByIngresos\": 0.9685002965997108, \"rate_ResiduosByPersonal\": 5100.0}, {\"Distrito\": \"CHIRINOS\", \"Ingresos_Total\": 14522813.77, \"Gastos_Total\": 15305865.76, \"Personal_Limpieza\": 2, \"Residuos_Solidos\": 8000.0, \"Personal_Vigilancia\": 6, \"rate_GastosByIngresos\": 1.053918751724102, \"rate_ResiduosByPersonal\": 4000.0}, {\"Distrito\": \"LA COIPA\", \"Ingresos_Total\": 34276089.81, \"Gastos_Total\": 28043325.29, \"Personal_Limpieza\": 4, \"Residuos_Solidos\": 1400.0, \"Personal_Vigilancia\": 1, \"rate_GastosByIngresos\": 0.8181599898194454, \"rate_ResiduosByPersonal\": 350.0}, {\"Distrito\": \"NAMBALLE\", \"Ingresos_Total\": 20377582.93, \"Gastos_Total\": 17981519.28, \"Personal_Limpieza\": 1, \"Residuos_Solidos\": 1953.0, \"Personal_Vigilancia\": 2, \"rate_GastosByIngresos\": 0.8824166900347882, \"rate_ResiduosByPersonal\": 1953.0}, {\"Distrito\": \"PEDRO GALVEZ\", \"Ingresos_Total\": 30789246.21, \"Gastos_Total\": 31457065.07, \"Personal_Limpieza\": 19, \"Residuos_Solidos\": 10000.0, \"Personal_Vigilancia\": 0, \"rate_GastosByIngresos\": 1.021690003563098, \"rate_ResiduosByPersonal\": 526.3157894736842}, {\"Distrito\": \"CHANCAY\", \"Ingresos_Total\": 17897060.6, \"Gastos_Total\": 17978075.86, \"Personal_Limpieza\": 3, \"Residuos_Solidos\": 225.0, \"Personal_Vigilancia\": 0, \"rate_GastosByIngresos\": 1.0045267355243799, \"rate_ResiduosByPersonal\": 75.0}, {\"Distrito\": \"GREGORIO PITA\", \"Ingresos_Total\": 19940175.67, \"Gastos_Total\": 23456819.81, \"Personal_Limpieza\": 5, \"Residuos_Solidos\": 150.0, \"Personal_Vigilancia\": 0, \"rate_GastosByIngresos\": 1.1763597371557157, \"rate_ResiduosByPersonal\": 30.0}, {\"Distrito\": \"JOSE MANUEL QUIROZ\", \"Ingresos_Total\": 2961686.28, \"Gastos_Total\": 2445463.66, \"Personal_Limpieza\": 1, \"Residuos_Solidos\": 500.0, \"Personal_Vigilancia\": 0, \"rate_GastosByIngresos\": 0.8256997631768076, \"rate_ResiduosByPersonal\": 500.0}, {\"Distrito\": \"JOSE SABOGAL\", \"Ingresos_Total\": 9071015.99, \"Gastos_Total\": 8594356.82, \"Personal_Limpieza\": 1, \"Residuos_Solidos\": 1154.0, \"Personal_Vigilancia\": 0, \"rate_GastosByIngresos\": 0.9474525047111068, \"rate_ResiduosByPersonal\": 1154.0}, {\"Distrito\": \"BOLIVAR\", \"Ingresos_Total\": 10882539.68, \"Gastos_Total\": 10867860.64, \"Personal_Limpieza\": 1, \"Residuos_Solidos\": 332.0, \"Personal_Vigilancia\": 0, \"rate_GastosByIngresos\": 0.9986511383894169, \"rate_ResiduosByPersonal\": 332.0}, {\"Distrito\": \"LA FLORIDA\", \"Ingresos_Total\": 5803922.97, \"Gastos_Total\": 5536857.51, \"Personal_Limpieza\": 1, \"Residuos_Solidos\": 1000.0, \"Personal_Vigilancia\": 0, \"rate_GastosByIngresos\": 0.9539853541509011, \"rate_ResiduosByPersonal\": 1000.0}, {\"Distrito\": \"LLAPA\", \"Ingresos_Total\": 5548935.63, \"Gastos_Total\": 12001933.17, \"Personal_Limpieza\": 6, \"Residuos_Solidos\": 200.0, \"Personal_Vigilancia\": 4, \"rate_GastosByIngresos\": 2.162925283384482, \"rate_ResiduosByPersonal\": 33.333333333333336}, {\"Distrito\": \"NIEPOS\", \"Ingresos_Total\": 10019602.94, \"Gastos_Total\": 9534690.35, \"Personal_Limpieza\": 1, \"Residuos_Solidos\": 400.0, \"Personal_Vigilancia\": 0, \"rate_GastosByIngresos\": 0.9516036121487266, \"rate_ResiduosByPersonal\": 400.0}, {\"Distrito\": \"TUMBADEN\", \"Ingresos_Total\": 4516048.71, \"Gastos_Total\": 3422765.1, \"Personal_Limpieza\": 2, \"Residuos_Solidos\": 60.0, \"Personal_Vigilancia\": 0, \"rate_GastosByIngresos\": 0.7579114663712296, \"rate_ResiduosByPersonal\": 30.0}, {\"Distrito\": \"SANTA CRUZ\", \"Ingresos_Total\": 37340837.81, \"Gastos_Total\": 37077460.52, \"Personal_Limpieza\": 7, \"Residuos_Solidos\": 4500.0, \"Personal_Vigilancia\": 13, \"rate_GastosByIngresos\": 0.9929466689703073, \"rate_ResiduosByPersonal\": 642.8571428571429}, {\"Distrito\": \"ANDABAMBA\", \"Ingresos_Total\": 3633381.59, \"Gastos_Total\": 3607450.85, \"Personal_Limpieza\": 1, \"Residuos_Solidos\": 30.0, \"Personal_Vigilancia\": 0, \"rate_GastosByIngresos\": 0.9928631938711399, \"rate_ResiduosByPersonal\": 30.0}, {\"Distrito\": \"CATACHE\", \"Ingresos_Total\": 26928119.54, \"Gastos_Total\": 25354193.32, \"Personal_Limpieza\": 4, \"Residuos_Solidos\": 1440.0, \"Personal_Vigilancia\": 0, \"rate_GastosByIngresos\": 0.9415508306229096, \"rate_ResiduosByPersonal\": 360.0}, {\"Distrito\": \"CHANCAYBA\\u00d1OS\", \"Ingresos_Total\": 5451423.13, \"Gastos_Total\": 5051051.82, \"Personal_Limpieza\": 2, \"Residuos_Solidos\": 1000.0, \"Personal_Vigilancia\": 0, \"rate_GastosByIngresos\": 0.9265565522153846, \"rate_ResiduosByPersonal\": 500.0}, {\"Distrito\": \"LA ESPERANZA\", \"Ingresos_Total\": 8901924.2, \"Gastos_Total\": 8487739.56, \"Personal_Limpieza\": 5, \"Residuos_Solidos\": 1000.0, \"Personal_Vigilancia\": 1, \"rate_GastosByIngresos\": 0.9534724593588431, \"rate_ResiduosByPersonal\": 200.0}, {\"Distrito\": \"NINABAMBA\", \"Ingresos_Total\": 8669872.68, \"Gastos_Total\": 6859991.5, \"Personal_Limpieza\": 5, \"Residuos_Solidos\": 500.0, \"Personal_Vigilancia\": 0, \"rate_GastosByIngresos\": 0.7912447798483703, \"rate_ResiduosByPersonal\": 100.0}, {\"Distrito\": \"SAUCEPAMPA\", \"Ingresos_Total\": 4585699.44, \"Gastos_Total\": 4693587.92, \"Personal_Limpieza\": 8, \"Residuos_Solidos\": 110.0, \"Personal_Vigilancia\": 0, \"rate_GastosByIngresos\": 1.0235271590324724, \"rate_ResiduosByPersonal\": 13.75}, {\"Distrito\": \"SEXI\", \"Ingresos_Total\": 2293425.67, \"Gastos_Total\": 1106524.16, \"Personal_Limpieza\": 8, \"Residuos_Solidos\": 50.0, \"Personal_Vigilancia\": 0, \"rate_GastosByIngresos\": 0.4824765740064294, \"rate_ResiduosByPersonal\": 6.25}, {\"Distrito\": \"BELLAVISTA\", \"Ingresos_Total\": 58101922.42, \"Gastos_Total\": 49520541.1, \"Personal_Limpieza\": 58, \"Residuos_Solidos\": 90000.0, \"Personal_Vigilancia\": 5, \"rate_GastosByIngresos\": 0.8523046921241613, \"rate_ResiduosByPersonal\": 1551.7241379310344}, {\"Distrito\": \"CARMEN DE LA LEGUA REYNOSO\", \"Ingresos_Total\": 39200249.96, \"Gastos_Total\": 34522151.3, \"Personal_Limpieza\": 100, \"Residuos_Solidos\": 52000.0, \"Personal_Vigilancia\": 0, \"rate_GastosByIngresos\": 0.8806615094349259, \"rate_ResiduosByPersonal\": 520.0}, {\"Distrito\": \"LA PERLA\", \"Ingresos_Total\": 39468563.91, \"Gastos_Total\": 32257315.07, \"Personal_Limpieza\": 121, \"Residuos_Solidos\": 56769.0, \"Personal_Vigilancia\": 7, \"rate_GastosByIngresos\": 0.8172913294630183, \"rate_ResiduosByPersonal\": 469.1652892561983}, {\"Distrito\": \"LA PUNTA\", \"Ingresos_Total\": 30106901.08, \"Gastos_Total\": 24957552.87, \"Personal_Limpieza\": 36, \"Residuos_Solidos\": 5844.0, \"Personal_Vigilancia\": 0, \"rate_GastosByIngresos\": 0.828964522243018, \"rate_ResiduosByPersonal\": 162.33333333333334}, {\"Distrito\": \"VENTANILLA\", \"Ingresos_Total\": 219854430.59, \"Gastos_Total\": 192055831.16, \"Personal_Limpieza\": 297, \"Residuos_Solidos\": 321830.0, \"Personal_Vigilancia\": 73, \"rate_GastosByIngresos\": 0.8735590665359808, \"rate_ResiduosByPersonal\": 1083.6026936026935}, {\"Distrito\": \"MI PER\\u00da\", \"Ingresos_Total\": 37586789.18, \"Gastos_Total\": 35919675.87, \"Personal_Limpieza\": 45, \"Residuos_Solidos\": 36250.0, \"Personal_Vigilancia\": 33, \"rate_GastosByIngresos\": 0.9556462963086223, \"rate_ResiduosByPersonal\": 805.5555555555555}, {\"Distrito\": \"CUSCO\", \"Ingresos_Total\": 164647914.2, \"Gastos_Total\": 164828773.05, \"Personal_Limpieza\": 309, \"Residuos_Solidos\": 135068.0, \"Personal_Vigilancia\": 9, \"rate_GastosByIngresos\": 1.0010984581910969, \"rate_ResiduosByPersonal\": 437.1132686084142}, {\"Distrito\": \"CCORCA\", \"Ingresos_Total\": 6067259.19, \"Gastos_Total\": 4691489.28, \"Personal_Limpieza\": 3, \"Residuos_Solidos\": 372.0, \"Personal_Vigilancia\": 0, \"rate_GastosByIngresos\": 0.7732468867874425, \"rate_ResiduosByPersonal\": 124.0}, {\"Distrito\": \"POROY\", \"Ingresos_Total\": 14142705.84, \"Gastos_Total\": 10271196.45, \"Personal_Limpieza\": 13, \"Residuos_Solidos\": 5500.0, \"Personal_Vigilancia\": 0, \"rate_GastosByIngresos\": 0.7262539832335224, \"rate_ResiduosByPersonal\": 423.0769230769231}, {\"Distrito\": \"SAN JERONIMO\", \"Ingresos_Total\": 67348570.35, \"Gastos_Total\": 57181348.73, \"Personal_Limpieza\": 65, \"Residuos_Solidos\": 66000.0, \"Personal_Vigilancia\": 20, \"rate_GastosByIngresos\": 0.8490358211441975, \"rate_ResiduosByPersonal\": 1015.3846153846154}, {\"Distrito\": \"SAN SEBASTIAN\", \"Ingresos_Total\": 88012283.69, \"Gastos_Total\": 65538986.16, \"Personal_Limpieza\": 97, \"Residuos_Solidos\": 90000.0, \"Personal_Vigilancia\": 18, \"rate_GastosByIngresos\": 0.7446572616027525, \"rate_ResiduosByPersonal\": 927.8350515463917}, {\"Distrito\": \"SANTIAGO\", \"Ingresos_Total\": 81760930.27, \"Gastos_Total\": 57511219.6, \"Personal_Limpieza\": 127, \"Residuos_Solidos\": 80816.0, \"Personal_Vigilancia\": 6, \"rate_GastosByIngresos\": 0.7034071091177667, \"rate_ResiduosByPersonal\": 636.3464566929134}, {\"Distrito\": \"SAYLLA\", \"Ingresos_Total\": 11188050.47, \"Gastos_Total\": 7563272.35, \"Personal_Limpieza\": 1, \"Residuos_Solidos\": 13900.0, \"Personal_Vigilancia\": 1, \"rate_GastosByIngresos\": 0.6760134279229792, \"rate_ResiduosByPersonal\": 13900.0}, {\"Distrito\": \"WANCHAQ\", \"Ingresos_Total\": 51375198.02, \"Gastos_Total\": 37732827.37, \"Personal_Limpieza\": 143, \"Residuos_Solidos\": 80947.0, \"Personal_Vigilancia\": 0, \"rate_GastosByIngresos\": 0.7344560960195399, \"rate_ResiduosByPersonal\": 566.0629370629371}, {\"Distrito\": \"POMACANCHI\", \"Ingresos_Total\": 20271801.81, \"Gastos_Total\": 15984995.17, \"Personal_Limpieza\": 3, \"Residuos_Solidos\": 4173.0, \"Personal_Vigilancia\": 2, \"rate_GastosByIngresos\": 0.788533516646491, \"rate_ResiduosByPersonal\": 1391.0}, {\"Distrito\": \"SANGARARA\", \"Ingresos_Total\": 9746537.47, \"Gastos_Total\": 6823275.72, \"Personal_Limpieza\": 1, \"Residuos_Solidos\": 2000.0, \"Personal_Vigilancia\": 0, \"rate_GastosByIngresos\": 0.700071768153783, \"rate_ResiduosByPersonal\": 2000.0}, {\"Distrito\": \"CACHIMAYO\", \"Ingresos_Total\": 5946923.63, \"Gastos_Total\": 3001174.32, \"Personal_Limpieza\": 9, \"Residuos_Solidos\": 642.0, \"Personal_Vigilancia\": 8, \"rate_GastosByIngresos\": 0.5046599732440149, \"rate_ResiduosByPersonal\": 71.33333333333333}, {\"Distrito\": \"HUAROCONDO\", \"Ingresos_Total\": 14634928.65, \"Gastos_Total\": 8510601.84, \"Personal_Limpieza\": 20, \"Residuos_Solidos\": 1300.0, \"Personal_Vigilancia\": 6, \"rate_GastosByIngresos\": 0.5815267052907702, \"rate_ResiduosByPersonal\": 65.0}, {\"Distrito\": \"LIMATAMBO\", \"Ingresos_Total\": 16543658.47, \"Gastos_Total\": 10035440.17, \"Personal_Limpieza\": 9, \"Residuos_Solidos\": 2000.0, \"Personal_Vigilancia\": 0, \"rate_GastosByIngresos\": 0.6066034419290088, \"rate_ResiduosByPersonal\": 222.22222222222223}, {\"Distrito\": \"COYA\", \"Ingresos_Total\": 9262760.52, \"Gastos_Total\": 4577220.62, \"Personal_Limpieza\": 4, \"Residuos_Solidos\": 526.0, \"Personal_Vigilancia\": 0, \"rate_GastosByIngresos\": 0.494152969853527, \"rate_ResiduosByPersonal\": 131.5}, {\"Distrito\": \"LARES\", \"Ingresos_Total\": 26819989.88, \"Gastos_Total\": 16702158.54, \"Personal_Limpieza\": 22, \"Residuos_Solidos\": 1500.0, \"Personal_Vigilancia\": 7, \"rate_GastosByIngresos\": 0.6227503669736657, \"rate_ResiduosByPersonal\": 68.18181818181819}, {\"Distrito\": \"PISAC\", \"Ingresos_Total\": 18598564.79, \"Gastos_Total\": 13488102.3, \"Personal_Limpieza\": 40, \"Residuos_Solidos\": 3860.0, \"Personal_Vigilancia\": 4, \"rate_GastosByIngresos\": 0.7252227498356341, \"rate_ResiduosByPersonal\": 96.5}, {\"Distrito\": \"SAN SALVADOR\", \"Ingresos_Total\": 13371679.5, \"Gastos_Total\": 11379933.49, \"Personal_Limpieza\": 5, \"Residuos_Solidos\": 533.0, \"Personal_Vigilancia\": 5, \"rate_GastosByIngresos\": 0.8510474312519979, \"rate_ResiduosByPersonal\": 106.6}, {\"Distrito\": \"TARAY\", \"Ingresos_Total\": 9460150.71, \"Gastos_Total\": 8804797.36, \"Personal_Limpieza\": 5, \"Residuos_Solidos\": 2500.0, \"Personal_Vigilancia\": 1, \"rate_GastosByIngresos\": 0.9307248509997573, \"rate_ResiduosByPersonal\": 500.0}, {\"Distrito\": \"YANAOCA\", \"Ingresos_Total\": 23370086.38, \"Gastos_Total\": 20892400.88, \"Personal_Limpieza\": 25, \"Residuos_Solidos\": 5000.0, \"Personal_Vigilancia\": 3, \"rate_GastosByIngresos\": 0.893980473169308, \"rate_ResiduosByPersonal\": 200.0}, {\"Distrito\": \"SICUANI\", \"Ingresos_Total\": 75405235.3, \"Gastos_Total\": 49903887.54, \"Personal_Limpieza\": 65, \"Residuos_Solidos\": 39000.0, \"Personal_Vigilancia\": 29, \"rate_GastosByIngresos\": 0.6618093205525745, \"rate_ResiduosByPersonal\": 600.0}, {\"Distrito\": \"TINTA\", \"Ingresos_Total\": 6987604.66, \"Gastos_Total\": 4887492.94, \"Personal_Limpieza\": 2, \"Residuos_Solidos\": 1550.0, \"Personal_Vigilancia\": 0, \"rate_GastosByIngresos\": 0.6994518404823435, \"rate_ResiduosByPersonal\": 775.0}, {\"Distrito\": \"SANTO TOMAS\", \"Ingresos_Total\": 91495139.16, \"Gastos_Total\": 61516712.14, \"Personal_Limpieza\": 40, \"Residuos_Solidos\": 7320.0, \"Personal_Vigilancia\": 8, \"rate_GastosByIngresos\": 0.6723495117311542, \"rate_ResiduosByPersonal\": 183.0}, {\"Distrito\": \"CHAMACA\", \"Ingresos_Total\": 25023544.68, \"Gastos_Total\": 19291562.9, \"Personal_Limpieza\": 105, \"Residuos_Solidos\": 1600.0, \"Personal_Vigilancia\": 0, \"rate_GastosByIngresos\": 0.7709364579119251, \"rate_ResiduosByPersonal\": 15.238095238095237}, {\"Distrito\": \"COLQUEMARCA\", \"Ingresos_Total\": 43592340.25, \"Gastos_Total\": 30048813.9, \"Personal_Limpieza\": 2, \"Residuos_Solidos\": 2300.0, \"Personal_Vigilancia\": 0, \"rate_GastosByIngresos\": 0.6893140796679297, \"rate_ResiduosByPersonal\": 1150.0}, {\"Distrito\": \"ESPINAR\", \"Ingresos_Total\": 230837030.06, \"Gastos_Total\": 157407087.35, \"Personal_Limpieza\": 16, \"Residuos_Solidos\": 30000.0, \"Personal_Vigilancia\": 0, \"rate_GastosByIngresos\": 0.6818970392622283, \"rate_ResiduosByPersonal\": 1875.0}, {\"Distrito\": \"COPORAQUE\", \"Ingresos_Total\": 43018935.42, \"Gastos_Total\": 37354787.34, \"Personal_Limpieza\": 22, \"Residuos_Solidos\": 827.0, \"Personal_Vigilancia\": 7, \"rate_GastosByIngresos\": 0.8683336064758435, \"rate_ResiduosByPersonal\": 37.59090909090909}, {\"Distrito\": \"PALLPATA\", \"Ingresos_Total\": 38875076.35, \"Gastos_Total\": 22939217.13, \"Personal_Limpieza\": 12, \"Residuos_Solidos\": 800.0, \"Personal_Vigilancia\": 1, \"rate_GastosByIngresos\": 0.5900751659874232, \"rate_ResiduosByPersonal\": 66.66666666666667}, {\"Distrito\": \"PICHIGUA\", \"Ingresos_Total\": 25537269.36, \"Gastos_Total\": 19201414.13, \"Personal_Limpieza\": 3, \"Residuos_Solidos\": 85.0, \"Personal_Vigilancia\": 0, \"rate_GastosByIngresos\": 0.7518977013288628, \"rate_ResiduosByPersonal\": 28.333333333333332}, {\"Distrito\": \"SANTA ANA\", \"Ingresos_Total\": 123680868.52, \"Gastos_Total\": 103721340.18, \"Personal_Limpieza\": 47, \"Residuos_Solidos\": 42000.0, \"Personal_Vigilancia\": 4, \"rate_GastosByIngresos\": 0.838620729472219, \"rate_ResiduosByPersonal\": 893.6170212765958}, {\"Distrito\": \"ECHARATE\", \"Ingresos_Total\": 156827591.65, \"Gastos_Total\": 128843878.13, \"Personal_Limpieza\": 48, \"Residuos_Solidos\": 1724.0, \"Personal_Vigilancia\": 10, \"rate_GastosByIngresos\": 0.8215638381895664, \"rate_ResiduosByPersonal\": 35.916666666666664}, {\"Distrito\": \"HUAYOPATA\", \"Ingresos_Total\": 21722803.18, \"Gastos_Total\": 18435325.51, \"Personal_Limpieza\": 4, \"Residuos_Solidos\": 2360.0, \"Personal_Vigilancia\": 0, \"rate_GastosByIngresos\": 0.8486623644858712, \"rate_ResiduosByPersonal\": 590.0}, {\"Distrito\": \"MARANURA\", \"Ingresos_Total\": 20265394.69, \"Gastos_Total\": 10268248.83, \"Personal_Limpieza\": 5, \"Residuos_Solidos\": 2090.0, \"Personal_Vigilancia\": 4, \"rate_GastosByIngresos\": 0.5066888154449263, \"rate_ResiduosByPersonal\": 418.0}, {\"Distrito\": \"OCOBAMBA\", \"Ingresos_Total\": 25483232.03, \"Gastos_Total\": 15033421.48, \"Personal_Limpieza\": 13, \"Residuos_Solidos\": 980.0, \"Personal_Vigilancia\": 14, \"rate_GastosByIngresos\": 0.5899338616978406, \"rate_ResiduosByPersonal\": 75.38461538461539}, {\"Distrito\": \"QUELLOUNO\", \"Ingresos_Total\": 88896966.05, \"Gastos_Total\": 67213830.97, \"Personal_Limpieza\": 21, \"Residuos_Solidos\": 3000.0, \"Personal_Vigilancia\": 5, \"rate_GastosByIngresos\": 0.7560868942613368, \"rate_ResiduosByPersonal\": 142.85714285714286}, {\"Distrito\": \"SANTA TERESA\", \"Ingresos_Total\": 32985262.28, \"Gastos_Total\": 24094065.29, \"Personal_Limpieza\": 20, \"Residuos_Solidos\": 4000.0, \"Personal_Vigilancia\": 0, \"rate_GastosByIngresos\": 0.7304494075406818, \"rate_ResiduosByPersonal\": 200.0}, {\"Distrito\": \"VILCABAMBA\", \"Ingresos_Total\": 80703313.65, \"Gastos_Total\": 55196813.36, \"Personal_Limpieza\": 94, \"Residuos_Solidos\": 5208.0, \"Personal_Vigilancia\": 11, \"rate_GastosByIngresos\": 0.6839472986125644, \"rate_ResiduosByPersonal\": 55.40425531914894}, {\"Distrito\": \"INKAWASI\", \"Ingresos_Total\": 31550342.72, \"Gastos_Total\": 21209047.0, \"Personal_Limpieza\": 2, \"Residuos_Solidos\": 500.0, \"Personal_Vigilancia\": 0, \"rate_GastosByIngresos\": 0.6722287357771054, \"rate_ResiduosByPersonal\": 250.0}, {\"Distrito\": \"PAUCARTAMBO\", \"Ingresos_Total\": 66174026.26, \"Gastos_Total\": 64757222.17, \"Personal_Limpieza\": 29, \"Residuos_Solidos\": 2000.0, \"Personal_Vigilancia\": 10, \"rate_GastosByIngresos\": 0.9785897251523834, \"rate_ResiduosByPersonal\": 68.96551724137932}, {\"Distrito\": \"CHALLABAMBA\", \"Ingresos_Total\": 26081592.02, \"Gastos_Total\": 17209366.01, \"Personal_Limpieza\": 9, \"Residuos_Solidos\": 750.0, \"Personal_Vigilancia\": 5, \"rate_GastosByIngresos\": 0.6598280502510522, \"rate_ResiduosByPersonal\": 83.33333333333333}, {\"Distrito\": \"COLQUEPATA\", \"Ingresos_Total\": 17133486.28, \"Gastos_Total\": 13058020.75, \"Personal_Limpieza\": 12, \"Residuos_Solidos\": 2400.0, \"Personal_Vigilancia\": 0, \"rate_GastosByIngresos\": 0.7621344854516088, \"rate_ResiduosByPersonal\": 200.0}, {\"Distrito\": \"KOS\\u00d1IPATA\", \"Ingresos_Total\": 18878572.53, \"Gastos_Total\": 11133682.53, \"Personal_Limpieza\": 1, \"Residuos_Solidos\": 2500.0, \"Personal_Vigilancia\": 0, \"rate_GastosByIngresos\": 0.5897523508362419, \"rate_ResiduosByPersonal\": 2500.0}, {\"Distrito\": \"URCOS\", \"Ingresos_Total\": 36949540.33, \"Gastos_Total\": 36693769.72, \"Personal_Limpieza\": 40, \"Residuos_Solidos\": 3890.0, \"Personal_Vigilancia\": 11, \"rate_GastosByIngresos\": 0.9930778405437338, \"rate_ResiduosByPersonal\": 97.25}, {\"Distrito\": \"ANDAHUAYLILLAS\", \"Ingresos_Total\": 9290062.9, \"Gastos_Total\": 7653126.18, \"Personal_Limpieza\": 11, \"Residuos_Solidos\": 4244.0, \"Personal_Vigilancia\": 1, \"rate_GastosByIngresos\": 0.8237970250987213, \"rate_ResiduosByPersonal\": 385.8181818181818}, {\"Distrito\": \"CAMANTI\", \"Ingresos_Total\": 7064845.96, \"Gastos_Total\": 6296836.91, \"Personal_Limpieza\": 9, \"Residuos_Solidos\": 1197.0, \"Personal_Vigilancia\": 0, \"rate_GastosByIngresos\": 0.891291465610384, \"rate_ResiduosByPersonal\": 133.0}, {\"Distrito\": \"CCARHUAYO\", \"Ingresos_Total\": 10037798.71, \"Gastos_Total\": 7843603.95, \"Personal_Limpieza\": 3, \"Residuos_Solidos\": 107.0, \"Personal_Vigilancia\": 3, \"rate_GastosByIngresos\": 0.7814067781799541, \"rate_ResiduosByPersonal\": 35.666666666666664}, {\"Distrito\": \"MARCAPATA\", \"Ingresos_Total\": 16972464.39, \"Gastos_Total\": 11157838.19, \"Personal_Limpieza\": 8, \"Residuos_Solidos\": 1852.0, \"Personal_Vigilancia\": 2, \"rate_GastosByIngresos\": 0.6574082545475295, \"rate_ResiduosByPersonal\": 231.5}, {\"Distrito\": \"OROPESA\", \"Ingresos_Total\": 11869247.52, \"Gastos_Total\": 9346964.15, \"Personal_Limpieza\": 56, \"Residuos_Solidos\": 7870.0, \"Personal_Vigilancia\": 16, \"rate_GastosByIngresos\": 0.7874942479925636, \"rate_ResiduosByPersonal\": 140.53571428571428}, {\"Distrito\": \"QUIQUIJANA\", \"Ingresos_Total\": 24425477.85, \"Gastos_Total\": 19022802.08, \"Personal_Limpieza\": 8, \"Residuos_Solidos\": 1800.0, \"Personal_Vigilancia\": 1, \"rate_GastosByIngresos\": 0.7788098229570561, \"rate_ResiduosByPersonal\": 225.0}, {\"Distrito\": \"URUBAMBA\", \"Ingresos_Total\": 42324297.86, \"Gastos_Total\": 32889841.25, \"Personal_Limpieza\": 34, \"Residuos_Solidos\": 17450.0, \"Personal_Vigilancia\": 17, \"rate_GastosByIngresos\": 0.7770912433985975, \"rate_ResiduosByPersonal\": 513.2352941176471}, {\"Distrito\": \"MARAS\", \"Ingresos_Total\": 15410083.35, \"Gastos_Total\": 11404356.79, \"Personal_Limpieza\": 30, \"Residuos_Solidos\": 1430.0, \"Personal_Vigilancia\": 0, \"rate_GastosByIngresos\": 0.740058086058308, \"rate_ResiduosByPersonal\": 47.666666666666664}, {\"Distrito\": \"HUANCAVELICA\", \"Ingresos_Total\": 70879637.63, \"Gastos_Total\": 60508427.05, \"Personal_Limpieza\": 15, \"Residuos_Solidos\": 8000.0, \"Personal_Vigilancia\": 16, \"rate_GastosByIngresos\": 0.853678560912812, \"rate_ResiduosByPersonal\": 533.3333333333334}, {\"Distrito\": \"ACORIA\", \"Ingresos_Total\": 39256280.44, \"Gastos_Total\": 28349765.67, \"Personal_Limpieza\": 7, \"Residuos_Solidos\": 348.0, \"Personal_Vigilancia\": 5, \"rate_GastosByIngresos\": 0.7221714679089449, \"rate_ResiduosByPersonal\": 49.714285714285715}, {\"Distrito\": \"CUENCA\", \"Ingresos_Total\": 4770979.58, \"Gastos_Total\": 4163628.31, \"Personal_Limpieza\": 1, \"Residuos_Solidos\": 60.0, \"Personal_Vigilancia\": 0, \"rate_GastosByIngresos\": 0.8726988326367978, \"rate_ResiduosByPersonal\": 60.0}, {\"Distrito\": \"HUACHOCOLPA\", \"Ingresos_Total\": 4220848.56, \"Gastos_Total\": 3913052.74, \"Personal_Limpieza\": 2, \"Residuos_Solidos\": 220.0, \"Personal_Vigilancia\": 0, \"rate_GastosByIngresos\": 0.9270772652407128, \"rate_ResiduosByPersonal\": 110.0}, {\"Distrito\": \"HUAYLLAHUARA\", \"Ingresos_Total\": 4826032.63, \"Gastos_Total\": 2772835.39, \"Personal_Limpieza\": 1, \"Residuos_Solidos\": 152.0, \"Personal_Vigilancia\": 0, \"rate_GastosByIngresos\": 0.5745579449179978, \"rate_ResiduosByPersonal\": 152.0}, {\"Distrito\": \"IZCUCHACA\", \"Ingresos_Total\": 1759702.59, \"Gastos_Total\": 1090868.35, \"Personal_Limpieza\": 3, \"Residuos_Solidos\": 600.0, \"Personal_Vigilancia\": 0, \"rate_GastosByIngresos\": 0.6199163177909512, \"rate_ResiduosByPersonal\": 200.0}, {\"Distrito\": \"LARIA\", \"Ingresos_Total\": 6334709.01, \"Gastos_Total\": 6137704.2, \"Personal_Limpieza\": 2, \"Residuos_Solidos\": 186.0, \"Personal_Vigilancia\": 0, \"rate_GastosByIngresos\": 0.9689007325057857, \"rate_ResiduosByPersonal\": 93.0}, {\"Distrito\": \"MARISCAL CACERES\", \"Ingresos_Total\": 1206730.76, \"Gastos_Total\": 1029500.28, \"Personal_Limpieza\": 4, \"Residuos_Solidos\": 120.0, \"Personal_Vigilancia\": 0, \"rate_GastosByIngresos\": 0.853131712661406, \"rate_ResiduosByPersonal\": 30.0}, {\"Distrito\": \"NUEVO OCCORO\", \"Ingresos_Total\": 3215651.21, \"Gastos_Total\": 3065447.72, \"Personal_Limpieza\": 1, \"Residuos_Solidos\": 158.0, \"Personal_Vigilancia\": 2, \"rate_GastosByIngresos\": 0.9532898687728014, \"rate_ResiduosByPersonal\": 158.0}, {\"Distrito\": \"YAULI\", \"Ingresos_Total\": 29200486.5, \"Gastos_Total\": 19050245.42, \"Personal_Limpieza\": 3, \"Residuos_Solidos\": 1540.0, \"Personal_Vigilancia\": 2, \"rate_GastosByIngresos\": 0.6523947955456154, \"rate_ResiduosByPersonal\": 513.3333333333334}, {\"Distrito\": \"ASCENSION\", \"Ingresos_Total\": 17217661.39, \"Gastos_Total\": 12362534.7, \"Personal_Limpieza\": 2, \"Residuos_Solidos\": 7500.0, \"Personal_Vigilancia\": 0, \"rate_GastosByIngresos\": 0.718014741954453, \"rate_ResiduosByPersonal\": 3750.0}, {\"Distrito\": \"ACOBAMBA\", \"Ingresos_Total\": 36758389.59, \"Gastos_Total\": 36696763.8, \"Personal_Limpieza\": 36, \"Residuos_Solidos\": 6500.0, \"Personal_Vigilancia\": 4, \"rate_GastosByIngresos\": 0.9983234904823803, \"rate_ResiduosByPersonal\": 180.55555555555554}, {\"Distrito\": \"ANDABAMBA\", \"Ingresos_Total\": 5753633.75, \"Gastos_Total\": 4918617.55, \"Personal_Limpieza\": 6, \"Residuos_Solidos\": 150.0, \"Personal_Vigilancia\": 0, \"rate_GastosByIngresos\": 0.8548715062024933, \"rate_ResiduosByPersonal\": 25.0}, {\"Distrito\": \"ANTA\", \"Ingresos_Total\": 7616245.31, \"Gastos_Total\": 6334536.69, \"Personal_Limpieza\": 19, \"Residuos_Solidos\": 41.0, \"Personal_Vigilancia\": 3, \"rate_GastosByIngresos\": 0.8317138474627206, \"rate_ResiduosByPersonal\": 2.1578947368421053}, {\"Distrito\": \"PAUCARA\", \"Ingresos_Total\": 22803187.29, \"Gastos_Total\": 19334077.1, \"Personal_Limpieza\": 10, \"Residuos_Solidos\": 3794.0, \"Personal_Vigilancia\": 0, \"rate_GastosByIngresos\": 0.8478673114472325, \"rate_ResiduosByPersonal\": 379.4}, {\"Distrito\": \"CALLANMARCA\", \"Ingresos_Total\": 1554332.2, \"Gastos_Total\": 1335425.76, \"Personal_Limpieza\": 4, \"Residuos_Solidos\": 60.0, \"Personal_Vigilancia\": 0, \"rate_GastosByIngresos\": 0.859163671704157, \"rate_ResiduosByPersonal\": 15.0}, {\"Distrito\": \"SANTO TOMAS DE PATA\", \"Ingresos_Total\": 2613617.55, \"Gastos_Total\": 2428013.85, \"Personal_Limpieza\": 1, \"Residuos_Solidos\": 265.0, \"Personal_Vigilancia\": 1, \"rate_GastosByIngresos\": 0.9289858992567601, \"rate_ResiduosByPersonal\": 265.0}, {\"Distrito\": \"CASTROVIRREYNA\", \"Ingresos_Total\": 34586798.49, \"Gastos_Total\": 28984489.15, \"Personal_Limpieza\": 2, \"Residuos_Solidos\": 1100.0, \"Personal_Vigilancia\": 1, \"rate_GastosByIngresos\": 0.8380217428444617, \"rate_ResiduosByPersonal\": 550.0}, {\"Distrito\": \"ARMA\", \"Ingresos_Total\": 1222659.41, \"Gastos_Total\": 1006810.21, \"Personal_Limpieza\": 2, \"Residuos_Solidos\": 20.0, \"Personal_Vigilancia\": 0, \"rate_GastosByIngresos\": 0.8234592575539905, \"rate_ResiduosByPersonal\": 10.0}, {\"Distrito\": \"TICRAPO\", \"Ingresos_Total\": 4891384.35, \"Gastos_Total\": 4004189.11, \"Personal_Limpieza\": 1, \"Residuos_Solidos\": 100.0, \"Personal_Vigilancia\": 0, \"rate_GastosByIngresos\": 0.8186208286821706, \"rate_ResiduosByPersonal\": 100.0}, {\"Distrito\": \"CHURCAMPA\", \"Ingresos_Total\": 34633246.28, \"Gastos_Total\": 31049515.43, \"Personal_Limpieza\": 4, \"Residuos_Solidos\": 4800.0, \"Personal_Vigilancia\": 0, \"rate_GastosByIngresos\": 0.896523391973523, \"rate_ResiduosByPersonal\": 1200.0}, {\"Distrito\": \"PAUCARBAMBA\", \"Ingresos_Total\": 7674940.52, \"Gastos_Total\": 9956121.37, \"Personal_Limpieza\": 1, \"Residuos_Solidos\": 1500.0, \"Personal_Vigilancia\": 0, \"rate_GastosByIngresos\": 1.2972245640282825, \"rate_ResiduosByPersonal\": 1500.0}, {\"Distrito\": \"PACHAMARCA\", \"Ingresos_Total\": 8441087.3, \"Gastos_Total\": 7935011.13, \"Personal_Limpieza\": 1, \"Residuos_Solidos\": 160.0, \"Personal_Vigilancia\": 0, \"rate_GastosByIngresos\": 0.9400460921663492, \"rate_ResiduosByPersonal\": 160.0}, {\"Distrito\": \"HUAYTARA\", \"Ingresos_Total\": 22919521.91, \"Gastos_Total\": 22076334.03, \"Personal_Limpieza\": 4, \"Residuos_Solidos\": 1450.0, \"Personal_Vigilancia\": 1, \"rate_GastosByIngresos\": 0.9632109306943218, \"rate_ResiduosByPersonal\": 362.5}, {\"Distrito\": \"SANTIAGO DE CHOCORVOS\", \"Ingresos_Total\": 4403434.9, \"Gastos_Total\": 2911133.36, \"Personal_Limpieza\": 1, \"Residuos_Solidos\": 75.0, \"Personal_Vigilancia\": 0, \"rate_GastosByIngresos\": 0.6611051204594849, \"rate_ResiduosByPersonal\": 75.0}, {\"Distrito\": \"ACRAQUIA\", \"Ingresos_Total\": 5511612.54, \"Gastos_Total\": 5524828.16, \"Personal_Limpieza\": 12, \"Residuos_Solidos\": 400.0, \"Personal_Vigilancia\": 1, \"rate_GastosByIngresos\": 1.0023977774025459, \"rate_ResiduosByPersonal\": 33.333333333333336}, {\"Distrito\": \"DANIEL HERNANDEZ\", \"Ingresos_Total\": 12301531.9, \"Gastos_Total\": 10894328.97, \"Personal_Limpieza\": 4, \"Residuos_Solidos\": 3892.0, \"Personal_Vigilancia\": 0, \"rate_GastosByIngresos\": 0.8856075047043531, \"rate_ResiduosByPersonal\": 973.0}, {\"Distrito\": \"TINTAY PUNCU\", \"Ingresos_Total\": 10201693.24, \"Gastos_Total\": 10594353.75, \"Personal_Limpieza\": 6, \"Residuos_Solidos\": 500.0, \"Personal_Vigilancia\": 5, \"rate_GastosByIngresos\": 1.038489738983761, \"rate_ResiduosByPersonal\": 83.33333333333333}, {\"Distrito\": \"ANDAYMARCA\", \"Ingresos_Total\": 7740112.38, \"Gastos_Total\": 7685976.21, \"Personal_Limpieza\": 3, \"Residuos_Solidos\": 500.0, \"Personal_Vigilancia\": 2, \"rate_GastosByIngresos\": 0.993005764342662, \"rate_ResiduosByPersonal\": 166.66666666666666}, {\"Distrito\": \"HUANUCO\", \"Ingresos_Total\": 69918638.16, \"Gastos_Total\": 64962034.39, \"Personal_Limpieza\": 132, \"Residuos_Solidos\": 60000.0, \"Personal_Vigilancia\": 0, \"rate_GastosByIngresos\": 0.9291089772278254, \"rate_ResiduosByPersonal\": 454.54545454545456}, {\"Distrito\": \"AMARILIS\", \"Ingresos_Total\": 32550011.46, \"Gastos_Total\": 30661966.56, \"Personal_Limpieza\": 49, \"Residuos_Solidos\": 61630.0, \"Personal_Vigilancia\": 7, \"rate_GastosByIngresos\": 0.9419955688089333, \"rate_ResiduosByPersonal\": 1257.7551020408164}, {\"Distrito\": \"CHINCHAO\", \"Ingresos_Total\": 8920879.25, \"Gastos_Total\": 9812004.53, \"Personal_Limpieza\": 5, \"Residuos_Solidos\": 1000.0, \"Personal_Vigilancia\": 1, \"rate_GastosByIngresos\": 1.0998920907936287, \"rate_ResiduosByPersonal\": 200.0}, {\"Distrito\": \"SAN PEDRO DE CHAULAN\", \"Ingresos_Total\": 7158419.82, \"Gastos_Total\": 6159555.5, \"Personal_Limpieza\": 3, \"Residuos_Solidos\": 267.0, \"Personal_Vigilancia\": 0, \"rate_GastosByIngresos\": 0.860463014866876, \"rate_ResiduosByPersonal\": 89.0}, {\"Distrito\": \"SANTA MARIA DEL VALLE\", \"Ingresos_Total\": 27806409.92, \"Gastos_Total\": 26239392.55, \"Personal_Limpieza\": 15, \"Residuos_Solidos\": 530.0, \"Personal_Vigilancia\": 4, \"rate_GastosByIngresos\": 0.943645462520751, \"rate_ResiduosByPersonal\": 35.333333333333336}, {\"Distrito\": \"PILLCO MARCA\", \"Ingresos_Total\": 13256983.21, \"Gastos_Total\": 10181209.47, \"Personal_Limpieza\": 42, \"Residuos_Solidos\": 30710.0, \"Personal_Vigilancia\": 0, \"rate_GastosByIngresos\": 0.7679884109923377, \"rate_ResiduosByPersonal\": 731.1904761904761}, {\"Distrito\": \"AMBO\", \"Ingresos_Total\": 45418727.22, \"Gastos_Total\": 43958613.27, \"Personal_Limpieza\": 21, \"Residuos_Solidos\": 11000.0, \"Personal_Vigilancia\": 7, \"rate_GastosByIngresos\": 0.967852160565234, \"rate_ResiduosByPersonal\": 523.8095238095239}, {\"Distrito\": \"CAYNA\", \"Ingresos_Total\": 5237065.5, \"Gastos_Total\": 6168105.1, \"Personal_Limpieza\": 2, \"Residuos_Solidos\": 100.0, \"Personal_Vigilancia\": 2, \"rate_GastosByIngresos\": 1.1777788725384473, \"rate_ResiduosByPersonal\": 50.0}, {\"Distrito\": \"HUACAR\", \"Ingresos_Total\": 9772452.37, \"Gastos_Total\": 11055897.5, \"Personal_Limpieza\": 2, \"Residuos_Solidos\": 3000.0, \"Personal_Vigilancia\": 0, \"rate_GastosByIngresos\": 1.1313329634575646, \"rate_ResiduosByPersonal\": 1500.0}, {\"Distrito\": \"SAN FRANCISCO\", \"Ingresos_Total\": 2703482.38, \"Gastos_Total\": 2434558.1, \"Personal_Limpieza\": 7, \"Residuos_Solidos\": 209.0, \"Personal_Vigilancia\": 0, \"rate_GastosByIngresos\": 0.9005267125136581, \"rate_ResiduosByPersonal\": 29.857142857142858}, {\"Distrito\": \"TOMAY KICHWA\", \"Ingresos_Total\": 2305174.84, \"Gastos_Total\": 3248171.35, \"Personal_Limpieza\": 2, \"Residuos_Solidos\": 3000.0, \"Personal_Vigilancia\": 0, \"rate_GastosByIngresos\": 1.4090780853742098, \"rate_ResiduosByPersonal\": 1500.0}, {\"Distrito\": \"HUACAYBAMBA\", \"Ingresos_Total\": 11643476.09, \"Gastos_Total\": 13921558.13, \"Personal_Limpieza\": 4, \"Residuos_Solidos\": 1378.0, \"Personal_Vigilancia\": 0, \"rate_GastosByIngresos\": 1.1956530869639979, \"rate_ResiduosByPersonal\": 344.5}, {\"Distrito\": \"CANCHABAMBA\", \"Ingresos_Total\": 2193535.63, \"Gastos_Total\": 1959914.98, \"Personal_Limpieza\": 1, \"Residuos_Solidos\": 100.0, \"Personal_Vigilancia\": 0, \"rate_GastosByIngresos\": 0.893495848982403, \"rate_ResiduosByPersonal\": 100.0}, {\"Distrito\": \"COCHABAMBA\", \"Ingresos_Total\": 3132806.47, \"Gastos_Total\": 2398149.57, \"Personal_Limpieza\": 4, \"Residuos_Solidos\": 100.0, \"Personal_Vigilancia\": 2, \"rate_GastosByIngresos\": 0.765495600499063, \"rate_ResiduosByPersonal\": 25.0}, {\"Distrito\": \"LLATA\", \"Ingresos_Total\": 29709113.24, \"Gastos_Total\": 24083829.89, \"Personal_Limpieza\": 3, \"Residuos_Solidos\": 6000.0, \"Personal_Vigilancia\": 0, \"rate_GastosByIngresos\": 0.8106546195250895, \"rate_ResiduosByPersonal\": 2000.0}, {\"Distrito\": \"RUPA-RUPA\", \"Ingresos_Total\": 53828712.27, \"Gastos_Total\": 45158457.08, \"Personal_Limpieza\": 190, \"Residuos_Solidos\": 46045.0, \"Personal_Vigilancia\": 25, \"rate_GastosByIngresos\": 0.8389288016679504, \"rate_ResiduosByPersonal\": 242.3421052631579}, {\"Distrito\": \"DANIEL ALOMIA ROBLES\", \"Ingresos_Total\": 6987958.5, \"Gastos_Total\": 6573468.85, \"Personal_Limpieza\": 3, \"Residuos_Solidos\": 860.0, \"Personal_Vigilancia\": 2, \"rate_GastosByIngresos\": 0.9406851586196454, \"rate_ResiduosByPersonal\": 286.6666666666667}, {\"Distrito\": \"JOSE CRESPO Y CASTILLO\", \"Ingresos_Total\": 14330483.19, \"Gastos_Total\": 9643292.21, \"Personal_Limpieza\": 8, \"Residuos_Solidos\": 12720.0, \"Personal_Vigilancia\": 3, \"rate_GastosByIngresos\": 0.6729216371942864, \"rate_ResiduosByPersonal\": 1590.0}, {\"Distrito\": \"MARIANO DAMASO BERAUN\", \"Ingresos_Total\": 13682218.81, \"Gastos_Total\": 13434688.26, \"Personal_Limpieza\": 9, \"Residuos_Solidos\": 2142.0, \"Personal_Vigilancia\": 6, \"rate_GastosByIngresos\": 0.9819085958617263, \"rate_ResiduosByPersonal\": 238.0}, {\"Distrito\": \"CASTILLO GRANDE\", \"Ingresos_Total\": 9046966.09, \"Gastos_Total\": 7007022.03, \"Personal_Limpieza\": 8, \"Residuos_Solidos\": 11000.0, \"Personal_Vigilancia\": 0, \"rate_GastosByIngresos\": 0.774516225693071, \"rate_ResiduosByPersonal\": 1375.0}, {\"Distrito\": \"HUACRACHUCO\", \"Ingresos_Total\": 16454306.91, \"Gastos_Total\": 10355857.92, \"Personal_Limpieza\": 5, \"Residuos_Solidos\": 4719.0, \"Personal_Vigilancia\": 0, \"rate_GastosByIngresos\": 0.6293706551508587, \"rate_ResiduosByPersonal\": 943.8}, {\"Distrito\": \"CHAGLLA\", \"Ingresos_Total\": 19360689.4, \"Gastos_Total\": 14402373.05, \"Personal_Limpieza\": 6, \"Residuos_Solidos\": 6000.0, \"Personal_Vigilancia\": 0, \"rate_GastosByIngresos\": 0.7438977379596825, \"rate_ResiduosByPersonal\": 1000.0}, {\"Distrito\": \"UMARI\", \"Ingresos_Total\": 12471363.28, \"Gastos_Total\": 10486006.84, \"Personal_Limpieza\": 5, \"Residuos_Solidos\": 1963.0, \"Personal_Vigilancia\": 0, \"rate_GastosByIngresos\": 0.8408067830736786, \"rate_ResiduosByPersonal\": 392.6}, {\"Distrito\": \"PUERTO INCA\", \"Ingresos_Total\": 17596167.63, \"Gastos_Total\": 15807113.61, \"Personal_Limpieza\": 51, \"Residuos_Solidos\": 2267.0, \"Personal_Vigilancia\": 3, \"rate_GastosByIngresos\": 0.8983270643006486, \"rate_ResiduosByPersonal\": 44.450980392156865}, {\"Distrito\": \"CODO DEL POZUZO\", \"Ingresos_Total\": 11783277.18, \"Gastos_Total\": 13234636.61, \"Personal_Limpieza\": 1, \"Residuos_Solidos\": 8000.0, \"Personal_Vigilancia\": 0, \"rate_GastosByIngresos\": 1.12317111851221, \"rate_ResiduosByPersonal\": 8000.0}, {\"Distrito\": \"YUYAPICHIS\", \"Ingresos_Total\": 8427977.17, \"Gastos_Total\": 4879391.05, \"Personal_Limpieza\": 2, \"Residuos_Solidos\": 3830.0, \"Personal_Vigilancia\": 0, \"rate_GastosByIngresos\": 0.5789516216736501, \"rate_ResiduosByPersonal\": 1915.0}, {\"Distrito\": \"JESUS\", \"Ingresos_Total\": 12982530.8, \"Gastos_Total\": 10104861.52, \"Personal_Limpieza\": 1, \"Residuos_Solidos\": 800.0, \"Personal_Vigilancia\": 0, \"rate_GastosByIngresos\": 0.778342965302266, \"rate_ResiduosByPersonal\": 800.0}, {\"Distrito\": \"CHAVINILLO\", \"Ingresos_Total\": 16713454.37, \"Gastos_Total\": 14976224.97, \"Personal_Limpieza\": 2, \"Residuos_Solidos\": 598.0, \"Personal_Vigilancia\": 0, \"rate_GastosByIngresos\": 0.8960580283679562, \"rate_ResiduosByPersonal\": 299.0}, {\"Distrito\": \"JACAS CHICO\", \"Ingresos_Total\": 3066989.39, \"Gastos_Total\": 3011597.43, \"Personal_Limpieza\": 1, \"Residuos_Solidos\": 320.0, \"Personal_Vigilancia\": 0, \"rate_GastosByIngresos\": 0.9819393049807714, \"rate_ResiduosByPersonal\": 320.0}, {\"Distrito\": \"PAMPAMARCA\", \"Ingresos_Total\": 5120108.31, \"Gastos_Total\": 5281061.64, \"Personal_Limpieza\": 3, \"Residuos_Solidos\": 250.0, \"Personal_Vigilancia\": 1, \"rate_GastosByIngresos\": 1.031435532269043, \"rate_ResiduosByPersonal\": 83.33333333333333}, {\"Distrito\": \"ICA\", \"Ingresos_Total\": 127098858.5, \"Gastos_Total\": 111542832.8, \"Personal_Limpieza\": 207, \"Residuos_Solidos\": 140000.0, \"Personal_Vigilancia\": 41, \"rate_GastosByIngresos\": 0.8776068811034994, \"rate_ResiduosByPersonal\": 676.328502415459}, {\"Distrito\": \"LA TINGUI\\u00d1A\", \"Ingresos_Total\": 28026254.05, \"Gastos_Total\": 23049211.6, \"Personal_Limpieza\": 26, \"Residuos_Solidos\": 45600.0, \"Personal_Vigilancia\": 0, \"rate_GastosByIngresos\": 0.8224149955566395, \"rate_ResiduosByPersonal\": 1753.8461538461538}, {\"Distrito\": \"LOS AQUIJES\", \"Ingresos_Total\": 14353036.71, \"Gastos_Total\": 9568466.22, \"Personal_Limpieza\": 30, \"Residuos_Solidos\": 35000.0, \"Personal_Vigilancia\": 0, \"rate_GastosByIngresos\": 0.6666509961152326, \"rate_ResiduosByPersonal\": 1166.6666666666667}, {\"Distrito\": \"OCUCAJE\", \"Ingresos_Total\": 9025823.93, \"Gastos_Total\": 3666869.27, \"Personal_Limpieza\": 2, \"Residuos_Solidos\": 1000.0, \"Personal_Vigilancia\": 0, \"rate_GastosByIngresos\": 0.40626421459564194, \"rate_ResiduosByPersonal\": 500.0}, {\"Distrito\": \"PACHACUTEC\", \"Ingresos_Total\": 5831811.05, \"Gastos_Total\": 2571277.09, \"Personal_Limpieza\": 2, \"Residuos_Solidos\": 3500.0, \"Personal_Vigilancia\": 0, \"rate_GastosByIngresos\": 0.44090541822338364, \"rate_ResiduosByPersonal\": 1750.0}, {\"Distrito\": \"PARCONA\", \"Ingresos_Total\": 34579723.34, \"Gastos_Total\": 27904631.82, \"Personal_Limpieza\": 47, \"Residuos_Solidos\": 50000.0, \"Personal_Vigilancia\": 7, \"rate_GastosByIngresos\": 0.8069651554360874, \"rate_ResiduosByPersonal\": 1063.8297872340424}, {\"Distrito\": \"PUEBLO NUEVO\", \"Ingresos_Total\": 6766026.13, \"Gastos_Total\": 4878277.07, \"Personal_Limpieza\": 7, \"Residuos_Solidos\": 4000.0, \"Personal_Vigilancia\": 0, \"rate_GastosByIngresos\": 0.7209958957105004, \"rate_ResiduosByPersonal\": 571.4285714285714}, {\"Distrito\": \"SALAS\", \"Ingresos_Total\": 28331126.46, \"Gastos_Total\": 23826189.14, \"Personal_Limpieza\": 17, \"Residuos_Solidos\": 20000.0, \"Personal_Vigilancia\": 0, \"rate_GastosByIngresos\": 0.8409898269890396, \"rate_ResiduosByPersonal\": 1176.4705882352941}, {\"Distrito\": \"SAN JOSE DE LOS MOLINOS\", \"Ingresos_Total\": 8528115.86, \"Gastos_Total\": 7108865.24, \"Personal_Limpieza\": 2, \"Residuos_Solidos\": 2600.0, \"Personal_Vigilancia\": 0, \"rate_GastosByIngresos\": 0.8335798148971209, \"rate_ResiduosByPersonal\": 1300.0}, {\"Distrito\": \"SAN JUAN BAUTISTA\", \"Ingresos_Total\": 8777853.43, \"Gastos_Total\": 6214274.28, \"Personal_Limpieza\": 18, \"Residuos_Solidos\": 7000.0, \"Personal_Vigilancia\": 0, \"rate_GastosByIngresos\": 0.7079491961852, \"rate_ResiduosByPersonal\": 388.8888888888889}, {\"Distrito\": \"SANTIAGO\", \"Ingresos_Total\": 21172942.32, \"Gastos_Total\": 16627134.18, \"Personal_Limpieza\": 5, \"Residuos_Solidos\": 14000.0, \"Personal_Vigilancia\": 17, \"rate_GastosByIngresos\": 0.7853010662714544, \"rate_ResiduosByPersonal\": 2800.0}, {\"Distrito\": \"SUBTANJALLA\", \"Ingresos_Total\": 20214773.87, \"Gastos_Total\": 14071213.74, \"Personal_Limpieza\": 32, \"Residuos_Solidos\": 29000.0, \"Personal_Vigilancia\": 6, \"rate_GastosByIngresos\": 0.6960856366977505, \"rate_ResiduosByPersonal\": 906.25}, {\"Distrito\": \"TATE\", \"Ingresos_Total\": 5117194.58, \"Gastos_Total\": 4499937.38, \"Personal_Limpieza\": 1, \"Residuos_Solidos\": 1057.0, \"Personal_Vigilancia\": 0, \"rate_GastosByIngresos\": 0.8793758591059869, \"rate_ResiduosByPersonal\": 1057.0}, {\"Distrito\": \"YAUCA DEL ROSARIO\", \"Ingresos_Total\": 4849593.13, \"Gastos_Total\": 2918051.56, \"Personal_Limpieza\": 1, \"Residuos_Solidos\": 200.0, \"Personal_Vigilancia\": 0, \"rate_GastosByIngresos\": 0.601710593399822, \"rate_ResiduosByPersonal\": 200.0}, {\"Distrito\": \"CHINCHA ALTA\", \"Ingresos_Total\": 75442172.5, \"Gastos_Total\": 51789811.59, \"Personal_Limpieza\": 89, \"Residuos_Solidos\": 45000.0, \"Personal_Vigilancia\": 10, \"rate_GastosByIngresos\": 0.6864835658066448, \"rate_ResiduosByPersonal\": 505.6179775280899}, {\"Distrito\": \"ALTO LARAN\", \"Ingresos_Total\": 16937268.87, \"Gastos_Total\": 7539535.53, \"Personal_Limpieza\": 8, \"Residuos_Solidos\": 4800.0, \"Personal_Vigilancia\": 0, \"rate_GastosByIngresos\": 0.44514470354511176, \"rate_ResiduosByPersonal\": 600.0}, {\"Distrito\": \"CHINCHA BAJA\", \"Ingresos_Total\": 18264753.87, \"Gastos_Total\": 14446051.66, \"Personal_Limpieza\": 18, \"Residuos_Solidos\": 6000.0, \"Personal_Vigilancia\": 5, \"rate_GastosByIngresos\": 0.790925065994333, \"rate_ResiduosByPersonal\": 333.3333333333333}, {\"Distrito\": \"EL CARMEN\", \"Ingresos_Total\": 14332463.76, \"Gastos_Total\": 10674036.01, \"Personal_Limpieza\": 19, \"Residuos_Solidos\": 3000.0, \"Personal_Vigilancia\": 0, \"rate_GastosByIngresos\": 0.7447453688869471, \"rate_ResiduosByPersonal\": 157.89473684210526}, {\"Distrito\": \"GROCIO PRADO\", \"Ingresos_Total\": 20754651.07, \"Gastos_Total\": 17174168.6, \"Personal_Limpieza\": 6, \"Residuos_Solidos\": 20000.0, \"Personal_Vigilancia\": 0, \"rate_GastosByIngresos\": 0.8274852967691931, \"rate_ResiduosByPersonal\": 3333.3333333333335}, {\"Distrito\": \"PUEBLO NUEVO\", \"Ingresos_Total\": 46036671.74, \"Gastos_Total\": 27968036.67, \"Personal_Limpieza\": 25, \"Residuos_Solidos\": 36200.0, \"Personal_Vigilancia\": 3, \"rate_GastosByIngresos\": 0.6075164779060112, \"rate_ResiduosByPersonal\": 1448.0}, {\"Distrito\": \"SUNAMPE\", \"Ingresos_Total\": 19893866.48, \"Gastos_Total\": 18279581.42, \"Personal_Limpieza\": 48, \"Residuos_Solidos\": 20000.0, \"Personal_Vigilancia\": 0, \"rate_GastosByIngresos\": 0.9188551375056782, \"rate_ResiduosByPersonal\": 416.6666666666667}, {\"Distrito\": \"TAMBO DE MORA\", \"Ingresos_Total\": 4763824.24, \"Gastos_Total\": 4098037.87, \"Personal_Limpieza\": 9, \"Residuos_Solidos\": 4300.0, \"Personal_Vigilancia\": 3, \"rate_GastosByIngresos\": 0.8602411977315099, \"rate_ResiduosByPersonal\": 477.77777777777777}, {\"Distrito\": \"NASCA\", \"Ingresos_Total\": 96989859.38, \"Gastos_Total\": 50858354.1, \"Personal_Limpieza\": 79, \"Residuos_Solidos\": 15000.0, \"Personal_Vigilancia\": 8, \"rate_GastosByIngresos\": 0.5243677475677149, \"rate_ResiduosByPersonal\": 189.873417721519}, {\"Distrito\": \"CHANGUILLO\", \"Ingresos_Total\": 8234283.33, \"Gastos_Total\": 5288199.53, \"Personal_Limpieza\": 1, \"Residuos_Solidos\": 200.0, \"Personal_Vigilancia\": 0, \"rate_GastosByIngresos\": 0.6422173391500241, \"rate_ResiduosByPersonal\": 200.0}, {\"Distrito\": \"EL INGENIO\", \"Ingresos_Total\": 16612821.07, \"Gastos_Total\": 7967886.98, \"Personal_Limpieza\": 1, \"Residuos_Solidos\": 1784.0, \"Personal_Vigilancia\": 0, \"rate_GastosByIngresos\": 0.4796227531992554, \"rate_ResiduosByPersonal\": 1784.0}, {\"Distrito\": \"MARCONA\", \"Ingresos_Total\": 146144413.45, \"Gastos_Total\": 68585138.67, \"Personal_Limpieza\": 2, \"Residuos_Solidos\": 29460.0, \"Personal_Vigilancia\": 0, \"rate_GastosByIngresos\": 0.46929702648856203, \"rate_ResiduosByPersonal\": 14730.0}, {\"Distrito\": \"VISTA ALEGRE\", \"Ingresos_Total\": 58293057.18, \"Gastos_Total\": 38380354.8, \"Personal_Limpieza\": 18, \"Residuos_Solidos\": 10000.0, \"Personal_Vigilancia\": 9, \"rate_GastosByIngresos\": 0.6584035330569018, \"rate_ResiduosByPersonal\": 555.5555555555555}, {\"Distrito\": \"PALPA\", \"Ingresos_Total\": 14277994.86, \"Gastos_Total\": 12634496.74, \"Personal_Limpieza\": 18, \"Residuos_Solidos\": 3800.0, \"Personal_Vigilancia\": 0, \"rate_GastosByIngresos\": 0.8848929323679559, \"rate_ResiduosByPersonal\": 211.11111111111111}, {\"Distrito\": \"LLIPATA\", \"Ingresos_Total\": 3754290.7, \"Gastos_Total\": 3138489.44, \"Personal_Limpieza\": 3, \"Residuos_Solidos\": 1400.0, \"Personal_Vigilancia\": 0, \"rate_GastosByIngresos\": 0.8359740070208201, \"rate_ResiduosByPersonal\": 466.6666666666667}, {\"Distrito\": \"RIO GRANDE\", \"Ingresos_Total\": 2622405.62, \"Gastos_Total\": 2512380.81, \"Personal_Limpieza\": 1, \"Residuos_Solidos\": 2400.0, \"Personal_Vigilancia\": 0, \"rate_GastosByIngresos\": 0.9580443203900699, \"rate_ResiduosByPersonal\": 2400.0}, {\"Distrito\": \"TIBILLO\", \"Ingresos_Total\": 1316842.98, \"Gastos_Total\": 679668.15, \"Personal_Limpieza\": 2, \"Residuos_Solidos\": 100.0, \"Personal_Vigilancia\": 0, \"rate_GastosByIngresos\": 0.5161345432391643, \"rate_ResiduosByPersonal\": 50.0}, {\"Distrito\": \"PISCO\", \"Ingresos_Total\": 71895854.56, \"Gastos_Total\": 54721102.05, \"Personal_Limpieza\": 45, \"Residuos_Solidos\": 41000.0, \"Personal_Vigilancia\": 0, \"rate_GastosByIngresos\": 0.7611162338203105, \"rate_ResiduosByPersonal\": 911.1111111111111}, {\"Distrito\": \"HUMAY\", \"Ingresos_Total\": 14148052.79, \"Gastos_Total\": 9072770.17, \"Personal_Limpieza\": 17, \"Residuos_Solidos\": 2776.0, \"Personal_Vigilancia\": 6, \"rate_GastosByIngresos\": 0.64127341795139, \"rate_ResiduosByPersonal\": 163.2941176470588}, {\"Distrito\": \"INDEPENDENCIA\", \"Ingresos_Total\": 19341950.91, \"Gastos_Total\": 13558985.27, \"Personal_Limpieza\": 42, \"Residuos_Solidos\": 8000.0, \"Personal_Vigilancia\": 2, \"rate_GastosByIngresos\": 0.7010143564675193, \"rate_ResiduosByPersonal\": 190.47619047619048}, {\"Distrito\": \"PARACAS\", \"Ingresos_Total\": 45252340.68, \"Gastos_Total\": 36322185.34, \"Personal_Limpieza\": 3, \"Residuos_Solidos\": 15170.0, \"Personal_Vigilancia\": 0, \"rate_GastosByIngresos\": 0.8026587087914587, \"rate_ResiduosByPersonal\": 5056.666666666667}, {\"Distrito\": \"SAN ANDRES\", \"Ingresos_Total\": 17913873.77, \"Gastos_Total\": 14693163.92, \"Personal_Limpieza\": 33, \"Residuos_Solidos\": 13736.0, \"Personal_Vigilancia\": 0, \"rate_GastosByIngresos\": 0.8202114243210948, \"rate_ResiduosByPersonal\": 416.24242424242425}, {\"Distrito\": \"SAN CLEMENTE\", \"Ingresos_Total\": 22432480.07, \"Gastos_Total\": 15015503.59, \"Personal_Limpieza\": 37, \"Residuos_Solidos\": 17000.0, \"Personal_Vigilancia\": 10, \"rate_GastosByIngresos\": 0.6693644012228916, \"rate_ResiduosByPersonal\": 459.4594594594595}, {\"Distrito\": \"TUPAC AMARU INCA\", \"Ingresos_Total\": 16041161.81, \"Gastos_Total\": 9619576.83, \"Personal_Limpieza\": 15, \"Residuos_Solidos\": 11339.0, \"Personal_Vigilancia\": 3, \"rate_GastosByIngresos\": 0.5996808051648224, \"rate_ResiduosByPersonal\": 755.9333333333333}, {\"Distrito\": \"HUANCAYO\", \"Ingresos_Total\": 143200460.18, \"Gastos_Total\": 108813048.81, \"Personal_Limpieza\": 57, \"Residuos_Solidos\": 145000.0, \"Personal_Vigilancia\": 40, \"rate_GastosByIngresos\": 0.7598652174247503, \"rate_ResiduosByPersonal\": 2543.8596491228072}, {\"Distrito\": \"CHILCA\", \"Ingresos_Total\": 28263222.35, \"Gastos_Total\": 22795705.7, \"Personal_Limpieza\": 68, \"Residuos_Solidos\": 68000.0, \"Personal_Vigilancia\": 13, \"rate_GastosByIngresos\": 0.8065501313936342, \"rate_ResiduosByPersonal\": 1000.0}, {\"Distrito\": \"CHUPURO\", \"Ingresos_Total\": 3102706.01, \"Gastos_Total\": 3079368.36, \"Personal_Limpieza\": 1, \"Residuos_Solidos\": 472.0, \"Personal_Vigilancia\": 0, \"rate_GastosByIngresos\": 0.992478291554281, \"rate_ResiduosByPersonal\": 472.0}, {\"Distrito\": \"EL TAMBO\", \"Ingresos_Total\": 56571812.81, \"Gastos_Total\": 49500351.08, \"Personal_Limpieza\": 190, \"Residuos_Solidos\": 147000.0, \"Personal_Vigilancia\": 3, \"rate_GastosByIngresos\": 0.8750002628738458, \"rate_ResiduosByPersonal\": 773.6842105263158}, {\"Distrito\": \"HUALHUAS\", \"Ingresos_Total\": 4548104.41, \"Gastos_Total\": 4829405.92, \"Personal_Limpieza\": 1, \"Residuos_Solidos\": 1300.0, \"Personal_Vigilancia\": 0, \"rate_GastosByIngresos\": 1.0618502753326193, \"rate_ResiduosByPersonal\": 1300.0}, {\"Distrito\": \"HUANCAN\", \"Ingresos_Total\": 7610054.12, \"Gastos_Total\": 5557537.95, \"Personal_Limpieza\": 23, \"Residuos_Solidos\": 10000.0, \"Personal_Vigilancia\": 0, \"rate_GastosByIngresos\": 0.7302888865657634, \"rate_ResiduosByPersonal\": 434.7826086956522}, {\"Distrito\": \"HUAYUCACHI\", \"Ingresos_Total\": 8289034.4, \"Gastos_Total\": 6113441.75, \"Personal_Limpieza\": 2, \"Residuos_Solidos\": 4000.0, \"Personal_Vigilancia\": 0, \"rate_GastosByIngresos\": 0.7375336444495875, \"rate_ResiduosByPersonal\": 2000.0}, {\"Distrito\": \"PUCARA\", \"Ingresos_Total\": 6866746.51, \"Gastos_Total\": 8815413.05, \"Personal_Limpieza\": 3, \"Residuos_Solidos\": 150.0, \"Personal_Vigilancia\": 0, \"rate_GastosByIngresos\": 1.2837830895842988, \"rate_ResiduosByPersonal\": 50.0}, {\"Distrito\": \"QUILCAS\", \"Ingresos_Total\": 2105271.36, \"Gastos_Total\": 1539099.55, \"Personal_Limpieza\": 4, \"Residuos_Solidos\": 1450.0, \"Personal_Vigilancia\": 0, \"rate_GastosByIngresos\": 0.7310694380034696, \"rate_ResiduosByPersonal\": 362.5}, {\"Distrito\": \"SAN AGUSTIN\", \"Ingresos_Total\": 8280481.01, \"Gastos_Total\": 5797591.71, \"Personal_Limpieza\": 8, \"Residuos_Solidos\": 6450.0, \"Personal_Vigilancia\": 2, \"rate_GastosByIngresos\": 0.7001515616059604, \"rate_ResiduosByPersonal\": 806.25}, {\"Distrito\": \"SAN JERONIMO DE TUNAN\", \"Ingresos_Total\": 5611147.91, \"Gastos_Total\": 4286716.61, \"Personal_Limpieza\": 9, \"Residuos_Solidos\": 6000.0, \"Personal_Vigilancia\": 1, \"rate_GastosByIngresos\": 0.7639642865874837, \"rate_ResiduosByPersonal\": 666.6666666666666}, {\"Distrito\": \"SA\\u00d1O\", \"Ingresos_Total\": 2554687.83, \"Gastos_Total\": 2682153.04, \"Personal_Limpieza\": 2, \"Residuos_Solidos\": 1605.0, \"Personal_Vigilancia\": 0, \"rate_GastosByIngresos\": 1.0498946323316536, \"rate_ResiduosByPersonal\": 802.5}, {\"Distrito\": \"SAPALLANGA\", \"Ingresos_Total\": 6850931.02, \"Gastos_Total\": 6315252.24, \"Personal_Limpieza\": 12, \"Residuos_Solidos\": 13940.0, \"Personal_Vigilancia\": 2, \"rate_GastosByIngresos\": 0.9218093455566571, \"rate_ResiduosByPersonal\": 1161.6666666666667}, {\"Distrito\": \"SICAYA\", \"Ingresos_Total\": 6513171.43, \"Gastos_Total\": 5915111.67, \"Personal_Limpieza\": 12, \"Residuos_Solidos\": 7200.0, \"Personal_Vigilancia\": 3, \"rate_GastosByIngresos\": 0.9081768741345719, \"rate_ResiduosByPersonal\": 600.0}, {\"Distrito\": \"VIQUES\", \"Ingresos_Total\": 6334754.84, \"Gastos_Total\": 3854978.16, \"Personal_Limpieza\": 3, \"Residuos_Solidos\": 150.0, \"Personal_Vigilancia\": 1, \"rate_GastosByIngresos\": 0.6085441753259705, \"rate_ResiduosByPersonal\": 50.0}, {\"Distrito\": \"CONCEPCION\", \"Ingresos_Total\": 26066317.49, \"Gastos_Total\": 28693770.29, \"Personal_Limpieza\": 48, \"Residuos_Solidos\": 15700.0, \"Personal_Vigilancia\": 5, \"rate_GastosByIngresos\": 1.1007987722472876, \"rate_ResiduosByPersonal\": 327.0833333333333}, {\"Distrito\": \"ANDAMARCA\", \"Ingresos_Total\": 5740156.86, \"Gastos_Total\": 4780045.98, \"Personal_Limpieza\": 2, \"Residuos_Solidos\": 100.0, \"Personal_Vigilancia\": 2, \"rate_GastosByIngresos\": 0.8327378670275571, \"rate_ResiduosByPersonal\": 50.0}, {\"Distrito\": \"COMAS\", \"Ingresos_Total\": 6244647.07, \"Gastos_Total\": 6268778.44, \"Personal_Limpieza\": 4, \"Residuos_Solidos\": 600.0, \"Personal_Vigilancia\": 1, \"rate_GastosByIngresos\": 1.0038643288771163, \"rate_ResiduosByPersonal\": 150.0}, {\"Distrito\": \"MARISCAL CASTILLA\", \"Ingresos_Total\": 1311471.77, \"Gastos_Total\": 934620.11, \"Personal_Limpieza\": 1, \"Residuos_Solidos\": 300.0, \"Personal_Vigilancia\": 0, \"rate_GastosByIngresos\": 0.7126498117454713, \"rate_ResiduosByPersonal\": 300.0}, {\"Distrito\": \"MATAHUASI\", \"Ingresos_Total\": 2848906.33, \"Gastos_Total\": 2620649.87, \"Personal_Limpieza\": 5, \"Residuos_Solidos\": 3100.0, \"Personal_Vigilancia\": 0, \"rate_GastosByIngresos\": 0.9198792681962275, \"rate_ResiduosByPersonal\": 620.0}, {\"Distrito\": \"MITO\", \"Ingresos_Total\": 4946719.31, \"Gastos_Total\": 5880525.03, \"Personal_Limpieza\": 1, \"Residuos_Solidos\": 232.0, \"Personal_Vigilancia\": 0, \"rate_GastosByIngresos\": 1.1887727322858754, \"rate_ResiduosByPersonal\": 232.0}, {\"Distrito\": \"ORCOTUNA\", \"Ingresos_Total\": 3351840.8, \"Gastos_Total\": 2930390.16, \"Personal_Limpieza\": 4, \"Residuos_Solidos\": 1850.0, \"Personal_Vigilancia\": 1, \"rate_GastosByIngresos\": 0.874262930387386, \"rate_ResiduosByPersonal\": 462.5}, {\"Distrito\": \"CHANCHAMAYO\", \"Ingresos_Total\": 58691498.57, \"Gastos_Total\": 60631983.83, \"Personal_Limpieza\": 30, \"Residuos_Solidos\": 35000.0, \"Personal_Vigilancia\": 4, \"rate_GastosByIngresos\": 1.0330624589127781, \"rate_ResiduosByPersonal\": 1166.6666666666667}, {\"Distrito\": \"PERENE\", \"Ingresos_Total\": 44273818.59, \"Gastos_Total\": 42587981.13, \"Personal_Limpieza\": 24, \"Residuos_Solidos\": 41440.0, \"Personal_Vigilancia\": 7, \"rate_GastosByIngresos\": 0.9619224744174026, \"rate_ResiduosByPersonal\": 1726.6666666666667}, {\"Distrito\": \"PICHANAQUI\", \"Ingresos_Total\": 39876033.02, \"Gastos_Total\": 34786032.82, \"Personal_Limpieza\": 31, \"Residuos_Solidos\": 37942.0, \"Personal_Vigilancia\": 10, \"rate_GastosByIngresos\": 0.8723543990083695, \"rate_ResiduosByPersonal\": 1223.9354838709678}, {\"Distrito\": \"SAN RAMON\", \"Ingresos_Total\": 20119723.46, \"Gastos_Total\": 21374167.59, \"Personal_Limpieza\": 32, \"Residuos_Solidos\": 30000.0, \"Personal_Vigilancia\": 0, \"rate_GastosByIngresos\": 1.0623489747507693, \"rate_ResiduosByPersonal\": 937.5}, {\"Distrito\": \"VITOC\", \"Ingresos_Total\": 3384045.98, \"Gastos_Total\": 2400594.44, \"Personal_Limpieza\": 1, \"Residuos_Solidos\": 500.0, \"Personal_Vigilancia\": 0, \"rate_GastosByIngresos\": 0.7093858813348629, \"rate_ResiduosByPersonal\": 500.0}, {\"Distrito\": \"JAUJA\", \"Ingresos_Total\": 69403431.79, \"Gastos_Total\": 64627950.26, \"Personal_Limpieza\": 34, \"Residuos_Solidos\": 18200.0, \"Personal_Vigilancia\": 6, \"rate_GastosByIngresos\": 0.9311924294399505, \"rate_ResiduosByPersonal\": 535.2941176470588}, {\"Distrito\": \"ACOLLA\", \"Ingresos_Total\": 5926398.86, \"Gastos_Total\": 5259675.96, \"Personal_Limpieza\": 3, \"Residuos_Solidos\": 3270.0, \"Personal_Vigilancia\": 3, \"rate_GastosByIngresos\": 0.8874994890235922, \"rate_ResiduosByPersonal\": 1090.0}, {\"Distrito\": \"APATA\", \"Ingresos_Total\": 2919891.38, \"Gastos_Total\": 2351654.73, \"Personal_Limpieza\": 4, \"Residuos_Solidos\": 2500.0, \"Personal_Vigilancia\": 0, \"rate_GastosByIngresos\": 0.8053911683522967, \"rate_ResiduosByPersonal\": 625.0}, {\"Distrito\": \"CANCHAYLLO\", \"Ingresos_Total\": 1734742.04, \"Gastos_Total\": 1529396.84, \"Personal_Limpieza\": 3, \"Residuos_Solidos\": 1600.0, \"Personal_Vigilancia\": 2, \"rate_GastosByIngresos\": 0.8816278182778116, \"rate_ResiduosByPersonal\": 533.3333333333334}, {\"Distrito\": \"CURICACA\", \"Ingresos_Total\": 2791133.82, \"Gastos_Total\": 2573740.55, \"Personal_Limpieza\": 1, \"Residuos_Solidos\": 200.0, \"Personal_Vigilancia\": 0, \"rate_GastosByIngresos\": 0.9221129175382927, \"rate_ResiduosByPersonal\": 200.0}, {\"Distrito\": \"JANJAILLO\", \"Ingresos_Total\": 5126169.91, \"Gastos_Total\": 4769398.19, \"Personal_Limpieza\": 1, \"Residuos_Solidos\": 13798.4666666667, \"Personal_Vigilancia\": 0, \"rate_GastosByIngresos\": 0.9304018933699372, \"rate_ResiduosByPersonal\": 13798.4666666667}, {\"Distrito\": \"MUQUI\", \"Ingresos_Total\": 5432634.37, \"Gastos_Total\": 4796754.38, \"Personal_Limpieza\": 1, \"Residuos_Solidos\": 500.0, \"Personal_Vigilancia\": 0, \"rate_GastosByIngresos\": 0.8829518155111918, \"rate_ResiduosByPersonal\": 500.0}, {\"Distrito\": \"SAN LORENZO\", \"Ingresos_Total\": 2098312.28, \"Gastos_Total\": 2536675.4, \"Personal_Limpieza\": 1, \"Residuos_Solidos\": 500.0, \"Personal_Vigilancia\": 0, \"rate_GastosByIngresos\": 1.208912240650853, \"rate_ResiduosByPersonal\": 500.0}, {\"Distrito\": \"SAUSA\", \"Ingresos_Total\": 1679063.34, \"Gastos_Total\": 1396082.58, \"Personal_Limpieza\": 2, \"Residuos_Solidos\": 350.0, \"Personal_Vigilancia\": 0, \"rate_GastosByIngresos\": 0.8314651072067358, \"rate_ResiduosByPersonal\": 175.0}, {\"Distrito\": \"YAUYOS\", \"Ingresos_Total\": 6642554.61, \"Gastos_Total\": 8950527.57, \"Personal_Limpieza\": 11, \"Residuos_Solidos\": 12000.0, \"Personal_Vigilancia\": 0, \"rate_GastosByIngresos\": 1.3474526135660931, \"rate_ResiduosByPersonal\": 1090.909090909091}, {\"Distrito\": \"JUNIN\", \"Ingresos_Total\": 28947111.18, \"Gastos_Total\": 26141336.93, \"Personal_Limpieza\": 8, \"Residuos_Solidos\": 3530.0, \"Personal_Vigilancia\": 0, \"rate_GastosByIngresos\": 0.9030723918337471, \"rate_ResiduosByPersonal\": 441.25}, {\"Distrito\": \"CARHUAMAYO\", \"Ingresos_Total\": 4006119.43, \"Gastos_Total\": 2977486.02, \"Personal_Limpieza\": 12, \"Residuos_Solidos\": 1800.0, \"Personal_Vigilancia\": 0, \"rate_GastosByIngresos\": 0.7432344621837697, \"rate_ResiduosByPersonal\": 150.0}, {\"Distrito\": \"ONDORES\", \"Ingresos_Total\": 1473503.99, \"Gastos_Total\": 1448219.93, \"Personal_Limpieza\": 1, \"Residuos_Solidos\": 175.0, \"Personal_Vigilancia\": 0, \"rate_GastosByIngresos\": 0.98284086085169, \"rate_ResiduosByPersonal\": 175.0}, {\"Distrito\": \"ULCUMAYO\", \"Ingresos_Total\": 11951179.35, \"Gastos_Total\": 8632243.25, \"Personal_Limpieza\": 1, \"Residuos_Solidos\": 517.0, \"Personal_Vigilancia\": 0, \"rate_GastosByIngresos\": 0.7222921685967335, \"rate_ResiduosByPersonal\": 517.0}, {\"Distrito\": \"SATIPO\", \"Ingresos_Total\": 91233462.72, \"Gastos_Total\": 65273475.3, \"Personal_Limpieza\": 75, \"Residuos_Solidos\": 20336.0, \"Personal_Vigilancia\": 15, \"rate_GastosByIngresos\": 0.7154554190311456, \"rate_ResiduosByPersonal\": 271.14666666666665}, {\"Distrito\": \"COVIRIALI\", \"Ingresos_Total\": 7658199.07, \"Gastos_Total\": 6738317.94, \"Personal_Limpieza\": 1, \"Residuos_Solidos\": 2600.0, \"Personal_Vigilancia\": 4, \"rate_GastosByIngresos\": 0.8798828390863441, \"rate_ResiduosByPersonal\": 2600.0}, {\"Distrito\": \"MAZAMARI\", \"Ingresos_Total\": 47667657.71, \"Gastos_Total\": 35274660.92, \"Personal_Limpieza\": 28, \"Residuos_Solidos\": 6135.0, \"Personal_Vigilancia\": 6, \"rate_GastosByIngresos\": 0.7400124657813819, \"rate_ResiduosByPersonal\": 219.10714285714286}, {\"Distrito\": \"PAMPA HERMOSA\", \"Ingresos_Total\": 7596005.22, \"Gastos_Total\": 6337880.03, \"Personal_Limpieza\": 4, \"Residuos_Solidos\": 390.0, \"Personal_Vigilancia\": 4, \"rate_GastosByIngresos\": 0.834370151999448, \"rate_ResiduosByPersonal\": 97.5}, {\"Distrito\": \"PANGOA\", \"Ingresos_Total\": 56984659.57, \"Gastos_Total\": 44922639.09, \"Personal_Limpieza\": 26, \"Residuos_Solidos\": 16130.0, \"Personal_Vigilancia\": 2, \"rate_GastosByIngresos\": 0.7883286384262241, \"rate_ResiduosByPersonal\": 620.3846153846154}, {\"Distrito\": \"RIO NEGRO\", \"Ingresos_Total\": 29502210.96, \"Gastos_Total\": 19671581.61, \"Personal_Limpieza\": 5, \"Residuos_Solidos\": 3150.0, \"Personal_Vigilancia\": 2, \"rate_GastosByIngresos\": 0.6667833009760296, \"rate_ResiduosByPersonal\": 630.0}, {\"Distrito\": \"RIO TAMBO\", \"Ingresos_Total\": 57836764.12, \"Gastos_Total\": 31899276.41, \"Personal_Limpieza\": 2, \"Residuos_Solidos\": 4500.0, \"Personal_Vigilancia\": 0, \"rate_GastosByIngresos\": 0.551539784345736, \"rate_ResiduosByPersonal\": 2250.0}, {\"Distrito\": \"VIZCAT\\u00c1N DEL ENE\", \"Ingresos_Total\": 4987448.45, \"Gastos_Total\": 4150502.38, \"Personal_Limpieza\": 2, \"Residuos_Solidos\": 500.0, \"Personal_Vigilancia\": 3, \"rate_GastosByIngresos\": 0.8321895296982968, \"rate_ResiduosByPersonal\": 250.0}, {\"Distrito\": \"TARMA\", \"Ingresos_Total\": 39009062.79, \"Gastos_Total\": 34106986.81, \"Personal_Limpieza\": 89, \"Residuos_Solidos\": 37800.0, \"Personal_Vigilancia\": 12, \"rate_GastosByIngresos\": 0.8743349460511354, \"rate_ResiduosByPersonal\": 424.7191011235955}, {\"Distrito\": \"ACOBAMBA\", \"Ingresos_Total\": 5624954.52, \"Gastos_Total\": 4414364.65, \"Personal_Limpieza\": 3, \"Residuos_Solidos\": 5000.0, \"Personal_Vigilancia\": 7, \"rate_GastosByIngresos\": 0.7847822830041301, \"rate_ResiduosByPersonal\": 1666.6666666666667}, {\"Distrito\": \"HUASAHUASI\", \"Ingresos_Total\": 10278951.07, \"Gastos_Total\": 7326985.69, \"Personal_Limpieza\": 4, \"Residuos_Solidos\": 3500.0, \"Personal_Vigilancia\": 3, \"rate_GastosByIngresos\": 0.7128145313761086, \"rate_ResiduosByPersonal\": 875.0}, {\"Distrito\": \"LA UNION\", \"Ingresos_Total\": 7973072.92, \"Gastos_Total\": 5902464.04, \"Personal_Limpieza\": 5, \"Residuos_Solidos\": 2075.0, \"Personal_Vigilancia\": 0, \"rate_GastosByIngresos\": 0.7402997688876023, \"rate_ResiduosByPersonal\": 415.0}, {\"Distrito\": \"PALCA\", \"Ingresos_Total\": 3942783.99, \"Gastos_Total\": 3552161.12, \"Personal_Limpieza\": 2, \"Residuos_Solidos\": 1150.0, \"Personal_Vigilancia\": 1, \"rate_GastosByIngresos\": 0.9009271441218366, \"rate_ResiduosByPersonal\": 575.0}, {\"Distrito\": \"PALCAMAYO\", \"Ingresos_Total\": 4666235.03, \"Gastos_Total\": 4051893.72, \"Personal_Limpieza\": 1, \"Residuos_Solidos\": 1700.0, \"Personal_Vigilancia\": 1, \"rate_GastosByIngresos\": 0.868343256168989, \"rate_ResiduosByPersonal\": 1700.0}, {\"Distrito\": \"SAN PEDRO DE CAJAS\", \"Ingresos_Total\": 2933963.38, \"Gastos_Total\": 2634314.27, \"Personal_Limpieza\": 3, \"Residuos_Solidos\": 1000.0, \"Personal_Vigilancia\": 0, \"rate_GastosByIngresos\": 0.8978688309327161, \"rate_ResiduosByPersonal\": 333.3333333333333}, {\"Distrito\": \"TAPO\", \"Ingresos_Total\": 3683633.06, \"Gastos_Total\": 3357233.38, \"Personal_Limpieza\": 4, \"Residuos_Solidos\": 1600.0, \"Personal_Vigilancia\": 1, \"rate_GastosByIngresos\": 0.9113919126352937, \"rate_ResiduosByPersonal\": 400.0}, {\"Distrito\": \"LA OROYA\", \"Ingresos_Total\": 29399040.92, \"Gastos_Total\": 25934729.0, \"Personal_Limpieza\": 32, \"Residuos_Solidos\": 8500.0, \"Personal_Vigilancia\": 0, \"rate_GastosByIngresos\": 0.8821624171541171, \"rate_ResiduosByPersonal\": 265.625}, {\"Distrito\": \"MOROCOCHA\", \"Ingresos_Total\": 20096890.91, \"Gastos_Total\": 13013248.76, \"Personal_Limpieza\": 18, \"Residuos_Solidos\": 2098.0, \"Personal_Vigilancia\": 0, \"rate_GastosByIngresos\": 0.6475254713914352, \"rate_ResiduosByPersonal\": 116.55555555555556}, {\"Distrito\": \"PACCHA\", \"Ingresos_Total\": 3903829.22, \"Gastos_Total\": 2521669.68, \"Personal_Limpieza\": 2, \"Residuos_Solidos\": 561.0, \"Personal_Vigilancia\": 0, \"rate_GastosByIngresos\": 0.6459477446095861, \"rate_ResiduosByPersonal\": 280.5}, {\"Distrito\": \"SANTA ROSA DE SACCO\", \"Ingresos_Total\": 6955154.52, \"Gastos_Total\": 5892865.47, \"Personal_Limpieza\": 25, \"Residuos_Solidos\": 3200.0, \"Personal_Vigilancia\": 0, \"rate_GastosByIngresos\": 0.8472659310522407, \"rate_ResiduosByPersonal\": 128.0}, {\"Distrito\": \"YAULI\", \"Ingresos_Total\": 12506249.2, \"Gastos_Total\": 7652190.74, \"Personal_Limpieza\": 6, \"Residuos_Solidos\": 5200.0, \"Personal_Vigilancia\": 0, \"rate_GastosByIngresos\": 0.6118693636778004, \"rate_ResiduosByPersonal\": 866.6666666666666}, {\"Distrito\": \"CHUPACA\", \"Ingresos_Total\": 27960522.83, \"Gastos_Total\": 21044000.24, \"Personal_Limpieza\": 14, \"Residuos_Solidos\": 18000.0, \"Personal_Vigilancia\": 0, \"rate_GastosByIngresos\": 0.7526325730011394, \"rate_ResiduosByPersonal\": 1285.7142857142858}, {\"Distrito\": \"AHUAC\", \"Ingresos_Total\": 5646956.38, \"Gastos_Total\": 4800330.59, \"Personal_Limpieza\": 6, \"Residuos_Solidos\": 1500.0, \"Personal_Vigilancia\": 0, \"rate_GastosByIngresos\": 0.850073963206353, \"rate_ResiduosByPersonal\": 250.0}, {\"Distrito\": \"CHONGOS BAJO\", \"Ingresos_Total\": 2016117.86, \"Gastos_Total\": 1744798.13, \"Personal_Limpieza\": 6, \"Residuos_Solidos\": 820.0, \"Personal_Vigilancia\": 0, \"rate_GastosByIngresos\": 0.8654246681788731, \"rate_ResiduosByPersonal\": 136.66666666666666}, {\"Distrito\": \"HUACHAC\", \"Ingresos_Total\": 2020051.53, \"Gastos_Total\": 2021274.51, \"Personal_Limpieza\": 1, \"Residuos_Solidos\": 590.0, \"Personal_Vigilancia\": 0, \"rate_GastosByIngresos\": 1.000605420199355, \"rate_ResiduosByPersonal\": 590.0}, {\"Distrito\": \"HUAMANCACA CHICO\", \"Ingresos_Total\": 7915911.35, \"Gastos_Total\": 7145783.75, \"Personal_Limpieza\": 3, \"Residuos_Solidos\": 3600.0, \"Personal_Vigilancia\": 1, \"rate_GastosByIngresos\": 0.902711442062827, \"rate_ResiduosByPersonal\": 1200.0}, {\"Distrito\": \"TRES DE DICIEMBRE\", \"Ingresos_Total\": 1657608.94, \"Gastos_Total\": 2552630.34, \"Personal_Limpieza\": 5, \"Residuos_Solidos\": 2000.0, \"Personal_Vigilancia\": 0, \"rate_GastosByIngresos\": 1.539947256799906, \"rate_ResiduosByPersonal\": 400.0}, {\"Distrito\": \"EL PORVENIR\", \"Ingresos_Total\": 68160994.41, \"Gastos_Total\": 45418763.72, \"Personal_Limpieza\": 53, \"Residuos_Solidos\": 115236.0, \"Personal_Vigilancia\": 81, \"rate_GastosByIngresos\": 0.6663453799807907, \"rate_ResiduosByPersonal\": 2174.264150943396}, {\"Distrito\": \"FLORENCIA DE MORA\", \"Ingresos_Total\": 29897261.36, \"Gastos_Total\": 12890159.76, \"Personal_Limpieza\": 31, \"Residuos_Solidos\": 21000.0, \"Personal_Vigilancia\": 19, \"rate_GastosByIngresos\": 0.4311485123933773, \"rate_ResiduosByPersonal\": 677.4193548387096}, {\"Distrito\": \"HUANCHACO\", \"Ingresos_Total\": 67139976.32, \"Gastos_Total\": 57692029.32, \"Personal_Limpieza\": 109, \"Residuos_Solidos\": 41897.0, \"Personal_Vigilancia\": 0, \"rate_GastosByIngresos\": 0.8592798580242336, \"rate_ResiduosByPersonal\": 384.3761467889908}, {\"Distrito\": \"LA ESPERANZA\", \"Ingresos_Total\": 75459364.12, \"Gastos_Total\": 60933489.12, \"Personal_Limpieza\": 69, \"Residuos_Solidos\": 130480.0, \"Personal_Vigilancia\": 156, \"rate_GastosByIngresos\": 0.807500696972478, \"rate_ResiduosByPersonal\": 1891.0144927536232}, {\"Distrito\": \"LAREDO\", \"Ingresos_Total\": 39473873.66, \"Gastos_Total\": 36934000.78, \"Personal_Limpieza\": 10, \"Residuos_Solidos\": 22500.0, \"Personal_Vigilancia\": 9, \"rate_GastosByIngresos\": 0.9356568625142629, \"rate_ResiduosByPersonal\": 2250.0}, {\"Distrito\": \"MOCHE\", \"Ingresos_Total\": 29061053.93, \"Gastos_Total\": 25134054.3, \"Personal_Limpieza\": 74, \"Residuos_Solidos\": 30000.0, \"Personal_Vigilancia\": 8, \"rate_GastosByIngresos\": 0.8648707084244416, \"rate_ResiduosByPersonal\": 405.4054054054054}, {\"Distrito\": \"SALAVERRY\", \"Ingresos_Total\": 19290397.82, \"Gastos_Total\": 14000111.85, \"Personal_Limpieza\": 24, \"Residuos_Solidos\": 40000.0, \"Personal_Vigilancia\": 0, \"rate_GastosByIngresos\": 0.7257554758919949, \"rate_ResiduosByPersonal\": 1666.6666666666667}, {\"Distrito\": \"VICTOR LARCO HERRERA\", \"Ingresos_Total\": 44470663.95, \"Gastos_Total\": 34218571.79, \"Personal_Limpieza\": 88, \"Residuos_Solidos\": 57000.0, \"Personal_Vigilancia\": 47, \"rate_GastosByIngresos\": 0.7694639285906141, \"rate_ResiduosByPersonal\": 647.7272727272727}, {\"Distrito\": \"ASCOPE\", \"Ingresos_Total\": 58253277.6, \"Gastos_Total\": 60447924.45, \"Personal_Limpieza\": 47, \"Residuos_Solidos\": 3346.0, \"Personal_Vigilancia\": 13, \"rate_GastosByIngresos\": 1.0376742209265835, \"rate_ResiduosByPersonal\": 71.19148936170212}, {\"Distrito\": \"CHICAMA\", \"Ingresos_Total\": 40323825.34, \"Gastos_Total\": 39242489.54, \"Personal_Limpieza\": 18, \"Residuos_Solidos\": 9000.0, \"Personal_Vigilancia\": 7, \"rate_GastosByIngresos\": 0.9731836999371348, \"rate_ResiduosByPersonal\": 500.0}, {\"Distrito\": \"CHOCOPE\", \"Ingresos_Total\": 13191698.52, \"Gastos_Total\": 11367333.38, \"Personal_Limpieza\": 15, \"Residuos_Solidos\": 6000.0, \"Personal_Vigilancia\": 0, \"rate_GastosByIngresos\": 0.8617035450564557, \"rate_ResiduosByPersonal\": 400.0}, {\"Distrito\": \"MAGDALENA DE CAO\", \"Ingresos_Total\": 5679237.47, \"Gastos_Total\": 5435590.31, \"Personal_Limpieza\": 5, \"Residuos_Solidos\": 2037.0, \"Personal_Vigilancia\": 0, \"rate_GastosByIngresos\": 0.9570986138038704, \"rate_ResiduosByPersonal\": 407.4}, {\"Distrito\": \"PAIJAN\", \"Ingresos_Total\": 27384520.36, \"Gastos_Total\": 20832283.47, \"Personal_Limpieza\": 21, \"Residuos_Solidos\": 22000.0, \"Personal_Vigilancia\": 26, \"rate_GastosByIngresos\": 0.76073209229654, \"rate_ResiduosByPersonal\": 1047.6190476190477}, {\"Distrito\": \"RAZURI\", \"Ingresos_Total\": 18412471.94, \"Gastos_Total\": 12340820.86, \"Personal_Limpieza\": 38, \"Residuos_Solidos\": 7000.0, \"Personal_Vigilancia\": 0, \"rate_GastosByIngresos\": 0.6702424802174606, \"rate_ResiduosByPersonal\": 184.21052631578948}, {\"Distrito\": \"SANTIAGO DE CAO\", \"Ingresos_Total\": 37786067.02, \"Gastos_Total\": 33803996.24, \"Personal_Limpieza\": 34, \"Residuos_Solidos\": 10000.0, \"Personal_Vigilancia\": 15, \"rate_GastosByIngresos\": 0.8946153676726316, \"rate_ResiduosByPersonal\": 294.11764705882354}, {\"Distrito\": \"CASA GRANDE\", \"Ingresos_Total\": 37488457.52, \"Gastos_Total\": 36751437.71, \"Personal_Limpieza\": 52, \"Residuos_Solidos\": 23400.0, \"Personal_Vigilancia\": 43, \"rate_GastosByIngresos\": 0.9803400870892913, \"rate_ResiduosByPersonal\": 450.0}, {\"Distrito\": \"LONGOTEA\", \"Ingresos_Total\": 1222129.12, \"Gastos_Total\": 1779783.49, \"Personal_Limpieza\": 4, \"Residuos_Solidos\": 1000.0, \"Personal_Vigilancia\": 2, \"rate_GastosByIngresos\": 1.4562974246125482, \"rate_ResiduosByPersonal\": 250.0}, {\"Distrito\": \"CHEPEN\", \"Ingresos_Total\": 46133168.96, \"Gastos_Total\": 41051640.44, \"Personal_Limpieza\": 89, \"Residuos_Solidos\": 55000.0, \"Personal_Vigilancia\": 0, \"rate_GastosByIngresos\": 0.88985086794263, \"rate_ResiduosByPersonal\": 617.9775280898876}, {\"Distrito\": \"PACANGA\", \"Ingresos_Total\": 36526143.64, \"Gastos_Total\": 34873236.58, \"Personal_Limpieza\": 18, \"Residuos_Solidos\": 10000.0, \"Personal_Vigilancia\": 2, \"rate_GastosByIngresos\": 0.9547472879619875, \"rate_ResiduosByPersonal\": 555.5555555555555}, {\"Distrito\": \"PUEBLO NUEVO\", \"Ingresos_Total\": 11766072.34, \"Gastos_Total\": 11640609.43, \"Personal_Limpieza\": 21, \"Residuos_Solidos\": 12000.0, \"Personal_Vigilancia\": 7, \"rate_GastosByIngresos\": 0.9893368911583625, \"rate_ResiduosByPersonal\": 571.4285714285714}, {\"Distrito\": \"JULCAN\", \"Ingresos_Total\": 39010562.35, \"Gastos_Total\": 32867464.86, \"Personal_Limpieza\": 5, \"Residuos_Solidos\": 4150.0, \"Personal_Vigilancia\": 0, \"rate_GastosByIngresos\": 0.8425273279865959, \"rate_ResiduosByPersonal\": 830.0}, {\"Distrito\": \"CALAMARCA\", \"Ingresos_Total\": 9744769.45, \"Gastos_Total\": 7283973.6, \"Personal_Limpieza\": 7, \"Residuos_Solidos\": 100.0, \"Personal_Vigilancia\": 0, \"rate_GastosByIngresos\": 0.7474752109194334, \"rate_ResiduosByPersonal\": 14.285714285714286}, {\"Distrito\": \"CARABAMBA\", \"Ingresos_Total\": 10555095.03, \"Gastos_Total\": 9792955.17, \"Personal_Limpieza\": 4, \"Residuos_Solidos\": 190.0, \"Personal_Vigilancia\": 0, \"rate_GastosByIngresos\": 0.9277941261699849, \"rate_ResiduosByPersonal\": 47.5}, {\"Distrito\": \"HUASO\", \"Ingresos_Total\": 9898447.56, \"Gastos_Total\": 10723838.85, \"Personal_Limpieza\": 3, \"Residuos_Solidos\": 20.0, \"Personal_Vigilancia\": 0, \"rate_GastosByIngresos\": 1.083385933500869, \"rate_ResiduosByPersonal\": 6.666666666666667}, {\"Distrito\": \"OTUZCO\", \"Ingresos_Total\": 61404374.41, \"Gastos_Total\": 50177051.8, \"Personal_Limpieza\": 59, \"Residuos_Solidos\": 12000.0, \"Personal_Vigilancia\": 5, \"rate_GastosByIngresos\": 0.8171576094068703, \"rate_ResiduosByPersonal\": 203.38983050847457}, {\"Distrito\": \"CHARAT\", \"Ingresos_Total\": 11848163.59, \"Gastos_Total\": 8634498.79, \"Personal_Limpieza\": 1, \"Residuos_Solidos\": 50.0, \"Personal_Vigilancia\": 0, \"rate_GastosByIngresos\": 0.7287626242169398, \"rate_ResiduosByPersonal\": 50.0}, {\"Distrito\": \"USQUIL\", \"Ingresos_Total\": 26567507.07, \"Gastos_Total\": 27795525.83, \"Personal_Limpieza\": 8, \"Residuos_Solidos\": 2700.0, \"Personal_Vigilancia\": 3, \"rate_GastosByIngresos\": 1.0462225814700798, \"rate_ResiduosByPersonal\": 337.5}, {\"Distrito\": \"SAN PEDRO DE LLOC\", \"Ingresos_Total\": 21847095.33, \"Gastos_Total\": 23940888.64, \"Personal_Limpieza\": 71, \"Residuos_Solidos\": 20000.0, \"Personal_Vigilancia\": 38, \"rate_GastosByIngresos\": 1.095838521248399, \"rate_ResiduosByPersonal\": 281.6901408450704}, {\"Distrito\": \"GUADALUPE\", \"Ingresos_Total\": 40681890.98, \"Gastos_Total\": 36830098.36, \"Personal_Limpieza\": 91, \"Residuos_Solidos\": 25000.0, \"Personal_Vigilancia\": 0, \"rate_GastosByIngresos\": 0.9053192335161211, \"rate_ResiduosByPersonal\": 274.72527472527474}, {\"Distrito\": \"JEQUETEPEQUE\", \"Ingresos_Total\": 2646077.48, \"Gastos_Total\": 2712102.74, \"Personal_Limpieza\": 10, \"Residuos_Solidos\": 9734.0, \"Personal_Vigilancia\": 0, \"rate_GastosByIngresos\": 1.024952126496311, \"rate_ResiduosByPersonal\": 973.4}, {\"Distrito\": \"PACASMAYO\", \"Ingresos_Total\": 24970923.43, \"Gastos_Total\": 21183314.26, \"Personal_Limpieza\": 36, \"Residuos_Solidos\": 28500.0, \"Personal_Vigilancia\": 37, \"rate_GastosByIngresos\": 0.848319218926058, \"rate_ResiduosByPersonal\": 791.6666666666666}, {\"Distrito\": \"SAN JOSE\", \"Ingresos_Total\": 16943031.31, \"Gastos_Total\": 26013466.41, \"Personal_Limpieza\": 23, \"Residuos_Solidos\": 17000.0, \"Personal_Vigilancia\": 1, \"rate_GastosByIngresos\": 1.5353490136470747, \"rate_ResiduosByPersonal\": 739.1304347826087}, {\"Distrito\": \"TAYABAMBA\", \"Ingresos_Total\": 63627767.3, \"Gastos_Total\": 52113904.53, \"Personal_Limpieza\": 8, \"Residuos_Solidos\": 3420.0, \"Personal_Vigilancia\": 0, \"rate_GastosByIngresos\": 0.8190434261866675, \"rate_ResiduosByPersonal\": 427.5}, {\"Distrito\": \"BULDIBUYO\", \"Ingresos_Total\": 7346777.68, \"Gastos_Total\": 4525078.24, \"Personal_Limpieza\": 5, \"Residuos_Solidos\": 1000.0, \"Personal_Vigilancia\": 0, \"rate_GastosByIngresos\": 0.6159269324725232, \"rate_ResiduosByPersonal\": 200.0}, {\"Distrito\": \"CHILLIA\", \"Ingresos_Total\": 37120050.48, \"Gastos_Total\": 30445112.46, \"Personal_Limpieza\": 1, \"Residuos_Solidos\": 2200.0, \"Personal_Vigilancia\": 0, \"rate_GastosByIngresos\": 0.8201797159840502, \"rate_ResiduosByPersonal\": 2200.0}, {\"Distrito\": \"HUAYO\", \"Ingresos_Total\": 8015935.3, \"Gastos_Total\": 4726617.21, \"Personal_Limpieza\": 4, \"Residuos_Solidos\": 150.0, \"Personal_Vigilancia\": 0, \"rate_GastosByIngresos\": 0.5896526148358507, \"rate_ResiduosByPersonal\": 37.5}, {\"Distrito\": \"PARCOY\", \"Ingresos_Total\": 56437256.92, \"Gastos_Total\": 39803790.07, \"Personal_Limpieza\": 30, \"Residuos_Solidos\": 14000.0, \"Personal_Vigilancia\": 0, \"rate_GastosByIngresos\": 0.7052750654841713, \"rate_ResiduosByPersonal\": 466.6666666666667}, {\"Distrito\": \"TAURIJA\", \"Ingresos_Total\": 4443492.36, \"Gastos_Total\": 4185647.62, \"Personal_Limpieza\": 2, \"Residuos_Solidos\": 120.0, \"Personal_Vigilancia\": 0, \"rate_GastosByIngresos\": 0.9419725029076003, \"rate_ResiduosByPersonal\": 60.0}, {\"Distrito\": \"URPAY\", \"Ingresos_Total\": 3614444.47, \"Gastos_Total\": 3272456.02, \"Personal_Limpieza\": 1, \"Residuos_Solidos\": 1000.0, \"Personal_Vigilancia\": 0, \"rate_GastosByIngresos\": 0.9053828457350735, \"rate_ResiduosByPersonal\": 1000.0}, {\"Distrito\": \"HUAMACHUCO\", \"Ingresos_Total\": 223822573.18, \"Gastos_Total\": 117657556.05, \"Personal_Limpieza\": 44, \"Residuos_Solidos\": 50000.0, \"Personal_Vigilancia\": 43, \"rate_GastosByIngresos\": 0.5256733240904116, \"rate_ResiduosByPersonal\": 1136.3636363636363}, {\"Distrito\": \"CHUGAY\", \"Ingresos_Total\": 35023456.07, \"Gastos_Total\": 26542562.85, \"Personal_Limpieza\": 9, \"Residuos_Solidos\": 1000.0, \"Personal_Vigilancia\": 0, \"rate_GastosByIngresos\": 0.7578510469369564, \"rate_ResiduosByPersonal\": 111.11111111111111}, {\"Distrito\": \"MARCABAL\", \"Ingresos_Total\": 40044440.87, \"Gastos_Total\": 31527783.82, \"Personal_Limpieza\": 1, \"Residuos_Solidos\": 2000.0, \"Personal_Vigilancia\": 0, \"rate_GastosByIngresos\": 0.7873198660046618, \"rate_ResiduosByPersonal\": 2000.0}, {\"Distrito\": \"SANAGORAN\", \"Ingresos_Total\": 30570277.51, \"Gastos_Total\": 24038070.5, \"Personal_Limpieza\": 1, \"Residuos_Solidos\": 3200.0, \"Personal_Vigilancia\": 0, \"rate_GastosByIngresos\": 0.7863216319229285, \"rate_ResiduosByPersonal\": 3200.0}, {\"Distrito\": \"SARIN\", \"Ingresos_Total\": 17558723.93, \"Gastos_Total\": 12443046.61, \"Personal_Limpieza\": 1, \"Residuos_Solidos\": 1000.0, \"Personal_Vigilancia\": 2, \"rate_GastosByIngresos\": 0.7086532403838529, \"rate_ResiduosByPersonal\": 1000.0}, {\"Distrito\": \"SANTIAGO DE CHUCO\", \"Ingresos_Total\": 61237838.01, \"Gastos_Total\": 52679737.02, \"Personal_Limpieza\": 8, \"Residuos_Solidos\": 8000.0, \"Personal_Vigilancia\": 1, \"rate_GastosByIngresos\": 0.8602481526437548, \"rate_ResiduosByPersonal\": 1000.0}, {\"Distrito\": \"ANGASMARCA\", \"Ingresos_Total\": 10335432.45, \"Gastos_Total\": 8240268.72, \"Personal_Limpieza\": 3, \"Residuos_Solidos\": 1248.0, \"Personal_Vigilancia\": 1, \"rate_GastosByIngresos\": 0.7972833995930185, \"rate_ResiduosByPersonal\": 416.0}, {\"Distrito\": \"CACHICADAN\", \"Ingresos_Total\": 18412339.26, \"Gastos_Total\": 17350385.37, \"Personal_Limpieza\": 11, \"Residuos_Solidos\": 836.0, \"Personal_Vigilancia\": 0, \"rate_GastosByIngresos\": 0.9423237930279154, \"rate_ResiduosByPersonal\": 76.0}, {\"Distrito\": \"SANTA CRUZ DE CHUCA\", \"Ingresos_Total\": 3220809.94, \"Gastos_Total\": 2148914.05, \"Personal_Limpieza\": 1, \"Residuos_Solidos\": 2000.0, \"Personal_Vigilancia\": 2, \"rate_GastosByIngresos\": 0.6671967890163677, \"rate_ResiduosByPersonal\": 2000.0}, {\"Distrito\": \"CASCAS\", \"Ingresos_Total\": 51811965.7, \"Gastos_Total\": 36859446.99, \"Personal_Limpieza\": 10, \"Residuos_Solidos\": 8000.0, \"Personal_Vigilancia\": 0, \"rate_GastosByIngresos\": 0.7114080018392354, \"rate_ResiduosByPersonal\": 800.0}, {\"Distrito\": \"LUCMA\", \"Ingresos_Total\": 9503416.69, \"Gastos_Total\": 5996719.26, \"Personal_Limpieza\": 3, \"Residuos_Solidos\": 800.0, \"Personal_Vigilancia\": 0, \"rate_GastosByIngresos\": 0.6310066637728373, \"rate_ResiduosByPersonal\": 266.6666666666667}, {\"Distrito\": \"MARMOT\", \"Ingresos_Total\": 2014074.43, \"Gastos_Total\": 1298772.84, \"Personal_Limpieza\": 5, \"Residuos_Solidos\": 1500.0, \"Personal_Vigilancia\": 0, \"rate_GastosByIngresos\": 0.6448484825856213, \"rate_ResiduosByPersonal\": 300.0}, {\"Distrito\": \"SAYAPULLO\", \"Ingresos_Total\": 15990241.06, \"Gastos_Total\": 10410964.04, \"Personal_Limpieza\": 2, \"Residuos_Solidos\": 2000.0, \"Personal_Vigilancia\": 3, \"rate_GastosByIngresos\": 0.6510823696112558, \"rate_ResiduosByPersonal\": 1000.0}, {\"Distrito\": \"VIRU\", \"Ingresos_Total\": 121521073.26, \"Gastos_Total\": 99774760.47, \"Personal_Limpieza\": 41, \"Residuos_Solidos\": 13000.0, \"Personal_Vigilancia\": 19, \"rate_GastosByIngresos\": 0.8210490394248514, \"rate_ResiduosByPersonal\": 317.0731707317073}, {\"Distrito\": \"CHAO\", \"Ingresos_Total\": 61439500.44, \"Gastos_Total\": 57362700.29, \"Personal_Limpieza\": 41, \"Residuos_Solidos\": 25000.0, \"Personal_Vigilancia\": 7, \"rate_GastosByIngresos\": 0.9336452913711224, \"rate_ResiduosByPersonal\": 609.7560975609756}, {\"Distrito\": \"CHICLAYO\", \"Ingresos_Total\": 198701817.09, \"Gastos_Total\": 142440805.15, \"Personal_Limpieza\": 894, \"Residuos_Solidos\": 266568.0, \"Personal_Vigilancia\": 4, \"rate_GastosByIngresos\": 0.7168570838256747, \"rate_ResiduosByPersonal\": 298.1744966442953}, {\"Distrito\": \"CHONGOYAPE\", \"Ingresos_Total\": 15055228.77, \"Gastos_Total\": 15166616.41, \"Personal_Limpieza\": 18, \"Residuos_Solidos\": 7307.0, \"Personal_Vigilancia\": 14, \"rate_GastosByIngresos\": 1.0073986016221792, \"rate_ResiduosByPersonal\": 405.94444444444446}, {\"Distrito\": \"ETEN\", \"Ingresos_Total\": 9097475.84, \"Gastos_Total\": 8413984.46, \"Personal_Limpieza\": 12, \"Residuos_Solidos\": 8431.0, \"Personal_Vigilancia\": 7, \"rate_GastosByIngresos\": 0.9248702176273107, \"rate_ResiduosByPersonal\": 702.5833333333334}, {\"Distrito\": \"ETEN PUERTO\", \"Ingresos_Total\": 2012881.38, \"Gastos_Total\": 2322433.87, \"Personal_Limpieza\": 10, \"Residuos_Solidos\": 1500.0, \"Personal_Vigilancia\": 0, \"rate_GastosByIngresos\": 1.1537857586024272, \"rate_ResiduosByPersonal\": 150.0}, {\"Distrito\": \"JOSE LEONARDO ORTIZ\", \"Ingresos_Total\": 56816042.79, \"Gastos_Total\": 41764685.42, \"Personal_Limpieza\": 168, \"Residuos_Solidos\": 182000.0, \"Personal_Vigilancia\": 0, \"rate_GastosByIngresos\": 0.7350861371033546, \"rate_ResiduosByPersonal\": 1083.3333333333333}, {\"Distrito\": \"LA VICTORIA\", \"Ingresos_Total\": 28058517.74, \"Gastos_Total\": 21271530.16, \"Personal_Limpieza\": 106, \"Residuos_Solidos\": 96000.0, \"Personal_Vigilancia\": 22, \"rate_GastosByIngresos\": 0.7581131105038909, \"rate_ResiduosByPersonal\": 905.6603773584906}, {\"Distrito\": \"LAGUNAS\", \"Ingresos_Total\": 10321860.54, \"Gastos_Total\": 9805949.14, \"Personal_Limpieza\": 14, \"Residuos_Solidos\": 1500.0, \"Personal_Vigilancia\": 0, \"rate_GastosByIngresos\": 0.9500175963431493, \"rate_ResiduosByPersonal\": 107.14285714285714}, {\"Distrito\": \"MONSEFU\", \"Ingresos_Total\": 15014914.72, \"Gastos_Total\": 14415062.15, \"Personal_Limpieza\": 23, \"Residuos_Solidos\": 25000.0, \"Personal_Vigilancia\": 3, \"rate_GastosByIngresos\": 0.9600495519830697, \"rate_ResiduosByPersonal\": 1086.9565217391305}, {\"Distrito\": \"NUEVA ARICA\", \"Ingresos_Total\": 7095009.7, \"Gastos_Total\": 5917796.09, \"Personal_Limpieza\": 5, \"Residuos_Solidos\": 5000.0, \"Personal_Vigilancia\": 0, \"rate_GastosByIngresos\": 0.8340786468551269, \"rate_ResiduosByPersonal\": 1000.0}, {\"Distrito\": \"OYOTUN\", \"Ingresos_Total\": 9168089.91, \"Gastos_Total\": 8711320.5, \"Personal_Limpieza\": 10, \"Residuos_Solidos\": 7200.0, \"Personal_Vigilancia\": 1, \"rate_GastosByIngresos\": 0.9501783452732304, \"rate_ResiduosByPersonal\": 720.0}, {\"Distrito\": \"PICSI\", \"Ingresos_Total\": 2943969.81, \"Gastos_Total\": 3090746.84, \"Personal_Limpieza\": 4, \"Residuos_Solidos\": 7200.0, \"Personal_Vigilancia\": 0, \"rate_GastosByIngresos\": 1.0498568393946948, \"rate_ResiduosByPersonal\": 1800.0}, {\"Distrito\": \"PIMENTEL\", \"Ingresos_Total\": 32046225.47, \"Gastos_Total\": 26102890.57, \"Personal_Limpieza\": 64, \"Residuos_Solidos\": 51490.0, \"Personal_Vigilancia\": 29, \"rate_GastosByIngresos\": 0.8145386917543896, \"rate_ResiduosByPersonal\": 804.53125}, {\"Distrito\": \"REQUE\", \"Ingresos_Total\": 7411333.99, \"Gastos_Total\": 6285631.07, \"Personal_Limpieza\": 35, \"Residuos_Solidos\": 12880.0, \"Personal_Vigilancia\": 0, \"rate_GastosByIngresos\": 0.8481106206360564, \"rate_ResiduosByPersonal\": 368.0}, {\"Distrito\": \"SANTA ROSA\", \"Ingresos_Total\": 8755529.19, \"Gastos_Total\": 9143615.87, \"Personal_Limpieza\": 20, \"Residuos_Solidos\": 6964.0, \"Personal_Vigilancia\": 0, \"rate_GastosByIngresos\": 1.0443247542870677, \"rate_ResiduosByPersonal\": 348.2}, {\"Distrito\": \"SA\\u00d1A\", \"Ingresos_Total\": 8794201.84, \"Gastos_Total\": 8518086.37, \"Personal_Limpieza\": 6, \"Residuos_Solidos\": 20160.0, \"Personal_Vigilancia\": 1, \"rate_GastosByIngresos\": 0.968602554839701, \"rate_ResiduosByPersonal\": 3360.0}, {\"Distrito\": \"CAYALTI\", \"Ingresos_Total\": 16944669.12, \"Gastos_Total\": 15719206.59, \"Personal_Limpieza\": 12, \"Residuos_Solidos\": 17000.0, \"Personal_Vigilancia\": 0, \"rate_GastosByIngresos\": 0.9276785801291586, \"rate_ResiduosByPersonal\": 1416.6666666666667}, {\"Distrito\": \"PATAPO\", \"Ingresos_Total\": 12852617.07, \"Gastos_Total\": 11788416.12, \"Personal_Limpieza\": 32, \"Residuos_Solidos\": 12500.0, \"Personal_Vigilancia\": 6, \"rate_GastosByIngresos\": 0.9171996688142207, \"rate_ResiduosByPersonal\": 390.625}, {\"Distrito\": \"POMALCA\", \"Ingresos_Total\": 12294959.49, \"Gastos_Total\": 15069828.95, \"Personal_Limpieza\": 37, \"Residuos_Solidos\": 12500.0, \"Personal_Vigilancia\": 10, \"rate_GastosByIngresos\": 1.2256916309693346, \"rate_ResiduosByPersonal\": 337.8378378378378}, {\"Distrito\": \"PUCALA\", \"Ingresos_Total\": 3353354.13, \"Gastos_Total\": 2786334.91, \"Personal_Limpieza\": 13, \"Residuos_Solidos\": 6000.0, \"Personal_Vigilancia\": 6, \"rate_GastosByIngresos\": 0.8309098299737285, \"rate_ResiduosByPersonal\": 461.53846153846155}, {\"Distrito\": \"TUMAN\", \"Ingresos_Total\": 14363338.01, \"Gastos_Total\": 12260463.67, \"Personal_Limpieza\": 5, \"Residuos_Solidos\": 16500.0, \"Personal_Vigilancia\": 17, \"rate_GastosByIngresos\": 0.8535943150167501, \"rate_ResiduosByPersonal\": 3300.0}, {\"Distrito\": \"FERRE\\u00d1AFE\", \"Ingresos_Total\": 40328938.95, \"Gastos_Total\": 40348235.92, \"Personal_Limpieza\": 38, \"Residuos_Solidos\": 29500.0, \"Personal_Vigilancia\": 0, \"rate_GastosByIngresos\": 1.0004784894049388, \"rate_ResiduosByPersonal\": 776.3157894736842}, {\"Distrito\": \"MANUEL ANTONIO MESONES MURO\", \"Ingresos_Total\": 5914302.99, \"Gastos_Total\": 5321630.79, \"Personal_Limpieza\": 17, \"Residuos_Solidos\": 4720.0, \"Personal_Vigilancia\": 0, \"rate_GastosByIngresos\": 0.8997900173524928, \"rate_ResiduosByPersonal\": 277.6470588235294}, {\"Distrito\": \"PITIPO\", \"Ingresos_Total\": 17299146.51, \"Gastos_Total\": 17489639.62, \"Personal_Limpieza\": 56, \"Residuos_Solidos\": 32300.0, \"Personal_Vigilancia\": 5, \"rate_GastosByIngresos\": 1.011011705686745, \"rate_ResiduosByPersonal\": 576.7857142857143}, {\"Distrito\": \"PUEBLO NUEVO\", \"Ingresos_Total\": 6553526.5, \"Gastos_Total\": 6674620.15, \"Personal_Limpieza\": 13, \"Residuos_Solidos\": 12000.0, \"Personal_Vigilancia\": 0, \"rate_GastosByIngresos\": 1.018477631852103, \"rate_ResiduosByPersonal\": 923.0769230769231}, {\"Distrito\": \"LAMBAYEQUE\", \"Ingresos_Total\": 110339979.77, \"Gastos_Total\": 86380724.57, \"Personal_Limpieza\": 84, \"Residuos_Solidos\": 50000.0, \"Personal_Vigilancia\": 61, \"rate_GastosByIngresos\": 0.7828597100530355, \"rate_ResiduosByPersonal\": 595.2380952380952}, {\"Distrito\": \"CHOCHOPE\", \"Ingresos_Total\": 2440083.82, \"Gastos_Total\": 1660239.58, \"Personal_Limpieza\": 1, \"Residuos_Solidos\": 250.0, \"Personal_Vigilancia\": 0, \"rate_GastosByIngresos\": 0.6804026838717369, \"rate_ResiduosByPersonal\": 250.0}, {\"Distrito\": \"ILLIMO\", \"Ingresos_Total\": 7751675.77, \"Gastos_Total\": 7008586.2, \"Personal_Limpieza\": 11, \"Residuos_Solidos\": 3319.0, \"Personal_Vigilancia\": 0, \"rate_GastosByIngresos\": 0.9041382028804851, \"rate_ResiduosByPersonal\": 301.72727272727275}, {\"Distrito\": \"JAYANCA\", \"Ingresos_Total\": 23820322.93, \"Gastos_Total\": 20282901.73, \"Personal_Limpieza\": 18, \"Residuos_Solidos\": 10000.0, \"Personal_Vigilancia\": 0, \"rate_GastosByIngresos\": 0.8514956656802973, \"rate_ResiduosByPersonal\": 555.5555555555555}, {\"Distrito\": \"MOCHUMI\", \"Ingresos_Total\": 21202037.61, \"Gastos_Total\": 16723088.25, \"Personal_Limpieza\": 18, \"Residuos_Solidos\": 9000.0, \"Personal_Vigilancia\": 4, \"rate_GastosByIngresos\": 0.788749107874071, \"rate_ResiduosByPersonal\": 500.0}, {\"Distrito\": \"MORROPE\", \"Ingresos_Total\": 50571862.2, \"Gastos_Total\": 46065345.83, \"Personal_Limpieza\": 74, \"Residuos_Solidos\": 5339.0, \"Personal_Vigilancia\": 6, \"rate_GastosByIngresos\": 0.9108888584688106, \"rate_ResiduosByPersonal\": 72.14864864864865}, {\"Distrito\": \"MOTUPE\", \"Ingresos_Total\": 30371725.53, \"Gastos_Total\": 21997673.84, \"Personal_Limpieza\": 77, \"Residuos_Solidos\": 18000.0, \"Personal_Vigilancia\": 9, \"rate_GastosByIngresos\": 0.7242813325924323, \"rate_ResiduosByPersonal\": 233.76623376623377}, {\"Distrito\": \"OLMOS\", \"Ingresos_Total\": 59860825.2, \"Gastos_Total\": 43017036.91, \"Personal_Limpieza\": 8, \"Residuos_Solidos\": 17000.0, \"Personal_Vigilancia\": 5, \"rate_GastosByIngresos\": 0.7186175059611439, \"rate_ResiduosByPersonal\": 2125.0}, {\"Distrito\": \"PACORA\", \"Ingresos_Total\": 11314023.25, \"Gastos_Total\": 8035525.73, \"Personal_Limpieza\": 9, \"Residuos_Solidos\": 13000.0, \"Personal_Vigilancia\": 0, \"rate_GastosByIngresos\": 0.7102270830139933, \"rate_ResiduosByPersonal\": 1444.4444444444443}, {\"Distrito\": \"SALAS\", \"Ingresos_Total\": 8386121.57, \"Gastos_Total\": 7495913.83, \"Personal_Limpieza\": 4, \"Residuos_Solidos\": 500.0, \"Personal_Vigilancia\": 0, \"rate_GastosByIngresos\": 0.8938475035725006, \"rate_ResiduosByPersonal\": 125.0}, {\"Distrito\": \"SAN JOSE\", \"Ingresos_Total\": 8497249.29, \"Gastos_Total\": 6767780.69, \"Personal_Limpieza\": 13, \"Residuos_Solidos\": 5460.0, \"Personal_Vigilancia\": 1, \"rate_GastosByIngresos\": 0.796467240047279, \"rate_ResiduosByPersonal\": 420.0}, {\"Distrito\": \"TUCUME\", \"Ingresos_Total\": 26210015.55, \"Gastos_Total\": 22559477.36, \"Personal_Limpieza\": 10, \"Residuos_Solidos\": 4000.0, \"Personal_Vigilancia\": 6, \"rate_GastosByIngresos\": 0.8607197243726931, \"rate_ResiduosByPersonal\": 400.0}, {\"Distrito\": \"ANCON\", \"Ingresos_Total\": 28611773.9, \"Gastos_Total\": 27836389.97, \"Personal_Limpieza\": 28, \"Residuos_Solidos\": 43801.0, \"Personal_Vigilancia\": 3, \"rate_GastosByIngresos\": 0.9728998302338745, \"rate_ResiduosByPersonal\": 1564.3214285714287}, {\"Distrito\": \"ATE\", \"Ingresos_Total\": 266539206.39, \"Gastos_Total\": 251835532.57, \"Personal_Limpieza\": 1001, \"Residuos_Solidos\": 706385.0, \"Personal_Vigilancia\": 626, \"rate_GastosByIngresos\": 0.9448348555578514, \"rate_ResiduosByPersonal\": 705.6793206793207}, {\"Distrito\": \"BARRANCO\", \"Ingresos_Total\": 39722637.07, \"Gastos_Total\": 35030240.41, \"Personal_Limpieza\": 53, \"Residuos_Solidos\": 45920.0, \"Personal_Vigilancia\": 1, \"rate_GastosByIngresos\": 0.881870968140132, \"rate_ResiduosByPersonal\": 866.4150943396227}, {\"Distrito\": \"BRE\\u00d1A\", \"Ingresos_Total\": 41395881.82, \"Gastos_Total\": 30094419.66, \"Personal_Limpieza\": 79, \"Residuos_Solidos\": 99510.0, \"Personal_Vigilancia\": 0, \"rate_GastosByIngresos\": 0.7269906651791673, \"rate_ResiduosByPersonal\": 1259.620253164557}, {\"Distrito\": \"CARABAYLLO\", \"Ingresos_Total\": 106580406.13, \"Gastos_Total\": 113237473.99, \"Personal_Limpieza\": 217, \"Residuos_Solidos\": 464142.0, \"Personal_Vigilancia\": 21, \"rate_GastosByIngresos\": 1.0624605225455805, \"rate_ResiduosByPersonal\": 2138.9032258064517}, {\"Distrito\": \"CHACLACAYO\", \"Ingresos_Total\": 21673340.07, \"Gastos_Total\": 20105412.65, \"Personal_Limpieza\": 54, \"Residuos_Solidos\": 37000.0, \"Personal_Vigilancia\": 8, \"rate_GastosByIngresos\": 0.9276564011390976, \"rate_ResiduosByPersonal\": 685.1851851851852}, {\"Distrito\": \"CHORRILLOS\", \"Ingresos_Total\": 171517231.38, \"Gastos_Total\": 117480820.63, \"Personal_Limpieza\": 317, \"Residuos_Solidos\": 378000.0, \"Personal_Vigilancia\": 52, \"rate_GastosByIngresos\": 0.6849505421978203, \"rate_ResiduosByPersonal\": 1192.429022082019}, {\"Distrito\": \"CIENEGUILLA\", \"Ingresos_Total\": 44456360.59, \"Gastos_Total\": 30971909.75, \"Personal_Limpieza\": 29, \"Residuos_Solidos\": 22400.0, \"Personal_Vigilancia\": 0, \"rate_GastosByIngresos\": 0.6966811799022254, \"rate_ResiduosByPersonal\": 772.4137931034483}, {\"Distrito\": \"COMAS\", \"Ingresos_Total\": 115994957.84, \"Gastos_Total\": 124059220.97, \"Personal_Limpieza\": 151, \"Residuos_Solidos\": 710040.0, \"Personal_Vigilancia\": 17, \"rate_GastosByIngresos\": 1.0695225316700714, \"rate_ResiduosByPersonal\": 4702.251655629139}, {\"Distrito\": \"EL AGUSTINO\", \"Ingresos_Total\": 53502655.24, \"Gastos_Total\": 55735911.08, \"Personal_Limpieza\": 46, \"Residuos_Solidos\": 260000.0, \"Personal_Vigilancia\": 9, \"rate_GastosByIngresos\": 1.0417410281785484, \"rate_ResiduosByPersonal\": 5652.173913043478}, {\"Distrito\": \"INDEPENDENCIA\", \"Ingresos_Total\": 62581761.12, \"Gastos_Total\": 56443467.79, \"Personal_Limpieza\": 100, \"Residuos_Solidos\": 251440.0, \"Personal_Vigilancia\": 1, \"rate_GastosByIngresos\": 0.9019156185421201, \"rate_ResiduosByPersonal\": 2514.4}, {\"Distrito\": \"JESUS MARIA\", \"Ingresos_Total\": 82514774.92, \"Gastos_Total\": 81069335.85, \"Personal_Limpieza\": 10, \"Residuos_Solidos\": 86000.0, \"Personal_Vigilancia\": 0, \"rate_GastosByIngresos\": 0.982482663602956, \"rate_ResiduosByPersonal\": 8600.0}, {\"Distrito\": \"LA MOLINA\", \"Ingresos_Total\": 149898797.58, \"Gastos_Total\": 145155226.27, \"Personal_Limpieza\": 7, \"Residuos_Solidos\": 158000.0, \"Personal_Vigilancia\": 0, \"rate_GastosByIngresos\": 0.968354840822066, \"rate_ResiduosByPersonal\": 22571.428571428572}, {\"Distrito\": \"LA VICTORIA\", \"Ingresos_Total\": 121617542.89, \"Gastos_Total\": 117548514.34, \"Personal_Limpieza\": 90, \"Residuos_Solidos\": 393944.0, \"Personal_Vigilancia\": 16, \"rate_GastosByIngresos\": 0.9665424209920083, \"rate_ResiduosByPersonal\": 4377.155555555555}, {\"Distrito\": \"LINCE\", \"Ingresos_Total\": 63524370.48, \"Gastos_Total\": 51427318.24, \"Personal_Limpieza\": 1, \"Residuos_Solidos\": 66789.0, \"Personal_Vigilancia\": 0, \"rate_GastosByIngresos\": 0.8095683255325037, \"rate_ResiduosByPersonal\": 66789.0}, {\"Distrito\": \"LOS OLIVOS\", \"Ingresos_Total\": 79817038.31, \"Gastos_Total\": 80457250.61, \"Personal_Limpieza\": 199, \"Residuos_Solidos\": 383450.0, \"Personal_Vigilancia\": 41, \"rate_GastosByIngresos\": 1.0080209979417363, \"rate_ResiduosByPersonal\": 1926.8844221105528}, {\"Distrito\": \"LURIGANCHO\", \"Ingresos_Total\": 143887819.53, \"Gastos_Total\": 113573951.36, \"Personal_Limpieza\": 212, \"Residuos_Solidos\": 160964.0, \"Personal_Vigilancia\": 3, \"rate_GastosByIngresos\": 0.7893229025985783, \"rate_ResiduosByPersonal\": 759.2641509433962}, {\"Distrito\": \"LURIN\", \"Ingresos_Total\": 84988848.37, \"Gastos_Total\": 80227824.5, \"Personal_Limpieza\": 115, \"Residuos_Solidos\": 160351.0, \"Personal_Vigilancia\": 7, \"rate_GastosByIngresos\": 0.9439806049698094, \"rate_ResiduosByPersonal\": 1394.3565217391304}, {\"Distrito\": \"MAGDALENA DEL MAR\", \"Ingresos_Total\": 68986412.73, \"Gastos_Total\": 57221489.18, \"Personal_Limpieza\": 94, \"Residuos_Solidos\": 68861.0, \"Personal_Vigilancia\": 0, \"rate_GastosByIngresos\": 0.8294602794314624, \"rate_ResiduosByPersonal\": 732.563829787234}, {\"Distrito\": \"PUEBLO LIBRE\", \"Ingresos_Total\": 52471242.44, \"Gastos_Total\": 49929286.33, \"Personal_Limpieza\": 124, \"Residuos_Solidos\": 86160.0, \"Personal_Vigilancia\": 0, \"rate_GastosByIngresos\": 0.9515552521382225, \"rate_ResiduosByPersonal\": 694.8387096774194}, {\"Distrito\": \"MIRAFLORES\", \"Ingresos_Total\": 243566204.11, \"Gastos_Total\": 215408917.29, \"Personal_Limpieza\": 72, \"Residuos_Solidos\": 179795.0, \"Personal_Vigilancia\": 0, \"rate_GastosByIngresos\": 0.8843957562877502, \"rate_ResiduosByPersonal\": 2497.152777777778}, {\"Distrito\": \"PACHACAMAC\", \"Ingresos_Total\": 72910388.16, \"Gastos_Total\": 73839242.01, \"Personal_Limpieza\": 84, \"Residuos_Solidos\": 134400.0, \"Personal_Vigilancia\": 39, \"rate_GastosByIngresos\": 1.012739664037471, \"rate_ResiduosByPersonal\": 1600.0}, {\"Distrito\": \"PUCUSANA\", \"Ingresos_Total\": 21855099.25, \"Gastos_Total\": 19641311.96, \"Personal_Limpieza\": 29, \"Residuos_Solidos\": 14654.0, \"Personal_Vigilancia\": 0, \"rate_GastosByIngresos\": 0.8987061433729248, \"rate_ResiduosByPersonal\": 505.3103448275862}, {\"Distrito\": \"PUENTE PIEDRA\", \"Ingresos_Total\": 144229985.24, \"Gastos_Total\": 119034112.35, \"Personal_Limpieza\": 360, \"Residuos_Solidos\": 371470.0, \"Personal_Vigilancia\": 4, \"rate_GastosByIngresos\": 0.8253076650595654, \"rate_ResiduosByPersonal\": 1031.861111111111}, {\"Distrito\": \"PUNTA HERMOSA\", \"Ingresos_Total\": 22245622.77, \"Gastos_Total\": 20391533.89, \"Personal_Limpieza\": 9, \"Residuos_Solidos\": 12475.0, \"Personal_Vigilancia\": 0, \"rate_GastosByIngresos\": 0.9166537660388459, \"rate_ResiduosByPersonal\": 1386.111111111111}, {\"Distrito\": \"PUNTA NEGRA\", \"Ingresos_Total\": 13923232.71, \"Gastos_Total\": 9967527.82, \"Personal_Limpieza\": 29, \"Residuos_Solidos\": 6000.0, \"Personal_Vigilancia\": 0, \"rate_GastosByIngresos\": 0.7158917779806324, \"rate_ResiduosByPersonal\": 206.89655172413794}, {\"Distrito\": \"RIMAC\", \"Ingresos_Total\": 41414840.75, \"Gastos_Total\": 39338440.2, \"Personal_Limpieza\": 63, \"Residuos_Solidos\": 229880.0, \"Personal_Vigilancia\": 0, \"rate_GastosByIngresos\": 0.9498633699321903, \"rate_ResiduosByPersonal\": 3648.8888888888887}, {\"Distrito\": \"SAN BARTOLO\", \"Ingresos_Total\": 12432416.5, \"Gastos_Total\": 10680541.59, \"Personal_Limpieza\": 20, \"Residuos_Solidos\": 8513.0, \"Personal_Vigilancia\": 0, \"rate_GastosByIngresos\": 0.8590881418749122, \"rate_ResiduosByPersonal\": 425.65}, {\"Distrito\": \"SAN BORJA\", \"Ingresos_Total\": 147380755.95, \"Gastos_Total\": 122294790.12, \"Personal_Limpieza\": 53, \"Residuos_Solidos\": 111746.0, \"Personal_Vigilancia\": 0, \"rate_GastosByIngresos\": 0.8297880502220345, \"rate_ResiduosByPersonal\": 2108.4150943396226}, {\"Distrito\": \"SAN ISIDRO\", \"Ingresos_Total\": 302181639.32, \"Gastos_Total\": 251215297.41, \"Personal_Limpieza\": 49, \"Residuos_Solidos\": 115354.0, \"Personal_Vigilancia\": 4, \"rate_GastosByIngresos\": 0.831338720563269, \"rate_ResiduosByPersonal\": 2354.1632653061224}, {\"Distrito\": \"SAN JUAN DE LURIGANCHO\", \"Ingresos_Total\": 231071549.08, \"Gastos_Total\": 187834260.39, \"Personal_Limpieza\": 280, \"Residuos_Solidos\": 1113310.0, \"Personal_Vigilancia\": 0, \"rate_GastosByIngresos\": 0.8128835468401577, \"rate_ResiduosByPersonal\": 3976.1071428571427}, {\"Distrito\": \"SAN JUAN DE MIRAFLORES\", \"Ingresos_Total\": 86073711.93, \"Gastos_Total\": 78321695.88, \"Personal_Limpieza\": 52, \"Residuos_Solidos\": 520260.0, \"Personal_Vigilancia\": 9, \"rate_GastosByIngresos\": 0.9099374724735424, \"rate_ResiduosByPersonal\": 10005.0}, {\"Distrito\": \"SAN LUIS\", \"Ingresos_Total\": 31383673.16, \"Gastos_Total\": 28717617.24, \"Personal_Limpieza\": 35, \"Residuos_Solidos\": 80980.0, \"Personal_Vigilancia\": 14, \"rate_GastosByIngresos\": 0.9150495894343553, \"rate_ResiduosByPersonal\": 2313.714285714286}, {\"Distrito\": \"SAN MARTIN DE PORRES\", \"Ingresos_Total\": 140382865.34, \"Gastos_Total\": 145227540.57, \"Personal_Limpieza\": 200, \"Residuos_Solidos\": 819848.0, \"Personal_Vigilancia\": 23, \"rate_GastosByIngresos\": 1.0345104455466587, \"rate_ResiduosByPersonal\": 4099.24}, {\"Distrito\": \"SAN MIGUEL\", \"Ingresos_Total\": 90903769.17, \"Gastos_Total\": 84022682.45, \"Personal_Limpieza\": 301, \"Residuos_Solidos\": 153303.0, \"Personal_Vigilancia\": 35, \"rate_GastosByIngresos\": 0.9243036148794709, \"rate_ResiduosByPersonal\": 509.312292358804}, {\"Distrito\": \"SANTA ANITA\", \"Ingresos_Total\": 74819295.14, \"Gastos_Total\": 63854562.21, \"Personal_Limpieza\": 128, \"Residuos_Solidos\": 263000.0, \"Personal_Vigilancia\": 0, \"rate_GastosByIngresos\": 0.8534504647566772, \"rate_ResiduosByPersonal\": 2054.6875}, {\"Distrito\": \"SANTA MARIA DEL MAR\", \"Ingresos_Total\": 9503748.98, \"Gastos_Total\": 9071760.63, \"Personal_Limpieza\": 22, \"Residuos_Solidos\": 2680.0, \"Personal_Vigilancia\": 1, \"rate_GastosByIngresos\": 0.9545454797986468, \"rate_ResiduosByPersonal\": 121.81818181818181}, {\"Distrito\": \"SANTA ROSA\", \"Ingresos_Total\": 13072294.56, \"Gastos_Total\": 12806258.48, \"Personal_Limpieza\": 12, \"Residuos_Solidos\": 19000.0, \"Personal_Vigilancia\": 0, \"rate_GastosByIngresos\": 0.9796488612784136, \"rate_ResiduosByPersonal\": 1583.3333333333333}, {\"Distrito\": \"SANTIAGO DE SURCO\", \"Ingresos_Total\": 350765931.95, \"Gastos_Total\": 254530818.44, \"Personal_Limpieza\": 367, \"Residuos_Solidos\": 467181.0, \"Personal_Vigilancia\": 52, \"rate_GastosByIngresos\": 0.7256429295313723, \"rate_ResiduosByPersonal\": 1272.9727520435968}, {\"Distrito\": \"SURQUILLO\", \"Ingresos_Total\": 56913268.81, \"Gastos_Total\": 53760359.03, \"Personal_Limpieza\": 110, \"Residuos_Solidos\": 120005.0, \"Personal_Vigilancia\": 0, \"rate_GastosByIngresos\": 0.9446014989839062, \"rate_ResiduosByPersonal\": 1090.9545454545455}, {\"Distrito\": \"VILLA EL SALVADOR\", \"Ingresos_Total\": 156726971.22, \"Gastos_Total\": 135489802.4, \"Personal_Limpieza\": 157, \"Residuos_Solidos\": 368628.0, \"Personal_Vigilancia\": 17, \"rate_GastosByIngresos\": 0.8644957619311799, \"rate_ResiduosByPersonal\": 2347.9490445859874}, {\"Distrito\": \"VILLA MARIA DEL TRIUNFO\", \"Ingresos_Total\": 127354702.96, \"Gastos_Total\": 102296624.96, \"Personal_Limpieza\": 139, \"Residuos_Solidos\": 361260.0, \"Personal_Vigilancia\": 0, \"rate_GastosByIngresos\": 0.8032418323187458, \"rate_ResiduosByPersonal\": 2598.9928057553957}, {\"Distrito\": \"BARRANCA\", \"Ingresos_Total\": 48908590.8, \"Gastos_Total\": 43886995.92, \"Personal_Limpieza\": 152, \"Residuos_Solidos\": 91000.0, \"Personal_Vigilancia\": 6, \"rate_GastosByIngresos\": 0.8973269358642001, \"rate_ResiduosByPersonal\": 598.6842105263158}, {\"Distrito\": \"PARAMONGA\", \"Ingresos_Total\": 17350990.4, \"Gastos_Total\": 16434991.73, \"Personal_Limpieza\": 19, \"Residuos_Solidos\": 28000.0, \"Personal_Vigilancia\": 2, \"rate_GastosByIngresos\": 0.9472077011811384, \"rate_ResiduosByPersonal\": 1473.6842105263158}, {\"Distrito\": \"PATIVILCA\", \"Ingresos_Total\": 13295526.58, \"Gastos_Total\": 9540314.05, \"Personal_Limpieza\": 15, \"Residuos_Solidos\": 13000.0, \"Personal_Vigilancia\": 0, \"rate_GastosByIngresos\": 0.7175581946751296, \"rate_ResiduosByPersonal\": 866.6666666666666}, {\"Distrito\": \"SUPE\", \"Ingresos_Total\": 15720139.97, \"Gastos_Total\": 11674415.07, \"Personal_Limpieza\": 43, \"Residuos_Solidos\": 20000.0, \"Personal_Vigilancia\": 8, \"rate_GastosByIngresos\": 0.7426406566531354, \"rate_ResiduosByPersonal\": 465.1162790697674}, {\"Distrito\": \"SUPE PUERTO\", \"Ingresos_Total\": 6915782.95, \"Gastos_Total\": 6259907.66, \"Personal_Limpieza\": 13, \"Residuos_Solidos\": 10200.0, \"Personal_Vigilancia\": 1, \"rate_GastosByIngresos\": 0.9051625398393973, \"rate_ResiduosByPersonal\": 784.6153846153846}, {\"Distrito\": \"CAJATAMBO\", \"Ingresos_Total\": 15373810.22, \"Gastos_Total\": 13077014.64, \"Personal_Limpieza\": 1, \"Residuos_Solidos\": 2500.0, \"Personal_Vigilancia\": 0, \"rate_GastosByIngresos\": 0.8506033607067643, \"rate_ResiduosByPersonal\": 2500.0}, {\"Distrito\": \"HUANCAPON\", \"Ingresos_Total\": 5591777.37, \"Gastos_Total\": 5466290.8, \"Personal_Limpieza\": 1, \"Residuos_Solidos\": 100.0, \"Personal_Vigilancia\": 0, \"rate_GastosByIngresos\": 0.9775587328148581, \"rate_ResiduosByPersonal\": 100.0}, {\"Distrito\": \"MANAS\", \"Ingresos_Total\": 1797059.11, \"Gastos_Total\": 1179453.59, \"Personal_Limpieza\": 1, \"Residuos_Solidos\": 300.0, \"Personal_Vigilancia\": 0, \"rate_GastosByIngresos\": 0.6563243153420814, \"rate_ResiduosByPersonal\": 300.0}, {\"Distrito\": \"HUAMANTANGA\", \"Ingresos_Total\": 1491034.06, \"Gastos_Total\": 1248055.73, \"Personal_Limpieza\": 2, \"Residuos_Solidos\": 50.0, \"Personal_Vigilancia\": 0, \"rate_GastosByIngresos\": 0.8370403892718588, \"rate_ResiduosByPersonal\": 25.0}, {\"Distrito\": \"SANTA ROSA DE QUIVES\", \"Ingresos_Total\": 5982837.36, \"Gastos_Total\": 3820778.16, \"Personal_Limpieza\": 5, \"Residuos_Solidos\": 4500.0, \"Personal_Vigilancia\": 2, \"rate_GastosByIngresos\": 0.6386231030689425, \"rate_ResiduosByPersonal\": 900.0}, {\"Distrito\": \"SAN VICENTE DE CA\\u00d1ETE\", \"Ingresos_Total\": 80970348.03, \"Gastos_Total\": 59646186.03, \"Personal_Limpieza\": 164, \"Residuos_Solidos\": 45000.0, \"Personal_Vigilancia\": 0, \"rate_GastosByIngresos\": 0.7366423324239724, \"rate_ResiduosByPersonal\": 274.390243902439}, {\"Distrito\": \"ASIA\", \"Ingresos_Total\": 37060819.63, \"Gastos_Total\": 26325723.31, \"Personal_Limpieza\": 18, \"Residuos_Solidos\": 7000.0, \"Personal_Vigilancia\": 67, \"rate_GastosByIngresos\": 0.7103383997662546, \"rate_ResiduosByPersonal\": 388.8888888888889}, {\"Distrito\": \"CALANGO\", \"Ingresos_Total\": 4952159.7, \"Gastos_Total\": 4246881.08, \"Personal_Limpieza\": 5, \"Residuos_Solidos\": 2000.0, \"Personal_Vigilancia\": 0, \"rate_GastosByIngresos\": 0.8575816082829477, \"rate_ResiduosByPersonal\": 400.0}, {\"Distrito\": \"CERRO AZUL\", \"Ingresos_Total\": 15059263.02, \"Gastos_Total\": 13095892.02, \"Personal_Limpieza\": 35, \"Residuos_Solidos\": 3990.0, \"Personal_Vigilancia\": 11, \"rate_GastosByIngresos\": 0.8696236995533929, \"rate_ResiduosByPersonal\": 114.0}, {\"Distrito\": \"CHILCA\", \"Ingresos_Total\": 40438851.19, \"Gastos_Total\": 24020316.91, \"Personal_Limpieza\": 5, \"Residuos_Solidos\": 30000.0, \"Personal_Vigilancia\": 0, \"rate_GastosByIngresos\": 0.5939910804375153, \"rate_ResiduosByPersonal\": 6000.0}, {\"Distrito\": \"IMPERIAL\", \"Ingresos_Total\": 23364462.03, \"Gastos_Total\": 19095724.08, \"Personal_Limpieza\": 91, \"Residuos_Solidos\": 40000.0, \"Personal_Vigilancia\": 45, \"rate_GastosByIngresos\": 0.8172978284490806, \"rate_ResiduosByPersonal\": 439.56043956043953}, {\"Distrito\": \"LUNAHUANA\", \"Ingresos_Total\": 7824129.84, \"Gastos_Total\": 4931640.19, \"Personal_Limpieza\": 10, \"Residuos_Solidos\": 4050.0, \"Personal_Vigilancia\": 0, \"rate_GastosByIngresos\": 0.6303116500939867, \"rate_ResiduosByPersonal\": 405.0}, {\"Distrito\": \"MALA\", \"Ingresos_Total\": 48570050.01, \"Gastos_Total\": 27551012.53, \"Personal_Limpieza\": 69, \"Residuos_Solidos\": 41564.0, \"Personal_Vigilancia\": 26, \"rate_GastosByIngresos\": 0.5672428281281896, \"rate_ResiduosByPersonal\": 602.3768115942029}, {\"Distrito\": \"NUEVO IMPERIAL\", \"Ingresos_Total\": 18375992.89, \"Gastos_Total\": 15948684.91, \"Personal_Limpieza\": 27, \"Residuos_Solidos\": 9000.0, \"Personal_Vigilancia\": 0, \"rate_GastosByIngresos\": 0.8679087440591625, \"rate_ResiduosByPersonal\": 333.3333333333333}, {\"Distrito\": \"QUILMANA\", \"Ingresos_Total\": 14165849.97, \"Gastos_Total\": 11506576.73, \"Personal_Limpieza\": 29, \"Residuos_Solidos\": 20600.0, \"Personal_Vigilancia\": 3, \"rate_GastosByIngresos\": 0.8122757726764206, \"rate_ResiduosByPersonal\": 710.3448275862069}, {\"Distrito\": \"SAN ANTONIO\", \"Ingresos_Total\": 16915646.57, \"Gastos_Total\": 8486219.72, \"Personal_Limpieza\": 20, \"Residuos_Solidos\": 4900.0, \"Personal_Vigilancia\": 0, \"rate_GastosByIngresos\": 0.5016787082233298, \"rate_ResiduosByPersonal\": 245.0}, {\"Distrito\": \"SAN LUIS\", \"Ingresos_Total\": 13942162.46, \"Gastos_Total\": 9540698.52, \"Personal_Limpieza\": 5, \"Residuos_Solidos\": 6000.0, \"Personal_Vigilancia\": 0, \"rate_GastosByIngresos\": 0.6843055047860918, \"rate_ResiduosByPersonal\": 1200.0}, {\"Distrito\": \"SANTA CRUZ DE FLORES\", \"Ingresos_Total\": 13696402.6, \"Gastos_Total\": 12954430.17, \"Personal_Limpieza\": 6, \"Residuos_Solidos\": 2500.0, \"Personal_Vigilancia\": 0, \"rate_GastosByIngresos\": 0.9458272035607365, \"rate_ResiduosByPersonal\": 416.6666666666667}, {\"Distrito\": \"ZU\\u00d1IGA\", \"Ingresos_Total\": 6550928.56, \"Gastos_Total\": 3408216.52, \"Personal_Limpieza\": 1, \"Residuos_Solidos\": 2500.0, \"Personal_Vigilancia\": 0, \"rate_GastosByIngresos\": 0.5202646447422105, \"rate_ResiduosByPersonal\": 2500.0}, {\"Distrito\": \"HUARAL\", \"Ingresos_Total\": 141555011.98, \"Gastos_Total\": 51345403.73, \"Personal_Limpieza\": 192, \"Residuos_Solidos\": 92586.0, \"Personal_Vigilancia\": 0, \"rate_GastosByIngresos\": 0.36272402518149255, \"rate_ResiduosByPersonal\": 482.21875}, {\"Distrito\": \"AUCALLAMA\", \"Ingresos_Total\": 14086884.27, \"Gastos_Total\": 12952977.92, \"Personal_Limpieza\": 13, \"Residuos_Solidos\": 18000.0, \"Personal_Vigilancia\": 3, \"rate_GastosByIngresos\": 0.9195062351427978, \"rate_ResiduosByPersonal\": 1384.6153846153845}, {\"Distrito\": \"CHANCAY\", \"Ingresos_Total\": 51446495.56, \"Gastos_Total\": 39056049.38, \"Personal_Limpieza\": 95, \"Residuos_Solidos\": 45000.0, \"Personal_Vigilancia\": 25, \"rate_GastosByIngresos\": 0.7591585968076384, \"rate_ResiduosByPersonal\": 473.6842105263158}, {\"Distrito\": \"MATUCANA\", \"Ingresos_Total\": 62012114.54, \"Gastos_Total\": 62611185.92, \"Personal_Limpieza\": 18, \"Residuos_Solidos\": 4500.0, \"Personal_Vigilancia\": 0, \"rate_GastosByIngresos\": 1.0096605539811674, \"rate_ResiduosByPersonal\": 250.0}, {\"Distrito\": \"RICARDO PALMA\", \"Ingresos_Total\": 4470925.58, \"Gastos_Total\": 4239319.47, \"Personal_Limpieza\": 1, \"Residuos_Solidos\": 5700.0, \"Personal_Vigilancia\": 0, \"rate_GastosByIngresos\": 0.9481972790967368, \"rate_ResiduosByPersonal\": 5700.0}, {\"Distrito\": \"SAN ANTONIO\", \"Ingresos_Total\": 24777227.79, \"Gastos_Total\": 26318135.53, \"Personal_Limpieza\": 30, \"Residuos_Solidos\": 50000.0, \"Personal_Vigilancia\": 0, \"rate_GastosByIngresos\": 1.0621904820450456, \"rate_ResiduosByPersonal\": 1666.6666666666667}, {\"Distrito\": \"SAN PEDRO DE HUANCAYRE\", \"Ingresos_Total\": 1257068.78, \"Gastos_Total\": 1027041.3, \"Personal_Limpieza\": 2, \"Residuos_Solidos\": 200.0, \"Personal_Vigilancia\": 0, \"rate_GastosByIngresos\": 0.8170128129345476, \"rate_ResiduosByPersonal\": 100.0}, {\"Distrito\": \"SURCO\", \"Ingresos_Total\": 4423798.31, \"Gastos_Total\": 3411276.76, \"Personal_Limpieza\": 1, \"Residuos_Solidos\": 2500.0, \"Personal_Vigilancia\": 0, \"rate_GastosByIngresos\": 0.7711194138957027, \"rate_ResiduosByPersonal\": 2500.0}, {\"Distrito\": \"HUACHO\", \"Ingresos_Total\": 65196628.11, \"Gastos_Total\": 46069023.44, \"Personal_Limpieza\": 58, \"Residuos_Solidos\": 7200.0, \"Personal_Vigilancia\": 26, \"rate_GastosByIngresos\": 0.7066166575711886, \"rate_ResiduosByPersonal\": 124.13793103448276}, {\"Distrito\": \"AMBAR\", \"Ingresos_Total\": 4899441.97, \"Gastos_Total\": 4050583.0, \"Personal_Limpieza\": 2, \"Residuos_Solidos\": 60.0, \"Personal_Vigilancia\": 1, \"rate_GastosByIngresos\": 0.8267437444513707, \"rate_ResiduosByPersonal\": 30.0}, {\"Distrito\": \"CALETA DE CARQUIN\", \"Ingresos_Total\": 4249840.65, \"Gastos_Total\": 3618090.23, \"Personal_Limpieza\": 2, \"Residuos_Solidos\": 6000.0, \"Personal_Vigilancia\": 0, \"rate_GastosByIngresos\": 0.851347268749947, \"rate_ResiduosByPersonal\": 3000.0}, {\"Distrito\": \"HUALMAY\", \"Ingresos_Total\": 11802452.34, \"Gastos_Total\": 10017217.86, \"Personal_Limpieza\": 42, \"Residuos_Solidos\": 20000.0, \"Personal_Vigilancia\": 10, \"rate_GastosByIngresos\": 0.8487403779679232, \"rate_ResiduosByPersonal\": 476.1904761904762}, {\"Distrito\": \"HUAURA\", \"Ingresos_Total\": 18342055.47, \"Gastos_Total\": 19208983.78, \"Personal_Limpieza\": 10, \"Residuos_Solidos\": 4500.0, \"Personal_Vigilancia\": 11, \"rate_GastosByIngresos\": 1.0472645124979552, \"rate_ResiduosByPersonal\": 450.0}, {\"Distrito\": \"SANTA MARIA\", \"Ingresos_Total\": 18613994.98, \"Gastos_Total\": 14989320.71, \"Personal_Limpieza\": 22, \"Residuos_Solidos\": 28000.0, \"Personal_Vigilancia\": 0, \"rate_GastosByIngresos\": 0.8052715564877626, \"rate_ResiduosByPersonal\": 1272.7272727272727}, {\"Distrito\": \"SAYAN\", \"Ingresos_Total\": 16147195.61, \"Gastos_Total\": 12884296.37, \"Personal_Limpieza\": 17, \"Residuos_Solidos\": 17400.0, \"Personal_Vigilancia\": 2, \"rate_GastosByIngresos\": 0.7979278062390426, \"rate_ResiduosByPersonal\": 1023.5294117647059}, {\"Distrito\": \"VEGUETA\", \"Ingresos_Total\": 17957232.27, \"Gastos_Total\": 16239204.38, \"Personal_Limpieza\": 6, \"Residuos_Solidos\": 9000.0, \"Personal_Vigilancia\": 2, \"rate_GastosByIngresos\": 0.9043266877563199, \"rate_ResiduosByPersonal\": 1500.0}, {\"Distrito\": \"OYON\", \"Ingresos_Total\": 20915787.5, \"Gastos_Total\": 20849373.61, \"Personal_Limpieza\": 9, \"Residuos_Solidos\": 5000.0, \"Personal_Vigilancia\": 8, \"rate_GastosByIngresos\": 0.9968247004804385, \"rate_ResiduosByPersonal\": 555.5555555555555}, {\"Distrito\": \"ANDAJES\", \"Ingresos_Total\": 2285262.14, \"Gastos_Total\": 1390076.16, \"Personal_Limpieza\": 1, \"Residuos_Solidos\": 11.0, \"Personal_Vigilancia\": 0, \"rate_GastosByIngresos\": 0.6082786458799864, \"rate_ResiduosByPersonal\": 11.0}, {\"Distrito\": \"PACHANGARA\", \"Ingresos_Total\": 5360925.98, \"Gastos_Total\": 2834220.11, \"Personal_Limpieza\": 4, \"Residuos_Solidos\": 1670.0, \"Personal_Vigilancia\": 2, \"rate_GastosByIngresos\": 0.5286810749810054, \"rate_ResiduosByPersonal\": 417.5}, {\"Distrito\": \"YAUYOS\", \"Ingresos_Total\": 38710444.99, \"Gastos_Total\": 43904623.6, \"Personal_Limpieza\": 4, \"Residuos_Solidos\": 1540.0, \"Personal_Vigilancia\": 0, \"rate_GastosByIngresos\": 1.1341802867763933, \"rate_ResiduosByPersonal\": 385.0}, {\"Distrito\": \"CACRA\", \"Ingresos_Total\": 2362680.79, \"Gastos_Total\": 2230770.11, \"Personal_Limpieza\": 4, \"Residuos_Solidos\": 129.0, \"Personal_Vigilancia\": 0, \"rate_GastosByIngresos\": 0.9441690639893846, \"rate_ResiduosByPersonal\": 32.25}, {\"Distrito\": \"CARANIA\", \"Ingresos_Total\": 3356807.81, \"Gastos_Total\": 2748328.61, \"Personal_Limpieza\": 4, \"Residuos_Solidos\": 50.0, \"Personal_Vigilancia\": 0, \"rate_GastosByIngresos\": 0.8187327858963721, \"rate_ResiduosByPersonal\": 12.5}, {\"Distrito\": \"COCHAS\", \"Ingresos_Total\": 868305.53, \"Gastos_Total\": 852874.79, \"Personal_Limpieza\": 1, \"Residuos_Solidos\": 720.0, \"Personal_Vigilancia\": 0, \"rate_GastosByIngresos\": 0.9822289050721582, \"rate_ResiduosByPersonal\": 720.0}, {\"Distrito\": \"LINCHA\", \"Ingresos_Total\": 2932283.64, \"Gastos_Total\": 2149686.59, \"Personal_Limpieza\": 1, \"Residuos_Solidos\": 20.0, \"Personal_Vigilancia\": 0, \"rate_GastosByIngresos\": 0.7331100445658114, \"rate_ResiduosByPersonal\": 20.0}, {\"Distrito\": \"MIRAFLORES\", \"Ingresos_Total\": 3621481.55, \"Gastos_Total\": 2939004.81, \"Personal_Limpieza\": 2, \"Residuos_Solidos\": 83.0, \"Personal_Vigilancia\": 0, \"rate_GastosByIngresos\": 0.8115476413237561, \"rate_ResiduosByPersonal\": 41.5}, {\"Distrito\": \"PUTINZA\", \"Ingresos_Total\": 2434799.81, \"Gastos_Total\": 2362534.63, \"Personal_Limpieza\": 1, \"Residuos_Solidos\": 300.0, \"Personal_Vigilancia\": 0, \"rate_GastosByIngresos\": 0.970319867899119, \"rate_ResiduosByPersonal\": 300.0}, {\"Distrito\": \"IQUITOS\", \"Ingresos_Total\": 110028202.22, \"Gastos_Total\": 116465235.85, \"Personal_Limpieza\": 263, \"Residuos_Solidos\": 160000.0, \"Personal_Vigilancia\": 4, \"rate_GastosByIngresos\": 1.0585034881977735, \"rate_ResiduosByPersonal\": 608.3650190114068}, {\"Distrito\": \"FERNANDO LORES\", \"Ingresos_Total\": 12516817.19, \"Gastos_Total\": 11847872.41, \"Personal_Limpieza\": 6, \"Residuos_Solidos\": 3000.0, \"Personal_Vigilancia\": 5, \"rate_GastosByIngresos\": 0.9465563194024726, \"rate_ResiduosByPersonal\": 500.0}, {\"Distrito\": \"INDIANA\", \"Ingresos_Total\": 6687600.78, \"Gastos_Total\": 7010473.79, \"Personal_Limpieza\": 11, \"Residuos_Solidos\": 3000.0, \"Personal_Vigilancia\": 0, \"rate_GastosByIngresos\": 1.0482793486964095, \"rate_ResiduosByPersonal\": 272.72727272727275}, {\"Distrito\": \"MAZAN\", \"Ingresos_Total\": 8604908.69, \"Gastos_Total\": 8488868.38, \"Personal_Limpieza\": 5, \"Residuos_Solidos\": 3500.0, \"Personal_Vigilancia\": 0, \"rate_GastosByIngresos\": 0.9865146378444606, \"rate_ResiduosByPersonal\": 700.0}, {\"Distrito\": \"PUNCHANA\", \"Ingresos_Total\": 22198853.43, \"Gastos_Total\": 22540615.75, \"Personal_Limpieza\": 25, \"Residuos_Solidos\": 50000.0, \"Personal_Vigilancia\": 4, \"rate_GastosByIngresos\": 1.015395494234767, \"rate_ResiduosByPersonal\": 2000.0}, {\"Distrito\": \"BELEN\", \"Ingresos_Total\": 32849567.19, \"Gastos_Total\": 31626929.62, \"Personal_Limpieza\": 31, \"Residuos_Solidos\": 50000.0, \"Personal_Vigilancia\": 3, \"rate_GastosByIngresos\": 0.962780709927521, \"rate_ResiduosByPersonal\": 1612.9032258064517}, {\"Distrito\": \"SAN JUAN BAUTISTA\", \"Ingresos_Total\": 62334947.03, \"Gastos_Total\": 62204838.87, \"Personal_Limpieza\": 39, \"Residuos_Solidos\": 90000.0, \"Personal_Vigilancia\": 0, \"rate_GastosByIngresos\": 0.9979127573504252, \"rate_ResiduosByPersonal\": 2307.6923076923076}, {\"Distrito\": \"YURIMAGUAS\", \"Ingresos_Total\": 80913975.45, \"Gastos_Total\": 88934363.47, \"Personal_Limpieza\": 9, \"Residuos_Solidos\": 44930.0, \"Personal_Vigilancia\": 0, \"rate_GastosByIngresos\": 1.0991224071663135, \"rate_ResiduosByPersonal\": 4992.222222222223}, {\"Distrito\": \"NAUTA\", \"Ingresos_Total\": 64665902.34, \"Gastos_Total\": 63124207.53, \"Personal_Limpieza\": 9, \"Residuos_Solidos\": 15500.0, \"Personal_Vigilancia\": 2, \"rate_GastosByIngresos\": 0.9761590768208246, \"rate_ResiduosByPersonal\": 1722.2222222222222}, {\"Distrito\": \"TIGRE\", \"Ingresos_Total\": 17628164.13, \"Gastos_Total\": 17509376.14, \"Personal_Limpieza\": 1, \"Residuos_Solidos\": 1250.0, \"Personal_Vigilancia\": 0, \"rate_GastosByIngresos\": 0.9932614656226258, \"rate_ResiduosByPersonal\": 1250.0}, {\"Distrito\": \"RAMON CASTILLA\", \"Ingresos_Total\": 31183824.26, \"Gastos_Total\": 20788199.13, \"Personal_Limpieza\": 5, \"Residuos_Solidos\": 7500.0, \"Personal_Vigilancia\": 0, \"rate_GastosByIngresos\": 0.6666340522148645, \"rate_ResiduosByPersonal\": 1500.0}, {\"Distrito\": \"CAPELO\", \"Ingresos_Total\": 2716394.08, \"Gastos_Total\": 4399361.88, \"Personal_Limpieza\": 10, \"Residuos_Solidos\": 450.0, \"Personal_Vigilancia\": 0, \"rate_GastosByIngresos\": 1.6195595154588174, \"rate_ResiduosByPersonal\": 45.0}, {\"Distrito\": \"SAQUENA\", \"Ingresos_Total\": 4799554.51, \"Gastos_Total\": 4810808.24, \"Personal_Limpieza\": 3, \"Residuos_Solidos\": 100.0, \"Personal_Vigilancia\": 0, \"rate_GastosByIngresos\": 1.002344744700066, \"rate_ResiduosByPersonal\": 33.333333333333336}, {\"Distrito\": \"CONTAMANA\", \"Ingresos_Total\": 26264635.12, \"Gastos_Total\": 34676734.02, \"Personal_Limpieza\": 17, \"Residuos_Solidos\": 18000.0, \"Personal_Vigilancia\": 0, \"rate_GastosByIngresos\": 1.320282343979504, \"rate_ResiduosByPersonal\": 1058.8235294117646}, {\"Distrito\": \"PADRE MARQUEZ\", \"Ingresos_Total\": 3887974.53, \"Gastos_Total\": 3773624.24, \"Personal_Limpieza\": 1, \"Residuos_Solidos\": 700.0, \"Personal_Vigilancia\": 0, \"rate_GastosByIngresos\": 0.9705887245099829, \"rate_ResiduosByPersonal\": 700.0}, {\"Distrito\": \"PAMPA HERMOSA\", \"Ingresos_Total\": 6660246.2, \"Gastos_Total\": 6775582.11, \"Personal_Limpieza\": 1, \"Residuos_Solidos\": 400.0, \"Personal_Vigilancia\": 0, \"rate_GastosByIngresos\": 1.0173170640448697, \"rate_ResiduosByPersonal\": 400.0}, {\"Distrito\": \"BARRANCA\", \"Ingresos_Total\": 31918306.73, \"Gastos_Total\": 31280206.48, \"Personal_Limpieza\": 3, \"Residuos_Solidos\": 15000.0, \"Personal_Vigilancia\": 0, \"rate_GastosByIngresos\": 0.9800083301599376, \"rate_ResiduosByPersonal\": 5000.0}, {\"Distrito\": \"YAGUAS\", \"Ingresos_Total\": 1197338.56, \"Gastos_Total\": 1223587.23, \"Personal_Limpieza\": 1, \"Residuos_Solidos\": 300.0, \"Personal_Vigilancia\": 0, \"rate_GastosByIngresos\": 1.0219225128772267, \"rate_ResiduosByPersonal\": 300.0}, {\"Distrito\": \"INAMBARI\", \"Ingresos_Total\": 18038297.49, \"Gastos_Total\": 14987488.3, \"Personal_Limpieza\": 10, \"Residuos_Solidos\": 25000.0, \"Personal_Vigilancia\": 0, \"rate_GastosByIngresos\": 0.830870447075657, \"rate_ResiduosByPersonal\": 2500.0}, {\"Distrito\": \"LABERINTO\", \"Ingresos_Total\": 6986698.19, \"Gastos_Total\": 5675468.61, \"Personal_Limpieza\": 6, \"Residuos_Solidos\": 8000.0, \"Personal_Vigilancia\": 0, \"rate_GastosByIngresos\": 0.8123248572728171, \"rate_ResiduosByPersonal\": 1333.3333333333333}, {\"Distrito\": \"HUEPETUHE\", \"Ingresos_Total\": 10874343.34, \"Gastos_Total\": 5890458.32, \"Personal_Limpieza\": 2, \"Residuos_Solidos\": 2181.0, \"Personal_Vigilancia\": 0, \"rate_GastosByIngresos\": 0.5416840480227103, \"rate_ResiduosByPersonal\": 1090.5}, {\"Distrito\": \"I\\u00d1APARI\", \"Ingresos_Total\": 25547170.33, \"Gastos_Total\": 22474671.34, \"Personal_Limpieza\": 12, \"Residuos_Solidos\": 1400.0, \"Personal_Vigilancia\": 1, \"rate_GastosByIngresos\": 0.8797323167179901, \"rate_ResiduosByPersonal\": 116.66666666666667}, {\"Distrito\": \"MOQUEGUA\", \"Ingresos_Total\": 265751853.31, \"Gastos_Total\": 187820369.07, \"Personal_Limpieza\": 122, \"Residuos_Solidos\": 77000.0, \"Personal_Vigilancia\": 0, \"rate_GastosByIngresos\": 0.7067509284720104, \"rate_ResiduosByPersonal\": 631.1475409836065}, {\"Distrito\": \"CARUMAS\", \"Ingresos_Total\": 14141261.95, \"Gastos_Total\": 10632285.29, \"Personal_Limpieza\": 22, \"Residuos_Solidos\": 2580.0, \"Personal_Vigilancia\": 0, \"rate_GastosByIngresos\": 0.7518625514181921, \"rate_ResiduosByPersonal\": 117.27272727272727}, {\"Distrito\": \"CUCHUMBAYA\", \"Ingresos_Total\": 3931663.42, \"Gastos_Total\": 3287975.31, \"Personal_Limpieza\": 4, \"Residuos_Solidos\": 146.0, \"Personal_Vigilancia\": 3, \"rate_GastosByIngresos\": 0.8362809729017954, \"rate_ResiduosByPersonal\": 36.5}, {\"Distrito\": \"SAMEGUA\", \"Ingresos_Total\": 26925871.17, \"Gastos_Total\": 14421571.68, \"Personal_Limpieza\": 4, \"Residuos_Solidos\": 7500.0, \"Personal_Vigilancia\": 3, \"rate_GastosByIngresos\": 0.5356027884463802, \"rate_ResiduosByPersonal\": 1875.0}, {\"Distrito\": \"SAN CRISTOBAL\", \"Ingresos_Total\": 10602185.9, \"Gastos_Total\": 8395549.3, \"Personal_Limpieza\": 7, \"Residuos_Solidos\": 2000.0, \"Personal_Vigilancia\": 0, \"rate_GastosByIngresos\": 0.7918696558603071, \"rate_ResiduosByPersonal\": 285.7142857142857}, {\"Distrito\": \"TORATA\", \"Ingresos_Total\": 91294900.45, \"Gastos_Total\": 65199126.46, \"Personal_Limpieza\": 21, \"Residuos_Solidos\": 2500.0, \"Personal_Vigilancia\": 22, \"rate_GastosByIngresos\": 0.7141595657438499, \"rate_ResiduosByPersonal\": 119.04761904761905}, {\"Distrito\": \"COALAQUE\", \"Ingresos_Total\": 2601445.7, \"Gastos_Total\": 2132342.67, \"Personal_Limpieza\": 1, \"Residuos_Solidos\": 1500.0, \"Personal_Vigilancia\": 0, \"rate_GastosByIngresos\": 0.8196760247580797, \"rate_ResiduosByPersonal\": 1500.0}, {\"Distrito\": \"ICHU\\u00d1A\", \"Ingresos_Total\": 13791127.12, \"Gastos_Total\": 12730466.93, \"Personal_Limpieza\": 1, \"Residuos_Solidos\": 1200.0, \"Personal_Vigilancia\": 3, \"rate_GastosByIngresos\": 0.9230911164279081, \"rate_ResiduosByPersonal\": 1200.0}, {\"Distrito\": \"PUQUINA\", \"Ingresos_Total\": 4548713.11, \"Gastos_Total\": 5379054.77, \"Personal_Limpieza\": 1, \"Residuos_Solidos\": 800.0, \"Personal_Vigilancia\": 0, \"rate_GastosByIngresos\": 1.182544302074043, \"rate_ResiduosByPersonal\": 800.0}, {\"Distrito\": \"ILO\", \"Ingresos_Total\": 119090712.72, \"Gastos_Total\": 84793247.18, \"Personal_Limpieza\": 19, \"Residuos_Solidos\": 57800.0, \"Personal_Vigilancia\": 0, \"rate_GastosByIngresos\": 0.712005539670936, \"rate_ResiduosByPersonal\": 3042.1052631578946}, {\"Distrito\": \"EL ALGARROBAL\", \"Ingresos_Total\": 37628419.79, \"Gastos_Total\": 13140107.58, \"Personal_Limpieza\": 1, \"Residuos_Solidos\": 1714.0, \"Personal_Vigilancia\": 1, \"rate_GastosByIngresos\": 0.34920699974470015, \"rate_ResiduosByPersonal\": 1714.0}, {\"Distrito\": \"PACOCHA\", \"Ingresos_Total\": 9058296.46, \"Gastos_Total\": 7400553.8, \"Personal_Limpieza\": 14, \"Residuos_Solidos\": 3000.0, \"Personal_Vigilancia\": 4, \"rate_GastosByIngresos\": 0.816991785671806, \"rate_ResiduosByPersonal\": 214.28571428571428}, {\"Distrito\": \"CHAUPIMARCA\", \"Ingresos_Total\": 48031693.49, \"Gastos_Total\": 41722536.5, \"Personal_Limpieza\": 70, \"Residuos_Solidos\": 28000.0, \"Personal_Vigilancia\": 32, \"rate_GastosByIngresos\": 0.8686459599573865, \"rate_ResiduosByPersonal\": 400.0}, {\"Distrito\": \"HUACHON\", \"Ingresos_Total\": 4110304.89, \"Gastos_Total\": 4096066.18, \"Personal_Limpieza\": 10, \"Residuos_Solidos\": 1500.0, \"Personal_Vigilancia\": 0, \"rate_GastosByIngresos\": 0.9965358506531616, \"rate_ResiduosByPersonal\": 150.0}, {\"Distrito\": \"HUARIACA\", \"Ingresos_Total\": 10841874.52, \"Gastos_Total\": 5143090.92, \"Personal_Limpieza\": 5, \"Residuos_Solidos\": 5420.0, \"Personal_Vigilancia\": 7, \"rate_GastosByIngresos\": 0.4743728504247622, \"rate_ResiduosByPersonal\": 1084.0}, {\"Distrito\": \"HUAYLLAY\", \"Ingresos_Total\": 17262427.55, \"Gastos_Total\": 16165419.42, \"Personal_Limpieza\": 17, \"Residuos_Solidos\": 4050.0, \"Personal_Vigilancia\": 1, \"rate_GastosByIngresos\": 0.9364511088129085, \"rate_ResiduosByPersonal\": 238.23529411764707}, {\"Distrito\": \"PALLANCHACRA\", \"Ingresos_Total\": 3140194.3, \"Gastos_Total\": 3031222.71, \"Personal_Limpieza\": 8, \"Residuos_Solidos\": 325.0, \"Personal_Vigilancia\": 1, \"rate_GastosByIngresos\": 0.9652978193100982, \"rate_ResiduosByPersonal\": 40.625}, {\"Distrito\": \"SAN FRANCISCO DE ASIS DE YARUSYACAN\", \"Ingresos_Total\": 5717740.36, \"Gastos_Total\": 4844240.4, \"Personal_Limpieza\": 5, \"Residuos_Solidos\": 1300.0, \"Personal_Vigilancia\": 2, \"rate_GastosByIngresos\": 0.8472298661704184, \"rate_ResiduosByPersonal\": 260.0}, {\"Distrito\": \"SIMON BOLIVAR\", \"Ingresos_Total\": 13122718.03, \"Gastos_Total\": 8883073.07, \"Personal_Limpieza\": 6, \"Residuos_Solidos\": 4500.0, \"Personal_Vigilancia\": 3, \"rate_GastosByIngresos\": 0.6769232600816617, \"rate_ResiduosByPersonal\": 750.0}, {\"Distrito\": \"TICLACAYAN\", \"Ingresos_Total\": 13443029.72, \"Gastos_Total\": 7722303.78, \"Personal_Limpieza\": 7, \"Residuos_Solidos\": 1850.0, \"Personal_Vigilancia\": 0, \"rate_GastosByIngresos\": 0.5744466791225691, \"rate_ResiduosByPersonal\": 264.2857142857143}, {\"Distrito\": \"YANACANCHA\", \"Ingresos_Total\": 17914376.32, \"Gastos_Total\": 17794363.82, \"Personal_Limpieza\": 67, \"Residuos_Solidos\": 29000.0, \"Personal_Vigilancia\": 16, \"rate_GastosByIngresos\": 0.9933007715224774, \"rate_ResiduosByPersonal\": 432.8358208955224}, {\"Distrito\": \"CHACAYAN\", \"Ingresos_Total\": 2747988.09, \"Gastos_Total\": 2583214.48, \"Personal_Limpieza\": 6, \"Residuos_Solidos\": 800.0, \"Personal_Vigilancia\": 0, \"rate_GastosByIngresos\": 0.9400384555524038, \"rate_ResiduosByPersonal\": 133.33333333333334}, {\"Distrito\": \"OXAPAMPA\", \"Ingresos_Total\": 34071025.37, \"Gastos_Total\": 34936967.29, \"Personal_Limpieza\": 5, \"Residuos_Solidos\": 11143.0, \"Personal_Vigilancia\": 1, \"rate_GastosByIngresos\": 1.025415786892122, \"rate_ResiduosByPersonal\": 2228.6}, {\"Distrito\": \"CHONTABAMBA\", \"Ingresos_Total\": 9144571.96, \"Gastos_Total\": 7518194.72, \"Personal_Limpieza\": 3, \"Residuos_Solidos\": 5300.0, \"Personal_Vigilancia\": 4, \"rate_GastosByIngresos\": 0.822148346897584, \"rate_ResiduosByPersonal\": 1766.6666666666667}, {\"Distrito\": \"PALCAZU\", \"Ingresos_Total\": 7892133.04, \"Gastos_Total\": 6610455.26, \"Personal_Limpieza\": 4, \"Residuos_Solidos\": 2000.0, \"Personal_Vigilancia\": 1, \"rate_GastosByIngresos\": 0.8376005861148027, \"rate_ResiduosByPersonal\": 500.0}, {\"Distrito\": \"POZUZO\", \"Ingresos_Total\": 7015354.66, \"Gastos_Total\": 6527254.36, \"Personal_Limpieza\": 5, \"Residuos_Solidos\": 1038.0, \"Personal_Vigilancia\": 0, \"rate_GastosByIngresos\": 0.9304240022556465, \"rate_ResiduosByPersonal\": 207.6}, {\"Distrito\": \"PUERTO BERMUDEZ\", \"Ingresos_Total\": 43656768.19, \"Gastos_Total\": 14501322.17, \"Personal_Limpieza\": 22, \"Residuos_Solidos\": 6000.0, \"Personal_Vigilancia\": 6, \"rate_GastosByIngresos\": 0.332166643826871, \"rate_ResiduosByPersonal\": 272.72727272727275}, {\"Distrito\": \"VILLA RICA\", \"Ingresos_Total\": 15799660.79, \"Gastos_Total\": 15262088.18, \"Personal_Limpieza\": 17, \"Residuos_Solidos\": 8000.0, \"Personal_Vigilancia\": 4, \"rate_GastosByIngresos\": 0.9659756866210544, \"rate_ResiduosByPersonal\": 470.5882352941176}, {\"Distrito\": \"CONSTITUCI\\u00d3N\", \"Ingresos_Total\": 15240588.02, \"Gastos_Total\": 13779090.5, \"Personal_Limpieza\": 2, \"Residuos_Solidos\": 8000.0, \"Personal_Vigilancia\": 1, \"rate_GastosByIngresos\": 0.9041049126134701, \"rate_ResiduosByPersonal\": 4000.0}, {\"Distrito\": \"PIURA\", \"Ingresos_Total\": 259309348.86, \"Gastos_Total\": 216467936.69, \"Personal_Limpieza\": 453, \"Residuos_Solidos\": 194428.0, \"Personal_Vigilancia\": 180, \"rate_GastosByIngresos\": 0.8347864727656622, \"rate_ResiduosByPersonal\": 429.2008830022075}, {\"Distrito\": \"CASTILLA\", \"Ingresos_Total\": 110946665.66, \"Gastos_Total\": 99926979.2, \"Personal_Limpieza\": 343, \"Residuos_Solidos\": 116811.0, \"Personal_Vigilancia\": 14, \"rate_GastosByIngresos\": 0.9006758211754626, \"rate_ResiduosByPersonal\": 340.5568513119534}, {\"Distrito\": \"CATACAOS\", \"Ingresos_Total\": 30407097.77, \"Gastos_Total\": 24732083.25, \"Personal_Limpieza\": 21, \"Residuos_Solidos\": 25000.0, \"Personal_Vigilancia\": 0, \"rate_GastosByIngresos\": 0.8133654660853876, \"rate_ResiduosByPersonal\": 1190.4761904761904}, {\"Distrito\": \"CURA MORI\", \"Ingresos_Total\": 30960438.69, \"Gastos_Total\": 31784972.64, \"Personal_Limpieza\": 21, \"Residuos_Solidos\": 6800.0, \"Personal_Vigilancia\": 6, \"rate_GastosByIngresos\": 1.0266318561650845, \"rate_ResiduosByPersonal\": 323.8095238095238}, {\"Distrito\": \"EL TALLAN\", \"Ingresos_Total\": 15819608.0, \"Gastos_Total\": 15420679.13, \"Personal_Limpieza\": 1, \"Residuos_Solidos\": 1220.0, \"Personal_Vigilancia\": 8, \"rate_GastosByIngresos\": 0.9747826324141534, \"rate_ResiduosByPersonal\": 1220.0}, {\"Distrito\": \"LA ARENA\", \"Ingresos_Total\": 54524228.41, \"Gastos_Total\": 54251539.17, \"Personal_Limpieza\": 2, \"Residuos_Solidos\": 9000.0, \"Personal_Vigilancia\": 3, \"rate_GastosByIngresos\": 0.9949987510515603, \"rate_ResiduosByPersonal\": 4500.0}, {\"Distrito\": \"LA UNION\", \"Ingresos_Total\": 26853623.51, \"Gastos_Total\": 25113046.13, \"Personal_Limpieza\": 24, \"Residuos_Solidos\": 26470.0, \"Personal_Vigilancia\": 3, \"rate_GastosByIngresos\": 0.9351827741477112, \"rate_ResiduosByPersonal\": 1102.9166666666667}, {\"Distrito\": \"LAS LOMAS\", \"Ingresos_Total\": 48671896.9, \"Gastos_Total\": 44341430.84, \"Personal_Limpieza\": 4, \"Residuos_Solidos\": 15000.0, \"Personal_Vigilancia\": 0, \"rate_GastosByIngresos\": 0.9110273826208735, \"rate_ResiduosByPersonal\": 3750.0}, {\"Distrito\": \"TAMBO GRANDE\", \"Ingresos_Total\": 121100869.88, \"Gastos_Total\": 96133187.75, \"Personal_Limpieza\": 30, \"Residuos_Solidos\": 40000.0, \"Personal_Vigilancia\": 0, \"rate_GastosByIngresos\": 0.7938273923652183, \"rate_ResiduosByPersonal\": 1333.3333333333333}, {\"Distrito\": \"VEINTIS\\u00c9IS DE OCTUBRE\", \"Ingresos_Total\": 113030838.47, \"Gastos_Total\": 83344097.19, \"Personal_Limpieza\": 169, \"Residuos_Solidos\": 104000.0, \"Personal_Vigilancia\": 3, \"rate_GastosByIngresos\": 0.7373571524210246, \"rate_ResiduosByPersonal\": 615.3846153846154}, {\"Distrito\": \"AYABACA\", \"Ingresos_Total\": 99065983.63, \"Gastos_Total\": 74761591.51, \"Personal_Limpieza\": 13, \"Residuos_Solidos\": 6000.0, \"Personal_Vigilancia\": 0, \"rate_GastosByIngresos\": 0.754664606059189, \"rate_ResiduosByPersonal\": 461.53846153846155}, {\"Distrito\": \"LAGUNAS\", \"Ingresos_Total\": 7945911.98, \"Gastos_Total\": 5681630.19, \"Personal_Limpieza\": 1, \"Residuos_Solidos\": 1000.0, \"Personal_Vigilancia\": 0, \"rate_GastosByIngresos\": 0.7150381484593289, \"rate_ResiduosByPersonal\": 1000.0}, {\"Distrito\": \"PAIMAS\", \"Ingresos_Total\": 11819389.47, \"Gastos_Total\": 11366050.2, \"Personal_Limpieza\": 2, \"Residuos_Solidos\": 2000.0, \"Personal_Vigilancia\": 0, \"rate_GastosByIngresos\": 0.9616444427057195, \"rate_ResiduosByPersonal\": 1000.0}, {\"Distrito\": \"CANCHAQUE\", \"Ingresos_Total\": 28146858.92, \"Gastos_Total\": 39771313.33, \"Personal_Limpieza\": 1, \"Residuos_Solidos\": 3455.0, \"Personal_Vigilancia\": 0, \"rate_GastosByIngresos\": 1.4129929539576487, \"rate_ResiduosByPersonal\": 3455.0}, {\"Distrito\": \"SAN MIGUEL DE EL FAIQUE\", \"Ingresos_Total\": 23245376.07, \"Gastos_Total\": 26605045.37, \"Personal_Limpieza\": 1, \"Residuos_Solidos\": 6060.0, \"Personal_Vigilancia\": 0, \"rate_GastosByIngresos\": 1.1445306494454146, \"rate_ResiduosByPersonal\": 6060.0}, {\"Distrito\": \"SONDOR\", \"Ingresos_Total\": 9582069.97, \"Gastos_Total\": 9431954.24, \"Personal_Limpieza\": 2, \"Residuos_Solidos\": 600.0, \"Personal_Vigilancia\": 0, \"rate_GastosByIngresos\": 0.9843336846349494, \"rate_ResiduosByPersonal\": 300.0}, {\"Distrito\": \"SONDORILLO\", \"Ingresos_Total\": 43513250.49, \"Gastos_Total\": 40794847.84, \"Personal_Limpieza\": 2, \"Residuos_Solidos\": 900.0, \"Personal_Vigilancia\": 0, \"rate_GastosByIngresos\": 0.9375270148888388, \"rate_ResiduosByPersonal\": 450.0}, {\"Distrito\": \"CHULUCANAS\", \"Ingresos_Total\": 135769578.92, \"Gastos_Total\": 118389768.28, \"Personal_Limpieza\": 35, \"Residuos_Solidos\": 60000.0, \"Personal_Vigilancia\": 0, \"rate_GastosByIngresos\": 0.8719903915276871, \"rate_ResiduosByPersonal\": 1714.2857142857142}, {\"Distrito\": \"BUENOS AIRES\", \"Ingresos_Total\": 12914005.46, \"Gastos_Total\": 17973439.72, \"Personal_Limpieza\": 1, \"Residuos_Solidos\": 3840.0, \"Personal_Vigilancia\": 1, \"rate_GastosByIngresos\": 1.3917788540256664, \"rate_ResiduosByPersonal\": 3840.0}, {\"Distrito\": \"LA MATANZA\", \"Ingresos_Total\": 9848142.49, \"Gastos_Total\": 8401378.73, \"Personal_Limpieza\": 3, \"Residuos_Solidos\": 5000.0, \"Personal_Vigilancia\": 0, \"rate_GastosByIngresos\": 0.8530927267280025, \"rate_ResiduosByPersonal\": 1666.6666666666667}, {\"Distrito\": \"MORROPON\", \"Ingresos_Total\": 11181433.2, \"Gastos_Total\": 10465615.33, \"Personal_Limpieza\": 3, \"Residuos_Solidos\": 9000.0, \"Personal_Vigilancia\": 0, \"rate_GastosByIngresos\": 0.9359815636156553, \"rate_ResiduosByPersonal\": 3000.0}, {\"Distrito\": \"SALITRAL\", \"Ingresos_Total\": 8015829.54, \"Gastos_Total\": 7742578.45, \"Personal_Limpieza\": 5, \"Residuos_Solidos\": 1000.0, \"Personal_Vigilancia\": 0, \"rate_GastosByIngresos\": 0.9659110652694842, \"rate_ResiduosByPersonal\": 200.0}, {\"Distrito\": \"SANTO DOMINGO\", \"Ingresos_Total\": 13707608.31, \"Gastos_Total\": 13894240.85, \"Personal_Limpieza\": 3, \"Residuos_Solidos\": 1050.0, \"Personal_Vigilancia\": 0, \"rate_GastosByIngresos\": 1.0136152518936397, \"rate_ResiduosByPersonal\": 350.0}, {\"Distrito\": \"AMOTAPE\", \"Ingresos_Total\": 2911089.61, \"Gastos_Total\": 2128610.41, \"Personal_Limpieza\": 1, \"Residuos_Solidos\": 1500.0, \"Personal_Vigilancia\": 1, \"rate_GastosByIngresos\": 0.7312074498455581, \"rate_ResiduosByPersonal\": 1500.0}, {\"Distrito\": \"ARENAL\", \"Ingresos_Total\": 3511299.83, \"Gastos_Total\": 1726446.42, \"Personal_Limpieza\": 2, \"Residuos_Solidos\": 500.0, \"Personal_Vigilancia\": 0, \"rate_GastosByIngresos\": 0.49168299592347825, \"rate_ResiduosByPersonal\": 250.0}, {\"Distrito\": \"COLAN\", \"Ingresos_Total\": 15367328.58, \"Gastos_Total\": 13592405.46, \"Personal_Limpieza\": 2, \"Residuos_Solidos\": 5000.0, \"Personal_Vigilancia\": 0, \"rate_GastosByIngresos\": 0.8845002167579085, \"rate_ResiduosByPersonal\": 2500.0}, {\"Distrito\": \"LA HUACA\", \"Ingresos_Total\": 15878094.11, \"Gastos_Total\": 12719609.12, \"Personal_Limpieza\": 6, \"Residuos_Solidos\": 6750.0, \"Personal_Vigilancia\": 0, \"rate_GastosByIngresos\": 0.8010790861851114, \"rate_ResiduosByPersonal\": 1125.0}, {\"Distrito\": \"TAMARINDO\", \"Ingresos_Total\": 8822488.58, \"Gastos_Total\": 8121151.99, \"Personal_Limpieza\": 4, \"Residuos_Solidos\": 1500.0, \"Personal_Vigilancia\": 0, \"rate_GastosByIngresos\": 0.9205058092577322, \"rate_ResiduosByPersonal\": 375.0}, {\"Distrito\": \"VICHAYAL\", \"Ingresos_Total\": 9871172.62, \"Gastos_Total\": 7699116.06, \"Personal_Limpieza\": 3, \"Residuos_Solidos\": 6500.0, \"Personal_Vigilancia\": 0, \"rate_GastosByIngresos\": 0.7799596214537681, \"rate_ResiduosByPersonal\": 2166.6666666666665}, {\"Distrito\": \"SULLANA\", \"Ingresos_Total\": 145306022.1, \"Gastos_Total\": 139586601.13, \"Personal_Limpieza\": 353, \"Residuos_Solidos\": 78676.0, \"Personal_Vigilancia\": 72, \"rate_GastosByIngresos\": 0.9606387891751391, \"rate_ResiduosByPersonal\": 222.87818696883852}, {\"Distrito\": \"BELLAVISTA\", \"Ingresos_Total\": 20997685.25, \"Gastos_Total\": 23813913.74, \"Personal_Limpieza\": 38, \"Residuos_Solidos\": 10000.0, \"Personal_Vigilancia\": 4, \"rate_GastosByIngresos\": 1.134120902207542, \"rate_ResiduosByPersonal\": 263.1578947368421}, {\"Distrito\": \"IGNACIO ESCUDERO\", \"Ingresos_Total\": 19698974.98, \"Gastos_Total\": 18884672.69, \"Personal_Limpieza\": 4, \"Residuos_Solidos\": 7000.0, \"Personal_Vigilancia\": 0, \"rate_GastosByIngresos\": 0.9586627075354558, \"rate_ResiduosByPersonal\": 1750.0}, {\"Distrito\": \"LANCONES\", \"Ingresos_Total\": 16462429.31, \"Gastos_Total\": 14289938.9, \"Personal_Limpieza\": 3, \"Residuos_Solidos\": 850.0, \"Personal_Vigilancia\": 0, \"rate_GastosByIngresos\": 0.8680334251348716, \"rate_ResiduosByPersonal\": 283.3333333333333}, {\"Distrito\": \"MARCAVELICA\", \"Ingresos_Total\": 38159332.39, \"Gastos_Total\": 35509266.34, \"Personal_Limpieza\": 13, \"Residuos_Solidos\": 15000.0, \"Personal_Vigilancia\": 3, \"rate_GastosByIngresos\": 0.9305526097019855, \"rate_ResiduosByPersonal\": 1153.8461538461538}, {\"Distrito\": \"MIGUEL CHECA\", \"Ingresos_Total\": 7027051.83, \"Gastos_Total\": 6301872.16, \"Personal_Limpieza\": 7, \"Residuos_Solidos\": 5000.0, \"Personal_Vigilancia\": 0, \"rate_GastosByIngresos\": 0.8968017189080559, \"rate_ResiduosByPersonal\": 714.2857142857143}, {\"Distrito\": \"QUERECOTILLO\", \"Ingresos_Total\": 38779238.95, \"Gastos_Total\": 34888132.88, \"Personal_Limpieza\": 6, \"Residuos_Solidos\": 6700.0, \"Personal_Vigilancia\": 0, \"rate_GastosByIngresos\": 0.8996600713330914, \"rate_ResiduosByPersonal\": 1116.6666666666667}, {\"Distrito\": \"SALITRAL\", \"Ingresos_Total\": 6430899.18, \"Gastos_Total\": 6225805.35, \"Personal_Limpieza\": 8, \"Residuos_Solidos\": 4000.0, \"Personal_Vigilancia\": 0, \"rate_GastosByIngresos\": 0.9681080632335461, \"rate_ResiduosByPersonal\": 500.0}, {\"Distrito\": \"PARI\\u00d1AS\", \"Ingresos_Total\": 162600847.91, \"Gastos_Total\": 113842145.65, \"Personal_Limpieza\": 58, \"Residuos_Solidos\": 77000.0, \"Personal_Vigilancia\": 22, \"rate_GastosByIngresos\": 0.7001325461292301, \"rate_ResiduosByPersonal\": 1327.5862068965516}, {\"Distrito\": \"EL ALTO\", \"Ingresos_Total\": 37344858.98, \"Gastos_Total\": 29056564.56, \"Personal_Limpieza\": 1, \"Residuos_Solidos\": 16000.0, \"Personal_Vigilancia\": 0, \"rate_GastosByIngresos\": 0.7780606314663342, \"rate_ResiduosByPersonal\": 16000.0}, {\"Distrito\": \"LA BREA\", \"Ingresos_Total\": 25437375.92, \"Gastos_Total\": 21241818.89, \"Personal_Limpieza\": 8, \"Residuos_Solidos\": 8400.0, \"Personal_Vigilancia\": 0, \"rate_GastosByIngresos\": 0.8350632925662247, \"rate_ResiduosByPersonal\": 1050.0}, {\"Distrito\": \"LOS ORGANOS\", \"Ingresos_Total\": 19593824.69, \"Gastos_Total\": 12619052.06, \"Personal_Limpieza\": 28, \"Residuos_Solidos\": 11000.0, \"Personal_Vigilancia\": 16, \"rate_GastosByIngresos\": 0.6440320998911622, \"rate_ResiduosByPersonal\": 392.85714285714283}, {\"Distrito\": \"MANCORA\", \"Ingresos_Total\": 22159823.4, \"Gastos_Total\": 19192883.39, \"Personal_Limpieza\": 36, \"Residuos_Solidos\": 12000.0, \"Personal_Vigilancia\": 2, \"rate_GastosByIngresos\": 0.8661117484356848, \"rate_ResiduosByPersonal\": 333.3333333333333}, {\"Distrito\": \"SECHURA\", \"Ingresos_Total\": 101154873.69, \"Gastos_Total\": 67336622.35, \"Personal_Limpieza\": 34, \"Residuos_Solidos\": 24000.0, \"Personal_Vigilancia\": 3, \"rate_GastosByIngresos\": 0.6656784778987548, \"rate_ResiduosByPersonal\": 705.8823529411765}, {\"Distrito\": \"BELLAVISTA DE LA UNION\", \"Ingresos_Total\": 3137635.56, \"Gastos_Total\": 2862507.54, \"Personal_Limpieza\": 1, \"Residuos_Solidos\": 7500.0, \"Personal_Vigilancia\": 0, \"rate_GastosByIngresos\": 0.912313583034481, \"rate_ResiduosByPersonal\": 7500.0}, {\"Distrito\": \"CRISTO NOS VALGA\", \"Ingresos_Total\": 4660793.34, \"Gastos_Total\": 3336518.41, \"Personal_Limpieza\": 2, \"Residuos_Solidos\": 1500.0, \"Personal_Vigilancia\": 0, \"rate_GastosByIngresos\": 0.7158692022161189, \"rate_ResiduosByPersonal\": 750.0}, {\"Distrito\": \"VICE\", \"Ingresos_Total\": 19377120.74, \"Gastos_Total\": 14413638.71, \"Personal_Limpieza\": 2, \"Residuos_Solidos\": 1000.0, \"Personal_Vigilancia\": 1, \"rate_GastosByIngresos\": 0.7438483200574825, \"rate_ResiduosByPersonal\": 500.0}, {\"Distrito\": \"PUNO\", \"Ingresos_Total\": 95448195.22, \"Gastos_Total\": 90131543.74, \"Personal_Limpieza\": 123, \"Residuos_Solidos\": 95000.0, \"Personal_Vigilancia\": 20, \"rate_GastosByIngresos\": 0.9442980407566055, \"rate_ResiduosByPersonal\": 772.3577235772358}, {\"Distrito\": \"ACORA\", \"Ingresos_Total\": 13651999.43, \"Gastos_Total\": 10563667.95, \"Personal_Limpieza\": 2, \"Residuos_Solidos\": 4700.0, \"Personal_Vigilancia\": 0, \"rate_GastosByIngresos\": 0.7737817456091118, \"rate_ResiduosByPersonal\": 2350.0}, {\"Distrito\": \"HUATA\", \"Ingresos_Total\": 5214004.64, \"Gastos_Total\": 5283827.02, \"Personal_Limpieza\": 3, \"Residuos_Solidos\": 600.0, \"Personal_Vigilancia\": 2, \"rate_GastosByIngresos\": 1.0133913152789216, \"rate_ResiduosByPersonal\": 200.0}, {\"Distrito\": \"PAUCARCOLLA\", \"Ingresos_Total\": 4387510.95, \"Gastos_Total\": 3288088.01, \"Personal_Limpieza\": 3, \"Residuos_Solidos\": 180.0, \"Personal_Vigilancia\": 2, \"rate_GastosByIngresos\": 0.7494198983138719, \"rate_ResiduosByPersonal\": 60.0}, {\"Distrito\": \"PLATERIA\", \"Ingresos_Total\": 4715524.17, \"Gastos_Total\": 4449081.24, \"Personal_Limpieza\": 1, \"Residuos_Solidos\": 50.0, \"Personal_Vigilancia\": 0, \"rate_GastosByIngresos\": 0.9434966463123866, \"rate_ResiduosByPersonal\": 50.0}, {\"Distrito\": \"AZANGARO\", \"Ingresos_Total\": 64926259.12, \"Gastos_Total\": 63136303.92, \"Personal_Limpieza\": 9, \"Residuos_Solidos\": 20000.0, \"Personal_Vigilancia\": 0, \"rate_GastosByIngresos\": 0.972430951293656, \"rate_ResiduosByPersonal\": 2222.222222222222}, {\"Distrito\": \"ARAPA\", \"Ingresos_Total\": 14833192.89, \"Gastos_Total\": 15811085.59, \"Personal_Limpieza\": 1, \"Residuos_Solidos\": 580.0, \"Personal_Vigilancia\": 0, \"rate_GastosByIngresos\": 1.0659259747548526, \"rate_ResiduosByPersonal\": 580.0}, {\"Distrito\": \"CRUCERO\", \"Ingresos_Total\": 7098958.79, \"Gastos_Total\": 7332572.65, \"Personal_Limpieza\": 8, \"Residuos_Solidos\": 612.0, \"Personal_Vigilancia\": 11, \"rate_GastosByIngresos\": 1.0329081865257594, \"rate_ResiduosByPersonal\": 76.5}, {\"Distrito\": \"SAN GABAN\", \"Ingresos_Total\": 11333746.15, \"Gastos_Total\": 8734538.64, \"Personal_Limpieza\": 4, \"Residuos_Solidos\": 1430.0, \"Personal_Vigilancia\": 4, \"rate_GastosByIngresos\": 0.7706665143545676, \"rate_ResiduosByPersonal\": 357.5}, {\"Distrito\": \"JULI\", \"Ingresos_Total\": 76094805.27, \"Gastos_Total\": 62308463.76, \"Personal_Limpieza\": 13, \"Residuos_Solidos\": 40400.0, \"Personal_Vigilancia\": 7, \"rate_GastosByIngresos\": 0.8188267719316289, \"rate_ResiduosByPersonal\": 3107.6923076923076}, {\"Distrito\": \"PISACOMA\", \"Ingresos_Total\": 9782404.12, \"Gastos_Total\": 7458579.85, \"Personal_Limpieza\": 7, \"Residuos_Solidos\": 550.0, \"Personal_Vigilancia\": 6, \"rate_GastosByIngresos\": 0.7624485513485412, \"rate_ResiduosByPersonal\": 78.57142857142857}, {\"Distrito\": \"PILCUYO\", \"Ingresos_Total\": 6760090.22, \"Gastos_Total\": 6921368.0, \"Personal_Limpieza\": 14, \"Residuos_Solidos\": 300.0, \"Personal_Vigilancia\": 0, \"rate_GastosByIngresos\": 1.0238573413595655, \"rate_ResiduosByPersonal\": 21.428571428571427}, {\"Distrito\": \"HUANCANE\", \"Ingresos_Total\": 33747472.29, \"Gastos_Total\": 34580486.36, \"Personal_Limpieza\": 1, \"Residuos_Solidos\": 3000.0, \"Personal_Vigilancia\": 0, \"rate_GastosByIngresos\": 1.0246837470623493, \"rate_ResiduosByPersonal\": 3000.0}, {\"Distrito\": \"COJATA\", \"Ingresos_Total\": 8461272.35, \"Gastos_Total\": 7163074.15, \"Personal_Limpieza\": 10, \"Residuos_Solidos\": 500.0, \"Personal_Vigilancia\": 0, \"rate_GastosByIngresos\": 0.8465717511149491, \"rate_ResiduosByPersonal\": 50.0}, {\"Distrito\": \"PUSI\", \"Ingresos_Total\": 7816000.17, \"Gastos_Total\": 8002690.1, \"Personal_Limpieza\": 1, \"Residuos_Solidos\": 100.0, \"Personal_Vigilancia\": 0, \"rate_GastosByIngresos\": 1.0238856097670734, \"rate_ResiduosByPersonal\": 100.0}, {\"Distrito\": \"LAMPA\", \"Ingresos_Total\": 27199866.92, \"Gastos_Total\": 28143168.63, \"Personal_Limpieza\": 11, \"Residuos_Solidos\": 1500.0, \"Personal_Vigilancia\": 0, \"rate_GastosByIngresos\": 1.0346803796053277, \"rate_ResiduosByPersonal\": 136.36363636363637}, {\"Distrito\": \"CALAPUJA\", \"Ingresos_Total\": 5086605.37, \"Gastos_Total\": 4234172.31, \"Personal_Limpieza\": 5, \"Residuos_Solidos\": 20.0, \"Personal_Vigilancia\": 1, \"rate_GastosByIngresos\": 0.8324161207732927, \"rate_ResiduosByPersonal\": 4.0}, {\"Distrito\": \"CUPI\", \"Ingresos_Total\": 3250531.21, \"Gastos_Total\": 2610972.89, \"Personal_Limpieza\": 1, \"Residuos_Solidos\": 100.0, \"Personal_Vigilancia\": 0, \"rate_GastosByIngresos\": 0.8032449840713882, \"rate_ResiduosByPersonal\": 100.0}, {\"Distrito\": \"MOHO\", \"Ingresos_Total\": 13681809.64, \"Gastos_Total\": 13322665.03, \"Personal_Limpieza\": 1, \"Residuos_Solidos\": 1830.0, \"Personal_Vigilancia\": 0, \"rate_GastosByIngresos\": 0.9737502114522913, \"rate_ResiduosByPersonal\": 1830.0}, {\"Distrito\": \"PUTINA\", \"Ingresos_Total\": 30219699.7, \"Gastos_Total\": 31126570.65, \"Personal_Limpieza\": 3, \"Residuos_Solidos\": 6000.0, \"Personal_Vigilancia\": 0, \"rate_GastosByIngresos\": 1.0300092641225023, \"rate_ResiduosByPersonal\": 2000.0}, {\"Distrito\": \"ANANEA\", \"Ingresos_Total\": 20079785.03, \"Gastos_Total\": 17394608.46, \"Personal_Limpieza\": 12, \"Residuos_Solidos\": 6500.0, \"Personal_Vigilancia\": 3, \"rate_GastosByIngresos\": 0.8662746356104789, \"rate_ResiduosByPersonal\": 541.6666666666666}, {\"Distrito\": \"JULIACA\", \"Ingresos_Total\": 123316609.56, \"Gastos_Total\": 106927765.85, \"Personal_Limpieza\": 232, \"Residuos_Solidos\": 271000.0, \"Personal_Vigilancia\": 0, \"rate_GastosByIngresos\": 0.8670994623637786, \"rate_ResiduosByPersonal\": 1168.103448275862}, {\"Distrito\": \"CARACOTO\", \"Ingresos_Total\": 12505920.08, \"Gastos_Total\": 11024584.13, \"Personal_Limpieza\": 4, \"Residuos_Solidos\": 4500.0, \"Personal_Vigilancia\": 1, \"rate_GastosByIngresos\": 0.8815492230460504, \"rate_ResiduosByPersonal\": 1125.0}, {\"Distrito\": \"LIMBANI\", \"Ingresos_Total\": 5240460.36, \"Gastos_Total\": 3323994.9, \"Personal_Limpieza\": 2, \"Residuos_Solidos\": 500.0, \"Personal_Vigilancia\": 0, \"rate_GastosByIngresos\": 0.6342944458413955, \"rate_ResiduosByPersonal\": 250.0}, {\"Distrito\": \"SAN JUAN DEL ORO\", \"Ingresos_Total\": 9304287.67, \"Gastos_Total\": 8853683.96, \"Personal_Limpieza\": 3, \"Residuos_Solidos\": 1500.0, \"Personal_Vigilancia\": 0, \"rate_GastosByIngresos\": 0.9515703161830551, \"rate_ResiduosByPersonal\": 500.0}, {\"Distrito\": \"SAN PEDRO DE PUTINA PUNCO\", \"Ingresos_Total\": 23845583.48, \"Gastos_Total\": 21171714.1, \"Personal_Limpieza\": 4, \"Residuos_Solidos\": 1890.0, \"Personal_Vigilancia\": 2, \"rate_GastosByIngresos\": 0.8878673116871871, \"rate_ResiduosByPersonal\": 472.5}, {\"Distrito\": \"ANAPIA\", \"Ingresos_Total\": 1786488.97, \"Gastos_Total\": 1908220.95, \"Personal_Limpieza\": 2, \"Residuos_Solidos\": 450.0, \"Personal_Vigilancia\": 2, \"rate_GastosByIngresos\": 1.0681403479362093, \"rate_ResiduosByPersonal\": 225.0}, {\"Distrito\": \"CUTURAPI\", \"Ingresos_Total\": 1120133.71, \"Gastos_Total\": 1210135.08, \"Personal_Limpieza\": 1, \"Residuos_Solidos\": 80.0, \"Personal_Vigilancia\": 0, \"rate_GastosByIngresos\": 1.0803487737191662, \"rate_ResiduosByPersonal\": 80.0}, {\"Distrito\": \"UNICACHI\", \"Ingresos_Total\": 1654176.85, \"Gastos_Total\": 1768173.33, \"Personal_Limpieza\": 2, \"Residuos_Solidos\": 13798.4666666667, \"Personal_Vigilancia\": 1, \"rate_GastosByIngresos\": 1.0689143243662247, \"rate_ResiduosByPersonal\": 6899.23333333335}, {\"Distrito\": \"MOYOBAMBA\", \"Ingresos_Total\": 94183379.76, \"Gastos_Total\": 65031725.57, \"Personal_Limpieza\": 62, \"Residuos_Solidos\": 66000.0, \"Personal_Vigilancia\": 8, \"rate_GastosByIngresos\": 0.6904798461863989, \"rate_ResiduosByPersonal\": 1064.516129032258}, {\"Distrito\": \"CALZADA\", \"Ingresos_Total\": 5708416.98, \"Gastos_Total\": 5418595.8, \"Personal_Limpieza\": 2, \"Residuos_Solidos\": 1524.0, \"Personal_Vigilancia\": 0, \"rate_GastosByIngresos\": 0.9492291503904817, \"rate_ResiduosByPersonal\": 762.0}, {\"Distrito\": \"BELLAVISTA\", \"Ingresos_Total\": 21212214.64, \"Gastos_Total\": 23767829.34, \"Personal_Limpieza\": 15, \"Residuos_Solidos\": 9000.0, \"Personal_Vigilancia\": 6, \"rate_GastosByIngresos\": 1.1204784480721246, \"rate_ResiduosByPersonal\": 600.0}, {\"Distrito\": \"SAN JOSE DE SISA\", \"Ingresos_Total\": 17962493.05, \"Gastos_Total\": 19522839.57, \"Personal_Limpieza\": 4, \"Residuos_Solidos\": 14706.0, \"Personal_Vigilancia\": 3, \"rate_GastosByIngresos\": 1.0868669240765552, \"rate_ResiduosByPersonal\": 3676.5}, {\"Distrito\": \"SHATOJA\", \"Ingresos_Total\": 18005190.71, \"Gastos_Total\": 17889650.15, \"Personal_Limpieza\": 2, \"Residuos_Solidos\": 700.0, \"Personal_Vigilancia\": 0, \"rate_GastosByIngresos\": 0.9935829305081544, \"rate_ResiduosByPersonal\": 350.0}, {\"Distrito\": \"SAPOSOA\", \"Ingresos_Total\": 14952162.09, \"Gastos_Total\": 19583053.11, \"Personal_Limpieza\": 1, \"Residuos_Solidos\": 6000.0, \"Personal_Vigilancia\": 0, \"rate_GastosByIngresos\": 1.3097138054099304, \"rate_ResiduosByPersonal\": 6000.0}, {\"Distrito\": \"ALTO SAPOSOA\", \"Ingresos_Total\": 3909077.09, \"Gastos_Total\": 3009663.4, \"Personal_Limpieza\": 6, \"Residuos_Solidos\": 3400.0, \"Personal_Vigilancia\": 1, \"rate_GastosByIngresos\": 0.7699166147680142, \"rate_ResiduosByPersonal\": 566.6666666666666}, {\"Distrito\": \"EL ESLABON\", \"Ingresos_Total\": 4646380.82, \"Gastos_Total\": 2837590.54, \"Personal_Limpieza\": 2, \"Residuos_Solidos\": 2000.0, \"Personal_Vigilancia\": 0, \"rate_GastosByIngresos\": 0.610709851372019, \"rate_ResiduosByPersonal\": 1000.0}, {\"Distrito\": \"TINGO DE SAPOSOA\", \"Ingresos_Total\": 986092.56, \"Gastos_Total\": 907916.56, \"Personal_Limpieza\": 3, \"Residuos_Solidos\": 6000.0, \"Personal_Vigilancia\": 0, \"rate_GastosByIngresos\": 0.9207214381578946, \"rate_ResiduosByPersonal\": 2000.0}, {\"Distrito\": \"LAMAS\", \"Ingresos_Total\": 25456828.6, \"Gastos_Total\": 30168104.66, \"Personal_Limpieza\": 3, \"Residuos_Solidos\": 15000.0, \"Personal_Vigilancia\": 0, \"rate_GastosByIngresos\": 1.185069245428317, \"rate_ResiduosByPersonal\": 5000.0}, {\"Distrito\": \"ALONSO DE ALVARADO\", \"Ingresos_Total\": 9150861.28, \"Gastos_Total\": 7986783.83, \"Personal_Limpieza\": 2, \"Residuos_Solidos\": 5000.0, \"Personal_Vigilancia\": 0, \"rate_GastosByIngresos\": 0.8727903948730824, \"rate_ResiduosByPersonal\": 2500.0}, {\"Distrito\": \"CU\\u00d1UMBUQUI\", \"Ingresos_Total\": 3356003.0, \"Gastos_Total\": 3036704.55, \"Personal_Limpieza\": 1, \"Residuos_Solidos\": 750.0, \"Personal_Vigilancia\": 0, \"rate_GastosByIngresos\": 0.9048575194956618, \"rate_ResiduosByPersonal\": 750.0}, {\"Distrito\": \"TABALOSOS\", \"Ingresos_Total\": 5948501.0, \"Gastos_Total\": 5887463.83, \"Personal_Limpieza\": 4, \"Residuos_Solidos\": 10000.0, \"Personal_Vigilancia\": 0, \"rate_GastosByIngresos\": 0.9897390670355439, \"rate_ResiduosByPersonal\": 2500.0}, {\"Distrito\": \"JUANJUI\", \"Ingresos_Total\": 20401187.07, \"Gastos_Total\": 27804676.56, \"Personal_Limpieza\": 19, \"Residuos_Solidos\": 22000.0, \"Personal_Vigilancia\": 0, \"rate_GastosByIngresos\": 1.362895034715252, \"rate_ResiduosByPersonal\": 1157.8947368421052}, {\"Distrito\": \"PICOTA\", \"Ingresos_Total\": 43558332.29, \"Gastos_Total\": 31221665.59, \"Personal_Limpieza\": 5, \"Residuos_Solidos\": 10000.0, \"Personal_Vigilancia\": 5, \"rate_GastosByIngresos\": 0.7167782591430338, \"rate_ResiduosByPersonal\": 2000.0}, {\"Distrito\": \"CASPISAPA\", \"Ingresos_Total\": 4163482.48, \"Gastos_Total\": 4142444.55, \"Personal_Limpieza\": 3, \"Residuos_Solidos\": 1602.0, \"Personal_Vigilancia\": 0, \"rate_GastosByIngresos\": 0.9949470353001221, \"rate_ResiduosByPersonal\": 534.0}, {\"Distrito\": \"SAN HILARION\", \"Ingresos_Total\": 2548796.24, \"Gastos_Total\": 2574055.48, \"Personal_Limpieza\": 2, \"Residuos_Solidos\": 2421.0, \"Personal_Vigilancia\": 0, \"rate_GastosByIngresos\": 1.0099102625794834, \"rate_ResiduosByPersonal\": 1210.5}, {\"Distrito\": \"RIOJA\", \"Ingresos_Total\": 39900670.81, \"Gastos_Total\": 29761822.98, \"Personal_Limpieza\": 26, \"Residuos_Solidos\": 18000.0, \"Personal_Vigilancia\": 16, \"rate_GastosByIngresos\": 0.745897810132581, \"rate_ResiduosByPersonal\": 692.3076923076923}, {\"Distrito\": \"NUEVA CAJAMARCA\", \"Ingresos_Total\": 102688777.38, \"Gastos_Total\": 102048342.95, \"Personal_Limpieza\": 16, \"Residuos_Solidos\": 26200.0, \"Personal_Vigilancia\": 7, \"rate_GastosByIngresos\": 0.9937633454566309, \"rate_ResiduosByPersonal\": 1637.5}, {\"Distrito\": \"PARDO MIGUEL\", \"Ingresos_Total\": 17817423.75, \"Gastos_Total\": 16307610.73, \"Personal_Limpieza\": 4, \"Residuos_Solidos\": 7325.0, \"Personal_Vigilancia\": 10, \"rate_GastosByIngresos\": 0.9152619906679831, \"rate_ResiduosByPersonal\": 1831.25}, {\"Distrito\": \"SAN FERNANDO\", \"Ingresos_Total\": 2882291.32, \"Gastos_Total\": 2672823.51, \"Personal_Limpieza\": 1, \"Residuos_Solidos\": 1500.0, \"Personal_Vigilancia\": 0, \"rate_GastosByIngresos\": 0.927325940807399, \"rate_ResiduosByPersonal\": 1500.0}, {\"Distrito\": \"TARAPOTO\", \"Ingresos_Total\": 58782630.55, \"Gastos_Total\": 57760777.89, \"Personal_Limpieza\": 97, \"Residuos_Solidos\": 150000.0, \"Personal_Vigilancia\": 22, \"rate_GastosByIngresos\": 0.9826164183120247, \"rate_ResiduosByPersonal\": 1546.3917525773195}, {\"Distrito\": \"ALBERTO LEVEAU\", \"Ingresos_Total\": 989709.5, \"Gastos_Total\": 959150.56, \"Personal_Limpieza\": 1, \"Residuos_Solidos\": 500.0, \"Personal_Vigilancia\": 0, \"rate_GastosByIngresos\": 0.9691233235611056, \"rate_ResiduosByPersonal\": 500.0}, {\"Distrito\": \"LA BANDA DE SHILCAYO\", \"Ingresos_Total\": 17826089.77, \"Gastos_Total\": 17996093.67, \"Personal_Limpieza\": 9, \"Residuos_Solidos\": 33600.0, \"Personal_Vigilancia\": 0, \"rate_GastosByIngresos\": 1.009536802641155, \"rate_ResiduosByPersonal\": 3733.3333333333335}, {\"Distrito\": \"TOCACHE\", \"Ingresos_Total\": 37995575.52, \"Gastos_Total\": 33759042.31, \"Personal_Limpieza\": 28, \"Residuos_Solidos\": 28112.0, \"Personal_Vigilancia\": 13, \"rate_GastosByIngresos\": 0.8884993015102512, \"rate_ResiduosByPersonal\": 1004.0}, {\"Distrito\": \"POLVORA\", \"Ingresos_Total\": 8649430.96, \"Gastos_Total\": 8802484.13, \"Personal_Limpieza\": 2, \"Residuos_Solidos\": 450.0, \"Personal_Vigilancia\": 0, \"rate_GastosByIngresos\": 1.0176951721688752, \"rate_ResiduosByPersonal\": 225.0}, {\"Distrito\": \"UCHIZA\", \"Ingresos_Total\": 12192878.56, \"Gastos_Total\": 13031632.13, \"Personal_Limpieza\": 6, \"Residuos_Solidos\": 7000.0, \"Personal_Vigilancia\": 0, \"rate_GastosByIngresos\": 1.0687904472986074, \"rate_ResiduosByPersonal\": 1166.6666666666667}, {\"Distrito\": \"TACNA\", \"Ingresos_Total\": 159599304.68, \"Gastos_Total\": 114102809.28, \"Personal_Limpieza\": 33, \"Residuos_Solidos\": 102235.0, \"Personal_Vigilancia\": 0, \"rate_GastosByIngresos\": 0.7149329974136075, \"rate_ResiduosByPersonal\": 3098.030303030303}, {\"Distrito\": \"ALTO DE LA ALIANZA\", \"Ingresos_Total\": 48073373.72, \"Gastos_Total\": 29601274.71, \"Personal_Limpieza\": 7, \"Residuos_Solidos\": 26580.0, \"Personal_Vigilancia\": 0, \"rate_GastosByIngresos\": 0.6157519728573775, \"rate_ResiduosByPersonal\": 3797.1428571428573}, {\"Distrito\": \"CALANA\", \"Ingresos_Total\": 7035433.61, \"Gastos_Total\": 5500879.92, \"Personal_Limpieza\": 3, \"Residuos_Solidos\": 7110.0, \"Personal_Vigilancia\": 0, \"rate_GastosByIngresos\": 0.7818821447168769, \"rate_ResiduosByPersonal\": 2370.0}, {\"Distrito\": \"CIUDAD NUEVA\", \"Ingresos_Total\": 36516044.3, \"Gastos_Total\": 27418107.94, \"Personal_Limpieza\": 15, \"Residuos_Solidos\": 12500.0, \"Personal_Vigilancia\": 0, \"rate_GastosByIngresos\": 0.7508509879861222, \"rate_ResiduosByPersonal\": 833.3333333333334}, {\"Distrito\": \"INCLAN\", \"Ingresos_Total\": 16394861.83, \"Gastos_Total\": 11966908.09, \"Personal_Limpieza\": 5, \"Residuos_Solidos\": 720.0, \"Personal_Vigilancia\": 3, \"rate_GastosByIngresos\": 0.7299182032813752, \"rate_ResiduosByPersonal\": 144.0}, {\"Distrito\": \"PACHIA\", \"Ingresos_Total\": 7166852.33, \"Gastos_Total\": 5309376.75, \"Personal_Limpieza\": 5, \"Residuos_Solidos\": 450.0, \"Personal_Vigilancia\": 0, \"rate_GastosByIngresos\": 0.7408240752743401, \"rate_ResiduosByPersonal\": 90.0}, {\"Distrito\": \"POCOLLAY\", \"Ingresos_Total\": 28114047.86, \"Gastos_Total\": 25617777.79, \"Personal_Limpieza\": 3, \"Residuos_Solidos\": 15000.0, \"Personal_Vigilancia\": 0, \"rate_GastosByIngresos\": 0.911209154852737, \"rate_ResiduosByPersonal\": 5000.0}, {\"Distrito\": \"SAMA\", \"Ingresos_Total\": 15329327.96, \"Gastos_Total\": 9672078.5, \"Personal_Limpieza\": 1, \"Residuos_Solidos\": 700.0, \"Personal_Vigilancia\": 3, \"rate_GastosByIngresos\": 0.6309525456848534, \"rate_ResiduosByPersonal\": 700.0}, {\"Distrito\": \"CORONEL GREGORIO ALBARRACIN LANCHIPA\", \"Ingresos_Total\": 200995108.97, \"Gastos_Total\": 114845565.43, \"Personal_Limpieza\": 86, \"Residuos_Solidos\": 81222.0, \"Personal_Vigilancia\": 3, \"rate_GastosByIngresos\": 0.5713848760724897, \"rate_ResiduosByPersonal\": 944.4418604651163}, {\"Distrito\": \"LA YARADA LOS PALOS\", \"Ingresos_Total\": 28938387.08, \"Gastos_Total\": 19086127.7, \"Personal_Limpieza\": 1, \"Residuos_Solidos\": 3314.0, \"Personal_Vigilancia\": 0, \"rate_GastosByIngresos\": 0.6595435898772283, \"rate_ResiduosByPersonal\": 3314.0}, {\"Distrito\": \"TICACO\", \"Ingresos_Total\": 4168899.32, \"Gastos_Total\": 3881264.93, \"Personal_Limpieza\": 3, \"Residuos_Solidos\": 1550.0, \"Personal_Vigilancia\": 0, \"rate_GastosByIngresos\": 0.9310047166118659, \"rate_ResiduosByPersonal\": 516.6666666666666}, {\"Distrito\": \"TUMBES\", \"Ingresos_Total\": 100568235.67, \"Gastos_Total\": 86276322.85, \"Personal_Limpieza\": 290, \"Residuos_Solidos\": 90000.0, \"Personal_Vigilancia\": 0, \"rate_GastosByIngresos\": 0.8578884005990038, \"rate_ResiduosByPersonal\": 310.3448275862069}, {\"Distrito\": \"CORRALES\", \"Ingresos_Total\": 21047369.27, \"Gastos_Total\": 19769265.35, \"Personal_Limpieza\": 24, \"Residuos_Solidos\": 12000.0, \"Personal_Vigilancia\": 6, \"rate_GastosByIngresos\": 0.9392748849699829, \"rate_ResiduosByPersonal\": 500.0}, {\"Distrito\": \"LA CRUZ\", \"Ingresos_Total\": 4229483.28, \"Gastos_Total\": 4120589.59, \"Personal_Limpieza\": 5, \"Residuos_Solidos\": 2500.0, \"Personal_Vigilancia\": 11, \"rate_GastosByIngresos\": 0.974253665804774, \"rate_ResiduosByPersonal\": 500.0}, {\"Distrito\": \"PAMPAS DE HOSPITAL\", \"Ingresos_Total\": 4759070.92, \"Gastos_Total\": 3781285.54, \"Personal_Limpieza\": 17, \"Residuos_Solidos\": 3000.0, \"Personal_Vigilancia\": 0, \"rate_GastosByIngresos\": 0.7945428012238994, \"rate_ResiduosByPersonal\": 176.47058823529412}, {\"Distrito\": \"SAN JACINTO\", \"Ingresos_Total\": 9767262.5, \"Gastos_Total\": 8119504.29, \"Personal_Limpieza\": 11, \"Residuos_Solidos\": 5000.0, \"Personal_Vigilancia\": 0, \"rate_GastosByIngresos\": 0.8312978472729693, \"rate_ResiduosByPersonal\": 454.54545454545456}, {\"Distrito\": \"SAN JUAN DE LA VIRGEN\", \"Ingresos_Total\": 2155227.4, \"Gastos_Total\": 1743603.06, \"Personal_Limpieza\": 1, \"Residuos_Solidos\": 4000.0, \"Personal_Vigilancia\": 0, \"rate_GastosByIngresos\": 0.8090111790523822, \"rate_ResiduosByPersonal\": 4000.0}, {\"Distrito\": \"ZORRITOS\", \"Ingresos_Total\": 35261629.93, \"Gastos_Total\": 23903296.79, \"Personal_Limpieza\": 22, \"Residuos_Solidos\": 31000.0, \"Personal_Vigilancia\": 28, \"rate_GastosByIngresos\": 0.6778840580384935, \"rate_ResiduosByPersonal\": 1409.090909090909}, {\"Distrito\": \"CANOAS DE PUNTA SAL\", \"Ingresos_Total\": 32088159.82, \"Gastos_Total\": 14119507.58, \"Personal_Limpieza\": 5, \"Residuos_Solidos\": 6500.0, \"Personal_Vigilancia\": 0, \"rate_GastosByIngresos\": 0.4400223527682492, \"rate_ResiduosByPersonal\": 1300.0}, {\"Distrito\": \"ZARUMILLA\", \"Ingresos_Total\": 42872186.82, \"Gastos_Total\": 31005497.34, \"Personal_Limpieza\": 9, \"Residuos_Solidos\": 24000.0, \"Personal_Vigilancia\": 7, \"rate_GastosByIngresos\": 0.7232077400244917, \"rate_ResiduosByPersonal\": 2666.6666666666665}, {\"Distrito\": \"PAPAYAL\", \"Ingresos_Total\": 6945220.16, \"Gastos_Total\": 5315674.31, \"Personal_Limpieza\": 2, \"Residuos_Solidos\": 2500.0, \"Personal_Vigilancia\": 0, \"rate_GastosByIngresos\": 0.765371606304846, \"rate_ResiduosByPersonal\": 1250.0}, {\"Distrito\": \"CALLERIA\", \"Ingresos_Total\": 179874340.9, \"Gastos_Total\": 144880313.36, \"Personal_Limpieza\": 116, \"Residuos_Solidos\": 191000.0, \"Personal_Vigilancia\": 87, \"rate_GastosByIngresos\": 0.8054529213844086, \"rate_ResiduosByPersonal\": 1646.551724137931}, {\"Distrito\": \"CAMPOVERDE\", \"Ingresos_Total\": 21226786.84, \"Gastos_Total\": 26029948.55, \"Personal_Limpieza\": 12, \"Residuos_Solidos\": 15000.0, \"Personal_Vigilancia\": 5, \"rate_GastosByIngresos\": 1.2262783221127405, \"rate_ResiduosByPersonal\": 1250.0}, {\"Distrito\": \"YARINACOCHA\", \"Ingresos_Total\": 42923561.73, \"Gastos_Total\": 31549472.55, \"Personal_Limpieza\": 54, \"Residuos_Solidos\": 95000.0, \"Personal_Vigilancia\": 0, \"rate_GastosByIngresos\": 0.7350152521930524, \"rate_ResiduosByPersonal\": 1759.2592592592594}, {\"Distrito\": \"NUEVA REQUENA\", \"Ingresos_Total\": 5891285.76, \"Gastos_Total\": 5298413.27, \"Personal_Limpieza\": 2, \"Residuos_Solidos\": 3400.0, \"Personal_Vigilancia\": 0, \"rate_GastosByIngresos\": 0.8993644996775711, \"rate_ResiduosByPersonal\": 1700.0}, {\"Distrito\": \"MANANTAY\", \"Ingresos_Total\": 36907723.79, \"Gastos_Total\": 36287863.64, \"Personal_Limpieza\": 10, \"Residuos_Solidos\": 64000.0, \"Personal_Vigilancia\": 0, \"rate_GastosByIngresos\": 0.9832051373981522, \"rate_ResiduosByPersonal\": 6400.0}, {\"Distrito\": \"RAIMONDI\", \"Ingresos_Total\": 85248020.04, \"Gastos_Total\": 54378995.4, \"Personal_Limpieza\": 68, \"Residuos_Solidos\": 22158.0, \"Personal_Vigilancia\": 0, \"rate_GastosByIngresos\": 0.6378915941330289, \"rate_ResiduosByPersonal\": 325.8529411764706}, {\"Distrito\": \"SEPAHUA\", \"Ingresos_Total\": 17935427.79, \"Gastos_Total\": 15304550.24, \"Personal_Limpieza\": 1, \"Residuos_Solidos\": 3500.0, \"Personal_Vigilancia\": 0, \"rate_GastosByIngresos\": 0.8533139225445818, \"rate_ResiduosByPersonal\": 3500.0}, {\"Distrito\": \"CURIMANA\", \"Ingresos_Total\": 13139854.58, \"Gastos_Total\": 12214407.65, \"Personal_Limpieza\": 2, \"Residuos_Solidos\": 6000.0, \"Personal_Vigilancia\": 2, \"rate_GastosByIngresos\": 0.9295694694058022, \"rate_ResiduosByPersonal\": 3000.0}, {\"Distrito\": \"PURUS\", \"Ingresos_Total\": 8185867.56, \"Gastos_Total\": 7116701.83, \"Personal_Limpieza\": 7, \"Residuos_Solidos\": 350.0, \"Personal_Vigilancia\": 10, \"rate_GastosByIngresos\": 0.8693888311576837, \"rate_ResiduosByPersonal\": 50.0}], \"data-bbf30b4861847fbd84e11991a1d344c9\": [{\"x\": 0.0, \"y\": 66789.0}, {\"x\": 0.8095683255325037, \"y\": 66789.0}, {\"x\": 2.422192490924885, \"y\": 80.0}, {\"x\": 2.422192490924885, \"y\": 0.0}]}}, {\"mode\": \"vega-lite\"});\n",
       "</script>"
      ],
      "text/plain": [
       "alt.LayerChart(...)"
      ]
     },
     "execution_count": 33,
     "metadata": {},
     "output_type": "execute_result"
    }
   ],
   "source": [
    "points + text + alt.Chart(envelope).mark_line(color='red').encode(\n",
    "    x='x',\n",
    "    y='y',\n",
    ")"
   ]
  },
  {
   "cell_type": "markdown",
   "id": "5w0mDGeiY2hW",
   "metadata": {
    "id": "5w0mDGeiY2hW"
   },
   "source": [
    "The presence of several units (DMUs), several inputs, and several outputs makes it difficult to judge who is doing better. This an optimization problem that may be carried out using **Pyfrontier**:"
   ]
  },
  {
   "cell_type": "code",
   "execution_count": 29,
   "id": "uJvJD60aWzgf",
   "metadata": {
    "colab": {
     "base_uri": "https://localhost:8080/"
    },
    "id": "uJvJD60aWzgf",
    "outputId": "0b052833-460a-494b-f387-e220dd5978d7"
   },
   "outputs": [
    {
     "name": "stdout",
     "output_type": "stream",
     "text": [
      "Collecting Pyfrontier\n",
      "  Downloading Pyfrontier-1.0.2-py3-none-any.whl.metadata (2.7 kB)\n",
      "Requirement already satisfied: numpy>=1.21 in /usr/local/lib/python3.10/dist-packages (from Pyfrontier) (1.26.4)\n",
      "Requirement already satisfied: pulp>=2.6.0 in /usr/local/lib/python3.10/dist-packages (from Pyfrontier) (2.9.0)\n",
      "Downloading Pyfrontier-1.0.2-py3-none-any.whl (15 kB)\n",
      "Installing collected packages: Pyfrontier\n",
      "Successfully installed Pyfrontier-1.0.2\n"
     ]
    }
   ],
   "source": [
    "## installation\n",
    "#!pip install Pyfrontier"
   ]
  },
  {
   "cell_type": "markdown",
   "id": "cEWn48rEY5DR",
   "metadata": {
    "id": "cEWn48rEY5DR"
   },
   "source": [
    "Let me recover the names for each group of variables:"
   ]
  },
  {
   "cell_type": "code",
   "execution_count": 30,
   "id": "6xpmnd3SWzdg",
   "metadata": {
    "colab": {
     "base_uri": "https://localhost:8080/"
    },
    "id": "6xpmnd3SWzdg",
    "outputId": "c7e5e76b-2f94-4d41-a0db-db5fd98f7242"
   },
   "outputs": [
    {
     "name": "stdout",
     "output_type": "stream",
     "text": [
      "<class 'pandas.core.frame.DataFrame'>\n",
      "Index: 864 entries, 0 to 1873\n",
      "Data columns (total 8 columns):\n",
      " #   Column                   Non-Null Count  Dtype  \n",
      "---  ------                   --------------  -----  \n",
      " 0   Distrito                 864 non-null    object \n",
      " 1   Ingresos_Total           864 non-null    float64\n",
      " 2   Gastos_Total             864 non-null    float64\n",
      " 3   Personal_Limpieza        864 non-null    int64  \n",
      " 4   Residuos_Solidos         864 non-null    float64\n",
      " 5   Personal_Vigilancia      864 non-null    int64  \n",
      " 6   rate_GastosByIngresos    864 non-null    float64\n",
      " 7   rate_ResiduosByPersonal  864 non-null    float64\n",
      "dtypes: float64(5), int64(2), object(1)\n",
      "memory usage: 93.0+ KB\n"
     ]
    }
   ],
   "source": [
    "renamu.info()"
   ]
  },
  {
   "cell_type": "code",
   "execution_count": 31,
   "id": "kpqFhhu4WzT0",
   "metadata": {
    "id": "kpqFhhu4WzT0"
   },
   "outputs": [],
   "source": [
    "renamuInput = renamu.columns[[1, 3]].to_list()  # Use a list for indexing\n",
    "renamuOutput = renamu.columns[[2, 4]].to_list()  # Use a list for indexing"
   ]
  },
  {
   "cell_type": "markdown",
   "id": "KUo6zTWpZGPj",
   "metadata": {
    "id": "KUo6zTWpZGPj"
   },
   "source": [
    "Let's apply the function:"
   ]
  },
  {
   "cell_type": "code",
   "execution_count": 32,
   "id": "GSKoEoTKZIXg",
   "metadata": {
    "id": "GSKoEoTKZIXg"
   },
   "outputs": [],
   "source": [
    "from Pyfrontier.frontier_model import EnvelopDEA\n",
    "\n",
    "dea_air_vrs_in = EnvelopDEA(\"VRS\", \"in\")\n",
    "dea_air_vrs_in.fit(\n",
    "    inputs=renamu[renamuInput].to_numpy(),\n",
    "    outputs=renamu[renamuOutput].to_numpy()\n",
    ")"
   ]
  },
  {
   "cell_type": "markdown",
   "id": "UMdhlxr2ZLAl",
   "metadata": {
    "id": "UMdhlxr2ZLAl"
   },
   "source": [
    "Here is the result:"
   ]
  },
  {
   "cell_type": "code",
   "execution_count": 35,
   "id": "9KoVtsqKZIVw",
   "metadata": {
    "colab": {
     "base_uri": "https://localhost:8080/",
     "height": 490
    },
    "id": "9KoVtsqKZIVw",
    "outputId": "f71b405d-768f-4698-c9db-7764e2bbdb6d"
   },
   "outputs": [
    {
     "data": {
      "text/html": [
       "<div>\n",
       "<style scoped>\n",
       "    .dataframe tbody tr th:only-of-type {\n",
       "        vertical-align: middle;\n",
       "    }\n",
       "\n",
       "    .dataframe tbody tr th {\n",
       "        vertical-align: top;\n",
       "    }\n",
       "\n",
       "    .dataframe thead th {\n",
       "        text-align: right;\n",
       "    }\n",
       "</style>\n",
       "<table border=\"1\" class=\"dataframe\">\n",
       "  <thead>\n",
       "    <tr style=\"text-align: right;\">\n",
       "      <th></th>\n",
       "      <th>vrs_in</th>\n",
       "    </tr>\n",
       "    <tr>\n",
       "      <th>Distrito</th>\n",
       "      <th></th>\n",
       "    </tr>\n",
       "  </thead>\n",
       "  <tbody>\n",
       "    <tr>\n",
       "      <th>CHACHAPOYAS</th>\n",
       "      <td>0.645615</td>\n",
       "    </tr>\n",
       "    <tr>\n",
       "      <th>BALSAS</th>\n",
       "      <td>1.000000</td>\n",
       "    </tr>\n",
       "    <tr>\n",
       "      <th>MARISCAL CASTILLA</th>\n",
       "      <td>1.000000</td>\n",
       "    </tr>\n",
       "    <tr>\n",
       "      <th>MONTEVIDEO</th>\n",
       "      <td>1.000000</td>\n",
       "    </tr>\n",
       "    <tr>\n",
       "      <th>SOLOCO</th>\n",
       "      <td>1.000000</td>\n",
       "    </tr>\n",
       "    <tr>\n",
       "      <th>...</th>\n",
       "      <td>...</td>\n",
       "    </tr>\n",
       "    <tr>\n",
       "      <th>MANANTAY</th>\n",
       "      <td>0.776966</td>\n",
       "    </tr>\n",
       "    <tr>\n",
       "      <th>RAIMONDI</th>\n",
       "      <td>0.508769</td>\n",
       "    </tr>\n",
       "    <tr>\n",
       "      <th>SEPAHUA</th>\n",
       "      <td>1.000000</td>\n",
       "    </tr>\n",
       "    <tr>\n",
       "      <th>CURIMANA</th>\n",
       "      <td>0.612039</td>\n",
       "    </tr>\n",
       "    <tr>\n",
       "      <th>PURUS</th>\n",
       "      <td>0.405448</td>\n",
       "    </tr>\n",
       "  </tbody>\n",
       "</table>\n",
       "<p>864 rows × 1 columns</p>\n",
       "</div><br><label><b>dtype:</b> float64</label>"
      ],
      "text/plain": [
       "Distrito\n",
       "CHACHAPOYAS          0.645615\n",
       "BALSAS               1.000000\n",
       "MARISCAL CASTILLA    1.000000\n",
       "MONTEVIDEO           1.000000\n",
       "SOLOCO               1.000000\n",
       "                       ...   \n",
       "MANANTAY             0.776966\n",
       "RAIMONDI             0.508769\n",
       "SEPAHUA              1.000000\n",
       "CURIMANA             0.612039\n",
       "PURUS                0.405448\n",
       "Name: vrs_in, Length: 864, dtype: float64"
      ]
     },
     "execution_count": 35,
     "metadata": {},
     "output_type": "execute_result"
    }
   ],
   "source": [
    "renamu['vrs_in']=[r.score for r in dea_air_vrs_in.result]\n",
    "renamu.set_index(renamu.Distrito,inplace=True)\n",
    "renamu['vrs_in']"
   ]
  },
  {
   "cell_type": "markdown",
   "id": "AUhOwxN8ZR-j",
   "metadata": {
    "id": "AUhOwxN8ZR-j"
   },
   "source": [
    "At this stage, you may be tempted to do a regression:"
   ]
  },
  {
   "cell_type": "code",
   "execution_count": 36,
   "id": "1ULaNpgwZITi",
   "metadata": {
    "colab": {
     "base_uri": "https://localhost:8080/"
    },
    "id": "1ULaNpgwZITi",
    "outputId": "372daec4-370e-433b-db85-a9180893fc90"
   },
   "outputs": [
    {
     "name": "stdout",
     "output_type": "stream",
     "text": [
      "Collecting py4etrics\n",
      "  Downloading py4etrics-0.1.9-py2.py3-none-any.whl.metadata (1.8 kB)\n",
      "Downloading py4etrics-0.1.9-py2.py3-none-any.whl (19 kB)\n",
      "Installing collected packages: py4etrics\n",
      "Successfully installed py4etrics-0.1.9\n"
     ]
    }
   ],
   "source": [
    "#!pip install py4etrics"
   ]
  },
  {
   "cell_type": "code",
   "execution_count": 37,
   "id": "ZClytOq5ZIQr",
   "metadata": {
    "colab": {
     "base_uri": "https://localhost:8080/",
     "height": 442
    },
    "id": "ZClytOq5ZIQr",
    "outputId": "0a972f8b-2db5-4828-c284-f06177c5f3ef"
   },
   "outputs": [
    {
     "name": "stdout",
     "output_type": "stream",
     "text": [
      "Optimization terminated successfully.\n",
      "         Current function value: 1.010423\n",
      "         Iterations: 252\n",
      "         Function evaluations: 389\n"
     ]
    },
    {
     "name": "stderr",
     "output_type": "stream",
     "text": [
      "/usr/local/lib/python3.10/dist-packages/statsmodels/base/model.py:595: HessianInversionWarning: Inverting hessian failed, no bse or cov_params available\n",
      "  warnings.warn('Inverting hessian failed, no bse or cov_params '\n"
     ]
    },
    {
     "data": {
      "text/html": [
       "<table class=\"simpletable\">\n",
       "<caption>Tobit Regression Results</caption>\n",
       "<tr>\n",
       "  <th>Dep. Variable:</th>                <td>vrs_in</td>       <th>  Pseudo R-squ:      </th>  <td>-1.593</td>  \n",
       "</tr>\n",
       "<tr>\n",
       "  <th>Method:</th>                 <td>Maximum Likelihood</td> <th>  Log-Likelihood:    </th>  <td>-873.0</td>  \n",
       "</tr>\n",
       "<tr>\n",
       "  <th>No. Observations:</th>             <td>   864</td>       <th>  LL-Null:           </th>  <td>-336.7</td>  \n",
       "</tr>\n",
       "<tr>\n",
       "  <th>No. Uncensored Obs:</th>             <td>674</td>        <th>  LL-Ratio:          </th>  <td>-1072.6</td> \n",
       "</tr>\n",
       "<tr>\n",
       "  <th>No. Left-censored Obs:</th>           <td>0</td>         <th>  LLR p-value:       </th>   <td>1.000</td>  \n",
       "</tr>\n",
       "<tr>\n",
       "  <th>No. Right-censored Obs:</th>         <td>190</td>        <th>  AIC:               </th>  <td>1752.0</td>  \n",
       "</tr>\n",
       "<tr>\n",
       "  <th>Df Residuals:</th>                 <td>   860</td>       <th>  BIC:               </th>  <td>1766.3</td>  \n",
       "</tr>\n",
       "<tr>\n",
       "  <th>Df Model:</th>                     <td>     3</td>       <th>  Covariance Type:   </th> <td>nonrobust</td>\n",
       "</tr>\n",
       "</table>\n",
       "<table class=\"simpletable\">\n",
       "<tr>\n",
       "          <td></td>             <th>coef</th>     <th>std err</th>      <th>z</th>      <th>P>|z|</th>  <th>[0.025</th>    <th>0.975]</th>  \n",
       "</tr>\n",
       "<tr>\n",
       "  <th>Ingresos_Total</th>    <td>-6.707e-09</td> <td>      nan</td> <td>      nan</td> <td>   nan</td> <td>      nan</td> <td>      nan</td>\n",
       "</tr>\n",
       "<tr>\n",
       "  <th>Gastos_Total</th>      <td> 2.392e-08</td> <td>      nan</td> <td>      nan</td> <td>   nan</td> <td>      nan</td> <td>      nan</td>\n",
       "</tr>\n",
       "<tr>\n",
       "  <th>Personal_Limpieza</th> <td>   -0.0021</td> <td>      nan</td> <td>      nan</td> <td>   nan</td> <td>      nan</td> <td>      nan</td>\n",
       "</tr>\n",
       "<tr>\n",
       "  <th>Residuos_Solidos</th>  <td>-6.602e-07</td> <td>      nan</td> <td>      nan</td> <td>   nan</td> <td>      nan</td> <td>      nan</td>\n",
       "</tr>\n",
       "<tr>\n",
       "  <th>Log(Sigma)</th>        <td>   -0.4469</td> <td>      nan</td> <td>      nan</td> <td>   nan</td> <td>      nan</td> <td>      nan</td>\n",
       "</tr>\n",
       "</table>"
      ],
      "text/latex": [
       "\\begin{center}\n",
       "\\begin{tabular}{lclc}\n",
       "\\toprule\n",
       "\\textbf{Dep. Variable:}          &      vrs\\_in       & \\textbf{  Pseudo R-squ:      } &   -1.593    \\\\\n",
       "\\textbf{Method:}                 & Maximum Likelihood & \\textbf{  Log-Likelihood:    } &   -873.0    \\\\\n",
       "\\textbf{No. Observations:}       &          864       & \\textbf{  LL-Null:           } &   -336.7    \\\\\n",
       "\\textbf{No. Uncensored Obs:}     &        674         & \\textbf{  LL-Ratio:          } &  -1072.6    \\\\\n",
       "\\textbf{No. Left-censored Obs:}  &         0          & \\textbf{  LLR p-value:       } &   1.000     \\\\\n",
       "\\textbf{No. Right-censored Obs:} &        190         & \\textbf{  AIC:               } &   1752.0    \\\\\n",
       "\\textbf{Df Residuals:}           &          860       & \\textbf{  BIC:               } &   1766.3    \\\\\n",
       "\\textbf{Df Model:}               &            3       & \\textbf{  Covariance Type:   } & nonrobust   \\\\\n",
       "\\bottomrule\n",
       "\\end{tabular}\n",
       "\\begin{tabular}{lcccccc}\n",
       "                            & \\textbf{coef} & \\textbf{std err} & \\textbf{z} & \\textbf{P$> |$z$|$} & \\textbf{[0.025} & \\textbf{0.975]}  \\\\\n",
       "\\midrule\n",
       "\\textbf{Ingresos\\_Total}    &   -6.707e-09  &          nan     &       nan  &           nan        &          nan    &          nan     \\\\\n",
       "\\textbf{Gastos\\_Total}      &    2.392e-08  &          nan     &       nan  &           nan        &          nan    &          nan     \\\\\n",
       "\\textbf{Personal\\_Limpieza} &      -0.0021  &          nan     &       nan  &           nan        &          nan    &          nan     \\\\\n",
       "\\textbf{Residuos\\_Solidos}  &   -6.602e-07  &          nan     &       nan  &           nan        &          nan    &          nan     \\\\\n",
       "\\textbf{Log(Sigma)}         &      -0.4469  &          nan     &       nan  &           nan        &          nan    &          nan     \\\\\n",
       "\\bottomrule\n",
       "\\end{tabular}\n",
       "%\\caption{Tobit Regression Results}\n",
       "\\end{center}"
      ],
      "text/plain": [
       "<class 'statsmodels.iolib.summary.Summary'>\n",
       "\"\"\"\n",
       "                              Tobit Regression Results                             \n",
       "===================================================================================\n",
       "Dep. Variable:                      vrs_in   Pseudo R-squ:                   -1.593\n",
       "Method:                 Maximum Likelihood   Log-Likelihood:                 -873.0\n",
       "No. Observations:                      864   LL-Null:                        -336.7\n",
       "No. Uncensored Obs:                    674   LL-Ratio:                      -1072.6\n",
       "No. Left-censored Obs:                   0   LLR p-value:                     1.000\n",
       "No. Right-censored Obs:                190   AIC:                            1752.0\n",
       "Df Residuals:                          860   BIC:                            1766.3\n",
       "Df Model:                                3   Covariance Type:             nonrobust\n",
       "=====================================================================================\n",
       "                        coef    std err          z      P>|z|      [0.025      0.975]\n",
       "-------------------------------------------------------------------------------------\n",
       "Ingresos_Total    -6.707e-09        nan        nan        nan         nan         nan\n",
       "Gastos_Total       2.392e-08        nan        nan        nan         nan         nan\n",
       "Personal_Limpieza    -0.0021        nan        nan        nan         nan         nan\n",
       "Residuos_Solidos  -6.602e-07        nan        nan        nan         nan         nan\n",
       "Log(Sigma)           -0.4469        nan        nan        nan         nan         nan\n",
       "=====================================================================================\n",
       "\"\"\""
      ]
     },
     "execution_count": 37,
     "metadata": {},
     "output_type": "execute_result"
    }
   ],
   "source": [
    "import numpy as np # linear algebra\n",
    "from py4etrics import tobit\n",
    "# import statsmodels.api as sm\n",
    "\n",
    "renamu['censored'] =np.where(renamu['vrs_in']==1, 1, 0)\n",
    "cens = renamu['censored']\n",
    "endog = renamu.loc[:,'vrs_in']\n",
    "exog = renamu.loc[:,'Ingresos_Total':'Residuos_Solidos']\n",
    "\n",
    "tobit_res = tobit.Tobit(endog, exog, cens,right=1).fit()\n",
    "tobit_res.summary()"
   ]
  },
  {
   "cell_type": "markdown",
   "id": "QKc2QDmSZcTj",
   "metadata": {
    "id": "QKc2QDmSZcTj"
   },
   "source": [
    "\n",
    "### 1. **Resumen General del Modelo:**\n",
    "   - **Dependiente (Variable endógena):** La variable dependiente es `vrs_in`, que parece ser una medida de eficiencia en los municipios. Esta variable se obtiene a través de un análisis de envolvente de datos (DEA) utilizando un enfoque de \"Variable Returns to Scale\" (VRS), donde se mide la eficiencia técnica de los municipios en términos de la relación entre sus inputs (por ejemplo, ingresos y personal) y outputs (por ejemplo, residuos sólidos, gastos).\n",
    "   - **Número de Observaciones:** El modelo se ha ajustado a 864 observaciones, de las cuales 674 no están censuradas (es decir, tienen valores observados) y 190 están censuradas a la derecha (es decir, no se sabe el valor exacto, pero se sabe que está por encima de un cierto umbral).\n",
    "   - **Pseudo R-cuadrado:** El valor negativo de -1.593 sugiere que el modelo no explica bien la variabilidad de la variable dependiente (algo común en modelos Tobit, ya que el objetivo no es predecir un valor exacto sino estimar la probabilidad de que la variable dependiente esté censurada).\n",
    "   - **Log-Likelihood:** Este valor es -873, que indica la bondad de ajuste del modelo. Cuanto más cerca de cero sea el log-likelihood, mejor es el ajuste del modelo.\n",
    "   - **AIC (Criterio de Información de Akaike):** 1752.0. Este es un indicador del ajuste del modelo penalizado por la complejidad (número de parámetros estimados). Un AIC más bajo indica un mejor modelo ajustado.\n",
    "   - **BIC (Criterio de Información Bayesiano):** 1766.3, similar al AIC, pero penaliza más los modelos con más parámetros. Un valor más bajo de BIC también indica mejor ajuste.\n",
    "\n",
    "### 2. **Coeficientes de la Regresión Tobit:**\n",
    "   Los coeficientes estimados para cada variable explicativa indican cómo afectan las variables predictoras a la variable dependiente `vrs_in`. En este caso, los coeficientes tienen una magnitud muy pequeña, lo que sugiere que el impacto de cada una de las variables independientes sobre la eficiencia es bajo. Sin embargo, el error estándar y la significancia de los coeficientes no están disponibles, lo que indica problemas con la convergencia del modelo.\n",
    "\n",
    "   - **`Ingresos_Total`:** El coeficiente estimado es **-6.707e-09**. Este valor es extremadamente pequeño, lo que sugiere que los ingresos totales no tienen un impacto significativo en la eficiencia medida por `vrs_in` (probablemente debido a una alta multicolinealidad o falta de variabilidad en la variable).\n",
    "   - **`Gastos_Total`:** El coeficiente estimado es **2.392e-08**. Aunque es pequeño, indica una relación positiva con la eficiencia, lo que sugiere que un aumento en los gastos podría estar asociado a un pequeño aumento en la eficiencia de los municipios. Al igual que en el caso de los ingresos, la falta de significancia y la magnitud pequeña podrían ser indicativos de un problema en el ajuste del modelo.\n",
    "   - **`Personal_Limpieza`:** El coeficiente estimado es **-0.0021**, lo que indica que un aumento en el personal de limpieza está asociado a una disminución en la eficiencia de los municipios. Sin embargo, el hecho de que el error estándar no esté disponible sugiere que esta estimación podría no ser fiable.\n",
    "   - **`Residuos_Solidos`:** El coeficiente estimado es **-6.602e-07**, lo que sugiere que un aumento en los residuos sólidos está asociado a una disminución en la eficiencia, pero nuevamente, la falta de significancia y la magnitud pequeña podrían cuestionar la validez de este resultado.\n",
    "\n",
    "### 3. **Problemas con la Convergencia:**\n",
    "   - El **`HessianInversionWarning`** indica que hubo un problema al intentar invertir la matriz Hessiana, que es una parte esencial del cálculo de los errores estándar y la covarianza de los coeficientes. Esto sugiere que el modelo podría no haber convergido correctamente, lo que puede ser el resultado de multicolinealidad entre las variables predictoras, una distribución sesgada de los datos, o un modelo mal especificado.\n",
    "   \n",
    "   - Además, la presencia de **\"nan\" (Not a Number)** en los errores estándar sugiere que el modelo no ha podido estimar correctamente los parámetros de manera fiable, lo que podría deberse a la colinealidad entre las variables, la censura en los datos o problemas en la estructura del modelo.\n",
    "\n",
    "### 4. **Variables Censuradas:**\n",
    "   - La **variable censurada** se ha creado para indicar si la variable dependiente (`vrs_in`) es igual a 1, que indica que la observación está en el límite superior de la eficiencia. El modelo Tobit se utiliza precisamente para lidiar con estas observaciones censuradas, por lo que la censura es un aspecto importante a considerar en la interpretación de los resultados.\n",
    "\n",
    "### Conclusión:\n",
    "El modelo Tobit que has ajustado no parece ofrecer resultados claros y fiables debido a problemas con la convergencia y la falta de significancia de los coeficientes. La interpretación de los coeficientes debe tomarse con cautela debido a los problemas de estimación, y podría ser útil revisar los datos (por ejemplo, comprobando la multicolinealidad entre variables), ajustar el modelo o explorar otras metodologías de análisis como el modelo de fronteras eficientes o regresión con otro tipo de restricciones.\n",
    "\n",
    "Además, sería importante examinar los errores y el ajuste del modelo en más detalle para determinar si hay alguna especificación incorrecta o un problema con la selección de las variables independientes.\n",
    "\n",
    "\n",
    "Nota: Los resultados del modelo de regresión Tobit proporcionan un análisis de la eficiencia en el sector público, específicamente, de los municipios, utilizando las variables seleccionadas para el análisis.\n",
    "\n"
   ]
  }
 ],
 "metadata": {
  "colab": {
   "provenance": []
  },
  "kernelspec": {
   "display_name": "Python 3 (ipykernel)",
   "language": "python",
   "name": "python3"
  },
  "language_info": {
   "codemirror_mode": {
    "name": "ipython",
    "version": 3
   },
   "file_extension": ".py",
   "mimetype": "text/x-python",
   "name": "python",
   "nbconvert_exporter": "python",
   "pygments_lexer": "ipython3",
   "version": "3.12.4"
  }
 },
 "nbformat": 4,
 "nbformat_minor": 5
}
